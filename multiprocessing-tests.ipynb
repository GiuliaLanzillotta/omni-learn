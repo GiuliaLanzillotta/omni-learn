{
 "cells": [
  {
   "cell_type": "code",
   "execution_count": 2,
   "metadata": {},
   "outputs": [],
   "source": [
    "import sys, os, time\n",
    "#%load_ext autoreload\n",
    "#%autoreload 2\n",
    "import torch\n",
    "import torch.nn.functional as F\n",
    "from torch.autograd import Variable, grad\n",
    "import torch.distributions as distrib\n",
    "import torch.nn as nn\n",
    "import torch.utils.data as td\n",
    "from torch.utils.data import Dataset, DataLoader\n",
    "import gym\n",
    "import numpy as np\n",
    "#%matplotlib notebook\n",
    "%matplotlib tk\n",
    "\n",
    "import matplotlib.pyplot as plt\n",
    "#plt.switch_backend('Qt5Agg') #('Qt5Agg')\n",
    "from scipy.sparse import coo_matrix\n",
    "#from envs import Discrete_Pos_Trap, Gym_Env, Print_Env\n",
    "from torch.distributions.utils import lazy_property\n",
    "import foundation as fd\n",
    "from foundation.util import replicate, Cloner\n",
    "import torch.multiprocessing as mp\n",
    "import time"
   ]
  },
  {
   "cell_type": "code",
   "execution_count": 13,
   "metadata": {},
   "outputs": [
    {
     "name": "stdout",
     "output_type": "stream",
     "text": [
      "{}\n",
      "sub: False\n",
      "sub: True\n",
      "subprocess: {'list_item': ['test'], 't': tensor([ 0.,  1.,  5.,  3.,  4.,  5.,  6.,  7.,  8.,  9.])}\n",
      "{'list_item': ['test'], 't': tensor([ 0.,  1.,  5.,  3.,  4.,  5.,  6.,  7.,  8.,  9.])}\n",
      "subprocess: {'list_item': ['test'], 't': tensor([  0.,   1.,   5.,   3.,  10.,   5.,   6.,   7.,   8.,   9.])}\n",
      "main process: {'list_item': ['test'], 't': tensor([  0.,   1.,   5.,   3.,  10.,   5.,   6.,   7.,   8.,   9.])}\n"
     ]
    }
   ],
   "source": [
    "def mysubprocess(shared_dict):\n",
    "    item = shared_dict['list_item'] = list()\n",
    "    item.append('test')\n",
    "    shared_dict['list_item'] = item\n",
    "    a = torch.arange(10)\n",
    "    print('sub: {}'.format(a.is_shared()))\n",
    "    shared_dict['t'] = a\n",
    "    a[2] = 5\n",
    "    print('sub: {}'.format(a.is_shared()))\n",
    "    print('subprocess:', shared_dict)\n",
    "    time.sleep(1)\n",
    "    print('subprocess:', shared_dict)\n",
    "\n",
    "manager = mp.Manager()\n",
    "shared_dict = manager.dict()\n",
    "p = mp.Process(target=mysubprocess, args=(shared_dict,))\n",
    "print(shared_dict)\n",
    "p.start()\n",
    "time.sleep(0.1)\n",
    "print(shared_dict)\n",
    "shared_dict['t'][4] = 10\n",
    "p.join()\n",
    "print('main process:', shared_dict)"
   ]
  },
  {
   "cell_type": "code",
   "execution_count": 15,
   "metadata": {},
   "outputs": [
    {
     "data": {
      "text/plain": [
       "<PoolProxy object, typeid 'Pool' at 0x7f9d2865cf98>"
      ]
     },
     "execution_count": 15,
     "metadata": {},
     "output_type": "execute_result"
    }
   ],
   "source": [
    "manager.Pool()"
   ]
  },
  {
   "cell_type": "code",
   "execution_count": null,
   "metadata": {
    "collapsed": true
   },
   "outputs": [],
   "source": []
  },
  {
   "cell_type": "code",
   "execution_count": 2,
   "metadata": {
    "collapsed": true
   },
   "outputs": [],
   "source": [
    "class Test(object):\n",
    "    def __init__(self, x=1):\n",
    "        self.a = 2*x\n",
    "        self.b = 'asdf'\n",
    "        self.timeout = 1\n",
    "    def c(self):\n",
    "        return 5\n",
    "    def d(self, x):\n",
    "        return x + self.a\n",
    "    def e(self, x, y):\n",
    "        return x+y\n",
    "    def __len__(self):\n",
    "        return 100\n",
    "    def __getitem__(self, item):\n",
    "        return item + 1\n",
    "    def __iter__(self):\n",
    "        return iter(range(self.a))\n",
    "    def __next__(self):\n",
    "        return self.a+1\n",
    "    def __add__(self, other):\n",
    "        self.a += other\n",
    "        return self.a\n",
    "    def wait(self, tim=1):\n",
    "        #print('starting {}'.format(self.a))\n",
    "        time.sleep(tim)\n",
    "        #print('{} done'.format(self.a))\n",
    "    \n",
    "t = Test()"
   ]
  },
  {
   "cell_type": "code",
   "execution_count": 3,
   "metadata": {},
   "outputs": [
    {
     "name": "stdout",
     "output_type": "stream",
     "text": [
      "total 0.10030627250671387\n"
     ]
    }
   ],
   "source": [
    "start = time.time()\n",
    "t.wait(0.1)\n",
    "print('total {}'.format(time.time() - start))"
   ]
  },
  {
   "cell_type": "code",
   "execution_count": 4,
   "metadata": {
    "collapsed": true
   },
   "outputs": [],
   "source": [
    "#m, r = replicate(Test, separate_args=True, unique_init_kwargs=[{'x':5}, {'x':3}, {'x':-4}, {'x':3}])"
   ]
  },
  {
   "cell_type": "code",
   "execution_count": 9,
   "metadata": {
    "collapsed": true
   },
   "outputs": [],
   "source": [
    "m, c = clone(Test, num_clones=3, num_workers=3)"
   ]
  },
  {
   "cell_type": "code",
   "execution_count": 10,
   "metadata": {},
   "outputs": [
    {
     "name": "stdout",
     "output_type": "stream",
     "text": [
      "total 0.10194635391235352\n"
     ]
    }
   ],
   "source": [
    "start = time.time()\n",
    "c.wait(0.1)\n",
    "print('total {}'.format(time.time() - start))"
   ]
  },
  {
   "cell_type": "code",
   "execution_count": 7,
   "metadata": {},
   "outputs": [
    {
     "data": {
      "text/plain": [
       "['asdf',\n",
       " 'asdf',\n",
       " 'asdf',\n",
       " 'asdf',\n",
       " 'asdf',\n",
       " 'asdf',\n",
       " 'asdf',\n",
       " 'asdf',\n",
       " 'asdf',\n",
       " 'asdf']"
      ]
     },
     "execution_count": 7,
     "metadata": {},
     "output_type": "execute_result"
    }
   ],
   "source": [
    "c.b"
   ]
  },
  {
   "cell_type": "code",
   "execution_count": 13,
   "metadata": {},
   "outputs": [
    {
     "data": {
      "text/plain": [
       "[1, 3, 5, 7]"
      ]
     },
     "execution_count": 13,
     "metadata": {},
     "output_type": "execute_result"
    }
   ],
   "source": [
    "r.e([1,2,3,4], [0,1,2,3])"
   ]
  },
  {
   "cell_type": "code",
   "execution_count": 22,
   "metadata": {},
   "outputs": [
    {
     "data": {
      "text/plain": [
       "[100, 100, 100, 100]"
      ]
     },
     "execution_count": 22,
     "metadata": {},
     "output_type": "execute_result"
    }
   ],
   "source": [
    "r.__len__()"
   ]
  },
  {
   "cell_type": "code",
   "execution_count": 10,
   "metadata": {},
   "outputs": [
    {
     "data": {
      "text/plain": [
       "[14, 10, -4, 10]"
      ]
     },
     "execution_count": 10,
     "metadata": {},
     "output_type": "execute_result"
    }
   ],
   "source": [
    "r.d(4)"
   ]
  },
  {
   "cell_type": "code",
   "execution_count": 23,
   "metadata": {},
   "outputs": [
    {
     "data": {
      "text/plain": [
       "[13, 9, -5, 9]"
      ]
     },
     "execution_count": 23,
     "metadata": {},
     "output_type": "execute_result"
    }
   ],
   "source": [
    "r + 3"
   ]
  },
  {
   "cell_type": "code",
   "execution_count": 6,
   "metadata": {
    "collapsed": true
   },
   "outputs": [],
   "source": [
    "r.hello = 'world'"
   ]
  },
  {
   "cell_type": "code",
   "execution_count": 9,
   "metadata": {},
   "outputs": [
    {
     "data": {
      "text/plain": [
       "[AttributeError(\"'super' object has no attribute '__getattr__'\"),\n",
       " AttributeError(\"'super' object has no attribute '__getattr__'\")]"
      ]
     },
     "execution_count": 9,
     "metadata": {},
     "output_type": "execute_result"
    }
   ],
   "source": [
    "r.test"
   ]
  },
  {
   "cell_type": "code",
   "execution_count": 8,
   "metadata": {
    "collapsed": true
   },
   "outputs": [],
   "source": [
    "m[0].test = 'works'"
   ]
  },
  {
   "cell_type": "code",
   "execution_count": 12,
   "metadata": {},
   "outputs": [
    {
     "data": {
      "text/plain": [
       "100"
      ]
     },
     "execution_count": 12,
     "metadata": {},
     "output_type": "execute_result"
    }
   ],
   "source": [
    "m[0].__len__()"
   ]
  },
  {
   "cell_type": "code",
   "execution_count": 24,
   "metadata": {},
   "outputs": [
    {
     "name": "stdout",
     "output_type": "stream",
     "text": [
      "0 0 None 0\n",
      "1 1 None 1\n",
      "2 2 None 2\n",
      "3 3 None 3\n",
      "4 4 None 4\n",
      "5 5 None 5\n",
      "6 6 None 6\n",
      "7 7 None 7\n",
      "8 8 None 8\n",
      "9 None None None\n",
      "10 None None None\n",
      "11 None None None\n",
      "12 None None None\n"
     ]
    }
   ],
   "source": [
    "for i, j, k, l in r:\n",
    "    print(i,j, k, l)"
   ]
  },
  {
   "cell_type": "code",
   "execution_count": 7,
   "metadata": {},
   "outputs": [
    {
     "name": "stdout",
     "output_type": "stream",
     "text": [
      "collecting\n",
      "collected: 101\n",
      "collected: 101\n"
     ]
    },
    {
     "data": {
      "text/plain": [
       "[101, 101]"
      ]
     },
     "execution_count": 7,
     "metadata": {},
     "output_type": "execute_result"
    }
   ],
   "source": [
    "r[100]"
   ]
  },
  {
   "cell_type": "code",
   "execution_count": 16,
   "metadata": {},
   "outputs": [
    {
     "name": "stdout",
     "output_type": "stream",
     "text": [
      "first __class__\n",
      "first __class__\n",
      "first _make_getter\n",
      "first _execute\n",
      "first replicas\n",
      "first in_queues\n",
      "first out_queues\n",
      "first timeout\n"
     ]
    },
    {
     "data": {
      "text/plain": [
       "15"
      ]
     },
     "execution_count": 16,
     "metadata": {},
     "output_type": "execute_result"
    }
   ],
   "source": [
    "r[0].d(5)"
   ]
  },
  {
   "cell_type": "code",
   "execution_count": 17,
   "metadata": {},
   "outputs": [
    {
     "name": "stdout",
     "output_type": "stream",
     "text": [
      "first timeout\n"
     ]
    },
    {
     "data": {
      "text/plain": [
       "20"
      ]
     },
     "execution_count": 17,
     "metadata": {},
     "output_type": "execute_result"
    }
   ],
   "source": [
    "r.timeout"
   ]
  },
  {
   "cell_type": "code",
   "execution_count": 18,
   "metadata": {},
   "outputs": [
    {
     "name": "stdout",
     "output_type": "stream",
     "text": [
      "first replicas\n"
     ]
    },
    {
     "data": {
      "text/plain": [
       "2"
      ]
     },
     "execution_count": 18,
     "metadata": {},
     "output_type": "execute_result"
    }
   ],
   "source": [
    "len(r)"
   ]
  },
  {
   "cell_type": "code",
   "execution_count": 24,
   "metadata": {},
   "outputs": [
    {
     "data": {
      "text/plain": [
       "dict_keys(['a', 'b'])"
      ]
     },
     "execution_count": 24,
     "metadata": {},
     "output_type": "execute_result"
    }
   ],
   "source": [
    "t.__dict__.keys()"
   ]
  },
  {
   "cell_type": "code",
   "execution_count": 25,
   "metadata": {},
   "outputs": [
    {
     "data": {
      "text/plain": [
       "8"
      ]
     },
     "execution_count": 25,
     "metadata": {},
     "output_type": "execute_result"
    }
   ],
   "source": [
    "getattr(Test, 'd')(t, 6)"
   ]
  },
  {
   "cell_type": "code",
   "execution_count": 2,
   "metadata": {},
   "outputs": [
    {
     "data": {
      "text/plain": [
       "'0.3.0.post4'"
      ]
     },
     "execution_count": 2,
     "metadata": {},
     "output_type": "execute_result"
    }
   ],
   "source": [
    "torch.__version__"
   ]
  },
  {
   "cell_type": "code",
   "execution_count": 4,
   "metadata": {},
   "outputs": [
    {
     "name": "stdout",
     "output_type": "stream",
     "text": [
      "passed\n",
      "passed\n",
      "passed\n",
      "passed\n"
     ]
    }
   ],
   "source": [
    "import torch\n",
    "from torch.autograd import grad\n",
    "import torch.distributions as distrib\n",
    "def get_n():\n",
    "    mu = torch.Tensor([1,2])#torch.randn(2)\n",
    "    mu.requires_grad = True\n",
    "    sigma = torch.Tensor([2,3])#torch.rand(2) * 10 + 1\n",
    "    sigma.requires_grad = True\n",
    "\n",
    "    n = distrib.MultivariateNormal(loc=mu, covariance_matrix=torch.diag(sigma))\n",
    "    return n\n",
    "def check(fn):\n",
    "    try:\n",
    "        fn()\n",
    "    except Exception as e:\n",
    "        return 'failed - {}'.format(e)\n",
    "    return 'passed'\n",
    "def test1():\n",
    "    n = get_n()\n",
    "    s = torch.ones(2)\n",
    "    grad(n.log_prob(s).sum(), n.covariance_matrix)#, retain_graph=True))\n",
    "def test2():\n",
    "    n = get_n()\n",
    "    grad(n.log_prob(n.sample()).sum(), n.covariance_matrix)\n",
    "def test3():\n",
    "    n = get_n()\n",
    "    s = torch.ones(2)\n",
    "    grad(n.log_prob(s).sum(), n.covariance_matrix, retain_graph=True)\n",
    "    grad(n.log_prob(n.sample()).sum(), n.covariance_matrix, retain_graph=True)\n",
    "def test4():\n",
    "    n = get_n()\n",
    "    grad(n.log_prob(n.sample()).sum(), n.covariance_matrix, retain_graph=True)\n",
    "print(check(test1))\n",
    "print(check(test2))\n",
    "print(check(test3))\n",
    "print(check(test4))"
   ]
  },
  {
   "cell_type": "code",
   "execution_count": 3,
   "metadata": {
    "collapsed": true
   },
   "outputs": [],
   "source": [
    "mp.freeze_support()\n",
    "mp.set_start_method('spawn')"
   ]
  },
  {
   "cell_type": "code",
   "execution_count": 4,
   "metadata": {
    "collapsed": true
   },
   "outputs": [],
   "source": [
    "def play(iq, oq, private, i=None):\n",
    "    print('test')\n",
    "    m = None\n",
    "    while True:\n",
    "        print('prepping')\n",
    "        r = iq.get()\n",
    "        print('got {}'.format(r))\n",
    "        if r is None:\n",
    "            print('killing w{}'.format(i))\n",
    "            break\n",
    "        if r[0] == 'init':\n",
    "            m = r[1]\n",
    "            print(m.net.bias.storage().data_ptr(), m.net.bias.data[0])\n",
    "            m.net.bias.data[0] = i\n",
    "            print(m.net.bias.storage().data_ptr(), m.net.bias.data[0])\n",
    "        elif r[0] == 'a':\n",
    "            oq.put(m.a(*r[1:]))\n",
    "        elif r[0] == 'b':\n",
    "            oq.put(m.b(*r[1:]))\n",
    "        elif r[0] == 'c':\n",
    "            oq.put(m.c(*r[1:]))\n",
    "        elif r[0] == 'p':\n",
    "            oq.put(private)\n",
    "        else:\n",
    "            print('w{} died: {}'.format(i,r))\n",
    "            break\n",
    "        #print('w{}'.format(i))\n",
    "        \n",
    "class Model(object):\n",
    "    def __init__(self, n,m):\n",
    "        self.shape = n,m\n",
    "        self.net = nn.Linear(n,m)\n",
    "    def cuda(self):\n",
    "        self.net.cuda()\n",
    "    def cpu(self):\n",
    "        self.net.cpu()\n",
    "    def copy(self):\n",
    "        return Model(*self.shape)\n",
    "    def a(self, x):\n",
    "        return self.net(x)\n",
    "    def b(self, x):\n",
    "        return self.net.bias[0] + x\n",
    "    def c(self, x):\n",
    "        self.net.bias[0] += x\n",
    "        return self.net.bias"
   ]
  },
  {
   "cell_type": "code",
   "execution_count": 5,
   "metadata": {},
   "outputs": [
    {
     "name": "stdout",
     "output_type": "stream",
     "text": [
      "0.0008473396301269531\n"
     ]
    }
   ],
   "source": [
    "start = time.time()\n",
    "#m = Model(200000,1000)\n",
    "m = Model(3,10)\n",
    "#m.cuda()\n",
    "a = m.net\n",
    "print(time.time() - start)"
   ]
  },
  {
   "cell_type": "code",
   "execution_count": 6,
   "metadata": {},
   "outputs": [
    {
     "data": {
      "text/plain": [
       "<bound method Model.a of <__main__.Model object at 0x7fb6da847668>>"
      ]
     },
     "execution_count": 6,
     "metadata": {},
     "output_type": "execute_result"
    }
   ],
   "source": [
    "m.__getattribute__('a')"
   ]
  },
  {
   "cell_type": "code",
   "execution_count": 7,
   "metadata": {},
   "outputs": [
    {
     "name": "stdout",
     "output_type": "stream",
     "text": [
      "93921918596608 tensor(0.2623) False\n"
     ]
    }
   ],
   "source": [
    "print(a.bias.storage().data_ptr(), a.bias[0], a.bias.storage().is_shared())"
   ]
  },
  {
   "cell_type": "code",
   "execution_count": 29,
   "metadata": {},
   "outputs": [
    {
     "name": "stdout",
     "output_type": "stream",
     "text": [
      "test\n",
      "prepping\n",
      "test\n",
      "prepping\n",
      "test\n",
      "prepping\n",
      "got None\n",
      "got None\n",
      "got None\n",
      "killing w2\n",
      "killing w1\n",
      "killing w0\n"
     ]
    }
   ],
   "source": [
    "iq = mp.Queue()\n",
    "oq = mp.Queue()\n",
    "num = 3\n",
    "l = nn.Linear(3,4)\n",
    "workers = [mp.Process(target=play, args=(iq,oq,l,i)) for i in range(num)]\n",
    "for w in workers:\n",
    "    w.daemon = True\n",
    "    w.start()"
   ]
  },
  {
   "cell_type": "code",
   "execution_count": 38,
   "metadata": {},
   "outputs": [
    {
     "data": {
      "text/plain": [
       "False"
      ]
     },
     "execution_count": 38,
     "metadata": {},
     "output_type": "execute_result"
    }
   ],
   "source": [
    "workers[0].is_alive()"
   ]
  },
  {
   "cell_type": "code",
   "execution_count": 37,
   "metadata": {},
   "outputs": [
    {
     "data": {
      "text/plain": [
       "[<Process(Process-6, started daemon)>,\n",
       " <Process(Process-1, started daemon)>,\n",
       " <Process(Process-4, started daemon)>,\n",
       " <Process(Process-3, started daemon)>,\n",
       " <Process(Process-2, started daemon)>,\n",
       " <Process(Process-5, started daemon)>]"
      ]
     },
     "execution_count": 37,
     "metadata": {},
     "output_type": "execute_result"
    }
   ],
   "source": [
    "mp.active_children()"
   ]
  },
  {
   "cell_type": "code",
   "execution_count": 32,
   "metadata": {},
   "outputs": [
    {
     "data": {
      "text/plain": [
       "Parameter containing:\n",
       "tensor([[-0.2374, -0.4831,  0.1673],\n",
       "        [-0.4746,  0.1704,  0.3808],\n",
       "        [ 0.5721, -0.4562,  0.1819],\n",
       "        [-0.0998,  0.2670,  0.2239]])"
      ]
     },
     "execution_count": 32,
     "metadata": {},
     "output_type": "execute_result"
    }
   ],
   "source": [
    "t = list(l.parameters())[0]\n",
    "t"
   ]
  },
  {
   "cell_type": "code",
   "execution_count": 24,
   "metadata": {},
   "outputs": [
    {
     "data": {
      "text/plain": [
       "False"
      ]
     },
     "execution_count": 24,
     "metadata": {},
     "output_type": "execute_result"
    }
   ],
   "source": [
    "t.is_shared()"
   ]
  },
  {
   "cell_type": "code",
   "execution_count": 25,
   "metadata": {
    "collapsed": true
   },
   "outputs": [],
   "source": [
    "ms = [m.copy() for _ in range(num)]\n",
    "ms = [m]*num"
   ]
  },
  {
   "cell_type": "code",
   "execution_count": 26,
   "metadata": {},
   "outputs": [
    {
     "name": "stdout",
     "output_type": "stream",
     "text": [
      "0.018649816513061523\n"
     ]
    }
   ],
   "source": [
    "# dispatch\n",
    "N = num\n",
    "start = time.time()\n",
    "for i in range(N):\n",
    "    iq.put(('init', ms[i]))\n",
    "    time.sleep(0.001) # allow time for tensors to copy\n",
    "print(time.time() - start)"
   ]
  },
  {
   "cell_type": "code",
   "execution_count": 27,
   "metadata": {},
   "outputs": [
    {
     "name": "stdout",
     "output_type": "stream",
     "text": [
      "140425204940800 tensor(1.) True\n"
     ]
    }
   ],
   "source": [
    "print(a.bias.storage().data_ptr(), a.bias[0], a.bias.storage().is_shared())"
   ]
  },
  {
   "cell_type": "code",
   "execution_count": 28,
   "metadata": {},
   "outputs": [
    {
     "name": "stdout",
     "output_type": "stream",
     "text": [
      "140425204940800 tensor(1.) True\n"
     ]
    }
   ],
   "source": [
    "print(a.bias.storage().data_ptr(), a.bias[0], a.bias.storage().is_shared())"
   ]
  },
  {
   "cell_type": "code",
   "execution_count": 141,
   "metadata": {},
   "outputs": [
    {
     "name": "stdout",
     "output_type": "stream",
     "text": [
      "140076987572224 tensor(47.) True\n",
      "140076987572224 tensor(47.) True\n",
      "140076987572224 tensor(47.) True\n",
      "140076987572224 tensor(47.) True\n",
      "140076987572224 tensor(47.) True\n",
      "140076987572224 tensor(47.) True\n",
      "140076987572224 tensor(47.) True\n",
      "140076987572224 tensor(47.) True\n",
      "140076987572224 tensor(47.) True\n",
      "140076987572224 tensor(47.) True\n"
     ]
    }
   ],
   "source": [
    "for o in output:\n",
    "    print(o.storage().data_ptr(), o[0], o.storage().is_shared())"
   ]
  },
  {
   "cell_type": "code",
   "execution_count": 36,
   "metadata": {
    "collapsed": true
   },
   "outputs": [],
   "source": [
    "for _ in workers:\n",
    "    iq.put(None)\n",
    "for w in workers:\n",
    "    w.join()"
   ]
  },
  {
   "cell_type": "code",
   "execution_count": 19,
   "metadata": {
    "collapsed": true
   },
   "outputs": [],
   "source": [
    "#start = time.time()\n",
    "#result = pool.map(lambda x: play(a,x), range(10))\n",
    "#print(time.time() - start)"
   ]
  },
  {
   "cell_type": "code",
   "execution_count": null,
   "metadata": {
    "collapsed": true
   },
   "outputs": [],
   "source": [
    "env = fd.util.get_env('pendulum')"
   ]
  },
  {
   "cell_type": "code",
   "execution_count": null,
   "metadata": {
    "collapsed": true
   },
   "outputs": [],
   "source": [
    "pool = mp.Pool(4)"
   ]
  },
  {
   "cell_type": "code",
   "execution_count": null,
   "metadata": {
    "collapsed": true
   },
   "outputs": [],
   "source": [
    "N = 4\n",
    "pool.map(lambda x: play(*x), zip([env]*N))"
   ]
  },
  {
   "cell_type": "code",
   "execution_count": 5,
   "metadata": {},
   "outputs": [
    {
     "data": {
      "text/plain": [
       "(9, 111, 2)"
      ]
     },
     "execution_count": 5,
     "metadata": {},
     "output_type": "execute_result"
    }
   ],
   "source": [
    "data = np.stack(data[3:])\n",
    "data.shape"
   ]
  },
  {
   "cell_type": "code",
   "execution_count": null,
   "metadata": {
    "collapsed": true
   },
   "outputs": [],
   "source": []
  }
 ],
 "metadata": {
  "kernelspec": {
   "display_name": "Python 3",
   "language": "python",
   "name": "python3"
  },
  "language_info": {
   "codemirror_mode": {
    "name": "ipython",
    "version": 3
   },
   "file_extension": ".py",
   "mimetype": "text/x-python",
   "name": "python",
   "nbconvert_exporter": "python",
   "pygments_lexer": "ipython3",
   "version": "3.5.5"
  }
 },
 "nbformat": 4,
 "nbformat_minor": 2
}
