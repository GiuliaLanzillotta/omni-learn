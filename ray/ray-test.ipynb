{
 "cells": [
  {
   "cell_type": "code",
   "execution_count": 1,
   "metadata": {},
   "outputs": [
    {
     "name": "stderr",
     "output_type": "stream",
     "text": [
      "/home/fleeb/anaconda3/lib/python3.6/site-packages/h5py/__init__.py:34: FutureWarning: Conversion of the second argument of issubdtype from `float` to `np.floating` is deprecated. In future, it will be treated as `np.float64 == np.dtype(float).type`.\n",
      "  from ._conv import register_converters as _register_converters\n"
     ]
    }
   ],
   "source": [
    "import sys, os\n",
    "%load_ext autoreload\n",
    "%autoreload 2\n",
    "import torch\n",
    "import torch.nn.functional as F\n",
    "from torch.autograd import Variable\n",
    "import torch.distributions as distrib\n",
    "import torch.nn as nn\n",
    "import torch.utils.data as td\n",
    "from torch.utils.data import Dataset, DataLoader\n",
    "import gym\n",
    "import numpy as np\n",
    "#%matplotlib notebook\n",
    "import matplotlib.pyplot as plt\n",
    "plt.switch_backend('TKAgg') #('Qt5Agg')\n",
    "from scipy.sparse import coo_matrix\n",
    "#from envs import Discrete_Pos_Trap, Gym_Env, Print_Env\n",
    "from torch.distributions.utils import lazy_property\n",
    "import foundation as fd\n",
    "import ray\n",
    "#import sequential_ray as ray"
   ]
  },
  {
   "cell_type": "code",
   "execution_count": 2,
   "metadata": {},
   "outputs": [
    {
     "name": "stdout",
     "output_type": "stream",
     "text": [
      "Process STDOUT and STDERR is being redirected to /tmp/raylogs/.\n",
      "Waiting for redis server at 127.0.0.1:58934 to respond...\n",
      "Waiting for redis server at 127.0.0.1:37367 to respond...\n",
      "Starting local scheduler with the following resources: {'CPU': 8, 'GPU': 0}.\n",
      "\n",
      "======================================================================\n",
      "View the web UI at http://localhost:8889/notebooks/ray_ui76960.ipynb?token=a1903c26eea2ab7a3bf98b4688f755b7800590b3a8b0cf7b\n",
      "======================================================================\n",
      "\n"
     ]
    },
    {
     "data": {
      "text/plain": [
       "{'local_scheduler_socket_names': ['/tmp/scheduler1734591'],\n",
       " 'node_ip_address': '127.0.0.1',\n",
       " 'object_store_addresses': [ObjectStoreAddress(name='/tmp/plasma_store47471166', manager_name='/tmp/plasma_manager21668872', manager_port=13234)],\n",
       " 'redis_address': '127.0.0.1:58934',\n",
       " 'webui_url': 'http://localhost:8889/notebooks/ray_ui76960.ipynb?token=a1903c26eea2ab7a3bf98b4688f755b7800590b3a8b0cf7b'}"
      ]
     },
     "execution_count": 2,
     "metadata": {},
     "output_type": "execute_result"
    }
   ],
   "source": [
    "ray.init(redirect_worker_output=False, redirect_output=False)"
   ]
  },
  {
   "cell_type": "code",
   "execution_count": 3,
   "metadata": {},
   "outputs": [
    {
     "name": "stdout",
     "output_type": "stream",
     "text": [
      "\u001b[33mWARN: gym.spaces.Box autodetected dtype as <class 'numpy.float32'>. Please provide explicit dtype.\u001b[0m\n",
      "<foundation.envs.general.GymEnv object at 0x7f8afb064860>\n"
     ]
    }
   ],
   "source": [
    "env = fd.util.get_env('cartpole')\n",
    "print(env)"
   ]
  },
  {
   "cell_type": "code",
   "execution_count": 3,
   "metadata": {
    "collapsed": true
   },
   "outputs": [],
   "source": [
    "class Net(nn.Module):\n",
    "    def __init__(self):\n",
    "        super(Net, self).__init__()\n",
    "        self.layer = nn.Linear(10,10)\n",
    "        \n",
    "    def forward(self, x):\n",
    "        return self.layer(x)"
   ]
  },
  {
   "cell_type": "code",
   "execution_count": 42,
   "metadata": {},
   "outputs": [
    {
     "name": "stdout",
     "output_type": "stream",
     "text": [
      "[Parameter containing:\n",
      "tensor([[-0.2803,  0.1722,  0.1926,  0.0343,  0.2413, -0.1546, -0.0713,\n",
      "         -0.3091,  0.1581, -0.2792],\n",
      "        [-0.0791, -0.2604, -0.1234, -0.0609,  0.2831, -0.0431,  0.2172,\n",
      "         -0.0222,  0.0312,  0.0840],\n",
      "        [-0.1822, -0.2972,  0.1844,  0.1027,  0.2662, -0.2672,  0.3119,\n",
      "          0.1271,  0.0159, -0.1915],\n",
      "        [ 0.2191, -0.2943,  0.1295,  0.0075,  0.0440, -0.0787, -0.2511,\n",
      "         -0.1577,  0.1129, -0.1511],\n",
      "        [-0.2874, -0.2944,  0.1503,  0.0745, -0.2493,  0.1051, -0.2933,\n",
      "         -0.2560, -0.2219,  0.1242],\n",
      "        [ 0.0267, -0.2038,  0.1651,  0.2291,  0.1258, -0.1417,  0.2241,\n",
      "          0.1861, -0.3013, -0.2173],\n",
      "        [-0.1352, -0.2952, -0.1533, -0.1663, -0.1900, -0.2311,  0.0845,\n",
      "          0.1739, -0.0236,  0.1423],\n",
      "        [-0.0065, -0.2335, -0.2206, -0.0934, -0.0611,  0.2480, -0.1714,\n",
      "          0.0322, -0.0525, -0.2977],\n",
      "        [-0.1030,  0.1067,  0.0006,  0.0393, -0.2684,  0.1351,  0.0434,\n",
      "         -0.1972, -0.1552, -0.3085],\n",
      "        [ 0.2473, -0.1433,  0.0254,  0.0003, -0.2497, -0.0150,  0.1038,\n",
      "         -0.2986, -0.0064, -0.2376]]), Parameter containing:\n",
      "tensor([ 0.0717,  0.1920,  0.1297,  0.0542,  0.2959, -0.1541, -0.1987,\n",
      "        -0.1806, -0.1788, -0.1749])]\n",
      "[Parameter containing:\n",
      "tensor([]), Parameter containing:\n",
      "tensor([])]\n"
     ]
    }
   ],
   "source": [
    "t = Net()\n",
    "t_id = ray.put(t)\n",
    "print(list(t.layer.parameters()))\n",
    "print(list(ray.get(t_id).layer.parameters()))"
   ]
  },
  {
   "cell_type": "code",
   "execution_count": 36,
   "metadata": {
    "collapsed": true
   },
   "outputs": [],
   "source": [
    "@ray.remote\n",
    "def test(e):\n",
    "    x = torch.randn(10)\n",
    "    return e.layer\n",
    "    return list(e.parameters())\n",
    "    #return e(x)"
   ]
  },
  {
   "cell_type": "code",
   "execution_count": 39,
   "metadata": {},
   "outputs": [
    {
     "name": "stdout",
     "output_type": "stream",
     "text": [
      "[Parameter containing:\n",
      "tensor([]), Parameter containing:\n",
      "tensor([])]\n"
     ]
    }
   ],
   "source": [
    "print(list(ray.get(test.remote(t)).parameters()))"
   ]
  },
  {
   "cell_type": "code",
   "execution_count": 38,
   "metadata": {},
   "outputs": [
    {
     "name": "stdout",
     "output_type": "stream",
     "text": [
      "Linear(in_features=10, out_features=10, bias=True)\n"
     ]
    }
   ],
   "source": [
    "print(ray.get(test.remote(t)))"
   ]
  },
  {
   "cell_type": "code",
   "execution_count": 19,
   "metadata": {
    "collapsed": true
   },
   "outputs": [],
   "source": [
    "@ray.remote\n",
    "def test(n):\n",
    "    return {n[0][1]+4:1}"
   ]
  },
  {
   "cell_type": "code",
   "execution_count": 20,
   "metadata": {},
   "outputs": [
    {
     "name": "stdout",
     "output_type": "stream",
     "text": [
      "Remote function \u001b[31m__main__.test\u001b[39m failed with:\n",
      "\n",
      "Traceback (most recent call last):\n",
      "  File \"<ipython-input-19-e0162ab9c08b>\", line 3, in test\n",
      "TypeError: 'common.ObjectID' object is not subscriptable\n",
      "\n",
      "\n",
      "  You can inspect errors by running\n",
      "\n",
      "      ray.error_info()\n",
      "\n",
      "  If this driver is hanging, start a new one with\n",
      "\n",
      "      ray.init(redis_address=\"127.0.0.1:59309\")\n",
      "  \n",
      "Remote function \u001b[31m__main__.test\u001b[39m failed with:\n",
      "\n",
      "Traceback (most recent call last):\n",
      "  File \"<ipython-input-19-e0162ab9c08b>\", line 3, in test\n",
      "TypeError: 'common.ObjectID' object is not subscriptable\n",
      "\n",
      "\n",
      "  You can inspect errors by running\n",
      "\n",
      "      ray.error_info()\n",
      "\n",
      "  If this driver is hanging, start a new one with\n",
      "\n",
      "      ray.init(redis_address=\"127.0.0.1:59309\")\n",
      "  \n",
      "Remote function \u001b[31m__main__.test\u001b[39m failed with:\n",
      "\n",
      "Traceback (most recent call last):\n",
      "  File \"<ipython-input-19-e0162ab9c08b>\", line 3, in test\n",
      "TypeError: 'common.ObjectID' object is not subscriptable\n",
      "\n",
      "\n",
      "  You can inspect errors by running\n",
      "\n",
      "      ray.error_info()\n",
      "\n",
      "  If this driver is hanging, start a new one with\n",
      "\n",
      "      ray.init(redis_address=\"127.0.0.1:59309\")\n",
      "  \n",
      "Remote function \u001b[31m__main__.test\u001b[39m failed with:\n",
      "\n",
      "Traceback (most recent call last):\n",
      "  File \"<ipython-input-19-e0162ab9c08b>\", line 3, in test\n",
      "TypeError: 'common.ObjectID' object is not subscriptable\n",
      "\n",
      "\n",
      "  You can inspect errors by running\n",
      "\n",
      "      ray.error_info()\n",
      "\n",
      "  If this driver is hanging, start a new one with\n",
      "\n",
      "      ray.init(redis_address=\"127.0.0.1:59309\")\n",
      "  \n",
      "Remote function \u001b[31m__main__.test\u001b[39m failed with:\n",
      "\n",
      "Traceback (most recent call last):\n",
      "  File \"<ipython-input-19-e0162ab9c08b>\", line 3, in test\n",
      "TypeError: 'common.ObjectID' object is not subscriptable\n",
      "\n",
      "\n",
      "  You can inspect errors by running\n",
      "\n",
      "      ray.error_info()\n",
      "\n",
      "  If this driver is hanging, start a new one with\n",
      "\n",
      "      ray.init(redis_address=\"127.0.0.1:59309\")\n",
      "  \n",
      "Remote function \u001b[31m__main__.test\u001b[39m failed with:\n",
      "\n",
      "Traceback (most recent call last):\n",
      "  File \"<ipython-input-19-e0162ab9c08b>\", line 3, in test\n",
      "TypeError: 'common.ObjectID' object is not subscriptable\n",
      "\n",
      "\n",
      "  You can inspect errors by running\n",
      "\n",
      "      ray.error_info()\n",
      "\n",
      "  If this driver is hanging, start a new one with\n",
      "\n",
      "      ray.init(redis_address=\"127.0.0.1:59309\")\n",
      "  \n",
      "Remote function \u001b[31m__main__.test\u001b[39m failed with:\n",
      "\n",
      "Traceback (most recent call last):\n",
      "  File \"<ipython-input-19-e0162ab9c08b>\", line 3, in test\n",
      "TypeError: 'common.ObjectID' object is not subscriptable\n",
      "\n",
      "\n",
      "  You can inspect errors by running\n",
      "\n",
      "      ray.error_info()\n",
      "\n",
      "  If this driver is hanging, start a new one with\n",
      "\n",
      "      ray.init(redis_address=\"127.0.0.1:59309\")\n",
      "  \n",
      "Remote function \u001b[31m__main__.test\u001b[39m failed with:\n",
      "\n",
      "Traceback (most recent call last):\n",
      "  File \"<ipython-input-19-e0162ab9c08b>\", line 3, in test\n",
      "TypeError: 'common.ObjectID' object is not subscriptable\n",
      "\n",
      "\n",
      "  You can inspect errors by running\n",
      "\n",
      "      ray.error_info()\n",
      "\n",
      "  If this driver is hanging, start a new one with\n",
      "\n",
      "      ray.init(redis_address=\"127.0.0.1:59309\")\n",
      "  \n",
      "Remote function \u001b[31m__main__.test\u001b[39m failed with:\n",
      "\n",
      "Traceback (most recent call last):\n",
      "  File \"<ipython-input-19-e0162ab9c08b>\", line 3, in test\n",
      "TypeError: 'common.ObjectID' object is not subscriptable\n",
      "\n",
      "\n",
      "  You can inspect errors by running\n",
      "\n",
      "      ray.error_info()\n",
      "\n",
      "  If this driver is hanging, start a new one with\n",
      "\n",
      "      ray.init(redis_address=\"127.0.0.1:59309\")\n",
      "  \n",
      "Remote function \u001b[31m__main__.test\u001b[39m failed with:\n",
      "\n",
      "Traceback (most recent call last):\n",
      "  File \"<ipython-input-19-e0162ab9c08b>\", line 3, in test\n",
      "TypeError: 'common.ObjectID' object is not subscriptable\n",
      "\n",
      "\n",
      "  You can inspect errors by running\n",
      "\n",
      "      ray.error_info()\n",
      "\n",
      "  If this driver is hanging, start a new one with\n",
      "\n",
      "      ray.init(redis_address=\"127.0.0.1:59309\")\n",
      "  \n"
     ]
    }
   ],
   "source": [
    "j = [test.remote([ray.put({1:i})]) for i in range(10)]"
   ]
  },
  {
   "cell_type": "code",
   "execution_count": 16,
   "metadata": {},
   "outputs": [
    {
     "data": {
      "text/plain": [
       "{4: 1}"
      ]
     },
     "execution_count": 16,
     "metadata": {},
     "output_type": "execute_result"
    }
   ],
   "source": [
    "ray.get(j[0])"
   ]
  },
  {
   "cell_type": "code",
   "execution_count": 17,
   "metadata": {},
   "outputs": [
    {
     "data": {
      "text/plain": [
       "{4: 1}"
      ]
     },
     "execution_count": 17,
     "metadata": {},
     "output_type": "execute_result"
    }
   ],
   "source": [
    "ray.get(j[0])"
   ]
  },
  {
   "cell_type": "code",
   "execution_count": 18,
   "metadata": {
    "collapsed": true
   },
   "outputs": [],
   "source": [
    "@ray.remote\n",
    "def test2(ls):\n",
    "    return [l+1 for l in ls]"
   ]
  },
  {
   "cell_type": "code",
   "execution_count": 19,
   "metadata": {},
   "outputs": [
    {
     "name": "stdout",
     "output_type": "stream",
     "text": [
      "Remote function \u001b[31m__main__.test2\u001b[39m failed with:\n",
      "\n",
      "Traceback (most recent call last):\n",
      "  File \"<ipython-input-18-d6e74c6d8a6f>\", line 3, in test2\n",
      "  File \"<ipython-input-18-d6e74c6d8a6f>\", line 3, in <listcomp>\n",
      "TypeError: unsupported operand type(s) for +: 'common.ObjectID' and 'int'\n",
      "\n",
      "\n",
      "  You can inspect errors by running\n",
      "\n",
      "      ray.error_info()\n",
      "\n",
      "  If this driver is hanging, start a new one with\n",
      "\n",
      "      ray.init(redis_address=\"127.0.0.1:21234\")\n",
      "  \n"
     ]
    },
    {
     "ename": "RayGetError",
     "evalue": "Could not get objectid ObjectID(e199949e5af0df2f663fc0158dd02027d0ebc5fc). It was created by remote function \u001b[31m__main__.test2\u001b[39m which failed with:\n\nRemote function \u001b[31m__main__.test2\u001b[39m failed with:\n\nTraceback (most recent call last):\n  File \"<ipython-input-18-d6e74c6d8a6f>\", line 3, in test2\n  File \"<ipython-input-18-d6e74c6d8a6f>\", line 3, in <listcomp>\nTypeError: unsupported operand type(s) for +: 'common.ObjectID' and 'int'\n",
     "output_type": "error",
     "traceback": [
      "\u001b[0;31m---------------------------------------------------------------------------\u001b[0m",
      "\u001b[0;31mRayGetError\u001b[0m                               Traceback (most recent call last)",
      "\u001b[0;32m<ipython-input-19-a51b4e843b41>\u001b[0m in \u001b[0;36m<module>\u001b[0;34m()\u001b[0m\n\u001b[0;32m----> 1\u001b[0;31m \u001b[0mray\u001b[0m\u001b[0;34m.\u001b[0m\u001b[0mget\u001b[0m\u001b[0;34m(\u001b[0m\u001b[0mtest2\u001b[0m\u001b[0;34m.\u001b[0m\u001b[0mremote\u001b[0m\u001b[0;34m(\u001b[0m\u001b[0mj\u001b[0m\u001b[0;34m)\u001b[0m\u001b[0;34m)\u001b[0m\u001b[0;34m\u001b[0m\u001b[0m\n\u001b[0m",
      "\u001b[0;32m~/anaconda3/lib/python3.6/site-packages/ray/worker.py\u001b[0m in \u001b[0;36mget\u001b[0;34m(object_ids, worker)\u001b[0m\n\u001b[1;32m   2319\u001b[0m                 \u001b[0;31m# this object failed, and we should propagate the error message\u001b[0m\u001b[0;34m\u001b[0m\u001b[0;34m\u001b[0m\u001b[0m\n\u001b[1;32m   2320\u001b[0m                 \u001b[0;31m# here.\u001b[0m\u001b[0;34m\u001b[0m\u001b[0;34m\u001b[0m\u001b[0m\n\u001b[0;32m-> 2321\u001b[0;31m                 \u001b[0;32mraise\u001b[0m \u001b[0mRayGetError\u001b[0m\u001b[0;34m(\u001b[0m\u001b[0mobject_ids\u001b[0m\u001b[0;34m,\u001b[0m \u001b[0mvalue\u001b[0m\u001b[0;34m)\u001b[0m\u001b[0;34m\u001b[0m\u001b[0m\n\u001b[0m\u001b[1;32m   2322\u001b[0m             \u001b[0;32mreturn\u001b[0m \u001b[0mvalue\u001b[0m\u001b[0;34m\u001b[0m\u001b[0m\n\u001b[1;32m   2323\u001b[0m \u001b[0;34m\u001b[0m\u001b[0m\n",
      "\u001b[0;31mRayGetError\u001b[0m: Could not get objectid ObjectID(e199949e5af0df2f663fc0158dd02027d0ebc5fc). It was created by remote function \u001b[31m__main__.test2\u001b[39m which failed with:\n\nRemote function \u001b[31m__main__.test2\u001b[39m failed with:\n\nTraceback (most recent call last):\n  File \"<ipython-input-18-d6e74c6d8a6f>\", line 3, in test2\n  File \"<ipython-input-18-d6e74c6d8a6f>\", line 3, in <listcomp>\nTypeError: unsupported operand type(s) for +: 'common.ObjectID' and 'int'\n"
     ]
    }
   ],
   "source": [
    "ray.get(test2.remote(j))"
   ]
  },
  {
   "cell_type": "code",
   "execution_count": 16,
   "metadata": {},
   "outputs": [
    {
     "data": {
      "text/plain": [
       "5"
      ]
     },
     "execution_count": 16,
     "metadata": {},
     "output_type": "execute_result"
    }
   ],
   "source": [
    "ray.get(test.remote(1))"
   ]
  },
  {
   "cell_type": "code",
   "execution_count": 7,
   "metadata": {
    "collapsed": true
   },
   "outputs": [],
   "source": [
    "@ray.remote\n",
    "def test():\n",
    "    print('worked')"
   ]
  },
  {
   "cell_type": "code",
   "execution_count": 8,
   "metadata": {},
   "outputs": [
    {
     "name": "stdout",
     "output_type": "stream",
     "text": [
      "decorator\n",
      "worked\n"
     ]
    }
   ],
   "source": [
    "test()"
   ]
  },
  {
   "cell_type": "code",
   "execution_count": 17,
   "metadata": {},
   "outputs": [
    {
     "data": {
      "text/plain": [
       "4"
      ]
     },
     "execution_count": 17,
     "metadata": {},
     "output_type": "execute_result"
    }
   ],
   "source": [
    "ray.get(x)"
   ]
  },
  {
   "cell_type": "code",
   "execution_count": 18,
   "metadata": {},
   "outputs": [
    {
     "data": {
      "text/plain": [
       "{3: 4}"
      ]
     },
     "execution_count": 18,
     "metadata": {},
     "output_type": "execute_result"
    }
   ],
   "source": [
    "t.a"
   ]
  },
  {
   "cell_type": "code",
   "execution_count": 19,
   "metadata": {},
   "outputs": [
    {
     "ename": "Exception",
     "evalue": "Remote functions cannot be called directly. Instead of running '__main__.get_a()', try '__main__.get_a.remote()'.",
     "output_type": "error",
     "traceback": [
      "\u001b[0;31m------------------------\u001b[0m",
      "\u001b[0;31mException\u001b[0mTraceback (most recent call last)",
      "\u001b[0;32m<ipython-input-19-bf1f42851413>\u001b[0m in \u001b[0;36m<module>\u001b[0;34m()\u001b[0m\n\u001b[0;32m----> 1\u001b[0;31m \u001b[0mt\u001b[0m\u001b[0;34m.\u001b[0m\u001b[0mget_a\u001b[0m\u001b[0;34m(\u001b[0m\u001b[0;34m)\u001b[0m\u001b[0;34m\u001b[0m\u001b[0m\n\u001b[0m",
      "\u001b[0;32m~/anaconda3/envs/cse/lib/python3.6/site-packages/ray/worker.py\u001b[0m in \u001b[0;36mfunc_invoker\u001b[0;34m(*args, **kwargs)\u001b[0m\n\u001b[1;32m   2616\u001b[0m                 raise Exception(\"Remote functions cannot be called directly. \"\n\u001b[1;32m   2617\u001b[0m                                 \u001b[0;34m\"Instead of running '{}()', try '{}.remote()'.\"\u001b[0m\u001b[0;34m\u001b[0m\u001b[0m\n\u001b[0;32m-> 2618\u001b[0;31m                                 .format(func_name, func_name))\n\u001b[0m\u001b[1;32m   2619\u001b[0m             \u001b[0mfunc_invoker\u001b[0m\u001b[0;34m.\u001b[0m\u001b[0mremote\u001b[0m \u001b[0;34m=\u001b[0m \u001b[0mfunc_call\u001b[0m\u001b[0;34m\u001b[0m\u001b[0m\n\u001b[1;32m   2620\u001b[0m             \u001b[0mfunc_invoker\u001b[0m\u001b[0;34m.\u001b[0m\u001b[0m_submit\u001b[0m \u001b[0;34m=\u001b[0m \u001b[0m_submit\u001b[0m\u001b[0;34m\u001b[0m\u001b[0m\n",
      "\u001b[0;31mException\u001b[0m: Remote functions cannot be called directly. Instead of running '__main__.get_a()', try '__main__.get_a.remote()'."
     ]
    }
   ],
   "source": [
    "t.get_a()"
   ]
  },
  {
   "cell_type": "code",
   "execution_count": 4,
   "metadata": {
    "collapsed": true
   },
   "outputs": [],
   "source": [
    "@ray.remote\n",
    "def a(x):\n",
    "    x[10] = 5\n",
    "    return x\n",
    "    \n",
    "@ray.remote\n",
    "def a():\n",
    "    print('a')"
   ]
  },
  {
   "cell_type": "code",
   "execution_count": 5,
   "metadata": {
    "collapsed": true
   },
   "outputs": [],
   "source": [
    "j = [p.remote(x) for x in range(10)]"
   ]
  },
  {
   "cell_type": "code",
   "execution_count": 6,
   "metadata": {
    "collapsed": true
   },
   "outputs": [],
   "source": [
    "ray.get(j[0])"
   ]
  },
  {
   "cell_type": "code",
   "execution_count": 7,
   "metadata": {
    "collapsed": true
   },
   "outputs": [],
   "source": [
    "ray.get(a.remote())"
   ]
  },
  {
   "cell_type": "code",
   "execution_count": null,
   "metadata": {
    "collapsed": true
   },
   "outputs": [],
   "source": []
  }
 ],
 "metadata": {
  "kernelspec": {
   "display_name": "Python 3",
   "language": "python",
   "name": "python3"
  },
  "language_info": {
   "codemirror_mode": {
    "name": "ipython",
    "version": 3
   },
   "file_extension": ".py",
   "mimetype": "text/x-python",
   "name": "python",
   "nbconvert_exporter": "python",
   "pygments_lexer": "ipython3",
   "version": "3.6.3"
  }
 },
 "nbformat": 4,
 "nbformat_minor": 2
}
