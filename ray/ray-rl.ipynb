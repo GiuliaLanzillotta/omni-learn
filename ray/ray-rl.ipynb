{
 "cells": [
  {
   "cell_type": "code",
   "execution_count": 1,
   "metadata": {},
   "outputs": [
    {
     "name": "stderr",
     "output_type": "stream",
     "text": [
      "/home/fleeb/anaconda3/lib/python3.6/site-packages/h5py/__init__.py:34: FutureWarning: Conversion of the second argument of issubdtype from `float` to `np.floating` is deprecated. In future, it will be treated as `np.float64 == np.dtype(float).type`.\n",
      "  from ._conv import register_converters as _register_converters\n"
     ]
    },
    {
     "name": "stdout",
     "output_type": "stream",
     "text": [
      "using sequential\n",
      "prep done\n"
     ]
    }
   ],
   "source": [
    "import sys, os\n",
    "%load_ext autoreload\n",
    "%autoreload 2\n",
    "import torch\n",
    "import torch.nn.functional as F\n",
    "from torch.autograd import grad\n",
    "import torch.distributions as distrib\n",
    "import torch.nn as nn\n",
    "import torch.utils.data as td\n",
    "from torch.utils.data import Dataset, DataLoader\n",
    "import gym\n",
    "import numpy as np\n",
    "#%matplotlib notebook\n",
    "import matplotlib.pyplot as plt\n",
    "plt.switch_backend('TKAgg') #('Qt5Agg')\n",
    "from scipy.sparse import coo_matrix\n",
    "#from envs import Discrete_Pos_Trap, Gym_Env, Print_Env\n",
    "from torch.distributions.utils import lazy_property\n",
    "import foundation as fd\n",
    "from foundation.util import NS\n",
    "#import ray\n",
    "import sequential_ray as ray\n",
    "from ray_rl_backend import *\n",
    "from ray_rl_core import *\n",
    "print('prep done')"
   ]
  },
  {
   "cell_type": "code",
   "execution_count": 2,
   "metadata": {},
   "outputs": [
    {
     "name": "stdout",
     "output_type": "stream",
     "text": [
      "Sequential Ray initialized.\n"
     ]
    }
   ],
   "source": [
    "ray.init()"
   ]
  },
  {
   "cell_type": "code",
   "execution_count": 3,
   "metadata": {},
   "outputs": [
    {
     "name": "stdout",
     "output_type": "stream",
     "text": [
      "Name: test\n"
     ]
    }
   ],
   "source": [
    "args = NS()\n",
    "args.name = 'test'\n",
    "\n",
    "args.log = True\n",
    "args.save_root = 'results'\n",
    "\n",
    "args.def_type = 'torch.FloatTensor'\n",
    "\n",
    "args.env = 'cartpole'\n",
    "#args.env = 'pendulum'\n",
    "args.base_seed = 12\n",
    "\n",
    "args.reg_coeff = 1e-6\n",
    "args.time_order = 3\n",
    "args.obs_order = 1\n",
    "args.max_steps = 10\n",
    "args.nonlinearity = 'elu'\n",
    "args.hidden = [3]\n",
    "\n",
    "args.delta = 0.01\n",
    "args.gamma = 0.99\n",
    "\n",
    "args.num_iter = 100\n",
    "args.num_traj = 20\n",
    "args.num_eval = 2\n",
    "\n",
    "print('Name: {}'.format(args.name))"
   ]
  },
  {
   "cell_type": "code",
   "execution_count": 4,
   "metadata": {},
   "outputs": [
    {
     "name": "stdout",
     "output_type": "stream",
     "text": [
      "Logging\n",
      "Save dir: results/test/May-22-2018-132418\n",
      "Env: cartpole (obs=4,act=2)\n"
     ]
    }
   ],
   "source": [
    "now = time.strftime(\"%b-%d-%Y-%H%M%S\")\n",
    "args.save_dir = os.path.join(args.save_root, args.name, now)\n",
    "tblogger = None\n",
    "if args.log:\n",
    "    util.create_dir(args.save_dir)\n",
    "    tblogger = util.TBLogger(args.save_dir)  # Start tensorboard logger\n",
    "    tblogger.scalar_summary('zzz-ignore', 0, 0)\n",
    "    print('Logging')\n",
    "    # Create logfile to save prints\n",
    "    #logfile = open(os.path.join(args.save_dir, 'logfile.txt'), 'a+')\n",
    "    #backup = sys.stdout\n",
    "    #sys.stdout = util.Tee(sys.stdout, logfile)\n",
    "env = util.get_env(args.env)\n",
    "obs_dim = env.spec.obs_space.size\n",
    "act_dim = env.spec.action_space.choices if args.env == 'cartpole' else env.spec.action_space.size\n",
    "print('Save dir: {}'.format(args.save_dir))\n",
    "print('Env: {} (obs={},act={})'.format(args.env, obs_dim, act_dim))"
   ]
  },
  {
   "cell_type": "code",
   "execution_count": 5,
   "metadata": {},
   "outputs": [
    {
     "name": "stdout",
     "output_type": "stream",
     "text": [
      "MLP(\n",
      "  (net): Sequential(\n",
      "    (0): BasicLinear(\n",
      "      (layer): Linear(in_features=4, out_features=3, bias=True)\n",
      "      (nonlin): ELU(alpha=1.0, inplace)\n",
      "    )\n",
      "    (1): BasicLinear(\n",
      "      (layer): Linear(in_features=3, out_features=2, bias=True)\n",
      "    )\n",
      "  )\n",
      ")\n"
     ]
    }
   ],
   "source": [
    "model = fd.nets.MLP(input_dim=obs_dim, output_dim=act_dim, hidden_dims=args.hidden, nonlinearity=args.nonlinearity)\n",
    "print(model)\n",
    "#policy = fd.policies.Gaussian_Policy(model=model, def_type=args.def_type, init_log_std=0, min_log_std=-3)\n",
    "policy = fd.policies.Categorical_Policy(model=model, def_type=args.def_type)\n",
    "baseline = None\n",
    "total_episodes = 0"
   ]
  },
  {
   "cell_type": "code",
   "execution_count": 6,
   "metadata": {
    "scrolled": true
   },
   "outputs": [
    {
     "name": "stderr",
     "output_type": "stream",
     "text": [
      "/mnt/c/Users/anwan/OneDrive - UW Office 365/Khan/DeepRL/project/ray_rl_backend.py:172: FutureWarning: `rcond` parameter will change to the default of machine precision times ``max(M, N)`` where M and N are the input matrix dimensions.\n",
      "To use the future default and silence this warning we advise to pass `rcond=None`, to keep using the old, explicitly pass `rcond=-1`.\n",
      "  b\n",
      "/mnt/c/Users/anwan/OneDrive - UW Office 365/Khan/DeepRL/project/foundation/util/stats.py:178: RuntimeWarning: invalid value encountered in sqrt\n",
      "  self.std = np.sqrt(self.var)\n",
      "/mnt/c/Users/anwan/OneDrive - UW Office 365/Khan/DeepRL/project/foundation/util/stats.py:162: RuntimeWarning: invalid value encountered in sqrt\n",
      "  self.std = np.sqrt(self.var)\n"
     ]
    },
    {
     "name": "stdout",
     "output_type": "stream",
     "text": [
      "[ 05-22-18 13:24:19 ] 1/100 (ep=20) : 13.290 9.500   9.5 \n",
      "[ 05-22-18 13:24:19 ] 2/100 (ep=40) : 9.284 11.375  11.4 \n",
      "[ 05-22-18 13:24:19 ] 3/100 (ep=60) : 8.063 18.344  18.3 \n",
      "[ 05-22-18 13:24:19 ] 4/100 (ep=80) : 7.037 11.336  18.3 \n",
      "[ 05-22-18 13:24:20 ] 5/100 (ep=100) : 6.163 9.834  18.3 \n",
      "[ 05-22-18 13:24:20 ] 6/100 (ep=120) : 6.554 9.458  18.3 \n",
      "[ 05-22-18 13:24:20 ] 7/100 (ep=140) : 6.369 9.365  18.3 \n",
      "[ 05-22-18 13:24:20 ] 8/100 (ep=160) : 6.828 11.841  18.3 \n",
      "[ 05-22-18 13:24:21 ] 9/100 (ep=180) : 6.219 10.210  18.3 \n",
      "[ 05-22-18 13:24:21 ] 10/100 (ep=200) : 5.893 12.053  18.3 \n",
      "[ 05-22-18 13:24:22 ] 11/100 (ep=220) : 6.316 18.763  18.8 \n",
      "[ 05-22-18 13:24:22 ] 12/100 (ep=240) : 7.779 14.191  18.8 \n",
      "[ 05-22-18 13:24:22 ] 13/100 (ep=260) : 8.858 18.798  18.8 \n",
      "[ 05-22-18 13:24:22 ] 14/100 (ep=280) : 9.635 17.949  18.8 \n",
      "[ 05-22-18 13:24:23 ] 15/100 (ep=300) : 9.229 16.737  18.8 \n",
      "[ 05-22-18 13:24:23 ] 16/100 (ep=320) : 9.337 14.684  18.8 \n",
      "[ 05-22-18 13:24:23 ] 17/100 (ep=340) : 8.822 17.671  18.8 \n",
      "[ 05-22-18 13:24:23 ] 18/100 (ep=360) : 8.445 15.168  18.8 \n",
      "[ 05-22-18 13:24:23 ] 19/100 (ep=380) : 8.372 14.792  18.8 \n",
      "[ 05-22-18 13:24:23 ] 20/100 (ep=400) : 8.251 14.698  18.8 \n",
      "[ 05-22-18 13:24:24 ] 21/100 (ep=420) : 8.760 14.924  18.8 \n",
      "[ 05-22-18 13:24:24 ] 22/100 (ep=440) : 8.240 13.981  18.8 \n",
      "[ 05-22-18 13:24:24 ] 23/100 (ep=460) : 7.638 12.495  18.8 \n",
      "[ 05-22-18 13:24:24 ] 24/100 (ep=480) : 7.576 11.624  18.8 \n",
      "[ 05-22-18 13:24:24 ] 25/100 (ep=500) : 7.113 11.656  18.8 \n",
      "[ 05-22-18 13:24:24 ] 26/100 (ep=520) : 7.293 10.664  18.8 \n",
      "[ 05-22-18 13:24:24 ] 27/100 (ep=540) : 7.623 11.166  18.8 \n",
      "[ 05-22-18 13:24:25 ] 28/100 (ep=560) : 8.316 11.291  18.8 \n",
      "[ 05-22-18 13:24:25 ] 29/100 (ep=580) : 10.090 11.323  18.8 \n",
      "[ 05-22-18 13:24:25 ] 30/100 (ep=600) : 10.461 12.581  18.8 \n",
      "[ 05-22-18 13:24:25 ] 31/100 (ep=620) : 9.557 21.145  21.1 \n",
      "[ 05-22-18 13:24:25 ] 32/100 (ep=640) : 9.167 23.286  23.3 \n",
      "[ 05-22-18 13:24:26 ] 33/100 (ep=660) : 8.746 17.072  23.3 \n",
      "[ 05-22-18 13:24:26 ] 34/100 (ep=680) : 8.988 13.518  23.3 \n",
      "[ 05-22-18 13:24:26 ] 35/100 (ep=700) : 7.871 11.879  23.3 \n",
      "[ 05-22-18 13:24:26 ] 36/100 (ep=720) : 7.279 11.720  23.3 \n",
      "[ 05-22-18 13:24:26 ] 37/100 (ep=740) : 6.594 11.180  23.3 \n",
      "[ 05-22-18 13:24:26 ] 38/100 (ep=760) : 7.299 10.045  23.3 \n",
      "[ 05-22-18 13:24:26 ] 39/100 (ep=780) : 7.664 12.261  23.3 \n",
      "[ 05-22-18 13:24:27 ] 40/100 (ep=800) : 8.406 13.815  23.3 \n",
      "[ 05-22-18 13:24:27 ] 41/100 (ep=820) : 7.784 10.704  23.3 \n",
      "[ 05-22-18 13:24:27 ] 42/100 (ep=840) : 7.013 13.426  23.3 \n",
      "[ 05-22-18 13:24:27 ] 43/100 (ep=860) : 7.153 11.356  23.3 \n",
      "[ 05-22-18 13:24:27 ] 44/100 (ep=880) : 7.441 19.839  23.3 \n",
      "[ 05-22-18 13:24:27 ] 45/100 (ep=900) : 8.451 14.960  23.3 \n",
      "[ 05-22-18 13:24:27 ] 46/100 (ep=920) : 9.405 18.240  23.3 \n",
      "[ 05-22-18 13:24:28 ] 47/100 (ep=940) : 8.557 16.310  23.3 \n",
      "[ 05-22-18 13:24:28 ] 48/100 (ep=960) : 7.821 12.327  23.3 \n",
      "[ 05-22-18 13:24:28 ] 49/100 (ep=980) : 7.120 11.832  23.3 \n",
      "[ 05-22-18 13:24:28 ] 50/100 (ep=1000) : 8.212 20.458  23.3 \n",
      "[ 05-22-18 13:24:28 ] 51/100 (ep=1020) : 9.968 19.364  23.3 \n",
      "[ 05-22-18 13:24:29 ] 52/100 (ep=1040) : 11.817 23.091  23.3 \n",
      "[ 05-22-18 13:24:29 ] 53/100 (ep=1060) : 11.432 13.273  23.3 \n",
      "[ 05-22-18 13:24:29 ] 54/100 (ep=1080) : 11.224 18.068  23.3 \n",
      "[ 05-22-18 13:24:29 ] 55/100 (ep=1100) : 10.935 15.767  23.3 \n",
      "[ 05-22-18 13:24:29 ] 56/100 (ep=1120) : 10.257 14.692  23.3 \n",
      "[ 05-22-18 13:24:29 ] 57/100 (ep=1140) : 9.825 13.673  23.3 \n",
      "[ 05-22-18 13:24:30 ] 58/100 (ep=1160) : 9.262 16.668  23.3 \n",
      "[ 05-22-18 13:24:30 ] 59/100 (ep=1180) : 8.754 14.667  23.3 \n",
      "[ 05-22-18 13:24:30 ] 60/100 (ep=1200) : 8.417 12.917  23.3 \n",
      "[ 05-22-18 13:24:30 ] 61/100 (ep=1220) : 6.962 11.229  23.3 \n",
      "[ 05-22-18 13:24:30 ] 62/100 (ep=1240) : 6.286 10.807  23.3 \n",
      "[ 05-22-18 13:24:30 ] 63/100 (ep=1260) : 5.878 9.702  23.3 \n",
      "[ 05-22-18 13:24:30 ] 64/100 (ep=1280) : 5.575 9.675  23.3 \n",
      "[ 05-22-18 13:24:31 ] 65/100 (ep=1300) : 5.589 17.669  23.3 \n",
      "[ 05-22-18 13:24:31 ] 66/100 (ep=1320) : 10.425 21.417  23.3 \n",
      "[ 05-22-18 13:24:31 ] 67/100 (ep=1340) : 14.499 24.354  24.4 \n",
      "[ 05-22-18 13:24:32 ] 68/100 (ep=1360) : 15.752 33.839  33.8 \n",
      "[ 05-22-18 13:24:32 ] 69/100 (ep=1380) : 16.573 33.210  33.8 \n",
      "[ 05-22-18 13:24:33 ] 70/100 (ep=1400) : 16.366 28.052  33.8 \n",
      "[ 05-22-18 13:24:33 ] 71/100 (ep=1420) : 17.017 28.013  33.8 \n",
      "[ 05-22-18 13:24:33 ] 72/100 (ep=1440) : 19.314 39.253  39.3 \n",
      "[ 05-22-18 13:24:34 ] 73/100 (ep=1460) : 20.085 46.063  46.1 \n",
      "[ 05-22-18 13:24:34 ] 74/100 (ep=1480) : 18.483 41.016  46.1 \n",
      "[ 05-22-18 13:24:35 ] 75/100 (ep=1500) : 19.360 34.504  46.1 \n",
      "[ 05-22-18 13:24:35 ] 76/100 (ep=1520) : 18.230 22.626  46.1 \n",
      "[ 05-22-18 13:24:35 ] 77/100 (ep=1540) : 14.474 14.656  46.1 \n",
      "[ 05-22-18 13:24:36 ] 78/100 (ep=1560) : 12.919 32.164  46.1 \n",
      "[ 05-22-18 13:24:36 ] 79/100 (ep=1580) : 17.076 36.541  46.1 \n",
      "[ 05-22-18 13:24:37 ] 80/100 (ep=1600) : 20.614 56.635  56.6 \n",
      "[ 05-22-18 13:24:37 ] 81/100 (ep=1620) : 19.471 49.909  56.6 \n",
      "[ 05-22-18 13:24:38 ] 82/100 (ep=1640) : 21.497 56.477  56.6 \n",
      "[ 05-22-18 13:24:39 ] 83/100 (ep=1660) : 22.276 44.619  56.6 \n",
      "[ 05-22-18 13:24:40 ] 84/100 (ep=1680) : 23.699 49.905  56.6 \n",
      "[ 05-22-18 13:24:40 ] 85/100 (ep=1700) : 25.834 56.226  56.6 \n",
      "[ 05-22-18 13:24:41 ] 86/100 (ep=1720) : 25.724 50.307  56.6 \n",
      "[ 05-22-18 13:24:41 ] 87/100 (ep=1740) : 23.964 26.327  56.6 \n",
      "[ 05-22-18 13:24:42 ] 88/100 (ep=1760) : 22.028 17.832  56.6 \n",
      "[ 05-22-18 13:24:42 ] 89/100 (ep=1780) : 15.615 14.208  56.6 \n",
      "[ 05-22-18 13:24:42 ] 90/100 (ep=1800) : 11.355 15.052  56.6 \n",
      "[ 05-22-18 13:24:42 ] 91/100 (ep=1820) : 9.010 13.513  56.6 \n",
      "[ 05-22-18 13:24:42 ] 92/100 (ep=1840) : 7.935 13.378  56.6 \n",
      "[ 05-22-18 13:24:43 ] 93/100 (ep=1860) : 7.482 13.095  56.6 \n",
      "[ 05-22-18 13:24:43 ] 94/100 (ep=1880) : 6.849 12.774  56.6 \n",
      "[ 05-22-18 13:24:43 ] 95/100 (ep=1900) : 6.340 10.693  56.6 \n",
      "[ 05-22-18 13:24:43 ] 96/100 (ep=1920) : 6.201 9.423  56.6 \n",
      "[ 05-22-18 13:24:43 ] 97/100 (ep=1940) : 6.403 10.106  56.6 \n",
      "[ 05-22-18 13:24:43 ] 98/100 (ep=1960) : 5.699 9.776  56.6 \n",
      "[ 05-22-18 13:24:44 ] 99/100 (ep=1980) : 5.382 9.944  56.6 \n",
      "[ 05-22-18 13:24:44 ] 100/100 (ep=2000) : 5.206 9.736  56.6 \n"
     ]
    }
   ],
   "source": [
    "seed = args.base_seed\n",
    "score = None\n",
    "stats = util.StatsMeter('score')\n",
    "time_stats = util.StatsMeter('traj', 'baseline', 'train', 'eval')\n",
    "best_perf = None\n",
    "for itr in range(args.num_iter):\n",
    "    start = time.time()\n",
    "    \n",
    "    # generate paths\n",
    "    path_ids = [generate_path.remote(policy, env, baseline=baseline, discount=args.gamma, seed=i+seed, obs_order=args.obs_order, time_order=args.time_order) \n",
    "                     for i in range(args.num_traj)]\n",
    "    seed += args.num_traj\n",
    "    paths = collate(ray.get(path_ids))\n",
    "    time_stats.update('traj', time.time() - start)\n",
    "    start = time.time()\n",
    "    \n",
    "    # train baseline\n",
    "    baseline, bsln_stats = ray.get(train_baseline.remote(baseline, paths, reg_coeff=args.reg_coeff, obs_order=args.obs_order, time_order=args.time_order))\n",
    "    stats.join(bsln_stats, prefix='bsln-')\n",
    "    time_stats.update('baseline', time.time() - start)\n",
    "    start = time.time()\n",
    "    \n",
    "    # train policy\n",
    "    policy, optim_stats = ray.get(npg_update.remote(policy, paths, def_type=args.def_type, reg_coeff=args.reg_coeff, step_size=args.delta, max_cg_iter=args.max_steps))\n",
    "    stats.join(optim_stats, prefix='optim-')\n",
    "    score = stats['optim-returns'].avg if score is None else score*0.9 + stats['optim-returns'].avg*0.1\n",
    "    stats.update('score', score)\n",
    "    total_episodes += args.num_traj\n",
    "    time_stats.update('train', time.time() - start)\n",
    "    start = time.time()\n",
    "    \n",
    "    # eval\n",
    "    eval_stats = [evaluate_policy.remote(policy, env, seed=i+seed) for i in range(args.num_eval)]\n",
    "    seed += args.num_eval\n",
    "    for estat in eval_stats:\n",
    "        stats.join(ray.get(estat), prefix='eval-')\n",
    "    time_stats.update('eval', time.time() - start)\n",
    "    \n",
    "    if best_perf is None or stats['eval-reward'].avg >= best_perf:\n",
    "        best_perf = stats['eval-reward'].avg\n",
    "    print_stats(stats, time_stats, best_perf=best_perf, itr=itr, num_iter=args.num_iter, logger=tblogger, total_episodes=total_episodes, verbose=not args.log)\n",
    "    #print(list(policy.parameters())[-1])\n",
    "    # save model\n",
    "    "
   ]
  },
  {
   "cell_type": "code",
   "execution_count": null,
   "metadata": {
    "collapsed": true
   },
   "outputs": [],
   "source": []
  }
 ],
 "metadata": {
  "kernelspec": {
   "display_name": "Python 3",
   "language": "python",
   "name": "python3"
  },
  "language_info": {
   "codemirror_mode": {
    "name": "ipython",
    "version": 3
   },
   "file_extension": ".py",
   "mimetype": "text/x-python",
   "name": "python",
   "nbconvert_exporter": "python",
   "pygments_lexer": "ipython3",
   "version": "3.6.3"
  }
 },
 "nbformat": 4,
 "nbformat_minor": 2
}
