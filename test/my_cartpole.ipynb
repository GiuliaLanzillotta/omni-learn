{
 "cells": [
  {
   "cell_type": "code",
   "execution_count": 1,
   "metadata": {},
   "outputs": [],
   "source": [
    "import sys, os, time\n",
    "os.environ[\"CUDA_VISIBLE_DEVICES\"]=\"0\"\n",
    "%load_ext autoreload\n",
    "%autoreload 2\n",
    "import torch\n",
    "import torch.nn as nn\n",
    "import torch.nn.functional as F\n",
    "import torch.distributions as distrib\n",
    "\n",
    "import torch.multiprocessing as mp\n",
    "import torchvision.models\n",
    "from torch.utils.data import Dataset, DataLoader\n",
    "import gym\n",
    "import numpy as np\n",
    "import h5py as hf\n",
    "# %matplotlib notebook\n",
    "%matplotlib tk\n",
    "import matplotlib.pyplot as plt\n",
    "#plt.switch_backend('Qt5Agg') #('Qt5Agg')\n",
    "import foundation as fd\n",
    "from foundation import models\n",
    "from foundation import util\n",
    "from foundation import train\n",
    "from foundation import sim as SIM\n",
    "#from foundation.util import replicate, Cloner\n",
    "\n",
    "np.set_printoptions(linewidth=120, suppress=True)"
   ]
  },
  {
   "cell_type": "code",
   "execution_count": 2,
   "metadata": {},
   "outputs": [],
   "source": [
    "fig = None\n",
    "figE, axsE = plt.subplots(2)"
   ]
  },
  {
   "cell_type": "code",
   "execution_count": 3,
   "metadata": {},
   "outputs": [
    {
     "data": {
      "text/plain": [
       "Cartpole(\n",
       "  (dynamics): Cartpole_Dynamics(\n",
       "    (actuator): Composer(\n",
       "      (controllers): ModuleList(\n",
       "        (0): Constant()\n",
       "        (1): SimpleLimiter(\n",
       "          (force): CutPowerForce()\n",
       "        )\n",
       "      )\n",
       "    )\n",
       "  )\n",
       "  (controller): Constant()\n",
       ")"
      ]
     },
     "execution_count": 3,
     "metadata": {},
     "output_type": "execute_result"
    }
   ],
   "source": [
    "sim = SIM.Cartpole(timestep=0.02, ctrl_scale=8,\n",
    "                   length=.5, gravity=10., \n",
    "                   mass_cart=1, mass_pole=.4,\n",
    "#                    length=1, gravity=1., \n",
    "#                    mass_cart=1, mass_pole=1,\n",
    "                   fric_cart=0.1, fric_pole=0.1,\n",
    "                   integration_method='rk4',\n",
    "                   limit=1., limit_pow=3., limit_coeff=-40.,\n",
    "#                    limit=1., limit_pow=3., limit_coeff=-10.,\n",
    "                  )\n",
    "sincos = False\n",
    "sim"
   ]
  },
  {
   "cell_type": "code",
   "execution_count": 4,
   "metadata": {},
   "outputs": [],
   "source": [
    "sincos = True\n",
    "sim = sim.nicify()"
   ]
  },
  {
   "cell_type": "code",
   "execution_count": 4,
   "metadata": {},
   "outputs": [
    {
     "data": {
      "text/plain": [
       "True"
      ]
     },
     "execution_count": 4,
     "metadata": {},
     "output_type": "execute_result"
    }
   ],
   "source": [
    "sim.dynamics.friction_full"
   ]
  },
  {
   "cell_type": "code",
   "execution_count": 5,
   "metadata": {},
   "outputs": [],
   "source": [
    "# sim.sample_state()\n",
    "# sim.sample_action()"
   ]
  },
  {
   "cell_type": "code",
   "execution_count": 6,
   "metadata": {},
   "outputs": [],
   "source": [
    "B = None\n",
    "state0 = None\n",
    "# state0 = torch.tensor([0.,np.pi,0,0])\n",
    "# state0 = torch.tensor([0.,np.pi,6,0])\n",
    "# state0 = sim.sample_state(B)"
   ]
  },
  {
   "cell_type": "code",
   "execution_count": 8,
   "metadata": {},
   "outputs": [],
   "source": [
    "proc = util.OUNoise(batch_size=B, mu=0., sigma=0.6, theta=.2)"
   ]
  },
  {
   "cell_type": "code",
   "execution_count": 9,
   "metadata": {},
   "outputs": [],
   "source": [
    "if fig is None:\n",
    "    if B is not None and int(np.sqrt(B))**2 == B:\n",
    "        bb = int(np.sqrt(B))\n",
    "        fig, axes = plt.subplots(bb,bb)\n",
    "    else:\n",
    "        fig, ax = plt.subplots(1)"
   ]
  },
  {
   "cell_type": "code",
   "execution_count": 10,
   "metadata": {},
   "outputs": [],
   "source": [
    "def get_action(i, x):\n",
    "#     return -torch.ones(1)*0\n",
    "    return proc()"
   ]
  },
  {
   "cell_type": "code",
   "execution_count": 49,
   "metadata": {},
   "outputs": [],
   "source": [
    "state0 = sim.sample_state(B)\n",
    "state0[...,-2] *= 1.5\n",
    "state0[...,-1] *= 3\n",
    "\n",
    "x = sim.reset(state0)\n",
    "Es = []\n",
    "Ts, Vs = [], []\n",
    "traj = []\n",
    "# x = sim.reset()\n",
    "render = True"
   ]
  },
  {
   "cell_type": "code",
   "execution_count": 50,
   "metadata": {},
   "outputs": [
    {
     "data": {
      "text/plain": [
       "True"
      ]
     },
     "execution_count": 50,
     "metadata": {},
     "output_type": "execute_result"
    }
   ],
   "source": [
    "# render ^= True\n",
    "render"
   ]
  },
  {
   "cell_type": "code",
   "execution_count": 51,
   "metadata": {},
   "outputs": [
    {
     "name": "stdout",
     "output_type": "stream",
     "text": [
      "[ 0.14273345  0.02766445 -1.380981    0.5909619 ]\n",
      "[0.6375132 5.130875  1.2106736 9.670365 ]\n"
     ]
    }
   ],
   "source": [
    "plt.figure(fig.number)\n",
    "for i in range(50):\n",
    "    u = sim.sample_action(B)\n",
    "    u = get_action(i,x)\n",
    "    x = sim.step(u, N=1)\n",
    "    traj.append(x.numpy())\n",
    "    E = sim.dynamics.energy(x).item()\n",
    "    Ts.append(sim.dynamics.kinetic_energy(x).item())\n",
    "    Vs.append(sim.dynamics.potential_energy(x).item())\n",
    "    Es.append(E)\n",
    "    if render:\n",
    "        imgs = sim.render(200,100)\n",
    "        if len(imgs.shape) == 4:\n",
    "            for img, ax in zip(imgs, axes.flat):\n",
    "                ax.cla()\n",
    "                ax.imshow(img)\n",
    "                ax.axis('off')\n",
    "        else:\n",
    "            ax.cla()\n",
    "            ax.imshow(imgs)\n",
    "    #         ax.axis('off')\n",
    "            plt.xticks([])\n",
    "            plt.yticks([])\n",
    "            plt.xlabel('{:2.3f} {:2.3f}'.format(E, u.view(-1)[0].item()))\n",
    "        plt.pause(0.03)\n",
    "\n",
    "plt.sca(axsE[0])\n",
    "plt.cla()\n",
    "plt.plot(Es,label='H')\n",
    "plt.plot(Ts,label='T')\n",
    "plt.plot(Vs,label='V')\n",
    "# plt.ylim(-0.01,Es[0]*2+0.01)\n",
    "# plt.ylim(-0.01,10)\n",
    "plt.legend()\n",
    "\n",
    "plt.sca(axsE[1])\n",
    "plt.cla()\n",
    "states = np.stack(traj)\n",
    "if sincos:\n",
    "    plt.plot(states[:,0],label='x')\n",
    "    plt.plot(states[:,1],label='dx')\n",
    "    plt.plot(states[:,2],label='dt')\n",
    "    plt.plot(states[:,3],label='sin')\n",
    "    plt.plot(states[:,4],label='cos')\n",
    "else:\n",
    "    plt.plot(states[:,0],label='x')\n",
    "    plt.plot(states[:,1],label='t')\n",
    "    plt.plot(states[:,2],label='dx')\n",
    "    plt.plot(states[:,3],label='dt')\n",
    "plt.legend()\n",
    "\n",
    "print(states.min(0))\n",
    "print(states.max(0))"
   ]
  },
  {
   "cell_type": "code",
   "execution_count": null,
   "metadata": {},
   "outputs": [],
   "source": [
    "# old/debug"
   ]
  },
  {
   "cell_type": "code",
   "execution_count": null,
   "metadata": {},
   "outputs": [],
   "source": []
  }
 ],
 "metadata": {
  "kernelspec": {
   "display_name": "Python 3",
   "language": "python",
   "name": "python3"
  },
  "language_info": {
   "codemirror_mode": {
    "name": "ipython",
    "version": 3
   },
   "file_extension": ".py",
   "mimetype": "text/x-python",
   "name": "python",
   "nbconvert_exporter": "python",
   "pygments_lexer": "ipython3",
   "version": "3.7.3"
  }
 },
 "nbformat": 4,
 "nbformat_minor": 2
}
