{
 "cells": [
  {
   "cell_type": "code",
   "execution_count": 1,
   "metadata": {},
   "outputs": [],
   "source": [
    "import sys, os, time\n",
    "os.environ[\"CUDA_VISIBLE_DEVICES\"]=\"0\"\n",
    "os.environ['FOUNDATION_RUN_MODE'] = 'jupyter'\n",
    "os.environ['FOUNDATION_SAVE_DIR'] = '/is/ei/fleeb/workspace/chome/trained_nets'\n",
    "os.environ['FOUNDATION_DATA_DIR'] = '/is/ei/fleeb/workspace/local_data'\n",
    "# %load_ext autoreload\n",
    "# %autoreload 2\n",
    "import torch\n",
    "import torch.nn as nn\n",
    "import torch.nn.functional as F\n",
    "from torch import optim as O\n",
    "import torch.distributions as distrib\n",
    "import torch.multiprocessing as mp\n",
    "import torchvision.models\n",
    "import torchvision\n",
    "from torch.utils.data import Dataset, DataLoader\n",
    "from tqdm import tqdm_notebook as tqdm\n",
    "import gym\n",
    "import inspect\n",
    "import numpy as np\n",
    "import h5py as hf\n",
    "%matplotlib notebook\n",
    "# %matplotlib tk\n",
    "import matplotlib.pyplot as plt\n",
    "import seaborn as sns\n",
    "#plt.switch_backend('Qt5Agg') #('Qt5Agg')\n",
    "import foundation as fd\n",
    "from foundation import models\n",
    "from foundation import util\n",
    "from foundation import train\n",
    "from foundation import sim as SIM\n",
    "#from foundation.util import replicate, Cloner\n",
    "from scipy import stats\n",
    "np.set_printoptions(linewidth=120)"
   ]
  },
  {
   "cell_type": "code",
   "execution_count": 2,
   "metadata": {},
   "outputs": [
    {
     "data": {
      "text/plain": [
       "Sequential(\n",
       "  (0): Linear(in_features=10, out_features=4, bias=True)\n",
       "  (1): ReLU()\n",
       ")"
      ]
     },
     "execution_count": 2,
     "metadata": {},
     "output_type": "execute_result"
    }
   ],
   "source": [
    "M = nn.Sequential(nn.Linear(10,4), nn.ReLU())\n",
    "M"
   ]
  },
  {
   "cell_type": "code",
   "execution_count": 3,
   "metadata": {},
   "outputs": [
    {
     "data": {
      "text/plain": [
       "[Linear(in_features=10, out_features=4, bias=True), ReLU()]"
      ]
     },
     "execution_count": 3,
     "metadata": {},
     "output_type": "execute_result"
    }
   ],
   "source": [
    "list(M)"
   ]
  },
  {
   "cell_type": "code",
   "execution_count": null,
   "metadata": {},
   "outputs": [],
   "source": []
  },
  {
   "cell_type": "code",
   "execution_count": 4,
   "metadata": {},
   "outputs": [
    {
     "name": "stdout",
     "output_type": "stream",
     "text": [
      "**WARNING: defaulting b\n",
      "**WARNING: defaulting c\n",
      "NS('b':NS('c':NS('d':'hello')))\n"
     ]
    }
   ],
   "source": [
    "a = util.NS()\n",
    "a.b.c.d = 'hello'\n",
    "print(repr(a)) # --> NS('b':NS('c':NS('d':'hello')))"
   ]
  },
  {
   "cell_type": "code",
   "execution_count": 3,
   "metadata": {},
   "outputs": [
    {
     "data": {
      "text/plain": [
       "{'b': {'c': {'d': 'hello'}}, '_ipython_canary_method_should_not_exist_': {}}"
      ]
     },
     "execution_count": 3,
     "metadata": {},
     "output_type": "execute_result"
    }
   ],
   "source": [
    "a.todict()"
   ]
  },
  {
   "cell_type": "code",
   "execution_count": null,
   "metadata": {},
   "outputs": [],
   "source": [
    "nn.ConvTranspose2d"
   ]
  },
  {
   "cell_type": "code",
   "execution_count": 30,
   "metadata": {},
   "outputs": [
    {
     "data": {
      "text/plain": [
       "ConvTranspose2d(8, 8, kernel_size=(2, 2), stride=(1, 1), padding=(1, 1))"
      ]
     },
     "execution_count": 30,
     "metadata": {},
     "output_type": "execute_result"
    }
   ],
   "source": [
    "conv = nn.Conv2d(8, 8, 2, padding=1)\n",
    "conv1 = nn.Conv2d(8, 8, 1)\n",
    "conv2 = nn.Conv2d(8, 8, 2, stride=2)\n",
    "conv"
   ]
  },
  {
   "cell_type": "code",
   "execution_count": 31,
   "metadata": {},
   "outputs": [],
   "source": [
    "X = torch.randn(3, 8, 16, 16)"
   ]
  },
  {
   "cell_type": "code",
   "execution_count": 32,
   "metadata": {},
   "outputs": [
    {
     "data": {
      "text/plain": [
       "torch.Size([3, 8, 30, 30])"
      ]
     },
     "execution_count": 32,
     "metadata": {},
     "output_type": "execute_result"
    }
   ],
   "source": [
    "I = X\n",
    "I = conv(I)\n",
    "I = conv1(I)\n",
    "I = conv2(I)\n",
    "Y = I\n",
    "Y.shape"
   ]
  },
  {
   "cell_type": "code",
   "execution_count": 102,
   "metadata": {},
   "outputs": [
    {
     "data": {
      "text/plain": [
       "torch.Size([3, 8, 32, 32])"
      ]
     },
     "execution_count": 102,
     "metadata": {},
     "output_type": "execute_result"
    }
   ],
   "source": [
    "X2 = F.interpolate(X, size=(32,32), mode='bilinear')\n",
    "X2.shape"
   ]
  },
  {
   "cell_type": "code",
   "execution_count": null,
   "metadata": {},
   "outputs": [],
   "source": []
  },
  {
   "cell_type": "code",
   "execution_count": null,
   "metadata": {},
   "outputs": [],
   "source": []
  },
  {
   "cell_type": "code",
   "execution_count": 15,
   "metadata": {},
   "outputs": [
    {
     "data": {
      "text/plain": [
       "ConvTranspose2d(8, 8, kernel_size=(2, 2), stride=(2, 2))"
      ]
     },
     "execution_count": 15,
     "metadata": {},
     "output_type": "execute_result"
    }
   ],
   "source": [
    "conv = nn.ConvTranspose2d(8, 8, 2, stride=2, padding=0, output_padding=0)\n",
    "conv1 = nn.Conv2d(8, 8, 1)\n",
    "conv2 = nn.Conv2d(8, 8, 2, stride=1, padding=0)\n",
    "conv"
   ]
  },
  {
   "cell_type": "code",
   "execution_count": 16,
   "metadata": {},
   "outputs": [],
   "source": [
    "X = torch.randn(3, 8, 16, 16)"
   ]
  },
  {
   "cell_type": "code",
   "execution_count": 17,
   "metadata": {},
   "outputs": [
    {
     "data": {
      "text/plain": [
       "torch.Size([3, 8, 32, 32])"
      ]
     },
     "execution_count": 17,
     "metadata": {},
     "output_type": "execute_result"
    }
   ],
   "source": [
    "I = X\n",
    "I = conv(I)\n",
    "# I = conv1(I)\n",
    "# I = conv2(I)\n",
    "Y = I\n",
    "Y.shape"
   ]
  },
  {
   "cell_type": "code",
   "execution_count": 18,
   "metadata": {},
   "outputs": [
    {
     "data": {
      "text/plain": [
       "tensor([[-0.3772,  0.0454, -0.0426],\n",
       "        [ 0.0254,  0.2793,  0.0524],\n",
       "        [ 0.0236,  0.0150, -0.2716]], grad_fn=<SliceBackward>)"
      ]
     },
     "execution_count": 18,
     "metadata": {},
     "output_type": "execute_result"
    }
   ],
   "source": [
    "Y[0,0,-3:,-3:]"
   ]
  },
  {
   "cell_type": "code",
   "execution_count": 2,
   "metadata": {},
   "outputs": [
    {
     "data": {
      "text/plain": [
       "'/is/ei/fleeb/workspace/local_data/3dshapes/3dshapes.h5'"
      ]
     },
     "execution_count": 2,
     "metadata": {},
     "output_type": "execute_result"
    }
   ],
   "source": [
    "path = os.path.join(os.environ['FOUNDATION_DATA_DIR'], '3dshapes', '3dshapes.h5')\n",
    "path"
   ]
  },
  {
   "cell_type": "code",
   "execution_count": 4,
   "metadata": {},
   "outputs": [
    {
     "name": "stdout",
     "output_type": "stream",
     "text": [
      "<KeysViewHDF5 ['images', 'labels']>\n"
     ]
    }
   ],
   "source": [
    "dataset = hf.File(path, 'r')\n",
    "print(dataset.keys())\n",
    "images = dataset['images']  # array shape [480000,64,64,3], uint8 in range(256)\n",
    "labels = dataset['labels']  # array shape [480000,6], float64\n",
    "image_shape = images.shape[1:]  # [64,64,3]\n",
    "label_shape = labels.shape[1:]  # [6]\n",
    "n_samples = labels.shape[0]  # 10*10*10*8*4*15=480000\n",
    "\n",
    "_FACTORS_IN_ORDER = ['floor_hue', 'wall_hue', 'object_hue', 'scale', 'shape',\n",
    "                     'orientation']\n",
    "_NUM_VALUES_PER_FACTOR = {'floor_hue': 10, 'wall_hue': 10, 'object_hue': 10, \n",
    "                          'scale': 8, 'shape': 4, 'orientation': 15}"
   ]
  },
  {
   "cell_type": "code",
   "execution_count": 12,
   "metadata": {},
   "outputs": [
    {
     "data": {
      "text/plain": [
       "((480000, 64, 64, 3), (480000, 6))"
      ]
     },
     "execution_count": 12,
     "metadata": {},
     "output_type": "execute_result"
    }
   ],
   "source": [
    "images.shape, labels.shape"
   ]
  },
  {
   "cell_type": "code",
   "execution_count": 19,
   "metadata": {},
   "outputs": [
    {
     "data": {
      "text/plain": [
       "[0, 2, 3]"
      ]
     },
     "execution_count": 19,
     "metadata": {},
     "output_type": "execute_result"
    }
   ],
   "source": [
    "torch.tensor([0,2,3]).tolist()"
   ]
  },
  {
   "cell_type": "code",
   "execution_count": 21,
   "metadata": {},
   "outputs": [
    {
     "data": {
      "text/plain": [
       "480000"
      ]
     },
     "execution_count": 21,
     "metadata": {},
     "output_type": "execute_result"
    }
   ],
   "source": [
    "len(images)"
   ]
  },
  {
   "cell_type": "code",
   "execution_count": 20,
   "metadata": {},
   "outputs": [
    {
     "data": {
      "text/plain": [
       "(3, 64, 64, 3)"
      ]
     },
     "execution_count": 20,
     "metadata": {},
     "output_type": "execute_result"
    }
   ],
   "source": [
    "images[torch.tensor([0,2,3]).tolist()].shape"
   ]
  },
  {
   "cell_type": "code",
   "execution_count": 15,
   "metadata": {},
   "outputs": [
    {
     "ename": "TypeError",
     "evalue": "can't convert CUDA tensor to numpy. Use Tensor.cpu() to copy the tensor to host memory first.",
     "output_type": "error",
     "traceback": [
      "\u001b[0;31m---------------------------------------------------------------------\u001b[0m",
      "\u001b[0;31mTypeError\u001b[0m                           Traceback (most recent call last)",
      "\u001b[0;32m<ipython-input-15-f2888d97e4f8>\u001b[0m in \u001b[0;36m<module>\u001b[0;34m\u001b[0m\n\u001b[0;32m----> 1\u001b[0;31m \u001b[0mnp\u001b[0m\u001b[0;34m.\u001b[0m\u001b[0marray\u001b[0m\u001b[0;34m(\u001b[0m\u001b[0mtorch\u001b[0m\u001b[0;34m.\u001b[0m\u001b[0mrandn\u001b[0m\u001b[0;34m(\u001b[0m\u001b[0;36m3\u001b[0m\u001b[0;34m)\u001b[0m\u001b[0;34m.\u001b[0m\u001b[0mcuda\u001b[0m\u001b[0;34m(\u001b[0m\u001b[0;34m)\u001b[0m\u001b[0;34m)\u001b[0m\u001b[0;34m\u001b[0m\u001b[0;34m\u001b[0m\u001b[0m\n\u001b[0m",
      "\u001b[0;32m~/anaconda3/lib/python3.7/site-packages/torch/tensor.py\u001b[0m in \u001b[0;36m__array__\u001b[0;34m(self, dtype)\u001b[0m\n\u001b[1;32m    431\u001b[0m     \u001b[0;32mdef\u001b[0m \u001b[0m__array__\u001b[0m\u001b[0;34m(\u001b[0m\u001b[0mself\u001b[0m\u001b[0;34m,\u001b[0m \u001b[0mdtype\u001b[0m\u001b[0;34m=\u001b[0m\u001b[0;32mNone\u001b[0m\u001b[0;34m)\u001b[0m\u001b[0;34m:\u001b[0m\u001b[0;34m\u001b[0m\u001b[0;34m\u001b[0m\u001b[0m\n\u001b[1;32m    432\u001b[0m         \u001b[0;32mif\u001b[0m \u001b[0mdtype\u001b[0m \u001b[0;32mis\u001b[0m \u001b[0;32mNone\u001b[0m\u001b[0;34m:\u001b[0m\u001b[0;34m\u001b[0m\u001b[0;34m\u001b[0m\u001b[0m\n\u001b[0;32m--> 433\u001b[0;31m             \u001b[0;32mreturn\u001b[0m \u001b[0mself\u001b[0m\u001b[0;34m.\u001b[0m\u001b[0mnumpy\u001b[0m\u001b[0;34m(\u001b[0m\u001b[0;34m)\u001b[0m\u001b[0;34m\u001b[0m\u001b[0;34m\u001b[0m\u001b[0m\n\u001b[0m\u001b[1;32m    434\u001b[0m         \u001b[0;32melse\u001b[0m\u001b[0;34m:\u001b[0m\u001b[0;34m\u001b[0m\u001b[0;34m\u001b[0m\u001b[0m\n\u001b[1;32m    435\u001b[0m             \u001b[0;32mreturn\u001b[0m \u001b[0mself\u001b[0m\u001b[0;34m.\u001b[0m\u001b[0mnumpy\u001b[0m\u001b[0;34m(\u001b[0m\u001b[0;34m)\u001b[0m\u001b[0;34m.\u001b[0m\u001b[0mastype\u001b[0m\u001b[0;34m(\u001b[0m\u001b[0mdtype\u001b[0m\u001b[0;34m,\u001b[0m \u001b[0mcopy\u001b[0m\u001b[0;34m=\u001b[0m\u001b[0;32mFalse\u001b[0m\u001b[0;34m)\u001b[0m\u001b[0;34m\u001b[0m\u001b[0;34m\u001b[0m\u001b[0m\n",
      "\u001b[0;31mTypeError\u001b[0m: can't convert CUDA tensor to numpy. Use Tensor.cpu() to copy the tensor to host memory first."
     ]
    }
   ],
   "source": [
    "np.array(torch.randn(3).cuda())"
   ]
  },
  {
   "cell_type": "code",
   "execution_count": 9,
   "metadata": {},
   "outputs": [
    {
     "data": {
      "text/plain": [
       "(64, 64, 3)"
      ]
     },
     "execution_count": 9,
     "metadata": {},
     "output_type": "execute_result"
    }
   ],
   "source": [
    "img = images[0]\n",
    "img.shape"
   ]
  },
  {
   "cell_type": "code",
   "execution_count": 11,
   "metadata": {},
   "outputs": [
    {
     "data": {
      "text/plain": [
       "dtype('uint8')"
      ]
     },
     "execution_count": 11,
     "metadata": {},
     "output_type": "execute_result"
    }
   ],
   "source": [
    "img.dtype"
   ]
  },
  {
   "cell_type": "code",
   "execution_count": 10,
   "metadata": {},
   "outputs": [
    {
     "data": {
      "application/javascript": [
       "/* Put everything inside the global mpl namespace */\n",
       "window.mpl = {};\n",
       "\n",
       "\n",
       "mpl.get_websocket_type = function() {\n",
       "    if (typeof(WebSocket) !== 'undefined') {\n",
       "        return WebSocket;\n",
       "    } else if (typeof(MozWebSocket) !== 'undefined') {\n",
       "        return MozWebSocket;\n",
       "    } else {\n",
       "        alert('Your browser does not have WebSocket support.' +\n",
       "              'Please try Chrome, Safari or Firefox ≥ 6. ' +\n",
       "              'Firefox 4 and 5 are also supported but you ' +\n",
       "              'have to enable WebSockets in about:config.');\n",
       "    };\n",
       "}\n",
       "\n",
       "mpl.figure = function(figure_id, websocket, ondownload, parent_element) {\n",
       "    this.id = figure_id;\n",
       "\n",
       "    this.ws = websocket;\n",
       "\n",
       "    this.supports_binary = (this.ws.binaryType != undefined);\n",
       "\n",
       "    if (!this.supports_binary) {\n",
       "        var warnings = document.getElementById(\"mpl-warnings\");\n",
       "        if (warnings) {\n",
       "            warnings.style.display = 'block';\n",
       "            warnings.textContent = (\n",
       "                \"This browser does not support binary websocket messages. \" +\n",
       "                    \"Performance may be slow.\");\n",
       "        }\n",
       "    }\n",
       "\n",
       "    this.imageObj = new Image();\n",
       "\n",
       "    this.context = undefined;\n",
       "    this.message = undefined;\n",
       "    this.canvas = undefined;\n",
       "    this.rubberband_canvas = undefined;\n",
       "    this.rubberband_context = undefined;\n",
       "    this.format_dropdown = undefined;\n",
       "\n",
       "    this.image_mode = 'full';\n",
       "\n",
       "    this.root = $('<div/>');\n",
       "    this._root_extra_style(this.root)\n",
       "    this.root.attr('style', 'display: inline-block');\n",
       "\n",
       "    $(parent_element).append(this.root);\n",
       "\n",
       "    this._init_header(this);\n",
       "    this._init_canvas(this);\n",
       "    this._init_toolbar(this);\n",
       "\n",
       "    var fig = this;\n",
       "\n",
       "    this.waiting = false;\n",
       "\n",
       "    this.ws.onopen =  function () {\n",
       "            fig.send_message(\"supports_binary\", {value: fig.supports_binary});\n",
       "            fig.send_message(\"send_image_mode\", {});\n",
       "            if (mpl.ratio != 1) {\n",
       "                fig.send_message(\"set_dpi_ratio\", {'dpi_ratio': mpl.ratio});\n",
       "            }\n",
       "            fig.send_message(\"refresh\", {});\n",
       "        }\n",
       "\n",
       "    this.imageObj.onload = function() {\n",
       "            if (fig.image_mode == 'full') {\n",
       "                // Full images could contain transparency (where diff images\n",
       "                // almost always do), so we need to clear the canvas so that\n",
       "                // there is no ghosting.\n",
       "                fig.context.clearRect(0, 0, fig.canvas.width, fig.canvas.height);\n",
       "            }\n",
       "            fig.context.drawImage(fig.imageObj, 0, 0);\n",
       "        };\n",
       "\n",
       "    this.imageObj.onunload = function() {\n",
       "        fig.ws.close();\n",
       "    }\n",
       "\n",
       "    this.ws.onmessage = this._make_on_message_function(this);\n",
       "\n",
       "    this.ondownload = ondownload;\n",
       "}\n",
       "\n",
       "mpl.figure.prototype._init_header = function() {\n",
       "    var titlebar = $(\n",
       "        '<div class=\"ui-dialog-titlebar ui-widget-header ui-corner-all ' +\n",
       "        'ui-helper-clearfix\"/>');\n",
       "    var titletext = $(\n",
       "        '<div class=\"ui-dialog-title\" style=\"width: 100%; ' +\n",
       "        'text-align: center; padding: 3px;\"/>');\n",
       "    titlebar.append(titletext)\n",
       "    this.root.append(titlebar);\n",
       "    this.header = titletext[0];\n",
       "}\n",
       "\n",
       "\n",
       "\n",
       "mpl.figure.prototype._canvas_extra_style = function(canvas_div) {\n",
       "\n",
       "}\n",
       "\n",
       "\n",
       "mpl.figure.prototype._root_extra_style = function(canvas_div) {\n",
       "\n",
       "}\n",
       "\n",
       "mpl.figure.prototype._init_canvas = function() {\n",
       "    var fig = this;\n",
       "\n",
       "    var canvas_div = $('<div/>');\n",
       "\n",
       "    canvas_div.attr('style', 'position: relative; clear: both; outline: 0');\n",
       "\n",
       "    function canvas_keyboard_event(event) {\n",
       "        return fig.key_event(event, event['data']);\n",
       "    }\n",
       "\n",
       "    canvas_div.keydown('key_press', canvas_keyboard_event);\n",
       "    canvas_div.keyup('key_release', canvas_keyboard_event);\n",
       "    this.canvas_div = canvas_div\n",
       "    this._canvas_extra_style(canvas_div)\n",
       "    this.root.append(canvas_div);\n",
       "\n",
       "    var canvas = $('<canvas/>');\n",
       "    canvas.addClass('mpl-canvas');\n",
       "    canvas.attr('style', \"left: 0; top: 0; z-index: 0; outline: 0\")\n",
       "\n",
       "    this.canvas = canvas[0];\n",
       "    this.context = canvas[0].getContext(\"2d\");\n",
       "\n",
       "    var backingStore = this.context.backingStorePixelRatio ||\n",
       "\tthis.context.webkitBackingStorePixelRatio ||\n",
       "\tthis.context.mozBackingStorePixelRatio ||\n",
       "\tthis.context.msBackingStorePixelRatio ||\n",
       "\tthis.context.oBackingStorePixelRatio ||\n",
       "\tthis.context.backingStorePixelRatio || 1;\n",
       "\n",
       "    mpl.ratio = (window.devicePixelRatio || 1) / backingStore;\n",
       "\n",
       "    var rubberband = $('<canvas/>');\n",
       "    rubberband.attr('style', \"position: absolute; left: 0; top: 0; z-index: 1;\")\n",
       "\n",
       "    var pass_mouse_events = true;\n",
       "\n",
       "    canvas_div.resizable({\n",
       "        start: function(event, ui) {\n",
       "            pass_mouse_events = false;\n",
       "        },\n",
       "        resize: function(event, ui) {\n",
       "            fig.request_resize(ui.size.width, ui.size.height);\n",
       "        },\n",
       "        stop: function(event, ui) {\n",
       "            pass_mouse_events = true;\n",
       "            fig.request_resize(ui.size.width, ui.size.height);\n",
       "        },\n",
       "    });\n",
       "\n",
       "    function mouse_event_fn(event) {\n",
       "        if (pass_mouse_events)\n",
       "            return fig.mouse_event(event, event['data']);\n",
       "    }\n",
       "\n",
       "    rubberband.mousedown('button_press', mouse_event_fn);\n",
       "    rubberband.mouseup('button_release', mouse_event_fn);\n",
       "    // Throttle sequential mouse events to 1 every 20ms.\n",
       "    rubberband.mousemove('motion_notify', mouse_event_fn);\n",
       "\n",
       "    rubberband.mouseenter('figure_enter', mouse_event_fn);\n",
       "    rubberband.mouseleave('figure_leave', mouse_event_fn);\n",
       "\n",
       "    canvas_div.on(\"wheel\", function (event) {\n",
       "        event = event.originalEvent;\n",
       "        event['data'] = 'scroll'\n",
       "        if (event.deltaY < 0) {\n",
       "            event.step = 1;\n",
       "        } else {\n",
       "            event.step = -1;\n",
       "        }\n",
       "        mouse_event_fn(event);\n",
       "    });\n",
       "\n",
       "    canvas_div.append(canvas);\n",
       "    canvas_div.append(rubberband);\n",
       "\n",
       "    this.rubberband = rubberband;\n",
       "    this.rubberband_canvas = rubberband[0];\n",
       "    this.rubberband_context = rubberband[0].getContext(\"2d\");\n",
       "    this.rubberband_context.strokeStyle = \"#000000\";\n",
       "\n",
       "    this._resize_canvas = function(width, height) {\n",
       "        // Keep the size of the canvas, canvas container, and rubber band\n",
       "        // canvas in synch.\n",
       "        canvas_div.css('width', width)\n",
       "        canvas_div.css('height', height)\n",
       "\n",
       "        canvas.attr('width', width * mpl.ratio);\n",
       "        canvas.attr('height', height * mpl.ratio);\n",
       "        canvas.attr('style', 'width: ' + width + 'px; height: ' + height + 'px;');\n",
       "\n",
       "        rubberband.attr('width', width);\n",
       "        rubberband.attr('height', height);\n",
       "    }\n",
       "\n",
       "    // Set the figure to an initial 600x600px, this will subsequently be updated\n",
       "    // upon first draw.\n",
       "    this._resize_canvas(600, 600);\n",
       "\n",
       "    // Disable right mouse context menu.\n",
       "    $(this.rubberband_canvas).bind(\"contextmenu\",function(e){\n",
       "        return false;\n",
       "    });\n",
       "\n",
       "    function set_focus () {\n",
       "        canvas.focus();\n",
       "        canvas_div.focus();\n",
       "    }\n",
       "\n",
       "    window.setTimeout(set_focus, 100);\n",
       "}\n",
       "\n",
       "mpl.figure.prototype._init_toolbar = function() {\n",
       "    var fig = this;\n",
       "\n",
       "    var nav_element = $('<div/>')\n",
       "    nav_element.attr('style', 'width: 100%');\n",
       "    this.root.append(nav_element);\n",
       "\n",
       "    // Define a callback function for later on.\n",
       "    function toolbar_event(event) {\n",
       "        return fig.toolbar_button_onclick(event['data']);\n",
       "    }\n",
       "    function toolbar_mouse_event(event) {\n",
       "        return fig.toolbar_button_onmouseover(event['data']);\n",
       "    }\n",
       "\n",
       "    for(var toolbar_ind in mpl.toolbar_items) {\n",
       "        var name = mpl.toolbar_items[toolbar_ind][0];\n",
       "        var tooltip = mpl.toolbar_items[toolbar_ind][1];\n",
       "        var image = mpl.toolbar_items[toolbar_ind][2];\n",
       "        var method_name = mpl.toolbar_items[toolbar_ind][3];\n",
       "\n",
       "        if (!name) {\n",
       "            // put a spacer in here.\n",
       "            continue;\n",
       "        }\n",
       "        var button = $('<button/>');\n",
       "        button.addClass('ui-button ui-widget ui-state-default ui-corner-all ' +\n",
       "                        'ui-button-icon-only');\n",
       "        button.attr('role', 'button');\n",
       "        button.attr('aria-disabled', 'false');\n",
       "        button.click(method_name, toolbar_event);\n",
       "        button.mouseover(tooltip, toolbar_mouse_event);\n",
       "\n",
       "        var icon_img = $('<span/>');\n",
       "        icon_img.addClass('ui-button-icon-primary ui-icon');\n",
       "        icon_img.addClass(image);\n",
       "        icon_img.addClass('ui-corner-all');\n",
       "\n",
       "        var tooltip_span = $('<span/>');\n",
       "        tooltip_span.addClass('ui-button-text');\n",
       "        tooltip_span.html(tooltip);\n",
       "\n",
       "        button.append(icon_img);\n",
       "        button.append(tooltip_span);\n",
       "\n",
       "        nav_element.append(button);\n",
       "    }\n",
       "\n",
       "    var fmt_picker_span = $('<span/>');\n",
       "\n",
       "    var fmt_picker = $('<select/>');\n",
       "    fmt_picker.addClass('mpl-toolbar-option ui-widget ui-widget-content');\n",
       "    fmt_picker_span.append(fmt_picker);\n",
       "    nav_element.append(fmt_picker_span);\n",
       "    this.format_dropdown = fmt_picker[0];\n",
       "\n",
       "    for (var ind in mpl.extensions) {\n",
       "        var fmt = mpl.extensions[ind];\n",
       "        var option = $(\n",
       "            '<option/>', {selected: fmt === mpl.default_extension}).html(fmt);\n",
       "        fmt_picker.append(option)\n",
       "    }\n",
       "\n",
       "    // Add hover states to the ui-buttons\n",
       "    $( \".ui-button\" ).hover(\n",
       "        function() { $(this).addClass(\"ui-state-hover\");},\n",
       "        function() { $(this).removeClass(\"ui-state-hover\");}\n",
       "    );\n",
       "\n",
       "    var status_bar = $('<span class=\"mpl-message\"/>');\n",
       "    nav_element.append(status_bar);\n",
       "    this.message = status_bar[0];\n",
       "}\n",
       "\n",
       "mpl.figure.prototype.request_resize = function(x_pixels, y_pixels) {\n",
       "    // Request matplotlib to resize the figure. Matplotlib will then trigger a resize in the client,\n",
       "    // which will in turn request a refresh of the image.\n",
       "    this.send_message('resize', {'width': x_pixels, 'height': y_pixels});\n",
       "}\n",
       "\n",
       "mpl.figure.prototype.send_message = function(type, properties) {\n",
       "    properties['type'] = type;\n",
       "    properties['figure_id'] = this.id;\n",
       "    this.ws.send(JSON.stringify(properties));\n",
       "}\n",
       "\n",
       "mpl.figure.prototype.send_draw_message = function() {\n",
       "    if (!this.waiting) {\n",
       "        this.waiting = true;\n",
       "        this.ws.send(JSON.stringify({type: \"draw\", figure_id: this.id}));\n",
       "    }\n",
       "}\n",
       "\n",
       "\n",
       "mpl.figure.prototype.handle_save = function(fig, msg) {\n",
       "    var format_dropdown = fig.format_dropdown;\n",
       "    var format = format_dropdown.options[format_dropdown.selectedIndex].value;\n",
       "    fig.ondownload(fig, format);\n",
       "}\n",
       "\n",
       "\n",
       "mpl.figure.prototype.handle_resize = function(fig, msg) {\n",
       "    var size = msg['size'];\n",
       "    if (size[0] != fig.canvas.width || size[1] != fig.canvas.height) {\n",
       "        fig._resize_canvas(size[0], size[1]);\n",
       "        fig.send_message(\"refresh\", {});\n",
       "    };\n",
       "}\n",
       "\n",
       "mpl.figure.prototype.handle_rubberband = function(fig, msg) {\n",
       "    var x0 = msg['x0'] / mpl.ratio;\n",
       "    var y0 = (fig.canvas.height - msg['y0']) / mpl.ratio;\n",
       "    var x1 = msg['x1'] / mpl.ratio;\n",
       "    var y1 = (fig.canvas.height - msg['y1']) / mpl.ratio;\n",
       "    x0 = Math.floor(x0) + 0.5;\n",
       "    y0 = Math.floor(y0) + 0.5;\n",
       "    x1 = Math.floor(x1) + 0.5;\n",
       "    y1 = Math.floor(y1) + 0.5;\n",
       "    var min_x = Math.min(x0, x1);\n",
       "    var min_y = Math.min(y0, y1);\n",
       "    var width = Math.abs(x1 - x0);\n",
       "    var height = Math.abs(y1 - y0);\n",
       "\n",
       "    fig.rubberband_context.clearRect(\n",
       "        0, 0, fig.canvas.width, fig.canvas.height);\n",
       "\n",
       "    fig.rubberband_context.strokeRect(min_x, min_y, width, height);\n",
       "}\n",
       "\n",
       "mpl.figure.prototype.handle_figure_label = function(fig, msg) {\n",
       "    // Updates the figure title.\n",
       "    fig.header.textContent = msg['label'];\n",
       "}\n",
       "\n",
       "mpl.figure.prototype.handle_cursor = function(fig, msg) {\n",
       "    var cursor = msg['cursor'];\n",
       "    switch(cursor)\n",
       "    {\n",
       "    case 0:\n",
       "        cursor = 'pointer';\n",
       "        break;\n",
       "    case 1:\n",
       "        cursor = 'default';\n",
       "        break;\n",
       "    case 2:\n",
       "        cursor = 'crosshair';\n",
       "        break;\n",
       "    case 3:\n",
       "        cursor = 'move';\n",
       "        break;\n",
       "    }\n",
       "    fig.rubberband_canvas.style.cursor = cursor;\n",
       "}\n",
       "\n",
       "mpl.figure.prototype.handle_message = function(fig, msg) {\n",
       "    fig.message.textContent = msg['message'];\n",
       "}\n",
       "\n",
       "mpl.figure.prototype.handle_draw = function(fig, msg) {\n",
       "    // Request the server to send over a new figure.\n",
       "    fig.send_draw_message();\n",
       "}\n",
       "\n",
       "mpl.figure.prototype.handle_image_mode = function(fig, msg) {\n",
       "    fig.image_mode = msg['mode'];\n",
       "}\n",
       "\n",
       "mpl.figure.prototype.updated_canvas_event = function() {\n",
       "    // Called whenever the canvas gets updated.\n",
       "    this.send_message(\"ack\", {});\n",
       "}\n",
       "\n",
       "// A function to construct a web socket function for onmessage handling.\n",
       "// Called in the figure constructor.\n",
       "mpl.figure.prototype._make_on_message_function = function(fig) {\n",
       "    return function socket_on_message(evt) {\n",
       "        if (evt.data instanceof Blob) {\n",
       "            /* FIXME: We get \"Resource interpreted as Image but\n",
       "             * transferred with MIME type text/plain:\" errors on\n",
       "             * Chrome.  But how to set the MIME type?  It doesn't seem\n",
       "             * to be part of the websocket stream */\n",
       "            evt.data.type = \"image/png\";\n",
       "\n",
       "            /* Free the memory for the previous frames */\n",
       "            if (fig.imageObj.src) {\n",
       "                (window.URL || window.webkitURL).revokeObjectURL(\n",
       "                    fig.imageObj.src);\n",
       "            }\n",
       "\n",
       "            fig.imageObj.src = (window.URL || window.webkitURL).createObjectURL(\n",
       "                evt.data);\n",
       "            fig.updated_canvas_event();\n",
       "            fig.waiting = false;\n",
       "            return;\n",
       "        }\n",
       "        else if (typeof evt.data === 'string' && evt.data.slice(0, 21) == \"data:image/png;base64\") {\n",
       "            fig.imageObj.src = evt.data;\n",
       "            fig.updated_canvas_event();\n",
       "            fig.waiting = false;\n",
       "            return;\n",
       "        }\n",
       "\n",
       "        var msg = JSON.parse(evt.data);\n",
       "        var msg_type = msg['type'];\n",
       "\n",
       "        // Call the  \"handle_{type}\" callback, which takes\n",
       "        // the figure and JSON message as its only arguments.\n",
       "        try {\n",
       "            var callback = fig[\"handle_\" + msg_type];\n",
       "        } catch (e) {\n",
       "            console.log(\"No handler for the '\" + msg_type + \"' message type: \", msg);\n",
       "            return;\n",
       "        }\n",
       "\n",
       "        if (callback) {\n",
       "            try {\n",
       "                // console.log(\"Handling '\" + msg_type + \"' message: \", msg);\n",
       "                callback(fig, msg);\n",
       "            } catch (e) {\n",
       "                console.log(\"Exception inside the 'handler_\" + msg_type + \"' callback:\", e, e.stack, msg);\n",
       "            }\n",
       "        }\n",
       "    };\n",
       "}\n",
       "\n",
       "// from http://stackoverflow.com/questions/1114465/getting-mouse-location-in-canvas\n",
       "mpl.findpos = function(e) {\n",
       "    //this section is from http://www.quirksmode.org/js/events_properties.html\n",
       "    var targ;\n",
       "    if (!e)\n",
       "        e = window.event;\n",
       "    if (e.target)\n",
       "        targ = e.target;\n",
       "    else if (e.srcElement)\n",
       "        targ = e.srcElement;\n",
       "    if (targ.nodeType == 3) // defeat Safari bug\n",
       "        targ = targ.parentNode;\n",
       "\n",
       "    // jQuery normalizes the pageX and pageY\n",
       "    // pageX,Y are the mouse positions relative to the document\n",
       "    // offset() returns the position of the element relative to the document\n",
       "    var x = e.pageX - $(targ).offset().left;\n",
       "    var y = e.pageY - $(targ).offset().top;\n",
       "\n",
       "    return {\"x\": x, \"y\": y};\n",
       "};\n",
       "\n",
       "/*\n",
       " * return a copy of an object with only non-object keys\n",
       " * we need this to avoid circular references\n",
       " * http://stackoverflow.com/a/24161582/3208463\n",
       " */\n",
       "function simpleKeys (original) {\n",
       "  return Object.keys(original).reduce(function (obj, key) {\n",
       "    if (typeof original[key] !== 'object')\n",
       "        obj[key] = original[key]\n",
       "    return obj;\n",
       "  }, {});\n",
       "}\n",
       "\n",
       "mpl.figure.prototype.mouse_event = function(event, name) {\n",
       "    var canvas_pos = mpl.findpos(event)\n",
       "\n",
       "    if (name === 'button_press')\n",
       "    {\n",
       "        this.canvas.focus();\n",
       "        this.canvas_div.focus();\n",
       "    }\n",
       "\n",
       "    var x = canvas_pos.x * mpl.ratio;\n",
       "    var y = canvas_pos.y * mpl.ratio;\n",
       "\n",
       "    this.send_message(name, {x: x, y: y, button: event.button,\n",
       "                             step: event.step,\n",
       "                             guiEvent: simpleKeys(event)});\n",
       "\n",
       "    /* This prevents the web browser from automatically changing to\n",
       "     * the text insertion cursor when the button is pressed.  We want\n",
       "     * to control all of the cursor setting manually through the\n",
       "     * 'cursor' event from matplotlib */\n",
       "    event.preventDefault();\n",
       "    return false;\n",
       "}\n",
       "\n",
       "mpl.figure.prototype._key_event_extra = function(event, name) {\n",
       "    // Handle any extra behaviour associated with a key event\n",
       "}\n",
       "\n",
       "mpl.figure.prototype.key_event = function(event, name) {\n",
       "\n",
       "    // Prevent repeat events\n",
       "    if (name == 'key_press')\n",
       "    {\n",
       "        if (event.which === this._key)\n",
       "            return;\n",
       "        else\n",
       "            this._key = event.which;\n",
       "    }\n",
       "    if (name == 'key_release')\n",
       "        this._key = null;\n",
       "\n",
       "    var value = '';\n",
       "    if (event.ctrlKey && event.which != 17)\n",
       "        value += \"ctrl+\";\n",
       "    if (event.altKey && event.which != 18)\n",
       "        value += \"alt+\";\n",
       "    if (event.shiftKey && event.which != 16)\n",
       "        value += \"shift+\";\n",
       "\n",
       "    value += 'k';\n",
       "    value += event.which.toString();\n",
       "\n",
       "    this._key_event_extra(event, name);\n",
       "\n",
       "    this.send_message(name, {key: value,\n",
       "                             guiEvent: simpleKeys(event)});\n",
       "    return false;\n",
       "}\n",
       "\n",
       "mpl.figure.prototype.toolbar_button_onclick = function(name) {\n",
       "    if (name == 'download') {\n",
       "        this.handle_save(this, null);\n",
       "    } else {\n",
       "        this.send_message(\"toolbar_button\", {name: name});\n",
       "    }\n",
       "};\n",
       "\n",
       "mpl.figure.prototype.toolbar_button_onmouseover = function(tooltip) {\n",
       "    this.message.textContent = tooltip;\n",
       "};\n",
       "mpl.toolbar_items = [[\"Home\", \"Reset original view\", \"fa fa-home icon-home\", \"home\"], [\"Back\", \"Back to previous view\", \"fa fa-arrow-left icon-arrow-left\", \"back\"], [\"Forward\", \"Forward to next view\", \"fa fa-arrow-right icon-arrow-right\", \"forward\"], [\"\", \"\", \"\", \"\"], [\"Pan\", \"Pan axes with left mouse, zoom with right\", \"fa fa-arrows icon-move\", \"pan\"], [\"Zoom\", \"Zoom to rectangle\", \"fa fa-square-o icon-check-empty\", \"zoom\"], [\"\", \"\", \"\", \"\"], [\"Download\", \"Download plot\", \"fa fa-floppy-o icon-save\", \"download\"]];\n",
       "\n",
       "mpl.extensions = [\"eps\", \"jpeg\", \"pdf\", \"png\", \"ps\", \"raw\", \"svg\", \"tif\"];\n",
       "\n",
       "mpl.default_extension = \"png\";var comm_websocket_adapter = function(comm) {\n",
       "    // Create a \"websocket\"-like object which calls the given IPython comm\n",
       "    // object with the appropriate methods. Currently this is a non binary\n",
       "    // socket, so there is still some room for performance tuning.\n",
       "    var ws = {};\n",
       "\n",
       "    ws.close = function() {\n",
       "        comm.close()\n",
       "    };\n",
       "    ws.send = function(m) {\n",
       "        //console.log('sending', m);\n",
       "        comm.send(m);\n",
       "    };\n",
       "    // Register the callback with on_msg.\n",
       "    comm.on_msg(function(msg) {\n",
       "        //console.log('receiving', msg['content']['data'], msg);\n",
       "        // Pass the mpl event to the overridden (by mpl) onmessage function.\n",
       "        ws.onmessage(msg['content']['data'])\n",
       "    });\n",
       "    return ws;\n",
       "}\n",
       "\n",
       "mpl.mpl_figure_comm = function(comm, msg) {\n",
       "    // This is the function which gets called when the mpl process\n",
       "    // starts-up an IPython Comm through the \"matplotlib\" channel.\n",
       "\n",
       "    var id = msg.content.data.id;\n",
       "    // Get hold of the div created by the display call when the Comm\n",
       "    // socket was opened in Python.\n",
       "    var element = $(\"#\" + id);\n",
       "    var ws_proxy = comm_websocket_adapter(comm)\n",
       "\n",
       "    function ondownload(figure, format) {\n",
       "        window.open(figure.imageObj.src);\n",
       "    }\n",
       "\n",
       "    var fig = new mpl.figure(id, ws_proxy,\n",
       "                           ondownload,\n",
       "                           element.get(0));\n",
       "\n",
       "    // Call onopen now - mpl needs it, as it is assuming we've passed it a real\n",
       "    // web socket which is closed, not our websocket->open comm proxy.\n",
       "    ws_proxy.onopen();\n",
       "\n",
       "    fig.parent_element = element.get(0);\n",
       "    fig.cell_info = mpl.find_output_cell(\"<div id='\" + id + \"'></div>\");\n",
       "    if (!fig.cell_info) {\n",
       "        console.error(\"Failed to find cell for figure\", id, fig);\n",
       "        return;\n",
       "    }\n",
       "\n",
       "    var output_index = fig.cell_info[2]\n",
       "    var cell = fig.cell_info[0];\n",
       "\n",
       "};\n",
       "\n",
       "mpl.figure.prototype.handle_close = function(fig, msg) {\n",
       "    var width = fig.canvas.width/mpl.ratio\n",
       "    fig.root.unbind('remove')\n",
       "\n",
       "    // Update the output cell to use the data from the current canvas.\n",
       "    fig.push_to_output();\n",
       "    var dataURL = fig.canvas.toDataURL();\n",
       "    // Re-enable the keyboard manager in IPython - without this line, in FF,\n",
       "    // the notebook keyboard shortcuts fail.\n",
       "    IPython.keyboard_manager.enable()\n",
       "    $(fig.parent_element).html('<img src=\"' + dataURL + '\" width=\"' + width + '\">');\n",
       "    fig.close_ws(fig, msg);\n",
       "}\n",
       "\n",
       "mpl.figure.prototype.close_ws = function(fig, msg){\n",
       "    fig.send_message('closing', msg);\n",
       "    // fig.ws.close()\n",
       "}\n",
       "\n",
       "mpl.figure.prototype.push_to_output = function(remove_interactive) {\n",
       "    // Turn the data on the canvas into data in the output cell.\n",
       "    var width = this.canvas.width/mpl.ratio\n",
       "    var dataURL = this.canvas.toDataURL();\n",
       "    this.cell_info[1]['text/html'] = '<img src=\"' + dataURL + '\" width=\"' + width + '\">';\n",
       "}\n",
       "\n",
       "mpl.figure.prototype.updated_canvas_event = function() {\n",
       "    // Tell IPython that the notebook contents must change.\n",
       "    IPython.notebook.set_dirty(true);\n",
       "    this.send_message(\"ack\", {});\n",
       "    var fig = this;\n",
       "    // Wait a second, then push the new image to the DOM so\n",
       "    // that it is saved nicely (might be nice to debounce this).\n",
       "    setTimeout(function () { fig.push_to_output() }, 1000);\n",
       "}\n",
       "\n",
       "mpl.figure.prototype._init_toolbar = function() {\n",
       "    var fig = this;\n",
       "\n",
       "    var nav_element = $('<div/>')\n",
       "    nav_element.attr('style', 'width: 100%');\n",
       "    this.root.append(nav_element);\n",
       "\n",
       "    // Define a callback function for later on.\n",
       "    function toolbar_event(event) {\n",
       "        return fig.toolbar_button_onclick(event['data']);\n",
       "    }\n",
       "    function toolbar_mouse_event(event) {\n",
       "        return fig.toolbar_button_onmouseover(event['data']);\n",
       "    }\n",
       "\n",
       "    for(var toolbar_ind in mpl.toolbar_items){\n",
       "        var name = mpl.toolbar_items[toolbar_ind][0];\n",
       "        var tooltip = mpl.toolbar_items[toolbar_ind][1];\n",
       "        var image = mpl.toolbar_items[toolbar_ind][2];\n",
       "        var method_name = mpl.toolbar_items[toolbar_ind][3];\n",
       "\n",
       "        if (!name) { continue; };\n",
       "\n",
       "        var button = $('<button class=\"btn btn-default\" href=\"#\" title=\"' + name + '\"><i class=\"fa ' + image + ' fa-lg\"></i></button>');\n",
       "        button.click(method_name, toolbar_event);\n",
       "        button.mouseover(tooltip, toolbar_mouse_event);\n",
       "        nav_element.append(button);\n",
       "    }\n",
       "\n",
       "    // Add the status bar.\n",
       "    var status_bar = $('<span class=\"mpl-message\" style=\"text-align:right; float: right;\"/>');\n",
       "    nav_element.append(status_bar);\n",
       "    this.message = status_bar[0];\n",
       "\n",
       "    // Add the close button to the window.\n",
       "    var buttongrp = $('<div class=\"btn-group inline pull-right\"></div>');\n",
       "    var button = $('<button class=\"btn btn-mini btn-primary\" href=\"#\" title=\"Stop Interaction\"><i class=\"fa fa-power-off icon-remove icon-large\"></i></button>');\n",
       "    button.click(function (evt) { fig.handle_close(fig, {}); } );\n",
       "    button.mouseover('Stop Interaction', toolbar_mouse_event);\n",
       "    buttongrp.append(button);\n",
       "    var titlebar = this.root.find($('.ui-dialog-titlebar'));\n",
       "    titlebar.prepend(buttongrp);\n",
       "}\n",
       "\n",
       "mpl.figure.prototype._root_extra_style = function(el){\n",
       "    var fig = this\n",
       "    el.on(\"remove\", function(){\n",
       "\tfig.close_ws(fig, {});\n",
       "    });\n",
       "}\n",
       "\n",
       "mpl.figure.prototype._canvas_extra_style = function(el){\n",
       "    // this is important to make the div 'focusable\n",
       "    el.attr('tabindex', 0)\n",
       "    // reach out to IPython and tell the keyboard manager to turn it's self\n",
       "    // off when our div gets focus\n",
       "\n",
       "    // location in version 3\n",
       "    if (IPython.notebook.keyboard_manager) {\n",
       "        IPython.notebook.keyboard_manager.register_events(el);\n",
       "    }\n",
       "    else {\n",
       "        // location in version 2\n",
       "        IPython.keyboard_manager.register_events(el);\n",
       "    }\n",
       "\n",
       "}\n",
       "\n",
       "mpl.figure.prototype._key_event_extra = function(event, name) {\n",
       "    var manager = IPython.notebook.keyboard_manager;\n",
       "    if (!manager)\n",
       "        manager = IPython.keyboard_manager;\n",
       "\n",
       "    // Check for shift+enter\n",
       "    if (event.shiftKey && event.which == 13) {\n",
       "        this.canvas_div.blur();\n",
       "        event.shiftKey = false;\n",
       "        // Send a \"J\" for go to next cell\n",
       "        event.which = 74;\n",
       "        event.keyCode = 74;\n",
       "        manager.command_mode();\n",
       "        manager.handle_keydown(event);\n",
       "    }\n",
       "}\n",
       "\n",
       "mpl.figure.prototype.handle_save = function(fig, msg) {\n",
       "    fig.ondownload(fig, null);\n",
       "}\n",
       "\n",
       "\n",
       "mpl.find_output_cell = function(html_output) {\n",
       "    // Return the cell and output element which can be found *uniquely* in the notebook.\n",
       "    // Note - this is a bit hacky, but it is done because the \"notebook_saving.Notebook\"\n",
       "    // IPython event is triggered only after the cells have been serialised, which for\n",
       "    // our purposes (turning an active figure into a static one), is too late.\n",
       "    var cells = IPython.notebook.get_cells();\n",
       "    var ncells = cells.length;\n",
       "    for (var i=0; i<ncells; i++) {\n",
       "        var cell = cells[i];\n",
       "        if (cell.cell_type === 'code'){\n",
       "            for (var j=0; j<cell.output_area.outputs.length; j++) {\n",
       "                var data = cell.output_area.outputs[j];\n",
       "                if (data.data) {\n",
       "                    // IPython >= 3 moved mimebundle to data attribute of output\n",
       "                    data = data.data;\n",
       "                }\n",
       "                if (data['text/html'] == html_output) {\n",
       "                    return [cell, data, j];\n",
       "                }\n",
       "            }\n",
       "        }\n",
       "    }\n",
       "}\n",
       "\n",
       "// Register the function which deals with the matplotlib target/channel.\n",
       "// The kernel may be null if the page has been refreshed.\n",
       "if (IPython.notebook.kernel != null) {\n",
       "    IPython.notebook.kernel.comm_manager.register_target('matplotlib', mpl.mpl_figure_comm);\n",
       "}\n"
      ],
      "text/plain": [
       "<IPython.core.display.Javascript object>"
      ]
     },
     "metadata": {},
     "output_type": "display_data"
    },
    {
     "data": {
      "text/html": [
       "<img src=\"data:image/png;base64,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\" width=\"640\">"
      ],
      "text/plain": [
       "<IPython.core.display.HTML object>"
      ]
     },
     "metadata": {},
     "output_type": "display_data"
    },
    {
     "data": {
      "text/plain": [
       "<matplotlib.image.AxesImage at 0x7f1423c91cf8>"
      ]
     },
     "execution_count": 10,
     "metadata": {},
     "output_type": "execute_result"
    }
   ],
   "source": [
    "plt.imshow(img)"
   ]
  },
  {
   "cell_type": "code",
   "execution_count": null,
   "metadata": {},
   "outputs": [],
   "source": []
  },
  {
   "cell_type": "code",
   "execution_count": null,
   "metadata": {},
   "outputs": [],
   "source": []
  },
  {
   "cell_type": "code",
   "execution_count": 14,
   "metadata": {},
   "outputs": [],
   "source": [
    "root = '/is/ei/fleeb/workspace/chome/trained_nets'\n",
    "target = '/is/ei/fleeb/workspace/trained_nets/3dshapes_models'\n",
    "util.create_dir(target)"
   ]
  },
  {
   "cell_type": "code",
   "execution_count": 15,
   "metadata": {},
   "outputs": [],
   "source": [
    "from shutil import copyfile"
   ]
  },
  {
   "cell_type": "code",
   "execution_count": 16,
   "metadata": {},
   "outputs": [],
   "source": [
    "names = ['checkpoint_100.pth.tar',]# 'best.pth.tar']"
   ]
  },
  {
   "cell_type": "code",
   "execution_count": 17,
   "metadata": {},
   "outputs": [
    {
     "name": "stdout",
     "output_type": "stream",
     "text": [
      "fdwae1e-4-probp2_191205-145835\n",
      "\t checkpoint_100.pth.tar\n",
      "fdwae1e-4-plat-probp5_191205-145827\n",
      "\t checkpoint_100.pth.tar\n",
      "vae_191205-145825\n",
      "\t checkpoint_100.pth.tar\n",
      "fdwae1e-4-probp5_191205-145821\n",
      "\t checkpoint_100.pth.tar\n",
      "fdwae1e-4-probp5-priorp2_191205-145821\n",
      "\t checkpoint_100.pth.tar\n",
      "fdwae1e-3-probp5_191205-145824\n",
      "\t checkpoint_100.pth.tar\n",
      "wae-plat_191205-145819\n",
      "\t checkpoint_100.pth.tar\n",
      "fdvae1e-4-probp8_191205-145829\n",
      "\t checkpoint_100.pth.tar\n",
      "dwae1e-4-probp5_191205-145820\n",
      "\t checkpoint_100.pth.tar\n",
      "fwae_191205-145820\n",
      "\t checkpoint_100.pth.tar\n",
      "fdvae1e-4-probp5_191205-145826\n",
      "\t checkpoint_100.pth.tar\n",
      "fdwae1e-5-probp5_191205-145824\n",
      "\t checkpoint_100.pth.tar\n",
      "fdwae1e-4-probp8_191205-145827\n",
      "\t checkpoint_100.pth.tar\n",
      "wae_191205-145833\n",
      "\t checkpoint_100.pth.tar\n",
      "wpp1e-5_191205-145826\n",
      "\t checkpoint_100.pth.tar\n",
      "dwae1e-4-probp2_191205-145821\n",
      "\t checkpoint_100.pth.tar\n",
      "vae-plat_191205-145829\n",
      "\t checkpoint_100.pth.tar\n",
      "fdvae1e-4-probp2_191205-145831\n",
      "\t checkpoint_100.pth.tar\n",
      "fwae-plat_191205-145819\n",
      "\t checkpoint_100.pth.tar\n",
      "fvae_191205-145828\n",
      "\t checkpoint_100.pth.tar\n",
      "gan_191205-145831\n",
      "\t checkpoint_100.pth.tar\n"
     ]
    }
   ],
   "source": [
    "for d in [d for d in os.listdir(root) if '1205' in d]:\n",
    "    print(d)\n",
    "    for name in names:\n",
    "        if name in os.listdir(os.path.join(root, d)):\n",
    "            print('\\t',name)\n",
    "            if d not in os.listdir(target):\n",
    "                os.mkdir(os.path.join(target,d))\n",
    "            copyfile(os.path.join(root, d, name), os.path.join(target, d, name))\n",
    "            copyfile(os.path.join(root, d, 'config.tml'), os.path.join(target, d, 'config.tml'))"
   ]
  },
  {
   "cell_type": "code",
   "execution_count": 19,
   "metadata": {},
   "outputs": [
    {
     "data": {
      "text/plain": [
       "['wae_191204-215052',\n",
       " 'vae_191204-214838',\n",
       " 'vaep01_191204-215053',\n",
       " 'fvae_191204-214742',\n",
       " 'fdwae1e-4-probp5_191204-214751',\n",
       " 'fwae_191204-214848',\n",
       " 'dwae1e-4-probp5_191205-145820',\n",
       " 'fdwae1e-4-probp5-priorp2_191205-145821',\n",
       " 'wpp1e-4_191204-214741',\n",
       " 'gan-disclr3x_191204-214753',\n",
       " 'wpp5e-5_191204-214751',\n",
       " 'fdvae1e-4-probp5_191205-145826',\n",
       " 'fdvae1e-4-probp2_191205-145831',\n",
       " 'gan_191205-145831']"
      ]
     },
     "execution_count": 19,
     "metadata": {},
     "output_type": "execute_result"
    }
   ],
   "source": [
    "os.listdir('/is/ei/fleeb/workspace/media/hybrid/new/3dshapes/pres')"
   ]
  },
  {
   "cell_type": "code",
   "execution_count": 3,
   "metadata": {},
   "outputs": [],
   "source": [
    "def f(x, *a, **kw):\n",
    "    print(x, a, kw)"
   ]
  },
  {
   "cell_type": "code",
   "execution_count": 6,
   "metadata": {},
   "outputs": [
    {
     "data": {
      "text/plain": [
       "mappingproxy({'x': <Parameter \"x\">,\n",
       "              'a': <Parameter \"*a\">,\n",
       "              'kw': <Parameter \"**kw\">})"
      ]
     },
     "execution_count": 6,
     "metadata": {},
     "output_type": "execute_result"
    }
   ],
   "source": [
    "sig = inspect.signature(f)\n",
    "sig.parameters"
   ]
  },
  {
   "cell_type": "code",
   "execution_count": 8,
   "metadata": {},
   "outputs": [],
   "source": [
    "for n, p in sig.parameters.items():\n",
    "    pass"
   ]
  },
  {
   "cell_type": "code",
   "execution_count": 11,
   "metadata": {},
   "outputs": [
    {
     "data": {
      "text/plain": [
       "<_ParameterKind.VAR_KEYWORD: 4>"
      ]
     },
     "execution_count": 11,
     "metadata": {},
     "output_type": "execute_result"
    }
   ],
   "source": [
    "p.kind"
   ]
  },
  {
   "cell_type": "code",
   "execution_count": null,
   "metadata": {},
   "outputs": [],
   "source": []
  },
  {
   "cell_type": "code",
   "execution_count": 2,
   "metadata": {},
   "outputs": [
    {
     "ename": "AttributeError",
     "evalue": "module 'foundation.util' has no attribute 'get_config'",
     "output_type": "error",
     "traceback": [
      "\u001b[0;31m---------------------------------------------------------------------\u001b[0m",
      "\u001b[0;31mAttributeError\u001b[0m                      Traceback (most recent call last)",
      "\u001b[0;32m<ipython-input-2-1f6664ef105b>\u001b[0m in \u001b[0;36m<module>\u001b[0;34m\u001b[0m\n\u001b[0;32m----> 1\u001b[0;31m \u001b[0mC\u001b[0m \u001b[0;34m=\u001b[0m \u001b[0mutil\u001b[0m\u001b[0;34m.\u001b[0m\u001b[0mget_config\u001b[0m\u001b[0;34m(\u001b[0m\u001b[0;34m'base'\u001b[0m\u001b[0;34m)\u001b[0m\u001b[0;34m\u001b[0m\u001b[0;34m\u001b[0m\u001b[0m\n\u001b[0m\u001b[1;32m      2\u001b[0m \u001b[0mC\u001b[0m\u001b[0;34m.\u001b[0m\u001b[0mkeys\u001b[0m\u001b[0;34m(\u001b[0m\u001b[0;34m)\u001b[0m\u001b[0;34m\u001b[0m\u001b[0;34m\u001b[0m\u001b[0m\n",
      "\u001b[0;31mAttributeError\u001b[0m: module 'foundation.util' has no attribute 'get_config'"
     ]
    }
   ],
   "source": [
    "C = util.get_config('base')\n",
    "C.keys()"
   ]
  },
  {
   "cell_type": "code",
   "execution_count": 4,
   "metadata": {},
   "outputs": [
    {
     "data": {
      "text/plain": [
       "'cuda'"
      ]
     },
     "execution_count": 4,
     "metadata": {},
     "output_type": "execute_result"
    }
   ],
   "source": [
    "C.device"
   ]
  },
  {
   "cell_type": "code",
   "execution_count": 5,
   "metadata": {},
   "outputs": [
    {
     "data": {
      "text/plain": [
       "tdict('nonlin':'prelu', 'upsampling':'bilinear', 'downsampling':'max', 'norm_type':'instance')"
      ]
     },
     "execution_count": 5,
     "metadata": {},
     "output_type": "execute_result"
    }
   ],
   "source": [
    "C.model"
   ]
  },
  {
   "cell_type": "code",
   "execution_count": null,
   "metadata": {},
   "outputs": [],
   "source": []
  },
  {
   "cell_type": "code",
   "execution_count": 2,
   "metadata": {},
   "outputs": [
    {
     "data": {
      "text/plain": [
       "['metadata', 'imgs', 'latents_classes', 'latents_values']"
      ]
     },
     "execution_count": 2,
     "metadata": {},
     "output_type": "execute_result"
    }
   ],
   "source": [
    "data = np.load('../local_data/dsprites_ndarray_co1sh3sc6or40x32y32_64x64.npz', allow_pickle=True, encoding='bytes')\n",
    "list(data.keys())"
   ]
  },
  {
   "cell_type": "code",
   "execution_count": 3,
   "metadata": {},
   "outputs": [],
   "source": [
    "def rec_decode(obj):\n",
    "    if isinstance(obj, dict):\n",
    "        return {rec_decode(k):rec_decode(v) for k,v in obj.items()}\n",
    "    if isinstance(obj, list):\n",
    "        return [rec_decode(x) for x in obj]\n",
    "    if isinstance(obj, tuple):\n",
    "        return tuple(rec_decode(x) for x in obj)\n",
    "    if isinstance(obj, bytes):\n",
    "        return obj.decode()\n",
    "    return obj"
   ]
  },
  {
   "cell_type": "code",
   "execution_count": 4,
   "metadata": {},
   "outputs": [
    {
     "data": {
      "text/plain": [
       "(737280, 5)"
      ]
     },
     "execution_count": 4,
     "metadata": {},
     "output_type": "execute_result"
    }
   ],
   "source": [
    "data['latents_values'][:,1:].shape"
   ]
  },
  {
   "cell_type": "code",
   "execution_count": 5,
   "metadata": {},
   "outputs": [
    {
     "data": {
      "text/plain": [
       "dict_keys(['date', 'description', 'version', 'latents_names', 'latents_possible_values', 'latents_sizes', 'author', 'title'])"
      ]
     },
     "execution_count": 5,
     "metadata": {},
     "output_type": "execute_result"
    }
   ],
   "source": [
    "meta = rec_decode(data['metadata'][()])\n",
    "meta.keys()"
   ]
  },
  {
   "cell_type": "code",
   "execution_count": 6,
   "metadata": {},
   "outputs": [
    {
     "data": {
      "text/plain": [
       "'April 2017'"
      ]
     },
     "execution_count": 6,
     "metadata": {},
     "output_type": "execute_result"
    }
   ],
   "source": [
    "meta['date']"
   ]
  },
  {
   "cell_type": "code",
   "execution_count": 7,
   "metadata": {},
   "outputs": [
    {
     "data": {
      "text/plain": [
       "113"
      ]
     },
     "execution_count": 7,
     "metadata": {},
     "output_type": "execute_result"
    }
   ],
   "source": [
    "meta['latents_sizes'][1:].sum()"
   ]
  },
  {
   "cell_type": "code",
   "execution_count": 16,
   "metadata": {},
   "outputs": [
    {
     "data": {
      "text/plain": [
       "(737280, 6)"
      ]
     },
     "execution_count": 16,
     "metadata": {},
     "output_type": "execute_result"
    }
   ],
   "source": [
    "lbls = data['latents_classes']\n",
    "lbls.shape"
   ]
  },
  {
   "cell_type": "code",
   "execution_count": 19,
   "metadata": {},
   "outputs": [
    {
     "data": {
      "text/plain": [
       "array([ 0,  0,  0,  0,  0, 10])"
      ]
     },
     "execution_count": 19,
     "metadata": {},
     "output_type": "execute_result"
    }
   ],
   "source": [
    "lbls[10]"
   ]
  },
  {
   "cell_type": "code",
   "execution_count": 14,
   "metadata": {},
   "outputs": [],
   "source": [
    "a = (1,2)\n",
    "b = 3"
   ]
  },
  {
   "cell_type": "code",
   "execution_count": 17,
   "metadata": {},
   "outputs": [
    {
     "data": {
      "text/plain": [
       "([1], 2)"
      ]
     },
     "execution_count": 17,
     "metadata": {},
     "output_type": "execute_result"
    }
   ],
   "source": [
    "*x, y = a\n",
    "x, y"
   ]
  },
  {
   "cell_type": "code",
   "execution_count": 5,
   "metadata": {},
   "outputs": [],
   "source": [
    "a, *b, c = (1,2,3,4)"
   ]
  },
  {
   "cell_type": "code",
   "execution_count": 6,
   "metadata": {},
   "outputs": [
    {
     "data": {
      "text/plain": [
       "[2, 3]"
      ]
     },
     "execution_count": 6,
     "metadata": {},
     "output_type": "execute_result"
    }
   ],
   "source": [
    "b"
   ]
  },
  {
   "cell_type": "code",
   "execution_count": 9,
   "metadata": {},
   "outputs": [
    {
     "data": {
      "text/plain": [
       "((737280, 64, 64), dtype('uint8'))"
      ]
     },
     "execution_count": 9,
     "metadata": {},
     "output_type": "execute_result"
    }
   ],
   "source": [
    "images = data['imgs']\n",
    "images.shape, images.dtype"
   ]
  },
  {
   "cell_type": "code",
   "execution_count": 10,
   "metadata": {},
   "outputs": [
    {
     "data": {
      "text/plain": [
       "(1, 0)"
      ]
     },
     "execution_count": 10,
     "metadata": {},
     "output_type": "execute_result"
    }
   ],
   "source": [
    "images.max(), images.min()"
   ]
  },
  {
   "cell_type": "code",
   "execution_count": 2,
   "metadata": {},
   "outputs": [
    {
     "data": {
      "text/plain": [
       "737280"
      ]
     },
     "execution_count": 2,
     "metadata": {},
     "output_type": "execute_result"
    }
   ],
   "source": [
    "DS = train.get_dataset('dsprites', dataroot='../local_data/')\n",
    "len(DS)"
   ]
  },
  {
   "cell_type": "code",
   "execution_count": 4,
   "metadata": {},
   "outputs": [
    {
     "ename": "RuntimeError",
     "evalue": "CUDA out of memory. Tried to allocate 11.25 GiB (GPU 0; 7.79 GiB total capacity; 0 bytes already allocated; 3.80 GiB free; 0 bytes cached)",
     "output_type": "error",
     "traceback": [
      "\u001b[0;31m---------------------------------------------------------------------\u001b[0m",
      "\u001b[0;31mRuntimeError\u001b[0m                        Traceback (most recent call last)",
      "\u001b[0;32m<ipython-input-4-fc5dd34be3c6>\u001b[0m in \u001b[0;36m<module>\u001b[0;34m\u001b[0m\n\u001b[0;32m----> 1\u001b[0;31m \u001b[0mDS\u001b[0m\u001b[0;34m.\u001b[0m\u001b[0mto\u001b[0m\u001b[0;34m(\u001b[0m\u001b[0;34m'cuda'\u001b[0m\u001b[0;34m)\u001b[0m\u001b[0;34m\u001b[0m\u001b[0;34m\u001b[0m\u001b[0m\n\u001b[0m",
      "\u001b[0;32m~/workspace/foundation/foundation/data/collectors.py\u001b[0m in \u001b[0;36mto\u001b[0;34m(self, device)\u001b[0m\n\u001b[1;32m     74\u001b[0m                 \u001b[0;32mfor\u001b[0m \u001b[0mname\u001b[0m \u001b[0;32min\u001b[0m \u001b[0mself\u001b[0m\u001b[0;34m.\u001b[0m\u001b[0m_buffers\u001b[0m\u001b[0;34m:\u001b[0m\u001b[0;34m\u001b[0m\u001b[0;34m\u001b[0m\u001b[0m\n\u001b[1;32m     75\u001b[0m                         \u001b[0;32mtry\u001b[0m\u001b[0;34m:\u001b[0m\u001b[0;34m\u001b[0m\u001b[0;34m\u001b[0m\u001b[0m\n\u001b[0;32m---> 76\u001b[0;31m                                 \u001b[0mself\u001b[0m\u001b[0;34m.\u001b[0m\u001b[0m__setattr__\u001b[0m\u001b[0;34m(\u001b[0m\u001b[0mname\u001b[0m\u001b[0;34m,\u001b[0m \u001b[0mgetattr\u001b[0m\u001b[0;34m(\u001b[0m\u001b[0mself\u001b[0m\u001b[0;34m,\u001b[0m\u001b[0mname\u001b[0m\u001b[0;34m)\u001b[0m\u001b[0;34m.\u001b[0m\u001b[0mto\u001b[0m\u001b[0;34m(\u001b[0m\u001b[0mdevice\u001b[0m\u001b[0;34m)\u001b[0m\u001b[0;34m)\u001b[0m\u001b[0;34m\u001b[0m\u001b[0;34m\u001b[0m\u001b[0m\n\u001b[0m\u001b[1;32m     77\u001b[0m                         \u001b[0;32mexcept\u001b[0m \u001b[0mAttributeError\u001b[0m\u001b[0;34m:\u001b[0m\u001b[0;34m\u001b[0m\u001b[0;34m\u001b[0m\u001b[0m\n\u001b[1;32m     78\u001b[0m                                 \u001b[0;32mpass\u001b[0m\u001b[0;34m\u001b[0m\u001b[0;34m\u001b[0m\u001b[0m\n",
      "\u001b[0;31mRuntimeError\u001b[0m: CUDA out of memory. Tried to allocate 11.25 GiB (GPU 0; 7.79 GiB total capacity; 0 bytes already allocated; 3.80 GiB free; 0 bytes cached)"
     ]
    }
   ],
   "source": [
    "DS.to('cuda')"
   ]
  },
  {
   "cell_type": "code",
   "execution_count": 2,
   "metadata": {},
   "outputs": [],
   "source": [
    "new = True"
   ]
  },
  {
   "cell_type": "code",
   "execution_count": 3,
   "metadata": {},
   "outputs": [
    {
     "data": {
      "text/plain": [
       "30000"
      ]
     },
     "execution_count": 3,
     "metadata": {},
     "output_type": "execute_result"
    }
   ],
   "source": [
    "if new:\n",
    "    DS = train.get_dataset('mnist', dataroot='../local_data/', train=True, download=False)\n",
    "    DS.to('cuda')\n",
    "else:\n",
    "    DS = torchvision.datasets.MNIST('../local_data/mnist', download=False, train=True, transform=torchvision.transforms.ToTensor())\n",
    "\n",
    "DS = train.simple_split_dataset(DS, split=0.5, shuffle=False)[0]\n",
    "    \n",
    "len(DS)"
   ]
  },
  {
   "cell_type": "code",
   "execution_count": 4,
   "metadata": {},
   "outputs": [
    {
     "data": {
      "text/plain": [
       "device(type='cuda', index=0)"
      ]
     },
     "execution_count": 4,
     "metadata": {},
     "output_type": "execute_result"
    }
   ],
   "source": [
    "DS.indices.device"
   ]
  },
  {
   "cell_type": "code",
   "execution_count": null,
   "metadata": {},
   "outputs": [],
   "source": []
  },
  {
   "cell_type": "code",
   "execution_count": 5,
   "metadata": {},
   "outputs": [
    {
     "name": "stdout",
     "output_type": "stream",
     "text": [
      "Using batched data loader\n",
      "traindata len=30000, trainloader len=59\n",
      "Batch size: 512 samples\n"
     ]
    },
    {
     "data": {
      "text/plain": [
       "59"
      ]
     },
     "execution_count": 5,
     "metadata": {},
     "output_type": "execute_result"
    }
   ],
   "source": [
    "loader, = train.get_loaders((DS,), batch_size=512, allow_batched=new)\n",
    "len(loader)"
   ]
  },
  {
   "cell_type": "code",
   "execution_count": 6,
   "metadata": {},
   "outputs": [
    {
     "name": "stdout",
     "output_type": "stream",
     "text": [
      "394 µs ± 3.39 µs per loop (mean ± std. dev. of 7 runs, 1000 loops each)\n"
     ]
    }
   ],
   "source": [
    "%%timeit\n",
    "for batch in loader:\n",
    "    X, Y = util.to(batch, 'cuda')\n",
    "    break"
   ]
  },
  {
   "cell_type": "code",
   "execution_count": 16,
   "metadata": {},
   "outputs": [
    {
     "name": "stdout",
     "output_type": "stream",
     "text": [
      "32.7 ms ± 762 µs per loop (mean ± std. dev. of 7 runs, 10 loops each)\n"
     ]
    }
   ],
   "source": [
    "%%timeit\n",
    "for batch in loader:\n",
    "    X, Y = util.to(batch, 'cuda')\n",
    "    break"
   ]
  },
  {
   "cell_type": "code",
   "execution_count": 6,
   "metadata": {},
   "outputs": [
    {
     "name": "stdout",
     "output_type": "stream",
     "text": [
      "4.23 ms ± 114 µs per loop (mean ± std. dev. of 7 runs, 100 loops each)\n"
     ]
    }
   ],
   "source": [
    "%%timeit\n",
    "for batch in loader:\n",
    "    X, Y = util.to(batch, 'cuda')\n",
    "    break"
   ]
  },
  {
   "cell_type": "code",
   "execution_count": 15,
   "metadata": {},
   "outputs": [
    {
     "name": "stdout",
     "output_type": "stream",
     "text": [
      "1.99 ms ± 9.21 µs per loop (mean ± std. dev. of 7 runs, 1000 loops each)\n"
     ]
    }
   ],
   "source": [
    "%%timeit\n",
    "for batch in loader:\n",
    "    X, Y = util.to(batch, 'cuda')\n",
    "    break"
   ]
  },
  {
   "cell_type": "code",
   "execution_count": null,
   "metadata": {},
   "outputs": [],
   "source": []
  },
  {
   "cell_type": "code",
   "execution_count": null,
   "metadata": {},
   "outputs": [],
   "source": []
  },
  {
   "cell_type": "code",
   "execution_count": 78,
   "metadata": {},
   "outputs": [],
   "source": [
    "def moment(x,n=1):\n",
    "    if n == 1:\n",
    "        return x.mean()\n",
    "    m = stats.moment(x,n)\n",
    "    return np.sign(m)*np.abs(m)**(1/n)"
   ]
  },
  {
   "cell_type": "code",
   "execution_count": null,
   "metadata": {},
   "outputs": [],
   "source": []
  },
  {
   "cell_type": "code",
   "execution_count": 114,
   "metadata": {},
   "outputs": [],
   "source": [
    "N = 100000\n",
    "x = np.random.randn(N)* 1 + 2\n",
    "y = np.random.randn(N)* 2 + 3"
   ]
  },
  {
   "cell_type": "code",
   "execution_count": 115,
   "metadata": {},
   "outputs": [
    {
     "name": "stdout",
     "output_type": "stream",
     "text": [
      "5.998, 5.344, 5.175, 7.769\n"
     ]
    }
   ],
   "source": [
    "xy = x*y\n",
    "ms = [moment(xy,n) for n in range(1,5)]\n",
    "print(', '.join(['{:2.3f}'.format(m) for m in ms]))"
   ]
  },
  {
   "cell_type": "code",
   "execution_count": 116,
   "metadata": {},
   "outputs": [
    {
     "data": {
      "application/javascript": [
       "/* Put everything inside the global mpl namespace */\n",
       "window.mpl = {};\n",
       "\n",
       "\n",
       "mpl.get_websocket_type = function() {\n",
       "    if (typeof(WebSocket) !== 'undefined') {\n",
       "        return WebSocket;\n",
       "    } else if (typeof(MozWebSocket) !== 'undefined') {\n",
       "        return MozWebSocket;\n",
       "    } else {\n",
       "        alert('Your browser does not have WebSocket support.' +\n",
       "              'Please try Chrome, Safari or Firefox ≥ 6. ' +\n",
       "              'Firefox 4 and 5 are also supported but you ' +\n",
       "              'have to enable WebSockets in about:config.');\n",
       "    };\n",
       "}\n",
       "\n",
       "mpl.figure = function(figure_id, websocket, ondownload, parent_element) {\n",
       "    this.id = figure_id;\n",
       "\n",
       "    this.ws = websocket;\n",
       "\n",
       "    this.supports_binary = (this.ws.binaryType != undefined);\n",
       "\n",
       "    if (!this.supports_binary) {\n",
       "        var warnings = document.getElementById(\"mpl-warnings\");\n",
       "        if (warnings) {\n",
       "            warnings.style.display = 'block';\n",
       "            warnings.textContent = (\n",
       "                \"This browser does not support binary websocket messages. \" +\n",
       "                    \"Performance may be slow.\");\n",
       "        }\n",
       "    }\n",
       "\n",
       "    this.imageObj = new Image();\n",
       "\n",
       "    this.context = undefined;\n",
       "    this.message = undefined;\n",
       "    this.canvas = undefined;\n",
       "    this.rubberband_canvas = undefined;\n",
       "    this.rubberband_context = undefined;\n",
       "    this.format_dropdown = undefined;\n",
       "\n",
       "    this.image_mode = 'full';\n",
       "\n",
       "    this.root = $('<div/>');\n",
       "    this._root_extra_style(this.root)\n",
       "    this.root.attr('style', 'display: inline-block');\n",
       "\n",
       "    $(parent_element).append(this.root);\n",
       "\n",
       "    this._init_header(this);\n",
       "    this._init_canvas(this);\n",
       "    this._init_toolbar(this);\n",
       "\n",
       "    var fig = this;\n",
       "\n",
       "    this.waiting = false;\n",
       "\n",
       "    this.ws.onopen =  function () {\n",
       "            fig.send_message(\"supports_binary\", {value: fig.supports_binary});\n",
       "            fig.send_message(\"send_image_mode\", {});\n",
       "            if (mpl.ratio != 1) {\n",
       "                fig.send_message(\"set_dpi_ratio\", {'dpi_ratio': mpl.ratio});\n",
       "            }\n",
       "            fig.send_message(\"refresh\", {});\n",
       "        }\n",
       "\n",
       "    this.imageObj.onload = function() {\n",
       "            if (fig.image_mode == 'full') {\n",
       "                // Full images could contain transparency (where diff images\n",
       "                // almost always do), so we need to clear the canvas so that\n",
       "                // there is no ghosting.\n",
       "                fig.context.clearRect(0, 0, fig.canvas.width, fig.canvas.height);\n",
       "            }\n",
       "            fig.context.drawImage(fig.imageObj, 0, 0);\n",
       "        };\n",
       "\n",
       "    this.imageObj.onunload = function() {\n",
       "        fig.ws.close();\n",
       "    }\n",
       "\n",
       "    this.ws.onmessage = this._make_on_message_function(this);\n",
       "\n",
       "    this.ondownload = ondownload;\n",
       "}\n",
       "\n",
       "mpl.figure.prototype._init_header = function() {\n",
       "    var titlebar = $(\n",
       "        '<div class=\"ui-dialog-titlebar ui-widget-header ui-corner-all ' +\n",
       "        'ui-helper-clearfix\"/>');\n",
       "    var titletext = $(\n",
       "        '<div class=\"ui-dialog-title\" style=\"width: 100%; ' +\n",
       "        'text-align: center; padding: 3px;\"/>');\n",
       "    titlebar.append(titletext)\n",
       "    this.root.append(titlebar);\n",
       "    this.header = titletext[0];\n",
       "}\n",
       "\n",
       "\n",
       "\n",
       "mpl.figure.prototype._canvas_extra_style = function(canvas_div) {\n",
       "\n",
       "}\n",
       "\n",
       "\n",
       "mpl.figure.prototype._root_extra_style = function(canvas_div) {\n",
       "\n",
       "}\n",
       "\n",
       "mpl.figure.prototype._init_canvas = function() {\n",
       "    var fig = this;\n",
       "\n",
       "    var canvas_div = $('<div/>');\n",
       "\n",
       "    canvas_div.attr('style', 'position: relative; clear: both; outline: 0');\n",
       "\n",
       "    function canvas_keyboard_event(event) {\n",
       "        return fig.key_event(event, event['data']);\n",
       "    }\n",
       "\n",
       "    canvas_div.keydown('key_press', canvas_keyboard_event);\n",
       "    canvas_div.keyup('key_release', canvas_keyboard_event);\n",
       "    this.canvas_div = canvas_div\n",
       "    this._canvas_extra_style(canvas_div)\n",
       "    this.root.append(canvas_div);\n",
       "\n",
       "    var canvas = $('<canvas/>');\n",
       "    canvas.addClass('mpl-canvas');\n",
       "    canvas.attr('style', \"left: 0; top: 0; z-index: 0; outline: 0\")\n",
       "\n",
       "    this.canvas = canvas[0];\n",
       "    this.context = canvas[0].getContext(\"2d\");\n",
       "\n",
       "    var backingStore = this.context.backingStorePixelRatio ||\n",
       "\tthis.context.webkitBackingStorePixelRatio ||\n",
       "\tthis.context.mozBackingStorePixelRatio ||\n",
       "\tthis.context.msBackingStorePixelRatio ||\n",
       "\tthis.context.oBackingStorePixelRatio ||\n",
       "\tthis.context.backingStorePixelRatio || 1;\n",
       "\n",
       "    mpl.ratio = (window.devicePixelRatio || 1) / backingStore;\n",
       "\n",
       "    var rubberband = $('<canvas/>');\n",
       "    rubberband.attr('style', \"position: absolute; left: 0; top: 0; z-index: 1;\")\n",
       "\n",
       "    var pass_mouse_events = true;\n",
       "\n",
       "    canvas_div.resizable({\n",
       "        start: function(event, ui) {\n",
       "            pass_mouse_events = false;\n",
       "        },\n",
       "        resize: function(event, ui) {\n",
       "            fig.request_resize(ui.size.width, ui.size.height);\n",
       "        },\n",
       "        stop: function(event, ui) {\n",
       "            pass_mouse_events = true;\n",
       "            fig.request_resize(ui.size.width, ui.size.height);\n",
       "        },\n",
       "    });\n",
       "\n",
       "    function mouse_event_fn(event) {\n",
       "        if (pass_mouse_events)\n",
       "            return fig.mouse_event(event, event['data']);\n",
       "    }\n",
       "\n",
       "    rubberband.mousedown('button_press', mouse_event_fn);\n",
       "    rubberband.mouseup('button_release', mouse_event_fn);\n",
       "    // Throttle sequential mouse events to 1 every 20ms.\n",
       "    rubberband.mousemove('motion_notify', mouse_event_fn);\n",
       "\n",
       "    rubberband.mouseenter('figure_enter', mouse_event_fn);\n",
       "    rubberband.mouseleave('figure_leave', mouse_event_fn);\n",
       "\n",
       "    canvas_div.on(\"wheel\", function (event) {\n",
       "        event = event.originalEvent;\n",
       "        event['data'] = 'scroll'\n",
       "        if (event.deltaY < 0) {\n",
       "            event.step = 1;\n",
       "        } else {\n",
       "            event.step = -1;\n",
       "        }\n",
       "        mouse_event_fn(event);\n",
       "    });\n",
       "\n",
       "    canvas_div.append(canvas);\n",
       "    canvas_div.append(rubberband);\n",
       "\n",
       "    this.rubberband = rubberband;\n",
       "    this.rubberband_canvas = rubberband[0];\n",
       "    this.rubberband_context = rubberband[0].getContext(\"2d\");\n",
       "    this.rubberband_context.strokeStyle = \"#000000\";\n",
       "\n",
       "    this._resize_canvas = function(width, height) {\n",
       "        // Keep the size of the canvas, canvas container, and rubber band\n",
       "        // canvas in synch.\n",
       "        canvas_div.css('width', width)\n",
       "        canvas_div.css('height', height)\n",
       "\n",
       "        canvas.attr('width', width * mpl.ratio);\n",
       "        canvas.attr('height', height * mpl.ratio);\n",
       "        canvas.attr('style', 'width: ' + width + 'px; height: ' + height + 'px;');\n",
       "\n",
       "        rubberband.attr('width', width);\n",
       "        rubberband.attr('height', height);\n",
       "    }\n",
       "\n",
       "    // Set the figure to an initial 600x600px, this will subsequently be updated\n",
       "    // upon first draw.\n",
       "    this._resize_canvas(600, 600);\n",
       "\n",
       "    // Disable right mouse context menu.\n",
       "    $(this.rubberband_canvas).bind(\"contextmenu\",function(e){\n",
       "        return false;\n",
       "    });\n",
       "\n",
       "    function set_focus () {\n",
       "        canvas.focus();\n",
       "        canvas_div.focus();\n",
       "    }\n",
       "\n",
       "    window.setTimeout(set_focus, 100);\n",
       "}\n",
       "\n",
       "mpl.figure.prototype._init_toolbar = function() {\n",
       "    var fig = this;\n",
       "\n",
       "    var nav_element = $('<div/>')\n",
       "    nav_element.attr('style', 'width: 100%');\n",
       "    this.root.append(nav_element);\n",
       "\n",
       "    // Define a callback function for later on.\n",
       "    function toolbar_event(event) {\n",
       "        return fig.toolbar_button_onclick(event['data']);\n",
       "    }\n",
       "    function toolbar_mouse_event(event) {\n",
       "        return fig.toolbar_button_onmouseover(event['data']);\n",
       "    }\n",
       "\n",
       "    for(var toolbar_ind in mpl.toolbar_items) {\n",
       "        var name = mpl.toolbar_items[toolbar_ind][0];\n",
       "        var tooltip = mpl.toolbar_items[toolbar_ind][1];\n",
       "        var image = mpl.toolbar_items[toolbar_ind][2];\n",
       "        var method_name = mpl.toolbar_items[toolbar_ind][3];\n",
       "\n",
       "        if (!name) {\n",
       "            // put a spacer in here.\n",
       "            continue;\n",
       "        }\n",
       "        var button = $('<button/>');\n",
       "        button.addClass('ui-button ui-widget ui-state-default ui-corner-all ' +\n",
       "                        'ui-button-icon-only');\n",
       "        button.attr('role', 'button');\n",
       "        button.attr('aria-disabled', 'false');\n",
       "        button.click(method_name, toolbar_event);\n",
       "        button.mouseover(tooltip, toolbar_mouse_event);\n",
       "\n",
       "        var icon_img = $('<span/>');\n",
       "        icon_img.addClass('ui-button-icon-primary ui-icon');\n",
       "        icon_img.addClass(image);\n",
       "        icon_img.addClass('ui-corner-all');\n",
       "\n",
       "        var tooltip_span = $('<span/>');\n",
       "        tooltip_span.addClass('ui-button-text');\n",
       "        tooltip_span.html(tooltip);\n",
       "\n",
       "        button.append(icon_img);\n",
       "        button.append(tooltip_span);\n",
       "\n",
       "        nav_element.append(button);\n",
       "    }\n",
       "\n",
       "    var fmt_picker_span = $('<span/>');\n",
       "\n",
       "    var fmt_picker = $('<select/>');\n",
       "    fmt_picker.addClass('mpl-toolbar-option ui-widget ui-widget-content');\n",
       "    fmt_picker_span.append(fmt_picker);\n",
       "    nav_element.append(fmt_picker_span);\n",
       "    this.format_dropdown = fmt_picker[0];\n",
       "\n",
       "    for (var ind in mpl.extensions) {\n",
       "        var fmt = mpl.extensions[ind];\n",
       "        var option = $(\n",
       "            '<option/>', {selected: fmt === mpl.default_extension}).html(fmt);\n",
       "        fmt_picker.append(option)\n",
       "    }\n",
       "\n",
       "    // Add hover states to the ui-buttons\n",
       "    $( \".ui-button\" ).hover(\n",
       "        function() { $(this).addClass(\"ui-state-hover\");},\n",
       "        function() { $(this).removeClass(\"ui-state-hover\");}\n",
       "    );\n",
       "\n",
       "    var status_bar = $('<span class=\"mpl-message\"/>');\n",
       "    nav_element.append(status_bar);\n",
       "    this.message = status_bar[0];\n",
       "}\n",
       "\n",
       "mpl.figure.prototype.request_resize = function(x_pixels, y_pixels) {\n",
       "    // Request matplotlib to resize the figure. Matplotlib will then trigger a resize in the client,\n",
       "    // which will in turn request a refresh of the image.\n",
       "    this.send_message('resize', {'width': x_pixels, 'height': y_pixels});\n",
       "}\n",
       "\n",
       "mpl.figure.prototype.send_message = function(type, properties) {\n",
       "    properties['type'] = type;\n",
       "    properties['figure_id'] = this.id;\n",
       "    this.ws.send(JSON.stringify(properties));\n",
       "}\n",
       "\n",
       "mpl.figure.prototype.send_draw_message = function() {\n",
       "    if (!this.waiting) {\n",
       "        this.waiting = true;\n",
       "        this.ws.send(JSON.stringify({type: \"draw\", figure_id: this.id}));\n",
       "    }\n",
       "}\n",
       "\n",
       "\n",
       "mpl.figure.prototype.handle_save = function(fig, msg) {\n",
       "    var format_dropdown = fig.format_dropdown;\n",
       "    var format = format_dropdown.options[format_dropdown.selectedIndex].value;\n",
       "    fig.ondownload(fig, format);\n",
       "}\n",
       "\n",
       "\n",
       "mpl.figure.prototype.handle_resize = function(fig, msg) {\n",
       "    var size = msg['size'];\n",
       "    if (size[0] != fig.canvas.width || size[1] != fig.canvas.height) {\n",
       "        fig._resize_canvas(size[0], size[1]);\n",
       "        fig.send_message(\"refresh\", {});\n",
       "    };\n",
       "}\n",
       "\n",
       "mpl.figure.prototype.handle_rubberband = function(fig, msg) {\n",
       "    var x0 = msg['x0'] / mpl.ratio;\n",
       "    var y0 = (fig.canvas.height - msg['y0']) / mpl.ratio;\n",
       "    var x1 = msg['x1'] / mpl.ratio;\n",
       "    var y1 = (fig.canvas.height - msg['y1']) / mpl.ratio;\n",
       "    x0 = Math.floor(x0) + 0.5;\n",
       "    y0 = Math.floor(y0) + 0.5;\n",
       "    x1 = Math.floor(x1) + 0.5;\n",
       "    y1 = Math.floor(y1) + 0.5;\n",
       "    var min_x = Math.min(x0, x1);\n",
       "    var min_y = Math.min(y0, y1);\n",
       "    var width = Math.abs(x1 - x0);\n",
       "    var height = Math.abs(y1 - y0);\n",
       "\n",
       "    fig.rubberband_context.clearRect(\n",
       "        0, 0, fig.canvas.width, fig.canvas.height);\n",
       "\n",
       "    fig.rubberband_context.strokeRect(min_x, min_y, width, height);\n",
       "}\n",
       "\n",
       "mpl.figure.prototype.handle_figure_label = function(fig, msg) {\n",
       "    // Updates the figure title.\n",
       "    fig.header.textContent = msg['label'];\n",
       "}\n",
       "\n",
       "mpl.figure.prototype.handle_cursor = function(fig, msg) {\n",
       "    var cursor = msg['cursor'];\n",
       "    switch(cursor)\n",
       "    {\n",
       "    case 0:\n",
       "        cursor = 'pointer';\n",
       "        break;\n",
       "    case 1:\n",
       "        cursor = 'default';\n",
       "        break;\n",
       "    case 2:\n",
       "        cursor = 'crosshair';\n",
       "        break;\n",
       "    case 3:\n",
       "        cursor = 'move';\n",
       "        break;\n",
       "    }\n",
       "    fig.rubberband_canvas.style.cursor = cursor;\n",
       "}\n",
       "\n",
       "mpl.figure.prototype.handle_message = function(fig, msg) {\n",
       "    fig.message.textContent = msg['message'];\n",
       "}\n",
       "\n",
       "mpl.figure.prototype.handle_draw = function(fig, msg) {\n",
       "    // Request the server to send over a new figure.\n",
       "    fig.send_draw_message();\n",
       "}\n",
       "\n",
       "mpl.figure.prototype.handle_image_mode = function(fig, msg) {\n",
       "    fig.image_mode = msg['mode'];\n",
       "}\n",
       "\n",
       "mpl.figure.prototype.updated_canvas_event = function() {\n",
       "    // Called whenever the canvas gets updated.\n",
       "    this.send_message(\"ack\", {});\n",
       "}\n",
       "\n",
       "// A function to construct a web socket function for onmessage handling.\n",
       "// Called in the figure constructor.\n",
       "mpl.figure.prototype._make_on_message_function = function(fig) {\n",
       "    return function socket_on_message(evt) {\n",
       "        if (evt.data instanceof Blob) {\n",
       "            /* FIXME: We get \"Resource interpreted as Image but\n",
       "             * transferred with MIME type text/plain:\" errors on\n",
       "             * Chrome.  But how to set the MIME type?  It doesn't seem\n",
       "             * to be part of the websocket stream */\n",
       "            evt.data.type = \"image/png\";\n",
       "\n",
       "            /* Free the memory for the previous frames */\n",
       "            if (fig.imageObj.src) {\n",
       "                (window.URL || window.webkitURL).revokeObjectURL(\n",
       "                    fig.imageObj.src);\n",
       "            }\n",
       "\n",
       "            fig.imageObj.src = (window.URL || window.webkitURL).createObjectURL(\n",
       "                evt.data);\n",
       "            fig.updated_canvas_event();\n",
       "            fig.waiting = false;\n",
       "            return;\n",
       "        }\n",
       "        else if (typeof evt.data === 'string' && evt.data.slice(0, 21) == \"data:image/png;base64\") {\n",
       "            fig.imageObj.src = evt.data;\n",
       "            fig.updated_canvas_event();\n",
       "            fig.waiting = false;\n",
       "            return;\n",
       "        }\n",
       "\n",
       "        var msg = JSON.parse(evt.data);\n",
       "        var msg_type = msg['type'];\n",
       "\n",
       "        // Call the  \"handle_{type}\" callback, which takes\n",
       "        // the figure and JSON message as its only arguments.\n",
       "        try {\n",
       "            var callback = fig[\"handle_\" + msg_type];\n",
       "        } catch (e) {\n",
       "            console.log(\"No handler for the '\" + msg_type + \"' message type: \", msg);\n",
       "            return;\n",
       "        }\n",
       "\n",
       "        if (callback) {\n",
       "            try {\n",
       "                // console.log(\"Handling '\" + msg_type + \"' message: \", msg);\n",
       "                callback(fig, msg);\n",
       "            } catch (e) {\n",
       "                console.log(\"Exception inside the 'handler_\" + msg_type + \"' callback:\", e, e.stack, msg);\n",
       "            }\n",
       "        }\n",
       "    };\n",
       "}\n",
       "\n",
       "// from http://stackoverflow.com/questions/1114465/getting-mouse-location-in-canvas\n",
       "mpl.findpos = function(e) {\n",
       "    //this section is from http://www.quirksmode.org/js/events_properties.html\n",
       "    var targ;\n",
       "    if (!e)\n",
       "        e = window.event;\n",
       "    if (e.target)\n",
       "        targ = e.target;\n",
       "    else if (e.srcElement)\n",
       "        targ = e.srcElement;\n",
       "    if (targ.nodeType == 3) // defeat Safari bug\n",
       "        targ = targ.parentNode;\n",
       "\n",
       "    // jQuery normalizes the pageX and pageY\n",
       "    // pageX,Y are the mouse positions relative to the document\n",
       "    // offset() returns the position of the element relative to the document\n",
       "    var x = e.pageX - $(targ).offset().left;\n",
       "    var y = e.pageY - $(targ).offset().top;\n",
       "\n",
       "    return {\"x\": x, \"y\": y};\n",
       "};\n",
       "\n",
       "/*\n",
       " * return a copy of an object with only non-object keys\n",
       " * we need this to avoid circular references\n",
       " * http://stackoverflow.com/a/24161582/3208463\n",
       " */\n",
       "function simpleKeys (original) {\n",
       "  return Object.keys(original).reduce(function (obj, key) {\n",
       "    if (typeof original[key] !== 'object')\n",
       "        obj[key] = original[key]\n",
       "    return obj;\n",
       "  }, {});\n",
       "}\n",
       "\n",
       "mpl.figure.prototype.mouse_event = function(event, name) {\n",
       "    var canvas_pos = mpl.findpos(event)\n",
       "\n",
       "    if (name === 'button_press')\n",
       "    {\n",
       "        this.canvas.focus();\n",
       "        this.canvas_div.focus();\n",
       "    }\n",
       "\n",
       "    var x = canvas_pos.x * mpl.ratio;\n",
       "    var y = canvas_pos.y * mpl.ratio;\n",
       "\n",
       "    this.send_message(name, {x: x, y: y, button: event.button,\n",
       "                             step: event.step,\n",
       "                             guiEvent: simpleKeys(event)});\n",
       "\n",
       "    /* This prevents the web browser from automatically changing to\n",
       "     * the text insertion cursor when the button is pressed.  We want\n",
       "     * to control all of the cursor setting manually through the\n",
       "     * 'cursor' event from matplotlib */\n",
       "    event.preventDefault();\n",
       "    return false;\n",
       "}\n",
       "\n",
       "mpl.figure.prototype._key_event_extra = function(event, name) {\n",
       "    // Handle any extra behaviour associated with a key event\n",
       "}\n",
       "\n",
       "mpl.figure.prototype.key_event = function(event, name) {\n",
       "\n",
       "    // Prevent repeat events\n",
       "    if (name == 'key_press')\n",
       "    {\n",
       "        if (event.which === this._key)\n",
       "            return;\n",
       "        else\n",
       "            this._key = event.which;\n",
       "    }\n",
       "    if (name == 'key_release')\n",
       "        this._key = null;\n",
       "\n",
       "    var value = '';\n",
       "    if (event.ctrlKey && event.which != 17)\n",
       "        value += \"ctrl+\";\n",
       "    if (event.altKey && event.which != 18)\n",
       "        value += \"alt+\";\n",
       "    if (event.shiftKey && event.which != 16)\n",
       "        value += \"shift+\";\n",
       "\n",
       "    value += 'k';\n",
       "    value += event.which.toString();\n",
       "\n",
       "    this._key_event_extra(event, name);\n",
       "\n",
       "    this.send_message(name, {key: value,\n",
       "                             guiEvent: simpleKeys(event)});\n",
       "    return false;\n",
       "}\n",
       "\n",
       "mpl.figure.prototype.toolbar_button_onclick = function(name) {\n",
       "    if (name == 'download') {\n",
       "        this.handle_save(this, null);\n",
       "    } else {\n",
       "        this.send_message(\"toolbar_button\", {name: name});\n",
       "    }\n",
       "};\n",
       "\n",
       "mpl.figure.prototype.toolbar_button_onmouseover = function(tooltip) {\n",
       "    this.message.textContent = tooltip;\n",
       "};\n",
       "mpl.toolbar_items = [[\"Home\", \"Reset original view\", \"fa fa-home icon-home\", \"home\"], [\"Back\", \"Back to previous view\", \"fa fa-arrow-left icon-arrow-left\", \"back\"], [\"Forward\", \"Forward to next view\", \"fa fa-arrow-right icon-arrow-right\", \"forward\"], [\"\", \"\", \"\", \"\"], [\"Pan\", \"Pan axes with left mouse, zoom with right\", \"fa fa-arrows icon-move\", \"pan\"], [\"Zoom\", \"Zoom to rectangle\", \"fa fa-square-o icon-check-empty\", \"zoom\"], [\"\", \"\", \"\", \"\"], [\"Download\", \"Download plot\", \"fa fa-floppy-o icon-save\", \"download\"]];\n",
       "\n",
       "mpl.extensions = [\"eps\", \"jpeg\", \"pdf\", \"png\", \"ps\", \"raw\", \"svg\", \"tif\"];\n",
       "\n",
       "mpl.default_extension = \"png\";var comm_websocket_adapter = function(comm) {\n",
       "    // Create a \"websocket\"-like object which calls the given IPython comm\n",
       "    // object with the appropriate methods. Currently this is a non binary\n",
       "    // socket, so there is still some room for performance tuning.\n",
       "    var ws = {};\n",
       "\n",
       "    ws.close = function() {\n",
       "        comm.close()\n",
       "    };\n",
       "    ws.send = function(m) {\n",
       "        //console.log('sending', m);\n",
       "        comm.send(m);\n",
       "    };\n",
       "    // Register the callback with on_msg.\n",
       "    comm.on_msg(function(msg) {\n",
       "        //console.log('receiving', msg['content']['data'], msg);\n",
       "        // Pass the mpl event to the overridden (by mpl) onmessage function.\n",
       "        ws.onmessage(msg['content']['data'])\n",
       "    });\n",
       "    return ws;\n",
       "}\n",
       "\n",
       "mpl.mpl_figure_comm = function(comm, msg) {\n",
       "    // This is the function which gets called when the mpl process\n",
       "    // starts-up an IPython Comm through the \"matplotlib\" channel.\n",
       "\n",
       "    var id = msg.content.data.id;\n",
       "    // Get hold of the div created by the display call when the Comm\n",
       "    // socket was opened in Python.\n",
       "    var element = $(\"#\" + id);\n",
       "    var ws_proxy = comm_websocket_adapter(comm)\n",
       "\n",
       "    function ondownload(figure, format) {\n",
       "        window.open(figure.imageObj.src);\n",
       "    }\n",
       "\n",
       "    var fig = new mpl.figure(id, ws_proxy,\n",
       "                           ondownload,\n",
       "                           element.get(0));\n",
       "\n",
       "    // Call onopen now - mpl needs it, as it is assuming we've passed it a real\n",
       "    // web socket which is closed, not our websocket->open comm proxy.\n",
       "    ws_proxy.onopen();\n",
       "\n",
       "    fig.parent_element = element.get(0);\n",
       "    fig.cell_info = mpl.find_output_cell(\"<div id='\" + id + \"'></div>\");\n",
       "    if (!fig.cell_info) {\n",
       "        console.error(\"Failed to find cell for figure\", id, fig);\n",
       "        return;\n",
       "    }\n",
       "\n",
       "    var output_index = fig.cell_info[2]\n",
       "    var cell = fig.cell_info[0];\n",
       "\n",
       "};\n",
       "\n",
       "mpl.figure.prototype.handle_close = function(fig, msg) {\n",
       "    var width = fig.canvas.width/mpl.ratio\n",
       "    fig.root.unbind('remove')\n",
       "\n",
       "    // Update the output cell to use the data from the current canvas.\n",
       "    fig.push_to_output();\n",
       "    var dataURL = fig.canvas.toDataURL();\n",
       "    // Re-enable the keyboard manager in IPython - without this line, in FF,\n",
       "    // the notebook keyboard shortcuts fail.\n",
       "    IPython.keyboard_manager.enable()\n",
       "    $(fig.parent_element).html('<img src=\"' + dataURL + '\" width=\"' + width + '\">');\n",
       "    fig.close_ws(fig, msg);\n",
       "}\n",
       "\n",
       "mpl.figure.prototype.close_ws = function(fig, msg){\n",
       "    fig.send_message('closing', msg);\n",
       "    // fig.ws.close()\n",
       "}\n",
       "\n",
       "mpl.figure.prototype.push_to_output = function(remove_interactive) {\n",
       "    // Turn the data on the canvas into data in the output cell.\n",
       "    var width = this.canvas.width/mpl.ratio\n",
       "    var dataURL = this.canvas.toDataURL();\n",
       "    this.cell_info[1]['text/html'] = '<img src=\"' + dataURL + '\" width=\"' + width + '\">';\n",
       "}\n",
       "\n",
       "mpl.figure.prototype.updated_canvas_event = function() {\n",
       "    // Tell IPython that the notebook contents must change.\n",
       "    IPython.notebook.set_dirty(true);\n",
       "    this.send_message(\"ack\", {});\n",
       "    var fig = this;\n",
       "    // Wait a second, then push the new image to the DOM so\n",
       "    // that it is saved nicely (might be nice to debounce this).\n",
       "    setTimeout(function () { fig.push_to_output() }, 1000);\n",
       "}\n",
       "\n",
       "mpl.figure.prototype._init_toolbar = function() {\n",
       "    var fig = this;\n",
       "\n",
       "    var nav_element = $('<div/>')\n",
       "    nav_element.attr('style', 'width: 100%');\n",
       "    this.root.append(nav_element);\n",
       "\n",
       "    // Define a callback function for later on.\n",
       "    function toolbar_event(event) {\n",
       "        return fig.toolbar_button_onclick(event['data']);\n",
       "    }\n",
       "    function toolbar_mouse_event(event) {\n",
       "        return fig.toolbar_button_onmouseover(event['data']);\n",
       "    }\n",
       "\n",
       "    for(var toolbar_ind in mpl.toolbar_items){\n",
       "        var name = mpl.toolbar_items[toolbar_ind][0];\n",
       "        var tooltip = mpl.toolbar_items[toolbar_ind][1];\n",
       "        var image = mpl.toolbar_items[toolbar_ind][2];\n",
       "        var method_name = mpl.toolbar_items[toolbar_ind][3];\n",
       "\n",
       "        if (!name) { continue; };\n",
       "\n",
       "        var button = $('<button class=\"btn btn-default\" href=\"#\" title=\"' + name + '\"><i class=\"fa ' + image + ' fa-lg\"></i></button>');\n",
       "        button.click(method_name, toolbar_event);\n",
       "        button.mouseover(tooltip, toolbar_mouse_event);\n",
       "        nav_element.append(button);\n",
       "    }\n",
       "\n",
       "    // Add the status bar.\n",
       "    var status_bar = $('<span class=\"mpl-message\" style=\"text-align:right; float: right;\"/>');\n",
       "    nav_element.append(status_bar);\n",
       "    this.message = status_bar[0];\n",
       "\n",
       "    // Add the close button to the window.\n",
       "    var buttongrp = $('<div class=\"btn-group inline pull-right\"></div>');\n",
       "    var button = $('<button class=\"btn btn-mini btn-primary\" href=\"#\" title=\"Stop Interaction\"><i class=\"fa fa-power-off icon-remove icon-large\"></i></button>');\n",
       "    button.click(function (evt) { fig.handle_close(fig, {}); } );\n",
       "    button.mouseover('Stop Interaction', toolbar_mouse_event);\n",
       "    buttongrp.append(button);\n",
       "    var titlebar = this.root.find($('.ui-dialog-titlebar'));\n",
       "    titlebar.prepend(buttongrp);\n",
       "}\n",
       "\n",
       "mpl.figure.prototype._root_extra_style = function(el){\n",
       "    var fig = this\n",
       "    el.on(\"remove\", function(){\n",
       "\tfig.close_ws(fig, {});\n",
       "    });\n",
       "}\n",
       "\n",
       "mpl.figure.prototype._canvas_extra_style = function(el){\n",
       "    // this is important to make the div 'focusable\n",
       "    el.attr('tabindex', 0)\n",
       "    // reach out to IPython and tell the keyboard manager to turn it's self\n",
       "    // off when our div gets focus\n",
       "\n",
       "    // location in version 3\n",
       "    if (IPython.notebook.keyboard_manager) {\n",
       "        IPython.notebook.keyboard_manager.register_events(el);\n",
       "    }\n",
       "    else {\n",
       "        // location in version 2\n",
       "        IPython.keyboard_manager.register_events(el);\n",
       "    }\n",
       "\n",
       "}\n",
       "\n",
       "mpl.figure.prototype._key_event_extra = function(event, name) {\n",
       "    var manager = IPython.notebook.keyboard_manager;\n",
       "    if (!manager)\n",
       "        manager = IPython.keyboard_manager;\n",
       "\n",
       "    // Check for shift+enter\n",
       "    if (event.shiftKey && event.which == 13) {\n",
       "        this.canvas_div.blur();\n",
       "        event.shiftKey = false;\n",
       "        // Send a \"J\" for go to next cell\n",
       "        event.which = 74;\n",
       "        event.keyCode = 74;\n",
       "        manager.command_mode();\n",
       "        manager.handle_keydown(event);\n",
       "    }\n",
       "}\n",
       "\n",
       "mpl.figure.prototype.handle_save = function(fig, msg) {\n",
       "    fig.ondownload(fig, null);\n",
       "}\n",
       "\n",
       "\n",
       "mpl.find_output_cell = function(html_output) {\n",
       "    // Return the cell and output element which can be found *uniquely* in the notebook.\n",
       "    // Note - this is a bit hacky, but it is done because the \"notebook_saving.Notebook\"\n",
       "    // IPython event is triggered only after the cells have been serialised, which for\n",
       "    // our purposes (turning an active figure into a static one), is too late.\n",
       "    var cells = IPython.notebook.get_cells();\n",
       "    var ncells = cells.length;\n",
       "    for (var i=0; i<ncells; i++) {\n",
       "        var cell = cells[i];\n",
       "        if (cell.cell_type === 'code'){\n",
       "            for (var j=0; j<cell.output_area.outputs.length; j++) {\n",
       "                var data = cell.output_area.outputs[j];\n",
       "                if (data.data) {\n",
       "                    // IPython >= 3 moved mimebundle to data attribute of output\n",
       "                    data = data.data;\n",
       "                }\n",
       "                if (data['text/html'] == html_output) {\n",
       "                    return [cell, data, j];\n",
       "                }\n",
       "            }\n",
       "        }\n",
       "    }\n",
       "}\n",
       "\n",
       "// Register the function which deals with the matplotlib target/channel.\n",
       "// The kernel may be null if the page has been refreshed.\n",
       "if (IPython.notebook.kernel != null) {\n",
       "    IPython.notebook.kernel.comm_manager.register_target('matplotlib', mpl.mpl_figure_comm);\n",
       "}\n"
      ],
      "text/plain": [
       "<IPython.core.display.Javascript object>"
      ]
     },
     "metadata": {},
     "output_type": "display_data"
    },
    {
     "data": {
      "text/html": [
       "<img src=\"data:image/png;base64,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\" width=\"640\">"
      ],
      "text/plain": [
       "<IPython.core.display.HTML object>"
      ]
     },
     "metadata": {},
     "output_type": "display_data"
    },
    {
     "data": {
      "text/plain": [
       "<matplotlib.axes._subplots.AxesSubplot at 0x7f95ca72e5f8>"
      ]
     },
     "execution_count": 116,
     "metadata": {},
     "output_type": "execute_result"
    }
   ],
   "source": [
    "sns.kdeplot(xy)\n",
    "# plt.xlim(-4,4)\n",
    "# plt.ylim(-4,4)"
   ]
  },
  {
   "cell_type": "code",
   "execution_count": null,
   "metadata": {},
   "outputs": [],
   "source": []
  },
  {
   "cell_type": "code",
   "execution_count": null,
   "metadata": {},
   "outputs": [],
   "source": []
  },
  {
   "cell_type": "code",
   "execution_count": null,
   "metadata": {},
   "outputs": [],
   "source": []
  },
  {
   "cell_type": "code",
   "execution_count": null,
   "metadata": {},
   "outputs": [],
   "source": []
  },
  {
   "cell_type": "code",
   "execution_count": null,
   "metadata": {},
   "outputs": [],
   "source": []
  },
  {
   "cell_type": "code",
   "execution_count": 2,
   "metadata": {},
   "outputs": [
    {
     "data": {
      "text/plain": [
       "(torch.Size([8, 4]), torch.Size([8, 2]))"
      ]
     },
     "execution_count": 2,
     "metadata": {},
     "output_type": "execute_result"
    }
   ],
   "source": [
    "N, D, M = 8, 4, 2\n",
    "\n",
    "# class Test(nn.Module):\n",
    "#     def __init__(self):\n",
    "#         super().__init__()\n",
    "#         self.A = nn.Linear(D,M)\n",
    "#         self.B = self.A\n",
    "\n",
    "\n",
    "X, Y = torch.randn(N,D), torch.randn(N, M)\n",
    "X.shape, Y.shape"
   ]
  },
  {
   "cell_type": "code",
   "execution_count": 2,
   "metadata": {},
   "outputs": [
    {
     "name": "stdout",
     "output_type": "stream",
     "text": [
      "**WARNING: defaulting _ipython_canary_method_should_not_exist_\n"
     ]
    },
    {
     "data": {
      "text/plain": [
       "<{'_ipython_canary_method_should_not_exist_':<{}>}>"
      ]
     },
     "execution_count": 2,
     "metadata": {},
     "output_type": "execute_result"
    }
   ],
   "source": [
    "A = train.get_config()\n",
    "A"
   ]
  },
  {
   "cell_type": "code",
   "execution_count": 4,
   "metadata": {},
   "outputs": [
    {
     "data": {
      "text/plain": [
       "<{'_ipython_canary_method_should_not_exist_':<{}>, 'model':<{'_type':'stage', 'stages':[<{}>, <{}>]}>}>"
      ]
     },
     "execution_count": 4,
     "metadata": {},
     "output_type": "execute_result"
    }
   ],
   "source": [
    "A.model._type = 'stage'\n",
    "A.model.stages = [\n",
    "    train.Config(),\n",
    "    train.Config(),\n",
    "]\n",
    "A.model.stages[0]._type = 'mlp'\n",
    "A.model.stages[1]._type = 'mlp'\n",
    "A.model.nonlin = 'elu'\n",
    "A.model.hidden_dims = [64]\n",
    "\n",
    "A.din = D\n",
    "A.dout = M\n",
    "\n"
   ]
  },
  {
   "cell_type": "code",
   "execution_count": null,
   "metadata": {},
   "outputs": [],
   "source": []
  },
  {
   "cell_type": "code",
   "execution_count": null,
   "metadata": {},
   "outputs": [],
   "source": []
  },
  {
   "cell_type": "code",
   "execution_count": null,
   "metadata": {},
   "outputs": [],
   "source": []
  },
  {
   "cell_type": "code",
   "execution_count": 3,
   "metadata": {},
   "outputs": [
    {
     "name": "stdout",
     "output_type": "stream",
     "text": [
      "Sequential(\n",
      "  (0): Linear(in_features=4, out_features=8, bias=True)\n",
      "  (1): PReLU(num_parameters=1)\n",
      "  (2): Linear(in_features=8, out_features=2, bias=True)\n",
      ")\n",
      "Sequential(\n",
      "  (0): Linear(in_features=4, out_features=2, bias=True)\n",
      ")\n"
     ]
    }
   ],
   "source": [
    "M1 = models.make_MLP(D,M, hidden_dims=[8])\n",
    "M2 = models.make_MLP(D,M, hidden_dims=[])\n",
    "print(M1)\n",
    "print(M2)"
   ]
  },
  {
   "cell_type": "code",
   "execution_count": 4,
   "metadata": {},
   "outputs": [
    {
     "data": {
      "text/plain": [
       "True"
      ]
     },
     "execution_count": 4,
     "metadata": {},
     "output_type": "execute_result"
    }
   ],
   "source": [
    "M1.training"
   ]
  },
  {
   "cell_type": "code",
   "execution_count": 5,
   "metadata": {},
   "outputs": [
    {
     "data": {
      "text/plain": [
       "Complex_Optimizer (\n",
       "Parameter Group 0\n",
       "    amsgrad: False\n",
       "    betas: (0.9, 0.999)\n",
       "    eps: 1e-08\n",
       "    lr: 0.001\n",
       "    weight_decay: 0\n",
       "\n",
       "Parameter Group 1\n",
       "    dampening: 0\n",
       "    lr: 0.001\n",
       "    momentum: 0\n",
       "    nesterov: False\n",
       "    weight_decay: 0\n",
       ")"
      ]
     },
     "execution_count": 5,
     "metadata": {},
     "output_type": "execute_result"
    }
   ],
   "source": [
    "optim = util.Complex_Optimizer(M1=util.get_optimizer('adam',M1.parameters()), M2=util.get_optimizer('sgd',M2.parameters()))\n",
    "optim"
   ]
  },
  {
   "cell_type": "code",
   "execution_count": 6,
   "metadata": {},
   "outputs": [],
   "source": [
    "scheduler = O.lr_scheduler.StepLR(optim, 1, gamma=.5)"
   ]
  },
  {
   "cell_type": "code",
   "execution_count": null,
   "metadata": {},
   "outputs": [],
   "source": []
  },
  {
   "cell_type": "code",
   "execution_count": 8,
   "metadata": {},
   "outputs": [
    {
     "name": "stdout",
     "output_type": "stream",
     "text": [
      "Complex-Optimizer(\n",
      "  M1: Adam (\n",
      "    Parameter Group 0\n",
      "        amsgrad: False\n",
      "        betas: (0.9, 0.999)\n",
      "        eps: 1e-08\n",
      "        initial_lr: 0.001\n",
      "        lr: 0.0005\n",
      "        weight_decay: 0\n",
      "    )\n",
      "  M2: SGD (\n",
      "    Parameter Group 0\n",
      "        dampening: 0\n",
      "        initial_lr: 0.001\n",
      "        lr: 0.0005\n",
      "        momentum: 0\n",
      "        nesterov: False\n",
      "        weight_decay: 0\n",
      "    )\n",
      ")\n",
      "Complex-Optimizer(\n",
      "  M1: Adam (\n",
      "    Parameter Group 0\n",
      "        amsgrad: False\n",
      "        betas: (0.9, 0.999)\n",
      "        eps: 1e-08\n",
      "        initial_lr: 0.001\n",
      "        lr: 0.00025\n",
      "        weight_decay: 0\n",
      "    )\n",
      "  M2: SGD (\n",
      "    Parameter Group 0\n",
      "        dampening: 0\n",
      "        initial_lr: 0.001\n",
      "        lr: 0.00025\n",
      "        momentum: 0\n",
      "        nesterov: False\n",
      "        weight_decay: 0\n",
      "    )\n",
      ")\n"
     ]
    }
   ],
   "source": [
    "print(optim)\n",
    "scheduler.step()\n",
    "print(optim)"
   ]
  },
  {
   "cell_type": "code",
   "execution_count": 5,
   "metadata": {},
   "outputs": [
    {
     "name": "stdout",
     "output_type": "stream",
     "text": [
      "dict_keys(['params', 'lr', 'betas', 'eps', 'weight_decay', 'amsgrad'])\n",
      "dict_keys(['params', 'lr', 'momentum', 'dampening', 'weight_decay', 'nesterov'])\n"
     ]
    }
   ],
   "source": [
    "for pg in optim.param_groups:\n",
    "    print(pg.keys())"
   ]
  },
  {
   "cell_type": "code",
   "execution_count": 16,
   "metadata": {},
   "outputs": [
    {
     "data": {
      "text/plain": [
       "[{'params': [Parameter containing:\n",
       "   tensor([[-0.1233, -0.3291, -0.0357,  0.2728],\n",
       "           [ 0.4259, -0.0941,  0.1313,  0.4141],\n",
       "           [ 0.2331, -0.4729, -0.0551, -0.4079],\n",
       "           [ 0.3183, -0.4238, -0.4731,  0.3352],\n",
       "           [ 0.2483,  0.1376, -0.0919,  0.4088],\n",
       "           [ 0.2184,  0.4409,  0.4505,  0.2104],\n",
       "           [ 0.0823, -0.1669,  0.3245, -0.2070],\n",
       "           [ 0.2751,  0.0059, -0.3743, -0.0150]], requires_grad=True),\n",
       "   Parameter containing:\n",
       "   tensor([ 0.4951, -0.4274,  0.0804,  0.1836, -0.4684, -0.3420, -0.0827, -0.1058],\n",
       "          requires_grad=True),\n",
       "   Parameter containing:\n",
       "   tensor([0.2500], requires_grad=True),\n",
       "   Parameter containing:\n",
       "   tensor([[-0.2400,  0.0860, -0.3046, -0.1266, -0.1415, -0.1294, -0.1883, -0.3226],\n",
       "           [-0.0155,  0.2319,  0.0754,  0.3092,  0.2357, -0.3346,  0.0450, -0.2477]],\n",
       "          requires_grad=True),\n",
       "   Parameter containing:\n",
       "   tensor([-0.1202,  0.2847], requires_grad=True)],\n",
       "  'lr': 0.001,\n",
       "  'betas': (0.9, 0.999),\n",
       "  'eps': 1e-08,\n",
       "  'weight_decay': 0,\n",
       "  'amsgrad': False},\n",
       " {'params': [Parameter containing:\n",
       "   tensor([[ 0.2974,  0.4622, -0.0096, -0.4341],\n",
       "           [-0.0023, -0.2696,  0.2905, -0.0224]], requires_grad=True),\n",
       "   Parameter containing:\n",
       "   tensor([ 0.1006, -0.0718], requires_grad=True)],\n",
       "  'lr': 0.001,\n",
       "  'momentum': 0,\n",
       "  'dampening': 0,\n",
       "  'weight_decay': 0,\n",
       "  'nesterov': False}]"
      ]
     },
     "execution_count": 16,
     "metadata": {},
     "output_type": "execute_result"
    }
   ],
   "source": [
    "list(optim.param_groups)"
   ]
  },
  {
   "cell_type": "code",
   "execution_count": 13,
   "metadata": {},
   "outputs": [
    {
     "data": {
      "text/plain": [
       "Complex_Optimizer ()"
      ]
     },
     "execution_count": 13,
     "metadata": {},
     "output_type": "execute_result"
    }
   ],
   "source": [
    "optim"
   ]
  },
  {
   "cell_type": "code",
   "execution_count": 15,
   "metadata": {},
   "outputs": [
    {
     "data": {
      "text/plain": [
       "(torch.Size([1, 10]), torch.Size([100, 10]))"
      ]
     },
     "execution_count": 15,
     "metadata": {},
     "output_type": "execute_result"
    }
   ],
   "source": [
    "D = 10\n",
    "Z = torch.zeros(1,D)\n",
    "X = torch.linspace(-10,10,100).unsqueeze(-1).expand(-1,D)\n",
    "Z.shape, X.shape"
   ]
  },
  {
   "cell_type": "code",
   "execution_count": 16,
   "metadata": {},
   "outputs": [
    {
     "data": {
      "text/plain": [
       "torch.Size([100, 1])"
      ]
     },
     "execution_count": 16,
     "metadata": {},
     "output_type": "execute_result"
    }
   ],
   "source": [
    "L = util.lorentzian(X,Z)\n",
    "L.shape"
   ]
  },
  {
   "cell_type": "code",
   "execution_count": 17,
   "metadata": {},
   "outputs": [
    {
     "data": {
      "application/javascript": [
       "/* Put everything inside the global mpl namespace */\n",
       "window.mpl = {};\n",
       "\n",
       "\n",
       "mpl.get_websocket_type = function() {\n",
       "    if (typeof(WebSocket) !== 'undefined') {\n",
       "        return WebSocket;\n",
       "    } else if (typeof(MozWebSocket) !== 'undefined') {\n",
       "        return MozWebSocket;\n",
       "    } else {\n",
       "        alert('Your browser does not have WebSocket support.' +\n",
       "              'Please try Chrome, Safari or Firefox ≥ 6. ' +\n",
       "              'Firefox 4 and 5 are also supported but you ' +\n",
       "              'have to enable WebSockets in about:config.');\n",
       "    };\n",
       "}\n",
       "\n",
       "mpl.figure = function(figure_id, websocket, ondownload, parent_element) {\n",
       "    this.id = figure_id;\n",
       "\n",
       "    this.ws = websocket;\n",
       "\n",
       "    this.supports_binary = (this.ws.binaryType != undefined);\n",
       "\n",
       "    if (!this.supports_binary) {\n",
       "        var warnings = document.getElementById(\"mpl-warnings\");\n",
       "        if (warnings) {\n",
       "            warnings.style.display = 'block';\n",
       "            warnings.textContent = (\n",
       "                \"This browser does not support binary websocket messages. \" +\n",
       "                    \"Performance may be slow.\");\n",
       "        }\n",
       "    }\n",
       "\n",
       "    this.imageObj = new Image();\n",
       "\n",
       "    this.context = undefined;\n",
       "    this.message = undefined;\n",
       "    this.canvas = undefined;\n",
       "    this.rubberband_canvas = undefined;\n",
       "    this.rubberband_context = undefined;\n",
       "    this.format_dropdown = undefined;\n",
       "\n",
       "    this.image_mode = 'full';\n",
       "\n",
       "    this.root = $('<div/>');\n",
       "    this._root_extra_style(this.root)\n",
       "    this.root.attr('style', 'display: inline-block');\n",
       "\n",
       "    $(parent_element).append(this.root);\n",
       "\n",
       "    this._init_header(this);\n",
       "    this._init_canvas(this);\n",
       "    this._init_toolbar(this);\n",
       "\n",
       "    var fig = this;\n",
       "\n",
       "    this.waiting = false;\n",
       "\n",
       "    this.ws.onopen =  function () {\n",
       "            fig.send_message(\"supports_binary\", {value: fig.supports_binary});\n",
       "            fig.send_message(\"send_image_mode\", {});\n",
       "            if (mpl.ratio != 1) {\n",
       "                fig.send_message(\"set_dpi_ratio\", {'dpi_ratio': mpl.ratio});\n",
       "            }\n",
       "            fig.send_message(\"refresh\", {});\n",
       "        }\n",
       "\n",
       "    this.imageObj.onload = function() {\n",
       "            if (fig.image_mode == 'full') {\n",
       "                // Full images could contain transparency (where diff images\n",
       "                // almost always do), so we need to clear the canvas so that\n",
       "                // there is no ghosting.\n",
       "                fig.context.clearRect(0, 0, fig.canvas.width, fig.canvas.height);\n",
       "            }\n",
       "            fig.context.drawImage(fig.imageObj, 0, 0);\n",
       "        };\n",
       "\n",
       "    this.imageObj.onunload = function() {\n",
       "        fig.ws.close();\n",
       "    }\n",
       "\n",
       "    this.ws.onmessage = this._make_on_message_function(this);\n",
       "\n",
       "    this.ondownload = ondownload;\n",
       "}\n",
       "\n",
       "mpl.figure.prototype._init_header = function() {\n",
       "    var titlebar = $(\n",
       "        '<div class=\"ui-dialog-titlebar ui-widget-header ui-corner-all ' +\n",
       "        'ui-helper-clearfix\"/>');\n",
       "    var titletext = $(\n",
       "        '<div class=\"ui-dialog-title\" style=\"width: 100%; ' +\n",
       "        'text-align: center; padding: 3px;\"/>');\n",
       "    titlebar.append(titletext)\n",
       "    this.root.append(titlebar);\n",
       "    this.header = titletext[0];\n",
       "}\n",
       "\n",
       "\n",
       "\n",
       "mpl.figure.prototype._canvas_extra_style = function(canvas_div) {\n",
       "\n",
       "}\n",
       "\n",
       "\n",
       "mpl.figure.prototype._root_extra_style = function(canvas_div) {\n",
       "\n",
       "}\n",
       "\n",
       "mpl.figure.prototype._init_canvas = function() {\n",
       "    var fig = this;\n",
       "\n",
       "    var canvas_div = $('<div/>');\n",
       "\n",
       "    canvas_div.attr('style', 'position: relative; clear: both; outline: 0');\n",
       "\n",
       "    function canvas_keyboard_event(event) {\n",
       "        return fig.key_event(event, event['data']);\n",
       "    }\n",
       "\n",
       "    canvas_div.keydown('key_press', canvas_keyboard_event);\n",
       "    canvas_div.keyup('key_release', canvas_keyboard_event);\n",
       "    this.canvas_div = canvas_div\n",
       "    this._canvas_extra_style(canvas_div)\n",
       "    this.root.append(canvas_div);\n",
       "\n",
       "    var canvas = $('<canvas/>');\n",
       "    canvas.addClass('mpl-canvas');\n",
       "    canvas.attr('style', \"left: 0; top: 0; z-index: 0; outline: 0\")\n",
       "\n",
       "    this.canvas = canvas[0];\n",
       "    this.context = canvas[0].getContext(\"2d\");\n",
       "\n",
       "    var backingStore = this.context.backingStorePixelRatio ||\n",
       "\tthis.context.webkitBackingStorePixelRatio ||\n",
       "\tthis.context.mozBackingStorePixelRatio ||\n",
       "\tthis.context.msBackingStorePixelRatio ||\n",
       "\tthis.context.oBackingStorePixelRatio ||\n",
       "\tthis.context.backingStorePixelRatio || 1;\n",
       "\n",
       "    mpl.ratio = (window.devicePixelRatio || 1) / backingStore;\n",
       "\n",
       "    var rubberband = $('<canvas/>');\n",
       "    rubberband.attr('style', \"position: absolute; left: 0; top: 0; z-index: 1;\")\n",
       "\n",
       "    var pass_mouse_events = true;\n",
       "\n",
       "    canvas_div.resizable({\n",
       "        start: function(event, ui) {\n",
       "            pass_mouse_events = false;\n",
       "        },\n",
       "        resize: function(event, ui) {\n",
       "            fig.request_resize(ui.size.width, ui.size.height);\n",
       "        },\n",
       "        stop: function(event, ui) {\n",
       "            pass_mouse_events = true;\n",
       "            fig.request_resize(ui.size.width, ui.size.height);\n",
       "        },\n",
       "    });\n",
       "\n",
       "    function mouse_event_fn(event) {\n",
       "        if (pass_mouse_events)\n",
       "            return fig.mouse_event(event, event['data']);\n",
       "    }\n",
       "\n",
       "    rubberband.mousedown('button_press', mouse_event_fn);\n",
       "    rubberband.mouseup('button_release', mouse_event_fn);\n",
       "    // Throttle sequential mouse events to 1 every 20ms.\n",
       "    rubberband.mousemove('motion_notify', mouse_event_fn);\n",
       "\n",
       "    rubberband.mouseenter('figure_enter', mouse_event_fn);\n",
       "    rubberband.mouseleave('figure_leave', mouse_event_fn);\n",
       "\n",
       "    canvas_div.on(\"wheel\", function (event) {\n",
       "        event = event.originalEvent;\n",
       "        event['data'] = 'scroll'\n",
       "        if (event.deltaY < 0) {\n",
       "            event.step = 1;\n",
       "        } else {\n",
       "            event.step = -1;\n",
       "        }\n",
       "        mouse_event_fn(event);\n",
       "    });\n",
       "\n",
       "    canvas_div.append(canvas);\n",
       "    canvas_div.append(rubberband);\n",
       "\n",
       "    this.rubberband = rubberband;\n",
       "    this.rubberband_canvas = rubberband[0];\n",
       "    this.rubberband_context = rubberband[0].getContext(\"2d\");\n",
       "    this.rubberband_context.strokeStyle = \"#000000\";\n",
       "\n",
       "    this._resize_canvas = function(width, height) {\n",
       "        // Keep the size of the canvas, canvas container, and rubber band\n",
       "        // canvas in synch.\n",
       "        canvas_div.css('width', width)\n",
       "        canvas_div.css('height', height)\n",
       "\n",
       "        canvas.attr('width', width * mpl.ratio);\n",
       "        canvas.attr('height', height * mpl.ratio);\n",
       "        canvas.attr('style', 'width: ' + width + 'px; height: ' + height + 'px;');\n",
       "\n",
       "        rubberband.attr('width', width);\n",
       "        rubberband.attr('height', height);\n",
       "    }\n",
       "\n",
       "    // Set the figure to an initial 600x600px, this will subsequently be updated\n",
       "    // upon first draw.\n",
       "    this._resize_canvas(600, 600);\n",
       "\n",
       "    // Disable right mouse context menu.\n",
       "    $(this.rubberband_canvas).bind(\"contextmenu\",function(e){\n",
       "        return false;\n",
       "    });\n",
       "\n",
       "    function set_focus () {\n",
       "        canvas.focus();\n",
       "        canvas_div.focus();\n",
       "    }\n",
       "\n",
       "    window.setTimeout(set_focus, 100);\n",
       "}\n",
       "\n",
       "mpl.figure.prototype._init_toolbar = function() {\n",
       "    var fig = this;\n",
       "\n",
       "    var nav_element = $('<div/>')\n",
       "    nav_element.attr('style', 'width: 100%');\n",
       "    this.root.append(nav_element);\n",
       "\n",
       "    // Define a callback function for later on.\n",
       "    function toolbar_event(event) {\n",
       "        return fig.toolbar_button_onclick(event['data']);\n",
       "    }\n",
       "    function toolbar_mouse_event(event) {\n",
       "        return fig.toolbar_button_onmouseover(event['data']);\n",
       "    }\n",
       "\n",
       "    for(var toolbar_ind in mpl.toolbar_items) {\n",
       "        var name = mpl.toolbar_items[toolbar_ind][0];\n",
       "        var tooltip = mpl.toolbar_items[toolbar_ind][1];\n",
       "        var image = mpl.toolbar_items[toolbar_ind][2];\n",
       "        var method_name = mpl.toolbar_items[toolbar_ind][3];\n",
       "\n",
       "        if (!name) {\n",
       "            // put a spacer in here.\n",
       "            continue;\n",
       "        }\n",
       "        var button = $('<button/>');\n",
       "        button.addClass('ui-button ui-widget ui-state-default ui-corner-all ' +\n",
       "                        'ui-button-icon-only');\n",
       "        button.attr('role', 'button');\n",
       "        button.attr('aria-disabled', 'false');\n",
       "        button.click(method_name, toolbar_event);\n",
       "        button.mouseover(tooltip, toolbar_mouse_event);\n",
       "\n",
       "        var icon_img = $('<span/>');\n",
       "        icon_img.addClass('ui-button-icon-primary ui-icon');\n",
       "        icon_img.addClass(image);\n",
       "        icon_img.addClass('ui-corner-all');\n",
       "\n",
       "        var tooltip_span = $('<span/>');\n",
       "        tooltip_span.addClass('ui-button-text');\n",
       "        tooltip_span.html(tooltip);\n",
       "\n",
       "        button.append(icon_img);\n",
       "        button.append(tooltip_span);\n",
       "\n",
       "        nav_element.append(button);\n",
       "    }\n",
       "\n",
       "    var fmt_picker_span = $('<span/>');\n",
       "\n",
       "    var fmt_picker = $('<select/>');\n",
       "    fmt_picker.addClass('mpl-toolbar-option ui-widget ui-widget-content');\n",
       "    fmt_picker_span.append(fmt_picker);\n",
       "    nav_element.append(fmt_picker_span);\n",
       "    this.format_dropdown = fmt_picker[0];\n",
       "\n",
       "    for (var ind in mpl.extensions) {\n",
       "        var fmt = mpl.extensions[ind];\n",
       "        var option = $(\n",
       "            '<option/>', {selected: fmt === mpl.default_extension}).html(fmt);\n",
       "        fmt_picker.append(option)\n",
       "    }\n",
       "\n",
       "    // Add hover states to the ui-buttons\n",
       "    $( \".ui-button\" ).hover(\n",
       "        function() { $(this).addClass(\"ui-state-hover\");},\n",
       "        function() { $(this).removeClass(\"ui-state-hover\");}\n",
       "    );\n",
       "\n",
       "    var status_bar = $('<span class=\"mpl-message\"/>');\n",
       "    nav_element.append(status_bar);\n",
       "    this.message = status_bar[0];\n",
       "}\n",
       "\n",
       "mpl.figure.prototype.request_resize = function(x_pixels, y_pixels) {\n",
       "    // Request matplotlib to resize the figure. Matplotlib will then trigger a resize in the client,\n",
       "    // which will in turn request a refresh of the image.\n",
       "    this.send_message('resize', {'width': x_pixels, 'height': y_pixels});\n",
       "}\n",
       "\n",
       "mpl.figure.prototype.send_message = function(type, properties) {\n",
       "    properties['type'] = type;\n",
       "    properties['figure_id'] = this.id;\n",
       "    this.ws.send(JSON.stringify(properties));\n",
       "}\n",
       "\n",
       "mpl.figure.prototype.send_draw_message = function() {\n",
       "    if (!this.waiting) {\n",
       "        this.waiting = true;\n",
       "        this.ws.send(JSON.stringify({type: \"draw\", figure_id: this.id}));\n",
       "    }\n",
       "}\n",
       "\n",
       "\n",
       "mpl.figure.prototype.handle_save = function(fig, msg) {\n",
       "    var format_dropdown = fig.format_dropdown;\n",
       "    var format = format_dropdown.options[format_dropdown.selectedIndex].value;\n",
       "    fig.ondownload(fig, format);\n",
       "}\n",
       "\n",
       "\n",
       "mpl.figure.prototype.handle_resize = function(fig, msg) {\n",
       "    var size = msg['size'];\n",
       "    if (size[0] != fig.canvas.width || size[1] != fig.canvas.height) {\n",
       "        fig._resize_canvas(size[0], size[1]);\n",
       "        fig.send_message(\"refresh\", {});\n",
       "    };\n",
       "}\n",
       "\n",
       "mpl.figure.prototype.handle_rubberband = function(fig, msg) {\n",
       "    var x0 = msg['x0'] / mpl.ratio;\n",
       "    var y0 = (fig.canvas.height - msg['y0']) / mpl.ratio;\n",
       "    var x1 = msg['x1'] / mpl.ratio;\n",
       "    var y1 = (fig.canvas.height - msg['y1']) / mpl.ratio;\n",
       "    x0 = Math.floor(x0) + 0.5;\n",
       "    y0 = Math.floor(y0) + 0.5;\n",
       "    x1 = Math.floor(x1) + 0.5;\n",
       "    y1 = Math.floor(y1) + 0.5;\n",
       "    var min_x = Math.min(x0, x1);\n",
       "    var min_y = Math.min(y0, y1);\n",
       "    var width = Math.abs(x1 - x0);\n",
       "    var height = Math.abs(y1 - y0);\n",
       "\n",
       "    fig.rubberband_context.clearRect(\n",
       "        0, 0, fig.canvas.width, fig.canvas.height);\n",
       "\n",
       "    fig.rubberband_context.strokeRect(min_x, min_y, width, height);\n",
       "}\n",
       "\n",
       "mpl.figure.prototype.handle_figure_label = function(fig, msg) {\n",
       "    // Updates the figure title.\n",
       "    fig.header.textContent = msg['label'];\n",
       "}\n",
       "\n",
       "mpl.figure.prototype.handle_cursor = function(fig, msg) {\n",
       "    var cursor = msg['cursor'];\n",
       "    switch(cursor)\n",
       "    {\n",
       "    case 0:\n",
       "        cursor = 'pointer';\n",
       "        break;\n",
       "    case 1:\n",
       "        cursor = 'default';\n",
       "        break;\n",
       "    case 2:\n",
       "        cursor = 'crosshair';\n",
       "        break;\n",
       "    case 3:\n",
       "        cursor = 'move';\n",
       "        break;\n",
       "    }\n",
       "    fig.rubberband_canvas.style.cursor = cursor;\n",
       "}\n",
       "\n",
       "mpl.figure.prototype.handle_message = function(fig, msg) {\n",
       "    fig.message.textContent = msg['message'];\n",
       "}\n",
       "\n",
       "mpl.figure.prototype.handle_draw = function(fig, msg) {\n",
       "    // Request the server to send over a new figure.\n",
       "    fig.send_draw_message();\n",
       "}\n",
       "\n",
       "mpl.figure.prototype.handle_image_mode = function(fig, msg) {\n",
       "    fig.image_mode = msg['mode'];\n",
       "}\n",
       "\n",
       "mpl.figure.prototype.updated_canvas_event = function() {\n",
       "    // Called whenever the canvas gets updated.\n",
       "    this.send_message(\"ack\", {});\n",
       "}\n",
       "\n",
       "// A function to construct a web socket function for onmessage handling.\n",
       "// Called in the figure constructor.\n",
       "mpl.figure.prototype._make_on_message_function = function(fig) {\n",
       "    return function socket_on_message(evt) {\n",
       "        if (evt.data instanceof Blob) {\n",
       "            /* FIXME: We get \"Resource interpreted as Image but\n",
       "             * transferred with MIME type text/plain:\" errors on\n",
       "             * Chrome.  But how to set the MIME type?  It doesn't seem\n",
       "             * to be part of the websocket stream */\n",
       "            evt.data.type = \"image/png\";\n",
       "\n",
       "            /* Free the memory for the previous frames */\n",
       "            if (fig.imageObj.src) {\n",
       "                (window.URL || window.webkitURL).revokeObjectURL(\n",
       "                    fig.imageObj.src);\n",
       "            }\n",
       "\n",
       "            fig.imageObj.src = (window.URL || window.webkitURL).createObjectURL(\n",
       "                evt.data);\n",
       "            fig.updated_canvas_event();\n",
       "            fig.waiting = false;\n",
       "            return;\n",
       "        }\n",
       "        else if (typeof evt.data === 'string' && evt.data.slice(0, 21) == \"data:image/png;base64\") {\n",
       "            fig.imageObj.src = evt.data;\n",
       "            fig.updated_canvas_event();\n",
       "            fig.waiting = false;\n",
       "            return;\n",
       "        }\n",
       "\n",
       "        var msg = JSON.parse(evt.data);\n",
       "        var msg_type = msg['type'];\n",
       "\n",
       "        // Call the  \"handle_{type}\" callback, which takes\n",
       "        // the figure and JSON message as its only arguments.\n",
       "        try {\n",
       "            var callback = fig[\"handle_\" + msg_type];\n",
       "        } catch (e) {\n",
       "            console.log(\"No handler for the '\" + msg_type + \"' message type: \", msg);\n",
       "            return;\n",
       "        }\n",
       "\n",
       "        if (callback) {\n",
       "            try {\n",
       "                // console.log(\"Handling '\" + msg_type + \"' message: \", msg);\n",
       "                callback(fig, msg);\n",
       "            } catch (e) {\n",
       "                console.log(\"Exception inside the 'handler_\" + msg_type + \"' callback:\", e, e.stack, msg);\n",
       "            }\n",
       "        }\n",
       "    };\n",
       "}\n",
       "\n",
       "// from http://stackoverflow.com/questions/1114465/getting-mouse-location-in-canvas\n",
       "mpl.findpos = function(e) {\n",
       "    //this section is from http://www.quirksmode.org/js/events_properties.html\n",
       "    var targ;\n",
       "    if (!e)\n",
       "        e = window.event;\n",
       "    if (e.target)\n",
       "        targ = e.target;\n",
       "    else if (e.srcElement)\n",
       "        targ = e.srcElement;\n",
       "    if (targ.nodeType == 3) // defeat Safari bug\n",
       "        targ = targ.parentNode;\n",
       "\n",
       "    // jQuery normalizes the pageX and pageY\n",
       "    // pageX,Y are the mouse positions relative to the document\n",
       "    // offset() returns the position of the element relative to the document\n",
       "    var x = e.pageX - $(targ).offset().left;\n",
       "    var y = e.pageY - $(targ).offset().top;\n",
       "\n",
       "    return {\"x\": x, \"y\": y};\n",
       "};\n",
       "\n",
       "/*\n",
       " * return a copy of an object with only non-object keys\n",
       " * we need this to avoid circular references\n",
       " * http://stackoverflow.com/a/24161582/3208463\n",
       " */\n",
       "function simpleKeys (original) {\n",
       "  return Object.keys(original).reduce(function (obj, key) {\n",
       "    if (typeof original[key] !== 'object')\n",
       "        obj[key] = original[key]\n",
       "    return obj;\n",
       "  }, {});\n",
       "}\n",
       "\n",
       "mpl.figure.prototype.mouse_event = function(event, name) {\n",
       "    var canvas_pos = mpl.findpos(event)\n",
       "\n",
       "    if (name === 'button_press')\n",
       "    {\n",
       "        this.canvas.focus();\n",
       "        this.canvas_div.focus();\n",
       "    }\n",
       "\n",
       "    var x = canvas_pos.x * mpl.ratio;\n",
       "    var y = canvas_pos.y * mpl.ratio;\n",
       "\n",
       "    this.send_message(name, {x: x, y: y, button: event.button,\n",
       "                             step: event.step,\n",
       "                             guiEvent: simpleKeys(event)});\n",
       "\n",
       "    /* This prevents the web browser from automatically changing to\n",
       "     * the text insertion cursor when the button is pressed.  We want\n",
       "     * to control all of the cursor setting manually through the\n",
       "     * 'cursor' event from matplotlib */\n",
       "    event.preventDefault();\n",
       "    return false;\n",
       "}\n",
       "\n",
       "mpl.figure.prototype._key_event_extra = function(event, name) {\n",
       "    // Handle any extra behaviour associated with a key event\n",
       "}\n",
       "\n",
       "mpl.figure.prototype.key_event = function(event, name) {\n",
       "\n",
       "    // Prevent repeat events\n",
       "    if (name == 'key_press')\n",
       "    {\n",
       "        if (event.which === this._key)\n",
       "            return;\n",
       "        else\n",
       "            this._key = event.which;\n",
       "    }\n",
       "    if (name == 'key_release')\n",
       "        this._key = null;\n",
       "\n",
       "    var value = '';\n",
       "    if (event.ctrlKey && event.which != 17)\n",
       "        value += \"ctrl+\";\n",
       "    if (event.altKey && event.which != 18)\n",
       "        value += \"alt+\";\n",
       "    if (event.shiftKey && event.which != 16)\n",
       "        value += \"shift+\";\n",
       "\n",
       "    value += 'k';\n",
       "    value += event.which.toString();\n",
       "\n",
       "    this._key_event_extra(event, name);\n",
       "\n",
       "    this.send_message(name, {key: value,\n",
       "                             guiEvent: simpleKeys(event)});\n",
       "    return false;\n",
       "}\n",
       "\n",
       "mpl.figure.prototype.toolbar_button_onclick = function(name) {\n",
       "    if (name == 'download') {\n",
       "        this.handle_save(this, null);\n",
       "    } else {\n",
       "        this.send_message(\"toolbar_button\", {name: name});\n",
       "    }\n",
       "};\n",
       "\n",
       "mpl.figure.prototype.toolbar_button_onmouseover = function(tooltip) {\n",
       "    this.message.textContent = tooltip;\n",
       "};\n",
       "mpl.toolbar_items = [[\"Home\", \"Reset original view\", \"fa fa-home icon-home\", \"home\"], [\"Back\", \"Back to previous view\", \"fa fa-arrow-left icon-arrow-left\", \"back\"], [\"Forward\", \"Forward to next view\", \"fa fa-arrow-right icon-arrow-right\", \"forward\"], [\"\", \"\", \"\", \"\"], [\"Pan\", \"Pan axes with left mouse, zoom with right\", \"fa fa-arrows icon-move\", \"pan\"], [\"Zoom\", \"Zoom to rectangle\", \"fa fa-square-o icon-check-empty\", \"zoom\"], [\"\", \"\", \"\", \"\"], [\"Download\", \"Download plot\", \"fa fa-floppy-o icon-save\", \"download\"]];\n",
       "\n",
       "mpl.extensions = [\"eps\", \"jpeg\", \"pdf\", \"png\", \"ps\", \"raw\", \"svg\", \"tif\"];\n",
       "\n",
       "mpl.default_extension = \"png\";var comm_websocket_adapter = function(comm) {\n",
       "    // Create a \"websocket\"-like object which calls the given IPython comm\n",
       "    // object with the appropriate methods. Currently this is a non binary\n",
       "    // socket, so there is still some room for performance tuning.\n",
       "    var ws = {};\n",
       "\n",
       "    ws.close = function() {\n",
       "        comm.close()\n",
       "    };\n",
       "    ws.send = function(m) {\n",
       "        //console.log('sending', m);\n",
       "        comm.send(m);\n",
       "    };\n",
       "    // Register the callback with on_msg.\n",
       "    comm.on_msg(function(msg) {\n",
       "        //console.log('receiving', msg['content']['data'], msg);\n",
       "        // Pass the mpl event to the overridden (by mpl) onmessage function.\n",
       "        ws.onmessage(msg['content']['data'])\n",
       "    });\n",
       "    return ws;\n",
       "}\n",
       "\n",
       "mpl.mpl_figure_comm = function(comm, msg) {\n",
       "    // This is the function which gets called when the mpl process\n",
       "    // starts-up an IPython Comm through the \"matplotlib\" channel.\n",
       "\n",
       "    var id = msg.content.data.id;\n",
       "    // Get hold of the div created by the display call when the Comm\n",
       "    // socket was opened in Python.\n",
       "    var element = $(\"#\" + id);\n",
       "    var ws_proxy = comm_websocket_adapter(comm)\n",
       "\n",
       "    function ondownload(figure, format) {\n",
       "        window.open(figure.imageObj.src);\n",
       "    }\n",
       "\n",
       "    var fig = new mpl.figure(id, ws_proxy,\n",
       "                           ondownload,\n",
       "                           element.get(0));\n",
       "\n",
       "    // Call onopen now - mpl needs it, as it is assuming we've passed it a real\n",
       "    // web socket which is closed, not our websocket->open comm proxy.\n",
       "    ws_proxy.onopen();\n",
       "\n",
       "    fig.parent_element = element.get(0);\n",
       "    fig.cell_info = mpl.find_output_cell(\"<div id='\" + id + \"'></div>\");\n",
       "    if (!fig.cell_info) {\n",
       "        console.error(\"Failed to find cell for figure\", id, fig);\n",
       "        return;\n",
       "    }\n",
       "\n",
       "    var output_index = fig.cell_info[2]\n",
       "    var cell = fig.cell_info[0];\n",
       "\n",
       "};\n",
       "\n",
       "mpl.figure.prototype.handle_close = function(fig, msg) {\n",
       "    var width = fig.canvas.width/mpl.ratio\n",
       "    fig.root.unbind('remove')\n",
       "\n",
       "    // Update the output cell to use the data from the current canvas.\n",
       "    fig.push_to_output();\n",
       "    var dataURL = fig.canvas.toDataURL();\n",
       "    // Re-enable the keyboard manager in IPython - without this line, in FF,\n",
       "    // the notebook keyboard shortcuts fail.\n",
       "    IPython.keyboard_manager.enable()\n",
       "    $(fig.parent_element).html('<img src=\"' + dataURL + '\" width=\"' + width + '\">');\n",
       "    fig.close_ws(fig, msg);\n",
       "}\n",
       "\n",
       "mpl.figure.prototype.close_ws = function(fig, msg){\n",
       "    fig.send_message('closing', msg);\n",
       "    // fig.ws.close()\n",
       "}\n",
       "\n",
       "mpl.figure.prototype.push_to_output = function(remove_interactive) {\n",
       "    // Turn the data on the canvas into data in the output cell.\n",
       "    var width = this.canvas.width/mpl.ratio\n",
       "    var dataURL = this.canvas.toDataURL();\n",
       "    this.cell_info[1]['text/html'] = '<img src=\"' + dataURL + '\" width=\"' + width + '\">';\n",
       "}\n",
       "\n",
       "mpl.figure.prototype.updated_canvas_event = function() {\n",
       "    // Tell IPython that the notebook contents must change.\n",
       "    IPython.notebook.set_dirty(true);\n",
       "    this.send_message(\"ack\", {});\n",
       "    var fig = this;\n",
       "    // Wait a second, then push the new image to the DOM so\n",
       "    // that it is saved nicely (might be nice to debounce this).\n",
       "    setTimeout(function () { fig.push_to_output() }, 1000);\n",
       "}\n",
       "\n",
       "mpl.figure.prototype._init_toolbar = function() {\n",
       "    var fig = this;\n",
       "\n",
       "    var nav_element = $('<div/>')\n",
       "    nav_element.attr('style', 'width: 100%');\n",
       "    this.root.append(nav_element);\n",
       "\n",
       "    // Define a callback function for later on.\n",
       "    function toolbar_event(event) {\n",
       "        return fig.toolbar_button_onclick(event['data']);\n",
       "    }\n",
       "    function toolbar_mouse_event(event) {\n",
       "        return fig.toolbar_button_onmouseover(event['data']);\n",
       "    }\n",
       "\n",
       "    for(var toolbar_ind in mpl.toolbar_items){\n",
       "        var name = mpl.toolbar_items[toolbar_ind][0];\n",
       "        var tooltip = mpl.toolbar_items[toolbar_ind][1];\n",
       "        var image = mpl.toolbar_items[toolbar_ind][2];\n",
       "        var method_name = mpl.toolbar_items[toolbar_ind][3];\n",
       "\n",
       "        if (!name) { continue; };\n",
       "\n",
       "        var button = $('<button class=\"btn btn-default\" href=\"#\" title=\"' + name + '\"><i class=\"fa ' + image + ' fa-lg\"></i></button>');\n",
       "        button.click(method_name, toolbar_event);\n",
       "        button.mouseover(tooltip, toolbar_mouse_event);\n",
       "        nav_element.append(button);\n",
       "    }\n",
       "\n",
       "    // Add the status bar.\n",
       "    var status_bar = $('<span class=\"mpl-message\" style=\"text-align:right; float: right;\"/>');\n",
       "    nav_element.append(status_bar);\n",
       "    this.message = status_bar[0];\n",
       "\n",
       "    // Add the close button to the window.\n",
       "    var buttongrp = $('<div class=\"btn-group inline pull-right\"></div>');\n",
       "    var button = $('<button class=\"btn btn-mini btn-primary\" href=\"#\" title=\"Stop Interaction\"><i class=\"fa fa-power-off icon-remove icon-large\"></i></button>');\n",
       "    button.click(function (evt) { fig.handle_close(fig, {}); } );\n",
       "    button.mouseover('Stop Interaction', toolbar_mouse_event);\n",
       "    buttongrp.append(button);\n",
       "    var titlebar = this.root.find($('.ui-dialog-titlebar'));\n",
       "    titlebar.prepend(buttongrp);\n",
       "}\n",
       "\n",
       "mpl.figure.prototype._root_extra_style = function(el){\n",
       "    var fig = this\n",
       "    el.on(\"remove\", function(){\n",
       "\tfig.close_ws(fig, {});\n",
       "    });\n",
       "}\n",
       "\n",
       "mpl.figure.prototype._canvas_extra_style = function(el){\n",
       "    // this is important to make the div 'focusable\n",
       "    el.attr('tabindex', 0)\n",
       "    // reach out to IPython and tell the keyboard manager to turn it's self\n",
       "    // off when our div gets focus\n",
       "\n",
       "    // location in version 3\n",
       "    if (IPython.notebook.keyboard_manager) {\n",
       "        IPython.notebook.keyboard_manager.register_events(el);\n",
       "    }\n",
       "    else {\n",
       "        // location in version 2\n",
       "        IPython.keyboard_manager.register_events(el);\n",
       "    }\n",
       "\n",
       "}\n",
       "\n",
       "mpl.figure.prototype._key_event_extra = function(event, name) {\n",
       "    var manager = IPython.notebook.keyboard_manager;\n",
       "    if (!manager)\n",
       "        manager = IPython.keyboard_manager;\n",
       "\n",
       "    // Check for shift+enter\n",
       "    if (event.shiftKey && event.which == 13) {\n",
       "        this.canvas_div.blur();\n",
       "        event.shiftKey = false;\n",
       "        // Send a \"J\" for go to next cell\n",
       "        event.which = 74;\n",
       "        event.keyCode = 74;\n",
       "        manager.command_mode();\n",
       "        manager.handle_keydown(event);\n",
       "    }\n",
       "}\n",
       "\n",
       "mpl.figure.prototype.handle_save = function(fig, msg) {\n",
       "    fig.ondownload(fig, null);\n",
       "}\n",
       "\n",
       "\n",
       "mpl.find_output_cell = function(html_output) {\n",
       "    // Return the cell and output element which can be found *uniquely* in the notebook.\n",
       "    // Note - this is a bit hacky, but it is done because the \"notebook_saving.Notebook\"\n",
       "    // IPython event is triggered only after the cells have been serialised, which for\n",
       "    // our purposes (turning an active figure into a static one), is too late.\n",
       "    var cells = IPython.notebook.get_cells();\n",
       "    var ncells = cells.length;\n",
       "    for (var i=0; i<ncells; i++) {\n",
       "        var cell = cells[i];\n",
       "        if (cell.cell_type === 'code'){\n",
       "            for (var j=0; j<cell.output_area.outputs.length; j++) {\n",
       "                var data = cell.output_area.outputs[j];\n",
       "                if (data.data) {\n",
       "                    // IPython >= 3 moved mimebundle to data attribute of output\n",
       "                    data = data.data;\n",
       "                }\n",
       "                if (data['text/html'] == html_output) {\n",
       "                    return [cell, data, j];\n",
       "                }\n",
       "            }\n",
       "        }\n",
       "    }\n",
       "}\n",
       "\n",
       "// Register the function which deals with the matplotlib target/channel.\n",
       "// The kernel may be null if the page has been refreshed.\n",
       "if (IPython.notebook.kernel != null) {\n",
       "    IPython.notebook.kernel.comm_manager.register_target('matplotlib', mpl.mpl_figure_comm);\n",
       "}\n"
      ],
      "text/plain": [
       "<IPython.core.display.Javascript object>"
      ]
     },
     "metadata": {},
     "output_type": "display_data"
    },
    {
     "data": {
      "text/html": [
       "<img src=\"data:image/png;base64,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\" width=\"640\">"
      ],
      "text/plain": [
       "<IPython.core.display.HTML object>"
      ]
     },
     "metadata": {},
     "output_type": "display_data"
    },
    {
     "data": {
      "text/plain": [
       "[<matplotlib.lines.Line2D at 0x7fa8aa144a90>,\n",
       " <matplotlib.lines.Line2D at 0x7fa8aa144be0>,\n",
       " <matplotlib.lines.Line2D at 0x7fa8aa144d30>,\n",
       " <matplotlib.lines.Line2D at 0x7fa8aa144e80>,\n",
       " <matplotlib.lines.Line2D at 0x7fa8aa144fd0>,\n",
       " <matplotlib.lines.Line2D at 0x7fa8aa15f160>,\n",
       " <matplotlib.lines.Line2D at 0x7fa8aa15f2b0>,\n",
       " <matplotlib.lines.Line2D at 0x7fa8aa15f400>,\n",
       " <matplotlib.lines.Line2D at 0x7fa8aa15f550>,\n",
       " <matplotlib.lines.Line2D at 0x7fa8aa15f6a0>]"
      ]
     },
     "execution_count": 17,
     "metadata": {},
     "output_type": "execute_result"
    }
   ],
   "source": [
    "plt.figure()\n",
    "plt.plot(X.squeeze().numpy(), L.squeeze().numpy())"
   ]
  },
  {
   "cell_type": "code",
   "execution_count": null,
   "metadata": {},
   "outputs": [],
   "source": []
  },
  {
   "cell_type": "code",
   "execution_count": 15,
   "metadata": {},
   "outputs": [],
   "source": [
    "proc = util.OUNoise(batch_size=4, mu=0., sigma=0.2, theta=.1)"
   ]
  },
  {
   "cell_type": "code",
   "execution_count": 16,
   "metadata": {},
   "outputs": [
    {
     "data": {
      "text/plain": [
       "torch.Size([4, 10, 1])"
      ]
     },
     "execution_count": 16,
     "metadata": {},
     "output_type": "execute_result"
    }
   ],
   "source": [
    "proc(10).shape"
   ]
  },
  {
   "cell_type": "code",
   "execution_count": 22,
   "metadata": {},
   "outputs": [
    {
     "data": {
      "text/plain": [
       "torch.Size([4, 1])"
      ]
     },
     "execution_count": 22,
     "metadata": {},
     "output_type": "execute_result"
    }
   ],
   "source": [
    "proc().shape"
   ]
  },
  {
   "cell_type": "code",
   "execution_count": 21,
   "metadata": {},
   "outputs": [
    {
     "data": {
      "application/javascript": [
       "/* Put everything inside the global mpl namespace */\n",
       "window.mpl = {};\n",
       "\n",
       "\n",
       "mpl.get_websocket_type = function() {\n",
       "    if (typeof(WebSocket) !== 'undefined') {\n",
       "        return WebSocket;\n",
       "    } else if (typeof(MozWebSocket) !== 'undefined') {\n",
       "        return MozWebSocket;\n",
       "    } else {\n",
       "        alert('Your browser does not have WebSocket support. ' +\n",
       "              'Please try Chrome, Safari or Firefox ≥ 6. ' +\n",
       "              'Firefox 4 and 5 are also supported but you ' +\n",
       "              'have to enable WebSockets in about:config.');\n",
       "    };\n",
       "}\n",
       "\n",
       "mpl.figure = function(figure_id, websocket, ondownload, parent_element) {\n",
       "    this.id = figure_id;\n",
       "\n",
       "    this.ws = websocket;\n",
       "\n",
       "    this.supports_binary = (this.ws.binaryType != undefined);\n",
       "\n",
       "    if (!this.supports_binary) {\n",
       "        var warnings = document.getElementById(\"mpl-warnings\");\n",
       "        if (warnings) {\n",
       "            warnings.style.display = 'block';\n",
       "            warnings.textContent = (\n",
       "                \"This browser does not support binary websocket messages. \" +\n",
       "                    \"Performance may be slow.\");\n",
       "        }\n",
       "    }\n",
       "\n",
       "    this.imageObj = new Image();\n",
       "\n",
       "    this.context = undefined;\n",
       "    this.message = undefined;\n",
       "    this.canvas = undefined;\n",
       "    this.rubberband_canvas = undefined;\n",
       "    this.rubberband_context = undefined;\n",
       "    this.format_dropdown = undefined;\n",
       "\n",
       "    this.image_mode = 'full';\n",
       "\n",
       "    this.root = $('<div/>');\n",
       "    this._root_extra_style(this.root)\n",
       "    this.root.attr('style', 'display: inline-block');\n",
       "\n",
       "    $(parent_element).append(this.root);\n",
       "\n",
       "    this._init_header(this);\n",
       "    this._init_canvas(this);\n",
       "    this._init_toolbar(this);\n",
       "\n",
       "    var fig = this;\n",
       "\n",
       "    this.waiting = false;\n",
       "\n",
       "    this.ws.onopen =  function () {\n",
       "            fig.send_message(\"supports_binary\", {value: fig.supports_binary});\n",
       "            fig.send_message(\"send_image_mode\", {});\n",
       "            if (mpl.ratio != 1) {\n",
       "                fig.send_message(\"set_dpi_ratio\", {'dpi_ratio': mpl.ratio});\n",
       "            }\n",
       "            fig.send_message(\"refresh\", {});\n",
       "        }\n",
       "\n",
       "    this.imageObj.onload = function() {\n",
       "            if (fig.image_mode == 'full') {\n",
       "                // Full images could contain transparency (where diff images\n",
       "                // almost always do), so we need to clear the canvas so that\n",
       "                // there is no ghosting.\n",
       "                fig.context.clearRect(0, 0, fig.canvas.width, fig.canvas.height);\n",
       "            }\n",
       "            fig.context.drawImage(fig.imageObj, 0, 0);\n",
       "        };\n",
       "\n",
       "    this.imageObj.onunload = function() {\n",
       "        fig.ws.close();\n",
       "    }\n",
       "\n",
       "    this.ws.onmessage = this._make_on_message_function(this);\n",
       "\n",
       "    this.ondownload = ondownload;\n",
       "}\n",
       "\n",
       "mpl.figure.prototype._init_header = function() {\n",
       "    var titlebar = $(\n",
       "        '<div class=\"ui-dialog-titlebar ui-widget-header ui-corner-all ' +\n",
       "        'ui-helper-clearfix\"/>');\n",
       "    var titletext = $(\n",
       "        '<div class=\"ui-dialog-title\" style=\"width: 100%; ' +\n",
       "        'text-align: center; padding: 3px;\"/>');\n",
       "    titlebar.append(titletext)\n",
       "    this.root.append(titlebar);\n",
       "    this.header = titletext[0];\n",
       "}\n",
       "\n",
       "\n",
       "\n",
       "mpl.figure.prototype._canvas_extra_style = function(canvas_div) {\n",
       "\n",
       "}\n",
       "\n",
       "\n",
       "mpl.figure.prototype._root_extra_style = function(canvas_div) {\n",
       "\n",
       "}\n",
       "\n",
       "mpl.figure.prototype._init_canvas = function() {\n",
       "    var fig = this;\n",
       "\n",
       "    var canvas_div = $('<div/>');\n",
       "\n",
       "    canvas_div.attr('style', 'position: relative; clear: both; outline: 0');\n",
       "\n",
       "    function canvas_keyboard_event(event) {\n",
       "        return fig.key_event(event, event['data']);\n",
       "    }\n",
       "\n",
       "    canvas_div.keydown('key_press', canvas_keyboard_event);\n",
       "    canvas_div.keyup('key_release', canvas_keyboard_event);\n",
       "    this.canvas_div = canvas_div\n",
       "    this._canvas_extra_style(canvas_div)\n",
       "    this.root.append(canvas_div);\n",
       "\n",
       "    var canvas = $('<canvas/>');\n",
       "    canvas.addClass('mpl-canvas');\n",
       "    canvas.attr('style', \"left: 0; top: 0; z-index: 0; outline: 0\")\n",
       "\n",
       "    this.canvas = canvas[0];\n",
       "    this.context = canvas[0].getContext(\"2d\");\n",
       "\n",
       "    var backingStore = this.context.backingStorePixelRatio ||\n",
       "\tthis.context.webkitBackingStorePixelRatio ||\n",
       "\tthis.context.mozBackingStorePixelRatio ||\n",
       "\tthis.context.msBackingStorePixelRatio ||\n",
       "\tthis.context.oBackingStorePixelRatio ||\n",
       "\tthis.context.backingStorePixelRatio || 1;\n",
       "\n",
       "    mpl.ratio = (window.devicePixelRatio || 1) / backingStore;\n",
       "\n",
       "    var rubberband = $('<canvas/>');\n",
       "    rubberband.attr('style', \"position: absolute; left: 0; top: 0; z-index: 1;\")\n",
       "\n",
       "    var pass_mouse_events = true;\n",
       "\n",
       "    canvas_div.resizable({\n",
       "        start: function(event, ui) {\n",
       "            pass_mouse_events = false;\n",
       "        },\n",
       "        resize: function(event, ui) {\n",
       "            fig.request_resize(ui.size.width, ui.size.height);\n",
       "        },\n",
       "        stop: function(event, ui) {\n",
       "            pass_mouse_events = true;\n",
       "            fig.request_resize(ui.size.width, ui.size.height);\n",
       "        },\n",
       "    });\n",
       "\n",
       "    function mouse_event_fn(event) {\n",
       "        if (pass_mouse_events)\n",
       "            return fig.mouse_event(event, event['data']);\n",
       "    }\n",
       "\n",
       "    rubberband.mousedown('button_press', mouse_event_fn);\n",
       "    rubberband.mouseup('button_release', mouse_event_fn);\n",
       "    // Throttle sequential mouse events to 1 every 20ms.\n",
       "    rubberband.mousemove('motion_notify', mouse_event_fn);\n",
       "\n",
       "    rubberband.mouseenter('figure_enter', mouse_event_fn);\n",
       "    rubberband.mouseleave('figure_leave', mouse_event_fn);\n",
       "\n",
       "    canvas_div.on(\"wheel\", function (event) {\n",
       "        event = event.originalEvent;\n",
       "        event['data'] = 'scroll'\n",
       "        if (event.deltaY < 0) {\n",
       "            event.step = 1;\n",
       "        } else {\n",
       "            event.step = -1;\n",
       "        }\n",
       "        mouse_event_fn(event);\n",
       "    });\n",
       "\n",
       "    canvas_div.append(canvas);\n",
       "    canvas_div.append(rubberband);\n",
       "\n",
       "    this.rubberband = rubberband;\n",
       "    this.rubberband_canvas = rubberband[0];\n",
       "    this.rubberband_context = rubberband[0].getContext(\"2d\");\n",
       "    this.rubberband_context.strokeStyle = \"#000000\";\n",
       "\n",
       "    this._resize_canvas = function(width, height) {\n",
       "        // Keep the size of the canvas, canvas container, and rubber band\n",
       "        // canvas in synch.\n",
       "        canvas_div.css('width', width)\n",
       "        canvas_div.css('height', height)\n",
       "\n",
       "        canvas.attr('width', width * mpl.ratio);\n",
       "        canvas.attr('height', height * mpl.ratio);\n",
       "        canvas.attr('style', 'width: ' + width + 'px; height: ' + height + 'px;');\n",
       "\n",
       "        rubberband.attr('width', width);\n",
       "        rubberband.attr('height', height);\n",
       "    }\n",
       "\n",
       "    // Set the figure to an initial 600x600px, this will subsequently be updated\n",
       "    // upon first draw.\n",
       "    this._resize_canvas(600, 600);\n",
       "\n",
       "    // Disable right mouse context menu.\n",
       "    $(this.rubberband_canvas).bind(\"contextmenu\",function(e){\n",
       "        return false;\n",
       "    });\n",
       "\n",
       "    function set_focus () {\n",
       "        canvas.focus();\n",
       "        canvas_div.focus();\n",
       "    }\n",
       "\n",
       "    window.setTimeout(set_focus, 100);\n",
       "}\n",
       "\n",
       "mpl.figure.prototype._init_toolbar = function() {\n",
       "    var fig = this;\n",
       "\n",
       "    var nav_element = $('<div/>');\n",
       "    nav_element.attr('style', 'width: 100%');\n",
       "    this.root.append(nav_element);\n",
       "\n",
       "    // Define a callback function for later on.\n",
       "    function toolbar_event(event) {\n",
       "        return fig.toolbar_button_onclick(event['data']);\n",
       "    }\n",
       "    function toolbar_mouse_event(event) {\n",
       "        return fig.toolbar_button_onmouseover(event['data']);\n",
       "    }\n",
       "\n",
       "    for(var toolbar_ind in mpl.toolbar_items) {\n",
       "        var name = mpl.toolbar_items[toolbar_ind][0];\n",
       "        var tooltip = mpl.toolbar_items[toolbar_ind][1];\n",
       "        var image = mpl.toolbar_items[toolbar_ind][2];\n",
       "        var method_name = mpl.toolbar_items[toolbar_ind][3];\n",
       "\n",
       "        if (!name) {\n",
       "            // put a spacer in here.\n",
       "            continue;\n",
       "        }\n",
       "        var button = $('<button/>');\n",
       "        button.addClass('ui-button ui-widget ui-state-default ui-corner-all ' +\n",
       "                        'ui-button-icon-only');\n",
       "        button.attr('role', 'button');\n",
       "        button.attr('aria-disabled', 'false');\n",
       "        button.click(method_name, toolbar_event);\n",
       "        button.mouseover(tooltip, toolbar_mouse_event);\n",
       "\n",
       "        var icon_img = $('<span/>');\n",
       "        icon_img.addClass('ui-button-icon-primary ui-icon');\n",
       "        icon_img.addClass(image);\n",
       "        icon_img.addClass('ui-corner-all');\n",
       "\n",
       "        var tooltip_span = $('<span/>');\n",
       "        tooltip_span.addClass('ui-button-text');\n",
       "        tooltip_span.html(tooltip);\n",
       "\n",
       "        button.append(icon_img);\n",
       "        button.append(tooltip_span);\n",
       "\n",
       "        nav_element.append(button);\n",
       "    }\n",
       "\n",
       "    var fmt_picker_span = $('<span/>');\n",
       "\n",
       "    var fmt_picker = $('<select/>');\n",
       "    fmt_picker.addClass('mpl-toolbar-option ui-widget ui-widget-content');\n",
       "    fmt_picker_span.append(fmt_picker);\n",
       "    nav_element.append(fmt_picker_span);\n",
       "    this.format_dropdown = fmt_picker[0];\n",
       "\n",
       "    for (var ind in mpl.extensions) {\n",
       "        var fmt = mpl.extensions[ind];\n",
       "        var option = $(\n",
       "            '<option/>', {selected: fmt === mpl.default_extension}).html(fmt);\n",
       "        fmt_picker.append(option);\n",
       "    }\n",
       "\n",
       "    // Add hover states to the ui-buttons\n",
       "    $( \".ui-button\" ).hover(\n",
       "        function() { $(this).addClass(\"ui-state-hover\");},\n",
       "        function() { $(this).removeClass(\"ui-state-hover\");}\n",
       "    );\n",
       "\n",
       "    var status_bar = $('<span class=\"mpl-message\"/>');\n",
       "    nav_element.append(status_bar);\n",
       "    this.message = status_bar[0];\n",
       "}\n",
       "\n",
       "mpl.figure.prototype.request_resize = function(x_pixels, y_pixels) {\n",
       "    // Request matplotlib to resize the figure. Matplotlib will then trigger a resize in the client,\n",
       "    // which will in turn request a refresh of the image.\n",
       "    this.send_message('resize', {'width': x_pixels, 'height': y_pixels});\n",
       "}\n",
       "\n",
       "mpl.figure.prototype.send_message = function(type, properties) {\n",
       "    properties['type'] = type;\n",
       "    properties['figure_id'] = this.id;\n",
       "    this.ws.send(JSON.stringify(properties));\n",
       "}\n",
       "\n",
       "mpl.figure.prototype.send_draw_message = function() {\n",
       "    if (!this.waiting) {\n",
       "        this.waiting = true;\n",
       "        this.ws.send(JSON.stringify({type: \"draw\", figure_id: this.id}));\n",
       "    }\n",
       "}\n",
       "\n",
       "\n",
       "mpl.figure.prototype.handle_save = function(fig, msg) {\n",
       "    var format_dropdown = fig.format_dropdown;\n",
       "    var format = format_dropdown.options[format_dropdown.selectedIndex].value;\n",
       "    fig.ondownload(fig, format);\n",
       "}\n",
       "\n",
       "\n",
       "mpl.figure.prototype.handle_resize = function(fig, msg) {\n",
       "    var size = msg['size'];\n",
       "    if (size[0] != fig.canvas.width || size[1] != fig.canvas.height) {\n",
       "        fig._resize_canvas(size[0], size[1]);\n",
       "        fig.send_message(\"refresh\", {});\n",
       "    };\n",
       "}\n",
       "\n",
       "mpl.figure.prototype.handle_rubberband = function(fig, msg) {\n",
       "    var x0 = msg['x0'] / mpl.ratio;\n",
       "    var y0 = (fig.canvas.height - msg['y0']) / mpl.ratio;\n",
       "    var x1 = msg['x1'] / mpl.ratio;\n",
       "    var y1 = (fig.canvas.height - msg['y1']) / mpl.ratio;\n",
       "    x0 = Math.floor(x0) + 0.5;\n",
       "    y0 = Math.floor(y0) + 0.5;\n",
       "    x1 = Math.floor(x1) + 0.5;\n",
       "    y1 = Math.floor(y1) + 0.5;\n",
       "    var min_x = Math.min(x0, x1);\n",
       "    var min_y = Math.min(y0, y1);\n",
       "    var width = Math.abs(x1 - x0);\n",
       "    var height = Math.abs(y1 - y0);\n",
       "\n",
       "    fig.rubberband_context.clearRect(\n",
       "        0, 0, fig.canvas.width, fig.canvas.height);\n",
       "\n",
       "    fig.rubberband_context.strokeRect(min_x, min_y, width, height);\n",
       "}\n",
       "\n",
       "mpl.figure.prototype.handle_figure_label = function(fig, msg) {\n",
       "    // Updates the figure title.\n",
       "    fig.header.textContent = msg['label'];\n",
       "}\n",
       "\n",
       "mpl.figure.prototype.handle_cursor = function(fig, msg) {\n",
       "    var cursor = msg['cursor'];\n",
       "    switch(cursor)\n",
       "    {\n",
       "    case 0:\n",
       "        cursor = 'pointer';\n",
       "        break;\n",
       "    case 1:\n",
       "        cursor = 'default';\n",
       "        break;\n",
       "    case 2:\n",
       "        cursor = 'crosshair';\n",
       "        break;\n",
       "    case 3:\n",
       "        cursor = 'move';\n",
       "        break;\n",
       "    }\n",
       "    fig.rubberband_canvas.style.cursor = cursor;\n",
       "}\n",
       "\n",
       "mpl.figure.prototype.handle_message = function(fig, msg) {\n",
       "    fig.message.textContent = msg['message'];\n",
       "}\n",
       "\n",
       "mpl.figure.prototype.handle_draw = function(fig, msg) {\n",
       "    // Request the server to send over a new figure.\n",
       "    fig.send_draw_message();\n",
       "}\n",
       "\n",
       "mpl.figure.prototype.handle_image_mode = function(fig, msg) {\n",
       "    fig.image_mode = msg['mode'];\n",
       "}\n",
       "\n",
       "mpl.figure.prototype.updated_canvas_event = function() {\n",
       "    // Called whenever the canvas gets updated.\n",
       "    this.send_message(\"ack\", {});\n",
       "}\n",
       "\n",
       "// A function to construct a web socket function for onmessage handling.\n",
       "// Called in the figure constructor.\n",
       "mpl.figure.prototype._make_on_message_function = function(fig) {\n",
       "    return function socket_on_message(evt) {\n",
       "        if (evt.data instanceof Blob) {\n",
       "            /* FIXME: We get \"Resource interpreted as Image but\n",
       "             * transferred with MIME type text/plain:\" errors on\n",
       "             * Chrome.  But how to set the MIME type?  It doesn't seem\n",
       "             * to be part of the websocket stream */\n",
       "            evt.data.type = \"image/png\";\n",
       "\n",
       "            /* Free the memory for the previous frames */\n",
       "            if (fig.imageObj.src) {\n",
       "                (window.URL || window.webkitURL).revokeObjectURL(\n",
       "                    fig.imageObj.src);\n",
       "            }\n",
       "\n",
       "            fig.imageObj.src = (window.URL || window.webkitURL).createObjectURL(\n",
       "                evt.data);\n",
       "            fig.updated_canvas_event();\n",
       "            fig.waiting = false;\n",
       "            return;\n",
       "        }\n",
       "        else if (typeof evt.data === 'string' && evt.data.slice(0, 21) == \"data:image/png;base64\") {\n",
       "            fig.imageObj.src = evt.data;\n",
       "            fig.updated_canvas_event();\n",
       "            fig.waiting = false;\n",
       "            return;\n",
       "        }\n",
       "\n",
       "        var msg = JSON.parse(evt.data);\n",
       "        var msg_type = msg['type'];\n",
       "\n",
       "        // Call the  \"handle_{type}\" callback, which takes\n",
       "        // the figure and JSON message as its only arguments.\n",
       "        try {\n",
       "            var callback = fig[\"handle_\" + msg_type];\n",
       "        } catch (e) {\n",
       "            console.log(\"No handler for the '\" + msg_type + \"' message type: \", msg);\n",
       "            return;\n",
       "        }\n",
       "\n",
       "        if (callback) {\n",
       "            try {\n",
       "                // console.log(\"Handling '\" + msg_type + \"' message: \", msg);\n",
       "                callback(fig, msg);\n",
       "            } catch (e) {\n",
       "                console.log(\"Exception inside the 'handler_\" + msg_type + \"' callback:\", e, e.stack, msg);\n",
       "            }\n",
       "        }\n",
       "    };\n",
       "}\n",
       "\n",
       "// from http://stackoverflow.com/questions/1114465/getting-mouse-location-in-canvas\n",
       "mpl.findpos = function(e) {\n",
       "    //this section is from http://www.quirksmode.org/js/events_properties.html\n",
       "    var targ;\n",
       "    if (!e)\n",
       "        e = window.event;\n",
       "    if (e.target)\n",
       "        targ = e.target;\n",
       "    else if (e.srcElement)\n",
       "        targ = e.srcElement;\n",
       "    if (targ.nodeType == 3) // defeat Safari bug\n",
       "        targ = targ.parentNode;\n",
       "\n",
       "    // jQuery normalizes the pageX and pageY\n",
       "    // pageX,Y are the mouse positions relative to the document\n",
       "    // offset() returns the position of the element relative to the document\n",
       "    var x = e.pageX - $(targ).offset().left;\n",
       "    var y = e.pageY - $(targ).offset().top;\n",
       "\n",
       "    return {\"x\": x, \"y\": y};\n",
       "};\n",
       "\n",
       "/*\n",
       " * return a copy of an object with only non-object keys\n",
       " * we need this to avoid circular references\n",
       " * http://stackoverflow.com/a/24161582/3208463\n",
       " */\n",
       "function simpleKeys (original) {\n",
       "  return Object.keys(original).reduce(function (obj, key) {\n",
       "    if (typeof original[key] !== 'object')\n",
       "        obj[key] = original[key]\n",
       "    return obj;\n",
       "  }, {});\n",
       "}\n",
       "\n",
       "mpl.figure.prototype.mouse_event = function(event, name) {\n",
       "    var canvas_pos = mpl.findpos(event)\n",
       "\n",
       "    if (name === 'button_press')\n",
       "    {\n",
       "        this.canvas.focus();\n",
       "        this.canvas_div.focus();\n",
       "    }\n",
       "\n",
       "    var x = canvas_pos.x * mpl.ratio;\n",
       "    var y = canvas_pos.y * mpl.ratio;\n",
       "\n",
       "    this.send_message(name, {x: x, y: y, button: event.button,\n",
       "                             step: event.step,\n",
       "                             guiEvent: simpleKeys(event)});\n",
       "\n",
       "    /* This prevents the web browser from automatically changing to\n",
       "     * the text insertion cursor when the button is pressed.  We want\n",
       "     * to control all of the cursor setting manually through the\n",
       "     * 'cursor' event from matplotlib */\n",
       "    event.preventDefault();\n",
       "    return false;\n",
       "}\n",
       "\n",
       "mpl.figure.prototype._key_event_extra = function(event, name) {\n",
       "    // Handle any extra behaviour associated with a key event\n",
       "}\n",
       "\n",
       "mpl.figure.prototype.key_event = function(event, name) {\n",
       "\n",
       "    // Prevent repeat events\n",
       "    if (name == 'key_press')\n",
       "    {\n",
       "        if (event.which === this._key)\n",
       "            return;\n",
       "        else\n",
       "            this._key = event.which;\n",
       "    }\n",
       "    if (name == 'key_release')\n",
       "        this._key = null;\n",
       "\n",
       "    var value = '';\n",
       "    if (event.ctrlKey && event.which != 17)\n",
       "        value += \"ctrl+\";\n",
       "    if (event.altKey && event.which != 18)\n",
       "        value += \"alt+\";\n",
       "    if (event.shiftKey && event.which != 16)\n",
       "        value += \"shift+\";\n",
       "\n",
       "    value += 'k';\n",
       "    value += event.which.toString();\n",
       "\n",
       "    this._key_event_extra(event, name);\n",
       "\n",
       "    this.send_message(name, {key: value,\n",
       "                             guiEvent: simpleKeys(event)});\n",
       "    return false;\n",
       "}\n",
       "\n",
       "mpl.figure.prototype.toolbar_button_onclick = function(name) {\n",
       "    if (name == 'download') {\n",
       "        this.handle_save(this, null);\n",
       "    } else {\n",
       "        this.send_message(\"toolbar_button\", {name: name});\n",
       "    }\n",
       "};\n",
       "\n",
       "mpl.figure.prototype.toolbar_button_onmouseover = function(tooltip) {\n",
       "    this.message.textContent = tooltip;\n",
       "};\n",
       "mpl.toolbar_items = [[\"Home\", \"Reset original view\", \"fa fa-home icon-home\", \"home\"], [\"Back\", \"Back to previous view\", \"fa fa-arrow-left icon-arrow-left\", \"back\"], [\"Forward\", \"Forward to next view\", \"fa fa-arrow-right icon-arrow-right\", \"forward\"], [\"\", \"\", \"\", \"\"], [\"Pan\", \"Pan axes with left mouse, zoom with right\", \"fa fa-arrows icon-move\", \"pan\"], [\"Zoom\", \"Zoom to rectangle\", \"fa fa-square-o icon-check-empty\", \"zoom\"], [\"\", \"\", \"\", \"\"], [\"Download\", \"Download plot\", \"fa fa-floppy-o icon-save\", \"download\"]];\n",
       "\n",
       "mpl.extensions = [\"eps\", \"jpeg\", \"pdf\", \"png\", \"ps\", \"raw\", \"svg\", \"tif\"];\n",
       "\n",
       "mpl.default_extension = \"png\";var comm_websocket_adapter = function(comm) {\n",
       "    // Create a \"websocket\"-like object which calls the given IPython comm\n",
       "    // object with the appropriate methods. Currently this is a non binary\n",
       "    // socket, so there is still some room for performance tuning.\n",
       "    var ws = {};\n",
       "\n",
       "    ws.close = function() {\n",
       "        comm.close()\n",
       "    };\n",
       "    ws.send = function(m) {\n",
       "        //console.log('sending', m);\n",
       "        comm.send(m);\n",
       "    };\n",
       "    // Register the callback with on_msg.\n",
       "    comm.on_msg(function(msg) {\n",
       "        //console.log('receiving', msg['content']['data'], msg);\n",
       "        // Pass the mpl event to the overridden (by mpl) onmessage function.\n",
       "        ws.onmessage(msg['content']['data'])\n",
       "    });\n",
       "    return ws;\n",
       "}\n",
       "\n",
       "mpl.mpl_figure_comm = function(comm, msg) {\n",
       "    // This is the function which gets called when the mpl process\n",
       "    // starts-up an IPython Comm through the \"matplotlib\" channel.\n",
       "\n",
       "    var id = msg.content.data.id;\n",
       "    // Get hold of the div created by the display call when the Comm\n",
       "    // socket was opened in Python.\n",
       "    var element = $(\"#\" + id);\n",
       "    var ws_proxy = comm_websocket_adapter(comm)\n",
       "\n",
       "    function ondownload(figure, format) {\n",
       "        window.open(figure.imageObj.src);\n",
       "    }\n",
       "\n",
       "    var fig = new mpl.figure(id, ws_proxy,\n",
       "                           ondownload,\n",
       "                           element.get(0));\n",
       "\n",
       "    // Call onopen now - mpl needs it, as it is assuming we've passed it a real\n",
       "    // web socket which is closed, not our websocket->open comm proxy.\n",
       "    ws_proxy.onopen();\n",
       "\n",
       "    fig.parent_element = element.get(0);\n",
       "    fig.cell_info = mpl.find_output_cell(\"<div id='\" + id + \"'></div>\");\n",
       "    if (!fig.cell_info) {\n",
       "        console.error(\"Failed to find cell for figure\", id, fig);\n",
       "        return;\n",
       "    }\n",
       "\n",
       "    var output_index = fig.cell_info[2]\n",
       "    var cell = fig.cell_info[0];\n",
       "\n",
       "};\n",
       "\n",
       "mpl.figure.prototype.handle_close = function(fig, msg) {\n",
       "    var width = fig.canvas.width/mpl.ratio\n",
       "    fig.root.unbind('remove')\n",
       "\n",
       "    // Update the output cell to use the data from the current canvas.\n",
       "    fig.push_to_output();\n",
       "    var dataURL = fig.canvas.toDataURL();\n",
       "    // Re-enable the keyboard manager in IPython - without this line, in FF,\n",
       "    // the notebook keyboard shortcuts fail.\n",
       "    IPython.keyboard_manager.enable()\n",
       "    $(fig.parent_element).html('<img src=\"' + dataURL + '\" width=\"' + width + '\">');\n",
       "    fig.close_ws(fig, msg);\n",
       "}\n",
       "\n",
       "mpl.figure.prototype.close_ws = function(fig, msg){\n",
       "    fig.send_message('closing', msg);\n",
       "    // fig.ws.close()\n",
       "}\n",
       "\n",
       "mpl.figure.prototype.push_to_output = function(remove_interactive) {\n",
       "    // Turn the data on the canvas into data in the output cell.\n",
       "    var width = this.canvas.width/mpl.ratio\n",
       "    var dataURL = this.canvas.toDataURL();\n",
       "    this.cell_info[1]['text/html'] = '<img src=\"' + dataURL + '\" width=\"' + width + '\">';\n",
       "}\n",
       "\n",
       "mpl.figure.prototype.updated_canvas_event = function() {\n",
       "    // Tell IPython that the notebook contents must change.\n",
       "    IPython.notebook.set_dirty(true);\n",
       "    this.send_message(\"ack\", {});\n",
       "    var fig = this;\n",
       "    // Wait a second, then push the new image to the DOM so\n",
       "    // that it is saved nicely (might be nice to debounce this).\n",
       "    setTimeout(function () { fig.push_to_output() }, 1000);\n",
       "}\n",
       "\n",
       "mpl.figure.prototype._init_toolbar = function() {\n",
       "    var fig = this;\n",
       "\n",
       "    var nav_element = $('<div/>');\n",
       "    nav_element.attr('style', 'width: 100%');\n",
       "    this.root.append(nav_element);\n",
       "\n",
       "    // Define a callback function for later on.\n",
       "    function toolbar_event(event) {\n",
       "        return fig.toolbar_button_onclick(event['data']);\n",
       "    }\n",
       "    function toolbar_mouse_event(event) {\n",
       "        return fig.toolbar_button_onmouseover(event['data']);\n",
       "    }\n",
       "\n",
       "    for(var toolbar_ind in mpl.toolbar_items){\n",
       "        var name = mpl.toolbar_items[toolbar_ind][0];\n",
       "        var tooltip = mpl.toolbar_items[toolbar_ind][1];\n",
       "        var image = mpl.toolbar_items[toolbar_ind][2];\n",
       "        var method_name = mpl.toolbar_items[toolbar_ind][3];\n",
       "\n",
       "        if (!name) { continue; };\n",
       "\n",
       "        var button = $('<button class=\"btn btn-default\" href=\"#\" title=\"' + name + '\"><i class=\"fa ' + image + ' fa-lg\"></i></button>');\n",
       "        button.click(method_name, toolbar_event);\n",
       "        button.mouseover(tooltip, toolbar_mouse_event);\n",
       "        nav_element.append(button);\n",
       "    }\n",
       "\n",
       "    // Add the status bar.\n",
       "    var status_bar = $('<span class=\"mpl-message\" style=\"text-align:right; float: right;\"/>');\n",
       "    nav_element.append(status_bar);\n",
       "    this.message = status_bar[0];\n",
       "\n",
       "    // Add the close button to the window.\n",
       "    var buttongrp = $('<div class=\"btn-group inline pull-right\"></div>');\n",
       "    var button = $('<button class=\"btn btn-mini btn-primary\" href=\"#\" title=\"Stop Interaction\"><i class=\"fa fa-power-off icon-remove icon-large\"></i></button>');\n",
       "    button.click(function (evt) { fig.handle_close(fig, {}); } );\n",
       "    button.mouseover('Stop Interaction', toolbar_mouse_event);\n",
       "    buttongrp.append(button);\n",
       "    var titlebar = this.root.find($('.ui-dialog-titlebar'));\n",
       "    titlebar.prepend(buttongrp);\n",
       "}\n",
       "\n",
       "mpl.figure.prototype._root_extra_style = function(el){\n",
       "    var fig = this\n",
       "    el.on(\"remove\", function(){\n",
       "\tfig.close_ws(fig, {});\n",
       "    });\n",
       "}\n",
       "\n",
       "mpl.figure.prototype._canvas_extra_style = function(el){\n",
       "    // this is important to make the div 'focusable\n",
       "    el.attr('tabindex', 0)\n",
       "    // reach out to IPython and tell the keyboard manager to turn it's self\n",
       "    // off when our div gets focus\n",
       "\n",
       "    // location in version 3\n",
       "    if (IPython.notebook.keyboard_manager) {\n",
       "        IPython.notebook.keyboard_manager.register_events(el);\n",
       "    }\n",
       "    else {\n",
       "        // location in version 2\n",
       "        IPython.keyboard_manager.register_events(el);\n",
       "    }\n",
       "\n",
       "}\n",
       "\n",
       "mpl.figure.prototype._key_event_extra = function(event, name) {\n",
       "    var manager = IPython.notebook.keyboard_manager;\n",
       "    if (!manager)\n",
       "        manager = IPython.keyboard_manager;\n",
       "\n",
       "    // Check for shift+enter\n",
       "    if (event.shiftKey && event.which == 13) {\n",
       "        this.canvas_div.blur();\n",
       "        event.shiftKey = false;\n",
       "        // Send a \"J\" for go to next cell\n",
       "        event.which = 74;\n",
       "        event.keyCode = 74;\n",
       "        manager.command_mode();\n",
       "        manager.handle_keydown(event);\n",
       "    }\n",
       "}\n",
       "\n",
       "mpl.figure.prototype.handle_save = function(fig, msg) {\n",
       "    fig.ondownload(fig, null);\n",
       "}\n",
       "\n",
       "\n",
       "mpl.find_output_cell = function(html_output) {\n",
       "    // Return the cell and output element which can be found *uniquely* in the notebook.\n",
       "    // Note - this is a bit hacky, but it is done because the \"notebook_saving.Notebook\"\n",
       "    // IPython event is triggered only after the cells have been serialised, which for\n",
       "    // our purposes (turning an active figure into a static one), is too late.\n",
       "    var cells = IPython.notebook.get_cells();\n",
       "    var ncells = cells.length;\n",
       "    for (var i=0; i<ncells; i++) {\n",
       "        var cell = cells[i];\n",
       "        if (cell.cell_type === 'code'){\n",
       "            for (var j=0; j<cell.output_area.outputs.length; j++) {\n",
       "                var data = cell.output_area.outputs[j];\n",
       "                if (data.data) {\n",
       "                    // IPython >= 3 moved mimebundle to data attribute of output\n",
       "                    data = data.data;\n",
       "                }\n",
       "                if (data['text/html'] == html_output) {\n",
       "                    return [cell, data, j];\n",
       "                }\n",
       "            }\n",
       "        }\n",
       "    }\n",
       "}\n",
       "\n",
       "// Register the function which deals with the matplotlib target/channel.\n",
       "// The kernel may be null if the page has been refreshed.\n",
       "if (IPython.notebook.kernel != null) {\n",
       "    IPython.notebook.kernel.comm_manager.register_target('matplotlib', mpl.mpl_figure_comm);\n",
       "}\n"
      ],
      "text/plain": [
       "<IPython.core.display.Javascript object>"
      ]
     },
     "metadata": {},
     "output_type": "display_data"
    },
    {
     "data": {
      "text/html": [
       "<img src=\"data:image/png;base64,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\" width=\"640\">"
      ],
      "text/plain": [
       "<IPython.core.display.HTML object>"
      ]
     },
     "metadata": {},
     "output_type": "display_data"
    }
   ],
   "source": [
    "\n",
    "N = 100\n",
    "t = torch.arange(N)\n",
    "out = proc(N).squeeze()\n",
    "plt.figure()\n",
    "plt.plot(t.numpy(), out.squeeze().clamp(-1,1).numpy().T)\n",
    "plt.plot(t.numpy(), torch.zeros_like(t).numpy(), c='k', ls='--')\n",
    "plt.ylim(-1.01,1.01)\n",
    "pass"
   ]
  },
  {
   "cell_type": "code",
   "execution_count": null,
   "metadata": {},
   "outputs": [],
   "source": []
  },
  {
   "cell_type": "code",
   "execution_count": null,
   "metadata": {},
   "outputs": [],
   "source": []
  },
  {
   "cell_type": "code",
   "execution_count": null,
   "metadata": {},
   "outputs": [],
   "source": []
  },
  {
   "cell_type": "code",
   "execution_count": null,
   "metadata": {},
   "outputs": [],
   "source": []
  },
  {
   "cell_type": "code",
   "execution_count": null,
   "metadata": {},
   "outputs": [],
   "source": []
  },
  {
   "cell_type": "code",
   "execution_count": 9,
   "metadata": {},
   "outputs": [],
   "source": [
    "import wikipedia"
   ]
  },
  {
   "cell_type": "code",
   "execution_count": 10,
   "metadata": {},
   "outputs": [
    {
     "data": {
      "text/plain": [
       "<WikipediaPage 'Machine learning'>"
      ]
     },
     "execution_count": 10,
     "metadata": {},
     "output_type": "execute_result"
    }
   ],
   "source": [
    "q1 = wikipedia.page('Machine Learning')\n",
    "q1"
   ]
  },
  {
   "cell_type": "code",
   "execution_count": 16,
   "metadata": {},
   "outputs": [
    {
     "data": {
      "text/plain": [
       "['Internet tutorial',\n",
       " 'National Register of Historic Places listings in Lamar County, Texas',\n",
       " 'Arabesque Partners',\n",
       " 'Catholic Earthcare Australia',\n",
       " 'Spororminula',\n",
       " 'Mawhun',\n",
       " 'List of Marie Claire cover models',\n",
       " 'Walias Band',\n",
       " 'Shahbaz Ali',\n",
       " 'Fernand Steens']"
      ]
     },
     "execution_count": 16,
     "metadata": {},
     "output_type": "execute_result"
    }
   ],
   "source": [
    "pgs = wikipedia.random(10)\n",
    "pgs"
   ]
  },
  {
   "cell_type": "code",
   "execution_count": 18,
   "metadata": {},
   "outputs": [],
   "source": [
    "wikipedia."
   ]
  },
  {
   "cell_type": "code",
   "execution_count": 12,
   "metadata": {},
   "outputs": [
    {
     "data": {
      "text/plain": [
       "['ACM Computing Classification System',\n",
       " 'ACM Computing Surveys',\n",
       " 'ADALINE',\n",
       " 'AT&T Labs',\n",
       " 'Action selection',\n",
       " 'Active learning (machine learning)',\n",
       " 'Adaptive website',\n",
       " 'Affective computing',\n",
       " 'Alan Turing',\n",
       " 'Algorithm',\n",
       " 'Algorithm design',\n",
       " 'Algorithmic bias',\n",
       " 'Algorithmic efficiency',\n",
       " 'Amazon Machine Learning',\n",
       " 'Analysis of algorithms',\n",
       " 'Angoss',\n",
       " 'Anomaly detection',\n",
       " 'Apache Mahout',\n",
       " 'Apache Spark',\n",
       " 'Apache SystemML',\n",
       " 'Application security',\n",
       " 'ArXiv',\n",
       " 'Array data structure',\n",
       " 'Arthur Samuel',\n",
       " 'Artificial Intelligence: A Modern Approach',\n",
       " 'Artificial immune system',\n",
       " 'Artificial intelligence',\n",
       " 'Artificial neural network',\n",
       " 'Artificial neural networks',\n",
       " 'Artificial neuron',\n",
       " 'Association rule learning',\n",
       " 'Autoencoder',\n",
       " 'Automata theory',\n",
       " 'Automated machine learning',\n",
       " 'Automated medical diagnosis',\n",
       " 'Automated planning and scheduling',\n",
       " 'Automated theorem proving',\n",
       " 'Autonomous vehicle',\n",
       " 'Ayasdi',\n",
       " 'Azure Machine Learning',\n",
       " 'Azure machine learning studio',\n",
       " 'BIRCH',\n",
       " 'Backpropagation',\n",
       " 'Bank fraud',\n",
       " 'Banking',\n",
       " 'Basis function',\n",
       " 'Bayesian network',\n",
       " 'Bias–variance decomposition',\n",
       " 'Bias–variance dilemma',\n",
       " 'Bibcode',\n",
       " 'Big data',\n",
       " 'Binary classifier',\n",
       " 'Bioinformatics',\n",
       " 'Biological neural network',\n",
       " 'Biology',\n",
       " 'Boolean data type',\n",
       " 'Boosting (machine learning)',\n",
       " 'Bootstrap aggregating',\n",
       " 'Bootstrapping',\n",
       " 'Brain',\n",
       " 'Brain–machine interface',\n",
       " 'Branches of science',\n",
       " 'CURE data clustering algorithm',\n",
       " 'Caffe (software)',\n",
       " 'Canonical correlation analysis',\n",
       " 'Chatbot',\n",
       " 'Cheminformatics',\n",
       " 'Christopher Bishop',\n",
       " 'Christopher M. Bishop',\n",
       " 'Chromosome (genetic algorithm)',\n",
       " 'CiteSeerX',\n",
       " 'Cluster analysis',\n",
       " 'Compiler construction',\n",
       " 'Computational anatomy',\n",
       " 'Computational biology',\n",
       " 'Computational chemistry',\n",
       " 'Computational complexity theory',\n",
       " 'Computational economics',\n",
       " 'Computational engineering',\n",
       " 'Computational geometry',\n",
       " 'Computational learning theory',\n",
       " 'Computational linguistics',\n",
       " 'Computational mathematics',\n",
       " 'Computational physics',\n",
       " 'Computational social science',\n",
       " 'Computational statistics',\n",
       " 'Computer accessibility',\n",
       " 'Computer animation',\n",
       " 'Computer architecture',\n",
       " 'Computer data storage',\n",
       " 'Computer gaming',\n",
       " 'Computer graphics',\n",
       " 'Computer hardware',\n",
       " 'Computer network',\n",
       " 'Computer science',\n",
       " 'Computer security',\n",
       " 'Computer security compromised by hardware failure',\n",
       " 'Computer systems',\n",
       " 'Computer vision',\n",
       " 'Computing Machinery and Intelligence',\n",
       " 'Computing platform',\n",
       " 'Concurrency (computer science)',\n",
       " 'Concurrent computing',\n",
       " 'Conditional independence',\n",
       " 'Conditional random field',\n",
       " 'Conference on Neural Information Processing Systems',\n",
       " 'Connectionism',\n",
       " 'Continuous production',\n",
       " 'Control theory',\n",
       " 'Convolutional neural network',\n",
       " 'Corinna Cortes',\n",
       " 'Credit-card fraud',\n",
       " 'Cross-validation (statistics)',\n",
       " 'Crossover (genetic algorithm)',\n",
       " 'Cryptography',\n",
       " 'Cyberwarfare',\n",
       " 'DBSCAN',\n",
       " 'DNA sequence',\n",
       " 'Dartmouth workshop',\n",
       " 'Data collection',\n",
       " 'Data mining',\n",
       " 'Data quality',\n",
       " 'Data science',\n",
       " 'Database',\n",
       " 'David J. C. MacKay',\n",
       " 'David Rumelhart',\n",
       " 'Decision making',\n",
       " 'Decision support system',\n",
       " 'Decision tree',\n",
       " 'Decision tree learning',\n",
       " 'DeepDream',\n",
       " 'Deep learning',\n",
       " 'Deeplearning4j',\n",
       " 'Density estimation',\n",
       " 'Dependability',\n",
       " 'Developmental robotics',\n",
       " 'Dictionary learning',\n",
       " 'Digital art',\n",
       " 'Digital library',\n",
       " 'Digital marketing',\n",
       " 'Digital object identifier',\n",
       " 'Dimensionality reduction',\n",
       " 'Directed acyclic graph',\n",
       " 'Discipline (academia)',\n",
       " 'Discovery (observation)',\n",
       " 'Discrete mathematics',\n",
       " 'Discrete number',\n",
       " 'Distributed artificial intelligence',\n",
       " 'Distributed computing',\n",
       " 'Document management system',\n",
       " 'Domain-specific language',\n",
       " 'Dynamic Bayesian network',\n",
       " 'Dynamic programming',\n",
       " 'E-commerce',\n",
       " 'ECML PKDD',\n",
       " 'ELKI',\n",
       " 'Educational technology',\n",
       " 'Ehud Shapiro',\n",
       " 'Electronic design automation',\n",
       " 'Electronic publishing',\n",
       " 'Electronic voting',\n",
       " 'Email filtering',\n",
       " 'Email spam',\n",
       " 'Embedded system',\n",
       " 'Empirical risk minimization',\n",
       " 'Ensemble Averaging',\n",
       " 'Ensemble learning',\n",
       " 'Entailment',\n",
       " 'Enterprise information system',\n",
       " 'Enterprise software',\n",
       " 'Errors and residuals',\n",
       " 'Evolutionary algorithm',\n",
       " 'Expectation–maximization algorithm',\n",
       " 'Expert system',\n",
       " 'Explanation-based learning',\n",
       " 'Exploratory data analysis',\n",
       " 'Factor analysis',\n",
       " 'False Negative Rate',\n",
       " 'False Positive Rate',\n",
       " 'Feature (machine learning)',\n",
       " 'Feature engineering',\n",
       " 'Feature learning',\n",
       " 'Federated learning',\n",
       " 'Fei-Fei Li',\n",
       " 'Financial market',\n",
       " 'Formal language',\n",
       " 'Formal methods',\n",
       " 'Functional programming',\n",
       " 'GNU Octave',\n",
       " 'GOFAI',\n",
       " 'Game theory',\n",
       " 'Gated recurrent unit',\n",
       " 'Gboard',\n",
       " 'General game playing',\n",
       " 'Generalized linear model',\n",
       " 'Generative adversarial network',\n",
       " 'Genetic algorithm',\n",
       " 'Geoff Hinton',\n",
       " 'Geographic information system',\n",
       " 'Glossary of artificial intelligence',\n",
       " 'Google',\n",
       " 'Google APIs',\n",
       " 'Gordon Plotkin',\n",
       " 'Grammar induction',\n",
       " 'Graphical model',\n",
       " 'Graphics processing unit',\n",
       " 'Green computing',\n",
       " 'Handwriting recognition',\n",
       " 'Hardware acceleration',\n",
       " 'Health informatics',\n",
       " 'Heuristic',\n",
       " 'Heuristic (computer science)',\n",
       " 'Hidden Markov model',\n",
       " 'Hierarchical clustering',\n",
       " 'Human brain',\n",
       " 'Human–computer interaction',\n",
       " 'IBM',\n",
       " 'IBM Data Science Experience',\n",
       " 'Image compression',\n",
       " 'Image de-noising',\n",
       " 'Independent component analysis',\n",
       " 'Inductive bias',\n",
       " 'Inductive logic programming',\n",
       " 'Inductive programming',\n",
       " 'Inductive reasoning',\n",
       " 'Inference',\n",
       " 'Influence diagram',\n",
       " 'Information retrieval',\n",
       " 'Information security',\n",
       " 'Information system',\n",
       " 'Information theory',\n",
       " 'Insurance',\n",
       " 'Integrated circuit',\n",
       " 'Integrated development environment',\n",
       " 'Interaction design',\n",
       " 'International Conference on Machine Learning',\n",
       " 'International Standard Book Number',\n",
       " 'International Standard Serial Number',\n",
       " 'Internet',\n",
       " 'Internet fraud',\n",
       " 'Interpreter (computing)',\n",
       " 'Intrusion detection',\n",
       " 'Intrusion detection system',\n",
       " 'Jerome H. Friedman',\n",
       " 'John Hopfield',\n",
       " 'Journal of Machine Learning Research',\n",
       " 'K-SVD',\n",
       " 'K-means clustering',\n",
       " 'K-nearest neighbors algorithm',\n",
       " 'K-nearest neighbors classification',\n",
       " 'KNIME',\n",
       " 'KXEN Inc.',\n",
       " 'Keras',\n",
       " 'Kernel trick',\n",
       " 'Knowledge discovery',\n",
       " 'Knowledge representation and reasoning',\n",
       " 'LIONsolver',\n",
       " 'Leaf node',\n",
       " 'Learning classifier system',\n",
       " 'Learning to rank',\n",
       " 'Leo Breiman',\n",
       " 'Library (computing)',\n",
       " 'Linear classifier',\n",
       " 'Linear discriminant analysis',\n",
       " 'Linear regression',\n",
       " 'List of datasets for machine-learning research',\n",
       " 'List of datasets for machine learning research',\n",
       " 'List of important publications in computer science',\n",
       " 'Local outlier factor',\n",
       " 'Logic in computer science',\n",
       " 'Logic programming',\n",
       " 'Logical conjunction',\n",
       " 'Logistic regression',\n",
       " 'Long short-term memory',\n",
       " 'Loss function',\n",
       " 'MATLAB',\n",
       " 'ML.NET',\n",
       " 'MOA (Massive Online Analysis)',\n",
       " 'MXNet',\n",
       " 'Machine Learning (journal)',\n",
       " 'Machine ethics',\n",
       " 'Machine learning control',\n",
       " 'Machine learning in bioinformatics',\n",
       " 'Machine perception',\n",
       " 'Machine translation',\n",
       " 'Mallet (software project)',\n",
       " 'Manifold learning',\n",
       " 'Market basket analysis',\n",
       " 'Marketing',\n",
       " 'Markov Decision Process',\n",
       " 'Mathematica',\n",
       " 'Mathematical analysis',\n",
       " 'Mathematical induction',\n",
       " 'Mathematical model',\n",
       " 'Mathematical optimization',\n",
       " 'Mathematical software',\n",
       " 'Matrix (mathematics)',\n",
       " 'Matrix decomposition',\n",
       " 'Mean-shift',\n",
       " 'Medical diagnosis',\n",
       " 'Mehryar Mohri',\n",
       " 'Meta learning (computer science)',\n",
       " 'Michael I. Jordan',\n",
       " 'Microsoft Cognitive Toolkit',\n",
       " 'Middleware',\n",
       " 'Mixed reality',\n",
       " 'Mlpack',\n",
       " 'Model of computation',\n",
       " 'Modeling language',\n",
       " 'Multi-agent system',\n",
       " 'Multi-task learning',\n",
       " 'Multilayer perceptron',\n",
       " 'Multilinear subspace learning',\n",
       " 'Multimedia database',\n",
       " 'Multiprocessing',\n",
       " 'Multithreading (computer architecture)',\n",
       " 'Mutation (genetic algorithm)',\n",
       " 'Naive Bayes classifier',\n",
       " 'Naomi Altman',\n",
       " 'Natural language',\n",
       " 'Natural language processing',\n",
       " 'Natural language understanding',\n",
       " 'Natural selection',\n",
       " 'Nature Machine Intelligence',\n",
       " 'Nature Methods',\n",
       " 'Netflix',\n",
       " 'Netflix Prize',\n",
       " 'Network architecture',\n",
       " 'Network performance',\n",
       " 'Network protocol',\n",
       " 'Network scheduler',\n",
       " 'Network security',\n",
       " 'Network service',\n",
       " 'Network simulation',\n",
       " 'Networking hardware',\n",
       " 'Neural Computation (journal)',\n",
       " 'Neural Designer',\n",
       " 'Neural Lab',\n",
       " 'Neural network',\n",
       " 'NeuroSolutions',\n",
       " 'Neuron',\n",
       " 'New England Journal of Medicine',\n",
       " 'New York Times',\n",
       " 'Non-negative matrix factorization',\n",
       " 'Numerical analysis',\n",
       " 'OPTICS algorithm',\n",
       " 'Occam learning',\n",
       " 'Online advertising',\n",
       " 'Online machine learning',\n",
       " 'Open-source software',\n",
       " 'OpenNN',\n",
       " 'Operating system',\n",
       " 'Operational definition',\n",
       " 'Operations research',\n",
       " 'Oracle Cloud',\n",
       " 'Oracle Data Mining',\n",
       " 'Orange (software)',\n",
       " 'Outlier',\n",
       " 'Outline of computer science',\n",
       " 'Outline of machine learning',\n",
       " 'Overfitting',\n",
       " 'Parallel computing',\n",
       " 'Paraphrase',\n",
       " 'Pattern recognition',\n",
       " 'Pedro Domingos',\n",
       " 'Peptide sequence',\n",
       " 'Perceptron',\n",
       " 'Peripheral',\n",
       " 'Peter E. Hart',\n",
       " 'Peter Norvig',\n",
       " 'Philosophy of artificial intelligence',\n",
       " 'Photo manipulation',\n",
       " 'Piecewise',\n",
       " 'Platt scaling',\n",
       " 'Point-of-sale',\n",
       " 'Precision agriculture',\n",
       " 'Predictive analytics',\n",
       " 'Predictive modelling',\n",
       " 'Pricing',\n",
       " 'Principal component analysis',\n",
       " 'Principal components analysis',\n",
       " 'Printed circuit board',\n",
       " 'ProPublica',\n",
       " 'Probabilistic classification',\n",
       " 'Probability',\n",
       " 'Probability density function',\n",
       " 'Probability theory',\n",
       " 'Probably approximately correct learning',\n",
       " 'Process control',\n",
       " 'Product placement',\n",
       " 'Programming language',\n",
       " 'Programming language theory',\n",
       " 'Programming paradigm',\n",
       " 'Programming team',\n",
       " 'Programming tool',\n",
       " 'PubMed Central',\n",
       " 'PubMed Identifier',\n",
       " 'PyTorch',\n",
       " 'Q-learning',\n",
       " 'Quantum machine learning',\n",
       " 'RCASE',\n",
       " 'ROOT',\n",
       " 'R (programming language)',\n",
       " 'Rakesh Agrawal (computer scientist)',\n",
       " 'Random forest',\n",
       " 'Random variables',\n",
       " 'Randomized algorithm',\n",
       " 'Ranking',\n",
       " 'RapidMiner',\n",
       " 'Ray Solomonoff',\n",
       " 'Real-time computing',\n",
       " 'Real number',\n",
       " 'Real numbers',\n",
       " 'Receiver Operating Characteristic',\n",
       " 'Recommendation systems',\n",
       " 'Recommender system',\n",
       " 'Recurrent neural network',\n",
       " 'Regression analysis',\n",
       " 'Reinforcement learning',\n",
       " 'Relevance vector machine',\n",
       " 'Rendering (computer graphics)',\n",
       " 'Requirements analysis',\n",
       " 'Restricted Boltzmann machine',\n",
       " 'Richard O. Duda',\n",
       " 'Robert Tibshirani',\n",
       " 'Robot learning',\n",
       " 'Robot locomotion',\n",
       " 'Rule-based machine learning',\n",
       " 'SAS (software)',\n",
       " 'SPSS Modeler',\n",
       " 'STATISTICA',\n",
       " 'Sample (statistics)',\n",
       " 'Scikit-learn',\n",
       " 'Search algorithm',\n",
       " 'Search engines',\n",
       " 'Security service (telecommunication)',\n",
       " 'Self-organizing map',\n",
       " 'Semantics (computer science)',\n",
       " 'Semi-supervised learning',\n",
       " 'Sensitivity and specificity',\n",
       " 'Sentiment analysis',\n",
       " 'SequenceL',\n",
       " 'Sequence mining',\n",
       " 'Shogun (toolbox)',\n",
       " 'Similarity learning',\n",
       " 'Simulation-based optimization',\n",
       " 'Social computing',\n",
       " 'Social network',\n",
       " 'Social software',\n",
       " 'Software agent',\n",
       " 'Software configuration management',\n",
       " 'Software construction',\n",
       " 'Software deployment',\n",
       " 'Software design',\n",
       " 'Software development',\n",
       " 'Software development process',\n",
       " 'Software engineering',\n",
       " 'Software framework',\n",
       " 'Software maintenance',\n",
       " 'Software quality',\n",
       " 'Software repository',\n",
       " 'Software suite',\n",
       " 'Solid modeling',\n",
       " 'Sparse coding',\n",
       " 'Sparse dictionary learning',\n",
       " 'Sparse matrix',\n",
       " 'Speech recognition',\n",
       " 'Splunk',\n",
       " 'Springer Nature',\n",
       " 'State–action–reward–state–action',\n",
       " 'Statistical classification',\n",
       " 'Statistical inference',\n",
       " 'Statistical learning',\n",
       " 'Statistical learning in language acquisition',\n",
       " 'Statistical learning theory',\n",
       " 'Statistical model',\n",
       " 'Statistics',\n",
       " 'Stevan Harnad',\n",
       " 'Strongly NP-hard',\n",
       " 'Structural health monitoring',\n",
       " 'Structured prediction',\n",
       " 'Stuart J. Russell',\n",
       " 'Sun Microsystems',\n",
       " 'Supervised learning',\n",
       " 'Support-vector machine',\n",
       " 'Support vector machine',\n",
       " 'Support vector machines',\n",
       " 'Swarm intelligence',\n",
       " 'Symbolic artificial intelligence',\n",
       " 'Synapse',\n",
       " 'Syntactic pattern recognition',\n",
       " 'System on a chip',\n",
       " 'T-distributed stochastic neighbor embedding',\n",
       " 'Telecommunication',\n",
       " 'Temporal difference learning',\n",
       " 'Tensor',\n",
       " 'TensorFlow',\n",
       " 'Test set',\n",
       " 'Text corpus',\n",
       " 'The Master Algorithm',\n",
       " 'The Wall Street Journal',\n",
       " 'Theoretical computer science',\n",
       " 'Theory of computation',\n",
       " 'Time complexity',\n",
       " 'Time series',\n",
       " 'Timeline of machine learning',\n",
       " 'Tom M. Mitchell',\n",
       " 'Tomasz Imieliński',\n",
       " 'Topic modeling',\n",
       " 'Torch (machine learning)',\n",
       " 'Total Operating Characteristic',\n",
       " 'Training data',\n",
       " 'Trevor Hastie',\n",
       " 'U-Net',\n",
       " 'Uber',\n",
       " 'Ubiquitous computing',\n",
       " 'Unsupervised learning',\n",
       " 'User behavior analytics',\n",
       " 'Vapnik–Chervonenkis theory',\n",
       " 'Very Large Scale Integration',\n",
       " 'Video game',\n",
       " 'Vinod Khosla',\n",
       " 'Virtual machine',\n",
       " 'Virtual reality',\n",
       " 'Visualization (graphics)',\n",
       " 'Watson (computer)',\n",
       " 'Weak supervision',\n",
       " 'Web usage mining',\n",
       " 'Weight (mathematics)',\n",
       " 'Weka (machine learning)',\n",
       " 'Word processor',\n",
       " 'World Wide Web',\n",
       " 'Yooreeka',\n",
       " 'Yoshua Bengio']"
      ]
     },
     "execution_count": 12,
     "metadata": {},
     "output_type": "execute_result"
    }
   ],
   "source": [
    "q1.links"
   ]
  },
  {
   "cell_type": "code",
   "execution_count": null,
   "metadata": {},
   "outputs": [],
   "source": []
  },
  {
   "cell_type": "code",
   "execution_count": null,
   "metadata": {},
   "outputs": [],
   "source": []
  },
  {
   "cell_type": "code",
   "execution_count": 4,
   "metadata": {},
   "outputs": [
    {
     "data": {
      "text/plain": [
       "torch.Size([10, 4])"
      ]
     },
     "execution_count": 4,
     "metadata": {},
     "output_type": "execute_result"
    }
   ],
   "source": [
    "pts = torch.randn(10,4)\n",
    "pts.shape"
   ]
  },
  {
   "cell_type": "code",
   "execution_count": 10,
   "metadata": {},
   "outputs": [
    {
     "data": {
      "text/plain": [
       "torch.Size([10, 2])"
      ]
     },
     "execution_count": 10,
     "metadata": {},
     "output_type": "execute_result"
    }
   ],
   "source": [
    "sphr = util.cart2sphr(pts)\n",
    "sphr.shape"
   ]
  },
  {
   "cell_type": "code",
   "execution_count": 11,
   "metadata": {},
   "outputs": [
    {
     "data": {
      "text/plain": [
       "torch.Size([10, 2])"
      ]
     },
     "execution_count": 11,
     "metadata": {},
     "output_type": "execute_result"
    }
   ],
   "source": [
    "cart = util.sphr2cart(sphr)\n",
    "cart.shape"
   ]
  },
  {
   "cell_type": "code",
   "execution_count": 12,
   "metadata": {},
   "outputs": [
    {
     "data": {
      "text/plain": [
       "tensor(8.5598e-15)"
      ]
     },
     "execution_count": 12,
     "metadata": {},
     "output_type": "execute_result"
    }
   ],
   "source": [
    "nn.MSELoss()(cart, pts)"
   ]
  },
  {
   "cell_type": "code",
   "execution_count": 6,
   "metadata": {},
   "outputs": [
    {
     "data": {
      "text/plain": [
       "tensor([[1.1415, 0.8607, 4.7850],\n",
       "        [1.0559, 2.2279, 1.6730],\n",
       "        [1.3231, 1.4238, 3.9197],\n",
       "        [2.3975, 1.8156, 2.4104],\n",
       "        [0.9338, 3.0293, 1.8454],\n",
       "        [1.6500, 2.2558, 4.0090],\n",
       "        [1.0879, 0.4823, 4.8611],\n",
       "        [1.9762, 0.9867, 4.4470],\n",
       "        [1.3451, 1.1972, 1.7413],\n",
       "        [2.5999, 2.9752, 0.5590]])"
      ]
     },
     "execution_count": 6,
     "metadata": {},
     "output_type": "execute_result"
    }
   ],
   "source": [
    "phis = util.cart2angl(pts)\n",
    "phis"
   ]
  },
  {
   "cell_type": "code",
   "execution_count": 7,
   "metadata": {},
   "outputs": [
    {
     "data": {
      "text/plain": [
       "tensor([[1.1415, 0.8607, 4.7850],\n",
       "        [1.0559, 2.2279, 1.6730],\n",
       "        [1.3231, 1.4238, 3.9197],\n",
       "        [2.3975, 1.8156, 2.4104],\n",
       "        [0.9338, 3.0293, 1.8454],\n",
       "        [1.6500, 2.2558, 4.0090],\n",
       "        [1.0879, 0.4823, 4.8611],\n",
       "        [1.9762, 0.9867, 4.4470],\n",
       "        [1.3451, 1.1972, 1.7413],\n",
       "        [2.5999, 2.9752, 0.5590]])"
      ]
     },
     "execution_count": 7,
     "metadata": {},
     "output_type": "execute_result"
    }
   ],
   "source": [
    "phis = util.cart2angl(pts*10)\n",
    "phis"
   ]
  },
  {
   "cell_type": "code",
   "execution_count": null,
   "metadata": {},
   "outputs": [],
   "source": []
  },
  {
   "cell_type": "code",
   "execution_count": 13,
   "metadata": {},
   "outputs": [
    {
     "data": {
      "text/plain": [
       "tensor([[-0.9066, -0.1331],\n",
       "        [ 0.3564, -1.0869],\n",
       "        [ 2.1459,  0.5159],\n",
       "        [ 0.1939, -0.1277],\n",
       "        [-0.8157, -0.2721],\n",
       "        [ 0.3785, -1.6743],\n",
       "        [ 0.9632, -0.7964],\n",
       "        [ 0.5483,  0.3598],\n",
       "        [-0.6143, -1.4157],\n",
       "        [-0.8995, -1.1065]])"
      ]
     },
     "execution_count": 13,
     "metadata": {},
     "output_type": "execute_result"
    }
   ],
   "source": [
    "pts"
   ]
  },
  {
   "cell_type": "code",
   "execution_count": 14,
   "metadata": {},
   "outputs": [
    {
     "data": {
      "text/plain": [
       "tensor([[ 0.9163, -2.9958],\n",
       "        [ 1.1438, -1.2539],\n",
       "        [ 2.2070,  0.2360],\n",
       "        [ 0.2322, -0.5823],\n",
       "        [ 0.8599, -2.8196],\n",
       "        [ 1.7165, -1.3484],\n",
       "        [ 1.2498, -0.6909],\n",
       "        [ 0.6558,  0.5808],\n",
       "        [ 1.5432, -1.9802],\n",
       "        [ 1.4260, -2.2534]])"
      ]
     },
     "execution_count": 14,
     "metadata": {},
     "output_type": "execute_result"
    }
   ],
   "source": [
    "sphr"
   ]
  },
  {
   "cell_type": "code",
   "execution_count": null,
   "metadata": {},
   "outputs": [],
   "source": []
  },
  {
   "cell_type": "code",
   "execution_count": null,
   "metadata": {},
   "outputs": [],
   "source": []
  },
  {
   "cell_type": "code",
   "execution_count": null,
   "metadata": {},
   "outputs": [],
   "source": []
  },
  {
   "cell_type": "code",
   "execution_count": null,
   "metadata": {},
   "outputs": [],
   "source": []
  },
  {
   "cell_type": "code",
   "execution_count": 26,
   "metadata": {},
   "outputs": [
    {
     "data": {
      "text/plain": [
       "Sequential(\n",
       "  (0): Linear(in_features=10, out_features=20, bias=True)\n",
       "  (1): Softplus(beta=1, threshold=20)\n",
       "  (2): Linear(in_features=20, out_features=30, bias=True)\n",
       "  (3): Softplus(beta=1, threshold=20)\n",
       "  (4): Linear(in_features=30, out_features=10, bias=True)\n",
       "  (5): Softplus(beta=1, threshold=20)\n",
       "  (6): Linear(in_features=10, out_features=3, bias=True)\n",
       ")"
      ]
     },
     "execution_count": 26,
     "metadata": {},
     "output_type": "execute_result"
    }
   ],
   "source": [
    "net = models.make_MLP(10,3,hidden_dims=[20,30,10], nonlin='softplus')\n",
    "net"
   ]
  },
  {
   "cell_type": "code",
   "execution_count": 29,
   "metadata": {},
   "outputs": [
    {
     "name": "stdout",
     "output_type": "stream",
     "text": [
      "Linear(in_features=10, out_features=20, bias=True)\n",
      "Linear(in_features=20, out_features=30, bias=True)\n",
      "Linear(in_features=30, out_features=10, bias=True)\n"
     ]
    }
   ],
   "source": [
    "for layer in net[:-1]:\n",
    "    if isinstance(layer, nn.Linear):\n",
    "        print(layer)"
   ]
  },
  {
   "cell_type": "code",
   "execution_count": null,
   "metadata": {},
   "outputs": [],
   "source": []
  },
  {
   "cell_type": "code",
   "execution_count": null,
   "metadata": {},
   "outputs": [],
   "source": []
  },
  {
   "cell_type": "code",
   "execution_count": 3,
   "metadata": {},
   "outputs": [
    {
     "data": {
      "text/plain": [
       "tensor([0.8320])"
      ]
     },
     "execution_count": 3,
     "metadata": {},
     "output_type": "execute_result"
    }
   ],
   "source": [
    "sim.sample_action()"
   ]
  },
  {
   "cell_type": "code",
   "execution_count": 4,
   "metadata": {},
   "outputs": [
    {
     "data": {
      "text/plain": [
       "tensor([0.6750, 0.1724, 0.2784, 0.7560])"
      ]
     },
     "execution_count": 4,
     "metadata": {},
     "output_type": "execute_result"
    }
   ],
   "source": [
    "sim.sample_state()"
   ]
  },
  {
   "cell_type": "code",
   "execution_count": 5,
   "metadata": {},
   "outputs": [
    {
     "data": {
      "text/plain": [
       "tensor([0.])"
      ]
     },
     "execution_count": 5,
     "metadata": {},
     "output_type": "execute_result"
    }
   ],
   "source": [
    "u = sim.sample_action()\n",
    "u = torch.ones(1)*0\n",
    "u"
   ]
  },
  {
   "cell_type": "code",
   "execution_count": 19,
   "metadata": {},
   "outputs": [],
   "source": [
    "B = 16\n",
    "state0 = torch.tensor([0,np.pi,1,0])\n",
    "state0 = sim.sample_state(B)"
   ]
  },
  {
   "cell_type": "code",
   "execution_count": 23,
   "metadata": {},
   "outputs": [],
   "source": [
    "x = sim.reset(state0)"
   ]
  },
  {
   "cell_type": "code",
   "execution_count": 24,
   "metadata": {},
   "outputs": [],
   "source": [
    "bb = int(np.sqrt(B))\n",
    "if bb**2 == B:\n",
    "    fig, axes = plt.subplots(bb,bb)\n",
    "else:\n",
    "    fig, ax = plt.subplots(1)"
   ]
  },
  {
   "cell_type": "code",
   "execution_count": 25,
   "metadata": {},
   "outputs": [],
   "source": [
    "for i in range(100):\n",
    "    u = sim.sample_action(B)\n",
    "    x = sim.step(u, N=1)\n",
    "    imgs = sim.render(200,100)\n",
    "    if len(imgs.shape) == 4:\n",
    "        for img, ax in zip(imgs, axes.flat):\n",
    "            ax.cla()\n",
    "            ax.imshow(img)\n",
    "            ax.axis('off')\n",
    "    else:\n",
    "        ax.cla()\n",
    "        ax.imshow(imgs)\n",
    "        ax.axis('off')\n",
    "    plt.pause(0.03)"
   ]
  },
  {
   "cell_type": "code",
   "execution_count": 21,
   "metadata": {},
   "outputs": [],
   "source": [
    "plt.cla()\n",
    "plt.imshow(sim.render(200,100,index=0 if B is not None else None))\n",
    "plt.axis('off')\n",
    "pass"
   ]
  },
  {
   "cell_type": "code",
   "execution_count": 22,
   "metadata": {
    "scrolled": false
   },
   "outputs": [
    {
     "data": {
      "text/plain": [
       "tensor([[ -0.4271,   3.2266,   1.4794,   5.3090],\n",
       "        [ -0.3441,   2.8913,   0.9614,   0.1135],\n",
       "        [  0.8356,   3.8679,  -1.0499,   0.5847],\n",
       "        [  0.6757,   0.8301,  -1.4260,   2.9928],\n",
       "        [  0.1056,   2.0255,  -1.7367,  -7.1185],\n",
       "        [  0.9208,   3.9876,   2.4905,   3.4231],\n",
       "        [ -0.7255,   2.4377,   1.5289,   1.6305],\n",
       "        [  0.6668,   2.8852,   4.6571,   6.4283],\n",
       "        [  1.0004,   2.2665,   0.1500,   5.9317],\n",
       "        [  0.4574,   3.2469,  -2.4065, -10.3370]])"
      ]
     },
     "execution_count": 22,
     "metadata": {},
     "output_type": "execute_result"
    }
   ],
   "source": [
    "xs = []\n",
    "for i in range(100):\n",
    "    u = sim.sample_action(10)\n",
    "    x = sim.step(u, N=1)\n",
    "    xs.append(x)\n",
    "    plt.cla()\n",
    "    plt.imshow(sim.render(200,100, index=0 if B is not None else None))\n",
    "    plt.axis('off')\n",
    "    plt.pause(0.03)\n",
    "x"
   ]
  },
  {
   "cell_type": "code",
   "execution_count": 23,
   "metadata": {},
   "outputs": [
    {
     "data": {
      "text/plain": [
       "torch.Size([1000, 4])"
      ]
     },
     "execution_count": 23,
     "metadata": {},
     "output_type": "execute_result"
    }
   ],
   "source": [
    "X = torch.cat(xs)\n",
    "X.shape"
   ]
  },
  {
   "cell_type": "code",
   "execution_count": 2,
   "metadata": {},
   "outputs": [
    {
     "data": {
      "text/plain": [
       "4"
      ]
     },
     "execution_count": 2,
     "metadata": {},
     "output_type": "execute_result"
    }
   ],
   "source": [
    "dataroot = '/is/ei/fleeb/workspace/data'\n",
    "name = 'dsprites_ndarray_co1sh3sc6or40x32y32_64x64.hdf5'\n",
    "name = '3dshapes.h5'\n",
    "name = 'dsprites_ndarray_co1sh3sc6or40x32y32_64x64.npz'\n",
    "# DS = hf.File(os.path.join(dataroot, name))\n",
    "DS = np.load(os.path.join(dataroot, name))\n",
    "len(DS)"
   ]
  },
  {
   "cell_type": "code",
   "execution_count": 5,
   "metadata": {},
   "outputs": [
    {
     "data": {
      "text/plain": [
       "['metadata', 'imgs', 'latents_classes', 'latents_values']"
      ]
     },
     "execution_count": 5,
     "metadata": {},
     "output_type": "execute_result"
    }
   ],
   "source": [
    "list(DS.keys())"
   ]
  },
  {
   "cell_type": "code",
   "execution_count": 6,
   "metadata": {},
   "outputs": [
    {
     "name": "stderr",
     "output_type": "stream",
     "text": [
      "[autoreload of foundation.data.collectors failed: Traceback (most recent call last):\n",
      "  File \"/is/ei/fleeb/anaconda3/lib/python3.7/site-packages/IPython/extensions/autoreload.py\", line 245, in check\n",
      "    superreload(m, reload, self.old_objects)\n",
      "  File \"/is/ei/fleeb/anaconda3/lib/python3.7/site-packages/IPython/extensions/autoreload.py\", line 450, in superreload\n",
      "    update_generic(old_obj, new_obj)\n",
      "  File \"/is/ei/fleeb/anaconda3/lib/python3.7/site-packages/IPython/extensions/autoreload.py\", line 387, in update_generic\n",
      "    update(a, b)\n",
      "  File \"/is/ei/fleeb/anaconda3/lib/python3.7/site-packages/IPython/extensions/autoreload.py\", line 357, in update_class\n",
      "    update_instances(old, new)\n",
      "  File \"/is/ei/fleeb/anaconda3/lib/python3.7/site-packages/IPython/extensions/autoreload.py\", line 317, in update_instances\n",
      "    update_instances(old, new, obj, visited)\n",
      "  File \"/is/ei/fleeb/anaconda3/lib/python3.7/site-packages/IPython/extensions/autoreload.py\", line 300, in update_instances\n",
      "    for obj in (obj for obj in objects if id(obj) not in visited):\n",
      "  File \"/is/ei/fleeb/anaconda3/lib/python3.7/site-packages/IPython/extensions/autoreload.py\", line 300, in <genexpr>\n",
      "    for obj in (obj for obj in objects if id(obj) not in visited):\n",
      "  File \"/is/ei/fleeb/anaconda3/lib/python3.7/site-packages/IPython/extensions/autoreload.py\", line 294, in <genexpr>\n",
      "    objects = (value for key, value in objects.items()\n",
      "  File \"/is/ei/fleeb/anaconda3/lib/python3.7/_collections_abc.py\", line 744, in __iter__\n",
      "    yield (key, self._mapping[key])\n",
      "  File \"/is/ei/fleeb/anaconda3/lib/python3.7/site-packages/numpy/lib/npyio.py\", line 262, in __getitem__\n",
      "    pickle_kwargs=self.pickle_kwargs)\n",
      "ValueError: Object arrays cannot be loaded when allow_pickle=False\n",
      "]\n"
     ]
    },
    {
     "data": {
      "text/plain": [
       "(737280, 64, 64)"
      ]
     },
     "execution_count": 6,
     "metadata": {},
     "output_type": "execute_result"
    }
   ],
   "source": [
    "DS['imgs'].shape"
   ]
  },
  {
   "cell_type": "code",
   "execution_count": 3,
   "metadata": {},
   "outputs": [
    {
     "name": "stdout",
     "output_type": "stream",
     "text": [
      "metadata\n"
     ]
    },
    {
     "ename": "ValueError",
     "evalue": "Object arrays cannot be loaded when allow_pickle=False",
     "output_type": "error",
     "traceback": [
      "\u001b[0;31m--------------------------------------------\u001b[0m",
      "\u001b[0;31mValueError\u001b[0m Traceback (most recent call last)",
      "\u001b[0;32m<ipython-input-3-cc52a4d96dd6>\u001b[0m in \u001b[0;36m<module>\u001b[0;34m\u001b[0m\n\u001b[1;32m      1\u001b[0m \u001b[0;32mfor\u001b[0m \u001b[0mk\u001b[0m \u001b[0;32min\u001b[0m \u001b[0mlist\u001b[0m\u001b[0;34m(\u001b[0m\u001b[0mDS\u001b[0m\u001b[0;34m.\u001b[0m\u001b[0mkeys\u001b[0m\u001b[0;34m(\u001b[0m\u001b[0;34m)\u001b[0m\u001b[0;34m)\u001b[0m\u001b[0;34m:\u001b[0m\u001b[0;34m\u001b[0m\u001b[0;34m\u001b[0m\u001b[0m\n\u001b[1;32m      2\u001b[0m     \u001b[0mprint\u001b[0m\u001b[0;34m(\u001b[0m\u001b[0mk\u001b[0m\u001b[0;34m)\u001b[0m\u001b[0;34m\u001b[0m\u001b[0;34m\u001b[0m\u001b[0m\n\u001b[0;32m----> 3\u001b[0;31m     \u001b[0mprint\u001b[0m\u001b[0;34m(\u001b[0m\u001b[0mk\u001b[0m\u001b[0;34m,\u001b[0m \u001b[0mDS\u001b[0m\u001b[0;34m[\u001b[0m\u001b[0mk\u001b[0m\u001b[0;34m]\u001b[0m\u001b[0;34m.\u001b[0m\u001b[0mshape\u001b[0m\u001b[0;34m)\u001b[0m\u001b[0;34m\u001b[0m\u001b[0;34m\u001b[0m\u001b[0m\n\u001b[0m",
      "\u001b[0;32m~/anaconda3/lib/python3.7/site-packages/numpy/lib/npyio.py\u001b[0m in \u001b[0;36m__getitem__\u001b[0;34m(self, key)\u001b[0m\n\u001b[1;32m    260\u001b[0m                 return format.read_array(bytes,\n\u001b[1;32m    261\u001b[0m                                          \u001b[0mallow_pickle\u001b[0m\u001b[0;34m=\u001b[0m\u001b[0mself\u001b[0m\u001b[0;34m.\u001b[0m\u001b[0mallow_pickle\u001b[0m\u001b[0;34m,\u001b[0m\u001b[0;34m\u001b[0m\u001b[0;34m\u001b[0m\u001b[0m\n\u001b[0;32m--> 262\u001b[0;31m                                          pickle_kwargs=self.pickle_kwargs)\n\u001b[0m\u001b[1;32m    263\u001b[0m             \u001b[0;32melse\u001b[0m\u001b[0;34m:\u001b[0m\u001b[0;34m\u001b[0m\u001b[0;34m\u001b[0m\u001b[0m\n\u001b[1;32m    264\u001b[0m                 \u001b[0;32mreturn\u001b[0m \u001b[0mself\u001b[0m\u001b[0;34m.\u001b[0m\u001b[0mzip\u001b[0m\u001b[0;34m.\u001b[0m\u001b[0mread\u001b[0m\u001b[0;34m(\u001b[0m\u001b[0mkey\u001b[0m\u001b[0;34m)\u001b[0m\u001b[0;34m\u001b[0m\u001b[0;34m\u001b[0m\u001b[0m\n",
      "\u001b[0;32m~/anaconda3/lib/python3.7/site-packages/numpy/lib/format.py\u001b[0m in \u001b[0;36mread_array\u001b[0;34m(fp, allow_pickle, pickle_kwargs)\u001b[0m\n\u001b[1;32m    694\u001b[0m         \u001b[0;31m# The array contained Python objects. We need to unpickle the data.\u001b[0m\u001b[0;34m\u001b[0m\u001b[0;34m\u001b[0m\u001b[0;34m\u001b[0m\u001b[0m\n\u001b[1;32m    695\u001b[0m         \u001b[0;32mif\u001b[0m \u001b[0;32mnot\u001b[0m \u001b[0mallow_pickle\u001b[0m\u001b[0;34m:\u001b[0m\u001b[0;34m\u001b[0m\u001b[0;34m\u001b[0m\u001b[0m\n\u001b[0;32m--> 696\u001b[0;31m             raise ValueError(\"Object arrays cannot be loaded when \"\n\u001b[0m\u001b[1;32m    697\u001b[0m                              \"allow_pickle=False\")\n\u001b[1;32m    698\u001b[0m         \u001b[0;32mif\u001b[0m \u001b[0mpickle_kwargs\u001b[0m \u001b[0;32mis\u001b[0m \u001b[0;32mNone\u001b[0m\u001b[0;34m:\u001b[0m\u001b[0;34m\u001b[0m\u001b[0;34m\u001b[0m\u001b[0m\n",
      "\u001b[0;31mValueError\u001b[0m: Object arrays cannot be loaded when allow_pickle=False"
     ]
    }
   ],
   "source": [
    "for k in list(DS.keys()):\n",
    "    print(k)\n",
    "    print(k, DS[k].shape)"
   ]
  },
  {
   "cell_type": "code",
   "execution_count": 73,
   "metadata": {},
   "outputs": [
    {
     "data": {
      "text/plain": [
       "array([1. , 1. , 0.5, 0. , 0. , 0. ])"
      ]
     },
     "execution_count": 73,
     "metadata": {},
     "output_type": "execute_result"
    }
   ],
   "source": [
    "DS['latents']['values'][0]"
   ]
  },
  {
   "cell_type": "code",
   "execution_count": null,
   "metadata": {},
   "outputs": [],
   "source": [
    "DS.close()"
   ]
  },
  {
   "cell_type": "code",
   "execution_count": null,
   "metadata": {},
   "outputs": [],
   "source": []
  },
  {
   "cell_type": "code",
   "execution_count": 43,
   "metadata": {},
   "outputs": [
    {
     "data": {
      "text/plain": [
       "tensor([[0., 0., 0., 0., 0., 0., 0., 1., 0., 0.],\n",
       "        [0., 0., 0., 0., 1., 0., 0., 0., 0., 0.],\n",
       "        [0., 0., 0., 0., 0., 0., 0., 0., 0., 1.],\n",
       "        [1., 0., 0., 0., 0., 0., 0., 0., 0., 0.],\n",
       "        [0., 0., 1., 0., 0., 0., 0., 0., 0., 0.],\n",
       "        [0., 0., 0., 1., 0., 0., 0., 0., 0., 0.],\n",
       "        [0., 0., 0., 0., 0., 1., 0., 0., 0., 0.],\n",
       "        [0., 0., 0., 0., 0., 0., 0., 0., 1., 0.],\n",
       "        [0., 1., 0., 0., 0., 0., 0., 0., 0., 0.],\n",
       "        [0., 0., 0., 0., 0., 0., 1., 0., 0., 0.]])"
      ]
     },
     "execution_count": 43,
     "metadata": {},
     "output_type": "execute_result"
    }
   ],
   "source": [
    "torch.eye(10)[torch.randperm(10)]"
   ]
  },
  {
   "cell_type": "code",
   "execution_count": 7,
   "metadata": {},
   "outputs": [
    {
     "data": {
      "text/plain": [
       "(torch.Size([8, 4]), torch.Size([8, 2]))"
      ]
     },
     "execution_count": 7,
     "metadata": {},
     "output_type": "execute_result"
    }
   ],
   "source": [
    "B, D, M = 8, 4, 2\n",
    "\n",
    "# class Test(nn.Module):\n",
    "#     def __init__(self):\n",
    "#         super().__init__()\n",
    "#         self.A = nn.Linear(D,M)\n",
    "#         self.B = self.A\n",
    "\n",
    "\n",
    "X, Y = torch.randn(B,D), torch.randn(B, M)\n",
    "X.shape, Y.shape"
   ]
  },
  {
   "cell_type": "code",
   "execution_count": 30,
   "metadata": {},
   "outputs": [
    {
     "data": {
      "text/plain": [
       "Sequential(\n",
       "  (0): Linear(in_features=4, out_features=64, bias=True)\n",
       "  (1): PReLU(num_parameters=1)\n",
       "  (2): Linear(in_features=64, out_features=64, bias=True)\n",
       "  (3): PReLU(num_parameters=1)\n",
       "  (4): Linear(in_features=64, out_features=64, bias=True)\n",
       "  (5): PReLU(num_parameters=1)\n",
       "  (6): Linear(in_features=64, out_features=64, bias=True)\n",
       "  (7): PReLU(num_parameters=1)\n",
       "  (8): Linear(in_features=64, out_features=64, bias=True)\n",
       "  (9): PReLU(num_parameters=1)\n",
       "  (10): Linear(in_features=64, out_features=64, bias=True)\n",
       "  (11): PReLU(num_parameters=1)\n",
       "  (12): Linear(in_features=64, out_features=2, bias=True)\n",
       ")"
      ]
     },
     "execution_count": 30,
     "metadata": {},
     "output_type": "execute_result"
    }
   ],
   "source": [
    "model = models.make_MLP(D,M,hidden_dims=[64,64,64,64, 64, 64])\n",
    "model"
   ]
  },
  {
   "cell_type": "code",
   "execution_count": 31,
   "metadata": {},
   "outputs": [
    {
     "data": {
      "text/plain": [
       "[Linear(in_features=4, out_features=64, bias=True),\n",
       " Linear(in_features=64, out_features=64, bias=True),\n",
       " Linear(in_features=64, out_features=64, bias=True),\n",
       " Linear(in_features=64, out_features=64, bias=True),\n",
       " Linear(in_features=64, out_features=64, bias=True),\n",
       " Linear(in_features=64, out_features=64, bias=True)]"
      ]
     },
     "execution_count": 31,
     "metadata": {},
     "output_type": "execute_result"
    }
   ],
   "source": [
    "layers = [layer for layer in model if isinstance(layer, nn.Linear)][:-1]\n",
    "layers"
   ]
  },
  {
   "cell_type": "code",
   "execution_count": 38,
   "metadata": {},
   "outputs": [],
   "source": [
    "dX = X+torch.randn_like(X)"
   ]
  },
  {
   "cell_type": "code",
   "execution_count": 39,
   "metadata": {},
   "outputs": [
    {
     "data": {
      "text/plain": [
       "tensor(0.0613)"
      ]
     },
     "execution_count": 39,
     "metadata": {},
     "output_type": "execute_result"
    }
   ],
   "source": [
    "fmatch = models.Feature_Match(layers, model=model)\n",
    "with torch.no_grad():\n",
    "    loss = fmatch(X,dX)\n",
    "loss"
   ]
  },
  {
   "cell_type": "code",
   "execution_count": 40,
   "metadata": {},
   "outputs": [
    {
     "data": {
      "text/plain": [
       "tensor(0.0432)"
      ]
     },
     "execution_count": 40,
     "metadata": {},
     "output_type": "execute_result"
    }
   ],
   "source": [
    "fmatch = models.Feature_Match(model, model=model)\n",
    "with torch.no_grad():\n",
    "    loss = fmatch(X,dX)\n",
    "loss"
   ]
  },
  {
   "cell_type": "code",
   "execution_count": null,
   "metadata": {},
   "outputs": [],
   "source": []
  },
  {
   "cell_type": "code",
   "execution_count": 27,
   "metadata": {},
   "outputs": [
    {
     "data": {
      "text/plain": [
       "(Parameter containing:\n",
       " tensor([[ 3.0000, -0.3344],\n",
       "         [-0.1594, -0.0811]], requires_grad=True), Parameter containing:\n",
       " tensor([[ 3.0000, -0.3344],\n",
       "         [-0.1594, -0.0811]], requires_grad=True))"
      ]
     },
     "execution_count": 27,
     "metadata": {},
     "output_type": "execute_result"
    }
   ],
   "source": [
    "model.A.weight.data[0,0] += 1\n",
    "model.A.weight, model.B.weight"
   ]
  },
  {
   "cell_type": "code",
   "execution_count": 26,
   "metadata": {},
   "outputs": [
    {
     "data": {
      "text/plain": [
       "<All keys matched successfully>"
      ]
     },
     "execution_count": 26,
     "metadata": {},
     "output_type": "execute_result"
    }
   ],
   "source": [
    "model.load_state_dict(model.state_dict())"
   ]
  },
  {
   "cell_type": "code",
   "execution_count": 16,
   "metadata": {},
   "outputs": [],
   "source": [
    "p = nn.utils.parameters_to_vector(model.parameters())"
   ]
  },
  {
   "cell_type": "code",
   "execution_count": 14,
   "metadata": {},
   "outputs": [
    {
     "data": {
      "text/plain": [
       "tensor(0.3756, grad_fn=<MseLossBackward>)"
      ]
     },
     "execution_count": 14,
     "metadata": {},
     "output_type": "execute_result"
    }
   ],
   "source": [
    "loss = nn.MSELoss()(model(X), Y)\n",
    "loss"
   ]
  },
  {
   "cell_type": "code",
   "execution_count": 15,
   "metadata": {},
   "outputs": [],
   "source": [
    "model.zero_grad()\n",
    "loss.backward()"
   ]
  },
  {
   "cell_type": "code",
   "execution_count": 19,
   "metadata": {},
   "outputs": [
    {
     "name": "stdout",
     "output_type": "stream",
     "text": [
      "tensor([[ 0.0097, -0.0273],\n",
      "        [ 0.1568, -0.0930]])\n",
      "tensor([0.1551, 0.0066])\n"
     ]
    }
   ],
   "source": [
    "for param in model.parameters():\n",
    "    print(param.grad)"
   ]
  },
  {
   "cell_type": "code",
   "execution_count": null,
   "metadata": {},
   "outputs": [],
   "source": []
  },
  {
   "cell_type": "code",
   "execution_count": 14,
   "metadata": {},
   "outputs": [],
   "source": [
    "outputs = []\n",
    "def keep(m, x, y):\n",
    "    outputs.append(y)"
   ]
  },
  {
   "cell_type": "code",
   "execution_count": 6,
   "metadata": {
    "scrolled": true
   },
   "outputs": [
    {
     "name": "stdout",
     "output_type": "stream",
     "text": [
      "SqueezeNet(\n",
      "  (features): Sequential(\n",
      "    (0): Conv2d(3, 96, kernel_size=(7, 7), stride=(2, 2))\n",
      "    (1): ReLU(inplace=True)\n",
      "    (2): MaxPool2d(kernel_size=3, stride=2, padding=0, dilation=1, ceil_mode=True)\n",
      "    (3): Fire(\n",
      "      (squeeze): Conv2d(96, 16, kernel_size=(1, 1), stride=(1, 1))\n",
      "      (squeeze_activation): ReLU(inplace=True)\n",
      "      (expand1x1): Conv2d(16, 64, kernel_size=(1, 1), stride=(1, 1))\n",
      "      (expand1x1_activation): ReLU(inplace=True)\n",
      "      (expand3x3): Conv2d(16, 64, kernel_size=(3, 3), stride=(1, 1), padding=(1, 1))\n",
      "      (expand3x3_activation): ReLU(inplace=True)\n",
      "    )\n",
      "    (4): Fire(\n",
      "      (squeeze): Conv2d(128, 16, kernel_size=(1, 1), stride=(1, 1))\n",
      "      (squeeze_activation): ReLU(inplace=True)\n",
      "      (expand1x1): Conv2d(16, 64, kernel_size=(1, 1), stride=(1, 1))\n",
      "      (expand1x1_activation): ReLU(inplace=True)\n",
      "      (expand3x3): Conv2d(16, 64, kernel_size=(3, 3), stride=(1, 1), padding=(1, 1))\n",
      "      (expand3x3_activation): ReLU(inplace=True)\n",
      "    )\n",
      "    (5): Fire(\n",
      "      (squeeze): Conv2d(128, 32, kernel_size=(1, 1), stride=(1, 1))\n",
      "      (squeeze_activation): ReLU(inplace=True)\n",
      "      (expand1x1): Conv2d(32, 128, kernel_size=(1, 1), stride=(1, 1))\n",
      "      (expand1x1_activation): ReLU(inplace=True)\n",
      "      (expand3x3): Conv2d(32, 128, kernel_size=(3, 3), stride=(1, 1), padding=(1, 1))\n",
      "      (expand3x3_activation): ReLU(inplace=True)\n",
      "    )\n",
      "    (6): MaxPool2d(kernel_size=3, stride=2, padding=0, dilation=1, ceil_mode=True)\n",
      "    (7): Fire(\n",
      "      (squeeze): Conv2d(256, 32, kernel_size=(1, 1), stride=(1, 1))\n",
      "      (squeeze_activation): ReLU(inplace=True)\n",
      "      (expand1x1): Conv2d(32, 128, kernel_size=(1, 1), stride=(1, 1))\n",
      "      (expand1x1_activation): ReLU(inplace=True)\n",
      "      (expand3x3): Conv2d(32, 128, kernel_size=(3, 3), stride=(1, 1), padding=(1, 1))\n",
      "      (expand3x3_activation): ReLU(inplace=True)\n",
      "    )\n",
      "    (8): Fire(\n",
      "      (squeeze): Conv2d(256, 48, kernel_size=(1, 1), stride=(1, 1))\n",
      "      (squeeze_activation): ReLU(inplace=True)\n",
      "      (expand1x1): Conv2d(48, 192, kernel_size=(1, 1), stride=(1, 1))\n",
      "      (expand1x1_activation): ReLU(inplace=True)\n",
      "      (expand3x3): Conv2d(48, 192, kernel_size=(3, 3), stride=(1, 1), padding=(1, 1))\n",
      "      (expand3x3_activation): ReLU(inplace=True)\n",
      "    )\n",
      "    (9): Fire(\n",
      "      (squeeze): Conv2d(384, 48, kernel_size=(1, 1), stride=(1, 1))\n",
      "      (squeeze_activation): ReLU(inplace=True)\n",
      "      (expand1x1): Conv2d(48, 192, kernel_size=(1, 1), stride=(1, 1))\n",
      "      (expand1x1_activation): ReLU(inplace=True)\n",
      "      (expand3x3): Conv2d(48, 192, kernel_size=(3, 3), stride=(1, 1), padding=(1, 1))\n",
      "      (expand3x3_activation): ReLU(inplace=True)\n",
      "    )\n",
      "    (10): Fire(\n",
      "      (squeeze): Conv2d(384, 64, kernel_size=(1, 1), stride=(1, 1))\n",
      "      (squeeze_activation): ReLU(inplace=True)\n",
      "      (expand1x1): Conv2d(64, 256, kernel_size=(1, 1), stride=(1, 1))\n",
      "      (expand1x1_activation): ReLU(inplace=True)\n",
      "      (expand3x3): Conv2d(64, 256, kernel_size=(3, 3), stride=(1, 1), padding=(1, 1))\n",
      "      (expand3x3_activation): ReLU(inplace=True)\n",
      "    )\n",
      "    (11): MaxPool2d(kernel_size=3, stride=2, padding=0, dilation=1, ceil_mode=True)\n",
      "    (12): Fire(\n",
      "      (squeeze): Conv2d(512, 64, kernel_size=(1, 1), stride=(1, 1))\n",
      "      (squeeze_activation): ReLU(inplace=True)\n",
      "      (expand1x1): Conv2d(64, 256, kernel_size=(1, 1), stride=(1, 1))\n",
      "      (expand1x1_activation): ReLU(inplace=True)\n",
      "      (expand3x3): Conv2d(64, 256, kernel_size=(3, 3), stride=(1, 1), padding=(1, 1))\n",
      "      (expand3x3_activation): ReLU(inplace=True)\n",
      "    )\n",
      "  )\n",
      "  (classifier): Sequential(\n",
      "    (0): Dropout(p=0.5, inplace=False)\n",
      "    (1): Conv2d(512, 1000, kernel_size=(1, 1), stride=(1, 1))\n",
      "    (2): ReLU(inplace=True)\n",
      "    (3): AdaptiveAvgPool2d(output_size=(1, 1))\n",
      "  )\n",
      ")\n"
     ]
    }
   ],
   "source": [
    "model = torchvision.models.squeezenet1_0(pretrained=True, progress=True).cuda()\n",
    "# model.features.register_forward_hook(keep)\n",
    "print(model)"
   ]
  },
  {
   "cell_type": "code",
   "execution_count": 9,
   "metadata": {},
   "outputs": [
    {
     "data": {
      "text/plain": [
       "torch.Size([4, 3, 128, 128])"
      ]
     },
     "execution_count": 9,
     "metadata": {},
     "output_type": "execute_result"
    }
   ],
   "source": [
    "x = torch.rand(4,3,128,128).cuda()\n",
    "x.shape"
   ]
  },
  {
   "cell_type": "code",
   "execution_count": 17,
   "metadata": {},
   "outputs": [
    {
     "data": {
      "text/plain": [
       "torch.Size([4, 1000])"
      ]
     },
     "execution_count": 17,
     "metadata": {},
     "output_type": "execute_result"
    }
   ],
   "source": [
    "y = model(x)\n",
    "y.shape"
   ]
  },
  {
   "cell_type": "code",
   "execution_count": null,
   "metadata": {},
   "outputs": [],
   "source": []
  },
  {
   "cell_type": "code",
   "execution_count": 15,
   "metadata": {},
   "outputs": [
    {
     "data": {
      "text/plain": [
       "<torch.utils.hooks.RemovableHandle at 0x7f0798b5a128>"
      ]
     },
     "execution_count": 15,
     "metadata": {},
     "output_type": "execute_result"
    }
   ],
   "source": []
  },
  {
   "cell_type": "code",
   "execution_count": 19,
   "metadata": {},
   "outputs": [
    {
     "data": {
      "text/plain": [
       "torch.Size([4, 512, 7, 7])"
      ]
     },
     "execution_count": 19,
     "metadata": {},
     "output_type": "execute_result"
    }
   ],
   "source": [
    "outputs[0].shape"
   ]
  },
  {
   "cell_type": "code",
   "execution_count": 19,
   "metadata": {},
   "outputs": [
    {
     "data": {
      "text/plain": [
       "dict_keys(['y', 'm_old', 'x', 'm_new', 'l_new', 'l_old'])"
      ]
     },
     "execution_count": 19,
     "metadata": {},
     "output_type": "execute_result"
    }
   ],
   "source": [
    "info = torch.load('rl/temp_xy.pth.tar')\n",
    "info.keys()"
   ]
  },
  {
   "cell_type": "code",
   "execution_count": 20,
   "metadata": {},
   "outputs": [
    {
     "data": {
      "text/plain": [
       "(torch.Size([2050, 4]), torch.Size([2050, 1]))"
      ]
     },
     "execution_count": 20,
     "metadata": {},
     "output_type": "execute_result"
    }
   ],
   "source": [
    "X, Y = info['x'], info['y']\n",
    "X.shape, Y.shape"
   ]
  },
  {
   "cell_type": "code",
   "execution_count": 21,
   "metadata": {},
   "outputs": [
    {
     "name": "stdout",
     "output_type": "stream",
     "text": [
      "[Parameter containing:\n",
      "tensor([[ -6.0671, -15.6417,   1.6947,  -0.5189]]), Parameter containing:\n",
      "tensor([5.8610])]\n",
      "[Parameter containing:\n",
      "tensor([[-0.4195,  0.3034,  0.2341,  0.3355]]), Parameter containing:\n",
      "tensor([0.1772])]\n"
     ]
    }
   ],
   "source": [
    "mn, mo = info['m_new'], info['m_old']\n",
    "print(list(mn.parameters()))\n",
    "print(list(mo.parameters()))"
   ]
  },
  {
   "cell_type": "code",
   "execution_count": 22,
   "metadata": {},
   "outputs": [
    {
     "data": {
      "text/plain": [
       "(tensor(28.8512), tensor(5.7119))"
      ]
     },
     "execution_count": 22,
     "metadata": {},
     "output_type": "execute_result"
    }
   ],
   "source": [
    "info['l_old'], info['l_new']"
   ]
  },
  {
   "cell_type": "code",
   "execution_count": null,
   "metadata": {},
   "outputs": [],
   "source": []
  },
  {
   "cell_type": "code",
   "execution_count": 3,
   "metadata": {},
   "outputs": [],
   "source": [
    "N,M,D = 20, 5, 3\n",
    "with torch.no_grad():\n",
    "    A = torch.randn(N,M)\n",
    "    f = nn.Linear(M,D)\n",
    "    b = f(A)\n",
    "    m = nn.Linear(M,D)"
   ]
  },
  {
   "cell_type": "code",
   "execution_count": 5,
   "metadata": {},
   "outputs": [
    {
     "data": {
      "text/plain": [
       "tensor(1.1172, grad_fn=<MseLossBackward>)"
      ]
     },
     "execution_count": 5,
     "metadata": {},
     "output_type": "execute_result"
    }
   ],
   "source": [
    "F.mse_loss(m(A), b)"
   ]
  },
  {
   "cell_type": "code",
   "execution_count": 6,
   "metadata": {},
   "outputs": [
    {
     "data": {
      "text/plain": [
       "Linear(in_features=5, out_features=3, bias=True)"
      ]
     },
     "execution_count": 6,
     "metadata": {},
     "output_type": "execute_result"
    }
   ],
   "source": [
    "util.solve(A,b,out=m)"
   ]
  },
  {
   "cell_type": "code",
   "execution_count": 7,
   "metadata": {},
   "outputs": [
    {
     "data": {
      "text/plain": [
       "tensor(3.1220e-14, grad_fn=<MseLossBackward>)"
      ]
     },
     "execution_count": 7,
     "metadata": {},
     "output_type": "execute_result"
    }
   ],
   "source": [
    "F.mse_loss(m(A), b)"
   ]
  },
  {
   "cell_type": "code",
   "execution_count": null,
   "metadata": {},
   "outputs": [],
   "source": []
  },
  {
   "cell_type": "code",
   "execution_count": 25,
   "metadata": {},
   "outputs": [
    {
     "data": {
      "text/plain": [
       "[(8, 10, 7), (16, 20, 15), (32, 40, 30), (64, 80, 60), (3, 160, 120)]"
      ]
     },
     "execution_count": 25,
     "metadata": {},
     "output_type": "execute_result"
    }
   ],
   "source": [
    "shapes, settings = nets.plan_deconv(out_shape=(3,160,120), channels=[8, 16, 32, 64], kernels=4, strides=2)\n",
    "shapes"
   ]
  },
  {
   "cell_type": "code",
   "execution_count": 26,
   "metadata": {},
   "outputs": [
    {
     "data": {
      "text/plain": [
       "ModuleList(\n",
       "  (0): ConvTranspose2d(8, 16, kernel_size=(4, 4), stride=(2, 2), padding=(1, 1), output_padding=(0, 1))\n",
       "  (1): ConvTranspose2d(16, 32, kernel_size=(4, 4), stride=(2, 2), padding=(1, 1))\n",
       "  (2): ConvTranspose2d(32, 64, kernel_size=(4, 4), stride=(2, 2), padding=(1, 1))\n",
       "  (3): ConvTranspose2d(64, 3, kernel_size=(4, 4), stride=(2, 2), padding=(1, 1))\n",
       ")"
      ]
     },
     "execution_count": 26,
     "metadata": {},
     "output_type": "execute_result"
    }
   ],
   "source": [
    "ms = nn.ModuleList([nn.ConvTranspose2d(**s) for s in settings])\n",
    "ms"
   ]
  },
  {
   "cell_type": "code",
   "execution_count": 29,
   "metadata": {
    "collapsed": true
   },
   "outputs": [],
   "source": [
    "X = torch.randn(1, *shapes[0])"
   ]
  },
  {
   "cell_type": "code",
   "execution_count": 30,
   "metadata": {},
   "outputs": [
    {
     "name": "stdout",
     "output_type": "stream",
     "text": [
      "torch.Size([12, 8, 10, 7])\n",
      "torch.Size([12, 16, 20, 15])\n",
      "torch.Size([12, 32, 40, 30])\n",
      "torch.Size([12, 64, 80, 60])\n",
      "torch.Size([12, 3, 160, 120])\n"
     ]
    }
   ],
   "source": [
    "x = X\n",
    "print(x.size())\n",
    "for m in ms:\n",
    "    x = m(x)\n",
    "    print(x.size())"
   ]
  },
  {
   "cell_type": "code",
   "execution_count": 22,
   "metadata": {},
   "outputs": [
    {
     "name": "stdout",
     "output_type": "stream",
     "text": [
      "torch.Size([12, 8, 10, 8])\n",
      "ConvTranspose2d(64, 3, kernel_size=(4, 4), stride=(2, 2), padding=(1, 1))\n"
     ]
    }
   ],
   "source": [
    "print(x.shape)\n",
    "print(m)"
   ]
  },
  {
   "cell_type": "code",
   "execution_count": null,
   "metadata": {
    "collapsed": true
   },
   "outputs": [],
   "source": []
  },
  {
   "cell_type": "code",
   "execution_count": 45,
   "metadata": {},
   "outputs": [
    {
     "data": {
      "text/plain": [
       "[(3, 160, 120), (8, 80, 60), (16, 40, 30), (32, 20, 15), (64, 10, 8)]"
      ]
     },
     "execution_count": 45,
     "metadata": {},
     "output_type": "execute_result"
    }
   ],
   "source": [
    "shapes, settings = nets.plan_conv((3,160,120), channels=[8, 16, 32, 64], kernels=3, strides=1, factors=2)\n",
    "shapes"
   ]
  },
  {
   "cell_type": "code",
   "execution_count": 46,
   "metadata": {},
   "outputs": [
    {
     "data": {
      "text/plain": [
       "ModuleList(\n",
       "  (0): Conv2d(3, 8, kernel_size=(3, 3), stride=(1, 1), padding=(1, 1))\n",
       "  (1): Conv2d(8, 16, kernel_size=(3, 3), stride=(1, 1), padding=(1, 1))\n",
       "  (2): Conv2d(16, 32, kernel_size=(3, 3), stride=(1, 1), padding=(1, 1))\n",
       "  (3): Conv2d(32, 64, kernel_size=(3, 3), stride=(1, 1), padding=(1, 1))\n",
       ")"
      ]
     },
     "execution_count": 46,
     "metadata": {},
     "output_type": "execute_result"
    }
   ],
   "source": [
    "ms = nn.ModuleList([nn.Conv2d(**s) for s in settings])\n",
    "ms"
   ]
  },
  {
   "cell_type": "code",
   "execution_count": 47,
   "metadata": {
    "collapsed": true
   },
   "outputs": [],
   "source": [
    "X = torch.randn(1, *shapes[0])"
   ]
  },
  {
   "cell_type": "code",
   "execution_count": 48,
   "metadata": {},
   "outputs": [
    {
     "name": "stdout",
     "output_type": "stream",
     "text": [
      "torch.Size([1, 3, 160, 120])\n",
      "torch.Size([1, 8, 160, 120])\n",
      "torch.Size([1, 16, 160, 120])\n",
      "torch.Size([1, 32, 160, 120])\n",
      "torch.Size([1, 64, 160, 120])\n"
     ]
    }
   ],
   "source": [
    "x = X\n",
    "print(x.size())\n",
    "for m in ms:\n",
    "    x = m(x)\n",
    "    print(x.size())"
   ]
  },
  {
   "cell_type": "code",
   "execution_count": null,
   "metadata": {
    "collapsed": true
   },
   "outputs": [],
   "source": []
  },
  {
   "cell_type": "code",
   "execution_count": null,
   "metadata": {
    "collapsed": true
   },
   "outputs": [],
   "source": []
  },
  {
   "cell_type": "code",
   "execution_count": null,
   "metadata": {
    "collapsed": true
   },
   "outputs": [],
   "source": [
    "ms = nn.ModuleList([nn.Conv2d(**s) for s in settings])"
   ]
  },
  {
   "cell_type": "code",
   "execution_count": 3,
   "metadata": {
    "collapsed": true
   },
   "outputs": [],
   "source": [
    "class OU_Process:\n",
    "    def __init__(self, K=3, std=0.5, theta=0.5):\n",
    "        self.K = K\n",
    "        self.std = std\n",
    "        self.theta = theta\n",
    "        \n",
    "        self.x = torch.randn(K) * self.std\n",
    "        \n",
    "    def __call__(self, t, state):\n",
    "        return self.theta * self.x + torch.randn(self.K) * self.std\n",
    "    \n",
    "def fig2data ( fig ):\n",
    "    \"\"\"\n",
    "    @brief Convert a Matplotlib figure to a 4D numpy array with RGBA channels and return it\n",
    "    @param fig a matplotlib figure\n",
    "    @return a numpy 3D array of RGBA values\n",
    "    \"\"\"\n",
    "    # draw the renderer\n",
    "    fig.canvas.draw ( )\n",
    " \n",
    "    # Get the RGBA buffer from the figure\n",
    "    w,h = fig.canvas.get_width_height()\n",
    "    buf = np.fromstring ( fig.canvas.tostring_argb(), dtype=np.uint8 )\n",
    "    buf.shape = ( w, h,4 )\n",
    " \n",
    "    # canvas.tostring_argb give pixmap in ARGB mode. Roll the ALPHA channel to have it in RGBA mode\n",
    "    buf = np.roll ( buf, 3, axis = 2 )\n",
    "    return buf"
   ]
  },
  {
   "cell_type": "code",
   "execution_count": 4,
   "metadata": {
    "collapsed": true
   },
   "outputs": [],
   "source": [
    "#env.alpha = 5.\n",
    "#env.beta = 5.\n",
    "#env.gamma = 0.1"
   ]
  },
  {
   "cell_type": "code",
   "execution_count": 5,
   "metadata": {
    "collapsed": true
   },
   "outputs": [],
   "source": [
    "env.reset()#(-torch.ones(2)*np.pi/2, torch.zeros(2))\n",
    "#policy = OU_Process(K=env.N, std=0.5, theta=0.7)\n",
    "policy = lambda t, x: torch.rand(env.spec.action_space.size)*2 - 1\n",
    "plt.ioff()"
   ]
  },
  {
   "cell_type": "code",
   "execution_count": 6,
   "metadata": {},
   "outputs": [
    {
     "data": {
      "text/plain": [
       "((200, 200, 3), (200, 200))"
      ]
     },
     "execution_count": 6,
     "metadata": {},
     "output_type": "execute_result"
    }
   ],
   "source": [
    "rgb, lbl = env.render(label=True)\n",
    "rgb.shape, lbl.shape"
   ]
  },
  {
   "cell_type": "code",
   "execution_count": 7,
   "metadata": {},
   "outputs": [
    {
     "data": {
      "text/plain": [
       "tensor([-0.9174,  0.9359, -0.3980,  0.3524, -0.0811,  2.2122, -0.5983,\n",
       "         0.3812,  0.0092, -0.0228])"
      ]
     },
     "execution_count": 7,
     "metadata": {},
     "output_type": "execute_result"
    }
   ],
   "source": [
    "env.obs"
   ]
  },
  {
   "cell_type": "code",
   "execution_count": 8,
   "metadata": {},
   "outputs": [
    {
     "data": {
      "text/plain": [
       "<matplotlib.image.AxesImage at 0x7f7f442723c8>"
      ]
     },
     "execution_count": 8,
     "metadata": {},
     "output_type": "execute_result"
    }
   ],
   "source": [
    "plt.ion()\n",
    "plt.figure()\n",
    "plt.imshow(rgb, interpolation='none')\n",
    "\n",
    "plt.figure()\n",
    "plt.imshow(lbl, interpolation='none')"
   ]
  },
  {
   "cell_type": "code",
   "execution_count": 9,
   "metadata": {},
   "outputs": [
    {
     "data": {
      "text/plain": [
       "[]"
      ]
     },
     "execution_count": 9,
     "metadata": {},
     "output_type": "execute_result"
    }
   ],
   "source": [
    "plt.ion()\n",
    "figax = plt.subplots(figsize=(3,3))\n",
    "fig, ax = figax\n",
    "ax.set_xticks([])\n",
    "ax.set_yticks([])"
   ]
  },
  {
   "cell_type": "code",
   "execution_count": 10,
   "metadata": {
    "collapsed": true
   },
   "outputs": [],
   "source": [
    "for t in range(1000):\n",
    "    \n",
    "    action = policy(t, None) #+ 1\n",
    "    env.step(action)\n",
    "    \n",
    "    ax.set_title('{:.3f} {:.3f}'.format(action[0].item(), action[1].item()))\n",
    "    \n",
    "    env.render('onscreen', figax=figax)\n",
    "    plt.pause(0.002)\n",
    "    ax.cla()\n",
    "    #break"
   ]
  },
  {
   "cell_type": "code",
   "execution_count": 10,
   "metadata": {
    "collapsed": true
   },
   "outputs": [],
   "source": [
    "plt.show()"
   ]
  },
  {
   "cell_type": "code",
   "execution_count": 8,
   "metadata": {},
   "outputs": [
    {
     "name": "stderr",
     "output_type": "stream",
     "text": [
      "/home/fleeb/anaconda3/envs/cse/lib/python3.6/site-packages/ipykernel_launcher.py:23: DeprecationWarning: The binary mode of fromstring is deprecated, as it behaves surprisingly on unicode inputs. Use frombuffer instead\n"
     ]
    },
    {
     "data": {
      "text/plain": [
       "(409, 400, 4)"
      ]
     },
     "execution_count": 8,
     "metadata": {},
     "output_type": "execute_result"
    }
   ],
   "source": [
    "rgb = fig2data(fig)\n",
    "rgb.shape"
   ]
  },
  {
   "cell_type": "code",
   "execution_count": 7,
   "metadata": {
    "collapsed": true
   },
   "outputs": [],
   "source": [
    "plt.figure()\n",
    "#plt.axis('off')\n",
    "plt.imshow(env.render('rgb'))\n",
    "plt.show()"
   ]
  },
  {
   "cell_type": "code",
   "execution_count": 7,
   "metadata": {},
   "outputs": [
    {
     "data": {
      "text/plain": [
       "60.0"
      ]
     },
     "execution_count": 7,
     "metadata": {},
     "output_type": "execute_result"
    }
   ],
   "source": [
    "env.get_ctrl_freq()"
   ]
  },
  {
   "cell_type": "code",
   "execution_count": null,
   "metadata": {
    "collapsed": true
   },
   "outputs": [],
   "source": []
  },
  {
   "cell_type": "code",
   "execution_count": null,
   "metadata": {
    "collapsed": true
   },
   "outputs": [],
   "source": []
  }
 ],
 "metadata": {
  "kernelspec": {
   "display_name": "Python 3",
   "language": "python",
   "name": "python3"
  },
  "language_info": {
   "codemirror_mode": {
    "name": "ipython",
    "version": 3
   },
   "file_extension": ".py",
   "mimetype": "text/x-python",
   "name": "python",
   "nbconvert_exporter": "python",
   "pygments_lexer": "ipython3",
   "version": "3.7.3"
  }
 },
 "nbformat": 4,
 "nbformat_minor": 2
}
