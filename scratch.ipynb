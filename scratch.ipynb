{
 "cells": [
  {
   "cell_type": "code",
   "execution_count": 1,
   "metadata": {},
   "outputs": [],
   "source": [
    "import sys, os, time\n",
    "# %pdb\n",
    "os.environ[\"CUDA_VISIBLE_DEVICES\"]=\"0\"\n",
    "os.environ['FOUNDATION_RUN_MODE'] = 'jupyter'\n",
    "os.environ['FOUNDATION_SAVE_DIR'] = '/is/ei/fleeb/workspace/chome/trained_nets'\n",
    "os.environ['FOUNDATION_DATA_DIR'] = '/is/ei/fleeb/workspace/local_data'\n",
    "# %load_ext autoreload\n",
    "# %autoreload 2\n",
    "import torch\n",
    "import torch.nn as nn\n",
    "import torch.nn.functional as F\n",
    "from torch import optim as O\n",
    "import torch.distributions as distrib\n",
    "import torch.multiprocessing as mp\n",
    "import torchvision.models\n",
    "import torchvision\n",
    "from torch.utils.data import Dataset, DataLoader\n",
    "from tqdm import tqdm_notebook as tqdm\n",
    "import gym\n",
    "import json\n",
    "import shutil\n",
    "import inspect\n",
    "import numpy as np\n",
    "import h5py as hf\n",
    "%matplotlib notebook\n",
    "# %matplotlib tk\n",
    "import matplotlib.pyplot as plt\n",
    "import seaborn as sns\n",
    "#plt.switch_backend('Qt5Agg') #('Qt5Agg')\n",
    "import foundation as fd\n",
    "from foundation import models\n",
    "from foundation import util\n",
    "from foundation import train as trn\n",
    "# from foundation import sim as SIM\n",
    "#from foundation.util import replicate, Cloner\n",
    "from scipy import stats\n",
    "np.set_printoptions(linewidth=120)"
   ]
  },
  {
   "cell_type": "code",
   "execution_count": 33,
   "metadata": {},
   "outputs": [],
   "source": [
    "B, C, H, W = 5, 6, 16, 16\n",
    "N = H*W"
   ]
  },
  {
   "cell_type": "code",
   "execution_count": 34,
   "metadata": {},
   "outputs": [
    {
     "data": {
      "text/plain": [
       "torch.Size([5, 6, 256])"
      ]
     },
     "execution_count": 34,
     "metadata": {},
     "output_type": "execute_result"
    }
   ],
   "source": [
    "x = torch.randn(B, C, H, W).view(B, C, N)\n",
    "x.shape"
   ]
  },
  {
   "cell_type": "code",
   "execution_count": 35,
   "metadata": {},
   "outputs": [],
   "source": [
    "# x = torch.from_numpy(np.mgrid[-1:1:H*1j, -1:1:W*1j]).unsqueeze(0)\n",
    "# x.shape"
   ]
  },
  {
   "cell_type": "code",
   "execution_count": 36,
   "metadata": {},
   "outputs": [],
   "source": [
    "K, V = 7, 4"
   ]
  },
  {
   "cell_type": "code",
   "execution_count": 53,
   "metadata": {},
   "outputs": [
    {
     "data": {
      "text/plain": [
       "(torch.Size([7, 6]), torch.Size([4, 7]))"
      ]
     },
     "execution_count": 53,
     "metadata": {},
     "output_type": "execute_result"
    }
   ],
   "source": [
    "key, val = torch.randn(K, C), torch.randn(V, K)\n",
    "key.shape, val.shape"
   ]
  },
  {
   "cell_type": "code",
   "execution_count": 54,
   "metadata": {},
   "outputs": [
    {
     "data": {
      "text/plain": [
       "torch.Size([5, 7, 256])"
      ]
     },
     "execution_count": 54,
     "metadata": {},
     "output_type": "execute_result"
    }
   ],
   "source": [
    "w = F.softmax(key.expand(B,*key.shape) @ x, dim=-1)\n",
    "w.shape"
   ]
  },
  {
   "cell_type": "code",
   "execution_count": 55,
   "metadata": {},
   "outputs": [
    {
     "data": {
      "text/plain": [
       "torch.Size([5, 4, 256])"
      ]
     },
     "execution_count": 55,
     "metadata": {},
     "output_type": "execute_result"
    }
   ],
   "source": [
    "y = val.expand(B, *val.shape) @ w\n",
    "y.shape"
   ]
  },
  {
   "cell_type": "code",
   "execution_count": null,
   "metadata": {},
   "outputs": [],
   "source": []
  },
  {
   "cell_type": "code",
   "execution_count": null,
   "metadata": {},
   "outputs": [],
   "source": []
  },
  {
   "cell_type": "code",
   "execution_count": null,
   "metadata": {},
   "outputs": [],
   "source": []
  },
  {
   "cell_type": "code",
   "execution_count": null,
   "metadata": {},
   "outputs": [],
   "source": []
  },
  {
   "cell_type": "code",
   "execution_count": 41,
   "metadata": {},
   "outputs": [],
   "source": [
    "n = nn.Unfold(4,stride=2)"
   ]
  },
  {
   "cell_type": "code",
   "execution_count": 42,
   "metadata": {},
   "outputs": [
    {
     "data": {
      "text/plain": [
       "torch.Size([1, 32, 961])"
      ]
     },
     "execution_count": 42,
     "metadata": {},
     "output_type": "execute_result"
    }
   ],
   "source": [
    "y = n(X)\n",
    "y.shape"
   ]
  },
  {
   "cell_type": "code",
   "execution_count": 44,
   "metadata": {},
   "outputs": [],
   "source": [
    "c = y.view(2,16, -1).mean(1)"
   ]
  },
  {
   "cell_type": "code",
   "execution_count": 55,
   "metadata": {},
   "outputs": [
    {
     "data": {
      "application/javascript": [
       "/* Put everything inside the global mpl namespace */\n",
       "window.mpl = {};\n",
       "\n",
       "\n",
       "mpl.get_websocket_type = function() {\n",
       "    if (typeof(WebSocket) !== 'undefined') {\n",
       "        return WebSocket;\n",
       "    } else if (typeof(MozWebSocket) !== 'undefined') {\n",
       "        return MozWebSocket;\n",
       "    } else {\n",
       "        alert('Your browser does not have WebSocket support. ' +\n",
       "              'Please try Chrome, Safari or Firefox ≥ 6. ' +\n",
       "              'Firefox 4 and 5 are also supported but you ' +\n",
       "              'have to enable WebSockets in about:config.');\n",
       "    };\n",
       "}\n",
       "\n",
       "mpl.figure = function(figure_id, websocket, ondownload, parent_element) {\n",
       "    this.id = figure_id;\n",
       "\n",
       "    this.ws = websocket;\n",
       "\n",
       "    this.supports_binary = (this.ws.binaryType != undefined);\n",
       "\n",
       "    if (!this.supports_binary) {\n",
       "        var warnings = document.getElementById(\"mpl-warnings\");\n",
       "        if (warnings) {\n",
       "            warnings.style.display = 'block';\n",
       "            warnings.textContent = (\n",
       "                \"This browser does not support binary websocket messages. \" +\n",
       "                    \"Performance may be slow.\");\n",
       "        }\n",
       "    }\n",
       "\n",
       "    this.imageObj = new Image();\n",
       "\n",
       "    this.context = undefined;\n",
       "    this.message = undefined;\n",
       "    this.canvas = undefined;\n",
       "    this.rubberband_canvas = undefined;\n",
       "    this.rubberband_context = undefined;\n",
       "    this.format_dropdown = undefined;\n",
       "\n",
       "    this.image_mode = 'full';\n",
       "\n",
       "    this.root = $('<div/>');\n",
       "    this._root_extra_style(this.root)\n",
       "    this.root.attr('style', 'display: inline-block');\n",
       "\n",
       "    $(parent_element).append(this.root);\n",
       "\n",
       "    this._init_header(this);\n",
       "    this._init_canvas(this);\n",
       "    this._init_toolbar(this);\n",
       "\n",
       "    var fig = this;\n",
       "\n",
       "    this.waiting = false;\n",
       "\n",
       "    this.ws.onopen =  function () {\n",
       "            fig.send_message(\"supports_binary\", {value: fig.supports_binary});\n",
       "            fig.send_message(\"send_image_mode\", {});\n",
       "            if (mpl.ratio != 1) {\n",
       "                fig.send_message(\"set_dpi_ratio\", {'dpi_ratio': mpl.ratio});\n",
       "            }\n",
       "            fig.send_message(\"refresh\", {});\n",
       "        }\n",
       "\n",
       "    this.imageObj.onload = function() {\n",
       "            if (fig.image_mode == 'full') {\n",
       "                // Full images could contain transparency (where diff images\n",
       "                // almost always do), so we need to clear the canvas so that\n",
       "                // there is no ghosting.\n",
       "                fig.context.clearRect(0, 0, fig.canvas.width, fig.canvas.height);\n",
       "            }\n",
       "            fig.context.drawImage(fig.imageObj, 0, 0);\n",
       "        };\n",
       "\n",
       "    this.imageObj.onunload = function() {\n",
       "        fig.ws.close();\n",
       "    }\n",
       "\n",
       "    this.ws.onmessage = this._make_on_message_function(this);\n",
       "\n",
       "    this.ondownload = ondownload;\n",
       "}\n",
       "\n",
       "mpl.figure.prototype._init_header = function() {\n",
       "    var titlebar = $(\n",
       "        '<div class=\"ui-dialog-titlebar ui-widget-header ui-corner-all ' +\n",
       "        'ui-helper-clearfix\"/>');\n",
       "    var titletext = $(\n",
       "        '<div class=\"ui-dialog-title\" style=\"width: 100%; ' +\n",
       "        'text-align: center; padding: 3px;\"/>');\n",
       "    titlebar.append(titletext)\n",
       "    this.root.append(titlebar);\n",
       "    this.header = titletext[0];\n",
       "}\n",
       "\n",
       "\n",
       "\n",
       "mpl.figure.prototype._canvas_extra_style = function(canvas_div) {\n",
       "\n",
       "}\n",
       "\n",
       "\n",
       "mpl.figure.prototype._root_extra_style = function(canvas_div) {\n",
       "\n",
       "}\n",
       "\n",
       "mpl.figure.prototype._init_canvas = function() {\n",
       "    var fig = this;\n",
       "\n",
       "    var canvas_div = $('<div/>');\n",
       "\n",
       "    canvas_div.attr('style', 'position: relative; clear: both; outline: 0');\n",
       "\n",
       "    function canvas_keyboard_event(event) {\n",
       "        return fig.key_event(event, event['data']);\n",
       "    }\n",
       "\n",
       "    canvas_div.keydown('key_press', canvas_keyboard_event);\n",
       "    canvas_div.keyup('key_release', canvas_keyboard_event);\n",
       "    this.canvas_div = canvas_div\n",
       "    this._canvas_extra_style(canvas_div)\n",
       "    this.root.append(canvas_div);\n",
       "\n",
       "    var canvas = $('<canvas/>');\n",
       "    canvas.addClass('mpl-canvas');\n",
       "    canvas.attr('style', \"left: 0; top: 0; z-index: 0; outline: 0\")\n",
       "\n",
       "    this.canvas = canvas[0];\n",
       "    this.context = canvas[0].getContext(\"2d\");\n",
       "\n",
       "    var backingStore = this.context.backingStorePixelRatio ||\n",
       "\tthis.context.webkitBackingStorePixelRatio ||\n",
       "\tthis.context.mozBackingStorePixelRatio ||\n",
       "\tthis.context.msBackingStorePixelRatio ||\n",
       "\tthis.context.oBackingStorePixelRatio ||\n",
       "\tthis.context.backingStorePixelRatio || 1;\n",
       "\n",
       "    mpl.ratio = (window.devicePixelRatio || 1) / backingStore;\n",
       "\n",
       "    var rubberband = $('<canvas/>');\n",
       "    rubberband.attr('style', \"position: absolute; left: 0; top: 0; z-index: 1;\")\n",
       "\n",
       "    var pass_mouse_events = true;\n",
       "\n",
       "    canvas_div.resizable({\n",
       "        start: function(event, ui) {\n",
       "            pass_mouse_events = false;\n",
       "        },\n",
       "        resize: function(event, ui) {\n",
       "            fig.request_resize(ui.size.width, ui.size.height);\n",
       "        },\n",
       "        stop: function(event, ui) {\n",
       "            pass_mouse_events = true;\n",
       "            fig.request_resize(ui.size.width, ui.size.height);\n",
       "        },\n",
       "    });\n",
       "\n",
       "    function mouse_event_fn(event) {\n",
       "        if (pass_mouse_events)\n",
       "            return fig.mouse_event(event, event['data']);\n",
       "    }\n",
       "\n",
       "    rubberband.mousedown('button_press', mouse_event_fn);\n",
       "    rubberband.mouseup('button_release', mouse_event_fn);\n",
       "    // Throttle sequential mouse events to 1 every 20ms.\n",
       "    rubberband.mousemove('motion_notify', mouse_event_fn);\n",
       "\n",
       "    rubberband.mouseenter('figure_enter', mouse_event_fn);\n",
       "    rubberband.mouseleave('figure_leave', mouse_event_fn);\n",
       "\n",
       "    canvas_div.on(\"wheel\", function (event) {\n",
       "        event = event.originalEvent;\n",
       "        event['data'] = 'scroll'\n",
       "        if (event.deltaY < 0) {\n",
       "            event.step = 1;\n",
       "        } else {\n",
       "            event.step = -1;\n",
       "        }\n",
       "        mouse_event_fn(event);\n",
       "    });\n",
       "\n",
       "    canvas_div.append(canvas);\n",
       "    canvas_div.append(rubberband);\n",
       "\n",
       "    this.rubberband = rubberband;\n",
       "    this.rubberband_canvas = rubberband[0];\n",
       "    this.rubberband_context = rubberband[0].getContext(\"2d\");\n",
       "    this.rubberband_context.strokeStyle = \"#000000\";\n",
       "\n",
       "    this._resize_canvas = function(width, height) {\n",
       "        // Keep the size of the canvas, canvas container, and rubber band\n",
       "        // canvas in synch.\n",
       "        canvas_div.css('width', width)\n",
       "        canvas_div.css('height', height)\n",
       "\n",
       "        canvas.attr('width', width * mpl.ratio);\n",
       "        canvas.attr('height', height * mpl.ratio);\n",
       "        canvas.attr('style', 'width: ' + width + 'px; height: ' + height + 'px;');\n",
       "\n",
       "        rubberband.attr('width', width);\n",
       "        rubberband.attr('height', height);\n",
       "    }\n",
       "\n",
       "    // Set the figure to an initial 600x600px, this will subsequently be updated\n",
       "    // upon first draw.\n",
       "    this._resize_canvas(600, 600);\n",
       "\n",
       "    // Disable right mouse context menu.\n",
       "    $(this.rubberband_canvas).bind(\"contextmenu\",function(e){\n",
       "        return false;\n",
       "    });\n",
       "\n",
       "    function set_focus () {\n",
       "        canvas.focus();\n",
       "        canvas_div.focus();\n",
       "    }\n",
       "\n",
       "    window.setTimeout(set_focus, 100);\n",
       "}\n",
       "\n",
       "mpl.figure.prototype._init_toolbar = function() {\n",
       "    var fig = this;\n",
       "\n",
       "    var nav_element = $('<div/>');\n",
       "    nav_element.attr('style', 'width: 100%');\n",
       "    this.root.append(nav_element);\n",
       "\n",
       "    // Define a callback function for later on.\n",
       "    function toolbar_event(event) {\n",
       "        return fig.toolbar_button_onclick(event['data']);\n",
       "    }\n",
       "    function toolbar_mouse_event(event) {\n",
       "        return fig.toolbar_button_onmouseover(event['data']);\n",
       "    }\n",
       "\n",
       "    for(var toolbar_ind in mpl.toolbar_items) {\n",
       "        var name = mpl.toolbar_items[toolbar_ind][0];\n",
       "        var tooltip = mpl.toolbar_items[toolbar_ind][1];\n",
       "        var image = mpl.toolbar_items[toolbar_ind][2];\n",
       "        var method_name = mpl.toolbar_items[toolbar_ind][3];\n",
       "\n",
       "        if (!name) {\n",
       "            // put a spacer in here.\n",
       "            continue;\n",
       "        }\n",
       "        var button = $('<button/>');\n",
       "        button.addClass('ui-button ui-widget ui-state-default ui-corner-all ' +\n",
       "                        'ui-button-icon-only');\n",
       "        button.attr('role', 'button');\n",
       "        button.attr('aria-disabled', 'false');\n",
       "        button.click(method_name, toolbar_event);\n",
       "        button.mouseover(tooltip, toolbar_mouse_event);\n",
       "\n",
       "        var icon_img = $('<span/>');\n",
       "        icon_img.addClass('ui-button-icon-primary ui-icon');\n",
       "        icon_img.addClass(image);\n",
       "        icon_img.addClass('ui-corner-all');\n",
       "\n",
       "        var tooltip_span = $('<span/>');\n",
       "        tooltip_span.addClass('ui-button-text');\n",
       "        tooltip_span.html(tooltip);\n",
       "\n",
       "        button.append(icon_img);\n",
       "        button.append(tooltip_span);\n",
       "\n",
       "        nav_element.append(button);\n",
       "    }\n",
       "\n",
       "    var fmt_picker_span = $('<span/>');\n",
       "\n",
       "    var fmt_picker = $('<select/>');\n",
       "    fmt_picker.addClass('mpl-toolbar-option ui-widget ui-widget-content');\n",
       "    fmt_picker_span.append(fmt_picker);\n",
       "    nav_element.append(fmt_picker_span);\n",
       "    this.format_dropdown = fmt_picker[0];\n",
       "\n",
       "    for (var ind in mpl.extensions) {\n",
       "        var fmt = mpl.extensions[ind];\n",
       "        var option = $(\n",
       "            '<option/>', {selected: fmt === mpl.default_extension}).html(fmt);\n",
       "        fmt_picker.append(option);\n",
       "    }\n",
       "\n",
       "    // Add hover states to the ui-buttons\n",
       "    $( \".ui-button\" ).hover(\n",
       "        function() { $(this).addClass(\"ui-state-hover\");},\n",
       "        function() { $(this).removeClass(\"ui-state-hover\");}\n",
       "    );\n",
       "\n",
       "    var status_bar = $('<span class=\"mpl-message\"/>');\n",
       "    nav_element.append(status_bar);\n",
       "    this.message = status_bar[0];\n",
       "}\n",
       "\n",
       "mpl.figure.prototype.request_resize = function(x_pixels, y_pixels) {\n",
       "    // Request matplotlib to resize the figure. Matplotlib will then trigger a resize in the client,\n",
       "    // which will in turn request a refresh of the image.\n",
       "    this.send_message('resize', {'width': x_pixels, 'height': y_pixels});\n",
       "}\n",
       "\n",
       "mpl.figure.prototype.send_message = function(type, properties) {\n",
       "    properties['type'] = type;\n",
       "    properties['figure_id'] = this.id;\n",
       "    this.ws.send(JSON.stringify(properties));\n",
       "}\n",
       "\n",
       "mpl.figure.prototype.send_draw_message = function() {\n",
       "    if (!this.waiting) {\n",
       "        this.waiting = true;\n",
       "        this.ws.send(JSON.stringify({type: \"draw\", figure_id: this.id}));\n",
       "    }\n",
       "}\n",
       "\n",
       "\n",
       "mpl.figure.prototype.handle_save = function(fig, msg) {\n",
       "    var format_dropdown = fig.format_dropdown;\n",
       "    var format = format_dropdown.options[format_dropdown.selectedIndex].value;\n",
       "    fig.ondownload(fig, format);\n",
       "}\n",
       "\n",
       "\n",
       "mpl.figure.prototype.handle_resize = function(fig, msg) {\n",
       "    var size = msg['size'];\n",
       "    if (size[0] != fig.canvas.width || size[1] != fig.canvas.height) {\n",
       "        fig._resize_canvas(size[0], size[1]);\n",
       "        fig.send_message(\"refresh\", {});\n",
       "    };\n",
       "}\n",
       "\n",
       "mpl.figure.prototype.handle_rubberband = function(fig, msg) {\n",
       "    var x0 = msg['x0'] / mpl.ratio;\n",
       "    var y0 = (fig.canvas.height - msg['y0']) / mpl.ratio;\n",
       "    var x1 = msg['x1'] / mpl.ratio;\n",
       "    var y1 = (fig.canvas.height - msg['y1']) / mpl.ratio;\n",
       "    x0 = Math.floor(x0) + 0.5;\n",
       "    y0 = Math.floor(y0) + 0.5;\n",
       "    x1 = Math.floor(x1) + 0.5;\n",
       "    y1 = Math.floor(y1) + 0.5;\n",
       "    var min_x = Math.min(x0, x1);\n",
       "    var min_y = Math.min(y0, y1);\n",
       "    var width = Math.abs(x1 - x0);\n",
       "    var height = Math.abs(y1 - y0);\n",
       "\n",
       "    fig.rubberband_context.clearRect(\n",
       "        0, 0, fig.canvas.width / mpl.ratio, fig.canvas.height / mpl.ratio);\n",
       "\n",
       "    fig.rubberband_context.strokeRect(min_x, min_y, width, height);\n",
       "}\n",
       "\n",
       "mpl.figure.prototype.handle_figure_label = function(fig, msg) {\n",
       "    // Updates the figure title.\n",
       "    fig.header.textContent = msg['label'];\n",
       "}\n",
       "\n",
       "mpl.figure.prototype.handle_cursor = function(fig, msg) {\n",
       "    var cursor = msg['cursor'];\n",
       "    switch(cursor)\n",
       "    {\n",
       "    case 0:\n",
       "        cursor = 'pointer';\n",
       "        break;\n",
       "    case 1:\n",
       "        cursor = 'default';\n",
       "        break;\n",
       "    case 2:\n",
       "        cursor = 'crosshair';\n",
       "        break;\n",
       "    case 3:\n",
       "        cursor = 'move';\n",
       "        break;\n",
       "    }\n",
       "    fig.rubberband_canvas.style.cursor = cursor;\n",
       "}\n",
       "\n",
       "mpl.figure.prototype.handle_message = function(fig, msg) {\n",
       "    fig.message.textContent = msg['message'];\n",
       "}\n",
       "\n",
       "mpl.figure.prototype.handle_draw = function(fig, msg) {\n",
       "    // Request the server to send over a new figure.\n",
       "    fig.send_draw_message();\n",
       "}\n",
       "\n",
       "mpl.figure.prototype.handle_image_mode = function(fig, msg) {\n",
       "    fig.image_mode = msg['mode'];\n",
       "}\n",
       "\n",
       "mpl.figure.prototype.updated_canvas_event = function() {\n",
       "    // Called whenever the canvas gets updated.\n",
       "    this.send_message(\"ack\", {});\n",
       "}\n",
       "\n",
       "// A function to construct a web socket function for onmessage handling.\n",
       "// Called in the figure constructor.\n",
       "mpl.figure.prototype._make_on_message_function = function(fig) {\n",
       "    return function socket_on_message(evt) {\n",
       "        if (evt.data instanceof Blob) {\n",
       "            /* FIXME: We get \"Resource interpreted as Image but\n",
       "             * transferred with MIME type text/plain:\" errors on\n",
       "             * Chrome.  But how to set the MIME type?  It doesn't seem\n",
       "             * to be part of the websocket stream */\n",
       "            evt.data.type = \"image/png\";\n",
       "\n",
       "            /* Free the memory for the previous frames */\n",
       "            if (fig.imageObj.src) {\n",
       "                (window.URL || window.webkitURL).revokeObjectURL(\n",
       "                    fig.imageObj.src);\n",
       "            }\n",
       "\n",
       "            fig.imageObj.src = (window.URL || window.webkitURL).createObjectURL(\n",
       "                evt.data);\n",
       "            fig.updated_canvas_event();\n",
       "            fig.waiting = false;\n",
       "            return;\n",
       "        }\n",
       "        else if (typeof evt.data === 'string' && evt.data.slice(0, 21) == \"data:image/png;base64\") {\n",
       "            fig.imageObj.src = evt.data;\n",
       "            fig.updated_canvas_event();\n",
       "            fig.waiting = false;\n",
       "            return;\n",
       "        }\n",
       "\n",
       "        var msg = JSON.parse(evt.data);\n",
       "        var msg_type = msg['type'];\n",
       "\n",
       "        // Call the  \"handle_{type}\" callback, which takes\n",
       "        // the figure and JSON message as its only arguments.\n",
       "        try {\n",
       "            var callback = fig[\"handle_\" + msg_type];\n",
       "        } catch (e) {\n",
       "            console.log(\"No handler for the '\" + msg_type + \"' message type: \", msg);\n",
       "            return;\n",
       "        }\n",
       "\n",
       "        if (callback) {\n",
       "            try {\n",
       "                // console.log(\"Handling '\" + msg_type + \"' message: \", msg);\n",
       "                callback(fig, msg);\n",
       "            } catch (e) {\n",
       "                console.log(\"Exception inside the 'handler_\" + msg_type + \"' callback:\", e, e.stack, msg);\n",
       "            }\n",
       "        }\n",
       "    };\n",
       "}\n",
       "\n",
       "// from http://stackoverflow.com/questions/1114465/getting-mouse-location-in-canvas\n",
       "mpl.findpos = function(e) {\n",
       "    //this section is from http://www.quirksmode.org/js/events_properties.html\n",
       "    var targ;\n",
       "    if (!e)\n",
       "        e = window.event;\n",
       "    if (e.target)\n",
       "        targ = e.target;\n",
       "    else if (e.srcElement)\n",
       "        targ = e.srcElement;\n",
       "    if (targ.nodeType == 3) // defeat Safari bug\n",
       "        targ = targ.parentNode;\n",
       "\n",
       "    // jQuery normalizes the pageX and pageY\n",
       "    // pageX,Y are the mouse positions relative to the document\n",
       "    // offset() returns the position of the element relative to the document\n",
       "    var x = e.pageX - $(targ).offset().left;\n",
       "    var y = e.pageY - $(targ).offset().top;\n",
       "\n",
       "    return {\"x\": x, \"y\": y};\n",
       "};\n",
       "\n",
       "/*\n",
       " * return a copy of an object with only non-object keys\n",
       " * we need this to avoid circular references\n",
       " * http://stackoverflow.com/a/24161582/3208463\n",
       " */\n",
       "function simpleKeys (original) {\n",
       "  return Object.keys(original).reduce(function (obj, key) {\n",
       "    if (typeof original[key] !== 'object')\n",
       "        obj[key] = original[key]\n",
       "    return obj;\n",
       "  }, {});\n",
       "}\n",
       "\n",
       "mpl.figure.prototype.mouse_event = function(event, name) {\n",
       "    var canvas_pos = mpl.findpos(event)\n",
       "\n",
       "    if (name === 'button_press')\n",
       "    {\n",
       "        this.canvas.focus();\n",
       "        this.canvas_div.focus();\n",
       "    }\n",
       "\n",
       "    var x = canvas_pos.x * mpl.ratio;\n",
       "    var y = canvas_pos.y * mpl.ratio;\n",
       "\n",
       "    this.send_message(name, {x: x, y: y, button: event.button,\n",
       "                             step: event.step,\n",
       "                             guiEvent: simpleKeys(event)});\n",
       "\n",
       "    /* This prevents the web browser from automatically changing to\n",
       "     * the text insertion cursor when the button is pressed.  We want\n",
       "     * to control all of the cursor setting manually through the\n",
       "     * 'cursor' event from matplotlib */\n",
       "    event.preventDefault();\n",
       "    return false;\n",
       "}\n",
       "\n",
       "mpl.figure.prototype._key_event_extra = function(event, name) {\n",
       "    // Handle any extra behaviour associated with a key event\n",
       "}\n",
       "\n",
       "mpl.figure.prototype.key_event = function(event, name) {\n",
       "\n",
       "    // Prevent repeat events\n",
       "    if (name == 'key_press')\n",
       "    {\n",
       "        if (event.which === this._key)\n",
       "            return;\n",
       "        else\n",
       "            this._key = event.which;\n",
       "    }\n",
       "    if (name == 'key_release')\n",
       "        this._key = null;\n",
       "\n",
       "    var value = '';\n",
       "    if (event.ctrlKey && event.which != 17)\n",
       "        value += \"ctrl+\";\n",
       "    if (event.altKey && event.which != 18)\n",
       "        value += \"alt+\";\n",
       "    if (event.shiftKey && event.which != 16)\n",
       "        value += \"shift+\";\n",
       "\n",
       "    value += 'k';\n",
       "    value += event.which.toString();\n",
       "\n",
       "    this._key_event_extra(event, name);\n",
       "\n",
       "    this.send_message(name, {key: value,\n",
       "                             guiEvent: simpleKeys(event)});\n",
       "    return false;\n",
       "}\n",
       "\n",
       "mpl.figure.prototype.toolbar_button_onclick = function(name) {\n",
       "    if (name == 'download') {\n",
       "        this.handle_save(this, null);\n",
       "    } else {\n",
       "        this.send_message(\"toolbar_button\", {name: name});\n",
       "    }\n",
       "};\n",
       "\n",
       "mpl.figure.prototype.toolbar_button_onmouseover = function(tooltip) {\n",
       "    this.message.textContent = tooltip;\n",
       "};\n",
       "mpl.toolbar_items = [[\"Home\", \"Reset original view\", \"fa fa-home icon-home\", \"home\"], [\"Back\", \"Back to previous view\", \"fa fa-arrow-left icon-arrow-left\", \"back\"], [\"Forward\", \"Forward to next view\", \"fa fa-arrow-right icon-arrow-right\", \"forward\"], [\"\", \"\", \"\", \"\"], [\"Pan\", \"Pan axes with left mouse, zoom with right\", \"fa fa-arrows icon-move\", \"pan\"], [\"Zoom\", \"Zoom to rectangle\", \"fa fa-square-o icon-check-empty\", \"zoom\"], [\"\", \"\", \"\", \"\"], [\"Download\", \"Download plot\", \"fa fa-floppy-o icon-save\", \"download\"]];\n",
       "\n",
       "mpl.extensions = [\"eps\", \"jpeg\", \"pdf\", \"png\", \"ps\", \"raw\", \"svg\", \"tif\"];\n",
       "\n",
       "mpl.default_extension = \"png\";var comm_websocket_adapter = function(comm) {\n",
       "    // Create a \"websocket\"-like object which calls the given IPython comm\n",
       "    // object with the appropriate methods. Currently this is a non binary\n",
       "    // socket, so there is still some room for performance tuning.\n",
       "    var ws = {};\n",
       "\n",
       "    ws.close = function() {\n",
       "        comm.close()\n",
       "    };\n",
       "    ws.send = function(m) {\n",
       "        //console.log('sending', m);\n",
       "        comm.send(m);\n",
       "    };\n",
       "    // Register the callback with on_msg.\n",
       "    comm.on_msg(function(msg) {\n",
       "        //console.log('receiving', msg['content']['data'], msg);\n",
       "        // Pass the mpl event to the overridden (by mpl) onmessage function.\n",
       "        ws.onmessage(msg['content']['data'])\n",
       "    });\n",
       "    return ws;\n",
       "}\n",
       "\n",
       "mpl.mpl_figure_comm = function(comm, msg) {\n",
       "    // This is the function which gets called when the mpl process\n",
       "    // starts-up an IPython Comm through the \"matplotlib\" channel.\n",
       "\n",
       "    var id = msg.content.data.id;\n",
       "    // Get hold of the div created by the display call when the Comm\n",
       "    // socket was opened in Python.\n",
       "    var element = $(\"#\" + id);\n",
       "    var ws_proxy = comm_websocket_adapter(comm)\n",
       "\n",
       "    function ondownload(figure, format) {\n",
       "        window.open(figure.imageObj.src);\n",
       "    }\n",
       "\n",
       "    var fig = new mpl.figure(id, ws_proxy,\n",
       "                           ondownload,\n",
       "                           element.get(0));\n",
       "\n",
       "    // Call onopen now - mpl needs it, as it is assuming we've passed it a real\n",
       "    // web socket which is closed, not our websocket->open comm proxy.\n",
       "    ws_proxy.onopen();\n",
       "\n",
       "    fig.parent_element = element.get(0);\n",
       "    fig.cell_info = mpl.find_output_cell(\"<div id='\" + id + \"'></div>\");\n",
       "    if (!fig.cell_info) {\n",
       "        console.error(\"Failed to find cell for figure\", id, fig);\n",
       "        return;\n",
       "    }\n",
       "\n",
       "    var output_index = fig.cell_info[2]\n",
       "    var cell = fig.cell_info[0];\n",
       "\n",
       "};\n",
       "\n",
       "mpl.figure.prototype.handle_close = function(fig, msg) {\n",
       "    var width = fig.canvas.width/mpl.ratio\n",
       "    fig.root.unbind('remove')\n",
       "\n",
       "    // Update the output cell to use the data from the current canvas.\n",
       "    fig.push_to_output();\n",
       "    var dataURL = fig.canvas.toDataURL();\n",
       "    // Re-enable the keyboard manager in IPython - without this line, in FF,\n",
       "    // the notebook keyboard shortcuts fail.\n",
       "    IPython.keyboard_manager.enable()\n",
       "    $(fig.parent_element).html('<img src=\"' + dataURL + '\" width=\"' + width + '\">');\n",
       "    fig.close_ws(fig, msg);\n",
       "}\n",
       "\n",
       "mpl.figure.prototype.close_ws = function(fig, msg){\n",
       "    fig.send_message('closing', msg);\n",
       "    // fig.ws.close()\n",
       "}\n",
       "\n",
       "mpl.figure.prototype.push_to_output = function(remove_interactive) {\n",
       "    // Turn the data on the canvas into data in the output cell.\n",
       "    var width = this.canvas.width/mpl.ratio\n",
       "    var dataURL = this.canvas.toDataURL();\n",
       "    this.cell_info[1]['text/html'] = '<img src=\"' + dataURL + '\" width=\"' + width + '\">';\n",
       "}\n",
       "\n",
       "mpl.figure.prototype.updated_canvas_event = function() {\n",
       "    // Tell IPython that the notebook contents must change.\n",
       "    IPython.notebook.set_dirty(true);\n",
       "    this.send_message(\"ack\", {});\n",
       "    var fig = this;\n",
       "    // Wait a second, then push the new image to the DOM so\n",
       "    // that it is saved nicely (might be nice to debounce this).\n",
       "    setTimeout(function () { fig.push_to_output() }, 1000);\n",
       "}\n",
       "\n",
       "mpl.figure.prototype._init_toolbar = function() {\n",
       "    var fig = this;\n",
       "\n",
       "    var nav_element = $('<div/>');\n",
       "    nav_element.attr('style', 'width: 100%');\n",
       "    this.root.append(nav_element);\n",
       "\n",
       "    // Define a callback function for later on.\n",
       "    function toolbar_event(event) {\n",
       "        return fig.toolbar_button_onclick(event['data']);\n",
       "    }\n",
       "    function toolbar_mouse_event(event) {\n",
       "        return fig.toolbar_button_onmouseover(event['data']);\n",
       "    }\n",
       "\n",
       "    for(var toolbar_ind in mpl.toolbar_items){\n",
       "        var name = mpl.toolbar_items[toolbar_ind][0];\n",
       "        var tooltip = mpl.toolbar_items[toolbar_ind][1];\n",
       "        var image = mpl.toolbar_items[toolbar_ind][2];\n",
       "        var method_name = mpl.toolbar_items[toolbar_ind][3];\n",
       "\n",
       "        if (!name) { continue; };\n",
       "\n",
       "        var button = $('<button class=\"btn btn-default\" href=\"#\" title=\"' + name + '\"><i class=\"fa ' + image + ' fa-lg\"></i></button>');\n",
       "        button.click(method_name, toolbar_event);\n",
       "        button.mouseover(tooltip, toolbar_mouse_event);\n",
       "        nav_element.append(button);\n",
       "    }\n",
       "\n",
       "    // Add the status bar.\n",
       "    var status_bar = $('<span class=\"mpl-message\" style=\"text-align:right; float: right;\"/>');\n",
       "    nav_element.append(status_bar);\n",
       "    this.message = status_bar[0];\n",
       "\n",
       "    // Add the close button to the window.\n",
       "    var buttongrp = $('<div class=\"btn-group inline pull-right\"></div>');\n",
       "    var button = $('<button class=\"btn btn-mini btn-primary\" href=\"#\" title=\"Stop Interaction\"><i class=\"fa fa-power-off icon-remove icon-large\"></i></button>');\n",
       "    button.click(function (evt) { fig.handle_close(fig, {}); } );\n",
       "    button.mouseover('Stop Interaction', toolbar_mouse_event);\n",
       "    buttongrp.append(button);\n",
       "    var titlebar = this.root.find($('.ui-dialog-titlebar'));\n",
       "    titlebar.prepend(buttongrp);\n",
       "}\n",
       "\n",
       "mpl.figure.prototype._root_extra_style = function(el){\n",
       "    var fig = this\n",
       "    el.on(\"remove\", function(){\n",
       "\tfig.close_ws(fig, {});\n",
       "    });\n",
       "}\n",
       "\n",
       "mpl.figure.prototype._canvas_extra_style = function(el){\n",
       "    // this is important to make the div 'focusable\n",
       "    el.attr('tabindex', 0)\n",
       "    // reach out to IPython and tell the keyboard manager to turn it's self\n",
       "    // off when our div gets focus\n",
       "\n",
       "    // location in version 3\n",
       "    if (IPython.notebook.keyboard_manager) {\n",
       "        IPython.notebook.keyboard_manager.register_events(el);\n",
       "    }\n",
       "    else {\n",
       "        // location in version 2\n",
       "        IPython.keyboard_manager.register_events(el);\n",
       "    }\n",
       "\n",
       "}\n",
       "\n",
       "mpl.figure.prototype._key_event_extra = function(event, name) {\n",
       "    var manager = IPython.notebook.keyboard_manager;\n",
       "    if (!manager)\n",
       "        manager = IPython.keyboard_manager;\n",
       "\n",
       "    // Check for shift+enter\n",
       "    if (event.shiftKey && event.which == 13) {\n",
       "        this.canvas_div.blur();\n",
       "        event.shiftKey = false;\n",
       "        // Send a \"J\" for go to next cell\n",
       "        event.which = 74;\n",
       "        event.keyCode = 74;\n",
       "        manager.command_mode();\n",
       "        manager.handle_keydown(event);\n",
       "    }\n",
       "}\n",
       "\n",
       "mpl.figure.prototype.handle_save = function(fig, msg) {\n",
       "    fig.ondownload(fig, null);\n",
       "}\n",
       "\n",
       "\n",
       "mpl.find_output_cell = function(html_output) {\n",
       "    // Return the cell and output element which can be found *uniquely* in the notebook.\n",
       "    // Note - this is a bit hacky, but it is done because the \"notebook_saving.Notebook\"\n",
       "    // IPython event is triggered only after the cells have been serialised, which for\n",
       "    // our purposes (turning an active figure into a static one), is too late.\n",
       "    var cells = IPython.notebook.get_cells();\n",
       "    var ncells = cells.length;\n",
       "    for (var i=0; i<ncells; i++) {\n",
       "        var cell = cells[i];\n",
       "        if (cell.cell_type === 'code'){\n",
       "            for (var j=0; j<cell.output_area.outputs.length; j++) {\n",
       "                var data = cell.output_area.outputs[j];\n",
       "                if (data.data) {\n",
       "                    // IPython >= 3 moved mimebundle to data attribute of output\n",
       "                    data = data.data;\n",
       "                }\n",
       "                if (data['text/html'] == html_output) {\n",
       "                    return [cell, data, j];\n",
       "                }\n",
       "            }\n",
       "        }\n",
       "    }\n",
       "}\n",
       "\n",
       "// Register the function which deals with the matplotlib target/channel.\n",
       "// The kernel may be null if the page has been refreshed.\n",
       "if (IPython.notebook.kernel != null) {\n",
       "    IPython.notebook.kernel.comm_manager.register_target('matplotlib', mpl.mpl_figure_comm);\n",
       "}\n"
      ],
      "text/plain": [
       "<IPython.core.display.Javascript object>"
      ]
     },
     "metadata": {},
     "output_type": "display_data"
    },
    {
     "data": {
      "text/html": [
       "<img src=\"data:image/png;base64,iVBORw0KGgoAAAANSUhEUgAAAoAAAAHgCAYAAAA10dzkAAAgAElEQVR4Xu29C7BWVRn//4ilaMJBM5QIwQxMxFJ0uIga6lRa/QR0qr+FJuO1nBEvk6jjBbxgYoWmiVwSkF+GaVla3rp4SQx1NJrk5lh44WIlCD9MwUn5z7Pf9st5z3nPefdaa6937b3OZ88wGaz17md9v8+znu9ea+/17LBt27ZtwgUCIAACIAACIAACINBlENgBAdhluGagIAACIAACIAACIJAggADEEUAABEAABEAABECgiyGAAOxihDNcEAABEAABEAABEEAA4gMgAAIgAAIgAAIg0MUQQAB2McIZLgiAAAiAAAiAAAggAPEBEAABEAABEAABEOhiCCAAuxjhDBcEQAAEQAAEQAAEEID4AAiAAAiAAAiAAAh0MQQQgF2McIYLAiAAAiAAAiAAAghAfAAEQAAEQAAEQAAEuhgCCMAuRjjDBQEQAAEQAAEQAAEEID4AAiAAAiAAAiAAAl0MAQRgFyOc4YIACIAACIAACIAAAhAfAAEQAAEQAAEQAIEuhgACsIsRznBBAARAAARAAARAAAGID4AACIAACIAACIBAF0MAAdjFCGe4IAACIAACIAACIIAAxAdAAARAAARAAARAoIshgADsYoQzXBAAARAAARAAARBAAOIDIAACIAACIAACINDFEEAAdjHCGS4IgAAIgAAIgAAIIADxARAAARAAARAAARDoYgggALsY4QwXBEAABEAABEAABBCA+AAIgAAIgAAIgAAIdDEEEIBdjHCGCwIgAAIgAAIgAAIIQHwABEAABEAABEAABLoYAgjALkY4wwUBEAABEAABEAABBCA+AAIgAAIgAAIgAAJdDAEEYBcjnOGCAAiAAAiAAAiAAAIQHwABEAABEAABEACBLoYAArCLEc5wQQAEQAAEQAAEQAABiA+AAAiAAAiAAAiAQBdDAAHYxQhnuCAAAiAAAiAAAiCAAMQHQAAEQAAEQAAEQKCLIYAA7GKEM1wQAAEQAAEQAAEQQADiAyAAAiAAAiAAAiDQxRBAAHYxwhkuCIAACIAACIAACCAA8QEQAAEQAAEQAAEQ6GIIIAC7GOEMFwRAAARAAARAAAQQgPgACIAACIAACIAACHQxBBCAXYxwhgsCIAACIAACIAACCEB8AARAAARAAARAAAS6GAIIwC5GOMMFARAAARAAARAAAQQgPgACIAACIAACIAACXQwBBGAXI5zhggAIgAAIgAAIgAACEB8AARAAARAAARAAgS6GAAKwixHOcEEABEAABEAABEAAAYgPgAAIgAAIgAAIgEAXQwAB2MUIZ7ggAAIgAAIgAAIggADEB0AABEAABEAABECgiyGAAOxihDNcEAABEAABEAABEEAA4gMgAAIgAAIgAAIg0MUQQAB2McIZLgiAAAiAAAiAAAggAPEBEAABEAABEAABEOhiCCAAuxjhDBcEQAAEQAAEQAAEEID4AAiAAAiAAAiAAAh0MQQQgA6Ef/DBB7J27Vrp0aOH7LDDDg6/RFcQAAEQAAEQAIFmIbBt2zbZvHmzfPzjH5du3bo167aFug8C0IGO1atXS79+/Rx+ga4gAAIgAAIgAAKhEHj99dflE5/4RKjbB70vAtAB/k2bNkmvXr1EHahnz54Ov0RXEAABEAABEACBZiHw//7f/0sWcDZu3CgtLS3Num2h7oMAdKBDHUgdR4UgAtABSLqCAAiAAAiAQBMRIH+LIAAdHA4HcgCPriAAAiAAAiAQCAHyNwLQyfVwICf46AwCIAACIAACQRAgf5dEAD755JNy4403yvPPPy/r1q2T++67T8aOHdup0zzxxBNy4YUXytKlS5OvfC6++GI555xzavrcdtttye/qbx544IFy0003yZFHHpnZGXGgzFDREARAAARAAAQKgwD5uyQC8KGHHpJFixbJ0KFD5aSTTmooAFetWiVDhgyRM888U84+++yk73e+8x352c9+lvTX6+6775ZTTjlFVASOGjVKZs6cKXPmzJFly5bJPvvsk8lJcaBMMNEIBEAABEAABAqFAPm7JAKwtdfoeXuNVgAnTZok999/vyxfvrzaVVf//vrXv8qf//zn5O+GDx+eCMoZM2ZU2xxwwAHJyuL111+fyVFxoEww0QgEQAAEQAAECoUA+TtSAXjUUUfJIYccIjfffHPV4VQ0fu1rX5N33nlH9ADIXXfdVe655x4ZN25ctc3EiRNlyZIlotvH9a6tW7eK/kmv9DNyvgIuVFxjDAiAAAiAAAh0igACMFIBOGjQIDnttNPksssuqzrA008/nWz1auUOFYB9+/ZNtoYPP/zwapupU6fK/PnzZeXKlXUdZ/LkyTJlypR2/4YAZKYBARAAARAAgfIggACMWABOmDBBLr300qo3qtg74ogjkg8+tISbCkAVhSNHjqy2ue6662TBggWyYsUKVgDLE8dYCgIgAAIgAAJGCCAAIxWAvraA23oXDmQUbzQGARAAARAAgUIgQP6OVADqRyAPPPBA8kVven37299O3u9r/RHIoYcemnwFnF6DBw+WMWPG8BFIIcITI0AABEAABEDADwIIwJIIwLfffltefvnlxAv0444f/vCHcvTRR8see+yRHNmiW71r1qyRO++8M2mTHgOjR8DoUTAq+vQr4HrHwNx+++3JNvCsWbNk9uzZybmB/fv3z+RxPh3o/Q+2ybOrNsi/Nm+R3j26y7B995Adu+2QyS76Fhsr+Ck2PxpkcBQvR3AbL7eZEuT/GvnM3yZ2hGxbilJwjz/+eCL42l7f+ta3ZN68eckHH6+88opou/TSL3kvuOCC6kHQuipY7yDoadOmJe8F6rmB06dPF90+znr5cqCHX1wnUx5YJus2bama0qelu1z1fwbLcUP6dGoefUWKjBX8FJsfDS44ipcjuI2X26x5O23nK3+b2hGyfSkEYEiAOru3DwfSCerb//cF2dbmxuna34zxQzsUgfStgFZUrOCn2Pyk4o/4K24MuXBE/MUdf6Y6wUf+NrUhdHsEoAMDeTuQbk0cccMfa1b+Wpunwmbvlu7y1KRj2m0H07eWyKJhBT/F5ketg6N4OYLbeLm1TeF5529bO0L2QwA6oJ+3A/357+vl5NmLG1r0szNHyMj9PlrTjr71YSsKVvBTbH7UOjiKlyO4jZfbhgmzgwZ5529bO0L2QwA6oJ+3A/16yRqZuHBJQ4tu/v8OljEH961pR9/6sBUFK/gpNj9qHRzFyxHcxsttw4SJAOwQIgSgrfeISN4CkKfUeJ9S4TZeblk97HgSZQWeXZ163pG3X9ik8bzzt40NofsgAB0YyNuB0vdU3ti0pd1HIGpmlvfa6FshtGhYwW1toBWNH7UOjuLlCG7j5dY2heedv23tCNkPAeiAvg8HSr9UU7Nafwls8mUrfSukZvliuplYwe12cV5EftQmOIqXI7iNl1ubNO4jf9vYEbIPAtABfV8OxFlV8Z5VBbfxcpsKSM7wLO6ZpcRf3PFnks595W8TG0K3RQA6MODTgTitPt7T6uE2Xm7TrWSq+BS3ahHxF3f8ZU3pPvN3VhtCt0MAOjDg04GYpOKdpOA2Xm4RgMUvW0n8xR1/WVO6z/yd1YbQ7RCADgz4ciC2KeLdpoDbeLllC7gymVKKsX1SIe6b4xcm6dxX/jaxIXRbBKADAz4ciHJF5i8ql6VsHtzGy20q/igjV9wycsRf3PFnmsp95G9TG0K3RwA6MJC3A1GuqJaMLEeFrNu0pS6DResLt/Fym277UsZxO8fEXwUL4r45cW+TxvPO3zY2hO6DAHRgIG8H4rDg+mTkfWhoCJxD3FPR5L7x+hT8djx5t50ziIO448Amjeedv21sCN0HAejAQN4ORLmi+mQUpZybWmfLkW0/l3vSt+PgjsGn4Dc7v8RfvHOrbQrPO3/b2hGyHwLQAf28HYin1HifUuE2Xm5Zicu+EhcKK+Iv7vizSeN5528bG0L3QQA6MJC3A1GuqJaMLO8RlaX0HdzGy62ODH6LzS/8FJsf1xiySeN5528bG0L3QQA6MODDgShXVCEkxtJ3cBsvtzoy+C02v/BTbH5cY8g0lfvI36Y2hG6PAHRgwJcDcWZUc86MCoFziHumEyslyopbogyOKhOx7zMEiT//GIf0ZZN07it/m9gQui0C0IEBnw7EafXxnlYPt/Fym25lUQqOUnBtUwtx35y4z5rSfebvrDaEbocAdGDApwMxWTRnsgiBc4h7IkyKX6IMjprDEfEX79xqks595m8TO0K2RQA6oO/LgdimiHebAm7j5Tbk1hd+lc2vwCkbTmX1ZZN07it/m9gQui0C0IEBHw5EuaIKISYfgVAKTmTG+KFy3JA+db0Zn4rXp9JETQm6xnMGcRB3HJimch/529SG0O0RgA4M5O1AlA2qJSPLMTCUgqskvr1bustTk46RHbvVvnuFT8XrU+mWMSXotnPcUSwQB3HHgU0azzt/29gQug8C0IGBvB2Iw0rrk0EpuPVy8uzFDT01Bpx0kMRBvHEQil98Km6fajg51mmQd/62sSF0HwSgAwN5OxDliuqTEUPZLriNl1sdGfwWm1/4KTY/rjFkk8bzzt82NoTugwB0YCBvB+IpNd6nVLiNl9tQq1rct+PJu+1qOPEXd/zZpPG887eNDaH7IAAdGMjbgShXVEtGlnfbKAWX7R3AsuCkHkAcxBsHofjFp+L2KZs0nnf+trEhdB8EoAMDPhyIckUVQky+Atb2rb8ELmpfuI2XWx0Z/BabX/gpNj+uMWSayn3kb1MbQrdHADow4MuBOKsq3rOq4DZebtMERsm94pbcI/7ijj+TdO4rf5vYELotAtCBAZ8OxGn18Z5WD7fxcptucVIKjlJwbVMLcd+cuM+a0n3m76w2hG6HAHRgwKcDMVk0Z7IIgXOIeyJMmlNmDJyLjzPxF+/capLOfeZvEztCtkUAOqDvy4HYpoh3mwJu4+WWLeDKZNqnhS3gtmmFuG+OX5ikc1/528SG0G0RgA4M+HAgyhWZv6hMKThKwbUOY2Io3hhKRbZN6Tv8Im6/ME3lPvK3qQ2h25dGAN52221y4403yrp16+TAAw+Um266SY488si6+I0ePVqeeOKJdv/2pS99SX77298mf3/aaafJ/Pnza9oMHz5cFi9uXHEh7ZS3A1GuqJayLMfAUAou2zEwZcEp3UKlvNn2WIgpDkLxy9wa79xqK6Lyzt+2doTsVwoBePfdd8spp5wiKgJHjRolM2fOlDlz5siyZctkn332aYffhg0b5L333qv+/fr16+Wzn/1s0keFXyoA//nPf8rcuXOr7XbaaSfZY489MvORtwNxWGl96GMocQa38XKrI4PfYvMLP8XmxzWGMiftVg3zzt82NoTuUwoBqCtzQ4cOlRkzZlTxOuCAA2Ts2LFy/fXXN8RQVwuvvPLKZPXwIx/5SFUAbty4UX71q1817N9Rg7wdiHJF9ZGmFNwambhwSUM/jQEnHSRxEG8chOIXn4rbpxpOjnUa5J2/bWwI3afwAlBX8nbddVe55557ZNy4cVW8Jk6cKEuWLKm71dsW1IMOOkhGjhwps2bNqv6TrgSq+NNVv169esnnPvc5ue6666R3794dcrJ161bRP+mlDtSvXz/ZtGmT9OzZ05lLnlLjfUqF23i5dV29wDf8+wYY+8c4ZBzYJF8EoEjhBeDatWulb9++smjRIjn88MOrPE+dOjV5h2/lypWdcv/ss8+KriA+88wzMmzYsGpb3VbebbfdpH///rJq1Sq54oor5L///a88//zzsvPOO9f9zcmTJ8uUKVPa/VteApByRbXQZnn3qSwlzuA2Xm51ZPBbbH7hp9j8uMYQAtAGgRIJwKeffjpZxUsvXa1bsGCBrFixotORn3322aJ9//a3v3XaTreHVQwuXLhQTjzxxLptfa8A6k0pV1SBvqjl3Fw4gtt4uXXxC/pun259xj3xF3f8mUogVgBLIABdtoDfeecd6dOnj1x99dWiW8aNroEDB8oZZ5whkyZNatQ0+XdfDsSZUc05MyoEziHumQoMSpQV93w6OKpMub7PECT+/GMc0pczJe7/NfKVv01sCN228FvACpBu4R566KHJV8DpNXjwYBkzZkynH4HMmzdPzjnnHFmzZo189KMf7RRr/VJYt5r1PcFTTz01Ey8+HYjT6uM9rR5u4+VWJw74LTa/8FNsflxjKFPy9riAk/X+RWhXCgGYHgNz++23Vz/mmD17tixdujTZtlXBpuKt7RfBek6g/r1u67a+3n77bdH3+U466aRkhfCVV16Ryy67TF577TVZvny59OjRIxM3CMBamJhYs02s4JQNJ9dEAM7gXG8ixy/i9otMyRsBmMBUCgGohurq37Rp05KjXIYMGSLTp0+Xo446KhmEHvw8YMAA0RW/9HrppZdk//33l0cffVQ+//nP1/jEu+++mxwh85e//EX0KBgVgUcffbRcc801yVe9WS9fApBtini3KeA2Xm5Dbn3hV9n8Cpyy4VRWX86au7Wdr/xtYkPotqURgKGBqnd/Hw5EuaIK0iYvg1MKjlJwreOTGIo3hlJhQim4Csczxg+V44b0qZseu1ocmGoEH/nb1IbQ7RGADgzk7UCUK6olI8sxMGUpcQa38XKrI4PfYvMLP8XmxzWGbNJ43vnbxobQfRCADgzk7UAcVlqfDErBrZeTZzeuUR0DTuoBxEG8cRCKX3wqbp+ySeN5528bG0L3QQA6MJC3A1GuqD4ZMZQ4g9t4udWRwW+x+YWfYvPjGkM2aTzv/G1jQ+g+CEAHBvJ2IJ5S431Khdt4uQ21qsV9O568266GE39xx59NGs87f9vYELoPAtCBgbwdiHJFtWRkeQeQUnCVD2b2bukuT006Rnbsln4+U8ESn4rXp+C3/eTdUSwQB3HHgU0azzt/29gQug8C0IEBHw5EuaIKISZfAWv71l8CF7Uv3MbLrY4MfovNL/wUmx/XGDJN5T7yt6kNodsjAB0Y8OVAnFUV71lVcBsvt2kCo+RecUvuEX9xx59JOveVv01sCN0WAejAgE8H4rT6eE+rh9t4uU23ZZ9dtUH+tXmL9O7RXYbty3g7mmZDxEKIe+IXzYuDrCndZ/7OakPodghABwZ8OhCTVLxJE27j5ZZE37xEbxtHtv3gtvjcmqRzn/nbxI6QbRGADuj7ciC2KeLdpoDbeLllC7gymfZpYQu4bVoh7pvjFybp3Ff+NrEhdFsEoAMDPhyoq5Xv6Urj7Upjbf1Cd1lK9WHz9snQ5EOqsvBL/FX4jZFbmzTuI3/b2BGyDwLQAf28HYhyRbVkZDnehFJw2Y6BKQtO6TbbETf8UbB5e8JudMwPWHWOFXNrvHOrbQrPO3/b2hGyHwLQAf28HYjDSuuTEUOJM7iNl1sdGfwWm1/4KTY/rjFkk8bzzt82NoTugwB0YCBvB6JcUX0yKAW3RiYuXNLQU2PASQdJHMQbB6H4xafi9qmGk2OdBnnnbxsbQvdBADowkLcD8ZQa71Mq3MbLrevqBb7h3zfA2D/GIePAJo3nnb9tbAjdBwHowEDeDkS5oloysrwDSCm4bO8AlgUn9QDiIN44CMUvPhW3T9mk8bzzt40NofsgAB0Y8OFAlCuqEGLypZq2pxTcUDluSJ+63oxPxetTOjL4zcYvOGXDqaw+ZZrKfeRvUxtCt0cAOjDgy4E4M6o5Z0aFwDnEPdMJnRJlxT2fDo4qE7HvMwSJP/8Yh/Rlk3TuK3+b2BC6LQLQgQGfDsRp9fFWi4DbeLlNtzgpBZeu4Xc+wYaIhRD3xC+aV0Uka0r3mb+z2hC6HQLQgQGfDsQkFa9IgNt4uSXRNy/R28aRbT+4LT63JuncZ/42sSNkWwSgA/q+HIhtini3KeA2Xm5Dbn3hV9n8Cpyy4VRWXzZJ577yt4kNodsiAB0Y8OFAlCuqEGLyEQilqERmjG/8EUhZcEqTz7f/7ws1H/fE6heMd/sk7DPumVvjnVtt0riP/G1jR8g+CEAH9PN2IMoV1ZKR5RiYspTAgtt4uU23BilfVyvkilS+jviLO/5s0nje+dvGhtB9EIAODOTtQBxWWp8MSsGtl5NnL27oqTHgpIMkDuKNg1D84lNx+1TDybFOg7zzt40NofsgAB0YyNuBKFdUn4wYSpzBbbzc6sjgt9j8wk+x+XGNIZs0nnf+trEhdB8EoAMDeTsQT6nxPqXCbbzchlrV4r4dT95tV8OJv7jjzyaN552/bWwI3QcB6MBA3g5EuaJaMrK8A1iWEmdwGy+3OjL4LTa/8FNsflxjyCaN552/bWwI3QcB6MCADweiXFGFEJOvAbU9peAafwVcFpzUTuIg3jgIxS8+FbdPmaZyH/nb1IbQ7RGADgz4ciDOqor3rCq4jZfbVNhQcq+4JfeIv7jjzySd+8rfJjaEbosAdGDApwNxWn281SLgNl5u060sSsFRCq5taiHumxP3WVO6z/yd1YbQ7RCADgzgQA7g0RUEQAAEQAAEAiFA/hZBADo4n08H4mmxOU+LIXAOcU9WpspRxxTf8B/3YOwf45DzTdaU7jN/Z7UhdLvSCMDbbrtNbrzxRlm3bp0ceOCBctNNN8mRRx5ZF7958+bJhAkT2v3bu+++K927d6/+vclv1ruRLwfiPZV431OB23i55R3AyizZp4V3ANvmC+K+OX5hIqh85W8TG0K3LYUAvPvuu+WUU04RFWyjRo2SmTNnypw5c2TZsmWyzz77tMNQBeDEiRNl5cqVNf+29957V/+/6W82SwBSr7KCtMlXwGWpcQu38XKbij/qFxc3dom/uOPPVEwhAEuyBTx8+HAZOnSozJgxo8rxAQccIGPHjpXrr7++rgA8//zzZePGjR36hOlvNkMAUq+yFuUs5wBSC7iScItUdzXd/qE27nZ/hqPtWISY50LckzhonzV9xYGp+NP2CMASCMD33ntPdt11V7nnnntk3LhxVZ51hW/JkiXyxBNP1BWAZ5xxhvTt21fef/99Ofjgg+Waa66RQw45JGlr85vNEICcVl8/jGOocQu38XKrI4PfYvMLP8XmxzWGEIA2CJRAAK5duzYRcosWLZLDDz+8OsqpU6fK/Pnz223zaoPFixfLyy+/LAcddFCi8m+++WZ58MEH5a9//asMHDhQbH5Tf3fr1q3Jn/TS3+7Xr59s2rRJevbsacdAq17Uq6wPIbWA18jEhUsa+lcMOOkgiYN44yAUv/hU3D7VcHKs04AVwBIJwKefflpGjhxZpfG6666TBQsWyIoVKxpy/8EHHyRbyEcddZT86Ec/qgpA09+cPHmyTJkypd398hKAPKXG+5QKt/Fy67p6gW/49w0w9o9xyDhoKAIQgHUhKvxHIHlt15555pmyevVqeeihh6y3gH2vAFKvstZHs7wvQi3gbO8AlgUn9QDiIN44CMUvPhW3TyEAbRAowQqgDks/2Dj00EOTr4DTa/DgwTJmzJi6H4G0hWLbtm0ybNiwZEv4jjvuSP7Z9Tf1N3wsIVOvssKeyVfA2p5awNQCTuOeGIo3hnRktvza9nO5J323Z2Pfc7qpBPKRv01tCN2+8CuAClB6ZMvtt9+ebAPPmjVLZs+eLUuXLpX+/fvLqaeemrwnmH4RrNu0I0aMSN73U5J121e3i/U9QhWCWX4zCzG+HIgzo5pzZlQInEPcM01C1Kgt7vl0cFSZcX2fIUj8+cc4pC9nydtpG1/528SG0G1LIQAVJF39mzZtWnIQ9JAhQ2T69OnJO316jR49WgYMGCB6/p9eF1xwgfzyl7+UN954Q1paWpKvf/X9vdbvEDb6zSzE+HQgTquP97R6uI2XW5034LfY/MJPsflxjaEsuVvb+MzfWW0I3a40AjA0UPXu79OBmKTinaTgNl5uXZMXvuHfN8DYP8Yh4yCrVvCZv7PaELodAtCBAV8OxDZFvNsUcBsvtyG3vvCrbH4FTtlwKqsvm6RzX/nbxIbQbRGADgz4cCDKFVUIMXlhmFJwIjPGN/4IpCw4pcmHsmpxxkEofplb451bbdK4j/xtY0fIPghAB/TzdiDKFdWSkeUYGErBZTsGpiw4pVtHlJHbHgsxxUEofplb451bbVN43vnb1o6Q/RCADujn7UAcVlqfDErBrZeTZy9u6Kkx4KSDJA7ijYNQ/OJTcftUw8mxToO887eNDaH7IAAdGMjbgShXVJ+MGEqcwW283OrI4LfY/MJPsflxjSGbNJ53/raxIXQfBKADA3k7EE+p8T6lwm283IZa1eK+HU/ebVfDib+4488mjeedv21sCN0HAejAQN4ORLmiWjKyvPtUlhJncBsvtzoy+C02v/BTbH5cY8gmjeedv21sCN0HAejAgA8HolxRhRCTr4C1PaXgGn8FXBac1E7iIN44CMUvPhW3T5mmch/529SG0O0RgA4M+HIgzqqK96wquI2X21TYUHKvuCX3iL+4488knfvK3yY2hG6LAHRgwKcDcVp9vKfVw2283KZbWc+u2iD/2rxFevfoLsP2ZbwdTbMhYiHEPfGL5sVB1pTuM39ntSF0OwSgAwM+HYhJKt6kCbfxckuib16it40j235wW3xuTdK5z/xtYkfItghAB/R9ORDbFPFuU8BtvNyyBVyZTPu0sAXcNq0Q983xC5N07it/m9gQui0C0IEBHw5EuSLzF5XLUuIMbuPlNhV/lK8z+4CrmbFL/MUdf6ap3Ef+NrUhdHsEoAMDeTsQ5YpqychyDExZSpzBbbzcpluDlK/bznHRYpf4izv+bNJ43vnbxobQfRCADgzk7UAcVlqfjBhKnMFtvNzqyOC32PzCT7H5cY0hmzSed/62sSF0HwSgAwN5OxDliuqTQSm4NTJx4ZKGnhoDTjpI4iDeOAjFLz4Vt081nBzrNMg7f9vYELoPAtCBgbwdiKfUeJ9S4TZebl1XL/AN/74Bxv4xDhkHNmk87/xtY0PoPghABwbydiDKFdWSkeU9IkrBVV6635arnB8AACAASURBVLuluzw16RjZsVtaQ6WCJT4Vr0/Bb/vJu6NYIA7ijgObNJ53/raxIXQfBKADAz4ciHJFFUIoBVfrmPhFvH6hI4Nf//yCsX+MQ/qyaSr3kb9NbQjdHgHowIAvB+LMqOacGRUC5xD3TCdlSpQV93w6OKpMxL7PECT+/GMc0pdN0rmv/G1iQ+i2CEAHBnw6EKfVx1stAm7j5TbdlqUUXO2rCB1NsyFiIcQ98YvmVRHJmtJ95u+sNoRuhwB0YMCnAzFJxSsS4DZebkn0zUv0tnFk2w9ui8+tSTr3mb9N7AjZFgHogL4vB2KbIt5tCriNl9uQW1/4VTa/AqdsOJXVl03Sua/8bWJD6LYIQAcGfDgQ5YoqhJh8BNLMclLpxGhT8gtu4+XWxS/ou30S9hn3xF/c8Weayn3kb1MbQrdHADowkLcDUa6olowsx5tQCi7bMTBlwSndZqOsWq0oanTMD/xuFzf1sGJujXdutU3heedvWztC9kMAOqCftwNxWGl9MigFt15Onr24oafGgJMOkjiINw5C8YtPxe1TDSfHOg3yzt82NoTugwB0YCBvB6JcUX0yYihxBrfxcqsjg99i8ws/xebHNYZs0nje+dvGhtB9EIAODOTtQDylxvuUCrfxchtqVYv7djx5t10NJ/7ijj+bNJ53/raxIXQfBKADA3k7EOWKasnI8g4gpeCyvQNYFpzUA4iDeOMgFL/4VNw+ZZPG887fNjaE7oMAdGDAhwNRrqhCiMnXgNq+9ZfARe0Lt/FyqyOD32LzCz/F5sc1hkxTuY/8bWpD6PYIQAcGfDkQZ1XFe1YV3MbLbZrAKLlX3JJ7xF/c8WeSzn3lbxMbQrdFADow4NOBOK0+3moRcBsvt+kWJ6XgKAXXNrUQ982J+6wp3Wf+zmpD6HYIQAcGfDoQk0VzJosQOIe4J8KkHGWs8A3/cQ/G/jEOOd9kTek+83dWG0K3K40AvO222+TGG2+UdevWyYEHHig33XSTHHnkkXXxmz17ttx5553y4osvJv9+6KGHytSpU2XYsGHV9qeddprMnz+/pv/w4cNl8eLG562lnXw5ENsU8W5TwG283LIFXJkZ+7SwBdw2MRH3zfELE0HlK3+b2BC6bSkE4N133y2nnHKKqAgcNWqUzJw5U+bMmSPLli2TffbZpx2G3/zmN5N2hx9+uHTv3l2mTZsmv/zlL2Xp0qXSt2/fpL0KwH/+858yd+7cav+ddtpJ9thjj8yc+HAgyhVV4Df5kINScCIzxg+V44b0qeu7+FS8PpWKTpvShF2tL3EQdxxkTtz/a+gjf5vaELp9KQSgrswNHTpUZsyYUcXrgAMOkLFjx8r111/fEMP3339fdt99d7n11lvl1FNPrQrAjRs3yq9+9auG/TtqkLcDUa6oFuksx8CUpQQW3MbLrY4MfovNL/wUmx/XGLJJ4nnnbxsbQvcpvAB87733ZNddd5V77rlHxo0bV8Vr4sSJsmTJEnniiScaYrh582bp3bt38htf+cpXqgJQxZ+u+vXq1Us+97nPyXXXXZe0y3rl7UAcVlof+RhKnMFtvNzqyOC32PzCT7H5cY2hrDm7dbu887eNDaH7FF4Arl27Ntm2XbRoUbKlm176Tp++w7dy5cqGGJ577rnyyCOPJO8E6pawXrqtvNtuu0n//v1l1apVcsUVV8h///tfef7552XnnXeu+5tbt24V/ZNe6kD9+vWTTZs2Sc+ePRva0agB5YrqI0QpuDUyceGSRu4jMeCkgyQO4o2DUPziU3H7VMPJsU4DBKBIaQTg008/LSNHjqzSqKt1CxYskBUrVnTKvb7/973vfU8ef/xx+cxnPtNhW/24RMXgwoUL5cQTT6zbbvLkyTJlypR2/5aXAOQpNd6nVLiNl1vX1Qt8w79vgLF/jEPGAQLQBoESCECXLeDvf//7cu2118rvf/97OeywwxoiNHDgQDnjjDNk0qRJQVYAKVdUC3uWdwDLUuIMbuPlVkcGv8XmF36KzY9rDDVM7qwA1oWo8CuAarV+BKJHuehXwOk1ePBgGTNmTIcfgeiRMSr+dOt3xIgRDf1j/fr1yVbzrFmzqh+KNOrkYwmZckUV1E2+Atb2lIJr/BVwWXBSO4mDeOMgFL/4VNw+1Shft/13H/nb1IbQ7UshANNjYG6//fZkG1hFmp71p8e66Latftmr4i39Ili3ffWdvrvuuis5Dia99J0//fP222+LbueedNJJ0qdPH3nllVfksssuk9dee02WL18uPXr0yMSLLwfizKjmnBkVAucQ90wTLiXKins+HRxVplzfZwgSf/4xDunLmRL3/xr5yt8mNoRuWwoBqCDp6p8KO31Xb8iQITJ9+nQ56qijEvxGjx4tAwYMkHnz5iX/X//71VdfbYftVVddlQi/d999NzlC5i9/+YvoUTAqAo8++mi55pprko86sl4+HYjT6uM9rR5u4+VW5w74LTa/8FNsflxjqAj5O6sNoduVRgCGBqre/RGAtagwsWabWMEpG06uiQCcwbnevI1fxO0XWbWCz/yd1YbQ7RCADgz4ciC2KeLdpoDbeLkNufWFX2XzK3DKhlNZfdkknfvK3yY2hG6LAHRgwIcDUa6oQojJRyCUgqMUXOswJobijaFUmNiUvsMv4vYL01TuI3+b2hC6PQLQgYG8HYhyRbVkZDkGhlJwFbG8d0t3eWrSMbJjt1Q6V7DEp+L1KfhtP3l3FAvEQdxxYJPG887fNjaE7oMAdGAgbwfisNL6ZFAKbr2cPHtxQ0+NAScdJHEQbxyE4hefitunGk6OdRrknb9tbAjdBwHowEDeDkS5ovpkxFDiDG7j5VZHBr/F5hd+is2PawzZpPG887eNDaH7IAAdGMjbgXhKjfcpFW7j5TbUqhb37XjybrsaTvzFHX82aTzv/G1jQ+g+CEAHBvJ2IMoV1ZKR5d02SsFlewewLDipBxAH8cZBKH7xqbh9yiaN552/bWwI3QcB6MCADweiXFGFEJOvgLU9peAoBZeGMjEUbwzpyGz5te3nck/6bk+wvud001TuI3+b2hC6PQLQgQFfDsRZVfGeVQW38XKbJntK7hW35B7xF3f8maRzX/nbxIbQbRGADgz4dCBOq4/3tHq4jZfbdIvz2VUb5F+bt0jvHt1l2L6Mt6NpNkQshLgnftG8OMia0n3m76w2hG6HAHRgwKcDMUnFmzThNl5uSfTNS/S2cWTbD26Lz61JOveZv03sCNkWAeiAvi8HYpsi3m0KuI2XW7aAK5Npnxa2gNumFeK+OX5hks595W8TG0K3RQA6MODDgShXVCHE5IVhSsFRCq51GBND8cZQKrIpBVfheMb4xh9/lWV+dOHWJo37yN82doTsgwB0QD9vB6JcUS0ZWY6BoRRctmNgyoJTus12xA1/FGzeLuQo9VfBwnaOtO3nck/6tk+uvuZ0mzSed/62sSF0HwSgAwN5OxCHldYnI4YSZ3AbL7c6MvgtNr/wU2x+XGPIJo3nnb9tbAjdBwHowEDeDkS5ovpkUApujUxcuKShp8aAkw6SOIg3DkLxi0/F7VMNJ8c6DfLO3zY2hO6DAHRgIG8H4ik13qdUuI2XW9fVC3zDv2+AsX+MQ8aBTRrPO3/b2BC6DwLQgYG8HYhyRbVkZHlfpCwlzuA2Xm51ZPBbbH7hp9j8uMaQTRrPO3/b2BC6DwLQgQEfDkS5ogohJl8Ba3tKwTX+GrAsOKmdxEG8cRCKX3wqbp8yTeU+8repDaHbIwAdGPDlQJwZ1Zwzo0LgHOKeacKlRFlxz6eDo8pE7PsMQeLPP8YhfdkknfvK3yY2hG6LAHRgwKcDcVp9vNUi4DZebtOtLErBpWv4nU+wIWIhxD3xi+ZVEcma0n3m76w2hG6HAHRgwKcDMUnFKxLgNl5uSfTNS/S2cWTbD26Lz61JOveZv03sCNkWAeiAvi8HYpsi3m0KuI2X25BbX/hVNr8Cp2w4ldWXTdK5r/xtYkPotghABwZ8OBBlrCqEmHwEUpZSR3AbL7dpwrQpUUbf7ZOwz7gn/uKOP9NU7iN/m9oQuj0C0IGBvB2IckW1ZGQ5BqYs5cLgNl5u061BytfVCrkila8j/uKOP5s0nnf+trEhdB8EoAMDeTsQh5XWJ4NScOvl5NmLG3pqDDjpIImDeOMgFL/4VNw+1XByrNMg7/xtY0PoPghABwbydiDKFdUnI4YSZ3AbL7c6MvgtNr/wU2x+XGPIJo3nnb9tbAjdBwHowEDeDsRTarxPqXAbL7ehVrW4b8eTd9vVcOIv7vizSeN5528bG0L3QQA6MJC3A1GuqJaMLO8AUgqu8sFMo/etyoKTegBxEG8chOIXn4rbp2zSeN7528aG0H0QgA4M+HAgyhVVCDH5GlDbUwqOUnBpKBND8caQjsyWX9t+Lvek7/YE63tON03lPvK3qQ2h2yMAHRjw5UCcVRXvWVVwGy+3abKn5F5xS+4Rf3HHn0k695W/TWwI3RYB6MCATwfitPp4q0XAbbzcpluclIKjFFzb1ELcNyfus6Z0n/k7qw2h2yEAHRjw6UBMFs2ZLELgHOKeCJNylLHCN/zHPRj7xzjkfJM1pfvM31ltCN2uVALwtttukxtvvFHWrVsnBx54oNx0001y5JFHdojhL37xC7niiivk73//u+y3335y3XXXybhx46rtt23bJlOmTJFZs2bJW2+9JcOHD5cf//jHyW9nuXw5ENsU8W5TwG283LIFXJk1+7SwBdw2fxD3zfGLLHk7beMrf5vYELptaQTg3XffLaeccoqoCBw1apTMnDlT5syZI8uWLZN99tmnHY5//vOfE3F4zTXXJKLvvvvukyuvvFKeeuqpROjpdcMNNySicN68eTJo0CC59tpr5cknn5SVK1dKjx49GnLjw4EoV1SB3eSFYUrBicwY3/gjkLLglAopyqrFGQeh+GVujXdubZis6zTwkb9t7AjZpzQCUEXb0KFDZcaMGVW8DjjgABk7dqxcf/317TD8+te/LkrwQw89VP234447TnbffXf52c9+Jrr69/GPf1zOP/98mTRpUtJm69atstdeeyXC8Oyzz27IS94ORLmiWsizHG9CKbhsx8CUBSf1AOIg3jgIxS8+FbdPNUzWCMC6EJVCAL733nuy6667yj333FOzhTtx4kRZsmSJPPHEE+0Gp6uCF1xwQfInvaZPn55sG7/66qvyj3/8I9kWfuGFF+SQQw6pthkzZoz06tVL5s+f3+43VSDqn/RSAdivXz/ZtGmT9OzZ08YHa/pwWGl9CGMocQa38XKrI4PfYvMLP8XmxzWGbJJv3gs4NjaE7lMKAbh27Vrp27evLFq0SA4//PAqZlOnTk2Emm7Ztr122mmnZGv3G9/4RvWf7rrrLpkwYUIi4p5++ulkK3nNmjXJSmB6nXXWWYlAfOSRR9r95uTJk5N3BtteeQlAyhXVDwdKwa2RiQuXNJwrYsBJB0kcxBsHofjFp+L2qYaTY50GCECRUglAFW0jR46sUqnv7y1YsEBWrFhRVwCqODz55JOr//bTn/5UTj/9dNmyZUtVAKq47NOnT7XNmWeeKa+//ro8/PDD7X6TFcARMnK/j7JqOXtxw/mGUlTr5WQLnFxXAljpiXulx5Zf2374Y8dTXZF2ZhpOyAjAuhCVQgAWZQu4LYJ5P0FQrqgW4SzvAJalxBncxsutjgx+i80v/BSbH9cYQgDaIFCSFUAdmn4EcuihhyZfAafX4MGDRd/Z6+gjkM2bN8uDDz5YbX/88ccn7/e1/ghE3xG8+OKLkzYqNHv37h3sIxC1gXJFFbpMvgLW9pSCa/wVcFlwIg62T+YxxkEofplb451bbeRP3gs4NjaE7lOKFUAFKT0G5vbbb0+2gfXsvtmzZ8vSpUulf//+cuqppybvCaZiULeLjzrqqOSYFxWJv/71r+Xyyy9vdwyMtp87d64MHDhQ9J3Cxx9/POgxMOnkSDmp4p4l5sIR54E15zwwcAbneskVv4jbL0wEFQKwRCuASqyu/k2bNi05CHrIkCGiX/WqyNNr9OjRMmDAgOTDj/S69957E9GXfvGrYvDEE0+s/nt6ELSeKdj6IGj97SyXTwfitPp4T6uH23i51XkDfovNL/wUmx/XGMqSu7WNz/yd1YbQ7UqzAhgaqHr3x4GKyAo2gQAIgAAIgEDnCJC/S7YCWDSH9ulAPKXG+5QKt/Fy67p6gW/49w0w9o9xyDjIqhN85u+sNoRuxwqgAwO+HIj3VOJ9TwVu4+VWpxL4LTa/8FNsflxjyCSd+8rfJjaEbosAdGDAhwNRr7JCiMnXj2WpcQu38XKbJi7qFxc3dom/uOPPNJX7yN+mNoRujwB0YCBvB6JeZS0ZWc4BLEuNW7iNl9t0u+uIG/4oZfHHrmYz8Rd3/Nmk8bzzt40NofsgAB0YyNuBOK2+PhlFOnHeliPbfooIfeP1C/jteALOM+6JobhjyCaN552/bWwI3QcB6MBA3g5Evcr6ZMRQ4xZu4+VWRwa/xeYXforNj2sM2aTxvPO3jQ2h+yAAHRjI24F4So33KRVu4+WWVbzmrOK54Ez8xR1/Nmk87/xtY0PoPghABwbydiDqVdaSkeUdQGoBV16637uluzw16RjZsVv6+UwFS3wqXp+C3/aTd0exQBzEHQc2aTzv/G1jQ+g+CEAHBnw4EPUqK4SYfAWs7akFTC3gNJSJoXhjSEdmy69tP5d70nd7gvU9p5umch/529SG0O0RgA4M+HIgzqqK96wquI2X2zTZU8e7uHW8ib+4488knfvK3yY2hG6LAHRgwKcDcVp9vKfVw2283Kbbss+u2iD/2rxFevfoLsP2ZbwdTbMhYiHEPfGL5sVB1pTuM39ntSF0OwSgAwM+HYhJKt6kCbfxckuib16it40j235wW3xuTdK5z/xtYkfItghAB/R9ORDbFPFuU8BtvNyyBVyZTPu0sAXcNq0Q983xC5N07it/m9gQui0C0IEBHw5EuaIKISYvDFMKTmTG+MYfgZQFp1RIUVYtzjgIxS9za7xzq00a95G/bewI2QcB6IB+3g5EuaJaMrIcb1KW0ltwGy+36dYgpeC2c1y02CX+4o4/mzSed/62sSF0HwSgAwN5OxCHldYnI8+SUHqHEDiHuGeosXLfjieVGHy5jPwSf/HOrbYpPO/8bWtHyH4IQAf083YgyhXVJ4NScGtk4sIlDT01Bpx0kMRBvHEQil98Km6fajg51mmQd/62sSF0HwSgAwN5OxBPqfE+pcJtvNyWcUWsq9lM/MUdfzZpPO/8bWND6D4IQAcG8nYgyhXVkpHlPSJKwVEKrrXXEEPxxpCOzJZf234u96Rv++Tqa063SeN5528bG0L3QQA6MODDgShXVCHE5CtgbU8puMZfAZcFJ7WTOIg3DkLxi0/F7VOmqdxH/ja1IXR7BKADA74ciDOjmnNmVAicQ9wzTbiUKCvu+XRwVJmIfZ8hSPz5xzikL5ukc1/528SG0G0RgA4M+HQgTquPt1oE3MbLbbrtRym4dA2/8wk2RCyEuCd+0bwqIllTus/8ndWG0O0QgA4M+HQgJql4RQLcxsstib55id42jmz7wW3xuTVJ5z7zt4kdIdsiAB3Q9+VAbFPEu00Bt/FyG3LrC7/K5lfglA2nsvqySTr3lb9NbAjdFgHowIAPB6JcUYUQk49AylLiDG7j5TZNmJSvK27sEn9xx59pKveRv01tCN0eAejAQN4ORLmiWjKyHBlAKbhsx8CUBad0m42yattjIaY4CMUvc2u8c6ttCs87f9vaEbIfAtAB/bwdiMNK65MRQ/ksuI2XWx0Z/BabX/gpNj+uMWSTxvPO3zY2hO6DAHRgIG8HolxRfTJiKHEGt/FyqyOD32LzCz/F5sc1hmzSeN7528aG0H0QgA4M5O1APKXG+5QKt/Fy67p6gW/49w0w9o9xyDiwSeN5528bG0L3QQA6MJC3A1GuqJaMLO8+UQou2zuAZcFJPYA4iDcOQvGLT8XtUzZpPO/8bWND6D4IQAcGfDgQ5YoqhJh8BaztKQVHKbg0lImheGNIR2bLr20/l3vSd3uC9T2nm6ZyH/nb1IbQ7RGADgz4ciDOqor3rCq4jZfbNNlTcq+4JfeIv7jjzySd+8rfJjaEbosAdGDApwNxWn281SLgNl5u0y1OSsFRCq5taiHumxP3WVO6z/yd1YbQ7QovAN966y0577zz5P7770+wOuGEE+SWW26RXr161cVuw4YNctVVV8mjjz4qr7/+uuy5554yduxYueaaa6SlpaXaZ4cd2k9QM2bMkHPOOSczJz4diMmiOZNFCJxD3BNhUo4yVviG/7gHY/8Yh5xvsiZwn/k7qw2h2xVeAB5//PGyevVqmTVrVoLVWWedJQMGDJAHHnigLnYvvvhiIgBPO+00GTx4sLz66quJqPvMZz4j9957b40AnDt3rhx33HHVv1OBuMsuu2TmxJcDsU0R7zYF3MbLLVvAlamzTwtbwG2TCHHfHL/InLxFxFf+NrEhdNtCC8Dly5cnIm7x4sUyfPjwBCv975EjR8qKFStk//33z4TfPffcI+PHj5f//Oc/8qEPfSjpoyuA9913X7I6aHv5cCDKFVXYMHlhmFJwIjPGN/4IpCw4pUKKsmpxxkEofplb451bbXK4j/xtY0fIPoUWgHfccYdceOGFsnHjxhqMdPt3+vTpMmHChEzYzZkzRy699FL597//XbMC2LdvX9myZYvsu+++cvrppyeri926devwN7du3Sr6J73Ugfr16yebNm2Snj17ZrKls0aUK6pFJ8sxMGUpcQa38XKrI4PfYvMLP8XmxzWGbJIvAlCk0AJw6tSpMm/ePHnppZdq+B00aFAi/lTUNbrWr18vQ4cOlVNOOUWuvfbaanP972OPPTbZ8v3DH/4gV155ZfJ7l19+eYc/OXnyZJkyZUq7f89LAHJYaX3oKQW3Xk6evbiRq0sMOOkgiYN44yAUv/hU3D7VcHKs0wABGEgAdiSkWnP03HPPJR9yzJ8/X1auXFlD38CBA5MVu0suuaRT3pXgL3zhC7L77rsnH5F8+MMf7rD9D37wA7n66quT1byOLt8rgJQrqo88peDWyMSFSxrOcTHgpIMkDuKNg1D84lNx+1TDyREBWBeiICuAb775puifzi790OOuu+6y3gLevHmzfPGLX5Rdd91VfvOb30j37t07vd+iRYvkiCOOkDfeeEP22muvTP6U9xMET6nxPqXCbbzchlrV4r4dT9NtV8OJv7jjL1PCbtMo7/xtY0PoPkEEYNZBpx+BPPPMMzJs2LCkm/73iBEjOv0IRIlV8bfzzjvLgw8+mIjARtett94q3/3ud5P3DbVflitvB6JcUS3qWd4BLEuJM7iNl1sdGfwWm1/4KTY/rjGUJV+3bZN3/raxIXSfQgtABUePgVm7dq3MnDkzwUo/1Ojfv3/1GJg1a9Yk7/LdeeediUjUlb/Pf/7z8s477yRf+X7kIx+pYvyxj31Mdtxxx6SvrvTp18T6DuBjjz0mF110UXJ0zM0335yZEx8ORLmiCvwmXwFre0rBNf4KuCw4qZ3EQbxxEIpffCpun8qcuP/X0Ef+NrUhdPvCC0A92LntQdC6WpceBP3KK68kX/GqiBs9erQ8/vjjcvTRR9fFddWqVckZgg8//HDywcfLL78sH3zwgXzyk5+UM844Q84999zqMTFZiPHlQJwZ1Zwzo0LgHOKeacKlRFlxz6eDo8qM6/sMQeLPP8YhfTlL3k7b+MrfJjaEblt4ARgaoM7u79OBOK0+3tPq4TZebnW+gN9i8ws/xebHNYayagaf+TurDaHbIQAdGPDpQExS8U5ScBsvt67JC9/w7xtg7B/jkHGQNaX7zN9ZbQjdDgHowIAvB2KbIt5tCriNl9uQW1/4VTa/AqdsOJXVl03Sua/8bWJD6LYIQAcGfDgQ5YoqhJh8BFKWEmdwGy+3acKkfF1xY5f4izv+TFO5j/xtakPo9ghABwbydiDKFdWSkeUYGErBVRLu3i3d5alJx8iO3VLpXMESn4rXp+C3/eTdUSwQB3HHgU0azzt/29gQug8C0IGBvB2Iw0rrkxFDiTO4jZdbHRn8Fptf+Ck2P64xZJPG887fNjaE7oMAdGAgbweiXFF9MmIocQa38XKrI4PfYvMLP8XmxzWGbNJ43vnbxobQfRCADgzk7UA8pcb7lAq38XLrunqBb/j3DTD2j3HIOLBJ43nnbxsbQvdBADowkLcDUa6olows77ZRCi7bO4BlwUk9gDiINw5C8YtPxe1TNmk87/xtY0PoPghABwZ8OBDliiqEmHwFrO0pBUcpuDSUiaF4Y0hHZsuvbT+Xe9J3e4L1PaebpnIf+dvUhtDtEYAODPhyIM6qivesKriNl9s02VNyr7gl94i/uOPPJJ37yt8mNoRuiwB0YMCnA3Fafbyn1cNtvNymW5zPrtog/9q8RXr36C7D9mW8HU2zIWIhxD3xi+bFQdaU7jN/Z7UhdDsEoAMDPh2ISSrepAm38XJLom9eoreNI9t+cFt8bk3Suc/8bWJHyLYIQAf0fTkQ2xTxblPAbbzcsgVcmUz7tLAF3DatEPfN8QuTdO4rf5vYELotAtCBAR8ORLmiCiEmLwxTCk5kxvjGH4GUBadUSFFWLc44CMUvc2u8c6tNGveRv23sCNkHAeiAft4ORLmiWjKyHANDKbhsx8CUBad0m+2IG/4o2Lw9YVPqr4KF7Rxp28/lnvRtn1x9zek2aTzv/G1jQ+g+CEAHBvJ2IA4rrU8GpeDWy8mzFzf01Bhw0kESB/HGQSh+8am4farh5FinQd7528aG0H0QgA4M5O1AlCuqTwal4NbIxIVLGnpqDDjpIImDeOMgFL/4VNw+1XByRADWhQgBaOM5/+uTtwDkKTXep1S4jZfbUKta3LfjybvtajjxF3f82aTx6sE75QAAIABJREFUvPO3jQ2h+yAAHRjI24EoV1RLRpb3RcpS4gxu4+VWRwa/xeYXforNj2sM2aTxvPO3jQ2h+yAAHRjw4UCUK6oQYvIVsLanFFzjr4DLgpPaSRzEGweh+MWn4vYp01TuI3+b2hC6PQLQgQFfDsSZUc05MyoEziHumSZcSpQV93w6OKpMxL7PECT+/GMc0pdN0rmv/G1iQ+i2CEAHBnw6EKfVx1stAm7j5TbdyqIUXLqG3/kEGyIWQtwTv2heFZGsKd1n/s5qQ+h2CEAHBnw6EJNUvCIBbuPllkTfvERvG0e2/eC2+NyapHOf+dvEjpBtEYAO6PtyILYp4t2mgNt4uQ259YVfZfMrcMqGU1l92SSd+8rfJjaEbosAdGDAhwNRrqhCiMlHIGUpcQa38XKbJkzK1xU3dom/uOPPNJX7yN+mNoRujwB0YCBvB6JcUS0ZWY6BKUu5MLiNl9t0a5Dydds5LlrsEn9xx59NGs87f9vYELoPAtCBgbwdiMNK65MRQ4kzuI2XWx0Z/BabX/gpNj+uMWSTxvPO3zY2hO6DAHRgIG8HolxRfTJiKHEGt/FyqyOD32LzCz/F5sc1hmzSeN7528aG0H0QgA4M5O1APKXG+5QKt/Fy67p6gW/49w0w9o9xyDiwSeN5528bG0L3QQA6MJC3A1GuqJaMLO8RUQqu8tL93i3d5alJx8iO3WrPX8On4vUpHRn8ZuMXnLLhVFafsknjeedvGxtC90EAOjDgw4EoV1QhxOQrYG1PKThKwaWhTAzFG0M6Mlt+bfu53JO+2xOs7zndNJX7yN+mNoRujwB0YMCXA3FWVbxnVcFtvNymyZ6Se8UtuUf8xR1/JuncV/42sSF028ILwLfeekvOO+88uf/++xOsTjjhBLnlllukV69eHWI3evRoeeKJJ2r+/etf/7osXLiw+nc2v9v2hj4diNPq460WAbfxcptuoVEKjlJwbfMFcd+cuM8qqnzm76w2hG5XeAF4/PHHy+rVq2XWrFkJVmeddZYMGDBAHnjggU4F4KBBg+Tqq6+uttlll12kpaWl+v9tfhcB2Lm7MsFlm+DAKRtOiKlylN4qmz+XzV7iwCwOsooqBKBIoQXg8uXLZfDgwbJ48WIZPnx4wqv+98iRI2XFihWy//771+VaVwAPPvhguemmm+r+u+3vNksAsk0R7zYF3MbLLVvAlRmyTwtbwG1zBXHfHL/IKv60HQKw4ALwjjvukAsvvFA2btxYw6tu/06fPl0mTJjQoQBcunSpbNu2Tfbaay/R1b6rrrpKevTokbS3/d1mCEDKFVVQNnlhmFJwIjPGN/4IpCw4pUKKsmpxxkEofplb451bTYRf2hYBWHABOHXqVJk3b5689NJLNfzq9q6Kv0svvbQu77Nnz5Z9991X9t57b3nxxReTdp/61Kfkd7/7XdLe9ne3bt0q+qe1A/Xr1082bdokPXv2tPHBmj6UK6qFMMvxJpSCy3YMTFlwUg8gDuKNg1D84lNx+5RN8kUABhKAkydPlilTpnTK2XPPPSePPvqozJ8/X1auXFnTduDAgXL66afLJZdckon3559/Xg477DDR/x06dGgiAG1+tyO78xKAHFZan05Kwa2Xk2cvbujrMeCkgyQO4o2DUPziU3H7VMPJsU4DBGAgAfjmm2+K/uns0g897rrrLqst4La/q1vBO++8syxYsED0a2DbLWDfK4CUK6rvEZSCWyMTFy5pOMfFgJMOkjiINw5C8YtPxe1TDSdHBGBdiErxEcgzzzwjw4YNSwag/z1ixIhOPwJpO1LdBj7ooIOSo2GOOuooST8Ccf3dvJ8geEqN9ykVbuPlNtSqFvftOO23XQ0n/uKOPwSgDQKBVgBNTNUPONauXSszZ85MuukxMP37968eA7NmzRo59thj5c4770xE4t///nf56U9/Kl/60pdkzz33lGXLlslFF10kegyMbivvuOOOye80+t0sNuYtAClXVIt6lncAKQWX7R3AsuCkHkAcxBsHofjFp+L2qSz5um2bvPO3jQ2h+xR6BVDB2bBhQ7uDoG+99dbqQdCvvPJK8sHHY489Jnr8y+uvvy7jx49PPv54++23RT/S+PKXv5x8BbzHHntU8W70u1mI8eFAlCuqIG/yFbC2pxRc46+Ay4KT2kkcxBsHofjFp+L2qSw5u3UbH/nb1IbQ7QsvAEMD1Nn9fTkQZ0Y158yoEDiHuGeacClRVtzz6eCoMtP6PkOQ+POPcUhfNtELvvK3iQ2h2yIAHRjw6UCcVh9vtQi4jZdbnU7gt9j8wk+x+XGNoawp3Wf+zmpD6HYIQAcGfDoQk1S8kxTcxsuta/LCN/z7Bhj7xzhkHGRN6T7zd1YbQrdDADow4MuB2KaId5sCbuPlNuTWF36Vza/AKRtOZfVlk3TuK3+b2BC6LQLQgQEfDkS5ogohJh+BlKXEGdzGy22aMClfV9zYJf7ijj/TVO4jf5vaELo9AtCBgbwdiHJFtWRkOQamLCXO4DZebtPtriNu+KOUxR+7ms3EX9zxZ5PG887fNjaE7oMAdGAgbwfisNL6ZMRQ4gxu4+VWRwa/xeYXforNj2sM2aTxvPO3jQ2h+yAAHRjI24EoV1SfjBhKnMFtvNzqyOC32PzCT7H5cY0hmzSed/62sSF0HwSgAwN5OxBPqfE+pcJtvNy6rl7gG/59A4z9YxwyDmzSeN7528aG0H0QgA4M5O1AlCuqJSPLO4BlKXEGt/FyqyOD32LzCz/F5sc1hmzSeN7528aG0H0QgA4M+HAgyhVVCDH5CljbUwqOUnBpKBND8caQjsyWX9t+Lvek7/YE63tON03lPvK3qQ2h2yMAHRjw5UCcVRXvWVVwGy+3abKn5F5xS+4Rf3HHn0k695W/TWwI3RYB6MCATwfitPp4T6uH23i5Tbeynl21Qf61eYv07tFdhu3LeDuaZkPEQoh74hfNi4OsKd1n/s5qQ+h2CEAHBnw6EJNUvEkTbuPllkTfvERvG0e2/eC2+NyapHOf+dvEjpBtEYAO6PtyILYp4t2mgNt4uWULuDKZ9mlhC7htWiHum+MXJuncV/42sSF0WwSgAwM+HIhyRRVCTF4YphScyIzxjT8CKQtOqZCirFqccRCKX+bWeOdWmzTuI3/b2BGyDwLQAf28HYhyRbVkZDkGpiylt+A2Xm7TrUFKwW3nuGixS/zFHX82aTzv/G1jQ+g+CEAHBvJ2IA4rrU8GpeDWy8mzFzf01Bhw0kESB/HGQSh+8am4farh5FinQd7528aG0H0QgA4M5O1AlCuqTwal4NbIxIVLGnpqDDjpIImDeOMgFL/4VNw+1XByRADWhQgBaOM5/+uTtwDkKTXep1S4jZfbUKta3LfjybvtajjxF3f82aTxvPO3jQ2h+yAAHRjI24EoV1RLRpb3iCgFV/lQYO+W7vLUpGNkx27p5zMVLPGpeH0KfttP3h3FAnEQdxzYpPG887eNDaH7IAAdGPDhQJQrqhBi8hWwtqcUXOOvgMuCk9pJHMQbB6H4xafi9inTVO4jf5vaELo9AtCBAV8OxJlRzTkzKgTOIe6ZJlxKlBX3fDo4qkzEvs8QJP78YxzSl03Sua/8bWJD6LYIQAcGfDoQp9XHWy0CbuPlNt2WpRRc7asIHU2zIWIhxD3xi+ZVEcma0n3m76w2hG6HAHRgAAdyAI+uIAACIAACIBAIAfK3CALQwfl8OhBPqfGuEsFtvNyy0tO8lR7bOLLtB7fF59YknfvM3yZ2hGyLAHRA35cD8Z5KvO+pwG283IZ89wm/yuZX4JQNp7L6skk695W/TWwI3RYB6MCADweiXmWFEJOvgMtS4xZu4+U2TZjULy5u7BJ/ccefaSr3kb9NbQjdHgHowEDeDkS9yloyspxvRy3gbOcAlgWndJuNurrbYyGmOAjFL3NrvHOrbQrPO3/b2hGyHwLQAf28HYjT6uuTEUONW7iNl1sdGfwWm1/4KTY/rjFkk8bzzt82NoTugwB0YCBvB6JeZX0yYqhxC7fxcqsjg99i8ws/xebHNYZs0nje+dvGhtB9EIAODOTtQDylxvuUCrfxcuu6eoFv+PcNMPaPccg4sEnjeedvGxtC90EAOjCQtwNRr7KWjCzvPlELONs7gGXBST2AOIg3DkLxi0/F7VM2aTzv/G1jQ+g+CEAHBnw4EPUqK4SYfAWs7akFTC3gNJSJoXhjSEdmy69tP5d70nd7gvU9p5umch/529SG0O0LLwDfeustOe+88+T+++9PsDrhhBPklltukV69etXF7pVXXpF999237r/9/Oc/l69+9asVgbFD+1JFM2bMkHPOOSczJ74ciLOq4j2rCm7j5TZN9tRcLm7NZeIv7vjLnLxFxFf+NrEhdNvCC8Djjz9eVq9eLbNmzUqwOuuss2TAgAHywAMP1MXu/fffl3//+981/6Z9p02bJm+88YbstttuVQE4d+5cOe6446ptW1paZJdddsnMiU8H4rT6eKtFwG283OrkAb/F5hd+is2PawxlTeA+83dWG0K3K7QAXL58uQwePFgWL14sw4cPT7DS/x45cqSsWLFC9t9//0z4HXLIITJ06FD5yU9+Um2vK4D33XefjB07NtNv1Gvk04GYpOKdpOA2Xm5dkxe+4d83wNg/xiHjIGtC95m/s9oQul2hBeAdd9whF154oWzcuLEGJ93+nT59ukyYMKEhfs8//7wcdthhsmjRIjn88MNrBGDfvn1ly5YtyZbx6aefnqwuduvWreFvpg18ORDbFPFuU8BtvNyyBVyZGfu0sAXcNokQ983xi8zJmy3gyk7otm3b2lbSMsHQa9upU6fKvHnz5KWXXqq5z6BBgxLxd+mllza8/3e+8x15/PHHZdmyZTVtr732Wjn22GOTLd8//OEPcuWVVya/d/nll3f4m1u3bhX901oA9uvXTzZt2iQ9e/ZsaEuWBpQrqqBk8sIwpeBEZoxv/BFIWXBKhRRl1eKMg1D8MrfGO7dmya1t2/hawLGxJVSfIAJw8uTJMmXKlE7H/Nxzz8mjjz4q8+fPl5UrV9a0HThwYLJid8kll3T6G++++6706dNHrrjiCrnooos6bfuDH/xArr766kTMdXR1ZHdeApByRbXIZzkGpiwlzuA2Xm51ZPBbbH7hp9j8uMaQjYBCAAZaAXzzzTdF/3R26Yced911l9MW8IIFCxKhuGbNGvnYxz7W6f10i/iII45IPhTZa6+96rb1vQLIYaX1KaIU3Ho5efbihnNcDDjpIImDeOMgFL/4VNw+1XByrNMAARhIAGYlK/0I5JlnnpFhw4Yl3fS/R4wYkekjkNGjR8uee+4p9957b8Nb3nrrrfLd7343ed9w5513btheG+TtQJQrqg87peDWyMSFSxr6ZAw46SCJg3jjIBS/+FTcPtVwckQA1oUoyBawCVl6DMzatWtl5syZSTf9UKN///7VY2B0dU/f5bvzzjurIlHbvfzyy6LvCj744IM1R73ov+kRMrrSp18T6zuAjz32WLJFfNppp8nNN9+c2by8BSBPqfE+pcJtvNyGWtXivh1P1W1Xw4m/uOMvc9Ju1TDv/G1jQ+g+hReAGzZsaHcQtK7WpQdBpwc/q4jTFb/0uuyyy0S3gF999dV2X/Y+/PDDyQcfKhI/+OAD+eQnPylnnHGGnHvuufKhD30oMyd5OxDlimqhz/IOYFlKnMFtvNzqyOC32PzCT7H5cY2hzEkbAVgDVeEFoA2xzeqTtwBUuylXVGHP5CtgbU8puMZfAZcFJ+Jg+wwWYxyE4pe5Nd651Sbn+8jfNnaE7IMAdEDflwNxZlRzzowKgXOIe6YJlxJlxT2fDo4qE7HvMwSJP/8Yh/Rlk3TuK3+b2BC6LQLQgQGfDsRp9fGeVg+38XKbbmU9u2qD/GvzFundo7sM25fxdjTNhoiFEPfEL5oXB1lTus/8ndWG0O0QgA4M+HQgJql4kybcxsstib55id42jmz7wW3xuTVJ5z7zt4kdIdsiAB3Q9+VAbFPEu00Bt/FyG3LrC7/K5lfglA2nsvqySTr3lb9NbAjdFgHowIAPB6JcUYUQk5ffy1LiDG7j5TZNmJSvK27sEn9xx59pKveRv01tCN0eAejAQN4ORLmiWjKyHANDKbhKwt27pbs8NekY2bFbKp0rWOJT8foU/LafvDuKBeIg7jiwSeN5528bG0L3QQA6MJC3A3FYaX0yYihxBrfxcqsjg99i8ws/xebHNYZs0nje+dvGhtB9EIAODOTtQJQrqk9GDCXO4DZebnVk8FtsfuGn2Py4xpBNGs87f9vYELoPAtCBgbwdiKfUeJ9S4TZebl1XL/AN/74Bxv4xDhkHNmk87/xtY0PoPghABwbydiDKFdWSkeXdNkrBZXsHsCw4qQcQB/HGQSh+8am4fcomjeedv21sCN0HAejAgA8HolxRhRCTr4C1PaXgKAWXhjIxFG8M6chs+bXt53JP+m5PsL7ndNNU7iN/m9oQuj0C0IEBXw7EWVXxnlUFt/FymyZ7Su4Vt+Qe8Rd3/Jmkc1/528SG0G0RgA4M+HQgTquPt1oE3MbLbbrFSSm42uOIOppmQ8RCiHviF82rIpI1pfvM31ltCN0OAejAgE8HYpKKVyTAbbzckuibl+ht48i2H9wWn1uTdO4zf5vYEbItAtABfV8OxDZFvNsUcBsvt2wBVybTPi1sAbdNK8R9c/zCJJ37yt8mNoRuiwB0YMCHA1GuqEKIyQvDlIITmTG+8UcgZcEpFVKUVYszDkLxy9wa79xqk8Z95G8bO0L2QQA6oJ+3A1GuqJaMLMfAUAou2zEwZcEp3WY74oY/CjZvT9iU+qtgYTtH2vZzuSd92ydXX3O6TRrPO3/b2BC6DwLQgYG8HYjDSuuTQSm49XLy7MUNPTUGnHSQxEG8cRCKX3wqbp9qODnWaZB3/raxIXQfBKADA3k7EOWK6pNBKbg1MnHhkoaeGgNOOkjiIN44CMUvPhW3TzWcHBGAdSFCANp4zv/65C0AeUqN9ykVbuPlNtSqFvftePJuuxpO/MUdfzZpPO/8bWND6D4IQAcG8nYgyhXVkpHlfZGylDiD23i51ZHBb7H5hZ9i8+MaQzZpPO/8bWND6D4IQAcGfDgQ5YoqhJh8BaztKQXX+CvgsuCkdhIH8cZBKH7xqbh9yjSV+8jfpjaEbo8AdGDAlwNxZlRzzowKgXOIe6YJlxJlxT2fDo4qE7HvMwSJP/8Yh/Rlk3TuK3+b2BC6LQLQgQGfDsRp9fFWi4DbeLlNt7IoBUcpuLaphbhvTtxnTek+83dWG0K3QwA6MODTgZgsmjNZhMA5xD0RJuUoY4Vv+I97MPaPccj5JmtK95m/s9oQuh0C0IEBXw7ENkW82xRwGy+3Ibe+8KtsfgVO2XAqqy+bpHNf+dvEhtBtEYAODPhwIMoVVQgx+QikLCXO4DZebtOESfm64sYu8Rd3/Jmmch/529SG0O0RgA4M5O1AlCuqJSPLMTBlKRcGt/Fym253Ub5uO8dFi13iL+74s0njeedvGxtC90EAOjCQtwNxWGl9MmIocQa38XKrI4PfYvMLP8XmxzWGbNJ43vnbxobQfRCADgzk7UCUK6pPRgwlzuA2Xm51ZPBbbH7hp9j8uMaQTRrPO3/b2BC6DwLQgYG8HYin1HifUuE2Xm5dVy/wDf++Acb+MQ4ZBzZpPO/8bWND6D4IQAcG8nYgyhXVkpHlPSJKwVVeut+7pbs8NekY2bFb7flr+FS8PqUjg99s/IJTNpzK6lM2aTzv/G1jQ+g+CEAHBnw4EOWKKoSYfAWs7SkFRym4NJSJoXhjSEdmy69tP5d70nd7gvU9p5umch/529SG0O0LLwCvu+46+e1vfytLliyRnXbaSTZu3NgQs23btsmUKVNk1qxZ8tZbb8nw4cPlxz/+sRx44IHVvvr35513ntx///3J351wwglyyy23SK9evRr+ftrAlwNxVlW8Z1XBbbzcpsmeknvFLblH/MUdf5mTt4j4yt8mNoRuW3gBeNVVVyWibPXq1fKTn/wkkwC84YYbRIXjvHnzZNCgQXLttdfKk08+KStXrpQePXokmB9//PHJb6pI1Ouss86SAQMGyAMPPJCZE58OxGn18Z5WD7fxcquTB/wWm1/4KTY/rjGUNYH7zN9ZbQjdrvACMAVIxdz555/fUADq6t/HP/7xpO2kSZOS7lu3bpW99tpLVBieffbZsnz5chk8eLAsXrw4WR3US/975MiRsmLFCtl///0z8YIDZYKJRiAAAiAAAiBQKATI3yLRCcB//OMfst9++8kLL7wghxxySNXhxowZk6wkzp8/X+644w658MIL24lJ/ffp06fLhAkT6jqqCkn903oLuF+/frJp0ybp2bNnoZwbY0AABEAABEAABOojgACMUAA+/fTTMmrUKFmzZk2yEpheusX76quvyiOPPCJTp05NtodfeumlGs/Q7WIVf5deemldj5k8eXLybmHbCwHIFAMCIAACIAAC5UEAARhIAHYkpFq7znPPPSeHHXZY9a+ybgGnAnDt2rXSp0+fav8zzzxTXn/9dXn44YcTAagrgfpOYOtr4MCBcvrpp8sll1zCCmB54hhLQQAEQAAEQMAIAQRgIAH45ptviv7p7NIPMrp3724sAH1uAbe1FwcyijcagwAIgAAIgEAhECB/BxKANuxnXQFMPwK54IIL5OKLL05u9d5770nv3r3bfQTyzDPPyLBhw5I2+t8jRozgIxAbcugDAiAAAiAAAiVCAAFYAgH42muvyYYNG5Lz+m688Ub505/+lLjYpz71Kdltt92S//70pz8t119/vYwbNy75//q1r/7/uXPnim7r6pbv448/3u4YGN0mnjlzZtJH3xHs379/YY6BKVEcYSoIgAAIgAAIlAoBBGAJBOBpp52WvK/X9nrsscdk9OjRyV/vsMMOidjTtnqlB0GruGt9EPSQIUOqP6Oisu1B0LfeemshDoIuVRRhLAiAAAiAAAiUDAEEYAkEYJF9CgcqMjvYBgIgAAIgAAL1ESB/IwCdYgMHcoKPziAAAiAAAiAQBAHyNwLQyfFwICf46AwCIAACIAACQRAgfyMAnRxPD4DW6iF6viCVQJygpDMIgAAIgAAINA0BFYBayWvjxo3S0tLStPsW6UalKQVXJNBSW1avXp04EBcIgAAIgAAIgED5ENAFnE984hPlMzwHixGADiB+8MEHokfJ9OjRI/kSOcuVPnV0hVXDrjLWrjJO9W/GmiXKy9cGXsvHWSOL4bRzhPS0kM2bNyclY7t169YIzij/HQHYZFq70nsHXWWsXWWcqQDU7ZKuUP8aXps8OTbpdl2F164yzq42L+UZJgjAPNHM8FsEZQaQStYETktGWEZz4TUjUCVr1lV47SrjRADaByAC0B47q54EpRVshe4Ep4Wmx9o4eLWGrtAduwqvXWWcCED7cEMA2mNn1XPr1q1JmbpLL71Udt55Z6vfKEunrjLWrjJO9TvGWpboM7MTXs3wKkNrOC0DS2FtRACGxZ+7gwAIgAAIgAAIgEDTEUAANh1ybggCIAACIAACIAACYRFAAIbFn7uDAAiAAAiAAAiAQNMRQAA2HXJuCAIgAAIgAAIgAAJhEUAAhsWfu4MACIAACIAACIBA0xFAAOYM+XXXXSe//e1vZcmSJbLTTjsldQYbXXoi+ZQpU2TWrFny1ltvyfDhw+XHP/6xHHjggdWu+vfnnXee3H///cnfnXDCCXLLLbcktYhDXaY2vfLKK7LvvvvWNffnP/+5fPWrX03+rV5VlRkzZsg555wTaqgJL6b4jx49Wp544okam7/+9a/LwoULo+J1w4YNctVVV8mjjz6a1MXec889ZezYsXLNNdfU1NgsAq+33Xab3HjjjbJu3bokvm666SY58sgjO/SrX/ziF3LFFVfI3//+d9lvv/1E43vcuHHV9lliN4TTmoxz9uzZcuedd8qLL76YmHrooYfK1KlTZdiwYVXTTzvtNJk/f37NUHSeWrx4cYjh1dzTZKzz5s2TCRMmtLP53Xffle7du1f/3uQ3mwmAiV315h+19Utf+lKSo/QqIq9PPvlkEqPPP/98Eqf33XdfMp90duk8e+GFF8rSpUuTyh4XX3xxu3xhgl0zOQ15LwRgzuhrIlRRpnWCf/KTn2QSgDfccEOSWHRyGjRokFx77bWiQbBy5cqkzJxexx9/fPKbKhL1Ouuss2TAgAHywAMP5DyC7D9natP7778v//73v2tuoOOZNm2avPHGG7LbbrtVBeDcuXPluOOOq7bV6hO77LJLduNybmk6Vr29TsDK59VXX121RsfQuvC4ze/mPLR2P2dqkwoH9XtNJoMHD5ZXX301mXw/85nPyL333lv9fRWAIXm9++675ZRTThFNBKNGjZKZM2fKnDlzZNmyZbLPPvu0w+HPf/5zIg5VyKro00R05ZVXylNPPZU8pOmVJXZ989X2903H+c1vfjPB4/DDD09EkMbjL3/5yySZ9u3btyoU/vnPfyb8pZc+4O6xxx7NHl7N/UzHqnPsxIkTk7m19bX33ntX/6/pbzYLAFO79MHsvffeq5q3fv16+exnP5v4vMaqXvq/ReP1oYcekkWLFsnQoUPlpJNOaigAV61aJUOGDJEzzzxTzj777KTvd77zHfnZz36W9NfLFLtmcRr6PghATwzoRHP++ec3FIC6gqBPLNp20qRJiTV6ftNee+2VJBd16OXLlyeJVZ+208Sj/z1y5EhZsWKF7L///p5G0fHP5mXTIYcckgS6iuX0UqGQ5amvWYO2HasKwIMPPjhZZap32f6uz3HnZdM999wj48ePl//85z/yoQ99KDE5NK8aO+prupqcXgcccECyuqBnc7a9dLVWD9PVhJRe+lCy++67J8klS+z65Kqj3zYdZ9vf0Qc1HeOtt94qp556alUo6G7Gr34gFDQlAAAKeElEQVT1qxBD6vCepmPNMi+b/mazAHG1S+chfYDRVbWPfOQjhebVJBdo3tSdMZ270ksfQP/617+KPsTp5Ypdszhu9n0QgJ4QzzLR6K3/8Y9/JFtLL7zwgqgYSq8xY8YkK4m67XLHHXcky9ttt5P136dPn153S8PTsKo/m4dNusR/2GGHJU9suvrQOuh15WHLli3JlvHpp5+erHiGKthtO1YVgLqKokJBBb2urOlKWbqqa/u7PrnNyyZdZdDDzluv+KoADMWrroTsuuuuosK09Raurgbp6xptt+oVY10VvOCCC5I/6aXxpolUVzmzxK5Prur9ts042/7O5s2bpXfv3glWX/nKV6pCQcWfrvrpvPO5z30u2bXQdqEum7HqvHzGGWckfqhCVx/QdIU3nXttfrMZ48/DroMOOihZNEh3kdRuXQEsGq+t8czy0HjUUUcl/N18883VrrqA8LWvfU3eeeedZP41jf1mcFqEeyAAPbGQVQA+/fTTyfbLmjVrkpXA9FLBo0nmkUceSd7H0d976aWXaqzV7UV9n0UTbbOvPGzSZfrHH3882YJrfekW+LHHHpts+f7hD39Inlp1jJdffnmzh5ncz3as+m6VCljdXtJtUh3Dpz71Kfnd737n9Ls+QbAda2ubdKtJV9p0u1W5TK+QvK5duzZJ+m0fNnS8+pDVdktQbVaxo3H3jW98ozqGu+66K4k5XaXPErs+uar32zbjbPs75557bjLvqM+m78XpFpq+otG/f3/RLTd9L/K///1v8p5WqIpGNmPVnZOXX35ZVAzp6q6KhgcffDBZLRo4cKDY/GYzOHa169lnn01WwZ555pmadzuLyKupANQ8qEL2sssuq3ZNY1NxUwFoGvvN4LQI90AAZmBh8uTJyUcanV3PPfdcspqVXqYCUB21T58+1f76PoO+UP/www8nAqRektIJS1fHLrnkkgyjyNYk61j1hX8Xm/Slax2vJpKLLrqoU+N+8IMfJO/Rbdq0KdsgMrZq1lhTc9IVT/1fFUgx8qpJ9Qtf+EKyhajbMh/+8Ic7ZMMXr50JI00MugqSXrqKtWDBguRViraXCkD18ZNPPrn6Tz/96U+TmNPV6dZJpqPYzeiKuTVLhYLJOFvfXN//+973vpc8mOk7nB1duo2oYlA/aDrxxBNzs9/kh1zHqvf64IMPkljUVaQf/ehHVQFoi5+J/SZtXceqrxLpmP72t791etsi8NrawCwrgPUWQvRB74gjjki2u5VjFYBF49SEf19tEYAZkH3zzTdF/3R26QcZrb8iyyoAs2wj5bUtl2GoyTizjFVXQly2pTXpaiLVlc+PfexjnZqWBrN+KKJbqXldzRpraq8+iepqiY5d3y+LjVfdOvziF7+YbLf85je/qYmHepz54rXevWy20LraFvD3v//9ZMX297//fc3DbEfxpg+gup2avrucV1xm/R0bTuv9tj5s6wd2+q5nXr+ZdQxZ27nYpdug+oCiD9H6ykOjKzSvpgKQLeBGjHb87whAe+w67ZlVAKYvkut7Rvrpul4a7PpuTduPQFov3+t/jxgxIvhHILY26ftxelxI669EOwJUX0b/7ne/m7wDGWK7Kf0wwnas6bh0S023nvR9M5208vrdPF3Y1iZd+VPxp/zolpqKwEZXs3nVLTA94kS/Ak4v/bhK37ft6CMQFbU6nvTS9zj1HbjWH4F0FruNMPDx76bjVBv02A0Vf7r1q/NKo0u3+XVVRd8nSz8UadTHx7/bjLW1HTr/6nE3Gpf6QKaX62/6GKeLXZqL9KMIfdj+6Ec/2ql5ReE1NTLLCqA+gOhpGK1fJfr2t7+dvNvb+iMQk9j3xWHRfhcBmDMjr732mujn97r9pZPqn/70p+QO+u5XeszJpz/96SThpC+jq9DT/69HLOjTl24N6hZM22NgdBtAj67QS98R1C2Y0MfAdGaTTjj6Lp+eMdb6TDF9B0eX7TWxtj7qRcel49GVPt2m03cAH3vssWSLWN/xaP2Sb860Nfw5TfwmY9Vz43S7UM/cUqGrk5OOQ8ekrwvsuOOOyT0b/W5Dwzw0aGRTW15VJH3+859PXrjWl6/TLwzVNF3d1bEWgdf0KIjbb7+9+jK8vqepH+poLKmQUVGTikHdMlKhrtvEKhJ//etfJ++htj0GplHseqCo0580Hadu++qrGLqqr+8jp5fOV/rn7bffFn1dQo/U0JUkPc9T37fSuU4fGNKPmpo9Tr2f6Vj1VR4VuDrP6kOLbvvqiryuRqdzVKPfDDFOm7GmdupRRurXrc8f1X8rKq9ql+YIvfTjjh/+8Idy9NFHJ0cO6aq8vkutc5DmFb3SY2B0m1tXc1X0qeCtdwxMR7EfitPQ90UA5sxAvYM19RYqZHTVS6/0PLT0LKb0MFkVd60PgtazjdJLRWXbg4h1BSXkQdCNbEoPfm49dh2PJg+ddPUjl7Zf9uo7jxrgOgHouxuf/OQnk20mfTE9PU4kZ8oy/ZzpWPX9TT0GRVf9dELr16+ffPnLX06+Am59dlqj381kXM6NGtnUlld9WNEJut6lk7O+HlEUXnX1TwWPvhuk8aVf9arI00vjU23VFZP00hVqFX3pqxoqBlu/85YldnOmJ9PPmYxTx6yx2PZSX1Xhp+/r6lE5f/nLX5JVeBWByrd+Pat+HfoyGauu1uoZh/qQqedxqsDQMbZ+L1TH09lvhhyvyVjVTv1wUI8J03e29SGt9VVUXjuaT771rW8lsal5U+cgbZdeuqui3KYHQeuqYNvCAUXlNKQ/IQBDos+9QQAEQAAEQAAEQCAAAgjAAKBzSxAAARAAARAAARAIiQACMCT63BsEQAAEQAAEQAAEAiCAAAwAOrcEARAAARAAARAAgZAIIABDos+9QQAEQAAEQAAEQCAAAgjAAKBzSxAAARAAARAAARAIiQACMCT63BsEQAAEQAAEQAAEAiCAAAwAOrcEARAAARAAARAAgZAIIABDos+9QQAEQAAEQAAEQCAAAgjAAKBzSxAAARAAARAAARAIiQACMCT63BsEQAAEQAAEQAAEAiCAAAwAOrcEARAAARAAARAAgZAIIABDos+9QQAEQAAEQAAEQCAAAgjAAKBzSxAAARAAARAAARAIiQACMCT63BsEQAAEQAAEQAAEAiCAAAwAOrcEARAAARAAARAAgZAIIABDos+9QQAEQAAEQAAEQCAAAgjAAKBzSxAAARAAARAAARAIiQACMCT63BsEQAAEQAAEQAAEAiCAAAwAOrcEARAAARAAARAAgZAIIABDos+9QQAEQAAEQAAEQCAAAgjAAKBzSxAAARAAARAAARAIiQACMCT63BsEQAAEQAAEQAAEAiCAAAwAOrcEARAAARAAARAAgZAIIABDos+9QQAEQAAEQAAEQCAAAgjAAKBzSxAAARAAARAAARAIiQACMCT63BsEQAAEQAAEQAAEAiCAAAwAOrcEARAAARAAARAAgZAIIABDos+9QQAEQAAEQAAEQCAAAgjAAKBzSxAAARAAARAAARAIiQACMCT63BsEQAAEQAAEQAAEAiCAAAwAOrcEARAAARAAARAAgZAI/P/gdFUtJzGqBwAAAABJRU5ErkJggg==\" width=\"640\">"
      ],
      "text/plain": [
       "<IPython.core.display.HTML object>"
      ]
     },
     "metadata": {},
     "output_type": "display_data"
    }
   ],
   "source": [
    "plt.figure()\n",
    "plt.scatter(*c.numpy())\n",
    "pass"
   ]
  },
  {
   "cell_type": "code",
   "execution_count": 50,
   "metadata": {},
   "outputs": [],
   "source": [
    "f = nn.Fold((62,62), 1, stride=1)"
   ]
  },
  {
   "cell_type": "code",
   "execution_count": 52,
   "metadata": {},
   "outputs": [
    {
     "data": {
      "text/plain": [
       "(31, 31)"
      ]
     },
     "execution_count": 52,
     "metadata": {},
     "output_type": "execute_result"
    }
   ],
   "source": [
    "k, s = 4, 2\n",
    "h = (H - (k-1) - 1)//s + 1\n",
    "w = (W - (k-1) - 1)//s + 1\n",
    "h,w"
   ]
  },
  {
   "cell_type": "code",
   "execution_count": 158,
   "metadata": {},
   "outputs": [],
   "source": [
    "B,G,K,N = 5, 4, 2, 31*31"
   ]
  },
  {
   "cell_type": "code",
   "execution_count": 159,
   "metadata": {},
   "outputs": [
    {
     "data": {
      "text/plain": [
       "torch.Size([5, 4, 2, 961])"
      ]
     },
     "execution_count": 159,
     "metadata": {},
     "output_type": "execute_result"
    }
   ],
   "source": [
    "x = torch.randn(B,G,K,N)\n",
    "# x = x.cumsum(0)\n",
    "x = F.softmax(x, dim=-1)\n",
    "x.shape"
   ]
  },
  {
   "cell_type": "code",
   "execution_count": 160,
   "metadata": {},
   "outputs": [
    {
     "data": {
      "text/plain": [
       "(31, 31)"
      ]
     },
     "execution_count": 160,
     "metadata": {},
     "output_type": "execute_result"
    }
   ],
   "source": [
    "h, w = util.calc_tiling(x.size(-1))\n",
    "h, w"
   ]
  },
  {
   "cell_type": "code",
   "execution_count": 161,
   "metadata": {},
   "outputs": [],
   "source": [
    "cmap = cm.get_cmap('seismic')"
   ]
  },
  {
   "cell_type": "code",
   "execution_count": 178,
   "metadata": {},
   "outputs": [
    {
     "data": {
      "text/plain": [
       "torch.Size([4, 129, 65])"
      ]
     },
     "execution_count": 178,
     "metadata": {},
     "output_type": "execute_result"
    }
   ],
   "source": [
    "g = x.sum(0) / B\n",
    "g = g.view(G,K,h,w)#.permute(0,2,1,3).contiguous().view(G*h,K*w)\n",
    "g = g.view(G*K,h,w)#*100\n",
    "g = torch.from_numpy(cmap(g.numpy())).permute(0,3,1,2)\n",
    "g = torchvision.utils.make_grid(g, nrow=K, padding=1, pad_value=1,\n",
    "#                                 scale_each=True, normalize=True,\n",
    "                               )#.norm(p=1, dim=0)\n",
    "g.shape"
   ]
  },
  {
   "cell_type": "code",
   "execution_count": 179,
   "metadata": {},
   "outputs": [
    {
     "data": {
      "application/javascript": [
       "/* Put everything inside the global mpl namespace */\n",
       "window.mpl = {};\n",
       "\n",
       "\n",
       "mpl.get_websocket_type = function() {\n",
       "    if (typeof(WebSocket) !== 'undefined') {\n",
       "        return WebSocket;\n",
       "    } else if (typeof(MozWebSocket) !== 'undefined') {\n",
       "        return MozWebSocket;\n",
       "    } else {\n",
       "        alert('Your browser does not have WebSocket support. ' +\n",
       "              'Please try Chrome, Safari or Firefox ≥ 6. ' +\n",
       "              'Firefox 4 and 5 are also supported but you ' +\n",
       "              'have to enable WebSockets in about:config.');\n",
       "    };\n",
       "}\n",
       "\n",
       "mpl.figure = function(figure_id, websocket, ondownload, parent_element) {\n",
       "    this.id = figure_id;\n",
       "\n",
       "    this.ws = websocket;\n",
       "\n",
       "    this.supports_binary = (this.ws.binaryType != undefined);\n",
       "\n",
       "    if (!this.supports_binary) {\n",
       "        var warnings = document.getElementById(\"mpl-warnings\");\n",
       "        if (warnings) {\n",
       "            warnings.style.display = 'block';\n",
       "            warnings.textContent = (\n",
       "                \"This browser does not support binary websocket messages. \" +\n",
       "                    \"Performance may be slow.\");\n",
       "        }\n",
       "    }\n",
       "\n",
       "    this.imageObj = new Image();\n",
       "\n",
       "    this.context = undefined;\n",
       "    this.message = undefined;\n",
       "    this.canvas = undefined;\n",
       "    this.rubberband_canvas = undefined;\n",
       "    this.rubberband_context = undefined;\n",
       "    this.format_dropdown = undefined;\n",
       "\n",
       "    this.image_mode = 'full';\n",
       "\n",
       "    this.root = $('<div/>');\n",
       "    this._root_extra_style(this.root)\n",
       "    this.root.attr('style', 'display: inline-block');\n",
       "\n",
       "    $(parent_element).append(this.root);\n",
       "\n",
       "    this._init_header(this);\n",
       "    this._init_canvas(this);\n",
       "    this._init_toolbar(this);\n",
       "\n",
       "    var fig = this;\n",
       "\n",
       "    this.waiting = false;\n",
       "\n",
       "    this.ws.onopen =  function () {\n",
       "            fig.send_message(\"supports_binary\", {value: fig.supports_binary});\n",
       "            fig.send_message(\"send_image_mode\", {});\n",
       "            if (mpl.ratio != 1) {\n",
       "                fig.send_message(\"set_dpi_ratio\", {'dpi_ratio': mpl.ratio});\n",
       "            }\n",
       "            fig.send_message(\"refresh\", {});\n",
       "        }\n",
       "\n",
       "    this.imageObj.onload = function() {\n",
       "            if (fig.image_mode == 'full') {\n",
       "                // Full images could contain transparency (where diff images\n",
       "                // almost always do), so we need to clear the canvas so that\n",
       "                // there is no ghosting.\n",
       "                fig.context.clearRect(0, 0, fig.canvas.width, fig.canvas.height);\n",
       "            }\n",
       "            fig.context.drawImage(fig.imageObj, 0, 0);\n",
       "        };\n",
       "\n",
       "    this.imageObj.onunload = function() {\n",
       "        fig.ws.close();\n",
       "    }\n",
       "\n",
       "    this.ws.onmessage = this._make_on_message_function(this);\n",
       "\n",
       "    this.ondownload = ondownload;\n",
       "}\n",
       "\n",
       "mpl.figure.prototype._init_header = function() {\n",
       "    var titlebar = $(\n",
       "        '<div class=\"ui-dialog-titlebar ui-widget-header ui-corner-all ' +\n",
       "        'ui-helper-clearfix\"/>');\n",
       "    var titletext = $(\n",
       "        '<div class=\"ui-dialog-title\" style=\"width: 100%; ' +\n",
       "        'text-align: center; padding: 3px;\"/>');\n",
       "    titlebar.append(titletext)\n",
       "    this.root.append(titlebar);\n",
       "    this.header = titletext[0];\n",
       "}\n",
       "\n",
       "\n",
       "\n",
       "mpl.figure.prototype._canvas_extra_style = function(canvas_div) {\n",
       "\n",
       "}\n",
       "\n",
       "\n",
       "mpl.figure.prototype._root_extra_style = function(canvas_div) {\n",
       "\n",
       "}\n",
       "\n",
       "mpl.figure.prototype._init_canvas = function() {\n",
       "    var fig = this;\n",
       "\n",
       "    var canvas_div = $('<div/>');\n",
       "\n",
       "    canvas_div.attr('style', 'position: relative; clear: both; outline: 0');\n",
       "\n",
       "    function canvas_keyboard_event(event) {\n",
       "        return fig.key_event(event, event['data']);\n",
       "    }\n",
       "\n",
       "    canvas_div.keydown('key_press', canvas_keyboard_event);\n",
       "    canvas_div.keyup('key_release', canvas_keyboard_event);\n",
       "    this.canvas_div = canvas_div\n",
       "    this._canvas_extra_style(canvas_div)\n",
       "    this.root.append(canvas_div);\n",
       "\n",
       "    var canvas = $('<canvas/>');\n",
       "    canvas.addClass('mpl-canvas');\n",
       "    canvas.attr('style', \"left: 0; top: 0; z-index: 0; outline: 0\")\n",
       "\n",
       "    this.canvas = canvas[0];\n",
       "    this.context = canvas[0].getContext(\"2d\");\n",
       "\n",
       "    var backingStore = this.context.backingStorePixelRatio ||\n",
       "\tthis.context.webkitBackingStorePixelRatio ||\n",
       "\tthis.context.mozBackingStorePixelRatio ||\n",
       "\tthis.context.msBackingStorePixelRatio ||\n",
       "\tthis.context.oBackingStorePixelRatio ||\n",
       "\tthis.context.backingStorePixelRatio || 1;\n",
       "\n",
       "    mpl.ratio = (window.devicePixelRatio || 1) / backingStore;\n",
       "\n",
       "    var rubberband = $('<canvas/>');\n",
       "    rubberband.attr('style', \"position: absolute; left: 0; top: 0; z-index: 1;\")\n",
       "\n",
       "    var pass_mouse_events = true;\n",
       "\n",
       "    canvas_div.resizable({\n",
       "        start: function(event, ui) {\n",
       "            pass_mouse_events = false;\n",
       "        },\n",
       "        resize: function(event, ui) {\n",
       "            fig.request_resize(ui.size.width, ui.size.height);\n",
       "        },\n",
       "        stop: function(event, ui) {\n",
       "            pass_mouse_events = true;\n",
       "            fig.request_resize(ui.size.width, ui.size.height);\n",
       "        },\n",
       "    });\n",
       "\n",
       "    function mouse_event_fn(event) {\n",
       "        if (pass_mouse_events)\n",
       "            return fig.mouse_event(event, event['data']);\n",
       "    }\n",
       "\n",
       "    rubberband.mousedown('button_press', mouse_event_fn);\n",
       "    rubberband.mouseup('button_release', mouse_event_fn);\n",
       "    // Throttle sequential mouse events to 1 every 20ms.\n",
       "    rubberband.mousemove('motion_notify', mouse_event_fn);\n",
       "\n",
       "    rubberband.mouseenter('figure_enter', mouse_event_fn);\n",
       "    rubberband.mouseleave('figure_leave', mouse_event_fn);\n",
       "\n",
       "    canvas_div.on(\"wheel\", function (event) {\n",
       "        event = event.originalEvent;\n",
       "        event['data'] = 'scroll'\n",
       "        if (event.deltaY < 0) {\n",
       "            event.step = 1;\n",
       "        } else {\n",
       "            event.step = -1;\n",
       "        }\n",
       "        mouse_event_fn(event);\n",
       "    });\n",
       "\n",
       "    canvas_div.append(canvas);\n",
       "    canvas_div.append(rubberband);\n",
       "\n",
       "    this.rubberband = rubberband;\n",
       "    this.rubberband_canvas = rubberband[0];\n",
       "    this.rubberband_context = rubberband[0].getContext(\"2d\");\n",
       "    this.rubberband_context.strokeStyle = \"#000000\";\n",
       "\n",
       "    this._resize_canvas = function(width, height) {\n",
       "        // Keep the size of the canvas, canvas container, and rubber band\n",
       "        // canvas in synch.\n",
       "        canvas_div.css('width', width)\n",
       "        canvas_div.css('height', height)\n",
       "\n",
       "        canvas.attr('width', width * mpl.ratio);\n",
       "        canvas.attr('height', height * mpl.ratio);\n",
       "        canvas.attr('style', 'width: ' + width + 'px; height: ' + height + 'px;');\n",
       "\n",
       "        rubberband.attr('width', width);\n",
       "        rubberband.attr('height', height);\n",
       "    }\n",
       "\n",
       "    // Set the figure to an initial 600x600px, this will subsequently be updated\n",
       "    // upon first draw.\n",
       "    this._resize_canvas(600, 600);\n",
       "\n",
       "    // Disable right mouse context menu.\n",
       "    $(this.rubberband_canvas).bind(\"contextmenu\",function(e){\n",
       "        return false;\n",
       "    });\n",
       "\n",
       "    function set_focus () {\n",
       "        canvas.focus();\n",
       "        canvas_div.focus();\n",
       "    }\n",
       "\n",
       "    window.setTimeout(set_focus, 100);\n",
       "}\n",
       "\n",
       "mpl.figure.prototype._init_toolbar = function() {\n",
       "    var fig = this;\n",
       "\n",
       "    var nav_element = $('<div/>');\n",
       "    nav_element.attr('style', 'width: 100%');\n",
       "    this.root.append(nav_element);\n",
       "\n",
       "    // Define a callback function for later on.\n",
       "    function toolbar_event(event) {\n",
       "        return fig.toolbar_button_onclick(event['data']);\n",
       "    }\n",
       "    function toolbar_mouse_event(event) {\n",
       "        return fig.toolbar_button_onmouseover(event['data']);\n",
       "    }\n",
       "\n",
       "    for(var toolbar_ind in mpl.toolbar_items) {\n",
       "        var name = mpl.toolbar_items[toolbar_ind][0];\n",
       "        var tooltip = mpl.toolbar_items[toolbar_ind][1];\n",
       "        var image = mpl.toolbar_items[toolbar_ind][2];\n",
       "        var method_name = mpl.toolbar_items[toolbar_ind][3];\n",
       "\n",
       "        if (!name) {\n",
       "            // put a spacer in here.\n",
       "            continue;\n",
       "        }\n",
       "        var button = $('<button/>');\n",
       "        button.addClass('ui-button ui-widget ui-state-default ui-corner-all ' +\n",
       "                        'ui-button-icon-only');\n",
       "        button.attr('role', 'button');\n",
       "        button.attr('aria-disabled', 'false');\n",
       "        button.click(method_name, toolbar_event);\n",
       "        button.mouseover(tooltip, toolbar_mouse_event);\n",
       "\n",
       "        var icon_img = $('<span/>');\n",
       "        icon_img.addClass('ui-button-icon-primary ui-icon');\n",
       "        icon_img.addClass(image);\n",
       "        icon_img.addClass('ui-corner-all');\n",
       "\n",
       "        var tooltip_span = $('<span/>');\n",
       "        tooltip_span.addClass('ui-button-text');\n",
       "        tooltip_span.html(tooltip);\n",
       "\n",
       "        button.append(icon_img);\n",
       "        button.append(tooltip_span);\n",
       "\n",
       "        nav_element.append(button);\n",
       "    }\n",
       "\n",
       "    var fmt_picker_span = $('<span/>');\n",
       "\n",
       "    var fmt_picker = $('<select/>');\n",
       "    fmt_picker.addClass('mpl-toolbar-option ui-widget ui-widget-content');\n",
       "    fmt_picker_span.append(fmt_picker);\n",
       "    nav_element.append(fmt_picker_span);\n",
       "    this.format_dropdown = fmt_picker[0];\n",
       "\n",
       "    for (var ind in mpl.extensions) {\n",
       "        var fmt = mpl.extensions[ind];\n",
       "        var option = $(\n",
       "            '<option/>', {selected: fmt === mpl.default_extension}).html(fmt);\n",
       "        fmt_picker.append(option);\n",
       "    }\n",
       "\n",
       "    // Add hover states to the ui-buttons\n",
       "    $( \".ui-button\" ).hover(\n",
       "        function() { $(this).addClass(\"ui-state-hover\");},\n",
       "        function() { $(this).removeClass(\"ui-state-hover\");}\n",
       "    );\n",
       "\n",
       "    var status_bar = $('<span class=\"mpl-message\"/>');\n",
       "    nav_element.append(status_bar);\n",
       "    this.message = status_bar[0];\n",
       "}\n",
       "\n",
       "mpl.figure.prototype.request_resize = function(x_pixels, y_pixels) {\n",
       "    // Request matplotlib to resize the figure. Matplotlib will then trigger a resize in the client,\n",
       "    // which will in turn request a refresh of the image.\n",
       "    this.send_message('resize', {'width': x_pixels, 'height': y_pixels});\n",
       "}\n",
       "\n",
       "mpl.figure.prototype.send_message = function(type, properties) {\n",
       "    properties['type'] = type;\n",
       "    properties['figure_id'] = this.id;\n",
       "    this.ws.send(JSON.stringify(properties));\n",
       "}\n",
       "\n",
       "mpl.figure.prototype.send_draw_message = function() {\n",
       "    if (!this.waiting) {\n",
       "        this.waiting = true;\n",
       "        this.ws.send(JSON.stringify({type: \"draw\", figure_id: this.id}));\n",
       "    }\n",
       "}\n",
       "\n",
       "\n",
       "mpl.figure.prototype.handle_save = function(fig, msg) {\n",
       "    var format_dropdown = fig.format_dropdown;\n",
       "    var format = format_dropdown.options[format_dropdown.selectedIndex].value;\n",
       "    fig.ondownload(fig, format);\n",
       "}\n",
       "\n",
       "\n",
       "mpl.figure.prototype.handle_resize = function(fig, msg) {\n",
       "    var size = msg['size'];\n",
       "    if (size[0] != fig.canvas.width || size[1] != fig.canvas.height) {\n",
       "        fig._resize_canvas(size[0], size[1]);\n",
       "        fig.send_message(\"refresh\", {});\n",
       "    };\n",
       "}\n",
       "\n",
       "mpl.figure.prototype.handle_rubberband = function(fig, msg) {\n",
       "    var x0 = msg['x0'] / mpl.ratio;\n",
       "    var y0 = (fig.canvas.height - msg['y0']) / mpl.ratio;\n",
       "    var x1 = msg['x1'] / mpl.ratio;\n",
       "    var y1 = (fig.canvas.height - msg['y1']) / mpl.ratio;\n",
       "    x0 = Math.floor(x0) + 0.5;\n",
       "    y0 = Math.floor(y0) + 0.5;\n",
       "    x1 = Math.floor(x1) + 0.5;\n",
       "    y1 = Math.floor(y1) + 0.5;\n",
       "    var min_x = Math.min(x0, x1);\n",
       "    var min_y = Math.min(y0, y1);\n",
       "    var width = Math.abs(x1 - x0);\n",
       "    var height = Math.abs(y1 - y0);\n",
       "\n",
       "    fig.rubberband_context.clearRect(\n",
       "        0, 0, fig.canvas.width / mpl.ratio, fig.canvas.height / mpl.ratio);\n",
       "\n",
       "    fig.rubberband_context.strokeRect(min_x, min_y, width, height);\n",
       "}\n",
       "\n",
       "mpl.figure.prototype.handle_figure_label = function(fig, msg) {\n",
       "    // Updates the figure title.\n",
       "    fig.header.textContent = msg['label'];\n",
       "}\n",
       "\n",
       "mpl.figure.prototype.handle_cursor = function(fig, msg) {\n",
       "    var cursor = msg['cursor'];\n",
       "    switch(cursor)\n",
       "    {\n",
       "    case 0:\n",
       "        cursor = 'pointer';\n",
       "        break;\n",
       "    case 1:\n",
       "        cursor = 'default';\n",
       "        break;\n",
       "    case 2:\n",
       "        cursor = 'crosshair';\n",
       "        break;\n",
       "    case 3:\n",
       "        cursor = 'move';\n",
       "        break;\n",
       "    }\n",
       "    fig.rubberband_canvas.style.cursor = cursor;\n",
       "}\n",
       "\n",
       "mpl.figure.prototype.handle_message = function(fig, msg) {\n",
       "    fig.message.textContent = msg['message'];\n",
       "}\n",
       "\n",
       "mpl.figure.prototype.handle_draw = function(fig, msg) {\n",
       "    // Request the server to send over a new figure.\n",
       "    fig.send_draw_message();\n",
       "}\n",
       "\n",
       "mpl.figure.prototype.handle_image_mode = function(fig, msg) {\n",
       "    fig.image_mode = msg['mode'];\n",
       "}\n",
       "\n",
       "mpl.figure.prototype.updated_canvas_event = function() {\n",
       "    // Called whenever the canvas gets updated.\n",
       "    this.send_message(\"ack\", {});\n",
       "}\n",
       "\n",
       "// A function to construct a web socket function for onmessage handling.\n",
       "// Called in the figure constructor.\n",
       "mpl.figure.prototype._make_on_message_function = function(fig) {\n",
       "    return function socket_on_message(evt) {\n",
       "        if (evt.data instanceof Blob) {\n",
       "            /* FIXME: We get \"Resource interpreted as Image but\n",
       "             * transferred with MIME type text/plain:\" errors on\n",
       "             * Chrome.  But how to set the MIME type?  It doesn't seem\n",
       "             * to be part of the websocket stream */\n",
       "            evt.data.type = \"image/png\";\n",
       "\n",
       "            /* Free the memory for the previous frames */\n",
       "            if (fig.imageObj.src) {\n",
       "                (window.URL || window.webkitURL).revokeObjectURL(\n",
       "                    fig.imageObj.src);\n",
       "            }\n",
       "\n",
       "            fig.imageObj.src = (window.URL || window.webkitURL).createObjectURL(\n",
       "                evt.data);\n",
       "            fig.updated_canvas_event();\n",
       "            fig.waiting = false;\n",
       "            return;\n",
       "        }\n",
       "        else if (typeof evt.data === 'string' && evt.data.slice(0, 21) == \"data:image/png;base64\") {\n",
       "            fig.imageObj.src = evt.data;\n",
       "            fig.updated_canvas_event();\n",
       "            fig.waiting = false;\n",
       "            return;\n",
       "        }\n",
       "\n",
       "        var msg = JSON.parse(evt.data);\n",
       "        var msg_type = msg['type'];\n",
       "\n",
       "        // Call the  \"handle_{type}\" callback, which takes\n",
       "        // the figure and JSON message as its only arguments.\n",
       "        try {\n",
       "            var callback = fig[\"handle_\" + msg_type];\n",
       "        } catch (e) {\n",
       "            console.log(\"No handler for the '\" + msg_type + \"' message type: \", msg);\n",
       "            return;\n",
       "        }\n",
       "\n",
       "        if (callback) {\n",
       "            try {\n",
       "                // console.log(\"Handling '\" + msg_type + \"' message: \", msg);\n",
       "                callback(fig, msg);\n",
       "            } catch (e) {\n",
       "                console.log(\"Exception inside the 'handler_\" + msg_type + \"' callback:\", e, e.stack, msg);\n",
       "            }\n",
       "        }\n",
       "    };\n",
       "}\n",
       "\n",
       "// from http://stackoverflow.com/questions/1114465/getting-mouse-location-in-canvas\n",
       "mpl.findpos = function(e) {\n",
       "    //this section is from http://www.quirksmode.org/js/events_properties.html\n",
       "    var targ;\n",
       "    if (!e)\n",
       "        e = window.event;\n",
       "    if (e.target)\n",
       "        targ = e.target;\n",
       "    else if (e.srcElement)\n",
       "        targ = e.srcElement;\n",
       "    if (targ.nodeType == 3) // defeat Safari bug\n",
       "        targ = targ.parentNode;\n",
       "\n",
       "    // jQuery normalizes the pageX and pageY\n",
       "    // pageX,Y are the mouse positions relative to the document\n",
       "    // offset() returns the position of the element relative to the document\n",
       "    var x = e.pageX - $(targ).offset().left;\n",
       "    var y = e.pageY - $(targ).offset().top;\n",
       "\n",
       "    return {\"x\": x, \"y\": y};\n",
       "};\n",
       "\n",
       "/*\n",
       " * return a copy of an object with only non-object keys\n",
       " * we need this to avoid circular references\n",
       " * http://stackoverflow.com/a/24161582/3208463\n",
       " */\n",
       "function simpleKeys (original) {\n",
       "  return Object.keys(original).reduce(function (obj, key) {\n",
       "    if (typeof original[key] !== 'object')\n",
       "        obj[key] = original[key]\n",
       "    return obj;\n",
       "  }, {});\n",
       "}\n",
       "\n",
       "mpl.figure.prototype.mouse_event = function(event, name) {\n",
       "    var canvas_pos = mpl.findpos(event)\n",
       "\n",
       "    if (name === 'button_press')\n",
       "    {\n",
       "        this.canvas.focus();\n",
       "        this.canvas_div.focus();\n",
       "    }\n",
       "\n",
       "    var x = canvas_pos.x * mpl.ratio;\n",
       "    var y = canvas_pos.y * mpl.ratio;\n",
       "\n",
       "    this.send_message(name, {x: x, y: y, button: event.button,\n",
       "                             step: event.step,\n",
       "                             guiEvent: simpleKeys(event)});\n",
       "\n",
       "    /* This prevents the web browser from automatically changing to\n",
       "     * the text insertion cursor when the button is pressed.  We want\n",
       "     * to control all of the cursor setting manually through the\n",
       "     * 'cursor' event from matplotlib */\n",
       "    event.preventDefault();\n",
       "    return false;\n",
       "}\n",
       "\n",
       "mpl.figure.prototype._key_event_extra = function(event, name) {\n",
       "    // Handle any extra behaviour associated with a key event\n",
       "}\n",
       "\n",
       "mpl.figure.prototype.key_event = function(event, name) {\n",
       "\n",
       "    // Prevent repeat events\n",
       "    if (name == 'key_press')\n",
       "    {\n",
       "        if (event.which === this._key)\n",
       "            return;\n",
       "        else\n",
       "            this._key = event.which;\n",
       "    }\n",
       "    if (name == 'key_release')\n",
       "        this._key = null;\n",
       "\n",
       "    var value = '';\n",
       "    if (event.ctrlKey && event.which != 17)\n",
       "        value += \"ctrl+\";\n",
       "    if (event.altKey && event.which != 18)\n",
       "        value += \"alt+\";\n",
       "    if (event.shiftKey && event.which != 16)\n",
       "        value += \"shift+\";\n",
       "\n",
       "    value += 'k';\n",
       "    value += event.which.toString();\n",
       "\n",
       "    this._key_event_extra(event, name);\n",
       "\n",
       "    this.send_message(name, {key: value,\n",
       "                             guiEvent: simpleKeys(event)});\n",
       "    return false;\n",
       "}\n",
       "\n",
       "mpl.figure.prototype.toolbar_button_onclick = function(name) {\n",
       "    if (name == 'download') {\n",
       "        this.handle_save(this, null);\n",
       "    } else {\n",
       "        this.send_message(\"toolbar_button\", {name: name});\n",
       "    }\n",
       "};\n",
       "\n",
       "mpl.figure.prototype.toolbar_button_onmouseover = function(tooltip) {\n",
       "    this.message.textContent = tooltip;\n",
       "};\n",
       "mpl.toolbar_items = [[\"Home\", \"Reset original view\", \"fa fa-home icon-home\", \"home\"], [\"Back\", \"Back to previous view\", \"fa fa-arrow-left icon-arrow-left\", \"back\"], [\"Forward\", \"Forward to next view\", \"fa fa-arrow-right icon-arrow-right\", \"forward\"], [\"\", \"\", \"\", \"\"], [\"Pan\", \"Pan axes with left mouse, zoom with right\", \"fa fa-arrows icon-move\", \"pan\"], [\"Zoom\", \"Zoom to rectangle\", \"fa fa-square-o icon-check-empty\", \"zoom\"], [\"\", \"\", \"\", \"\"], [\"Download\", \"Download plot\", \"fa fa-floppy-o icon-save\", \"download\"]];\n",
       "\n",
       "mpl.extensions = [\"eps\", \"jpeg\", \"pdf\", \"png\", \"ps\", \"raw\", \"svg\", \"tif\"];\n",
       "\n",
       "mpl.default_extension = \"png\";var comm_websocket_adapter = function(comm) {\n",
       "    // Create a \"websocket\"-like object which calls the given IPython comm\n",
       "    // object with the appropriate methods. Currently this is a non binary\n",
       "    // socket, so there is still some room for performance tuning.\n",
       "    var ws = {};\n",
       "\n",
       "    ws.close = function() {\n",
       "        comm.close()\n",
       "    };\n",
       "    ws.send = function(m) {\n",
       "        //console.log('sending', m);\n",
       "        comm.send(m);\n",
       "    };\n",
       "    // Register the callback with on_msg.\n",
       "    comm.on_msg(function(msg) {\n",
       "        //console.log('receiving', msg['content']['data'], msg);\n",
       "        // Pass the mpl event to the overridden (by mpl) onmessage function.\n",
       "        ws.onmessage(msg['content']['data'])\n",
       "    });\n",
       "    return ws;\n",
       "}\n",
       "\n",
       "mpl.mpl_figure_comm = function(comm, msg) {\n",
       "    // This is the function which gets called when the mpl process\n",
       "    // starts-up an IPython Comm through the \"matplotlib\" channel.\n",
       "\n",
       "    var id = msg.content.data.id;\n",
       "    // Get hold of the div created by the display call when the Comm\n",
       "    // socket was opened in Python.\n",
       "    var element = $(\"#\" + id);\n",
       "    var ws_proxy = comm_websocket_adapter(comm)\n",
       "\n",
       "    function ondownload(figure, format) {\n",
       "        window.open(figure.imageObj.src);\n",
       "    }\n",
       "\n",
       "    var fig = new mpl.figure(id, ws_proxy,\n",
       "                           ondownload,\n",
       "                           element.get(0));\n",
       "\n",
       "    // Call onopen now - mpl needs it, as it is assuming we've passed it a real\n",
       "    // web socket which is closed, not our websocket->open comm proxy.\n",
       "    ws_proxy.onopen();\n",
       "\n",
       "    fig.parent_element = element.get(0);\n",
       "    fig.cell_info = mpl.find_output_cell(\"<div id='\" + id + \"'></div>\");\n",
       "    if (!fig.cell_info) {\n",
       "        console.error(\"Failed to find cell for figure\", id, fig);\n",
       "        return;\n",
       "    }\n",
       "\n",
       "    var output_index = fig.cell_info[2]\n",
       "    var cell = fig.cell_info[0];\n",
       "\n",
       "};\n",
       "\n",
       "mpl.figure.prototype.handle_close = function(fig, msg) {\n",
       "    var width = fig.canvas.width/mpl.ratio\n",
       "    fig.root.unbind('remove')\n",
       "\n",
       "    // Update the output cell to use the data from the current canvas.\n",
       "    fig.push_to_output();\n",
       "    var dataURL = fig.canvas.toDataURL();\n",
       "    // Re-enable the keyboard manager in IPython - without this line, in FF,\n",
       "    // the notebook keyboard shortcuts fail.\n",
       "    IPython.keyboard_manager.enable()\n",
       "    $(fig.parent_element).html('<img src=\"' + dataURL + '\" width=\"' + width + '\">');\n",
       "    fig.close_ws(fig, msg);\n",
       "}\n",
       "\n",
       "mpl.figure.prototype.close_ws = function(fig, msg){\n",
       "    fig.send_message('closing', msg);\n",
       "    // fig.ws.close()\n",
       "}\n",
       "\n",
       "mpl.figure.prototype.push_to_output = function(remove_interactive) {\n",
       "    // Turn the data on the canvas into data in the output cell.\n",
       "    var width = this.canvas.width/mpl.ratio\n",
       "    var dataURL = this.canvas.toDataURL();\n",
       "    this.cell_info[1]['text/html'] = '<img src=\"' + dataURL + '\" width=\"' + width + '\">';\n",
       "}\n",
       "\n",
       "mpl.figure.prototype.updated_canvas_event = function() {\n",
       "    // Tell IPython that the notebook contents must change.\n",
       "    IPython.notebook.set_dirty(true);\n",
       "    this.send_message(\"ack\", {});\n",
       "    var fig = this;\n",
       "    // Wait a second, then push the new image to the DOM so\n",
       "    // that it is saved nicely (might be nice to debounce this).\n",
       "    setTimeout(function () { fig.push_to_output() }, 1000);\n",
       "}\n",
       "\n",
       "mpl.figure.prototype._init_toolbar = function() {\n",
       "    var fig = this;\n",
       "\n",
       "    var nav_element = $('<div/>');\n",
       "    nav_element.attr('style', 'width: 100%');\n",
       "    this.root.append(nav_element);\n",
       "\n",
       "    // Define a callback function for later on.\n",
       "    function toolbar_event(event) {\n",
       "        return fig.toolbar_button_onclick(event['data']);\n",
       "    }\n",
       "    function toolbar_mouse_event(event) {\n",
       "        return fig.toolbar_button_onmouseover(event['data']);\n",
       "    }\n",
       "\n",
       "    for(var toolbar_ind in mpl.toolbar_items){\n",
       "        var name = mpl.toolbar_items[toolbar_ind][0];\n",
       "        var tooltip = mpl.toolbar_items[toolbar_ind][1];\n",
       "        var image = mpl.toolbar_items[toolbar_ind][2];\n",
       "        var method_name = mpl.toolbar_items[toolbar_ind][3];\n",
       "\n",
       "        if (!name) { continue; };\n",
       "\n",
       "        var button = $('<button class=\"btn btn-default\" href=\"#\" title=\"' + name + '\"><i class=\"fa ' + image + ' fa-lg\"></i></button>');\n",
       "        button.click(method_name, toolbar_event);\n",
       "        button.mouseover(tooltip, toolbar_mouse_event);\n",
       "        nav_element.append(button);\n",
       "    }\n",
       "\n",
       "    // Add the status bar.\n",
       "    var status_bar = $('<span class=\"mpl-message\" style=\"text-align:right; float: right;\"/>');\n",
       "    nav_element.append(status_bar);\n",
       "    this.message = status_bar[0];\n",
       "\n",
       "    // Add the close button to the window.\n",
       "    var buttongrp = $('<div class=\"btn-group inline pull-right\"></div>');\n",
       "    var button = $('<button class=\"btn btn-mini btn-primary\" href=\"#\" title=\"Stop Interaction\"><i class=\"fa fa-power-off icon-remove icon-large\"></i></button>');\n",
       "    button.click(function (evt) { fig.handle_close(fig, {}); } );\n",
       "    button.mouseover('Stop Interaction', toolbar_mouse_event);\n",
       "    buttongrp.append(button);\n",
       "    var titlebar = this.root.find($('.ui-dialog-titlebar'));\n",
       "    titlebar.prepend(buttongrp);\n",
       "}\n",
       "\n",
       "mpl.figure.prototype._root_extra_style = function(el){\n",
       "    var fig = this\n",
       "    el.on(\"remove\", function(){\n",
       "\tfig.close_ws(fig, {});\n",
       "    });\n",
       "}\n",
       "\n",
       "mpl.figure.prototype._canvas_extra_style = function(el){\n",
       "    // this is important to make the div 'focusable\n",
       "    el.attr('tabindex', 0)\n",
       "    // reach out to IPython and tell the keyboard manager to turn it's self\n",
       "    // off when our div gets focus\n",
       "\n",
       "    // location in version 3\n",
       "    if (IPython.notebook.keyboard_manager) {\n",
       "        IPython.notebook.keyboard_manager.register_events(el);\n",
       "    }\n",
       "    else {\n",
       "        // location in version 2\n",
       "        IPython.keyboard_manager.register_events(el);\n",
       "    }\n",
       "\n",
       "}\n",
       "\n",
       "mpl.figure.prototype._key_event_extra = function(event, name) {\n",
       "    var manager = IPython.notebook.keyboard_manager;\n",
       "    if (!manager)\n",
       "        manager = IPython.keyboard_manager;\n",
       "\n",
       "    // Check for shift+enter\n",
       "    if (event.shiftKey && event.which == 13) {\n",
       "        this.canvas_div.blur();\n",
       "        event.shiftKey = false;\n",
       "        // Send a \"J\" for go to next cell\n",
       "        event.which = 74;\n",
       "        event.keyCode = 74;\n",
       "        manager.command_mode();\n",
       "        manager.handle_keydown(event);\n",
       "    }\n",
       "}\n",
       "\n",
       "mpl.figure.prototype.handle_save = function(fig, msg) {\n",
       "    fig.ondownload(fig, null);\n",
       "}\n",
       "\n",
       "\n",
       "mpl.find_output_cell = function(html_output) {\n",
       "    // Return the cell and output element which can be found *uniquely* in the notebook.\n",
       "    // Note - this is a bit hacky, but it is done because the \"notebook_saving.Notebook\"\n",
       "    // IPython event is triggered only after the cells have been serialised, which for\n",
       "    // our purposes (turning an active figure into a static one), is too late.\n",
       "    var cells = IPython.notebook.get_cells();\n",
       "    var ncells = cells.length;\n",
       "    for (var i=0; i<ncells; i++) {\n",
       "        var cell = cells[i];\n",
       "        if (cell.cell_type === 'code'){\n",
       "            for (var j=0; j<cell.output_area.outputs.length; j++) {\n",
       "                var data = cell.output_area.outputs[j];\n",
       "                if (data.data) {\n",
       "                    // IPython >= 3 moved mimebundle to data attribute of output\n",
       "                    data = data.data;\n",
       "                }\n",
       "                if (data['text/html'] == html_output) {\n",
       "                    return [cell, data, j];\n",
       "                }\n",
       "            }\n",
       "        }\n",
       "    }\n",
       "}\n",
       "\n",
       "// Register the function which deals with the matplotlib target/channel.\n",
       "// The kernel may be null if the page has been refreshed.\n",
       "if (IPython.notebook.kernel != null) {\n",
       "    IPython.notebook.kernel.comm_manager.register_target('matplotlib', mpl.mpl_figure_comm);\n",
       "}\n"
      ],
      "text/plain": [
       "<IPython.core.display.Javascript object>"
      ]
     },
     "metadata": {},
     "output_type": "display_data"
    },
    {
     "data": {
      "text/html": [
       "<img src=\"data:image/png;base64,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\" width=\"640\">"
      ],
      "text/plain": [
       "<IPython.core.display.HTML object>"
      ]
     },
     "metadata": {},
     "output_type": "display_data"
    },
    {
     "data": {
      "text/plain": [
       "<matplotlib.image.AxesImage at 0x7f82691c84d0>"
      ]
     },
     "execution_count": 179,
     "metadata": {},
     "output_type": "execute_result"
    }
   ],
   "source": [
    "plt.figure()\n",
    "plt.imshow(g[:3].permute(1,2,0))\n",
    "# plt.imshow(g)"
   ]
  },
  {
   "cell_type": "code",
   "execution_count": 140,
   "metadata": {},
   "outputs": [],
   "source": [
    "from matplotlib import cm"
   ]
  },
  {
   "cell_type": "code",
   "execution_count": 152,
   "metadata": {},
   "outputs": [
    {
     "data": {
      "text/plain": [
       "(100, 100, 4)"
      ]
     },
     "execution_count": 152,
     "metadata": {},
     "output_type": "execute_result"
    }
   ],
   "source": [
    "x = cm.get_cmap('seismic')(np.random.randn(10000).reshape(100,100))\n",
    "x.shape"
   ]
  },
  {
   "cell_type": "code",
   "execution_count": 153,
   "metadata": {},
   "outputs": [
    {
     "data": {
      "application/javascript": [
       "/* Put everything inside the global mpl namespace */\n",
       "window.mpl = {};\n",
       "\n",
       "\n",
       "mpl.get_websocket_type = function() {\n",
       "    if (typeof(WebSocket) !== 'undefined') {\n",
       "        return WebSocket;\n",
       "    } else if (typeof(MozWebSocket) !== 'undefined') {\n",
       "        return MozWebSocket;\n",
       "    } else {\n",
       "        alert('Your browser does not have WebSocket support. ' +\n",
       "              'Please try Chrome, Safari or Firefox ≥ 6. ' +\n",
       "              'Firefox 4 and 5 are also supported but you ' +\n",
       "              'have to enable WebSockets in about:config.');\n",
       "    };\n",
       "}\n",
       "\n",
       "mpl.figure = function(figure_id, websocket, ondownload, parent_element) {\n",
       "    this.id = figure_id;\n",
       "\n",
       "    this.ws = websocket;\n",
       "\n",
       "    this.supports_binary = (this.ws.binaryType != undefined);\n",
       "\n",
       "    if (!this.supports_binary) {\n",
       "        var warnings = document.getElementById(\"mpl-warnings\");\n",
       "        if (warnings) {\n",
       "            warnings.style.display = 'block';\n",
       "            warnings.textContent = (\n",
       "                \"This browser does not support binary websocket messages. \" +\n",
       "                    \"Performance may be slow.\");\n",
       "        }\n",
       "    }\n",
       "\n",
       "    this.imageObj = new Image();\n",
       "\n",
       "    this.context = undefined;\n",
       "    this.message = undefined;\n",
       "    this.canvas = undefined;\n",
       "    this.rubberband_canvas = undefined;\n",
       "    this.rubberband_context = undefined;\n",
       "    this.format_dropdown = undefined;\n",
       "\n",
       "    this.image_mode = 'full';\n",
       "\n",
       "    this.root = $('<div/>');\n",
       "    this._root_extra_style(this.root)\n",
       "    this.root.attr('style', 'display: inline-block');\n",
       "\n",
       "    $(parent_element).append(this.root);\n",
       "\n",
       "    this._init_header(this);\n",
       "    this._init_canvas(this);\n",
       "    this._init_toolbar(this);\n",
       "\n",
       "    var fig = this;\n",
       "\n",
       "    this.waiting = false;\n",
       "\n",
       "    this.ws.onopen =  function () {\n",
       "            fig.send_message(\"supports_binary\", {value: fig.supports_binary});\n",
       "            fig.send_message(\"send_image_mode\", {});\n",
       "            if (mpl.ratio != 1) {\n",
       "                fig.send_message(\"set_dpi_ratio\", {'dpi_ratio': mpl.ratio});\n",
       "            }\n",
       "            fig.send_message(\"refresh\", {});\n",
       "        }\n",
       "\n",
       "    this.imageObj.onload = function() {\n",
       "            if (fig.image_mode == 'full') {\n",
       "                // Full images could contain transparency (where diff images\n",
       "                // almost always do), so we need to clear the canvas so that\n",
       "                // there is no ghosting.\n",
       "                fig.context.clearRect(0, 0, fig.canvas.width, fig.canvas.height);\n",
       "            }\n",
       "            fig.context.drawImage(fig.imageObj, 0, 0);\n",
       "        };\n",
       "\n",
       "    this.imageObj.onunload = function() {\n",
       "        fig.ws.close();\n",
       "    }\n",
       "\n",
       "    this.ws.onmessage = this._make_on_message_function(this);\n",
       "\n",
       "    this.ondownload = ondownload;\n",
       "}\n",
       "\n",
       "mpl.figure.prototype._init_header = function() {\n",
       "    var titlebar = $(\n",
       "        '<div class=\"ui-dialog-titlebar ui-widget-header ui-corner-all ' +\n",
       "        'ui-helper-clearfix\"/>');\n",
       "    var titletext = $(\n",
       "        '<div class=\"ui-dialog-title\" style=\"width: 100%; ' +\n",
       "        'text-align: center; padding: 3px;\"/>');\n",
       "    titlebar.append(titletext)\n",
       "    this.root.append(titlebar);\n",
       "    this.header = titletext[0];\n",
       "}\n",
       "\n",
       "\n",
       "\n",
       "mpl.figure.prototype._canvas_extra_style = function(canvas_div) {\n",
       "\n",
       "}\n",
       "\n",
       "\n",
       "mpl.figure.prototype._root_extra_style = function(canvas_div) {\n",
       "\n",
       "}\n",
       "\n",
       "mpl.figure.prototype._init_canvas = function() {\n",
       "    var fig = this;\n",
       "\n",
       "    var canvas_div = $('<div/>');\n",
       "\n",
       "    canvas_div.attr('style', 'position: relative; clear: both; outline: 0');\n",
       "\n",
       "    function canvas_keyboard_event(event) {\n",
       "        return fig.key_event(event, event['data']);\n",
       "    }\n",
       "\n",
       "    canvas_div.keydown('key_press', canvas_keyboard_event);\n",
       "    canvas_div.keyup('key_release', canvas_keyboard_event);\n",
       "    this.canvas_div = canvas_div\n",
       "    this._canvas_extra_style(canvas_div)\n",
       "    this.root.append(canvas_div);\n",
       "\n",
       "    var canvas = $('<canvas/>');\n",
       "    canvas.addClass('mpl-canvas');\n",
       "    canvas.attr('style', \"left: 0; top: 0; z-index: 0; outline: 0\")\n",
       "\n",
       "    this.canvas = canvas[0];\n",
       "    this.context = canvas[0].getContext(\"2d\");\n",
       "\n",
       "    var backingStore = this.context.backingStorePixelRatio ||\n",
       "\tthis.context.webkitBackingStorePixelRatio ||\n",
       "\tthis.context.mozBackingStorePixelRatio ||\n",
       "\tthis.context.msBackingStorePixelRatio ||\n",
       "\tthis.context.oBackingStorePixelRatio ||\n",
       "\tthis.context.backingStorePixelRatio || 1;\n",
       "\n",
       "    mpl.ratio = (window.devicePixelRatio || 1) / backingStore;\n",
       "\n",
       "    var rubberband = $('<canvas/>');\n",
       "    rubberband.attr('style', \"position: absolute; left: 0; top: 0; z-index: 1;\")\n",
       "\n",
       "    var pass_mouse_events = true;\n",
       "\n",
       "    canvas_div.resizable({\n",
       "        start: function(event, ui) {\n",
       "            pass_mouse_events = false;\n",
       "        },\n",
       "        resize: function(event, ui) {\n",
       "            fig.request_resize(ui.size.width, ui.size.height);\n",
       "        },\n",
       "        stop: function(event, ui) {\n",
       "            pass_mouse_events = true;\n",
       "            fig.request_resize(ui.size.width, ui.size.height);\n",
       "        },\n",
       "    });\n",
       "\n",
       "    function mouse_event_fn(event) {\n",
       "        if (pass_mouse_events)\n",
       "            return fig.mouse_event(event, event['data']);\n",
       "    }\n",
       "\n",
       "    rubberband.mousedown('button_press', mouse_event_fn);\n",
       "    rubberband.mouseup('button_release', mouse_event_fn);\n",
       "    // Throttle sequential mouse events to 1 every 20ms.\n",
       "    rubberband.mousemove('motion_notify', mouse_event_fn);\n",
       "\n",
       "    rubberband.mouseenter('figure_enter', mouse_event_fn);\n",
       "    rubberband.mouseleave('figure_leave', mouse_event_fn);\n",
       "\n",
       "    canvas_div.on(\"wheel\", function (event) {\n",
       "        event = event.originalEvent;\n",
       "        event['data'] = 'scroll'\n",
       "        if (event.deltaY < 0) {\n",
       "            event.step = 1;\n",
       "        } else {\n",
       "            event.step = -1;\n",
       "        }\n",
       "        mouse_event_fn(event);\n",
       "    });\n",
       "\n",
       "    canvas_div.append(canvas);\n",
       "    canvas_div.append(rubberband);\n",
       "\n",
       "    this.rubberband = rubberband;\n",
       "    this.rubberband_canvas = rubberband[0];\n",
       "    this.rubberband_context = rubberband[0].getContext(\"2d\");\n",
       "    this.rubberband_context.strokeStyle = \"#000000\";\n",
       "\n",
       "    this._resize_canvas = function(width, height) {\n",
       "        // Keep the size of the canvas, canvas container, and rubber band\n",
       "        // canvas in synch.\n",
       "        canvas_div.css('width', width)\n",
       "        canvas_div.css('height', height)\n",
       "\n",
       "        canvas.attr('width', width * mpl.ratio);\n",
       "        canvas.attr('height', height * mpl.ratio);\n",
       "        canvas.attr('style', 'width: ' + width + 'px; height: ' + height + 'px;');\n",
       "\n",
       "        rubberband.attr('width', width);\n",
       "        rubberband.attr('height', height);\n",
       "    }\n",
       "\n",
       "    // Set the figure to an initial 600x600px, this will subsequently be updated\n",
       "    // upon first draw.\n",
       "    this._resize_canvas(600, 600);\n",
       "\n",
       "    // Disable right mouse context menu.\n",
       "    $(this.rubberband_canvas).bind(\"contextmenu\",function(e){\n",
       "        return false;\n",
       "    });\n",
       "\n",
       "    function set_focus () {\n",
       "        canvas.focus();\n",
       "        canvas_div.focus();\n",
       "    }\n",
       "\n",
       "    window.setTimeout(set_focus, 100);\n",
       "}\n",
       "\n",
       "mpl.figure.prototype._init_toolbar = function() {\n",
       "    var fig = this;\n",
       "\n",
       "    var nav_element = $('<div/>');\n",
       "    nav_element.attr('style', 'width: 100%');\n",
       "    this.root.append(nav_element);\n",
       "\n",
       "    // Define a callback function for later on.\n",
       "    function toolbar_event(event) {\n",
       "        return fig.toolbar_button_onclick(event['data']);\n",
       "    }\n",
       "    function toolbar_mouse_event(event) {\n",
       "        return fig.toolbar_button_onmouseover(event['data']);\n",
       "    }\n",
       "\n",
       "    for(var toolbar_ind in mpl.toolbar_items) {\n",
       "        var name = mpl.toolbar_items[toolbar_ind][0];\n",
       "        var tooltip = mpl.toolbar_items[toolbar_ind][1];\n",
       "        var image = mpl.toolbar_items[toolbar_ind][2];\n",
       "        var method_name = mpl.toolbar_items[toolbar_ind][3];\n",
       "\n",
       "        if (!name) {\n",
       "            // put a spacer in here.\n",
       "            continue;\n",
       "        }\n",
       "        var button = $('<button/>');\n",
       "        button.addClass('ui-button ui-widget ui-state-default ui-corner-all ' +\n",
       "                        'ui-button-icon-only');\n",
       "        button.attr('role', 'button');\n",
       "        button.attr('aria-disabled', 'false');\n",
       "        button.click(method_name, toolbar_event);\n",
       "        button.mouseover(tooltip, toolbar_mouse_event);\n",
       "\n",
       "        var icon_img = $('<span/>');\n",
       "        icon_img.addClass('ui-button-icon-primary ui-icon');\n",
       "        icon_img.addClass(image);\n",
       "        icon_img.addClass('ui-corner-all');\n",
       "\n",
       "        var tooltip_span = $('<span/>');\n",
       "        tooltip_span.addClass('ui-button-text');\n",
       "        tooltip_span.html(tooltip);\n",
       "\n",
       "        button.append(icon_img);\n",
       "        button.append(tooltip_span);\n",
       "\n",
       "        nav_element.append(button);\n",
       "    }\n",
       "\n",
       "    var fmt_picker_span = $('<span/>');\n",
       "\n",
       "    var fmt_picker = $('<select/>');\n",
       "    fmt_picker.addClass('mpl-toolbar-option ui-widget ui-widget-content');\n",
       "    fmt_picker_span.append(fmt_picker);\n",
       "    nav_element.append(fmt_picker_span);\n",
       "    this.format_dropdown = fmt_picker[0];\n",
       "\n",
       "    for (var ind in mpl.extensions) {\n",
       "        var fmt = mpl.extensions[ind];\n",
       "        var option = $(\n",
       "            '<option/>', {selected: fmt === mpl.default_extension}).html(fmt);\n",
       "        fmt_picker.append(option);\n",
       "    }\n",
       "\n",
       "    // Add hover states to the ui-buttons\n",
       "    $( \".ui-button\" ).hover(\n",
       "        function() { $(this).addClass(\"ui-state-hover\");},\n",
       "        function() { $(this).removeClass(\"ui-state-hover\");}\n",
       "    );\n",
       "\n",
       "    var status_bar = $('<span class=\"mpl-message\"/>');\n",
       "    nav_element.append(status_bar);\n",
       "    this.message = status_bar[0];\n",
       "}\n",
       "\n",
       "mpl.figure.prototype.request_resize = function(x_pixels, y_pixels) {\n",
       "    // Request matplotlib to resize the figure. Matplotlib will then trigger a resize in the client,\n",
       "    // which will in turn request a refresh of the image.\n",
       "    this.send_message('resize', {'width': x_pixels, 'height': y_pixels});\n",
       "}\n",
       "\n",
       "mpl.figure.prototype.send_message = function(type, properties) {\n",
       "    properties['type'] = type;\n",
       "    properties['figure_id'] = this.id;\n",
       "    this.ws.send(JSON.stringify(properties));\n",
       "}\n",
       "\n",
       "mpl.figure.prototype.send_draw_message = function() {\n",
       "    if (!this.waiting) {\n",
       "        this.waiting = true;\n",
       "        this.ws.send(JSON.stringify({type: \"draw\", figure_id: this.id}));\n",
       "    }\n",
       "}\n",
       "\n",
       "\n",
       "mpl.figure.prototype.handle_save = function(fig, msg) {\n",
       "    var format_dropdown = fig.format_dropdown;\n",
       "    var format = format_dropdown.options[format_dropdown.selectedIndex].value;\n",
       "    fig.ondownload(fig, format);\n",
       "}\n",
       "\n",
       "\n",
       "mpl.figure.prototype.handle_resize = function(fig, msg) {\n",
       "    var size = msg['size'];\n",
       "    if (size[0] != fig.canvas.width || size[1] != fig.canvas.height) {\n",
       "        fig._resize_canvas(size[0], size[1]);\n",
       "        fig.send_message(\"refresh\", {});\n",
       "    };\n",
       "}\n",
       "\n",
       "mpl.figure.prototype.handle_rubberband = function(fig, msg) {\n",
       "    var x0 = msg['x0'] / mpl.ratio;\n",
       "    var y0 = (fig.canvas.height - msg['y0']) / mpl.ratio;\n",
       "    var x1 = msg['x1'] / mpl.ratio;\n",
       "    var y1 = (fig.canvas.height - msg['y1']) / mpl.ratio;\n",
       "    x0 = Math.floor(x0) + 0.5;\n",
       "    y0 = Math.floor(y0) + 0.5;\n",
       "    x1 = Math.floor(x1) + 0.5;\n",
       "    y1 = Math.floor(y1) + 0.5;\n",
       "    var min_x = Math.min(x0, x1);\n",
       "    var min_y = Math.min(y0, y1);\n",
       "    var width = Math.abs(x1 - x0);\n",
       "    var height = Math.abs(y1 - y0);\n",
       "\n",
       "    fig.rubberband_context.clearRect(\n",
       "        0, 0, fig.canvas.width / mpl.ratio, fig.canvas.height / mpl.ratio);\n",
       "\n",
       "    fig.rubberband_context.strokeRect(min_x, min_y, width, height);\n",
       "}\n",
       "\n",
       "mpl.figure.prototype.handle_figure_label = function(fig, msg) {\n",
       "    // Updates the figure title.\n",
       "    fig.header.textContent = msg['label'];\n",
       "}\n",
       "\n",
       "mpl.figure.prototype.handle_cursor = function(fig, msg) {\n",
       "    var cursor = msg['cursor'];\n",
       "    switch(cursor)\n",
       "    {\n",
       "    case 0:\n",
       "        cursor = 'pointer';\n",
       "        break;\n",
       "    case 1:\n",
       "        cursor = 'default';\n",
       "        break;\n",
       "    case 2:\n",
       "        cursor = 'crosshair';\n",
       "        break;\n",
       "    case 3:\n",
       "        cursor = 'move';\n",
       "        break;\n",
       "    }\n",
       "    fig.rubberband_canvas.style.cursor = cursor;\n",
       "}\n",
       "\n",
       "mpl.figure.prototype.handle_message = function(fig, msg) {\n",
       "    fig.message.textContent = msg['message'];\n",
       "}\n",
       "\n",
       "mpl.figure.prototype.handle_draw = function(fig, msg) {\n",
       "    // Request the server to send over a new figure.\n",
       "    fig.send_draw_message();\n",
       "}\n",
       "\n",
       "mpl.figure.prototype.handle_image_mode = function(fig, msg) {\n",
       "    fig.image_mode = msg['mode'];\n",
       "}\n",
       "\n",
       "mpl.figure.prototype.updated_canvas_event = function() {\n",
       "    // Called whenever the canvas gets updated.\n",
       "    this.send_message(\"ack\", {});\n",
       "}\n",
       "\n",
       "// A function to construct a web socket function for onmessage handling.\n",
       "// Called in the figure constructor.\n",
       "mpl.figure.prototype._make_on_message_function = function(fig) {\n",
       "    return function socket_on_message(evt) {\n",
       "        if (evt.data instanceof Blob) {\n",
       "            /* FIXME: We get \"Resource interpreted as Image but\n",
       "             * transferred with MIME type text/plain:\" errors on\n",
       "             * Chrome.  But how to set the MIME type?  It doesn't seem\n",
       "             * to be part of the websocket stream */\n",
       "            evt.data.type = \"image/png\";\n",
       "\n",
       "            /* Free the memory for the previous frames */\n",
       "            if (fig.imageObj.src) {\n",
       "                (window.URL || window.webkitURL).revokeObjectURL(\n",
       "                    fig.imageObj.src);\n",
       "            }\n",
       "\n",
       "            fig.imageObj.src = (window.URL || window.webkitURL).createObjectURL(\n",
       "                evt.data);\n",
       "            fig.updated_canvas_event();\n",
       "            fig.waiting = false;\n",
       "            return;\n",
       "        }\n",
       "        else if (typeof evt.data === 'string' && evt.data.slice(0, 21) == \"data:image/png;base64\") {\n",
       "            fig.imageObj.src = evt.data;\n",
       "            fig.updated_canvas_event();\n",
       "            fig.waiting = false;\n",
       "            return;\n",
       "        }\n",
       "\n",
       "        var msg = JSON.parse(evt.data);\n",
       "        var msg_type = msg['type'];\n",
       "\n",
       "        // Call the  \"handle_{type}\" callback, which takes\n",
       "        // the figure and JSON message as its only arguments.\n",
       "        try {\n",
       "            var callback = fig[\"handle_\" + msg_type];\n",
       "        } catch (e) {\n",
       "            console.log(\"No handler for the '\" + msg_type + \"' message type: \", msg);\n",
       "            return;\n",
       "        }\n",
       "\n",
       "        if (callback) {\n",
       "            try {\n",
       "                // console.log(\"Handling '\" + msg_type + \"' message: \", msg);\n",
       "                callback(fig, msg);\n",
       "            } catch (e) {\n",
       "                console.log(\"Exception inside the 'handler_\" + msg_type + \"' callback:\", e, e.stack, msg);\n",
       "            }\n",
       "        }\n",
       "    };\n",
       "}\n",
       "\n",
       "// from http://stackoverflow.com/questions/1114465/getting-mouse-location-in-canvas\n",
       "mpl.findpos = function(e) {\n",
       "    //this section is from http://www.quirksmode.org/js/events_properties.html\n",
       "    var targ;\n",
       "    if (!e)\n",
       "        e = window.event;\n",
       "    if (e.target)\n",
       "        targ = e.target;\n",
       "    else if (e.srcElement)\n",
       "        targ = e.srcElement;\n",
       "    if (targ.nodeType == 3) // defeat Safari bug\n",
       "        targ = targ.parentNode;\n",
       "\n",
       "    // jQuery normalizes the pageX and pageY\n",
       "    // pageX,Y are the mouse positions relative to the document\n",
       "    // offset() returns the position of the element relative to the document\n",
       "    var x = e.pageX - $(targ).offset().left;\n",
       "    var y = e.pageY - $(targ).offset().top;\n",
       "\n",
       "    return {\"x\": x, \"y\": y};\n",
       "};\n",
       "\n",
       "/*\n",
       " * return a copy of an object with only non-object keys\n",
       " * we need this to avoid circular references\n",
       " * http://stackoverflow.com/a/24161582/3208463\n",
       " */\n",
       "function simpleKeys (original) {\n",
       "  return Object.keys(original).reduce(function (obj, key) {\n",
       "    if (typeof original[key] !== 'object')\n",
       "        obj[key] = original[key]\n",
       "    return obj;\n",
       "  }, {});\n",
       "}\n",
       "\n",
       "mpl.figure.prototype.mouse_event = function(event, name) {\n",
       "    var canvas_pos = mpl.findpos(event)\n",
       "\n",
       "    if (name === 'button_press')\n",
       "    {\n",
       "        this.canvas.focus();\n",
       "        this.canvas_div.focus();\n",
       "    }\n",
       "\n",
       "    var x = canvas_pos.x * mpl.ratio;\n",
       "    var y = canvas_pos.y * mpl.ratio;\n",
       "\n",
       "    this.send_message(name, {x: x, y: y, button: event.button,\n",
       "                             step: event.step,\n",
       "                             guiEvent: simpleKeys(event)});\n",
       "\n",
       "    /* This prevents the web browser from automatically changing to\n",
       "     * the text insertion cursor when the button is pressed.  We want\n",
       "     * to control all of the cursor setting manually through the\n",
       "     * 'cursor' event from matplotlib */\n",
       "    event.preventDefault();\n",
       "    return false;\n",
       "}\n",
       "\n",
       "mpl.figure.prototype._key_event_extra = function(event, name) {\n",
       "    // Handle any extra behaviour associated with a key event\n",
       "}\n",
       "\n",
       "mpl.figure.prototype.key_event = function(event, name) {\n",
       "\n",
       "    // Prevent repeat events\n",
       "    if (name == 'key_press')\n",
       "    {\n",
       "        if (event.which === this._key)\n",
       "            return;\n",
       "        else\n",
       "            this._key = event.which;\n",
       "    }\n",
       "    if (name == 'key_release')\n",
       "        this._key = null;\n",
       "\n",
       "    var value = '';\n",
       "    if (event.ctrlKey && event.which != 17)\n",
       "        value += \"ctrl+\";\n",
       "    if (event.altKey && event.which != 18)\n",
       "        value += \"alt+\";\n",
       "    if (event.shiftKey && event.which != 16)\n",
       "        value += \"shift+\";\n",
       "\n",
       "    value += 'k';\n",
       "    value += event.which.toString();\n",
       "\n",
       "    this._key_event_extra(event, name);\n",
       "\n",
       "    this.send_message(name, {key: value,\n",
       "                             guiEvent: simpleKeys(event)});\n",
       "    return false;\n",
       "}\n",
       "\n",
       "mpl.figure.prototype.toolbar_button_onclick = function(name) {\n",
       "    if (name == 'download') {\n",
       "        this.handle_save(this, null);\n",
       "    } else {\n",
       "        this.send_message(\"toolbar_button\", {name: name});\n",
       "    }\n",
       "};\n",
       "\n",
       "mpl.figure.prototype.toolbar_button_onmouseover = function(tooltip) {\n",
       "    this.message.textContent = tooltip;\n",
       "};\n",
       "mpl.toolbar_items = [[\"Home\", \"Reset original view\", \"fa fa-home icon-home\", \"home\"], [\"Back\", \"Back to previous view\", \"fa fa-arrow-left icon-arrow-left\", \"back\"], [\"Forward\", \"Forward to next view\", \"fa fa-arrow-right icon-arrow-right\", \"forward\"], [\"\", \"\", \"\", \"\"], [\"Pan\", \"Pan axes with left mouse, zoom with right\", \"fa fa-arrows icon-move\", \"pan\"], [\"Zoom\", \"Zoom to rectangle\", \"fa fa-square-o icon-check-empty\", \"zoom\"], [\"\", \"\", \"\", \"\"], [\"Download\", \"Download plot\", \"fa fa-floppy-o icon-save\", \"download\"]];\n",
       "\n",
       "mpl.extensions = [\"eps\", \"jpeg\", \"pdf\", \"png\", \"ps\", \"raw\", \"svg\", \"tif\"];\n",
       "\n",
       "mpl.default_extension = \"png\";var comm_websocket_adapter = function(comm) {\n",
       "    // Create a \"websocket\"-like object which calls the given IPython comm\n",
       "    // object with the appropriate methods. Currently this is a non binary\n",
       "    // socket, so there is still some room for performance tuning.\n",
       "    var ws = {};\n",
       "\n",
       "    ws.close = function() {\n",
       "        comm.close()\n",
       "    };\n",
       "    ws.send = function(m) {\n",
       "        //console.log('sending', m);\n",
       "        comm.send(m);\n",
       "    };\n",
       "    // Register the callback with on_msg.\n",
       "    comm.on_msg(function(msg) {\n",
       "        //console.log('receiving', msg['content']['data'], msg);\n",
       "        // Pass the mpl event to the overridden (by mpl) onmessage function.\n",
       "        ws.onmessage(msg['content']['data'])\n",
       "    });\n",
       "    return ws;\n",
       "}\n",
       "\n",
       "mpl.mpl_figure_comm = function(comm, msg) {\n",
       "    // This is the function which gets called when the mpl process\n",
       "    // starts-up an IPython Comm through the \"matplotlib\" channel.\n",
       "\n",
       "    var id = msg.content.data.id;\n",
       "    // Get hold of the div created by the display call when the Comm\n",
       "    // socket was opened in Python.\n",
       "    var element = $(\"#\" + id);\n",
       "    var ws_proxy = comm_websocket_adapter(comm)\n",
       "\n",
       "    function ondownload(figure, format) {\n",
       "        window.open(figure.imageObj.src);\n",
       "    }\n",
       "\n",
       "    var fig = new mpl.figure(id, ws_proxy,\n",
       "                           ondownload,\n",
       "                           element.get(0));\n",
       "\n",
       "    // Call onopen now - mpl needs it, as it is assuming we've passed it a real\n",
       "    // web socket which is closed, not our websocket->open comm proxy.\n",
       "    ws_proxy.onopen();\n",
       "\n",
       "    fig.parent_element = element.get(0);\n",
       "    fig.cell_info = mpl.find_output_cell(\"<div id='\" + id + \"'></div>\");\n",
       "    if (!fig.cell_info) {\n",
       "        console.error(\"Failed to find cell for figure\", id, fig);\n",
       "        return;\n",
       "    }\n",
       "\n",
       "    var output_index = fig.cell_info[2]\n",
       "    var cell = fig.cell_info[0];\n",
       "\n",
       "};\n",
       "\n",
       "mpl.figure.prototype.handle_close = function(fig, msg) {\n",
       "    var width = fig.canvas.width/mpl.ratio\n",
       "    fig.root.unbind('remove')\n",
       "\n",
       "    // Update the output cell to use the data from the current canvas.\n",
       "    fig.push_to_output();\n",
       "    var dataURL = fig.canvas.toDataURL();\n",
       "    // Re-enable the keyboard manager in IPython - without this line, in FF,\n",
       "    // the notebook keyboard shortcuts fail.\n",
       "    IPython.keyboard_manager.enable()\n",
       "    $(fig.parent_element).html('<img src=\"' + dataURL + '\" width=\"' + width + '\">');\n",
       "    fig.close_ws(fig, msg);\n",
       "}\n",
       "\n",
       "mpl.figure.prototype.close_ws = function(fig, msg){\n",
       "    fig.send_message('closing', msg);\n",
       "    // fig.ws.close()\n",
       "}\n",
       "\n",
       "mpl.figure.prototype.push_to_output = function(remove_interactive) {\n",
       "    // Turn the data on the canvas into data in the output cell.\n",
       "    var width = this.canvas.width/mpl.ratio\n",
       "    var dataURL = this.canvas.toDataURL();\n",
       "    this.cell_info[1]['text/html'] = '<img src=\"' + dataURL + '\" width=\"' + width + '\">';\n",
       "}\n",
       "\n",
       "mpl.figure.prototype.updated_canvas_event = function() {\n",
       "    // Tell IPython that the notebook contents must change.\n",
       "    IPython.notebook.set_dirty(true);\n",
       "    this.send_message(\"ack\", {});\n",
       "    var fig = this;\n",
       "    // Wait a second, then push the new image to the DOM so\n",
       "    // that it is saved nicely (might be nice to debounce this).\n",
       "    setTimeout(function () { fig.push_to_output() }, 1000);\n",
       "}\n",
       "\n",
       "mpl.figure.prototype._init_toolbar = function() {\n",
       "    var fig = this;\n",
       "\n",
       "    var nav_element = $('<div/>');\n",
       "    nav_element.attr('style', 'width: 100%');\n",
       "    this.root.append(nav_element);\n",
       "\n",
       "    // Define a callback function for later on.\n",
       "    function toolbar_event(event) {\n",
       "        return fig.toolbar_button_onclick(event['data']);\n",
       "    }\n",
       "    function toolbar_mouse_event(event) {\n",
       "        return fig.toolbar_button_onmouseover(event['data']);\n",
       "    }\n",
       "\n",
       "    for(var toolbar_ind in mpl.toolbar_items){\n",
       "        var name = mpl.toolbar_items[toolbar_ind][0];\n",
       "        var tooltip = mpl.toolbar_items[toolbar_ind][1];\n",
       "        var image = mpl.toolbar_items[toolbar_ind][2];\n",
       "        var method_name = mpl.toolbar_items[toolbar_ind][3];\n",
       "\n",
       "        if (!name) { continue; };\n",
       "\n",
       "        var button = $('<button class=\"btn btn-default\" href=\"#\" title=\"' + name + '\"><i class=\"fa ' + image + ' fa-lg\"></i></button>');\n",
       "        button.click(method_name, toolbar_event);\n",
       "        button.mouseover(tooltip, toolbar_mouse_event);\n",
       "        nav_element.append(button);\n",
       "    }\n",
       "\n",
       "    // Add the status bar.\n",
       "    var status_bar = $('<span class=\"mpl-message\" style=\"text-align:right; float: right;\"/>');\n",
       "    nav_element.append(status_bar);\n",
       "    this.message = status_bar[0];\n",
       "\n",
       "    // Add the close button to the window.\n",
       "    var buttongrp = $('<div class=\"btn-group inline pull-right\"></div>');\n",
       "    var button = $('<button class=\"btn btn-mini btn-primary\" href=\"#\" title=\"Stop Interaction\"><i class=\"fa fa-power-off icon-remove icon-large\"></i></button>');\n",
       "    button.click(function (evt) { fig.handle_close(fig, {}); } );\n",
       "    button.mouseover('Stop Interaction', toolbar_mouse_event);\n",
       "    buttongrp.append(button);\n",
       "    var titlebar = this.root.find($('.ui-dialog-titlebar'));\n",
       "    titlebar.prepend(buttongrp);\n",
       "}\n",
       "\n",
       "mpl.figure.prototype._root_extra_style = function(el){\n",
       "    var fig = this\n",
       "    el.on(\"remove\", function(){\n",
       "\tfig.close_ws(fig, {});\n",
       "    });\n",
       "}\n",
       "\n",
       "mpl.figure.prototype._canvas_extra_style = function(el){\n",
       "    // this is important to make the div 'focusable\n",
       "    el.attr('tabindex', 0)\n",
       "    // reach out to IPython and tell the keyboard manager to turn it's self\n",
       "    // off when our div gets focus\n",
       "\n",
       "    // location in version 3\n",
       "    if (IPython.notebook.keyboard_manager) {\n",
       "        IPython.notebook.keyboard_manager.register_events(el);\n",
       "    }\n",
       "    else {\n",
       "        // location in version 2\n",
       "        IPython.keyboard_manager.register_events(el);\n",
       "    }\n",
       "\n",
       "}\n",
       "\n",
       "mpl.figure.prototype._key_event_extra = function(event, name) {\n",
       "    var manager = IPython.notebook.keyboard_manager;\n",
       "    if (!manager)\n",
       "        manager = IPython.keyboard_manager;\n",
       "\n",
       "    // Check for shift+enter\n",
       "    if (event.shiftKey && event.which == 13) {\n",
       "        this.canvas_div.blur();\n",
       "        event.shiftKey = false;\n",
       "        // Send a \"J\" for go to next cell\n",
       "        event.which = 74;\n",
       "        event.keyCode = 74;\n",
       "        manager.command_mode();\n",
       "        manager.handle_keydown(event);\n",
       "    }\n",
       "}\n",
       "\n",
       "mpl.figure.prototype.handle_save = function(fig, msg) {\n",
       "    fig.ondownload(fig, null);\n",
       "}\n",
       "\n",
       "\n",
       "mpl.find_output_cell = function(html_output) {\n",
       "    // Return the cell and output element which can be found *uniquely* in the notebook.\n",
       "    // Note - this is a bit hacky, but it is done because the \"notebook_saving.Notebook\"\n",
       "    // IPython event is triggered only after the cells have been serialised, which for\n",
       "    // our purposes (turning an active figure into a static one), is too late.\n",
       "    var cells = IPython.notebook.get_cells();\n",
       "    var ncells = cells.length;\n",
       "    for (var i=0; i<ncells; i++) {\n",
       "        var cell = cells[i];\n",
       "        if (cell.cell_type === 'code'){\n",
       "            for (var j=0; j<cell.output_area.outputs.length; j++) {\n",
       "                var data = cell.output_area.outputs[j];\n",
       "                if (data.data) {\n",
       "                    // IPython >= 3 moved mimebundle to data attribute of output\n",
       "                    data = data.data;\n",
       "                }\n",
       "                if (data['text/html'] == html_output) {\n",
       "                    return [cell, data, j];\n",
       "                }\n",
       "            }\n",
       "        }\n",
       "    }\n",
       "}\n",
       "\n",
       "// Register the function which deals with the matplotlib target/channel.\n",
       "// The kernel may be null if the page has been refreshed.\n",
       "if (IPython.notebook.kernel != null) {\n",
       "    IPython.notebook.kernel.comm_manager.register_target('matplotlib', mpl.mpl_figure_comm);\n",
       "}\n"
      ],
      "text/plain": [
       "<IPython.core.display.Javascript object>"
      ]
     },
     "metadata": {},
     "output_type": "display_data"
    },
    {
     "data": {
      "text/html": [
       "<img src=\"data:image/png;base64,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\" width=\"640\">"
      ],
      "text/plain": [
       "<IPython.core.display.HTML object>"
      ]
     },
     "metadata": {},
     "output_type": "display_data"
    },
    {
     "data": {
      "text/plain": [
       "<matplotlib.image.AxesImage at 0x7f82694f3c90>"
      ]
     },
     "execution_count": 153,
     "metadata": {},
     "output_type": "execute_result"
    }
   ],
   "source": [
    "plt.figure()\n",
    "plt.imshow(x)"
   ]
  },
  {
   "cell_type": "code",
   "execution_count": null,
   "metadata": {},
   "outputs": [],
   "source": [
    "im = np.uint8(cm.gist_earth(myarray)*255)"
   ]
  },
  {
   "cell_type": "code",
   "execution_count": null,
   "metadata": {},
   "outputs": [],
   "source": []
  },
  {
   "cell_type": "code",
   "execution_count": null,
   "metadata": {},
   "outputs": [],
   "source": []
  },
  {
   "cell_type": "code",
   "execution_count": null,
   "metadata": {},
   "outputs": [],
   "source": []
  },
  {
   "cell_type": "code",
   "execution_count": null,
   "metadata": {},
   "outputs": [],
   "source": []
  },
  {
   "cell_type": "code",
   "execution_count": null,
   "metadata": {},
   "outputs": [],
   "source": []
  },
  {
   "cell_type": "code",
   "execution_count": 69,
   "metadata": {},
   "outputs": [],
   "source": [
    "# plt.figure()\n",
    "# plt.imshow(g[0,0])"
   ]
  },
  {
   "cell_type": "code",
   "execution_count": null,
   "metadata": {},
   "outputs": [],
   "source": []
  },
  {
   "cell_type": "code",
   "execution_count": null,
   "metadata": {},
   "outputs": [],
   "source": []
  },
  {
   "cell_type": "code",
   "execution_count": 31,
   "metadata": {},
   "outputs": [],
   "source": [
    "f = nn.Fold((64,64), 4, stride=2)"
   ]
  },
  {
   "cell_type": "code",
   "execution_count": 34,
   "metadata": {},
   "outputs": [
    {
     "name": "stderr",
     "output_type": "stream",
     "text": [
      "/is/ei/fleeb/anaconda3/lib/python3.7/site-packages/torch/nn/functional.py:1351: UserWarning: nn.functional.sigmoid is deprecated. Use torch.sigmoid instead.\n",
      "  warnings.warn(\"nn.functional.sigmoid is deprecated. Use torch.sigmoid instead.\")\n"
     ]
    },
    {
     "data": {
      "text/plain": [
       "torch.Size([5, 2, 64, 64])"
      ]
     },
     "execution_count": 34,
     "metadata": {},
     "output_type": "execute_result"
    }
   ],
   "source": [
    "z = f(F.sigmoid(y))\n",
    "z.shape"
   ]
  },
  {
   "cell_type": "code",
   "execution_count": 56,
   "metadata": {},
   "outputs": [
    {
     "data": {
      "application/javascript": [
       "/* Put everything inside the global mpl namespace */\n",
       "window.mpl = {};\n",
       "\n",
       "\n",
       "mpl.get_websocket_type = function() {\n",
       "    if (typeof(WebSocket) !== 'undefined') {\n",
       "        return WebSocket;\n",
       "    } else if (typeof(MozWebSocket) !== 'undefined') {\n",
       "        return MozWebSocket;\n",
       "    } else {\n",
       "        alert('Your browser does not have WebSocket support. ' +\n",
       "              'Please try Chrome, Safari or Firefox ≥ 6. ' +\n",
       "              'Firefox 4 and 5 are also supported but you ' +\n",
       "              'have to enable WebSockets in about:config.');\n",
       "    };\n",
       "}\n",
       "\n",
       "mpl.figure = function(figure_id, websocket, ondownload, parent_element) {\n",
       "    this.id = figure_id;\n",
       "\n",
       "    this.ws = websocket;\n",
       "\n",
       "    this.supports_binary = (this.ws.binaryType != undefined);\n",
       "\n",
       "    if (!this.supports_binary) {\n",
       "        var warnings = document.getElementById(\"mpl-warnings\");\n",
       "        if (warnings) {\n",
       "            warnings.style.display = 'block';\n",
       "            warnings.textContent = (\n",
       "                \"This browser does not support binary websocket messages. \" +\n",
       "                    \"Performance may be slow.\");\n",
       "        }\n",
       "    }\n",
       "\n",
       "    this.imageObj = new Image();\n",
       "\n",
       "    this.context = undefined;\n",
       "    this.message = undefined;\n",
       "    this.canvas = undefined;\n",
       "    this.rubberband_canvas = undefined;\n",
       "    this.rubberband_context = undefined;\n",
       "    this.format_dropdown = undefined;\n",
       "\n",
       "    this.image_mode = 'full';\n",
       "\n",
       "    this.root = $('<div/>');\n",
       "    this._root_extra_style(this.root)\n",
       "    this.root.attr('style', 'display: inline-block');\n",
       "\n",
       "    $(parent_element).append(this.root);\n",
       "\n",
       "    this._init_header(this);\n",
       "    this._init_canvas(this);\n",
       "    this._init_toolbar(this);\n",
       "\n",
       "    var fig = this;\n",
       "\n",
       "    this.waiting = false;\n",
       "\n",
       "    this.ws.onopen =  function () {\n",
       "            fig.send_message(\"supports_binary\", {value: fig.supports_binary});\n",
       "            fig.send_message(\"send_image_mode\", {});\n",
       "            if (mpl.ratio != 1) {\n",
       "                fig.send_message(\"set_dpi_ratio\", {'dpi_ratio': mpl.ratio});\n",
       "            }\n",
       "            fig.send_message(\"refresh\", {});\n",
       "        }\n",
       "\n",
       "    this.imageObj.onload = function() {\n",
       "            if (fig.image_mode == 'full') {\n",
       "                // Full images could contain transparency (where diff images\n",
       "                // almost always do), so we need to clear the canvas so that\n",
       "                // there is no ghosting.\n",
       "                fig.context.clearRect(0, 0, fig.canvas.width, fig.canvas.height);\n",
       "            }\n",
       "            fig.context.drawImage(fig.imageObj, 0, 0);\n",
       "        };\n",
       "\n",
       "    this.imageObj.onunload = function() {\n",
       "        fig.ws.close();\n",
       "    }\n",
       "\n",
       "    this.ws.onmessage = this._make_on_message_function(this);\n",
       "\n",
       "    this.ondownload = ondownload;\n",
       "}\n",
       "\n",
       "mpl.figure.prototype._init_header = function() {\n",
       "    var titlebar = $(\n",
       "        '<div class=\"ui-dialog-titlebar ui-widget-header ui-corner-all ' +\n",
       "        'ui-helper-clearfix\"/>');\n",
       "    var titletext = $(\n",
       "        '<div class=\"ui-dialog-title\" style=\"width: 100%; ' +\n",
       "        'text-align: center; padding: 3px;\"/>');\n",
       "    titlebar.append(titletext)\n",
       "    this.root.append(titlebar);\n",
       "    this.header = titletext[0];\n",
       "}\n",
       "\n",
       "\n",
       "\n",
       "mpl.figure.prototype._canvas_extra_style = function(canvas_div) {\n",
       "\n",
       "}\n",
       "\n",
       "\n",
       "mpl.figure.prototype._root_extra_style = function(canvas_div) {\n",
       "\n",
       "}\n",
       "\n",
       "mpl.figure.prototype._init_canvas = function() {\n",
       "    var fig = this;\n",
       "\n",
       "    var canvas_div = $('<div/>');\n",
       "\n",
       "    canvas_div.attr('style', 'position: relative; clear: both; outline: 0');\n",
       "\n",
       "    function canvas_keyboard_event(event) {\n",
       "        return fig.key_event(event, event['data']);\n",
       "    }\n",
       "\n",
       "    canvas_div.keydown('key_press', canvas_keyboard_event);\n",
       "    canvas_div.keyup('key_release', canvas_keyboard_event);\n",
       "    this.canvas_div = canvas_div\n",
       "    this._canvas_extra_style(canvas_div)\n",
       "    this.root.append(canvas_div);\n",
       "\n",
       "    var canvas = $('<canvas/>');\n",
       "    canvas.addClass('mpl-canvas');\n",
       "    canvas.attr('style', \"left: 0; top: 0; z-index: 0; outline: 0\")\n",
       "\n",
       "    this.canvas = canvas[0];\n",
       "    this.context = canvas[0].getContext(\"2d\");\n",
       "\n",
       "    var backingStore = this.context.backingStorePixelRatio ||\n",
       "\tthis.context.webkitBackingStorePixelRatio ||\n",
       "\tthis.context.mozBackingStorePixelRatio ||\n",
       "\tthis.context.msBackingStorePixelRatio ||\n",
       "\tthis.context.oBackingStorePixelRatio ||\n",
       "\tthis.context.backingStorePixelRatio || 1;\n",
       "\n",
       "    mpl.ratio = (window.devicePixelRatio || 1) / backingStore;\n",
       "\n",
       "    var rubberband = $('<canvas/>');\n",
       "    rubberband.attr('style', \"position: absolute; left: 0; top: 0; z-index: 1;\")\n",
       "\n",
       "    var pass_mouse_events = true;\n",
       "\n",
       "    canvas_div.resizable({\n",
       "        start: function(event, ui) {\n",
       "            pass_mouse_events = false;\n",
       "        },\n",
       "        resize: function(event, ui) {\n",
       "            fig.request_resize(ui.size.width, ui.size.height);\n",
       "        },\n",
       "        stop: function(event, ui) {\n",
       "            pass_mouse_events = true;\n",
       "            fig.request_resize(ui.size.width, ui.size.height);\n",
       "        },\n",
       "    });\n",
       "\n",
       "    function mouse_event_fn(event) {\n",
       "        if (pass_mouse_events)\n",
       "            return fig.mouse_event(event, event['data']);\n",
       "    }\n",
       "\n",
       "    rubberband.mousedown('button_press', mouse_event_fn);\n",
       "    rubberband.mouseup('button_release', mouse_event_fn);\n",
       "    // Throttle sequential mouse events to 1 every 20ms.\n",
       "    rubberband.mousemove('motion_notify', mouse_event_fn);\n",
       "\n",
       "    rubberband.mouseenter('figure_enter', mouse_event_fn);\n",
       "    rubberband.mouseleave('figure_leave', mouse_event_fn);\n",
       "\n",
       "    canvas_div.on(\"wheel\", function (event) {\n",
       "        event = event.originalEvent;\n",
       "        event['data'] = 'scroll'\n",
       "        if (event.deltaY < 0) {\n",
       "            event.step = 1;\n",
       "        } else {\n",
       "            event.step = -1;\n",
       "        }\n",
       "        mouse_event_fn(event);\n",
       "    });\n",
       "\n",
       "    canvas_div.append(canvas);\n",
       "    canvas_div.append(rubberband);\n",
       "\n",
       "    this.rubberband = rubberband;\n",
       "    this.rubberband_canvas = rubberband[0];\n",
       "    this.rubberband_context = rubberband[0].getContext(\"2d\");\n",
       "    this.rubberband_context.strokeStyle = \"#000000\";\n",
       "\n",
       "    this._resize_canvas = function(width, height) {\n",
       "        // Keep the size of the canvas, canvas container, and rubber band\n",
       "        // canvas in synch.\n",
       "        canvas_div.css('width', width)\n",
       "        canvas_div.css('height', height)\n",
       "\n",
       "        canvas.attr('width', width * mpl.ratio);\n",
       "        canvas.attr('height', height * mpl.ratio);\n",
       "        canvas.attr('style', 'width: ' + width + 'px; height: ' + height + 'px;');\n",
       "\n",
       "        rubberband.attr('width', width);\n",
       "        rubberband.attr('height', height);\n",
       "    }\n",
       "\n",
       "    // Set the figure to an initial 600x600px, this will subsequently be updated\n",
       "    // upon first draw.\n",
       "    this._resize_canvas(600, 600);\n",
       "\n",
       "    // Disable right mouse context menu.\n",
       "    $(this.rubberband_canvas).bind(\"contextmenu\",function(e){\n",
       "        return false;\n",
       "    });\n",
       "\n",
       "    function set_focus () {\n",
       "        canvas.focus();\n",
       "        canvas_div.focus();\n",
       "    }\n",
       "\n",
       "    window.setTimeout(set_focus, 100);\n",
       "}\n",
       "\n",
       "mpl.figure.prototype._init_toolbar = function() {\n",
       "    var fig = this;\n",
       "\n",
       "    var nav_element = $('<div/>');\n",
       "    nav_element.attr('style', 'width: 100%');\n",
       "    this.root.append(nav_element);\n",
       "\n",
       "    // Define a callback function for later on.\n",
       "    function toolbar_event(event) {\n",
       "        return fig.toolbar_button_onclick(event['data']);\n",
       "    }\n",
       "    function toolbar_mouse_event(event) {\n",
       "        return fig.toolbar_button_onmouseover(event['data']);\n",
       "    }\n",
       "\n",
       "    for(var toolbar_ind in mpl.toolbar_items) {\n",
       "        var name = mpl.toolbar_items[toolbar_ind][0];\n",
       "        var tooltip = mpl.toolbar_items[toolbar_ind][1];\n",
       "        var image = mpl.toolbar_items[toolbar_ind][2];\n",
       "        var method_name = mpl.toolbar_items[toolbar_ind][3];\n",
       "\n",
       "        if (!name) {\n",
       "            // put a spacer in here.\n",
       "            continue;\n",
       "        }\n",
       "        var button = $('<button/>');\n",
       "        button.addClass('ui-button ui-widget ui-state-default ui-corner-all ' +\n",
       "                        'ui-button-icon-only');\n",
       "        button.attr('role', 'button');\n",
       "        button.attr('aria-disabled', 'false');\n",
       "        button.click(method_name, toolbar_event);\n",
       "        button.mouseover(tooltip, toolbar_mouse_event);\n",
       "\n",
       "        var icon_img = $('<span/>');\n",
       "        icon_img.addClass('ui-button-icon-primary ui-icon');\n",
       "        icon_img.addClass(image);\n",
       "        icon_img.addClass('ui-corner-all');\n",
       "\n",
       "        var tooltip_span = $('<span/>');\n",
       "        tooltip_span.addClass('ui-button-text');\n",
       "        tooltip_span.html(tooltip);\n",
       "\n",
       "        button.append(icon_img);\n",
       "        button.append(tooltip_span);\n",
       "\n",
       "        nav_element.append(button);\n",
       "    }\n",
       "\n",
       "    var fmt_picker_span = $('<span/>');\n",
       "\n",
       "    var fmt_picker = $('<select/>');\n",
       "    fmt_picker.addClass('mpl-toolbar-option ui-widget ui-widget-content');\n",
       "    fmt_picker_span.append(fmt_picker);\n",
       "    nav_element.append(fmt_picker_span);\n",
       "    this.format_dropdown = fmt_picker[0];\n",
       "\n",
       "    for (var ind in mpl.extensions) {\n",
       "        var fmt = mpl.extensions[ind];\n",
       "        var option = $(\n",
       "            '<option/>', {selected: fmt === mpl.default_extension}).html(fmt);\n",
       "        fmt_picker.append(option);\n",
       "    }\n",
       "\n",
       "    // Add hover states to the ui-buttons\n",
       "    $( \".ui-button\" ).hover(\n",
       "        function() { $(this).addClass(\"ui-state-hover\");},\n",
       "        function() { $(this).removeClass(\"ui-state-hover\");}\n",
       "    );\n",
       "\n",
       "    var status_bar = $('<span class=\"mpl-message\"/>');\n",
       "    nav_element.append(status_bar);\n",
       "    this.message = status_bar[0];\n",
       "}\n",
       "\n",
       "mpl.figure.prototype.request_resize = function(x_pixels, y_pixels) {\n",
       "    // Request matplotlib to resize the figure. Matplotlib will then trigger a resize in the client,\n",
       "    // which will in turn request a refresh of the image.\n",
       "    this.send_message('resize', {'width': x_pixels, 'height': y_pixels});\n",
       "}\n",
       "\n",
       "mpl.figure.prototype.send_message = function(type, properties) {\n",
       "    properties['type'] = type;\n",
       "    properties['figure_id'] = this.id;\n",
       "    this.ws.send(JSON.stringify(properties));\n",
       "}\n",
       "\n",
       "mpl.figure.prototype.send_draw_message = function() {\n",
       "    if (!this.waiting) {\n",
       "        this.waiting = true;\n",
       "        this.ws.send(JSON.stringify({type: \"draw\", figure_id: this.id}));\n",
       "    }\n",
       "}\n",
       "\n",
       "\n",
       "mpl.figure.prototype.handle_save = function(fig, msg) {\n",
       "    var format_dropdown = fig.format_dropdown;\n",
       "    var format = format_dropdown.options[format_dropdown.selectedIndex].value;\n",
       "    fig.ondownload(fig, format);\n",
       "}\n",
       "\n",
       "\n",
       "mpl.figure.prototype.handle_resize = function(fig, msg) {\n",
       "    var size = msg['size'];\n",
       "    if (size[0] != fig.canvas.width || size[1] != fig.canvas.height) {\n",
       "        fig._resize_canvas(size[0], size[1]);\n",
       "        fig.send_message(\"refresh\", {});\n",
       "    };\n",
       "}\n",
       "\n",
       "mpl.figure.prototype.handle_rubberband = function(fig, msg) {\n",
       "    var x0 = msg['x0'] / mpl.ratio;\n",
       "    var y0 = (fig.canvas.height - msg['y0']) / mpl.ratio;\n",
       "    var x1 = msg['x1'] / mpl.ratio;\n",
       "    var y1 = (fig.canvas.height - msg['y1']) / mpl.ratio;\n",
       "    x0 = Math.floor(x0) + 0.5;\n",
       "    y0 = Math.floor(y0) + 0.5;\n",
       "    x1 = Math.floor(x1) + 0.5;\n",
       "    y1 = Math.floor(y1) + 0.5;\n",
       "    var min_x = Math.min(x0, x1);\n",
       "    var min_y = Math.min(y0, y1);\n",
       "    var width = Math.abs(x1 - x0);\n",
       "    var height = Math.abs(y1 - y0);\n",
       "\n",
       "    fig.rubberband_context.clearRect(\n",
       "        0, 0, fig.canvas.width / mpl.ratio, fig.canvas.height / mpl.ratio);\n",
       "\n",
       "    fig.rubberband_context.strokeRect(min_x, min_y, width, height);\n",
       "}\n",
       "\n",
       "mpl.figure.prototype.handle_figure_label = function(fig, msg) {\n",
       "    // Updates the figure title.\n",
       "    fig.header.textContent = msg['label'];\n",
       "}\n",
       "\n",
       "mpl.figure.prototype.handle_cursor = function(fig, msg) {\n",
       "    var cursor = msg['cursor'];\n",
       "    switch(cursor)\n",
       "    {\n",
       "    case 0:\n",
       "        cursor = 'pointer';\n",
       "        break;\n",
       "    case 1:\n",
       "        cursor = 'default';\n",
       "        break;\n",
       "    case 2:\n",
       "        cursor = 'crosshair';\n",
       "        break;\n",
       "    case 3:\n",
       "        cursor = 'move';\n",
       "        break;\n",
       "    }\n",
       "    fig.rubberband_canvas.style.cursor = cursor;\n",
       "}\n",
       "\n",
       "mpl.figure.prototype.handle_message = function(fig, msg) {\n",
       "    fig.message.textContent = msg['message'];\n",
       "}\n",
       "\n",
       "mpl.figure.prototype.handle_draw = function(fig, msg) {\n",
       "    // Request the server to send over a new figure.\n",
       "    fig.send_draw_message();\n",
       "}\n",
       "\n",
       "mpl.figure.prototype.handle_image_mode = function(fig, msg) {\n",
       "    fig.image_mode = msg['mode'];\n",
       "}\n",
       "\n",
       "mpl.figure.prototype.updated_canvas_event = function() {\n",
       "    // Called whenever the canvas gets updated.\n",
       "    this.send_message(\"ack\", {});\n",
       "}\n",
       "\n",
       "// A function to construct a web socket function for onmessage handling.\n",
       "// Called in the figure constructor.\n",
       "mpl.figure.prototype._make_on_message_function = function(fig) {\n",
       "    return function socket_on_message(evt) {\n",
       "        if (evt.data instanceof Blob) {\n",
       "            /* FIXME: We get \"Resource interpreted as Image but\n",
       "             * transferred with MIME type text/plain:\" errors on\n",
       "             * Chrome.  But how to set the MIME type?  It doesn't seem\n",
       "             * to be part of the websocket stream */\n",
       "            evt.data.type = \"image/png\";\n",
       "\n",
       "            /* Free the memory for the previous frames */\n",
       "            if (fig.imageObj.src) {\n",
       "                (window.URL || window.webkitURL).revokeObjectURL(\n",
       "                    fig.imageObj.src);\n",
       "            }\n",
       "\n",
       "            fig.imageObj.src = (window.URL || window.webkitURL).createObjectURL(\n",
       "                evt.data);\n",
       "            fig.updated_canvas_event();\n",
       "            fig.waiting = false;\n",
       "            return;\n",
       "        }\n",
       "        else if (typeof evt.data === 'string' && evt.data.slice(0, 21) == \"data:image/png;base64\") {\n",
       "            fig.imageObj.src = evt.data;\n",
       "            fig.updated_canvas_event();\n",
       "            fig.waiting = false;\n",
       "            return;\n",
       "        }\n",
       "\n",
       "        var msg = JSON.parse(evt.data);\n",
       "        var msg_type = msg['type'];\n",
       "\n",
       "        // Call the  \"handle_{type}\" callback, which takes\n",
       "        // the figure and JSON message as its only arguments.\n",
       "        try {\n",
       "            var callback = fig[\"handle_\" + msg_type];\n",
       "        } catch (e) {\n",
       "            console.log(\"No handler for the '\" + msg_type + \"' message type: \", msg);\n",
       "            return;\n",
       "        }\n",
       "\n",
       "        if (callback) {\n",
       "            try {\n",
       "                // console.log(\"Handling '\" + msg_type + \"' message: \", msg);\n",
       "                callback(fig, msg);\n",
       "            } catch (e) {\n",
       "                console.log(\"Exception inside the 'handler_\" + msg_type + \"' callback:\", e, e.stack, msg);\n",
       "            }\n",
       "        }\n",
       "    };\n",
       "}\n",
       "\n",
       "// from http://stackoverflow.com/questions/1114465/getting-mouse-location-in-canvas\n",
       "mpl.findpos = function(e) {\n",
       "    //this section is from http://www.quirksmode.org/js/events_properties.html\n",
       "    var targ;\n",
       "    if (!e)\n",
       "        e = window.event;\n",
       "    if (e.target)\n",
       "        targ = e.target;\n",
       "    else if (e.srcElement)\n",
       "        targ = e.srcElement;\n",
       "    if (targ.nodeType == 3) // defeat Safari bug\n",
       "        targ = targ.parentNode;\n",
       "\n",
       "    // jQuery normalizes the pageX and pageY\n",
       "    // pageX,Y are the mouse positions relative to the document\n",
       "    // offset() returns the position of the element relative to the document\n",
       "    var x = e.pageX - $(targ).offset().left;\n",
       "    var y = e.pageY - $(targ).offset().top;\n",
       "\n",
       "    return {\"x\": x, \"y\": y};\n",
       "};\n",
       "\n",
       "/*\n",
       " * return a copy of an object with only non-object keys\n",
       " * we need this to avoid circular references\n",
       " * http://stackoverflow.com/a/24161582/3208463\n",
       " */\n",
       "function simpleKeys (original) {\n",
       "  return Object.keys(original).reduce(function (obj, key) {\n",
       "    if (typeof original[key] !== 'object')\n",
       "        obj[key] = original[key]\n",
       "    return obj;\n",
       "  }, {});\n",
       "}\n",
       "\n",
       "mpl.figure.prototype.mouse_event = function(event, name) {\n",
       "    var canvas_pos = mpl.findpos(event)\n",
       "\n",
       "    if (name === 'button_press')\n",
       "    {\n",
       "        this.canvas.focus();\n",
       "        this.canvas_div.focus();\n",
       "    }\n",
       "\n",
       "    var x = canvas_pos.x * mpl.ratio;\n",
       "    var y = canvas_pos.y * mpl.ratio;\n",
       "\n",
       "    this.send_message(name, {x: x, y: y, button: event.button,\n",
       "                             step: event.step,\n",
       "                             guiEvent: simpleKeys(event)});\n",
       "\n",
       "    /* This prevents the web browser from automatically changing to\n",
       "     * the text insertion cursor when the button is pressed.  We want\n",
       "     * to control all of the cursor setting manually through the\n",
       "     * 'cursor' event from matplotlib */\n",
       "    event.preventDefault();\n",
       "    return false;\n",
       "}\n",
       "\n",
       "mpl.figure.prototype._key_event_extra = function(event, name) {\n",
       "    // Handle any extra behaviour associated with a key event\n",
       "}\n",
       "\n",
       "mpl.figure.prototype.key_event = function(event, name) {\n",
       "\n",
       "    // Prevent repeat events\n",
       "    if (name == 'key_press')\n",
       "    {\n",
       "        if (event.which === this._key)\n",
       "            return;\n",
       "        else\n",
       "            this._key = event.which;\n",
       "    }\n",
       "    if (name == 'key_release')\n",
       "        this._key = null;\n",
       "\n",
       "    var value = '';\n",
       "    if (event.ctrlKey && event.which != 17)\n",
       "        value += \"ctrl+\";\n",
       "    if (event.altKey && event.which != 18)\n",
       "        value += \"alt+\";\n",
       "    if (event.shiftKey && event.which != 16)\n",
       "        value += \"shift+\";\n",
       "\n",
       "    value += 'k';\n",
       "    value += event.which.toString();\n",
       "\n",
       "    this._key_event_extra(event, name);\n",
       "\n",
       "    this.send_message(name, {key: value,\n",
       "                             guiEvent: simpleKeys(event)});\n",
       "    return false;\n",
       "}\n",
       "\n",
       "mpl.figure.prototype.toolbar_button_onclick = function(name) {\n",
       "    if (name == 'download') {\n",
       "        this.handle_save(this, null);\n",
       "    } else {\n",
       "        this.send_message(\"toolbar_button\", {name: name});\n",
       "    }\n",
       "};\n",
       "\n",
       "mpl.figure.prototype.toolbar_button_onmouseover = function(tooltip) {\n",
       "    this.message.textContent = tooltip;\n",
       "};\n",
       "mpl.toolbar_items = [[\"Home\", \"Reset original view\", \"fa fa-home icon-home\", \"home\"], [\"Back\", \"Back to previous view\", \"fa fa-arrow-left icon-arrow-left\", \"back\"], [\"Forward\", \"Forward to next view\", \"fa fa-arrow-right icon-arrow-right\", \"forward\"], [\"\", \"\", \"\", \"\"], [\"Pan\", \"Pan axes with left mouse, zoom with right\", \"fa fa-arrows icon-move\", \"pan\"], [\"Zoom\", \"Zoom to rectangle\", \"fa fa-square-o icon-check-empty\", \"zoom\"], [\"\", \"\", \"\", \"\"], [\"Download\", \"Download plot\", \"fa fa-floppy-o icon-save\", \"download\"]];\n",
       "\n",
       "mpl.extensions = [\"eps\", \"jpeg\", \"pdf\", \"png\", \"ps\", \"raw\", \"svg\", \"tif\"];\n",
       "\n",
       "mpl.default_extension = \"png\";var comm_websocket_adapter = function(comm) {\n",
       "    // Create a \"websocket\"-like object which calls the given IPython comm\n",
       "    // object with the appropriate methods. Currently this is a non binary\n",
       "    // socket, so there is still some room for performance tuning.\n",
       "    var ws = {};\n",
       "\n",
       "    ws.close = function() {\n",
       "        comm.close()\n",
       "    };\n",
       "    ws.send = function(m) {\n",
       "        //console.log('sending', m);\n",
       "        comm.send(m);\n",
       "    };\n",
       "    // Register the callback with on_msg.\n",
       "    comm.on_msg(function(msg) {\n",
       "        //console.log('receiving', msg['content']['data'], msg);\n",
       "        // Pass the mpl event to the overridden (by mpl) onmessage function.\n",
       "        ws.onmessage(msg['content']['data'])\n",
       "    });\n",
       "    return ws;\n",
       "}\n",
       "\n",
       "mpl.mpl_figure_comm = function(comm, msg) {\n",
       "    // This is the function which gets called when the mpl process\n",
       "    // starts-up an IPython Comm through the \"matplotlib\" channel.\n",
       "\n",
       "    var id = msg.content.data.id;\n",
       "    // Get hold of the div created by the display call when the Comm\n",
       "    // socket was opened in Python.\n",
       "    var element = $(\"#\" + id);\n",
       "    var ws_proxy = comm_websocket_adapter(comm)\n",
       "\n",
       "    function ondownload(figure, format) {\n",
       "        window.open(figure.imageObj.src);\n",
       "    }\n",
       "\n",
       "    var fig = new mpl.figure(id, ws_proxy,\n",
       "                           ondownload,\n",
       "                           element.get(0));\n",
       "\n",
       "    // Call onopen now - mpl needs it, as it is assuming we've passed it a real\n",
       "    // web socket which is closed, not our websocket->open comm proxy.\n",
       "    ws_proxy.onopen();\n",
       "\n",
       "    fig.parent_element = element.get(0);\n",
       "    fig.cell_info = mpl.find_output_cell(\"<div id='\" + id + \"'></div>\");\n",
       "    if (!fig.cell_info) {\n",
       "        console.error(\"Failed to find cell for figure\", id, fig);\n",
       "        return;\n",
       "    }\n",
       "\n",
       "    var output_index = fig.cell_info[2]\n",
       "    var cell = fig.cell_info[0];\n",
       "\n",
       "};\n",
       "\n",
       "mpl.figure.prototype.handle_close = function(fig, msg) {\n",
       "    var width = fig.canvas.width/mpl.ratio\n",
       "    fig.root.unbind('remove')\n",
       "\n",
       "    // Update the output cell to use the data from the current canvas.\n",
       "    fig.push_to_output();\n",
       "    var dataURL = fig.canvas.toDataURL();\n",
       "    // Re-enable the keyboard manager in IPython - without this line, in FF,\n",
       "    // the notebook keyboard shortcuts fail.\n",
       "    IPython.keyboard_manager.enable()\n",
       "    $(fig.parent_element).html('<img src=\"' + dataURL + '\" width=\"' + width + '\">');\n",
       "    fig.close_ws(fig, msg);\n",
       "}\n",
       "\n",
       "mpl.figure.prototype.close_ws = function(fig, msg){\n",
       "    fig.send_message('closing', msg);\n",
       "    // fig.ws.close()\n",
       "}\n",
       "\n",
       "mpl.figure.prototype.push_to_output = function(remove_interactive) {\n",
       "    // Turn the data on the canvas into data in the output cell.\n",
       "    var width = this.canvas.width/mpl.ratio\n",
       "    var dataURL = this.canvas.toDataURL();\n",
       "    this.cell_info[1]['text/html'] = '<img src=\"' + dataURL + '\" width=\"' + width + '\">';\n",
       "}\n",
       "\n",
       "mpl.figure.prototype.updated_canvas_event = function() {\n",
       "    // Tell IPython that the notebook contents must change.\n",
       "    IPython.notebook.set_dirty(true);\n",
       "    this.send_message(\"ack\", {});\n",
       "    var fig = this;\n",
       "    // Wait a second, then push the new image to the DOM so\n",
       "    // that it is saved nicely (might be nice to debounce this).\n",
       "    setTimeout(function () { fig.push_to_output() }, 1000);\n",
       "}\n",
       "\n",
       "mpl.figure.prototype._init_toolbar = function() {\n",
       "    var fig = this;\n",
       "\n",
       "    var nav_element = $('<div/>');\n",
       "    nav_element.attr('style', 'width: 100%');\n",
       "    this.root.append(nav_element);\n",
       "\n",
       "    // Define a callback function for later on.\n",
       "    function toolbar_event(event) {\n",
       "        return fig.toolbar_button_onclick(event['data']);\n",
       "    }\n",
       "    function toolbar_mouse_event(event) {\n",
       "        return fig.toolbar_button_onmouseover(event['data']);\n",
       "    }\n",
       "\n",
       "    for(var toolbar_ind in mpl.toolbar_items){\n",
       "        var name = mpl.toolbar_items[toolbar_ind][0];\n",
       "        var tooltip = mpl.toolbar_items[toolbar_ind][1];\n",
       "        var image = mpl.toolbar_items[toolbar_ind][2];\n",
       "        var method_name = mpl.toolbar_items[toolbar_ind][3];\n",
       "\n",
       "        if (!name) { continue; };\n",
       "\n",
       "        var button = $('<button class=\"btn btn-default\" href=\"#\" title=\"' + name + '\"><i class=\"fa ' + image + ' fa-lg\"></i></button>');\n",
       "        button.click(method_name, toolbar_event);\n",
       "        button.mouseover(tooltip, toolbar_mouse_event);\n",
       "        nav_element.append(button);\n",
       "    }\n",
       "\n",
       "    // Add the status bar.\n",
       "    var status_bar = $('<span class=\"mpl-message\" style=\"text-align:right; float: right;\"/>');\n",
       "    nav_element.append(status_bar);\n",
       "    this.message = status_bar[0];\n",
       "\n",
       "    // Add the close button to the window.\n",
       "    var buttongrp = $('<div class=\"btn-group inline pull-right\"></div>');\n",
       "    var button = $('<button class=\"btn btn-mini btn-primary\" href=\"#\" title=\"Stop Interaction\"><i class=\"fa fa-power-off icon-remove icon-large\"></i></button>');\n",
       "    button.click(function (evt) { fig.handle_close(fig, {}); } );\n",
       "    button.mouseover('Stop Interaction', toolbar_mouse_event);\n",
       "    buttongrp.append(button);\n",
       "    var titlebar = this.root.find($('.ui-dialog-titlebar'));\n",
       "    titlebar.prepend(buttongrp);\n",
       "}\n",
       "\n",
       "mpl.figure.prototype._root_extra_style = function(el){\n",
       "    var fig = this\n",
       "    el.on(\"remove\", function(){\n",
       "\tfig.close_ws(fig, {});\n",
       "    });\n",
       "}\n",
       "\n",
       "mpl.figure.prototype._canvas_extra_style = function(el){\n",
       "    // this is important to make the div 'focusable\n",
       "    el.attr('tabindex', 0)\n",
       "    // reach out to IPython and tell the keyboard manager to turn it's self\n",
       "    // off when our div gets focus\n",
       "\n",
       "    // location in version 3\n",
       "    if (IPython.notebook.keyboard_manager) {\n",
       "        IPython.notebook.keyboard_manager.register_events(el);\n",
       "    }\n",
       "    else {\n",
       "        // location in version 2\n",
       "        IPython.keyboard_manager.register_events(el);\n",
       "    }\n",
       "\n",
       "}\n",
       "\n",
       "mpl.figure.prototype._key_event_extra = function(event, name) {\n",
       "    var manager = IPython.notebook.keyboard_manager;\n",
       "    if (!manager)\n",
       "        manager = IPython.keyboard_manager;\n",
       "\n",
       "    // Check for shift+enter\n",
       "    if (event.shiftKey && event.which == 13) {\n",
       "        this.canvas_div.blur();\n",
       "        event.shiftKey = false;\n",
       "        // Send a \"J\" for go to next cell\n",
       "        event.which = 74;\n",
       "        event.keyCode = 74;\n",
       "        manager.command_mode();\n",
       "        manager.handle_keydown(event);\n",
       "    }\n",
       "}\n",
       "\n",
       "mpl.figure.prototype.handle_save = function(fig, msg) {\n",
       "    fig.ondownload(fig, null);\n",
       "}\n",
       "\n",
       "\n",
       "mpl.find_output_cell = function(html_output) {\n",
       "    // Return the cell and output element which can be found *uniquely* in the notebook.\n",
       "    // Note - this is a bit hacky, but it is done because the \"notebook_saving.Notebook\"\n",
       "    // IPython event is triggered only after the cells have been serialised, which for\n",
       "    // our purposes (turning an active figure into a static one), is too late.\n",
       "    var cells = IPython.notebook.get_cells();\n",
       "    var ncells = cells.length;\n",
       "    for (var i=0; i<ncells; i++) {\n",
       "        var cell = cells[i];\n",
       "        if (cell.cell_type === 'code'){\n",
       "            for (var j=0; j<cell.output_area.outputs.length; j++) {\n",
       "                var data = cell.output_area.outputs[j];\n",
       "                if (data.data) {\n",
       "                    // IPython >= 3 moved mimebundle to data attribute of output\n",
       "                    data = data.data;\n",
       "                }\n",
       "                if (data['text/html'] == html_output) {\n",
       "                    return [cell, data, j];\n",
       "                }\n",
       "            }\n",
       "        }\n",
       "    }\n",
       "}\n",
       "\n",
       "// Register the function which deals with the matplotlib target/channel.\n",
       "// The kernel may be null if the page has been refreshed.\n",
       "if (IPython.notebook.kernel != null) {\n",
       "    IPython.notebook.kernel.comm_manager.register_target('matplotlib', mpl.mpl_figure_comm);\n",
       "}\n"
      ],
      "text/plain": [
       "<IPython.core.display.Javascript object>"
      ]
     },
     "metadata": {},
     "output_type": "display_data"
    },
    {
     "data": {
      "text/html": [
       "<img src=\"data:image/png;base64,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\" width=\"640\">"
      ],
      "text/plain": [
       "<IPython.core.display.HTML object>"
      ]
     },
     "metadata": {},
     "output_type": "display_data"
    },
    {
     "data": {
      "text/plain": [
       "<matplotlib.image.AxesImage at 0x7f829041e9d0>"
      ]
     },
     "execution_count": 56,
     "metadata": {},
     "output_type": "execute_result"
    }
   ],
   "source": [
    "plt.figure()\n",
    "plt.imshow(z[0,0])"
   ]
  },
  {
   "cell_type": "code",
   "execution_count": null,
   "metadata": {},
   "outputs": [],
   "source": []
  },
  {
   "cell_type": "code",
   "execution_count": null,
   "metadata": {},
   "outputs": [],
   "source": []
  },
  {
   "cell_type": "code",
   "execution_count": null,
   "metadata": {},
   "outputs": [],
   "source": []
  },
  {
   "cell_type": "code",
   "execution_count": 17,
   "metadata": {},
   "outputs": [
    {
     "ename": "RuntimeError",
     "evalue": "expand(torch.FloatTensor{[4, 8]}, size=[10]): the number of sizes provided (1) must be greater or equal to the number of dimensions in the tensor (2)",
     "output_type": "error",
     "traceback": [
      "\u001b[0;31m----------------------------------------------\u001b[0m",
      "\u001b[0;31mRuntimeError\u001b[0m Traceback (most recent call last)",
      "\u001b[0;32m<ipython-input-17-327760750d76>\u001b[0m in \u001b[0;36m<module>\u001b[0;34m\u001b[0m\n\u001b[1;32m      1\u001b[0m \u001b[0mx\u001b[0m \u001b[0;34m=\u001b[0m \u001b[0mtorch\u001b[0m\u001b[0;34m.\u001b[0m\u001b[0mrandn\u001b[0m\u001b[0;34m(\u001b[0m\u001b[0mC\u001b[0m\u001b[0;34m,\u001b[0m \u001b[0mN\u001b[0m\u001b[0;34m)\u001b[0m\u001b[0;34m\u001b[0m\u001b[0;34m\u001b[0m\u001b[0m\n\u001b[0;32m----> 2\u001b[0;31m \u001b[0mx\u001b[0m\u001b[0;34m.\u001b[0m\u001b[0mexpand\u001b[0m\u001b[0;34m(\u001b[0m\u001b[0mB\u001b[0m\u001b[0;34m)\u001b[0m\u001b[0;34m.\u001b[0m\u001b[0mshape\u001b[0m\u001b[0;34m\u001b[0m\u001b[0;34m\u001b[0m\u001b[0m\n\u001b[0m",
      "\u001b[0;31mRuntimeError\u001b[0m: expand(torch.FloatTensor{[4, 8]}, size=[10]): the number of sizes provided (1) must be greater or equal to the number of dimensions in the tensor (2)"
     ]
    }
   ],
   "source": [
    "x = torch.randn(C, N)\n",
    "x.expand(B).shape"
   ]
  },
  {
   "cell_type": "code",
   "execution_count": 10,
   "metadata": {},
   "outputs": [
    {
     "data": {
      "text/plain": [
       "torch.Size([10, 4, 8])"
      ]
     },
     "execution_count": 10,
     "metadata": {},
     "output_type": "execute_result"
    }
   ],
   "source": [
    "x = torch.randn(B,C,N)\n",
    "x.shape"
   ]
  },
  {
   "cell_type": "code",
   "execution_count": 12,
   "metadata": {},
   "outputs": [],
   "source": [
    "n = nn.Softmax(dim=-1)"
   ]
  },
  {
   "cell_type": "code",
   "execution_count": 13,
   "metadata": {},
   "outputs": [
    {
     "data": {
      "text/plain": [
       "torch.Size([10, 4, 8])"
      ]
     },
     "execution_count": 13,
     "metadata": {},
     "output_type": "execute_result"
    }
   ],
   "source": [
    "y = n(x)\n",
    "y.shape"
   ]
  },
  {
   "cell_type": "code",
   "execution_count": 14,
   "metadata": {},
   "outputs": [
    {
     "data": {
      "text/plain": [
       "tensor([[1.0000, 1.0000, 1.0000, 1.0000],\n",
       "        [1.0000, 1.0000, 1.0000, 1.0000],\n",
       "        [1.0000, 1.0000, 1.0000, 1.0000],\n",
       "        [1.0000, 1.0000, 1.0000, 1.0000],\n",
       "        [1.0000, 1.0000, 1.0000, 1.0000],\n",
       "        [1.0000, 1.0000, 1.0000, 1.0000],\n",
       "        [1.0000, 1.0000, 1.0000, 1.0000],\n",
       "        [1.0000, 1.0000, 1.0000, 1.0000],\n",
       "        [1.0000, 1.0000, 1.0000, 1.0000],\n",
       "        [1.0000, 1.0000, 1.0000, 1.0000]])"
      ]
     },
     "execution_count": 14,
     "metadata": {},
     "output_type": "execute_result"
    }
   ],
   "source": [
    "y.view(B,C,-1).sum(-1)"
   ]
  },
  {
   "cell_type": "code",
   "execution_count": null,
   "metadata": {},
   "outputs": [],
   "source": []
  },
  {
   "cell_type": "code",
   "execution_count": 2,
   "metadata": {},
   "outputs": [
    {
     "data": {
      "text/plain": [
       "{{'_ipython_canary_method_should_not_exist_':{{}}}}"
      ]
     },
     "execution_count": 2,
     "metadata": {},
     "output_type": "execute_result"
    }
   ],
   "source": [
    "C = trn.get_config()\n",
    "C"
   ]
  },
  {
   "cell_type": "code",
   "execution_count": 3,
   "metadata": {},
   "outputs": [
    {
     "data": {
      "text/plain": [
       "{{'_ipython_canary_method_should_not_exist_':{{}}, 'l':t[{{}}, {{}}]}}"
      ]
     },
     "execution_count": 3,
     "metadata": {},
     "output_type": "execute_result"
    }
   ],
   "source": [
    "C.l = [trn.get_config(), trn.get_config()]\n",
    "C"
   ]
  },
  {
   "cell_type": "code",
   "execution_count": 4,
   "metadata": {},
   "outputs": [],
   "source": [
    "C['l.0.a.b.1.c'] = 10"
   ]
  },
  {
   "cell_type": "code",
   "execution_count": 5,
   "metadata": {},
   "outputs": [
    {
     "data": {
      "text/plain": [
       "True"
      ]
     },
     "execution_count": 5,
     "metadata": {},
     "output_type": "execute_result"
    }
   ],
   "source": [
    "'l.0.a.b' in C"
   ]
  },
  {
   "cell_type": "code",
   "execution_count": 6,
   "metadata": {},
   "outputs": [
    {
     "data": {
      "text/plain": [
       "foundation.train.config.ConfigList"
      ]
     },
     "execution_count": 6,
     "metadata": {},
     "output_type": "execute_result"
    }
   ],
   "source": [
    "type(C.l)"
   ]
  },
  {
   "cell_type": "code",
   "execution_count": 7,
   "metadata": {},
   "outputs": [
    {
     "data": {
      "text/plain": [
       "{{'b':{{'1':{{'c':10}}}}, '_ipython_canary_method_should_not_exist_':{{}}}}"
      ]
     },
     "execution_count": 7,
     "metadata": {},
     "output_type": "execute_result"
    }
   ],
   "source": [
    "C['l.0.a']"
   ]
  },
  {
   "cell_type": "code",
   "execution_count": 8,
   "metadata": {},
   "outputs": [
    {
     "data": {
      "text/plain": [
       "True"
      ]
     },
     "execution_count": 8,
     "metadata": {},
     "output_type": "execute_result"
    }
   ],
   "source": [
    "'l.0' in C"
   ]
  },
  {
   "cell_type": "code",
   "execution_count": 9,
   "metadata": {},
   "outputs": [
    {
     "data": {
      "text/plain": [
       "{{'_ipython_canary_method_should_not_exist_':{{}}, 'l':t[{{'a':{{'b':{{'1':{{'c':10}}}}, '_ipython_canary_method_should_not_exist_':{{}}}}}}, {{}}]}}"
      ]
     },
     "execution_count": 9,
     "metadata": {},
     "output_type": "execute_result"
    }
   ],
   "source": [
    "C"
   ]
  },
  {
   "cell_type": "code",
   "execution_count": 10,
   "metadata": {},
   "outputs": [
    {
     "name": "stdout",
     "output_type": "stream",
     "text": [
      "  0 (type=dict): \n",
      "    (a) (type=dict): \n",
      "      (b) (type=dict): \n",
      "        (1) (type=dict): \n",
      "        (c): 10\n",
      "      (_ipython_canary_method_should_not_exist_) (type=dict): \n"
     ]
    },
    {
     "data": {
      "text/plain": [
       "{'a': {'b': {'1': {'c': 10}}, '_ipython_canary_method_should_not_exist_': {}}}"
      ]
     },
     "execution_count": 10,
     "metadata": {},
     "output_type": "execute_result"
    }
   ],
   "source": [
    "C.pull('l.0')"
   ]
  },
  {
   "cell_type": "code",
   "execution_count": 12,
   "metadata": {},
   "outputs": [
    {
     "name": "stdout",
     "output_type": "stream",
     "text": [
      "  0 (type=dict): \n",
      "    (a) (type=dict): \n",
      "      (b) (type=dict): \n",
      "        (1) (type=dict): \n",
      "        (c): 10\n",
      "      (_ipython_canary_method_should_not_exist_) (type=dict): \n"
     ]
    },
    {
     "data": {
      "text/plain": [
       "{'a': {'b': {'1': {'c': 10}}, '_ipython_canary_method_should_not_exist_': {}}}"
      ]
     },
     "execution_count": 12,
     "metadata": {},
     "output_type": "execute_result"
    }
   ],
   "source": [
    "C.l.pull('0')"
   ]
  },
  {
   "cell_type": "code",
   "execution_count": 11,
   "metadata": {},
   "outputs": [
    {
     "name": "stdout",
     "output_type": "stream",
     "text": [
      "  l (type=list): \n",
      "    [0] (type=dict): \n",
      "      (a) (type=dict): \n",
      "        (b) (type=dict): \n",
      "          (1) (type=dict): \n",
      "          (c): 10\n",
      "        (_ipython_canary_method_should_not_exist_) (type=dict): \n",
      "    [1] (type=dict): \n"
     ]
    },
    {
     "data": {
      "text/plain": [
       "({'a': {'b': {'1': {'c': 10}},\n",
       "   '_ipython_canary_method_should_not_exist_': {}}},\n",
       " {})"
      ]
     },
     "execution_count": 11,
     "metadata": {},
     "output_type": "execute_result"
    }
   ],
   "source": [
    "C.pull('l')"
   ]
  },
  {
   "cell_type": "code",
   "execution_count": 34,
   "metadata": {},
   "outputs": [
    {
     "data": {
      "text/plain": [
       "{{'1':{{'c':10}}, '_ipython_canary_method_should_not_exist_':{{}}}}"
      ]
     },
     "execution_count": 34,
     "metadata": {},
     "output_type": "execute_result"
    }
   ],
   "source": [
    "C['l.0.a.b']"
   ]
  },
  {
   "cell_type": "code",
   "execution_count": null,
   "metadata": {},
   "outputs": [],
   "source": []
  },
  {
   "cell_type": "code",
   "execution_count": null,
   "metadata": {},
   "outputs": [],
   "source": []
  },
  {
   "cell_type": "code",
   "execution_count": 16,
   "metadata": {},
   "outputs": [],
   "source": [
    "x = torch.randn(10,12)"
   ]
  },
  {
   "cell_type": "code",
   "execution_count": 24,
   "metadata": {},
   "outputs": [
    {
     "data": {
      "text/plain": [
       "[torch.Size([10, 3]),\n",
       " torch.Size([10, 3]),\n",
       " torch.Size([10, 3]),\n",
       " torch.Size([10, 3])]"
      ]
     },
     "execution_count": 24,
     "metadata": {},
     "output_type": "execute_result"
    }
   ],
   "source": [
    "ls = x.split([3,3,3,3], dim=1)\n",
    "[l.shape for l in ls]"
   ]
  },
  {
   "cell_type": "code",
   "execution_count": null,
   "metadata": {},
   "outputs": [],
   "source": []
  },
  {
   "cell_type": "code",
   "execution_count": 6,
   "metadata": {},
   "outputs": [],
   "source": [
    "C.update()"
   ]
  },
  {
   "cell_type": "code",
   "execution_count": 7,
   "metadata": {},
   "outputs": [
    {
     "data": {
      "text/plain": [
       "{{'c':10, '_ipython_canary_method_should_not_exist_':{{}}}}"
      ]
     },
     "execution_count": 7,
     "metadata": {},
     "output_type": "execute_result"
    }
   ],
   "source": [
    "c = C['l.0.a.b.1']\n",
    "c"
   ]
  },
  {
   "cell_type": "code",
   "execution_count": 9,
   "metadata": {},
   "outputs": [
    {
     "name": "stdout",
     "output_type": "stream",
     "text": [
      "l: [{{'a':{{'b':{{'1':{{'c':10, '_ipython_canary_method_should_not_exist_':{{}}}}}}}}}}, {{}}] (in parent)\n"
     ]
    },
    {
     "data": {
      "text/plain": [
       "({{'a':{{'b':{{'1':{{'c':10, '_ipython_canary_method_should_not_exist_':{{}}}}}}}}}},\n",
       " {{}})"
      ]
     },
     "execution_count": 9,
     "metadata": {},
     "output_type": "execute_result"
    }
   ],
   "source": [
    "c.pull('l')"
   ]
  },
  {
   "cell_type": "code",
   "execution_count": 18,
   "metadata": {},
   "outputs": [
    {
     "data": {
      "text/plain": [
       "[1, 2, 1, 2]"
      ]
     },
     "execution_count": 18,
     "metadata": {},
     "output_type": "execute_result"
    }
   ],
   "source": [
    "\n",
    "x[2:] = [1,2]\n",
    "x"
   ]
  },
  {
   "cell_type": "code",
   "execution_count": null,
   "metadata": {},
   "outputs": [],
   "source": []
  },
  {
   "cell_type": "code",
   "execution_count": null,
   "metadata": {},
   "outputs": [],
   "source": []
  },
  {
   "cell_type": "code",
   "execution_count": 4,
   "metadata": {},
   "outputs": [],
   "source": [
    "B, N, D, M = 10, 8, 6, 2"
   ]
  },
  {
   "cell_type": "code",
   "execution_count": 5,
   "metadata": {},
   "outputs": [
    {
     "data": {
      "text/plain": [
       "torch.Size([10, 6, 8, 8])"
      ]
     },
     "execution_count": 5,
     "metadata": {},
     "output_type": "execute_result"
    }
   ],
   "source": [
    "x = torch.randn(B, D, N, N)\n",
    "x.shape"
   ]
  },
  {
   "cell_type": "code",
   "execution_count": 7,
   "metadata": {},
   "outputs": [],
   "source": [
    "conv = nn.Unfold(2)"
   ]
  },
  {
   "cell_type": "code",
   "execution_count": 8,
   "metadata": {},
   "outputs": [
    {
     "data": {
      "text/plain": [
       "torch.Size([10, 24, 49])"
      ]
     },
     "execution_count": 8,
     "metadata": {},
     "output_type": "execute_result"
    }
   ],
   "source": [
    "conv(x).shape"
   ]
  },
  {
   "cell_type": "code",
   "execution_count": 26,
   "metadata": {},
   "outputs": [],
   "source": [
    "B, N, D, M = 10, 8, 6, 2"
   ]
  },
  {
   "cell_type": "code",
   "execution_count": 27,
   "metadata": {},
   "outputs": [],
   "source": [
    "A = torch.randn(B,D)\n",
    "S = torch.randn(N,D)"
   ]
  },
  {
   "cell_type": "code",
   "execution_count": 34,
   "metadata": {},
   "outputs": [
    {
     "data": {
      "text/plain": [
       "torch.Size([10, 8])"
      ]
     },
     "execution_count": 34,
     "metadata": {},
     "output_type": "execute_result"
    }
   ],
   "source": [
    "out = F.cosine_similarity(A.unsqueeze(1), S.unsqueeze(0), dim=-1)\n",
    "out.shape"
   ]
  },
  {
   "cell_type": "code",
   "execution_count": 35,
   "metadata": {},
   "outputs": [
    {
     "data": {
      "text/plain": [
       "tensor([[ 0.3176,  0.0936, -0.1476, -0.0195,  0.3700, -0.3900,  0.3549,  0.2018],\n",
       "        [-0.0801,  0.5519,  0.5747, -0.3497,  0.1317,  0.6117, -0.3976, -0.2558],\n",
       "        [-0.2931, -0.1262, -0.2615,  0.5228, -0.5873, -0.0732,  0.0640,  0.1640],\n",
       "        [-0.2877, -0.7237, -0.9057, -0.5739, -0.2735, -0.0863, -0.1532,  0.3962],\n",
       "        [-0.2767, -0.2360,  0.3426, -0.4350,  0.3134,  0.3668, -0.5839, -0.5496],\n",
       "        [-0.3419,  0.2782, -0.1281, -0.1999, -0.8643,  0.4912, -0.6784,  0.0025],\n",
       "        [-0.2083, -0.6270, -0.5396,  0.2619, -0.0166, -0.5204,  0.1208,  0.0716],\n",
       "        [-0.3484,  0.2230,  0.6365,  0.0951,  0.1327,  0.6528, -0.0580, -0.2025],\n",
       "        [ 0.1961, -0.3887, -0.2771,  0.2593,  0.1913, -0.7912, -0.0784, -0.3118],\n",
       "        [-0.2186,  0.3331,  0.6389,  0.3429,  0.5625,  0.3629,  0.4653,  0.0203]])"
      ]
     },
     "execution_count": 35,
     "metadata": {},
     "output_type": "execute_result"
    }
   ],
   "source": [
    "out"
   ]
  },
  {
   "cell_type": "code",
   "execution_count": 41,
   "metadata": {},
   "outputs": [
    {
     "data": {
      "text/plain": [
       "tensor([[-0.3484, -0.7237, -0.9057, -0.5739, -0.8643, -0.7912, -0.6784, -0.5496],\n",
       "        [-0.3419, -0.6270, -0.5396, -0.4350, -0.5873, -0.5204, -0.5839, -0.3118],\n",
       "        [-0.2931, -0.3887, -0.2771, -0.3497, -0.2735, -0.3900, -0.3976, -0.2558],\n",
       "        [-0.2877, -0.2360, -0.2615, -0.1999, -0.0166, -0.0863, -0.1532, -0.2025],\n",
       "        [-0.2767, -0.1262, -0.1476, -0.0195,  0.1317, -0.0732, -0.0784,  0.0025],\n",
       "        [-0.2186,  0.0936, -0.1281,  0.0951,  0.1327,  0.3629, -0.0580,  0.0203],\n",
       "        [-0.2083,  0.2230,  0.3426,  0.2593,  0.1913,  0.3668,  0.0640,  0.0716],\n",
       "        [-0.0801,  0.2782,  0.5747,  0.2619,  0.3134,  0.4912,  0.1208,  0.1640],\n",
       "        [ 0.1961,  0.3331,  0.6365,  0.3429,  0.3700,  0.6117,  0.3549,  0.2018],\n",
       "        [ 0.3176,  0.5519,  0.6389,  0.5228,  0.5625,  0.6528,  0.4653,  0.3962]])"
      ]
     },
     "execution_count": 41,
     "metadata": {},
     "output_type": "execute_result"
    }
   ],
   "source": [
    "out.sort(0)[0]"
   ]
  },
  {
   "cell_type": "code",
   "execution_count": null,
   "metadata": {},
   "outputs": [],
   "source": []
  },
  {
   "cell_type": "code",
   "execution_count": null,
   "metadata": {},
   "outputs": [],
   "source": []
  },
  {
   "cell_type": "code",
   "execution_count": 12,
   "metadata": {},
   "outputs": [
    {
     "data": {
      "text/plain": [
       "array([-0.11903327,  1.10899404, -1.12261048, -0.01919107])"
      ]
     },
     "execution_count": 12,
     "metadata": {},
     "output_type": "execute_result"
    }
   ],
   "source": [
    "x = np.random.randn(4)\n",
    "x"
   ]
  },
  {
   "cell_type": "code",
   "execution_count": 3,
   "metadata": {},
   "outputs": [
    {
     "data": {
      "text/plain": [
       "b\"\\x15\\xba\\xa0\\x0b\\xd5\\xc0\\xa6\\xbf\\xb4T'\\xebxM\\xf5?\\xd7\\x91\\xfeE\\xc66\\xd8?\\xbew\\xa2;O\\x9c\\x89\\xbf\""
      ]
     },
     "execution_count": 3,
     "metadata": {},
     "output_type": "execute_result"
    }
   ],
   "source": [
    "b = x.tobytes()\n",
    "b"
   ]
  },
  {
   "cell_type": "code",
   "execution_count": 15,
   "metadata": {},
   "outputs": [
    {
     "data": {
      "text/plain": [
       "(-0.11903326579480775+1.1089940427676077j)"
      ]
     },
     "execution_count": 15,
     "metadata": {},
     "output_type": "execute_result"
    }
   ],
   "source": [
    "c = complex(x[0], x[1])\n",
    "c"
   ]
  },
  {
   "cell_type": "code",
   "execution_count": 17,
   "metadata": {},
   "outputs": [
    {
     "data": {
      "text/plain": [
       "True"
      ]
     },
     "execution_count": 17,
     "metadata": {},
     "output_type": "execute_result"
    }
   ],
   "source": [
    "complex(str(c)) == c"
   ]
  },
  {
   "cell_type": "code",
   "execution_count": 19,
   "metadata": {},
   "outputs": [
    {
     "data": {
      "text/plain": [
       "(-0.11903326579480775, 1.1089940427676077)"
      ]
     },
     "execution_count": 19,
     "metadata": {},
     "output_type": "execute_result"
    }
   ],
   "source": [
    "c.real, c.imag"
   ]
  },
  {
   "cell_type": "code",
   "execution_count": 22,
   "metadata": {},
   "outputs": [],
   "source": [
    "class A:\n",
    "    pass"
   ]
  },
  {
   "cell_type": "code",
   "execution_count": 5,
   "metadata": {},
   "outputs": [
    {
     "data": {
      "text/plain": [
       "\"\\x15º\\xa0\\x0bÕÀ¦¿´T'ëxMõ?×\\x91þEÆ6Ø?¾w¢;O\\x9c\\x89¿\""
      ]
     },
     "execution_count": 5,
     "metadata": {},
     "output_type": "execute_result"
    }
   ],
   "source": [
    "s = b.decode('latin1')\n",
    "s"
   ]
  },
  {
   "cell_type": "code",
   "execution_count": 8,
   "metadata": {},
   "outputs": [
    {
     "data": {
      "text/plain": [
       "'\"\\\\u0015\\\\u00ba\\\\u00a0\\\\u000b\\\\u00d5\\\\u00c0\\\\u00a6\\\\u00bf\\\\u00b4T\\'\\\\u00ebxM\\\\u00f5?\\\\u00d7\\\\u0091\\\\u00feE\\\\u00c66\\\\u00d8?\\\\u00bew\\\\u00a2;O\\\\u009c\\\\u0089\\\\u00bf\"'"
      ]
     },
     "execution_count": 8,
     "metadata": {},
     "output_type": "execute_result"
    }
   ],
   "source": [
    "j = json.dumps(s)\n",
    "j"
   ]
  },
  {
   "cell_type": "code",
   "execution_count": 9,
   "metadata": {},
   "outputs": [
    {
     "data": {
      "text/plain": [
       "\"\\x15º\\xa0\\x0bÕÀ¦¿´T'ëxMõ?×\\x91þEÆ6Ø?¾w¢;O\\x9c\\x89¿\""
      ]
     },
     "execution_count": 9,
     "metadata": {},
     "output_type": "execute_result"
    }
   ],
   "source": [
    "js = json.loads(j)\n",
    "js"
   ]
  },
  {
   "cell_type": "code",
   "execution_count": 10,
   "metadata": {},
   "outputs": [
    {
     "data": {
      "text/plain": [
       "b\"\\x15\\xba\\xa0\\x0b\\xd5\\xc0\\xa6\\xbf\\xb4T'\\xebxM\\xf5?\\xd7\\x91\\xfeE\\xc66\\xd8?\\xbew\\xa2;O\\x9c\\x89\\xbf\""
      ]
     },
     "execution_count": 10,
     "metadata": {},
     "output_type": "execute_result"
    }
   ],
   "source": [
    "bb = js.encode('latin1')\n",
    "bb"
   ]
  },
  {
   "cell_type": "code",
   "execution_count": 11,
   "metadata": {},
   "outputs": [
    {
     "data": {
      "text/plain": [
       "True"
      ]
     },
     "execution_count": 11,
     "metadata": {},
     "output_type": "execute_result"
    }
   ],
   "source": [
    "b == bb"
   ]
  },
  {
   "cell_type": "code",
   "execution_count": null,
   "metadata": {},
   "outputs": [],
   "source": []
  },
  {
   "cell_type": "code",
   "execution_count": 44,
   "metadata": {},
   "outputs": [],
   "source": [
    "q = torch.randn(8,6)\n",
    "steps = 10\n",
    "bounds = (-2,2)\n",
    "bounds = None"
   ]
  },
  {
   "cell_type": "code",
   "execution_count": 66,
   "metadata": {},
   "outputs": [],
   "source": [
    "Q = q.clone()\n",
    "\n",
    "N, D = Q.shape\n",
    "S = steps\n",
    "\n",
    "dH, dW = util.calc_tiling(D)\n",
    "\n",
    "# bounds = (-2,2)\n",
    "\n",
    "save_inds = [0, 1, 2, 3]\n",
    "\n",
    "saved_walks = []\n",
    "\n",
    "I = torch.eye(D).view(1,1,D,D)\n",
    "\n",
    "deltas = torch.linspace(0,1,steps=S)\n",
    "deltas = torch.stack([deltas]*D) # DxS\n",
    "\n",
    "mn, mx = (Q.min(0)[0].view(D,1), Q.max(0)[0].view(D,1)) if bounds is None else torch.tensor(bounds).view(2,1,1).expand(2, D,1)\n",
    "# print(mn.shape, mx.shape)\n",
    "\n",
    "deltas *= mx - mn\n",
    "deltas += mn\n",
    "deltas = deltas.t().unsqueeze(0).expand(N,S,D).unsqueeze(-1)\n",
    "\n",
    "Q = Q.unsqueeze(1).unsqueeze(-1).expand(N,S,D,D)\n",
    "\n",
    "vecs = Q*(1-I) + deltas*I # NxSxDxD\n",
    "vecs = vecs.permute(0,1,3,2)\n"
   ]
  },
  {
   "cell_type": "code",
   "execution_count": 67,
   "metadata": {},
   "outputs": [
    {
     "data": {
      "text/plain": [
       "torch.Size([8, 10, 6, 6])"
      ]
     },
     "execution_count": 67,
     "metadata": {},
     "output_type": "execute_result"
    }
   ],
   "source": [
    "vecs.shape"
   ]
  },
  {
   "cell_type": "code",
   "execution_count": 69,
   "metadata": {},
   "outputs": [
    {
     "data": {
      "text/plain": [
       "torch.Size([8, 10, 6])"
      ]
     },
     "execution_count": 69,
     "metadata": {},
     "output_type": "execute_result"
    }
   ],
   "source": [
    "D = torch.diagonal(vecs, dim1=2, dim2=3)\n",
    "D.shape"
   ]
  },
  {
   "cell_type": "code",
   "execution_count": 70,
   "metadata": {},
   "outputs": [
    {
     "data": {
      "text/plain": [
       "tensor([-1.3966, -0.8228, -0.8089, -2.5588, -1.9042, -2.5482])"
      ]
     },
     "execution_count": 70,
     "metadata": {},
     "output_type": "execute_result"
    }
   ],
   "source": [
    "D[0,0]"
   ]
  },
  {
   "cell_type": "code",
   "execution_count": 63,
   "metadata": {},
   "outputs": [
    {
     "data": {
      "text/plain": [
       "tensor([-1.3966, -0.0268,  0.3520,  1.5809,  0.1175, -0.4542])"
      ]
     },
     "execution_count": 63,
     "metadata": {},
     "output_type": "execute_result"
    }
   ],
   "source": [
    "b = 2\n",
    "\n",
    "q[b]"
   ]
  },
  {
   "cell_type": "code",
   "execution_count": 65,
   "metadata": {},
   "outputs": [
    {
     "data": {
      "text/plain": [
       "tensor([[-1.3966, -0.8228,  0.3520,  1.5809,  0.1175, -0.4542],\n",
       "        [-1.3966, -0.5782,  0.3520,  1.5809,  0.1175, -0.4542],\n",
       "        [-1.3966, -0.3337,  0.3520,  1.5809,  0.1175, -0.4542],\n",
       "        [-1.3966, -0.0891,  0.3520,  1.5809,  0.1175, -0.4542],\n",
       "        [-1.3966,  0.1555,  0.3520,  1.5809,  0.1175, -0.4542],\n",
       "        [-1.3966,  0.4000,  0.3520,  1.5809,  0.1175, -0.4542],\n",
       "        [-1.3966,  0.6446,  0.3520,  1.5809,  0.1175, -0.4542],\n",
       "        [-1.3966,  0.8892,  0.3520,  1.5809,  0.1175, -0.4542],\n",
       "        [-1.3966,  1.1338,  0.3520,  1.5809,  0.1175, -0.4542],\n",
       "        [-1.3966,  1.3783,  0.3520,  1.5809,  0.1175, -0.4542]])"
      ]
     },
     "execution_count": 65,
     "metadata": {},
     "output_type": "execute_result"
    }
   ],
   "source": [
    "vecs[b,:,1]"
   ]
  },
  {
   "cell_type": "code",
   "execution_count": null,
   "metadata": {},
   "outputs": [],
   "source": []
  },
  {
   "cell_type": "code",
   "execution_count": null,
   "metadata": {},
   "outputs": [],
   "source": []
  },
  {
   "cell_type": "code",
   "execution_count": null,
   "metadata": {},
   "outputs": [],
   "source": []
  },
  {
   "cell_type": "code",
   "execution_count": 6,
   "metadata": {},
   "outputs": [
    {
     "data": {
      "text/plain": [
       "tensor([[10, 26, 75, 85, 85, 95, 59, 94],\n",
       "        [58, 60, 42, 15, 83,  0, 39, 23],\n",
       "        [38, 98,  8, 74, 74,  9, 96, 97],\n",
       "        [ 7, 54, 31, 83, 63, 83, 91, 63],\n",
       "        [43, 34, 42, 28, 39, 38, 17,  2],\n",
       "        [56, 76, 46, 78,  0,  4, 23, 74],\n",
       "        [24, 92, 35, 74, 93, 19, 30, 87],\n",
       "        [35, 47, 67, 35, 30, 68, 38, 23]])"
      ]
     },
     "execution_count": 6,
     "metadata": {},
     "output_type": "execute_result"
    }
   ],
   "source": [
    "x = torch.randint(100, size=(8,8))\n",
    "x"
   ]
  },
  {
   "cell_type": "code",
   "execution_count": 8,
   "metadata": {},
   "outputs": [
    {
     "data": {
      "text/plain": [
       "tensor([[10, 26, 59, 75, 85, 85, 94, 95],\n",
       "        [ 0, 15, 23, 39, 42, 58, 60, 83],\n",
       "        [ 8,  9, 38, 74, 74, 96, 97, 98],\n",
       "        [ 7, 31, 54, 63, 63, 83, 83, 91],\n",
       "        [ 2, 17, 28, 34, 38, 39, 42, 43],\n",
       "        [ 0,  4, 23, 46, 56, 74, 76, 78],\n",
       "        [19, 24, 30, 35, 74, 87, 92, 93],\n",
       "        [23, 30, 35, 35, 38, 47, 67, 68]])"
      ]
     },
     "execution_count": 8,
     "metadata": {},
     "output_type": "execute_result"
    }
   ],
   "source": [
    "x.sort(-1)[0]"
   ]
  },
  {
   "cell_type": "code",
   "execution_count": 5,
   "metadata": {},
   "outputs": [
    {
     "name": "stdout",
     "output_type": "stream",
     "text": [
      "Loading dataset: dSprites\n",
      "dataroot: /is/ei/fleeb/workspace/local_data\n",
      "label_type: None (by default)\n",
      "din: (1, 64, 64) (by default)\n",
      "dout: None (by default)\n",
      "filename: dsprites_ndarray_co1sh3sc6or40x32y32_64x64.npz (by default)\n",
      "Loading dSprites dataset from disk: /is/ei/fleeb/workspace/local_data/dsprites/dsprites_ndarray_co1sh3sc6or40x32y32_64x64.npz\n"
     ]
    },
    {
     "data": {
      "text/plain": [
       "737280"
      ]
     },
     "execution_count": 5,
     "metadata": {},
     "output_type": "execute_result"
    }
   ],
   "source": [
    "dataset = trn.get_dataset('dSprites')\n",
    "len(dataset)"
   ]
  },
  {
   "cell_type": "code",
   "execution_count": 4,
   "metadata": {},
   "outputs": [],
   "source": [
    "# sample = dataset[0]"
   ]
  },
  {
   "cell_type": "code",
   "execution_count": null,
   "metadata": {},
   "outputs": [],
   "source": []
  },
  {
   "cell_type": "code",
   "execution_count": null,
   "metadata": {},
   "outputs": [],
   "source": []
  },
  {
   "cell_type": "code",
   "execution_count": 2,
   "metadata": {},
   "outputs": [],
   "source": [
    "class Test(object):\n",
    "    def __init__(self, x='no'):\n",
    "        print('Test', x)\n",
    "        self.x = x"
   ]
  },
  {
   "cell_type": "code",
   "execution_count": 3,
   "metadata": {},
   "outputs": [],
   "source": [
    "class D(object):\n",
    "    def __new__(cls, x='A'):\n",
    "        print('new-D', x)\n",
    "        print(cls)\n",
    "        print(cls.__mro__)\n",
    "        if x[0] == 'A':\n",
    "            return super(Test, cls).__new__(Test)\n",
    "        \n",
    "    @classmethod\n",
    "    def _get_type(cls):\n",
    "        return cls"
   ]
  },
  {
   "cell_type": "code",
   "execution_count": 4,
   "metadata": {},
   "outputs": [],
   "source": [
    "class M(object):\n",
    "    def __init__(self, x='test'):\n",
    "        print('mod', x)\n",
    "        super().__init__(x='test2')\n",
    "        \n",
    "    "
   ]
  },
  {
   "cell_type": "code",
   "execution_count": 5,
   "metadata": {},
   "outputs": [],
   "source": [
    "C = type('C', (M,D), {})\n"
   ]
  },
  {
   "cell_type": "code",
   "execution_count": 6,
   "metadata": {},
   "outputs": [
    {
     "name": "stdout",
     "output_type": "stream",
     "text": [
      "new-D hmm\n",
      "<class '__main__.C'>\n",
      "(<class '__main__.C'>, <class '__main__.M'>, <class '__main__.D'>, <class 'object'>)\n"
     ]
    }
   ],
   "source": [
    "c = C('hmm')"
   ]
  },
  {
   "cell_type": "code",
   "execution_count": null,
   "metadata": {},
   "outputs": [],
   "source": []
  },
  {
   "cell_type": "code",
   "execution_count": null,
   "metadata": {},
   "outputs": [],
   "source": []
  },
  {
   "cell_type": "code",
   "execution_count": 7,
   "metadata": {},
   "outputs": [
    {
     "ename": "NameError",
     "evalue": "name 'A' is not defined",
     "output_type": "error",
     "traceback": [
      "\u001b[0;31m-----------------------------------------------\u001b[0m",
      "\u001b[0;31mNameError\u001b[0m     Traceback (most recent call last)",
      "\u001b[0;32m<ipython-input-7-bf1b53387e21>\u001b[0m in \u001b[0;36m<module>\u001b[0;34m\u001b[0m\n\u001b[0;32m----> 1\u001b[0;31m \u001b[0mA\u001b[0m\u001b[0;34m.\u001b[0m\u001b[0m__name__\u001b[0m\u001b[0;34m\u001b[0m\u001b[0;34m\u001b[0m\u001b[0m\n\u001b[0m",
      "\u001b[0;31mNameError\u001b[0m: name 'A' is not defined"
     ]
    }
   ],
   "source": [
    "A.__name__"
   ]
  },
  {
   "cell_type": "code",
   "execution_count": null,
   "metadata": {},
   "outputs": [],
   "source": [
    "A.__name__ = 'B'\n",
    "A.__name__"
   ]
  },
  {
   "cell_type": "code",
   "execution_count": null,
   "metadata": {},
   "outputs": [],
   "source": [
    "type(A())"
   ]
  },
  {
   "cell_type": "code",
   "execution_count": null,
   "metadata": {},
   "outputs": [],
   "source": [
    "A().__class__.__name__"
   ]
  },
  {
   "cell_type": "code",
   "execution_count": null,
   "metadata": {},
   "outputs": [],
   "source": []
  },
  {
   "cell_type": "code",
   "execution_count": null,
   "metadata": {},
   "outputs": [],
   "source": []
  },
  {
   "cell_type": "code",
   "execution_count": null,
   "metadata": {},
   "outputs": [],
   "source": []
  },
  {
   "cell_type": "code",
   "execution_count": null,
   "metadata": {},
   "outputs": [],
   "source": [
    "C = train.get_config()"
   ]
  },
  {
   "cell_type": "code",
   "execution_count": null,
   "metadata": {},
   "outputs": [],
   "source": [
    "C"
   ]
  },
  {
   "cell_type": "code",
   "execution_count": null,
   "metadata": {},
   "outputs": [],
   "source": [
    "C.a.b.c = 'wow'"
   ]
  },
  {
   "cell_type": "code",
   "execution_count": null,
   "metadata": {},
   "outputs": [],
   "source": [
    "C"
   ]
  },
  {
   "cell_type": "code",
   "execution_count": null,
   "metadata": {},
   "outputs": [],
   "source": [
    "C.begin()\n",
    "C.another_test = 'huh'\n",
    "C"
   ]
  },
  {
   "cell_type": "code",
   "execution_count": null,
   "metadata": {},
   "outputs": [],
   "source": [
    "C['how', 'does'] = 134\n",
    "C"
   ]
  },
  {
   "cell_type": "code",
   "execution_count": null,
   "metadata": {},
   "outputs": [],
   "source": [
    "C.abort()"
   ]
  },
  {
   "cell_type": "code",
   "execution_count": null,
   "metadata": {},
   "outputs": [],
   "source": [
    "C"
   ]
  },
  {
   "cell_type": "code",
   "execution_count": null,
   "metadata": {},
   "outputs": [],
   "source": []
  },
  {
   "cell_type": "code",
   "execution_count": null,
   "metadata": {},
   "outputs": [],
   "source": []
  },
  {
   "cell_type": "code",
   "execution_count": null,
   "metadata": {},
   "outputs": [],
   "source": [
    "\n",
    "len(A)"
   ]
  },
  {
   "cell_type": "code",
   "execution_count": null,
   "metadata": {},
   "outputs": [],
   "source": [
    "\n",
    "len(B)"
   ]
  },
  {
   "cell_type": "code",
   "execution_count": null,
   "metadata": {},
   "outputs": [],
   "source": []
  },
  {
   "cell_type": "code",
   "execution_count": null,
   "metadata": {},
   "outputs": [],
   "source": [
    "cream = 100000\n",
    "A = set(torch.randperm(500000).tolist()[:cream])\n",
    "B = set(torch.randperm(500000).tolist()[:cream])"
   ]
  },
  {
   "cell_type": "code",
   "execution_count": null,
   "metadata": {},
   "outputs": [],
   "source": [
    "len(A.intersection(B))"
   ]
  },
  {
   "cell_type": "code",
   "execution_count": null,
   "metadata": {},
   "outputs": [],
   "source": []
  },
  {
   "cell_type": "code",
   "execution_count": null,
   "metadata": {},
   "outputs": [],
   "source": []
  },
  {
   "cell_type": "code",
   "execution_count": null,
   "metadata": {},
   "outputs": [],
   "source": [
    "# import tqdm\n",
    "from time import sleep\n",
    "\n",
    "def transfer():\n",
    "    pbar = tqdm(range(1000), desc=\"Transfer progress\",)# ncols=100, bar_format='{l_bar}{bar}|')\n",
    "    for i in pbar:\n",
    "        sleep(np.random.rand()/50)\n",
    "        if np.random.rand() < 0.01:\n",
    "            interrupt(pbar)\n",
    "                # break\n",
    "\n",
    "def interrupt(pbar):\n",
    "    pbar.write(\"File transfer interrupted: {}\".format(np.random.randint(10)), end=\"\")\n",
    "\n",
    "transfer()"
   ]
  },
  {
   "cell_type": "code",
   "execution_count": null,
   "metadata": {},
   "outputs": [],
   "source": []
  },
  {
   "cell_type": "code",
   "execution_count": null,
   "metadata": {},
   "outputs": [],
   "source": []
  },
  {
   "cell_type": "code",
   "execution_count": null,
   "metadata": {},
   "outputs": [],
   "source": [
    "graph = {0:[1,2], 1:[3,4], 2:[4,6], 3:[7], 4:[5], 5:[], 6:[], 7:[]}"
   ]
  },
  {
   "cell_type": "code",
   "execution_count": null,
   "metadata": {},
   "outputs": [],
   "source": [
    "util.toposort(0,lambda x: graph[x], depth_first=True)"
   ]
  },
  {
   "cell_type": "code",
   "execution_count": null,
   "metadata": {},
   "outputs": [],
   "source": [
    "util.set_seed(0)"
   ]
  },
  {
   "cell_type": "code",
   "execution_count": null,
   "metadata": {},
   "outputs": [],
   "source": [
    "\n",
    "print(np.random.randint(10,size=2))\n",
    "print(util.subset(10,3))\n",
    "print(np.random.randint(10,size=2))"
   ]
  },
  {
   "cell_type": "code",
   "execution_count": null,
   "metadata": {},
   "outputs": [],
   "source": [
    "torch.arange(10)[util.subset(10,3,2)]"
   ]
  },
  {
   "cell_type": "code",
   "execution_count": null,
   "metadata": {},
   "outputs": [],
   "source": []
  },
  {
   "cell_type": "code",
   "execution_count": null,
   "metadata": {},
   "outputs": [],
   "source": [
    "N = 2"
   ]
  },
  {
   "cell_type": "code",
   "execution_count": null,
   "metadata": {},
   "outputs": [],
   "source": [
    "A = torch.randn(N)\n",
    "B = torch.randn(N)"
   ]
  },
  {
   "cell_type": "code",
   "execution_count": null,
   "metadata": {},
   "outputs": [],
   "source": [
    "print(A)\n",
    "print(B)"
   ]
  },
  {
   "cell_type": "code",
   "execution_count": null,
   "metadata": {},
   "outputs": [],
   "source": [
    "def MMD(p, q, C=None):\n",
    "\n",
    "    if C is None:\n",
    "        C = q.size(-1)\n",
    "\n",
    "    ps = util.lorentzian(p, C=C)\n",
    "    qs = util.lorentzian(q, C=C)\n",
    "    pq = util.lorentzian(p, q, C=C)\n",
    "\n",
    "    return ps.mean() + qs.mean() - pq.mean()"
   ]
  },
  {
   "cell_type": "code",
   "execution_count": null,
   "metadata": {},
   "outputs": [],
   "source": [
    "num = 10000\n",
    "failed = False\n",
    "for i in tqdm(range(num)):\n",
    "    A = torch.randn(N)\n",
    "    B = torch.randn(N)\n",
    "    a, b = A.unsqueeze(-1),B.unsqueeze(-1)\n",
    "    \n",
    "    d = MMD(a,b)\n",
    "    if d < 0:\n",
    "        print('Failed: {}'.format(i))\n",
    "        failed = True\n",
    "        break\n",
    "if not failed:\n",
    "    print('Success')"
   ]
  },
  {
   "cell_type": "code",
   "execution_count": null,
   "metadata": {},
   "outputs": [],
   "source": [
    "A, B"
   ]
  },
  {
   "cell_type": "code",
   "execution_count": null,
   "metadata": {},
   "outputs": [],
   "source": [
    "d"
   ]
  },
  {
   "cell_type": "code",
   "execution_count": null,
   "metadata": {},
   "outputs": [],
   "source": []
  },
  {
   "cell_type": "code",
   "execution_count": null,
   "metadata": {},
   "outputs": [],
   "source": [
    "a, b = A.unsqueeze(-1),B.unsqueeze(-1)"
   ]
  },
  {
   "cell_type": "code",
   "execution_count": null,
   "metadata": {},
   "outputs": [],
   "source": [
    "util.MMD(a,b)"
   ]
  },
  {
   "cell_type": "code",
   "execution_count": null,
   "metadata": {},
   "outputs": [],
   "source": [
    "aa = util.lorentzian(a, C=C)\n",
    "bb = util.lorentzian(b, C=C)\n",
    "ab = util.lorentzian(a, b, C=C)"
   ]
  },
  {
   "cell_type": "code",
   "execution_count": null,
   "metadata": {},
   "outputs": [],
   "source": [
    "aa, bb, ab"
   ]
  },
  {
   "cell_type": "code",
   "execution_count": null,
   "metadata": {},
   "outputs": [],
   "source": [
    "aa.mean(), bb.mean()"
   ]
  },
  {
   "cell_type": "code",
   "execution_count": null,
   "metadata": {},
   "outputs": [],
   "source": [
    "ab.mean()"
   ]
  },
  {
   "cell_type": "code",
   "execution_count": null,
   "metadata": {},
   "outputs": [],
   "source": []
  },
  {
   "cell_type": "code",
   "execution_count": null,
   "metadata": {},
   "outputs": [],
   "source": [
    "util.MMD(p, q)"
   ]
  },
  {
   "cell_type": "code",
   "execution_count": null,
   "metadata": {},
   "outputs": [],
   "source": [
    "C = 2"
   ]
  },
  {
   "cell_type": "code",
   "execution_count": null,
   "metadata": {},
   "outputs": [],
   "source": [
    "ps = util.lorentzian(p, C=C)\n",
    "qs = util.lorentzian(q, C=C)\n",
    "pq = util.lorentzian(p, q, C=C)"
   ]
  },
  {
   "cell_type": "code",
   "execution_count": null,
   "metadata": {},
   "outputs": [],
   "source": [
    "ps"
   ]
  },
  {
   "cell_type": "code",
   "execution_count": null,
   "metadata": {},
   "outputs": [],
   "source": [
    "qs"
   ]
  },
  {
   "cell_type": "code",
   "execution_count": null,
   "metadata": {},
   "outputs": [],
   "source": [
    "def pairwise_distance(ps, qs=None, p=2): # last dim is summed\n",
    "\n",
    "    if qs is None:\n",
    "        return F.pdist(ps, p=p)\n",
    "\n",
    "    ps, qs = ps.unsqueeze(-2), qs.unsqueeze(-3)\n",
    "    return (ps - qs).pow(p).sum(-1).pow(1/p)"
   ]
  },
  {
   "cell_type": "code",
   "execution_count": null,
   "metadata": {},
   "outputs": [],
   "source": [
    "def MMD(p, q, C=None):\n",
    "\n",
    "    if C is None:\n",
    "        C = q.size(-1)\n",
    "\n",
    "    ps = util.lorentzian(p, C=C)\n",
    "    qs = util.lorentzian(q, C=C)\n",
    "    pq = util.lorentzian(p, q, C=C)\n",
    "\n",
    "    return ps.view(-1).mean() + qs.view(-1).mean() - 2*pq.view(-1).mean()"
   ]
  },
  {
   "cell_type": "code",
   "execution_count": null,
   "metadata": {
    "scrolled": true
   },
   "outputs": [],
   "source": [
    "pairwise_distance(q, p)"
   ]
  },
  {
   "cell_type": "code",
   "execution_count": null,
   "metadata": {},
   "outputs": [],
   "source": [
    "pairwise_distance(p, q)"
   ]
  },
  {
   "cell_type": "code",
   "execution_count": null,
   "metadata": {},
   "outputs": [],
   "source": [
    "MMD(p, q)"
   ]
  },
  {
   "cell_type": "code",
   "execution_count": null,
   "metadata": {},
   "outputs": [],
   "source": [
    "ps"
   ]
  },
  {
   "cell_type": "code",
   "execution_count": null,
   "metadata": {},
   "outputs": [],
   "source": [
    "qs"
   ]
  },
  {
   "cell_type": "code",
   "execution_count": null,
   "metadata": {},
   "outputs": [],
   "source": [
    "pq.sum()/4"
   ]
  },
  {
   "cell_type": "code",
   "execution_count": null,
   "metadata": {},
   "outputs": [],
   "source": [
    "pq"
   ]
  },
  {
   "cell_type": "code",
   "execution_count": null,
   "metadata": {},
   "outputs": [],
   "source": []
  },
  {
   "cell_type": "code",
   "execution_count": null,
   "metadata": {},
   "outputs": [],
   "source": []
  },
  {
   "cell_type": "code",
   "execution_count": null,
   "metadata": {},
   "outputs": [],
   "source": [
    "M = nn.Sequential(nn.Linear(10,4), nn.ReLU())\n",
    "M"
   ]
  },
  {
   "cell_type": "code",
   "execution_count": null,
   "metadata": {},
   "outputs": [],
   "source": [
    "list(M)"
   ]
  },
  {
   "cell_type": "code",
   "execution_count": null,
   "metadata": {},
   "outputs": [],
   "source": []
  },
  {
   "cell_type": "code",
   "execution_count": null,
   "metadata": {},
   "outputs": [],
   "source": [
    "class T(object):\n",
    "    __name__ = 'A'\n",
    "    pass"
   ]
  },
  {
   "cell_type": "code",
   "execution_count": null,
   "metadata": {},
   "outputs": [],
   "source": [
    "T.__name__"
   ]
  },
  {
   "cell_type": "code",
   "execution_count": null,
   "metadata": {},
   "outputs": [],
   "source": [
    "t = T()\n",
    "t.__name__"
   ]
  },
  {
   "cell_type": "code",
   "execution_count": null,
   "metadata": {},
   "outputs": [],
   "source": [
    "type(t).__name__"
   ]
  },
  {
   "cell_type": "code",
   "execution_count": null,
   "metadata": {},
   "outputs": [],
   "source": [
    "t.__class__.__name__"
   ]
  },
  {
   "cell_type": "code",
   "execution_count": null,
   "metadata": {},
   "outputs": [],
   "source": []
  },
  {
   "cell_type": "code",
   "execution_count": null,
   "metadata": {},
   "outputs": [],
   "source": [
    "a = util.NS()\n",
    "a.b.c.d = 'hello'\n",
    "print(repr(a)) # --> NS('b':NS('c':NS('d':'hello')))"
   ]
  },
  {
   "cell_type": "code",
   "execution_count": null,
   "metadata": {},
   "outputs": [],
   "source": [
    "a.todict()"
   ]
  },
  {
   "cell_type": "code",
   "execution_count": null,
   "metadata": {},
   "outputs": [],
   "source": [
    "nn.ConvTranspose2d"
   ]
  },
  {
   "cell_type": "code",
   "execution_count": null,
   "metadata": {},
   "outputs": [],
   "source": [
    "conv = nn.Conv2d(8, 8, 2, padding=1)\n",
    "conv1 = nn.Conv2d(8, 8, 1)\n",
    "conv2 = nn.Conv2d(8, 8, 2, stride=2)\n",
    "conv"
   ]
  },
  {
   "cell_type": "code",
   "execution_count": null,
   "metadata": {},
   "outputs": [],
   "source": [
    "X = torch.randn(3, 8, 16, 16)"
   ]
  },
  {
   "cell_type": "code",
   "execution_count": null,
   "metadata": {},
   "outputs": [],
   "source": [
    "I = X\n",
    "I = conv(I)\n",
    "I = conv1(I)\n",
    "I = conv2(I)\n",
    "Y = I\n",
    "Y.shape"
   ]
  },
  {
   "cell_type": "code",
   "execution_count": null,
   "metadata": {},
   "outputs": [],
   "source": [
    "X2 = F.interpolate(X, size=(32,32), mode='bilinear')\n",
    "X2.shape"
   ]
  },
  {
   "cell_type": "code",
   "execution_count": null,
   "metadata": {},
   "outputs": [],
   "source": []
  },
  {
   "cell_type": "code",
   "execution_count": null,
   "metadata": {},
   "outputs": [],
   "source": []
  },
  {
   "cell_type": "code",
   "execution_count": null,
   "metadata": {},
   "outputs": [],
   "source": [
    "conv = nn.ConvTranspose2d(8, 8, 2, stride=2, padding=0, output_padding=0)\n",
    "conv1 = nn.Conv2d(8, 8, 1)\n",
    "conv2 = nn.Conv2d(8, 8, 2, stride=1, padding=0)\n",
    "conv"
   ]
  },
  {
   "cell_type": "code",
   "execution_count": null,
   "metadata": {},
   "outputs": [],
   "source": [
    "X = torch.randn(3, 8, 16, 16)"
   ]
  },
  {
   "cell_type": "code",
   "execution_count": null,
   "metadata": {},
   "outputs": [],
   "source": [
    "I = X\n",
    "I = conv(I)\n",
    "# I = conv1(I)\n",
    "# I = conv2(I)\n",
    "Y = I\n",
    "Y.shape"
   ]
  },
  {
   "cell_type": "code",
   "execution_count": null,
   "metadata": {},
   "outputs": [],
   "source": [
    "Y[0,0,-3:,-3:]"
   ]
  },
  {
   "cell_type": "code",
   "execution_count": null,
   "metadata": {},
   "outputs": [],
   "source": [
    "path = os.path.join(os.environ['FOUNDATION_DATA_DIR'], '3dshapes', '3dshapes.h5')\n",
    "path"
   ]
  },
  {
   "cell_type": "code",
   "execution_count": null,
   "metadata": {},
   "outputs": [],
   "source": [
    "dataset = hf.File(path, 'r')\n",
    "print(dataset.keys())\n",
    "images = dataset['images']  # array shape [480000,64,64,3], uint8 in range(256)\n",
    "labels = dataset['labels']  # array shape [480000,6], float64\n",
    "image_shape = images.shape[1:]  # [64,64,3]\n",
    "label_shape = labels.shape[1:]  # [6]\n",
    "n_samples = labels.shape[0]  # 10*10*10*8*4*15=480000\n",
    "\n",
    "_FACTORS_IN_ORDER = ['floor_hue', 'wall_hue', 'object_hue', 'scale', 'shape',\n",
    "                     'orientation']\n",
    "_NUM_VALUES_PER_FACTOR = {'floor_hue': 10, 'wall_hue': 10, 'object_hue': 10, \n",
    "                          'scale': 8, 'shape': 4, 'orientation': 15}"
   ]
  },
  {
   "cell_type": "code",
   "execution_count": null,
   "metadata": {},
   "outputs": [],
   "source": [
    "images.shape, labels.shape"
   ]
  },
  {
   "cell_type": "code",
   "execution_count": null,
   "metadata": {},
   "outputs": [],
   "source": [
    "torch.tensor([0,2,3]).tolist()"
   ]
  },
  {
   "cell_type": "code",
   "execution_count": null,
   "metadata": {},
   "outputs": [],
   "source": [
    "len(images)"
   ]
  },
  {
   "cell_type": "code",
   "execution_count": null,
   "metadata": {},
   "outputs": [],
   "source": [
    "images[torch.tensor([0,2,3]).tolist()].shape"
   ]
  },
  {
   "cell_type": "code",
   "execution_count": null,
   "metadata": {},
   "outputs": [],
   "source": [
    "np.array(torch.randn(3).cuda())"
   ]
  },
  {
   "cell_type": "code",
   "execution_count": null,
   "metadata": {},
   "outputs": [],
   "source": [
    "img = images[0]\n",
    "img.shape"
   ]
  },
  {
   "cell_type": "code",
   "execution_count": null,
   "metadata": {},
   "outputs": [],
   "source": [
    "img.dtype"
   ]
  },
  {
   "cell_type": "code",
   "execution_count": null,
   "metadata": {},
   "outputs": [],
   "source": [
    "plt.imshow(img)"
   ]
  },
  {
   "cell_type": "code",
   "execution_count": null,
   "metadata": {},
   "outputs": [],
   "source": []
  },
  {
   "cell_type": "code",
   "execution_count": null,
   "metadata": {},
   "outputs": [],
   "source": []
  },
  {
   "cell_type": "code",
   "execution_count": null,
   "metadata": {},
   "outputs": [],
   "source": [
    "root = '/is/ei/fleeb/workspace/chome/trained_nets'\n",
    "target = '/is/ei/fleeb/workspace/trained_nets/3dshapes_models'\n",
    "util.create_dir(target)"
   ]
  },
  {
   "cell_type": "code",
   "execution_count": null,
   "metadata": {},
   "outputs": [],
   "source": [
    "from shutil import copyfile"
   ]
  },
  {
   "cell_type": "code",
   "execution_count": null,
   "metadata": {},
   "outputs": [],
   "source": [
    "names = ['checkpoint_100.pth.tar',]# 'best.pth.tar']"
   ]
  },
  {
   "cell_type": "code",
   "execution_count": null,
   "metadata": {},
   "outputs": [],
   "source": [
    "for d in [d for d in os.listdir(root) if '1205' in d]:\n",
    "    print(d)\n",
    "    for name in names:\n",
    "        if name in os.listdir(os.path.join(root, d)):\n",
    "            print('\\t',name)\n",
    "            if d not in os.listdir(target):\n",
    "                os.mkdir(os.path.join(target,d))\n",
    "            copyfile(os.path.join(root, d, name), os.path.join(target, d, name))\n",
    "            copyfile(os.path.join(root, d, 'config.tml'), os.path.join(target, d, 'config.tml'))"
   ]
  },
  {
   "cell_type": "code",
   "execution_count": null,
   "metadata": {},
   "outputs": [],
   "source": [
    "os.listdir('/is/ei/fleeb/workspace/media/hybrid/new/3dshapes/pres')"
   ]
  },
  {
   "cell_type": "code",
   "execution_count": null,
   "metadata": {},
   "outputs": [],
   "source": [
    "def f(x, *a, **kw):\n",
    "    print(x, a, kw)"
   ]
  },
  {
   "cell_type": "code",
   "execution_count": null,
   "metadata": {},
   "outputs": [],
   "source": [
    "sig = inspect.signature(f)\n",
    "sig.parameters"
   ]
  },
  {
   "cell_type": "code",
   "execution_count": null,
   "metadata": {},
   "outputs": [],
   "source": [
    "for n, p in sig.parameters.items():\n",
    "    pass"
   ]
  },
  {
   "cell_type": "code",
   "execution_count": null,
   "metadata": {},
   "outputs": [],
   "source": [
    "p.kind"
   ]
  },
  {
   "cell_type": "code",
   "execution_count": null,
   "metadata": {},
   "outputs": [],
   "source": []
  },
  {
   "cell_type": "code",
   "execution_count": null,
   "metadata": {},
   "outputs": [],
   "source": [
    "C = util.get_config('base')\n",
    "C.keys()"
   ]
  },
  {
   "cell_type": "code",
   "execution_count": null,
   "metadata": {},
   "outputs": [],
   "source": [
    "C.device"
   ]
  },
  {
   "cell_type": "code",
   "execution_count": null,
   "metadata": {},
   "outputs": [],
   "source": [
    "C.model"
   ]
  },
  {
   "cell_type": "code",
   "execution_count": null,
   "metadata": {},
   "outputs": [],
   "source": []
  },
  {
   "cell_type": "code",
   "execution_count": null,
   "metadata": {},
   "outputs": [],
   "source": [
    "data = np.load('../local_data/dsprites_ndarray_co1sh3sc6or40x32y32_64x64.npz', allow_pickle=True, encoding='bytes')\n",
    "list(data.keys())"
   ]
  },
  {
   "cell_type": "code",
   "execution_count": null,
   "metadata": {},
   "outputs": [],
   "source": [
    "def rec_decode(obj):\n",
    "    if isinstance(obj, dict):\n",
    "        return {rec_decode(k):rec_decode(v) for k,v in obj.items()}\n",
    "    if isinstance(obj, list):\n",
    "        return [rec_decode(x) for x in obj]\n",
    "    if isinstance(obj, tuple):\n",
    "        return tuple(rec_decode(x) for x in obj)\n",
    "    if isinstance(obj, bytes):\n",
    "        return obj.decode()\n",
    "    return obj"
   ]
  },
  {
   "cell_type": "code",
   "execution_count": null,
   "metadata": {},
   "outputs": [],
   "source": [
    "data['latents_values'][:,1:].shape"
   ]
  },
  {
   "cell_type": "code",
   "execution_count": null,
   "metadata": {},
   "outputs": [],
   "source": [
    "meta = rec_decode(data['metadata'][()])\n",
    "meta.keys()"
   ]
  },
  {
   "cell_type": "code",
   "execution_count": null,
   "metadata": {},
   "outputs": [],
   "source": [
    "meta['date']"
   ]
  },
  {
   "cell_type": "code",
   "execution_count": null,
   "metadata": {},
   "outputs": [],
   "source": [
    "meta['latents_sizes'][1:].sum()"
   ]
  },
  {
   "cell_type": "code",
   "execution_count": null,
   "metadata": {},
   "outputs": [],
   "source": [
    "lbls = data['latents_classes']\n",
    "lbls.shape"
   ]
  },
  {
   "cell_type": "code",
   "execution_count": null,
   "metadata": {},
   "outputs": [],
   "source": [
    "lbls[10]"
   ]
  },
  {
   "cell_type": "code",
   "execution_count": null,
   "metadata": {},
   "outputs": [],
   "source": [
    "a = (1,2)\n",
    "b = 3"
   ]
  },
  {
   "cell_type": "code",
   "execution_count": null,
   "metadata": {},
   "outputs": [],
   "source": [
    "*x, y = a\n",
    "x, y"
   ]
  },
  {
   "cell_type": "code",
   "execution_count": null,
   "metadata": {},
   "outputs": [],
   "source": [
    "a, *b, c = (1,2,3,4)"
   ]
  },
  {
   "cell_type": "code",
   "execution_count": null,
   "metadata": {},
   "outputs": [],
   "source": [
    "b"
   ]
  },
  {
   "cell_type": "code",
   "execution_count": null,
   "metadata": {},
   "outputs": [],
   "source": [
    "images = data['imgs']\n",
    "images.shape, images.dtype"
   ]
  },
  {
   "cell_type": "code",
   "execution_count": null,
   "metadata": {},
   "outputs": [],
   "source": [
    "images.max(), images.min()"
   ]
  },
  {
   "cell_type": "code",
   "execution_count": null,
   "metadata": {},
   "outputs": [],
   "source": [
    "DS = train.get_dataset('dsprites', dataroot='../local_data/')\n",
    "len(DS)"
   ]
  },
  {
   "cell_type": "code",
   "execution_count": null,
   "metadata": {},
   "outputs": [],
   "source": [
    "DS.to('cuda')"
   ]
  },
  {
   "cell_type": "code",
   "execution_count": null,
   "metadata": {},
   "outputs": [],
   "source": [
    "new = True"
   ]
  },
  {
   "cell_type": "code",
   "execution_count": null,
   "metadata": {},
   "outputs": [],
   "source": [
    "if new:\n",
    "    DS = train.get_dataset('mnist', dataroot='../local_data/', train=True, download=False)\n",
    "    DS.to('cuda')\n",
    "else:\n",
    "    DS = torchvision.datasets.MNIST('../local_data/mnist', download=False, train=True, transform=torchvision.transforms.ToTensor())\n",
    "\n",
    "DS = train.simple_split_dataset(DS, split=0.5, shuffle=False)[0]\n",
    "    \n",
    "len(DS)"
   ]
  },
  {
   "cell_type": "code",
   "execution_count": null,
   "metadata": {},
   "outputs": [],
   "source": [
    "DS.indices.device"
   ]
  },
  {
   "cell_type": "code",
   "execution_count": null,
   "metadata": {},
   "outputs": [],
   "source": []
  },
  {
   "cell_type": "code",
   "execution_count": null,
   "metadata": {},
   "outputs": [],
   "source": [
    "loader, = train.get_loaders((DS,), batch_size=512, allow_batched=new)\n",
    "len(loader)"
   ]
  },
  {
   "cell_type": "code",
   "execution_count": null,
   "metadata": {},
   "outputs": [],
   "source": [
    "%%timeit\n",
    "for batch in loader:\n",
    "    X, Y = util.to(batch, 'cuda')\n",
    "    break"
   ]
  },
  {
   "cell_type": "code",
   "execution_count": null,
   "metadata": {},
   "outputs": [],
   "source": [
    "%%timeit\n",
    "for batch in loader:\n",
    "    X, Y = util.to(batch, 'cuda')\n",
    "    break"
   ]
  },
  {
   "cell_type": "code",
   "execution_count": null,
   "metadata": {},
   "outputs": [],
   "source": [
    "%%timeit\n",
    "for batch in loader:\n",
    "    X, Y = util.to(batch, 'cuda')\n",
    "    break"
   ]
  },
  {
   "cell_type": "code",
   "execution_count": null,
   "metadata": {},
   "outputs": [],
   "source": [
    "%%timeit\n",
    "for batch in loader:\n",
    "    X, Y = util.to(batch, 'cuda')\n",
    "    break"
   ]
  },
  {
   "cell_type": "code",
   "execution_count": null,
   "metadata": {},
   "outputs": [],
   "source": []
  },
  {
   "cell_type": "code",
   "execution_count": null,
   "metadata": {},
   "outputs": [],
   "source": []
  },
  {
   "cell_type": "code",
   "execution_count": null,
   "metadata": {},
   "outputs": [],
   "source": [
    "def moment(x,n=1):\n",
    "    if n == 1:\n",
    "        return x.mean()\n",
    "    m = stats.moment(x,n)\n",
    "    return np.sign(m)*np.abs(m)**(1/n)"
   ]
  },
  {
   "cell_type": "code",
   "execution_count": null,
   "metadata": {},
   "outputs": [],
   "source": []
  },
  {
   "cell_type": "code",
   "execution_count": null,
   "metadata": {},
   "outputs": [],
   "source": [
    "N = 100000\n",
    "x = np.random.randn(N)* 1 + 2\n",
    "y = np.random.randn(N)* 2 + 3"
   ]
  },
  {
   "cell_type": "code",
   "execution_count": null,
   "metadata": {},
   "outputs": [],
   "source": [
    "xy = x*y\n",
    "ms = [moment(xy,n) for n in range(1,5)]\n",
    "print(', '.join(['{:2.3f}'.format(m) for m in ms]))"
   ]
  },
  {
   "cell_type": "code",
   "execution_count": null,
   "metadata": {},
   "outputs": [],
   "source": [
    "sns.kdeplot(xy)\n",
    "# plt.xlim(-4,4)\n",
    "# plt.ylim(-4,4)"
   ]
  },
  {
   "cell_type": "code",
   "execution_count": null,
   "metadata": {},
   "outputs": [],
   "source": []
  },
  {
   "cell_type": "code",
   "execution_count": null,
   "metadata": {},
   "outputs": [],
   "source": []
  },
  {
   "cell_type": "code",
   "execution_count": null,
   "metadata": {},
   "outputs": [],
   "source": []
  },
  {
   "cell_type": "code",
   "execution_count": null,
   "metadata": {},
   "outputs": [],
   "source": []
  },
  {
   "cell_type": "code",
   "execution_count": null,
   "metadata": {},
   "outputs": [],
   "source": []
  },
  {
   "cell_type": "code",
   "execution_count": null,
   "metadata": {},
   "outputs": [],
   "source": [
    "N, D, M = 8, 4, 2\n",
    "\n",
    "# class Test(nn.Module):\n",
    "#     def __init__(self):\n",
    "#         super().__init__()\n",
    "#         self.A = nn.Linear(D,M)\n",
    "#         self.B = self.A\n",
    "\n",
    "\n",
    "X, Y = torch.randn(N,D), torch.randn(N, M)\n",
    "X.shape, Y.shape"
   ]
  },
  {
   "cell_type": "code",
   "execution_count": null,
   "metadata": {},
   "outputs": [],
   "source": [
    "A = train.get_config()\n",
    "A"
   ]
  },
  {
   "cell_type": "code",
   "execution_count": null,
   "metadata": {},
   "outputs": [],
   "source": [
    "A.model._type = 'stage'\n",
    "A.model.stages = [\n",
    "    train.Config(),\n",
    "    train.Config(),\n",
    "]\n",
    "A.model.stages[0]._type = 'mlp'\n",
    "A.model.stages[1]._type = 'mlp'\n",
    "A.model.nonlin = 'elu'\n",
    "A.model.hidden_dims = [64]\n",
    "\n",
    "A.din = D\n",
    "A.dout = M\n",
    "\n"
   ]
  },
  {
   "cell_type": "code",
   "execution_count": null,
   "metadata": {},
   "outputs": [],
   "source": []
  },
  {
   "cell_type": "code",
   "execution_count": null,
   "metadata": {},
   "outputs": [],
   "source": []
  },
  {
   "cell_type": "code",
   "execution_count": null,
   "metadata": {},
   "outputs": [],
   "source": []
  },
  {
   "cell_type": "code",
   "execution_count": null,
   "metadata": {},
   "outputs": [],
   "source": [
    "M1 = models.make_MLP(D,M, hidden_dims=[8])\n",
    "M2 = models.make_MLP(D,M, hidden_dims=[])\n",
    "print(M1)\n",
    "print(M2)"
   ]
  },
  {
   "cell_type": "code",
   "execution_count": null,
   "metadata": {},
   "outputs": [],
   "source": [
    "M1.training"
   ]
  },
  {
   "cell_type": "code",
   "execution_count": null,
   "metadata": {},
   "outputs": [],
   "source": [
    "optim = util.Complex_Optimizer(M1=util.get_optimizer('adam',M1.parameters()), M2=util.get_optimizer('sgd',M2.parameters()))\n",
    "optim"
   ]
  },
  {
   "cell_type": "code",
   "execution_count": null,
   "metadata": {},
   "outputs": [],
   "source": [
    "scheduler = O.lr_scheduler.StepLR(optim, 1, gamma=.5)"
   ]
  },
  {
   "cell_type": "code",
   "execution_count": null,
   "metadata": {},
   "outputs": [],
   "source": []
  },
  {
   "cell_type": "code",
   "execution_count": null,
   "metadata": {},
   "outputs": [],
   "source": [
    "print(optim)\n",
    "scheduler.step()\n",
    "print(optim)"
   ]
  },
  {
   "cell_type": "code",
   "execution_count": null,
   "metadata": {},
   "outputs": [],
   "source": [
    "for pg in optim.param_groups:\n",
    "    print(pg.keys())"
   ]
  },
  {
   "cell_type": "code",
   "execution_count": null,
   "metadata": {},
   "outputs": [],
   "source": [
    "list(optim.param_groups)"
   ]
  },
  {
   "cell_type": "code",
   "execution_count": null,
   "metadata": {},
   "outputs": [],
   "source": [
    "optim"
   ]
  },
  {
   "cell_type": "code",
   "execution_count": null,
   "metadata": {},
   "outputs": [],
   "source": [
    "D = 10\n",
    "Z = torch.zeros(1,D)\n",
    "X = torch.linspace(-10,10,100).unsqueeze(-1).expand(-1,D)\n",
    "Z.shape, X.shape"
   ]
  },
  {
   "cell_type": "code",
   "execution_count": null,
   "metadata": {},
   "outputs": [],
   "source": [
    "L = util.lorentzian(X,Z)\n",
    "L.shape"
   ]
  },
  {
   "cell_type": "code",
   "execution_count": null,
   "metadata": {},
   "outputs": [],
   "source": [
    "plt.figure()\n",
    "plt.plot(X.squeeze().numpy(), L.squeeze().numpy())"
   ]
  },
  {
   "cell_type": "code",
   "execution_count": null,
   "metadata": {},
   "outputs": [],
   "source": []
  },
  {
   "cell_type": "code",
   "execution_count": null,
   "metadata": {},
   "outputs": [],
   "source": [
    "proc = util.OUNoise(batch_size=4, mu=0., sigma=0.2, theta=.1)"
   ]
  },
  {
   "cell_type": "code",
   "execution_count": null,
   "metadata": {},
   "outputs": [],
   "source": [
    "proc(10).shape"
   ]
  },
  {
   "cell_type": "code",
   "execution_count": null,
   "metadata": {},
   "outputs": [],
   "source": [
    "proc().shape"
   ]
  },
  {
   "cell_type": "code",
   "execution_count": null,
   "metadata": {},
   "outputs": [],
   "source": [
    "\n",
    "N = 100\n",
    "t = torch.arange(N)\n",
    "out = proc(N).squeeze()\n",
    "plt.figure()\n",
    "plt.plot(t.numpy(), out.squeeze().clamp(-1,1).numpy().T)\n",
    "plt.plot(t.numpy(), torch.zeros_like(t).numpy(), c='k', ls='--')\n",
    "plt.ylim(-1.01,1.01)\n",
    "pass"
   ]
  },
  {
   "cell_type": "code",
   "execution_count": null,
   "metadata": {},
   "outputs": [],
   "source": []
  },
  {
   "cell_type": "code",
   "execution_count": null,
   "metadata": {},
   "outputs": [],
   "source": []
  },
  {
   "cell_type": "code",
   "execution_count": null,
   "metadata": {},
   "outputs": [],
   "source": []
  },
  {
   "cell_type": "code",
   "execution_count": null,
   "metadata": {},
   "outputs": [],
   "source": []
  },
  {
   "cell_type": "code",
   "execution_count": null,
   "metadata": {},
   "outputs": [],
   "source": []
  },
  {
   "cell_type": "code",
   "execution_count": null,
   "metadata": {},
   "outputs": [],
   "source": [
    "import wikipedia"
   ]
  },
  {
   "cell_type": "code",
   "execution_count": null,
   "metadata": {},
   "outputs": [],
   "source": [
    "q1 = wikipedia.page('Machine Learning')\n",
    "q1"
   ]
  },
  {
   "cell_type": "code",
   "execution_count": null,
   "metadata": {},
   "outputs": [],
   "source": [
    "pgs = wikipedia.random(10)\n",
    "pgs"
   ]
  },
  {
   "cell_type": "code",
   "execution_count": null,
   "metadata": {},
   "outputs": [],
   "source": [
    "wikipedia."
   ]
  },
  {
   "cell_type": "code",
   "execution_count": null,
   "metadata": {},
   "outputs": [],
   "source": [
    "q1.links"
   ]
  },
  {
   "cell_type": "code",
   "execution_count": null,
   "metadata": {},
   "outputs": [],
   "source": []
  },
  {
   "cell_type": "code",
   "execution_count": null,
   "metadata": {},
   "outputs": [],
   "source": []
  },
  {
   "cell_type": "code",
   "execution_count": null,
   "metadata": {},
   "outputs": [],
   "source": [
    "pts = torch.randn(10,4)\n",
    "pts.shape"
   ]
  },
  {
   "cell_type": "code",
   "execution_count": null,
   "metadata": {},
   "outputs": [],
   "source": [
    "sphr = util.cart2sphr(pts)\n",
    "sphr.shape"
   ]
  },
  {
   "cell_type": "code",
   "execution_count": null,
   "metadata": {},
   "outputs": [],
   "source": [
    "cart = util.sphr2cart(sphr)\n",
    "cart.shape"
   ]
  },
  {
   "cell_type": "code",
   "execution_count": null,
   "metadata": {},
   "outputs": [],
   "source": [
    "nn.MSELoss()(cart, pts)"
   ]
  },
  {
   "cell_type": "code",
   "execution_count": null,
   "metadata": {},
   "outputs": [],
   "source": [
    "phis = util.cart2angl(pts)\n",
    "phis"
   ]
  },
  {
   "cell_type": "code",
   "execution_count": null,
   "metadata": {},
   "outputs": [],
   "source": [
    "phis = util.cart2angl(pts*10)\n",
    "phis"
   ]
  },
  {
   "cell_type": "code",
   "execution_count": null,
   "metadata": {},
   "outputs": [],
   "source": []
  },
  {
   "cell_type": "code",
   "execution_count": null,
   "metadata": {},
   "outputs": [],
   "source": [
    "pts"
   ]
  },
  {
   "cell_type": "code",
   "execution_count": null,
   "metadata": {},
   "outputs": [],
   "source": [
    "sphr"
   ]
  },
  {
   "cell_type": "code",
   "execution_count": null,
   "metadata": {},
   "outputs": [],
   "source": []
  },
  {
   "cell_type": "code",
   "execution_count": null,
   "metadata": {},
   "outputs": [],
   "source": []
  },
  {
   "cell_type": "code",
   "execution_count": null,
   "metadata": {},
   "outputs": [],
   "source": []
  },
  {
   "cell_type": "code",
   "execution_count": null,
   "metadata": {},
   "outputs": [],
   "source": []
  },
  {
   "cell_type": "code",
   "execution_count": null,
   "metadata": {},
   "outputs": [],
   "source": [
    "net = models.make_MLP(10,3,hidden_dims=[20,30,10], nonlin='softplus')\n",
    "net"
   ]
  },
  {
   "cell_type": "code",
   "execution_count": null,
   "metadata": {},
   "outputs": [],
   "source": [
    "for layer in net[:-1]:\n",
    "    if isinstance(layer, nn.Linear):\n",
    "        print(layer)"
   ]
  },
  {
   "cell_type": "code",
   "execution_count": null,
   "metadata": {},
   "outputs": [],
   "source": []
  },
  {
   "cell_type": "code",
   "execution_count": null,
   "metadata": {},
   "outputs": [],
   "source": []
  },
  {
   "cell_type": "code",
   "execution_count": null,
   "metadata": {},
   "outputs": [],
   "source": [
    "sim.sample_action()"
   ]
  },
  {
   "cell_type": "code",
   "execution_count": null,
   "metadata": {},
   "outputs": [],
   "source": [
    "sim.sample_state()"
   ]
  },
  {
   "cell_type": "code",
   "execution_count": null,
   "metadata": {},
   "outputs": [],
   "source": [
    "u = sim.sample_action()\n",
    "u = torch.ones(1)*0\n",
    "u"
   ]
  },
  {
   "cell_type": "code",
   "execution_count": null,
   "metadata": {},
   "outputs": [],
   "source": [
    "B = 16\n",
    "state0 = torch.tensor([0,np.pi,1,0])\n",
    "state0 = sim.sample_state(B)"
   ]
  },
  {
   "cell_type": "code",
   "execution_count": null,
   "metadata": {},
   "outputs": [],
   "source": [
    "x = sim.reset(state0)"
   ]
  },
  {
   "cell_type": "code",
   "execution_count": null,
   "metadata": {},
   "outputs": [],
   "source": [
    "bb = int(np.sqrt(B))\n",
    "if bb**2 == B:\n",
    "    fig, axes = plt.subplots(bb,bb)\n",
    "else:\n",
    "    fig, ax = plt.subplots(1)"
   ]
  },
  {
   "cell_type": "code",
   "execution_count": null,
   "metadata": {},
   "outputs": [],
   "source": [
    "for i in range(100):\n",
    "    u = sim.sample_action(B)\n",
    "    x = sim.step(u, N=1)\n",
    "    imgs = sim.render(200,100)\n",
    "    if len(imgs.shape) == 4:\n",
    "        for img, ax in zip(imgs, axes.flat):\n",
    "            ax.cla()\n",
    "            ax.imshow(img)\n",
    "            ax.axis('off')\n",
    "    else:\n",
    "        ax.cla()\n",
    "        ax.imshow(imgs)\n",
    "        ax.axis('off')\n",
    "    plt.pause(0.03)"
   ]
  },
  {
   "cell_type": "code",
   "execution_count": null,
   "metadata": {},
   "outputs": [],
   "source": [
    "plt.cla()\n",
    "plt.imshow(sim.render(200,100,index=0 if B is not None else None))\n",
    "plt.axis('off')\n",
    "pass"
   ]
  },
  {
   "cell_type": "code",
   "execution_count": null,
   "metadata": {
    "scrolled": false
   },
   "outputs": [],
   "source": [
    "xs = []\n",
    "for i in range(100):\n",
    "    u = sim.sample_action(10)\n",
    "    x = sim.step(u, N=1)\n",
    "    xs.append(x)\n",
    "    plt.cla()\n",
    "    plt.imshow(sim.render(200,100, index=0 if B is not None else None))\n",
    "    plt.axis('off')\n",
    "    plt.pause(0.03)\n",
    "x"
   ]
  },
  {
   "cell_type": "code",
   "execution_count": null,
   "metadata": {},
   "outputs": [],
   "source": [
    "X = torch.cat(xs)\n",
    "X.shape"
   ]
  },
  {
   "cell_type": "code",
   "execution_count": null,
   "metadata": {},
   "outputs": [],
   "source": [
    "dataroot = '/is/ei/fleeb/workspace/data'\n",
    "name = 'dsprites_ndarray_co1sh3sc6or40x32y32_64x64.hdf5'\n",
    "name = '3dshapes.h5'\n",
    "name = 'dsprites_ndarray_co1sh3sc6or40x32y32_64x64.npz'\n",
    "# DS = hf.File(os.path.join(dataroot, name))\n",
    "DS = np.load(os.path.join(dataroot, name))\n",
    "len(DS)"
   ]
  },
  {
   "cell_type": "code",
   "execution_count": null,
   "metadata": {},
   "outputs": [],
   "source": [
    "list(DS.keys())"
   ]
  },
  {
   "cell_type": "code",
   "execution_count": null,
   "metadata": {},
   "outputs": [],
   "source": [
    "DS['imgs'].shape"
   ]
  },
  {
   "cell_type": "code",
   "execution_count": null,
   "metadata": {},
   "outputs": [],
   "source": [
    "for k in list(DS.keys()):\n",
    "    print(k)\n",
    "    print(k, DS[k].shape)"
   ]
  },
  {
   "cell_type": "code",
   "execution_count": null,
   "metadata": {},
   "outputs": [],
   "source": [
    "DS['latents']['values'][0]"
   ]
  },
  {
   "cell_type": "code",
   "execution_count": null,
   "metadata": {},
   "outputs": [],
   "source": [
    "DS.close()"
   ]
  },
  {
   "cell_type": "code",
   "execution_count": null,
   "metadata": {},
   "outputs": [],
   "source": []
  },
  {
   "cell_type": "code",
   "execution_count": null,
   "metadata": {},
   "outputs": [],
   "source": [
    "torch.eye(10)[torch.randperm(10)]"
   ]
  },
  {
   "cell_type": "code",
   "execution_count": null,
   "metadata": {},
   "outputs": [],
   "source": [
    "B, D, M = 8, 4, 2\n",
    "\n",
    "# class Test(nn.Module):\n",
    "#     def __init__(self):\n",
    "#         super().__init__()\n",
    "#         self.A = nn.Linear(D,M)\n",
    "#         self.B = self.A\n",
    "\n",
    "\n",
    "X, Y = torch.randn(B,D), torch.randn(B, M)\n",
    "X.shape, Y.shape"
   ]
  },
  {
   "cell_type": "code",
   "execution_count": null,
   "metadata": {},
   "outputs": [],
   "source": [
    "model = models.make_MLP(D,M,hidden_dims=[64,64,64,64, 64, 64])\n",
    "model"
   ]
  },
  {
   "cell_type": "code",
   "execution_count": null,
   "metadata": {},
   "outputs": [],
   "source": [
    "layers = [layer for layer in model if isinstance(layer, nn.Linear)][:-1]\n",
    "layers"
   ]
  },
  {
   "cell_type": "code",
   "execution_count": null,
   "metadata": {},
   "outputs": [],
   "source": [
    "dX = X+torch.randn_like(X)"
   ]
  },
  {
   "cell_type": "code",
   "execution_count": null,
   "metadata": {},
   "outputs": [],
   "source": [
    "fmatch = models.Feature_Match(layers, model=model)\n",
    "with torch.no_grad():\n",
    "    loss = fmatch(X,dX)\n",
    "loss"
   ]
  },
  {
   "cell_type": "code",
   "execution_count": null,
   "metadata": {},
   "outputs": [],
   "source": [
    "fmatch = models.Feature_Match(model, model=model)\n",
    "with torch.no_grad():\n",
    "    loss = fmatch(X,dX)\n",
    "loss"
   ]
  },
  {
   "cell_type": "code",
   "execution_count": null,
   "metadata": {},
   "outputs": [],
   "source": []
  },
  {
   "cell_type": "code",
   "execution_count": null,
   "metadata": {},
   "outputs": [],
   "source": [
    "model.A.weight.data[0,0] += 1\n",
    "model.A.weight, model.B.weight"
   ]
  },
  {
   "cell_type": "code",
   "execution_count": null,
   "metadata": {},
   "outputs": [],
   "source": [
    "model.load_state_dict(model.state_dict())"
   ]
  },
  {
   "cell_type": "code",
   "execution_count": null,
   "metadata": {},
   "outputs": [],
   "source": [
    "p = nn.utils.parameters_to_vector(model.parameters())"
   ]
  },
  {
   "cell_type": "code",
   "execution_count": null,
   "metadata": {},
   "outputs": [],
   "source": [
    "loss = nn.MSELoss()(model(X), Y)\n",
    "loss"
   ]
  },
  {
   "cell_type": "code",
   "execution_count": null,
   "metadata": {},
   "outputs": [],
   "source": [
    "model.zero_grad()\n",
    "loss.backward()"
   ]
  },
  {
   "cell_type": "code",
   "execution_count": null,
   "metadata": {},
   "outputs": [],
   "source": [
    "for param in model.parameters():\n",
    "    print(param.grad)"
   ]
  },
  {
   "cell_type": "code",
   "execution_count": null,
   "metadata": {},
   "outputs": [],
   "source": []
  },
  {
   "cell_type": "code",
   "execution_count": null,
   "metadata": {},
   "outputs": [],
   "source": [
    "outputs = []\n",
    "def keep(m, x, y):\n",
    "    outputs.append(y)"
   ]
  },
  {
   "cell_type": "code",
   "execution_count": null,
   "metadata": {
    "scrolled": true
   },
   "outputs": [],
   "source": [
    "model = torchvision.models.squeezenet1_0(pretrained=True, progress=True).cuda()\n",
    "# model.features.register_forward_hook(keep)\n",
    "print(model)"
   ]
  },
  {
   "cell_type": "code",
   "execution_count": null,
   "metadata": {},
   "outputs": [],
   "source": [
    "x = torch.rand(4,3,128,128).cuda()\n",
    "x.shape"
   ]
  },
  {
   "cell_type": "code",
   "execution_count": null,
   "metadata": {},
   "outputs": [],
   "source": [
    "y = model(x)\n",
    "y.shape"
   ]
  },
  {
   "cell_type": "code",
   "execution_count": null,
   "metadata": {},
   "outputs": [],
   "source": []
  },
  {
   "cell_type": "code",
   "execution_count": null,
   "metadata": {},
   "outputs": [],
   "source": []
  },
  {
   "cell_type": "code",
   "execution_count": null,
   "metadata": {},
   "outputs": [],
   "source": [
    "outputs[0].shape"
   ]
  },
  {
   "cell_type": "code",
   "execution_count": null,
   "metadata": {},
   "outputs": [],
   "source": [
    "info = torch.load('rl/temp_xy.pth.tar')\n",
    "info.keys()"
   ]
  },
  {
   "cell_type": "code",
   "execution_count": null,
   "metadata": {},
   "outputs": [],
   "source": [
    "X, Y = info['x'], info['y']\n",
    "X.shape, Y.shape"
   ]
  },
  {
   "cell_type": "code",
   "execution_count": null,
   "metadata": {},
   "outputs": [],
   "source": [
    "mn, mo = info['m_new'], info['m_old']\n",
    "print(list(mn.parameters()))\n",
    "print(list(mo.parameters()))"
   ]
  },
  {
   "cell_type": "code",
   "execution_count": null,
   "metadata": {},
   "outputs": [],
   "source": [
    "info['l_old'], info['l_new']"
   ]
  },
  {
   "cell_type": "code",
   "execution_count": null,
   "metadata": {},
   "outputs": [],
   "source": []
  },
  {
   "cell_type": "code",
   "execution_count": null,
   "metadata": {},
   "outputs": [],
   "source": [
    "N,M,D = 20, 5, 3\n",
    "with torch.no_grad():\n",
    "    A = torch.randn(N,M)\n",
    "    f = nn.Linear(M,D)\n",
    "    b = f(A)\n",
    "    m = nn.Linear(M,D)"
   ]
  },
  {
   "cell_type": "code",
   "execution_count": null,
   "metadata": {},
   "outputs": [],
   "source": [
    "F.mse_loss(m(A), b)"
   ]
  },
  {
   "cell_type": "code",
   "execution_count": null,
   "metadata": {},
   "outputs": [],
   "source": [
    "util.solve(A,b,out=m)"
   ]
  },
  {
   "cell_type": "code",
   "execution_count": null,
   "metadata": {},
   "outputs": [],
   "source": [
    "F.mse_loss(m(A), b)"
   ]
  },
  {
   "cell_type": "code",
   "execution_count": null,
   "metadata": {},
   "outputs": [],
   "source": []
  },
  {
   "cell_type": "code",
   "execution_count": null,
   "metadata": {},
   "outputs": [],
   "source": [
    "shapes, settings = nets.plan_deconv(out_shape=(3,160,120), channels=[8, 16, 32, 64], kernels=4, strides=2)\n",
    "shapes"
   ]
  },
  {
   "cell_type": "code",
   "execution_count": null,
   "metadata": {},
   "outputs": [],
   "source": [
    "ms = nn.ModuleList([nn.ConvTranspose2d(**s) for s in settings])\n",
    "ms"
   ]
  },
  {
   "cell_type": "code",
   "execution_count": null,
   "metadata": {},
   "outputs": [],
   "source": [
    "X = torch.randn(1, *shapes[0])"
   ]
  },
  {
   "cell_type": "code",
   "execution_count": null,
   "metadata": {},
   "outputs": [],
   "source": [
    "x = X\n",
    "print(x.size())\n",
    "for m in ms:\n",
    "    x = m(x)\n",
    "    print(x.size())"
   ]
  },
  {
   "cell_type": "code",
   "execution_count": null,
   "metadata": {},
   "outputs": [],
   "source": [
    "print(x.shape)\n",
    "print(m)"
   ]
  },
  {
   "cell_type": "code",
   "execution_count": null,
   "metadata": {},
   "outputs": [],
   "source": []
  },
  {
   "cell_type": "code",
   "execution_count": null,
   "metadata": {},
   "outputs": [],
   "source": [
    "shapes, settings = nets.plan_conv((3,160,120), channels=[8, 16, 32, 64], kernels=3, strides=1, factors=2)\n",
    "shapes"
   ]
  },
  {
   "cell_type": "code",
   "execution_count": null,
   "metadata": {},
   "outputs": [],
   "source": [
    "ms = nn.ModuleList([nn.Conv2d(**s) for s in settings])\n",
    "ms"
   ]
  },
  {
   "cell_type": "code",
   "execution_count": null,
   "metadata": {},
   "outputs": [],
   "source": [
    "X = torch.randn(1, *shapes[0])"
   ]
  },
  {
   "cell_type": "code",
   "execution_count": null,
   "metadata": {},
   "outputs": [],
   "source": [
    "x = X\n",
    "print(x.size())\n",
    "for m in ms:\n",
    "    x = m(x)\n",
    "    print(x.size())"
   ]
  },
  {
   "cell_type": "code",
   "execution_count": null,
   "metadata": {},
   "outputs": [],
   "source": []
  },
  {
   "cell_type": "code",
   "execution_count": null,
   "metadata": {},
   "outputs": [],
   "source": []
  },
  {
   "cell_type": "code",
   "execution_count": null,
   "metadata": {},
   "outputs": [],
   "source": [
    "ms = nn.ModuleList([nn.Conv2d(**s) for s in settings])"
   ]
  },
  {
   "cell_type": "code",
   "execution_count": null,
   "metadata": {},
   "outputs": [],
   "source": [
    "class OU_Process:\n",
    "    def __init__(self, K=3, std=0.5, theta=0.5):\n",
    "        self.K = K\n",
    "        self.std = std\n",
    "        self.theta = theta\n",
    "        \n",
    "        self.x = torch.randn(K) * self.std\n",
    "        \n",
    "    def __call__(self, t, state):\n",
    "        return self.theta * self.x + torch.randn(self.K) * self.std\n",
    "    \n",
    "def fig2data ( fig ):\n",
    "    \"\"\"\n",
    "    @brief Convert a Matplotlib figure to a 4D numpy array with RGBA channels and return it\n",
    "    @param fig a matplotlib figure\n",
    "    @return a numpy 3D array of RGBA values\n",
    "    \"\"\"\n",
    "    # draw the renderer\n",
    "    fig.canvas.draw ( )\n",
    " \n",
    "    # Get the RGBA buffer from the figure\n",
    "    w,h = fig.canvas.get_width_height()\n",
    "    buf = np.fromstring ( fig.canvas.tostring_argb(), dtype=np.uint8 )\n",
    "    buf.shape = ( w, h,4 )\n",
    " \n",
    "    # canvas.tostring_argb give pixmap in ARGB mode. Roll the ALPHA channel to have it in RGBA mode\n",
    "    buf = np.roll ( buf, 3, axis = 2 )\n",
    "    return buf"
   ]
  },
  {
   "cell_type": "code",
   "execution_count": null,
   "metadata": {},
   "outputs": [],
   "source": [
    "#env.alpha = 5.\n",
    "#env.beta = 5.\n",
    "#env.gamma = 0.1"
   ]
  },
  {
   "cell_type": "code",
   "execution_count": null,
   "metadata": {},
   "outputs": [],
   "source": [
    "env.reset()#(-torch.ones(2)*np.pi/2, torch.zeros(2))\n",
    "#policy = OU_Process(K=env.N, std=0.5, theta=0.7)\n",
    "policy = lambda t, x: torch.rand(env.spec.action_space.size)*2 - 1\n",
    "plt.ioff()"
   ]
  },
  {
   "cell_type": "code",
   "execution_count": null,
   "metadata": {},
   "outputs": [],
   "source": [
    "rgb, lbl = env.render(label=True)\n",
    "rgb.shape, lbl.shape"
   ]
  },
  {
   "cell_type": "code",
   "execution_count": null,
   "metadata": {},
   "outputs": [],
   "source": [
    "env.obs"
   ]
  },
  {
   "cell_type": "code",
   "execution_count": null,
   "metadata": {},
   "outputs": [],
   "source": [
    "plt.ion()\n",
    "plt.figure()\n",
    "plt.imshow(rgb, interpolation='none')\n",
    "\n",
    "plt.figure()\n",
    "plt.imshow(lbl, interpolation='none')"
   ]
  },
  {
   "cell_type": "code",
   "execution_count": null,
   "metadata": {},
   "outputs": [],
   "source": [
    "plt.ion()\n",
    "figax = plt.subplots(figsize=(3,3))\n",
    "fig, ax = figax\n",
    "ax.set_xticks([])\n",
    "ax.set_yticks([])"
   ]
  },
  {
   "cell_type": "code",
   "execution_count": null,
   "metadata": {},
   "outputs": [],
   "source": [
    "for t in range(1000):\n",
    "    \n",
    "    action = policy(t, None) #+ 1\n",
    "    env.step(action)\n",
    "    \n",
    "    ax.set_title('{:.3f} {:.3f}'.format(action[0].item(), action[1].item()))\n",
    "    \n",
    "    env.render('onscreen', figax=figax)\n",
    "    plt.pause(0.002)\n",
    "    ax.cla()\n",
    "    #break"
   ]
  },
  {
   "cell_type": "code",
   "execution_count": null,
   "metadata": {},
   "outputs": [],
   "source": [
    "plt.show()"
   ]
  },
  {
   "cell_type": "code",
   "execution_count": null,
   "metadata": {},
   "outputs": [],
   "source": [
    "rgb = fig2data(fig)\n",
    "rgb.shape"
   ]
  },
  {
   "cell_type": "code",
   "execution_count": null,
   "metadata": {},
   "outputs": [],
   "source": [
    "plt.figure()\n",
    "#plt.axis('off')\n",
    "plt.imshow(env.render('rgb'))\n",
    "plt.show()"
   ]
  },
  {
   "cell_type": "code",
   "execution_count": null,
   "metadata": {},
   "outputs": [],
   "source": [
    "env.get_ctrl_freq()"
   ]
  },
  {
   "cell_type": "code",
   "execution_count": null,
   "metadata": {},
   "outputs": [],
   "source": []
  },
  {
   "cell_type": "code",
   "execution_count": null,
   "metadata": {},
   "outputs": [],
   "source": []
  }
 ],
 "metadata": {
  "kernelspec": {
   "display_name": "Python 3",
   "language": "python",
   "name": "python3"
  },
  "language_info": {
   "codemirror_mode": {
    "name": "ipython",
    "version": 3
   },
   "file_extension": ".py",
   "mimetype": "text/x-python",
   "name": "python",
   "nbconvert_exporter": "python",
   "pygments_lexer": "ipython3",
   "version": "3.7.4"
  }
 },
 "nbformat": 4,
 "nbformat_minor": 2
}
