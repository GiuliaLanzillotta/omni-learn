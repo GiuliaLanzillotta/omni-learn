{
 "cells": [
  {
   "cell_type": "code",
   "execution_count": 8,
   "metadata": {
    "collapsed": true
   },
   "outputs": [],
   "source": [
    "import numpy as np\n",
    "%matplotlib notebook\n",
    "import matplotlib.pyplot as plt\n",
    "from scipy.special import digamma\n",
    "import scipy.optimize as optim\n",
    "import numpy.linalg as la"
   ]
  },
  {
   "cell_type": "code",
   "execution_count": 31,
   "metadata": {},
   "outputs": [],
   "source": [
    "m, n = 3, 3\n",
    "scale = 5\n",
    "c = -np.ones(n)#np.random.rand(n)*scale\n",
    "A = np.random.rand(m,n)*scale\n",
    "b = np.random.rand(m)*scale"
   ]
  },
  {
   "cell_type": "code",
   "execution_count": 32,
   "metadata": {
    "collapsed": true
   },
   "outputs": [],
   "source": [
    "r = optim.linprog(c=c, A_ub=A, b_ub=b, method='simplex')"
   ]
  },
  {
   "cell_type": "code",
   "execution_count": 33,
   "metadata": {},
   "outputs": [
    {
     "data": {
      "text/plain": [
       "['status', 'slack', 'success', 'fun', 'x', 'message', 'nit']"
      ]
     },
     "execution_count": 33,
     "metadata": {},
     "output_type": "execute_result"
    }
   ],
   "source": [
    "r.keys()"
   ]
  },
  {
   "cell_type": "code",
   "execution_count": 34,
   "metadata": {},
   "outputs": [
    {
     "name": "stdout",
     "output_type": "stream",
     "text": [
      "pred: -63.3107626643\n",
      "actual -11.8969473006\n",
      "success? False\n"
     ]
    }
   ],
   "source": [
    "pred = c.dot(la.pinv(A).dot(b))\n",
    "actual = r.fun\n",
    "print 'pred:', pred\n",
    "print 'actual', actual\n",
    "print 'success?', pred == actual"
   ]
  },
  {
   "cell_type": "code",
   "execution_count": 35,
   "metadata": {},
   "outputs": [
    {
     "name": "stdout",
     "output_type": "stream",
     "text": [
      "[[ 0.28120527  3.00950483  0.48250492]\n",
      " [ 0.12271884  0.51619158  0.92829328]\n",
      " [ 0.25733326  2.46988864  1.56758401]]\n",
      "[ 3.74832092  4.50187365  3.06148028]\n",
      "[-1. -1. -1.]\n"
     ]
    }
   ],
   "source": [
    "print A\n",
    "print b\n",
    "print c"
   ]
  },
  {
   "cell_type": "code",
   "execution_count": null,
   "metadata": {},
   "outputs": [],
   "source": []
  },
  {
   "cell_type": "code",
   "execution_count": 18,
   "metadata": {},
   "outputs": [
    {
     "name": "stdout",
     "output_type": "stream",
     "text": [
      "[[  1.00000000e+00  -1.38777878e-16]\n",
      " [  3.10862447e-15   1.00000000e+00]]\n"
     ]
    }
   ],
   "source": [
    "x = np.arange(6).reshape(2,3)\n",
    "xi = la.pinv(x)\n",
    "#print x\n",
    "#print xi\n",
    "print x.dot(xi)"
   ]
  },
  {
   "cell_type": "code",
   "execution_count": null,
   "metadata": {
    "collapsed": true
   },
   "outputs": [],
   "source": []
  }
 ],
 "metadata": {
  "kernelspec": {
   "display_name": "Python 2",
   "language": "python",
   "name": "python2"
  },
  "language_info": {
   "codemirror_mode": {
    "name": "ipython",
    "version": 2
   },
   "file_extension": ".py",
   "mimetype": "text/x-python",
   "name": "python",
   "nbconvert_exporter": "python",
   "pygments_lexer": "ipython2",
   "version": "2.7.13"
  }
 },
 "nbformat": 4,
 "nbformat_minor": 2
}
