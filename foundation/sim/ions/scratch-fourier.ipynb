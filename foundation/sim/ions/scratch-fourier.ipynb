{
 "cells": [
  {
   "cell_type": "code",
   "execution_count": 2,
   "metadata": {
    "collapsed": true
   },
   "outputs": [],
   "source": [
    "import numpy as np\n",
    "from sympy import *\n",
    "init_printing()"
   ]
  },
  {
   "cell_type": "code",
   "execution_count": 3,
   "metadata": {
    "collapsed": true
   },
   "outputs": [],
   "source": [
    "a, b = symbols('alpha beta')"
   ]
  },
  {
   "cell_type": "code",
   "execution_count": 5,
   "metadata": {},
   "outputs": [],
   "source": [
    "def step(an, bn, a0, b0):\n",
    "    return an*a0 - bn*b0, an*b0 + bn*a0\n",
    "def coeff()"
   ]
  },
  {
   "cell_type": "code",
   "execution_count": 7,
   "metadata": {},
   "outputs": [],
   "source": [
    "cs = [a]\n",
    "ss = [b]"
   ]
  },
  {
   "cell_type": "code",
   "execution_count": 8,
   "metadata": {
    "collapsed": true
   },
   "outputs": [],
   "source": [
    "for i in range(10):\n",
    "    c, s = step(cs[-1], ss[-1], a, b)\n",
    "    cs.append(simplify(c))\n",
    "    ss.append(simplify(s))"
   ]
  },
  {
   "cell_type": "code",
   "execution_count": 14,
   "metadata": {},
   "outputs": [],
   "source": [
    "cs = [simplify(c) for c in cs]\n",
    "ss = [simplify(s) for s in ss]"
   ]
  },
  {
   "cell_type": "code",
   "execution_count": 17,
   "metadata": {},
   "outputs": [
    {
     "data": {
      "image/png": "[encoded data removed]",
      "text/latex": [
       "$$\\left [ \\alpha, \\quad \\alpha^{2} - \\beta^{2}, \\quad \\alpha \\left(\\alpha^{2} - 3 \\beta^{2}\\right), \\quad \\alpha^{4} - 6 \\alpha^{2} \\beta^{2} + \\beta^{4}, \\quad \\alpha \\left(\\alpha^{4} - 10 \\alpha^{2} \\beta^{2} + 5 \\beta^{4}\\right), \\quad \\alpha^{6} - 15 \\alpha^{4} \\beta^{2} + 15 \\alpha^{2} \\beta^{4} - \\beta^{6}, \\quad \\alpha \\left(\\alpha^{6} - 21 \\alpha^{4} \\beta^{2} + 35 \\alpha^{2} \\beta^{4} - 7 \\beta^{6}\\right), \\quad \\alpha^{8} - 28 \\alpha^{6} \\beta^{2} + 70 \\alpha^{4} \\beta^{4} - 28 \\alpha^{2} \\beta^{6} + \\beta^{8}, \\quad \\alpha \\left(\\alpha^{8} - 36 \\alpha^{6} \\beta^{2} + 126 \\alpha^{4} \\beta^{4} - 84 \\alpha^{2} \\beta^{6} + 9 \\beta^{8}\\right), \\quad \\alpha^{10} - 45 \\alpha^{8} \\beta^{2} + 210 \\alpha^{6} \\beta^{4} - 210 \\alpha^{4} \\beta^{6} + 45 \\alpha^{2} \\beta^{8} - \\beta^{10}, \\quad \\alpha \\left(\\alpha^{10} - 55 \\alpha^{8} \\beta^{2} + 330 \\alpha^{6} \\beta^{4} - 462 \\alpha^{4} \\beta^{6} + 165 \\alpha^{2} \\beta^{8} - 11 \\beta^{10}\\right)\\right ]$$"
      ],
      "text/plain": [
       "⎡    2    2    ⎛ 2      2⎞   4      2  2    4    ⎛ 4       2  2      4⎞   6   \n",
       "⎣α, α  - β , α⋅⎝α  - 3⋅β ⎠, α  - 6⋅α ⋅β  + β , α⋅⎝α  - 10⋅α ⋅β  + 5⋅β ⎠, α  - \n",
       "\n",
       "    4  2       2  4    6    ⎛ 6       4  2       2  4      6⎞   8       6  2  \n",
       "15⋅α ⋅β  + 15⋅α ⋅β  - β , α⋅⎝α  - 21⋅α ⋅β  + 35⋅α ⋅β  - 7⋅β ⎠, α  - 28⋅α ⋅β  +\n",
       "\n",
       "     4  4       2  6    8    ⎛ 8       6  2        4  4       2  6      8⎞   1\n",
       " 70⋅α ⋅β  - 28⋅α ⋅β  + β , α⋅⎝α  - 36⋅α ⋅β  + 126⋅α ⋅β  - 84⋅α ⋅β  + 9⋅β ⎠, α \n",
       "\n",
       "0       8  2        6  4        4  6       2  8    10    ⎛ 10       8  2      \n",
       "  - 45⋅α ⋅β  + 210⋅α ⋅β  - 210⋅α ⋅β  + 45⋅α ⋅β  - β  , α⋅⎝α   - 55⋅α ⋅β  + 330\n",
       "\n",
       "  6  4        4  6        2  8       10⎞⎤\n",
       "⋅α ⋅β  - 462⋅α ⋅β  + 165⋅α ⋅β  - 11⋅β  ⎠⎦"
      ]
     },
     "execution_count": 17,
     "metadata": {},
     "output_type": "execute_result"
    }
   ],
   "source": [
    "cs"
   ]
  },
  {
   "cell_type": "code",
   "execution_count": 18,
   "metadata": {},
   "outputs": [
    {
     "data": {
      "image/png": "[encoded data removed]",
      "text/latex": [
       "$$\\left [ \\beta, \\quad 2 \\alpha \\beta, \\quad \\beta \\left(3 \\alpha^{2} - \\beta^{2}\\right), \\quad 4 \\alpha \\beta \\left(\\alpha^{2} - \\beta^{2}\\right), \\quad \\beta \\left(5 \\alpha^{4} - 10 \\alpha^{2} \\beta^{2} + \\beta^{4}\\right), \\quad 6 \\alpha^{5} \\beta - 20 \\alpha^{3} \\beta^{3} + 6 \\alpha \\beta^{5}, \\quad \\beta \\left(7 \\alpha^{6} - 35 \\alpha^{4} \\beta^{2} + 21 \\alpha^{2} \\beta^{4} - \\beta^{6}\\right), \\quad 8 \\alpha \\beta \\left(\\alpha^{6} - 7 \\alpha^{4} \\beta^{2} + 7 \\alpha^{2} \\beta^{4} - \\beta^{6}\\right), \\quad \\beta \\left(9 \\alpha^{8} - 84 \\alpha^{6} \\beta^{2} + 126 \\alpha^{4} \\beta^{4} - 36 \\alpha^{2} \\beta^{6} + \\beta^{8}\\right), \\quad 10 \\alpha^{9} \\beta - 120 \\alpha^{7} \\beta^{3} + 252 \\alpha^{5} \\beta^{5} - 120 \\alpha^{3} \\beta^{7} + 10 \\alpha \\beta^{9}, \\quad \\beta \\left(11 \\alpha^{10} - 165 \\alpha^{8} \\beta^{2} + 462 \\alpha^{6} \\beta^{4} - 330 \\alpha^{4} \\beta^{6} + 55 \\alpha^{2} \\beta^{8} - \\beta^{10}\\right)\\right ]$$"
      ],
      "text/plain": [
       "⎡            ⎛   2    2⎞        ⎛ 2    2⎞    ⎛   4       2  2    4⎞     5     \n",
       "⎣β, 2⋅α⋅β, β⋅⎝3⋅α  - β ⎠, 4⋅α⋅β⋅⎝α  - β ⎠, β⋅⎝5⋅α  - 10⋅α ⋅β  + β ⎠, 6⋅α ⋅β - \n",
       "\n",
       "    3  3        5    ⎛   6       4  2       2  4    6⎞        ⎛ 6      4  2   \n",
       "20⋅α ⋅β  + 6⋅α⋅β , β⋅⎝7⋅α  - 35⋅α ⋅β  + 21⋅α ⋅β  - β ⎠, 8⋅α⋅β⋅⎝α  - 7⋅α ⋅β  + \n",
       "\n",
       "   2  4    6⎞    ⎛   8       6  2        4  4       2  6    8⎞      9         \n",
       "7⋅α ⋅β  - β ⎠, β⋅⎝9⋅α  - 84⋅α ⋅β  + 126⋅α ⋅β  - 36⋅α ⋅β  + β ⎠, 10⋅α ⋅β - 120⋅\n",
       "\n",
       " 7  3        5  5        3  7         9    ⎛    10        8  2        6  4    \n",
       "α ⋅β  + 252⋅α ⋅β  - 120⋅α ⋅β  + 10⋅α⋅β , β⋅⎝11⋅α   - 165⋅α ⋅β  + 462⋅α ⋅β  - 3\n",
       "\n",
       "    4  6       2  8    10⎞⎤\n",
       "30⋅α ⋅β  + 55⋅α ⋅β  - β  ⎠⎦"
      ]
     },
     "execution_count": 18,
     "metadata": {},
     "output_type": "execute_result"
    }
   ],
   "source": [
    "ss"
   ]
  },
  {
   "cell_type": "code",
   "execution_count": null,
   "metadata": {
    "collapsed": true
   },
   "outputs": [],
   "source": []
  }
 ],
 "metadata": {
  "kernelspec": {
   "display_name": "Python 3",
   "language": "python",
   "name": "python3"
  },
  "language_info": {
   "codemirror_mode": {
    "name": "ipython",
    "version": 3
   },
   "file_extension": ".py",
   "mimetype": "text/x-python",
   "name": "python",
   "nbconvert_exporter": "python",
   "pygments_lexer": "ipython3",
   "version": "3.6.4"
  }
 },
 "nbformat": 4,
 "nbformat_minor": 2
}
