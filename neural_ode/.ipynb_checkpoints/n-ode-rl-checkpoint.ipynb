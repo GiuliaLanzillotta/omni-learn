{
 "cells": [
  {
   "cell_type": "code",
   "execution_count": 23,
   "metadata": {},
   "outputs": [
    {
     "name": "stdout",
     "output_type": "stream",
     "text": [
      "The autoreload extension is already loaded. To reload it, use:\n",
      "  %reload_ext autoreload\n"
     ]
    }
   ],
   "source": [
    "import sys, os, time\n",
    "%load_ext autoreload\n",
    "%autoreload 2\n",
    "import torch\n",
    "import torch.nn.functional as F\n",
    "from torch.autograd import Variable, grad\n",
    "import torch.distributions as distrib\n",
    "import torch.nn as nn\n",
    "import torch.utils.data as td\n",
    "from torch.utils.data import Dataset, DataLoader\n",
    "import gym\n",
    "import numpy as np\n",
    "%matplotlib notebook\n",
    "#%matplotlib tk\n",
    "from torchdiffeq import odeint\n",
    "\n",
    "import matplotlib.pyplot as plt\n",
    "#plt.switch_backend('Qt5Agg') #('Qt5Agg')\n",
    "from scipy.sparse import coo_matrix\n",
    "import foundation as fd\n",
    "from foundation import nets\n",
    "from foundation import util\n",
    "from foundation import train\n",
    "import torch.multiprocessing as mp\n",
    "np.set_printoptions(linewidth=120)\n",
    "\n",
    "from nb_backend import *"
   ]
  },
  {
   "cell_type": "code",
   "execution_count": 24,
   "metadata": {},
   "outputs": [
    {
     "name": "stdout",
     "output_type": "stream",
     "text": [
      "Name: test-node-policy\n"
     ]
    }
   ],
   "source": [
    "args = util.NS()\n",
    "args.name = 'test-node-policy'\n",
    "\n",
    "args.txtlog = False\n",
    "args.tblog = True\n",
    "args.save_root = '../trained_nets/'\n",
    "args.num_workers = 2\n",
    "\n",
    "args.def_type = 'torch.FloatTensor'\n",
    "\n",
    "#args.env = 'cartpole'\n",
    "args.env = 'Pendulum-v0'\n",
    "args.base_seed = 12\n",
    "\n",
    "args.optim_type = 'rmsprop'\n",
    "args.lr = 1e-3\n",
    "args.weight_decay = 1e-4\n",
    "args.momentum = 0.9\n",
    "\n",
    "args.nonlin = 'prelu'\n",
    "args.pi_hidden = [8]\n",
    "args.dyn_hidden = [8, 8, 8]\n",
    "\n",
    "args.delta = 0.01\n",
    "args.gamma = 0.99\n",
    "\n",
    "args.num_iter = 100\n",
    "args.num_traj = 20\n",
    "args.num_eval = 5\n",
    "\n",
    "print('Name: {}'.format(args.name))"
   ]
  },
  {
   "cell_type": "code",
   "execution_count": 25,
   "metadata": {},
   "outputs": [
    {
     "name": "stdout",
     "output_type": "stream",
     "text": [
      "Save dir: ../trained_nets/test-node-policy/19-01-20-023310\n",
      "Logging in ../trained_nets/test-node-policy/19-01-20-023310\n",
      "Env: Pendulum-v0 (obs=3,act=1)\n"
     ]
    }
   ],
   "source": [
    "now = time.strftime(\"%y-%m-%d-%H%M%S\")\n",
    "args.save_dir = os.path.join(args.save_root, args.name, now)\n",
    "#args.save_dir = os.path.join(args.save_root, args.name)\n",
    "print('Save dir: {}'.format(args.save_dir))\n",
    "if args.tblog or args.txtlog:\n",
    "    util.create_dir(args.save_dir)\n",
    "    print('Logging in {}'.format(args.save_dir))\n",
    "logger = util.Logger(args.save_dir, tensorboard=args.tblog, txt=args.txtlog)\n",
    "env = util.Numpy_Env_Wrapper(gym.make(args.env))\n",
    "args.state_dim = env.observation_space.shape[0] #env.spec.obs_space.size\n",
    "args.ctrl_dim = env.action_space.shape[0] #env.spec.action_space.choices if args.env == 'cartpole' else env.spec.action_space.size\n",
    "print('Env: {} (obs={},act={})'.format(args.env, args.state_dim, args.ctrl_dim))"
   ]
  },
  {
   "cell_type": "code",
   "execution_count": 26,
   "metadata": {},
   "outputs": [
    {
     "name": "stdout",
     "output_type": "stream",
     "text": [
      "Integrator(\n",
      "  (policy): Policy(\n",
      "    (net): Sequential(\n",
      "      (0): Linear(in_features=3, out_features=8, bias=True)\n",
      "      (1): PReLU(num_parameters=1)\n",
      "      (2): Linear(in_features=8, out_features=1, bias=True)\n",
      "      (3): Tanh()\n",
      "    )\n",
      "  )\n",
      "  (dynamics): Dynamics(\n",
      "    (net): Sequential(\n",
      "      (0): Linear(in_features=4, out_features=8, bias=True)\n",
      "      (1): PReLU(num_parameters=1)\n",
      "      (2): Linear(in_features=8, out_features=8, bias=True)\n",
      "      (3): PReLU(num_parameters=1)\n",
      "      (4): Linear(in_features=8, out_features=8, bias=True)\n",
      "      (5): PReLU(num_parameters=1)\n",
      "      (6): Linear(in_features=8, out_features=3, bias=True)\n",
      "    )\n",
      "  )\n",
      ")\n"
     ]
    }
   ],
   "source": [
    "policy = Policy(state_dim=args.state_dim, ctrl_dim=args.ctrl_dim, hidden_dims=args.pi_hidden, nonlin=args.nonlin)\n",
    "dynamics = Dynamics(state_dim=args.state_dim, ctrl_dim=args.ctrl_dim, hidden_dims=args.dyn_hidden, nonlin=args.nonlin)\n",
    "func = Integrator(policy, dynamics)\n",
    "print(func)"
   ]
  },
  {
   "cell_type": "code",
   "execution_count": 27,
   "metadata": {},
   "outputs": [
    {
     "data": {
      "text/plain": [
       "(torch.Size([201, 3]), torch.Size([200, 1]), torch.Size([200]))"
      ]
     },
     "execution_count": 27,
     "metadata": {},
     "output_type": "execute_result"
    }
   ],
   "source": [
    "states, actions, rewards = generate_rollouts(policy, env=env)\n",
    "states.shape, actions.shape, rewards.shape"
   ]
  },
  {
   "cell_type": "code",
   "execution_count": 28,
   "metadata": {},
   "outputs": [
    {
     "name": "stdout",
     "output_type": "stream",
     "text": [
      "tensor([1., 0., 0.])\n",
      "tensor([[1., 0., 0.],\n",
      "        [0., 1., 0.],\n",
      "        [0., 0., 1.]])\n",
      "tensor([[1.]])\n"
     ]
    }
   ],
   "source": [
    "goal = torch.tensor([1,0,0]).float()\n",
    "Q = torch.eye(args.state_dim)\n",
    "R = torch.eye(args.ctrl_dim)\n",
    "def cost(x, u=None):\n",
    "    q = x-goal.unsqueeze(0)\n",
    "    cost = q.unsqueeze(-2)@Q@q.unsqueeze(-1)\n",
    "    if u is not None:\n",
    "        cost += u.unsqueeze(-2)@R@u.unsqueeze(-1)\n",
    "    return cost\n",
    "print(goal)\n",
    "print(Q)\n",
    "print(R)\n",
    "times = torch.arange(env.spec.timestep_limit).float()+1.\n",
    "times /= 100"
   ]
  },
  {
   "cell_type": "code",
   "execution_count": 29,
   "metadata": {},
   "outputs": [],
   "source": [
    "criterion = nn.MSELoss()\n",
    "dyn_optim = nets.get_optimizer(args.optim_type, dynamics.parameters(), lr=args.lr, weight_decay=args.weight_decay)\n",
    "pi_optim = nets.get_optimizer(args.optim_type, policy.parameters(), lr=args.lr, weight_decay=args.weight_decay)"
   ]
  },
  {
   "cell_type": "code",
   "execution_count": 30,
   "metadata": {},
   "outputs": [],
   "source": [
    "itr = 0\n",
    "num = 1000"
   ]
  },
  {
   "cell_type": "code",
   "execution_count": 31,
   "metadata": {},
   "outputs": [],
   "source": [
    "stats = util.StatsMeter('pi', 'dyn', 'total', tau=0.05)"
   ]
  },
  {
   "cell_type": "code",
   "execution_count": 34,
   "metadata": {},
   "outputs": [
    {
     "name": "stdout",
     "output_type": "stream",
     "text": [
      "Itr 1001: dyn=1.3617 (5.9617), pi=2.6219 (0.7789), total=3.9835 (6.7406)\n",
      "Itr 1011: dyn=1.3646 (4.1166), pi=2.5755 (1.5064), total=3.9401 (5.6231)\n",
      "Itr 1021: dyn=1.3666 (3.0129), pi=2.5463 (1.9277), total=3.9128 (4.9405)\n",
      "Itr 1031: dyn=1.3688 (2.3528), pi=2.5150 (2.1684), total=3.8837 (4.5212)\n",
      "Itr 1041: dyn=1.3711 (1.9585), pi=2.4841 (2.3001), total=3.8552 (4.2586)\n",
      "Itr 1051: dyn=1.3737 (1.7234), pi=2.4667 (2.3700), total=3.8404 (4.0935)\n",
      "Itr 1061: dyn=1.3758 (1.5836), pi=2.4393 (2.4022), total=3.8151 (3.9858)\n",
      "Itr 1071: dyn=1.3781 (1.5008), pi=2.4109 (2.4103), total=3.7890 (3.9110)\n",
      "Itr 1081: dyn=1.3806 (1.4522), pi=2.3802 (2.4027), total=3.7608 (3.8549)\n",
      "Itr 1091: dyn=1.3828 (1.4240), pi=2.3540 (2.3875), total=3.7368 (3.8115)\n",
      "Itr 1101: dyn=1.3855 (1.4081), pi=2.3254 (2.3675), total=3.7109 (3.7755)\n",
      "Itr 1111: dyn=1.3882 (1.3996), pi=2.2969 (2.3438), total=3.6851 (3.7435)\n",
      "Itr 1121: dyn=1.3912 (1.3957), pi=2.2671 (2.3180), total=3.6582 (3.7137)\n",
      "Itr 1131: dyn=1.3945 (1.3947), pi=2.2359 (2.2901), total=3.6303 (3.6848)\n",
      "Itr 1141: dyn=1.3981 (1.3955), pi=2.2029 (2.2606), total=3.6011 (3.6560)\n",
      "Itr 1151: dyn=1.4023 (1.3975), pi=2.1683 (2.2293), total=3.5706 (3.6268)\n",
      "Itr 1161: dyn=1.4068 (1.4005), pi=2.1323 (2.1963), total=3.5390 (3.5968)\n",
      "Itr 1171: dyn=1.4122 (1.4043), pi=2.0930 (2.1611), total=3.5052 (3.5655)\n",
      "Itr 1181: dyn=1.4178 (1.4088), pi=2.0532 (2.1244), total=3.4711 (3.5332)\n",
      "Itr 1191: dyn=1.4253 (1.4144), pi=2.0057 (2.0836), total=3.4310 (3.4979)\n",
      "Itr 1201: dyn=1.4335 (1.4207), pi=1.9562 (2.0407), total=3.3897 (3.4614)\n",
      "Itr 1211: dyn=1.4429 (1.4279), pi=1.9046 (1.9950), total=3.3474 (3.4229)\n",
      "Itr 1221: dyn=1.4495 (1.4356), pi=1.8661 (1.9491), total=3.3156 (3.3847)\n",
      "Itr 1231: dyn=1.4584 (1.4433), pi=1.8162 (1.9048), total=3.2746 (3.3481)\n",
      "Itr 1241: dyn=1.4528 (1.4472), pi=1.8739 (1.8900), total=3.3266 (3.3372)\n",
      "Itr 1251: dyn=1.4583 (1.4508), pi=1.8455 (1.8766), total=3.3038 (3.3273)\n",
      "Itr 1261: dyn=1.4646 (1.4559), pi=1.7914 (1.8514), total=3.2560 (3.3073)\n",
      "Itr 1271: dyn=1.4988 (1.4636), pi=1.6748 (1.8122), total=3.1736 (3.2759)\n",
      "Itr 1281: dyn=1.4589 (1.4688), pi=1.8903 (1.8073), total=3.3491 (3.2761)\n",
      "Itr 1291: dyn=1.4590 (1.4649), pi=1.8894 (1.8404), total=3.3484 (3.3053)\n",
      "Itr 1301: dyn=1.4602 (1.4627), pi=1.8846 (1.8593), total=3.3448 (3.3220)\n",
      "Itr 1311: dyn=1.4571 (1.4610), pi=1.8968 (1.8722), total=3.3539 (3.3332)\n",
      "Itr 1321: dyn=1.4573 (1.4595), pi=1.8958 (1.8818), total=3.3531 (3.3413)\n",
      "Itr 1331: dyn=1.4575 (1.4587), pi=1.8948 (1.8872), total=3.3523 (3.3458)\n",
      "Itr 1341: dyn=1.4577 (1.4582), pi=1.8937 (1.8900), total=3.3514 (3.3482)\n",
      "Itr 1351: dyn=1.4577 (1.4580), pi=1.8935 (1.8915), total=3.3512 (3.3495)\n",
      "Itr 1361: dyn=1.4580 (1.4580), pi=1.8923 (1.8920), total=3.3502 (3.3500)\n",
      "Itr 1371: dyn=1.4583 (1.4580), pi=1.8910 (1.8918), total=3.3493 (3.3498)\n",
      "Itr 1381: dyn=1.4585 (1.4582), pi=1.8897 (1.8912), total=3.3482 (3.3494)\n",
      "Itr 1391: dyn=1.4589 (1.4584), pi=1.8882 (1.8902), total=3.3471 (3.3486)\n",
      "Itr 1401: dyn=1.4592 (1.4587), pi=1.8868 (1.8891), total=3.3460 (3.3478)\n",
      "Itr 1411: dyn=1.4594 (1.4589), pi=1.8858 (1.8879), total=3.3452 (3.3468)\n",
      "Itr 1421: dyn=1.4597 (1.4592), pi=1.8841 (1.8866), total=3.3439 (3.3458)\n",
      "Itr 1431: dyn=1.4601 (1.4595), pi=1.8827 (1.8853), total=3.3427 (3.3448)\n",
      "Itr 1441: dyn=1.4606 (1.4599), pi=1.8801 (1.8834), total=3.3407 (3.3433)\n",
      "Itr 1451: dyn=1.4610 (1.4603), pi=1.8782 (1.8816), total=3.3392 (3.3419)\n",
      "Itr 1461: dyn=1.4615 (1.4607), pi=1.8762 (1.8798), total=3.3377 (3.3405)\n",
      "Itr 1471: dyn=1.4618 (1.4611), pi=1.8746 (1.8780), total=3.3364 (3.3391)\n",
      "Itr 1481: dyn=1.4622 (1.4615), pi=1.8729 (1.8762), total=3.3350 (3.3377)\n",
      "Itr 1491: dyn=1.4627 (1.4619), pi=1.8705 (1.8743), total=3.3332 (3.3362)\n",
      "Itr 1501: dyn=1.4632 (1.4623), pi=1.8682 (1.8723), total=3.3314 (3.3346)\n",
      "Itr 1511: dyn=1.4637 (1.4628), pi=1.8657 (1.8700), total=3.3294 (3.3328)\n",
      "Itr 1521: dyn=1.4644 (1.4633), pi=1.8629 (1.8676), total=3.3273 (3.3310)\n",
      "Itr 1531: dyn=1.4658 (1.4640), pi=1.8576 (1.8646), total=3.3234 (3.3286)\n",
      "Itr 1541: dyn=1.4664 (1.4649), pi=1.8547 (1.8611), total=3.3211 (3.3260)\n",
      "Itr 1551: dyn=1.4671 (1.4657), pi=1.8513 (1.8577), total=3.3184 (3.3234)\n",
      "Itr 1561: dyn=1.4679 (1.4664), pi=1.8482 (1.8544), total=3.3161 (3.3208)\n",
      "Itr 1571: dyn=1.4685 (1.4671), pi=1.8452 (1.8513), total=3.3138 (3.3184)\n",
      "Itr 1581: dyn=1.4693 (1.4679), pi=1.8419 (1.8481), total=3.3112 (3.3160)\n",
      "Itr 1591: dyn=1.4694 (1.4684), pi=1.8405 (1.8457), total=3.3100 (3.3140)\n",
      "Itr 1601: dyn=1.4705 (1.4691), pi=1.8361 (1.8425), total=3.3066 (3.3115)\n",
      "Itr 1611: dyn=1.4709 (1.4697), pi=1.8337 (1.8395), total=3.3046 (3.3092)\n",
      "Itr 1621: dyn=1.4719 (1.4704), pi=1.8295 (1.8362), total=3.3014 (3.3066)\n",
      "Itr 1631: dyn=1.4721 (1.4710), pi=1.8272 (1.8330), total=3.2992 (3.3040)\n",
      "Itr 1641: dyn=1.4733 (1.4717), pi=1.8222 (1.8295), total=3.2954 (3.3012)\n",
      "Itr 1651: dyn=1.4742 (1.4726), pi=1.8185 (1.8257), total=3.2927 (3.2982)\n",
      "Itr 1661: dyn=1.4754 (1.4735), pi=1.8137 (1.8217), total=3.2891 (3.2952)\n",
      "Itr 1671: dyn=1.4766 (1.4745), pi=1.8086 (1.8173), total=3.2852 (3.2918)\n",
      "Itr 1681: dyn=1.4779 (1.4757), pi=1.8030 (1.8125), total=3.2809 (3.2881)\n",
      "Itr 1691: dyn=1.4785 (1.4767), pi=1.7990 (1.8079), total=3.2775 (3.2845)\n",
      "Itr 1701: dyn=1.4785 (1.4774), pi=1.7982 (1.8042), total=3.2767 (3.2816)\n",
      "Itr 1711: dyn=1.4325 (1.4675), pi=1.9780 (1.8426), total=3.4105 (3.3100)\n",
      "Itr 1721: dyn=1.4328 (1.4535), pi=1.9760 (1.8964), total=3.4087 (3.3499)\n",
      "Itr 1731: dyn=1.4331 (1.4453), pi=1.9738 (1.9278), total=3.4069 (3.3731)\n",
      "Itr 1741: dyn=1.4335 (1.4405), pi=1.9715 (1.9457), total=3.4049 (3.3862)\n",
      "Itr 1751: dyn=1.4339 (1.4378), pi=1.9691 (1.9555), total=3.4029 (3.3932)\n",
      "Itr 1761: dyn=1.4342 (1.4363), pi=1.9666 (1.9603), total=3.4008 (3.3966)\n",
      "Itr 1771: dyn=1.4347 (1.4356), pi=1.9639 (1.9622), total=3.3986 (3.3978)\n",
      "Itr 1781: dyn=1.4351 (1.4353), pi=1.9611 (1.9622), total=3.3962 (3.3975)\n",
      "Itr 1791: dyn=1.4356 (1.4353), pi=1.9582 (1.9611), total=3.3938 (3.3964)\n",
      "Itr 1801: dyn=1.4361 (1.4355), pi=1.9552 (1.9592), total=3.3912 (3.3948)\n",
      "Itr 1811: dyn=1.4366 (1.4359), pi=1.9519 (1.9568), total=3.3885 (3.3927)\n",
      "Itr 1821: dyn=1.4371 (1.4363), pi=1.9486 (1.9541), total=3.3857 (3.3904)\n",
      "Itr 1831: dyn=1.4377 (1.4368), pi=1.9451 (1.9511), total=3.3828 (3.3878)\n",
      "Itr 1841: dyn=1.4383 (1.4373), pi=1.9414 (1.9478), total=3.3797 (3.3851)\n",
      "Itr 1851: dyn=1.4389 (1.4378), pi=1.9376 (1.9443), total=3.3765 (3.3822)\n",
      "Itr 1861: dyn=1.4394 (1.4384), pi=1.9342 (1.9408), total=3.3735 (3.3792)\n",
      "Itr 1871: dyn=1.4403 (1.4391), pi=1.9293 (1.9369), total=3.3696 (3.3759)\n",
      "Itr 1881: dyn=1.4411 (1.4397), pi=1.9249 (1.9328), total=3.3660 (3.3725)\n",
      "Itr 1891: dyn=1.4418 (1.4405), pi=1.9203 (1.9285), total=3.3621 (3.3690)\n",
      "Itr 1901: dyn=1.4427 (1.4412), pi=1.9155 (1.9241), total=3.3581 (3.3653)\n",
      "Itr 1911: dyn=1.4435 (1.4420), pi=1.9105 (1.9195), total=3.3540 (3.3614)\n",
      "Itr 1921: dyn=1.4444 (1.4428), pi=1.9053 (1.9146), total=3.3497 (3.3574)\n",
      "Itr 1931: dyn=1.4453 (1.4437), pi=1.8998 (1.9096), total=3.3451 (3.3532)\n",
      "Itr 1941: dyn=1.4463 (1.4446), pi=1.8940 (1.9043), total=3.3404 (3.3489)\n",
      "Itr 1951: dyn=1.4474 (1.4455), pi=1.8880 (1.8988), total=3.3354 (3.3443)\n",
      "Itr 1961: dyn=1.4485 (1.4465), pi=1.8817 (1.8930), total=3.3303 (3.3395)\n",
      "Itr 1971: dyn=1.4497 (1.4476), pi=1.8752 (1.8869), total=3.3249 (3.3345)\n",
      "Itr 1981: dyn=1.4510 (1.4488), pi=1.8683 (1.8806), total=3.3192 (3.3293)\n",
      "Itr 1991: dyn=1.4523 (1.4499), pi=1.8611 (1.8739), total=3.3134 (3.3239)\n"
     ]
    }
   ],
   "source": [
    "print_freq = max(1, num // 100)\n",
    "\n",
    "for _ in range(num):\n",
    "    \n",
    "    #states, actions, rewards = generate_rollouts(policy, env=env)\n",
    "    \n",
    "    x0, xs = states[:1], states[1:]\n",
    "    \n",
    "    pred = odeint(func, x0, times).squeeze()\n",
    "    \n",
    "    dyn_loss = criterion(pred, xs)\n",
    "    pi_loss = cost(pred).mean()\n",
    "    \n",
    "    stats.update('pi', pi_loss.detach())\n",
    "    stats.update('dyn', dyn_loss.detach())\n",
    "    \n",
    "    loss = dyn_loss + pi_loss\n",
    "    \n",
    "    stats.update('total', loss.detach())\n",
    "    \n",
    "    dyn_optim.zero_grad()\n",
    "    pi_optim.zero_grad()\n",
    "    \n",
    "    loss.backward()\n",
    "    \n",
    "    dyn_optim.step()\n",
    "    pi_optim.step()\n",
    "    \n",
    "    if itr % print_freq == 0:\n",
    "        print('Itr {}: dyn={dyn.val:.4f} ({dyn.smooth:.4f}), pi={pi.val:.4f} ({pi.smooth:.4f}), total={total.val:.4f} ({total.smooth:.4f})'.format(itr+1, \n",
    "                        dyn=stats['dyn'], pi=stats['pi'], total=stats['total']))\n",
    "        logger.update(stats.smooths(), itr)\n",
    "    \n",
    "    itr += 1"
   ]
  },
  {
   "cell_type": "code",
   "execution_count": 47,
   "metadata": {},
   "outputs": [],
   "source": [
    "#pred = odeint(func, states[:1], times)"
   ]
  },
  {
   "cell_type": "code",
   "execution_count": 13,
   "metadata": {},
   "outputs": [
    {
     "data": {
      "text/plain": [
       "torch.Size([200, 3])"
      ]
     },
     "execution_count": 13,
     "metadata": {},
     "output_type": "execute_result"
    }
   ],
   "source": [
    "pred.shape"
   ]
  },
  {
   "cell_type": "code",
   "execution_count": 36,
   "metadata": {},
   "outputs": [],
   "source": [
    "generate_rollouts(policy, env=env, render=True)\n",
    "pass"
   ]
  },
  {
   "cell_type": "code",
   "execution_count": 33,
   "metadata": {},
   "outputs": [
    {
     "data": {
      "text/plain": [
       "(torch.Size([201, 3]), torch.Size([200, 1]), torch.Size([200]))"
      ]
     },
     "execution_count": 33,
     "metadata": {},
     "output_type": "execute_result"
    }
   ],
   "source": [
    "states, actions, rewards = generate_rollouts(policy, env=env, render=True)\n",
    "states.shape, actions.shape, rewards.shape"
   ]
  },
  {
   "cell_type": "code",
   "execution_count": null,
   "metadata": {},
   "outputs": [],
   "source": []
  },
  {
   "cell_type": "code",
   "execution_count": 9,
   "metadata": {},
   "outputs": [
    {
     "data": {
      "text/plain": [
       "tensor([[[3.7948]],\n",
       "\n",
       "        [[3.0070]]])"
      ]
     },
     "execution_count": 9,
     "metadata": {},
     "output_type": "execute_result"
    }
   ],
   "source": [
    "q = states[:2]-goal\n",
    "#q = q.unsqueeze(-2)\n",
    "q.unsqueeze(-2)@Q@q.unsqueeze(-1)"
   ]
  },
  {
   "cell_type": "code",
   "execution_count": null,
   "metadata": {},
   "outputs": [],
   "source": []
  },
  {
   "cell_type": "code",
   "execution_count": null,
   "metadata": {},
   "outputs": [],
   "source": []
  },
  {
   "cell_type": "code",
   "execution_count": 14,
   "metadata": {},
   "outputs": [
    {
     "data": {
      "text/plain": [
       "tensor(-9.0670)"
      ]
     },
     "execution_count": 14,
     "metadata": {},
     "output_type": "execute_result"
    }
   ],
   "source": [
    "rewards.mean()"
   ]
  },
  {
   "cell_type": "code",
   "execution_count": null,
   "metadata": {},
   "outputs": [],
   "source": []
  }
 ],
 "metadata": {
  "kernelspec": {
   "display_name": "Python 3",
   "language": "python",
   "name": "python3"
  },
  "language_info": {
   "codemirror_mode": {
    "name": "ipython",
    "version": 3
   },
   "file_extension": ".py",
   "mimetype": "text/x-python",
   "name": "python",
   "nbconvert_exporter": "python",
   "pygments_lexer": "ipython3",
   "version": "3.6.7"
  }
 },
 "nbformat": 4,
 "nbformat_minor": 2
}
