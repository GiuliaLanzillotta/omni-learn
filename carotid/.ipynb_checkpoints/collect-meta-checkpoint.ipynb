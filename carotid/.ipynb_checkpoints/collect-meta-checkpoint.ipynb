{
 "cells": [
  {
   "cell_type": "code",
   "execution_count": 1,
   "metadata": {},
   "outputs": [],
   "source": [
    "import sys, os\n",
    "import numpy as np\n",
    "%matplotlib notebook\n",
    "import matplotlib.pyplot as plt\n",
    "import pydub\n",
    "import torch"
   ]
  },
  {
   "cell_type": "code",
   "execution_count": 2,
   "metadata": {},
   "outputs": [],
   "source": [
    "# links to playlists\n",
    "genres = {\n",
    "    'hiphop-rap':'https://www.youtube.com/watch?list=PLzCxunOM5WFKNv_NaoVO6DWNkR3K8K9WC',\n",
    "    'dance-elec': 'https://www.youtube.com/watch?list=PLzCxunOM5WFIBEfixsIWyqPpaABQ5S8HD',\n",
    "    'rnb-soul': 'https://www.youtube.com/watch?list=PLzCxunOM5WFL62ueRaBvSgn3cdAKF1LTN',\n",
    "    'pop': 'https://www.youtube.com/watch?list=PLzCxunOM5WFKfvJEscFqBsFc_E0PnoTfl',\n",
    "    'alt-punk': 'https://www.youtube.com/watch?list=PLzCxunOM5WFJZ7HaCoIGGjMTRHNH9XJtq',\n",
    "    'ambient': 'https://www.youtube.com/watch?list=PLzCxunOM5WFKLMyFz_y8cmD0Hh83C4EwU',\n",
    "    'cinematic': 'https://www.youtube.com/watch?list=PLzCxunOM5WFJmDRIzZJQexQfSxphkbB9o',\n",
    "    'classical': 'https://www.youtube.com/watch?list=PLzCxunOM5WFLGB-hTmMkBfV1NX9RsEHuT',\n",
    "    'country': 'https://www.youtube.com/watch?list=PLzCxunOM5WFL6XAUsbah99b_FAcTQxNFa',\n",
    "    'holiday': 'https://www.youtube.com/watch?list=PLzCxunOM5WFI87h7sIMpiLzo-O0wxQhcy',\n",
    "    'jazz-blues': 'https://www.youtube.com/watch?list=PLzCxunOM5WFKIFKApBxd7Qbl2MVhM7t0O',\n",
    "    'reggae': 'https://www.youtube.com/watch?list=PLzCxunOM5WFIPt6HW1Z6am5v7SvuStSkD',\n",
    "    'rock': 'https://www.youtube.com/watch?list=PLzCxunOM5WFIafrdyOCFR4G3hKFWV9sLg',\n",
    "    'childrens': 'https://www.youtube.com/watch?list=PLzCxunOM5WFIEA9J1aC6fJOZFBFPGPFVV',\n",
    "}\n",
    "\n",
    "moods = {\n",
    "    'funky': 'https://www.youtube.com/watch?list=PLzCxunOM5WFJTtbMKRR1exz9TbL4chEwJ',\n",
    "    'bright': 'https://www.youtube.com/watch?list=PLzCxunOM5WFKZuBXTe8EobD6Dwi4qV-kO',\n",
    "    'happy': 'https://www.youtube.com/watch?list=PLzCxunOM5WFLOaTRCzeGrODz8TWaLrbhv',\n",
    "    'inspirational': 'https://www.youtube.com/watch?list=PLzCxunOM5WFJBZIubb6gE-osrl9vMbK7e',\n",
    "    'dark': 'https://www.youtube.com/watch?list=PLzCxunOM5WFIudfMTgJzXkOE-xbVWrpIF',\n",
    "    'calm': 'https://www.youtube.com/watch?list=PLzCxunOM5WFIRlYt5KJngVDXt9uIqX_1B',\n",
    "    'sad': 'https://www.youtube.com/watch?list=PLzCxunOM5WFKZ4pr8Jfj9O3ZJ7msYjZ2p',\n",
    "    'romantic': 'https://www.youtube.com/watch?list=PLzCxunOM5WFLJ23vgV1KMw0fdcjOTs7VM',\n",
    "    'dramatic': 'https://www.youtube.com/watch?list=PLzCxunOM5WFK7WGa3wGjlONp_9R66a2zz',\n",
    "    'angry': 'https://www.youtube.com/watch?list=PLzCxunOM5WFL4gtB-trNBjuG8f4C7a-GV',\n",
    "}\n",
    "root = '/home/fleeb/workspace/ml_datasets/audio/yt/meta/'"
   ]
  },
  {
   "cell_type": "code",
   "execution_count": 9,
   "metadata": {},
   "outputs": [],
   "source": [
    "cmd_template = 'youtube-dl --extract-audio --audio-format mp3 -o \"%(title)s.%(ext)s\" {link} --get-filename --get-duration > {output}.txt'"
   ]
  },
  {
   "cell_type": "code",
   "execution_count": 6,
   "metadata": {},
   "outputs": [],
   "source": []
  },
  {
   "cell_type": "code",
   "execution_count": 23,
   "metadata": {},
   "outputs": [],
   "source": [
    "def gen_meta_cmds(links, name):\n",
    "    \n",
    "    fdr = '/home/fleeb/workspace/ml_datasets/audio/yt/meta/temp-meta-{}'.format(name)\n",
    "    try:\n",
    "        os.mkdir(fdr)\n",
    "    except:\n",
    "        pass\n",
    "    \n",
    "    with open('cmds.sh', 'w') as f:\n",
    "        \n",
    "        for cat, link in links.items():\n",
    "            f.write(cmd_template.format(link=link, output=os.path.join(fdr, cat)) + '\\n')\n",
    "            f.write('echo \\\"{} complete\\\"'.format(cat) + '\\n')\n",
    "#gen_meta_cmds(genres, 'genres')\n",
    "#gen_meta_cmds(moods, 'moods')"
   ]
  },
  {
   "cell_type": "code",
   "execution_count": 3,
   "metadata": {},
   "outputs": [],
   "source": [
    "# read/format temp meta files\n",
    "def parse_temp_meta(path):\n",
    "    \n",
    "    with open(path, 'r') as f:\n",
    "        lines = f.readlines()\n",
    "        \n",
    "    records = {}\n",
    "    for name, duration in zip(lines[::2], lines[1::2]):\n",
    "        try:\n",
    "            m, s = duration.split(':')\n",
    "        except:\n",
    "            s = duration\n",
    "        t = int(m)*60 + int(s)\n",
    "        records[''.join(name.split('.')[:-1])] = t\n",
    "    return records"
   ]
  },
  {
   "cell_type": "code",
   "execution_count": 4,
   "metadata": {},
   "outputs": [
    {
     "name": "stdout",
     "output_type": "stream",
     "text": [
      "jazz-blues 73 11428\n",
      "rock 111 16595\n",
      "country 66 9082\n",
      "dance-elec 341 70852\n",
      "reggae 24 2994\n",
      "pop 133 23120\n",
      "rnb-soul 70 11347\n",
      "holiday 32 4634\n",
      "hiphop-rap 132 21569\n",
      "classical 63 14847\n",
      "ambient 78 15733\n",
      "alt-punk 35 4826\n",
      "cinematic 125 17105\n",
      "childrens 19 2817\n"
     ]
    }
   ],
   "source": [
    "grec = {}\n",
    "for cat in genres:\n",
    "    grec[cat] = parse_temp_meta(os.path.join(root, 'temp-meta-genres', '{}.txt'.format(cat)))\n",
    "    print(cat, len(grec[cat]), sum(grec[cat].values()))"
   ]
  },
  {
   "cell_type": "code",
   "execution_count": 5,
   "metadata": {},
   "outputs": [
    {
     "data": {
      "text/plain": [
       "dict_keys(['Pixel Peeker Polka - faster (No Copyright Music)', 'Mr Turtle - The Green Orbs (No Copyright Music)', '[No Copyright Music] SUNDAY MORNING - Nicolai Heidlas', 'Buddy - Bensound (No Copyright Music)', 'Claudio The Worm - The Green Orbs (No Copyright Music)', 'London Bridge instrumental - The Green Orbs (No Copyright Music)', '[No Copyright Music] NoWay2 - PeriTune', 'At The Fair - The Green Orbs (No Copyright Music)', '[No Copyright Music] Walk - Ikson', 'Bubble Bath - The Green Orbs (No Copyright Music)', 'Rock-a-bye Baby - The Green Orbs (No Copyright Music)', 'Cute - Bensound (No Copyright Music)', 'Are You Sleeping - The Green Orbs (No Copyright Music)', 'Funny Song - Bensound (No Copyright Music)', 'Ponies and Balloons - The Green Orbs (No Copyright Music)', '[No Copyright Music] CARTOON - Nicolai Heidlas', 'Rainy Day Games - The Green Orbs (No Copyright Music)', 'Baltic Levity - Thatched Villagers (No Copyright Music)', 'The Farmer In The Dell (Instrumental) - The Green Orbs (No Copyright Music)'])"
      ]
     },
     "execution_count": 5,
     "metadata": {},
     "output_type": "execute_result"
    }
   ],
   "source": [
    "grec[cat].keys()"
   ]
  },
  {
   "cell_type": "code",
   "execution_count": 6,
   "metadata": {},
   "outputs": [
    {
     "name": "stdout",
     "output_type": "stream",
     "text": [
      "dark 119 21704\n",
      "dramatic 119 22111\n",
      "angry 55 8396\n",
      "funky 133 22428\n",
      "sad 48 8630\n",
      "happy 211 32391\n",
      "calm 161 30953\n",
      "inspirational 136 23619\n",
      "romantic 42 7148\n",
      "bright 272 48637\n"
     ]
    }
   ],
   "source": [
    "mrec = {}\n",
    "for cat in moods:\n",
    "    mrec[cat] = parse_temp_meta(os.path.join(root, 'temp-meta-moods', '{}.txt'.format(cat)))\n",
    "    print(cat, len(mrec[cat]), sum(mrec[cat].values()))"
   ]
  },
  {
   "cell_type": "code",
   "execution_count": 84,
   "metadata": {},
   "outputs": [
    {
     "data": {
      "text/plain": [
       "226017"
      ]
     },
     "execution_count": 84,
     "metadata": {},
     "output_type": "execute_result"
    }
   ],
   "source": [
    "sum([sum(v.values()) for v in mrec.values()])"
   ]
  },
  {
   "cell_type": "code",
   "execution_count": 85,
   "metadata": {},
   "outputs": [
    {
     "data": {
      "text/plain": [
       "1296"
      ]
     },
     "execution_count": 85,
     "metadata": {},
     "output_type": "execute_result"
    }
   ],
   "source": [
    "sum([len(v) for v in mrec.values()])"
   ]
  },
  {
   "cell_type": "code",
   "execution_count": 86,
   "metadata": {},
   "outputs": [
    {
     "data": {
      "text/plain": [
       "1302"
      ]
     },
     "execution_count": 86,
     "metadata": {},
     "output_type": "execute_result"
    }
   ],
   "source": [
    "sum([len(v) for v in grec.values()])"
   ]
  },
  {
   "cell_type": "code",
   "execution_count": 87,
   "metadata": {},
   "outputs": [
    {
     "data": {
      "text/plain": [
       "226949"
      ]
     },
     "execution_count": 87,
     "metadata": {},
     "output_type": "execute_result"
    }
   ],
   "source": [
    "sum([sum(v.values()) for v in grec.values()])"
   ]
  },
  {
   "cell_type": "code",
   "execution_count": 7,
   "metadata": {},
   "outputs": [
    {
     "data": {
      "text/plain": [
       "1295"
      ]
     },
     "execution_count": 7,
     "metadata": {},
     "output_type": "execute_result"
    }
   ],
   "source": [
    "gall = set()\n",
    "for rec in grec.values():\n",
    "    gall.update(rec.keys())\n",
    "len(gall)"
   ]
  },
  {
   "cell_type": "code",
   "execution_count": 8,
   "metadata": {},
   "outputs": [
    {
     "name": "stdout",
     "output_type": "stream",
     "text": [
      "rock ambient {\"Don't Look - Silent Partner (No Copyright Music)\"}\n",
      "dance-elec pop {'[Royalty Free Music] Discotheque - Bluehost'}\n",
      "dance-elec hiphop-rap {'[No Copyright Music] Money (feat Celeste Collins) _ Back Home _ Embrace'}\n",
      "dance-elec ambient {'Icy Vindur - A Himitsu (No Copyright Music)', 'Where Silence Is Nonexistent - A Himitsu (No Copyright Music)', 'Cease - A Himitsu (No Copyright Music)', 'Easier to Fade (feat Madi Larson) - A Himitsu (No Copyright Music)'}\n"
     ]
    }
   ],
   "source": [
    "keys = list(grec.keys())\n",
    "for i, k1 in enumerate(keys):\n",
    "    for k2 in keys[i+1:]:\n",
    "        ints = set(grec[k1].keys()).intersection(set(grec[k2].keys()))\n",
    "        if len(ints):\n",
    "            print(k1, k2, ints)"
   ]
  },
  {
   "cell_type": "code",
   "execution_count": 9,
   "metadata": {},
   "outputs": [
    {
     "name": "stdout",
     "output_type": "stream",
     "text": [
      "dark angry {'Garage - Topher Mohr and Alex Elena (No Copyright Music)'}\n",
      "dark calm {\"Don't Look - Silent Partner (No Copyright Music)\"}\n",
      "dark inspirational {'[No Copyright Music] Firelight - Kubbi'}\n",
      "bright funky {'Breaking In - BoxCat Games (No Copyright Music)'}\n",
      "bright inspirational {'Bright Future - Silent Partner (No Copyright Music)'}\n",
      "romantic calm {\"If I Can't Dance It's Not My Revolution - Quantum Jazz (No Copyright Music)\"}\n"
     ]
    }
   ],
   "source": [
    "keys = list(mrec.keys())\n",
    "for i, k1 in enumerate(keys):\n",
    "    for k2 in keys[i+1:]:\n",
    "        ints = set(mrec[k1].keys()).intersection(set(mrec[k2].keys()))\n",
    "        if len(ints):\n",
    "            print(k1, k2, ints)"
   ]
  },
  {
   "cell_type": "code",
   "execution_count": 10,
   "metadata": {},
   "outputs": [
    {
     "name": "stdout",
     "output_type": "stream",
     "text": [
      "1295\n",
      "1290\n"
     ]
    }
   ],
   "source": [
    "gall = set()\n",
    "for recs in grec.values():\n",
    "    gall.update(recs)\n",
    "print(len(gall))\n",
    "mall = set()\n",
    "for recs in mrec.values():\n",
    "    mall.update(recs)\n",
    "print(len(mall))\n"
   ]
  },
  {
   "cell_type": "code",
   "execution_count": 97,
   "metadata": {},
   "outputs": [
    {
     "data": {
      "text/plain": [
       "{'Cease - A Himitsu (No Copyright Music)',\n",
       " 'Easier to Fade (feat Madi Larson) - A Himitsu (No Copyright Music)',\n",
       " 'I Still Want You - Everet Almond (No Copyright Music)',\n",
       " 'Icy Vindur - A Himitsu (No Copyright Music)',\n",
       " 'Meditation - Silent Partner (No Copyright Music)',\n",
       " 'TOP 10 Funky Music (No Copyright Music)',\n",
       " 'Top 10 Bright Music (No Copyright Music)',\n",
       " 'We are now 50K creators 😊',\n",
       " 'Where Silence Is Nonexistent - A Himitsu (No Copyright Music)',\n",
       " 'Working It - Jingle Punks (No Copyright Music)',\n",
       " '[Royalty Free Music] Discotheque - Bluehost'}"
      ]
     },
     "execution_count": 97,
     "metadata": {},
     "output_type": "execute_result"
    }
   ],
   "source": [
    "diff = gall.union(mall) - gall.intersection(mall)\n",
    "diff"
   ]
  },
  {
   "cell_type": "code",
   "execution_count": 98,
   "metadata": {},
   "outputs": [
    {
     "name": "stdout",
     "output_type": "stream",
     "text": [
      "g=True, m=False\n",
      "g=True, m=False\n",
      "g=False, m=True\n",
      "g=True, m=False\n",
      "g=False, m=True\n",
      "g=True, m=False\n",
      "g=True, m=False\n",
      "g=True, m=False\n",
      "g=True, m=False\n",
      "g=False, m=True\n",
      "g=True, m=False\n"
     ]
    }
   ],
   "source": [
    "for n in diff:\n",
    "    print('g={}, m={}'.format(n in gall, n in mall))"
   ]
  },
  {
   "cell_type": "code",
   "execution_count": 99,
   "metadata": {},
   "outputs": [],
   "source": [
    "cmd_template = 'youtube-dl -q --extract-audio --audio-format mp3 -o \"%(title)s.%(ext)s\" {link}'\n",
    "\n",
    "def gen_download_cmds(links, name, loc):\n",
    "    fdr = '/home/fleeb/workspace/ml_datasets/audio/yt/raw/'\n",
    "    os.makedirs(fdr, exist_ok=True)\n",
    "    \n",
    "    with open(os.path.join(loc,'cmds.sh'), 'w') as f:\n",
    "        \n",
    "        for cat, link in links.items():\n",
    "            f.write(cmd_template.format(link=link, output=os.path.join(fdr, cat)) + '\\n')\n",
    "            f.write('echo \\\"{} complete \\\"'.format(cat) + '\\n')\n",
    "gen_download_cmds(moods, 'moods', '/home/fleeb/workspace/ml_datasets/audio/yt/raw/')"
   ]
  },
  {
   "cell_type": "code",
   "execution_count": 27,
   "metadata": {},
   "outputs": [
    {
     "data": {
      "text/plain": [
       "1290"
      ]
     },
     "execution_count": 27,
     "metadata": {},
     "output_type": "execute_result"
    }
   ],
   "source": [
    "raw = set([''.join(rec.split('.')[:-1]) for rec in os.listdir('/home/fleeb/workspace/ml_datasets/audio/yt/raw/')])\n",
    "len(raw)"
   ]
  },
  {
   "cell_type": "code",
   "execution_count": 28,
   "metadata": {},
   "outputs": [
    {
     "data": {
      "text/plain": [
       "{'Cease - A Himitsu (No Copyright Music)',\n",
       " 'Easier to Fade (feat Madi Larson) - A Himitsu (No Copyright Music)',\n",
       " 'I Still Want You - Everet Almond (No Copyright Music)',\n",
       " 'Icy Vindur - A Himitsu (No Copyright Music)',\n",
       " 'Meditation - Silent Partner (No Copyright Music)',\n",
       " 'Top 10 Bright Music (No Copyright Music)',\n",
       " 'Where Silence Is Nonexistent - A Himitsu (No Copyright Music)',\n",
       " '[Royalty Free Music] Discotheque - Bluehost'}"
      ]
     },
     "execution_count": 28,
     "metadata": {},
     "output_type": "execute_result"
    }
   ],
   "source": [
    "gall - raw"
   ]
  },
  {
   "cell_type": "code",
   "execution_count": 31,
   "metadata": {},
   "outputs": [
    {
     "name": "stdout",
     "output_type": "stream",
     "text": [
      "dance-elec 6 {'[Royalty Free Music] Discotheque - Bluehost', 'Where Silence Is Nonexistent - A Himitsu (No Copyright Music)', 'Meditation - Silent Partner (No Copyright Music)', 'Cease - A Himitsu (No Copyright Music)', 'Icy Vindur - A Himitsu (No Copyright Music)', 'Easier to Fade (feat Madi Larson) - A Himitsu (No Copyright Music)'}\n",
      "\n",
      "pop 2 {'Top 10 Bright Music (No Copyright Music)', '[Royalty Free Music] Discotheque - Bluehost'}\n",
      "\n",
      "ambient 4 {'Where Silence Is Nonexistent - A Himitsu (No Copyright Music)', 'Cease - A Himitsu (No Copyright Music)', 'Icy Vindur - A Himitsu (No Copyright Music)', 'Easier to Fade (feat Madi Larson) - A Himitsu (No Copyright Music)'}\n",
      "\n",
      "rnb-soul 1 {'I Still Want You - Everet Almond (No Copyright Music)'}\n",
      "\n"
     ]
    }
   ],
   "source": [
    "for cat, recs in grec.items():\n",
    "    missing = recs.keys() - raw\n",
    "    if len(missing):\n",
    "        print(cat, len(missing), missing)\n",
    "        print()"
   ]
  },
  {
   "cell_type": "code",
   "execution_count": 32,
   "metadata": {},
   "outputs": [
    {
     "name": "stdout",
     "output_type": "stream",
     "text": [
      "dark 1 {'We are now 50K creators 😊'}\n",
      "\n"
     ]
    }
   ],
   "source": [
    "for cat, recs in mrec.items():\n",
    "    missing = recs.keys() - raw\n",
    "    if len(missing):\n",
    "        print(cat, len(missing), missing)\n",
    "        print()"
   ]
  },
  {
   "cell_type": "code",
   "execution_count": 33,
   "metadata": {},
   "outputs": [
    {
     "data": {
      "text/plain": [
       "dict_keys(['jazz-blues', 'rock', 'country', 'dance-elec', 'reggae', 'pop', 'alt-punk', 'hiphop-rap', 'holiday', 'classical', 'ambient', 'rnb-soul', 'cinematic', 'childrens'])"
      ]
     },
     "execution_count": 33,
     "metadata": {},
     "output_type": "execute_result"
    }
   ],
   "source": [
    "grec.keys()"
   ]
  },
  {
   "cell_type": "code",
   "execution_count": 34,
   "metadata": {},
   "outputs": [
    {
     "data": {
      "text/plain": [
       "{'alt-punk': 6,\n",
       " 'ambient': 10,\n",
       " 'childrens': 13,\n",
       " 'cinematic': 12,\n",
       " 'classical': 9,\n",
       " 'country': 2,\n",
       " 'dance-elec': 3,\n",
       " 'hiphop-rap': 7,\n",
       " 'holiday': 8,\n",
       " 'jazz-blues': 0,\n",
       " 'pop': 5,\n",
       " 'reggae': 4,\n",
       " 'rnb-soul': 11,\n",
       " 'rock': 1}"
      ]
     },
     "execution_count": 34,
     "metadata": {},
     "output_type": "execute_result"
    }
   ],
   "source": [
    "gids = {name:i for i, name in enumerate(grec)}\n",
    "gids"
   ]
  },
  {
   "cell_type": "code",
   "execution_count": 35,
   "metadata": {},
   "outputs": [
    {
     "data": {
      "text/plain": [
       "{'angry': 3,\n",
       " 'bright': 1,\n",
       " 'calm': 6,\n",
       " 'dark': 0,\n",
       " 'dramatic': 8,\n",
       " 'funky': 7,\n",
       " 'happy': 5,\n",
       " 'inspirational': 9,\n",
       " 'romantic': 2,\n",
       " 'sad': 4}"
      ]
     },
     "execution_count": 35,
     "metadata": {},
     "output_type": "execute_result"
    }
   ],
   "source": [
    "mids = {name:i for i, name in enumerate(mrec)}\n",
    "mids"
   ]
  },
  {
   "cell_type": "code",
   "execution_count": 39,
   "metadata": {},
   "outputs": [
    {
     "name": "stdout",
     "output_type": "stream",
     "text": [
      "1290\n",
      "1295\n"
     ]
    }
   ],
   "source": [
    "mnames = {}\n",
    "for cat, recs in mrec.items():\n",
    "    mnames.update({name:cat for name in recs.keys()})\n",
    "print(len(mnames))\n",
    "gnames = {}\n",
    "for cat, recs in grec.items():\n",
    "    gnames.update({name:cat for name in recs.keys()})\n",
    "print(len(gnames))"
   ]
  },
  {
   "cell_type": "code",
   "execution_count": 61,
   "metadata": {},
   "outputs": [
    {
     "data": {
      "text/plain": [
       "1287"
      ]
     },
     "execution_count": 61,
     "metadata": {},
     "output_type": "execute_result"
    }
   ],
   "source": [
    "meta = set()\n",
    "for name in raw:\n",
    "    if name in mnames and name in gnames:\n",
    "        meta.add((name, mnames[name], gnames[name], str(mrec[mnames[name]][name])))\n",
    "len(meta)"
   ]
  },
  {
   "cell_type": "code",
   "execution_count": 62,
   "metadata": {},
   "outputs": [
    {
     "name": "stdout",
     "output_type": "stream",
     "text": [
      "Reggie and the Dubwisemen - Jingle Punks (No Copyright Music)\tfunky\treggae\t80\n"
     ]
    }
   ],
   "source": [
    "for rec in meta:\n",
    "    print('\\t'.join(rec))\n",
    "    break"
   ]
  },
  {
   "cell_type": "code",
   "execution_count": 63,
   "metadata": {},
   "outputs": [
    {
     "name": "stdout",
     "output_type": "stream",
     "text": [
      "Done\n"
     ]
    }
   ],
   "source": [
    "with open(os.path.join(root, 'meta-readable.txt'), 'w') as f:\n",
    "    for rec in meta:\n",
    "        f.write('\\t'.join(rec) + '\\n')\n",
    "print('Done')"
   ]
  },
  {
   "cell_type": "code",
   "execution_count": 64,
   "metadata": {},
   "outputs": [
    {
     "data": {
      "text/plain": [
       "1287"
      ]
     },
     "execution_count": 64,
     "metadata": {},
     "output_type": "execute_result"
    }
   ],
   "source": [
    "fail\n",
    "with open(os.path.join(root, 'meta-readable.txt'), 'r') as f:\n",
    "    cmeta = {tuple(line.split('\\t')) for line in f.readlines()}\n",
    "len(cmeta)"
   ]
  },
  {
   "cell_type": "code",
   "execution_count": 65,
   "metadata": {},
   "outputs": [
    {
     "name": "stdout",
     "output_type": "stream",
     "text": [
      "('[No Copyright Music] Prince w_(dc) - LAKEY INSPIRED', 'inspirational', 'dance-elec', '136\\n')\n"
     ]
    }
   ],
   "source": [
    "for rec in cmeta:\n",
    "    print(rec)\n",
    "    break"
   ]
  },
  {
   "cell_type": "code",
   "execution_count": 66,
   "metadata": {},
   "outputs": [
    {
     "data": {
      "text/plain": [
       "1287"
      ]
     },
     "execution_count": 66,
     "metadata": {},
     "output_type": "execute_result"
    }
   ],
   "source": [
    "meta = set()\n",
    "for name in raw:\n",
    "    if name in mnames and name in gnames:\n",
    "        meta.add((name, str(mids[mnames[name]]), str(gids[gnames[name]]), str(mrec[mnames[name]][name])))\n",
    "len(meta)"
   ]
  },
  {
   "cell_type": "code",
   "execution_count": 67,
   "metadata": {},
   "outputs": [
    {
     "name": "stdout",
     "output_type": "stream",
     "text": [
      "Done\n"
     ]
    }
   ],
   "source": [
    "fail\n",
    "with open(os.path.join(root, 'meta.txt'), 'w') as f:\n",
    "    for rec in meta:\n",
    "        f.write('\\t'.join(rec) + '\\n')\n",
    "print('Done')"
   ]
  },
  {
   "cell_type": "code",
   "execution_count": 68,
   "metadata": {},
   "outputs": [
    {
     "data": {
      "text/plain": [
       "1287"
      ]
     },
     "execution_count": 68,
     "metadata": {},
     "output_type": "execute_result"
    }
   ],
   "source": [
    "with open(os.path.join(root, 'meta.txt'), 'r') as f:\n",
    "    cmeta = {tuple(line.split('\\t')) for line in f.readlines()}\n",
    "len(cmeta)"
   ]
  },
  {
   "cell_type": "code",
   "execution_count": 69,
   "metadata": {},
   "outputs": [
    {
     "name": "stdout",
     "output_type": "stream",
     "text": [
      "('[No Copyright Music] Rainy Giraffe - Muciojad', '6', '3', '226\\n')\n"
     ]
    }
   ],
   "source": [
    "for rec in cmeta:\n",
    "    print(rec)\n",
    "    break"
   ]
  },
  {
   "cell_type": "code",
   "execution_count": 71,
   "metadata": {},
   "outputs": [
    {
     "data": {
      "text/plain": [
       "1287"
      ]
     },
     "execution_count": 71,
     "metadata": {},
     "output_type": "execute_result"
    }
   ],
   "source": [
    "full_meta = {}\n",
    "for name in raw:\n",
    "    if name in mnames and name in gnames:\n",
    "        full_meta[name] = {\n",
    "            'duration': mrec[mnames[name]][name],\n",
    "            'mood_id': mids[mnames[name]],\n",
    "            'mood_label': mnames[name],\n",
    "            'genre_id': gids[gnames[name]],\n",
    "            'genre_label': gnames[name],\n",
    "        }\n",
    "len(full_meta)"
   ]
  },
  {
   "cell_type": "code",
   "execution_count": 76,
   "metadata": {},
   "outputs": [],
   "source": [
    "fail\n",
    "torch.save({'tracks':full_meta, 'gids':gids, 'mids':mids}, os.path.join(root, 'full_meta.pth.tar'))"
   ]
  },
  {
   "cell_type": "code",
   "execution_count": 74,
   "metadata": {},
   "outputs": [
    {
     "data": {
      "text/plain": [
       "'/home/fleeb/workspace/ml_datasets/audio/yt/meta/full_meta.pth.tar'"
      ]
     },
     "execution_count": 74,
     "metadata": {},
     "output_type": "execute_result"
    }
   ],
   "source": [
    "os.path.join(root, 'full_meta.pth.tar')"
   ]
  },
  {
   "cell_type": "code",
   "execution_count": 77,
   "metadata": {},
   "outputs": [
    {
     "data": {
      "text/plain": [
       "{'duration': 245,\n",
       " 'genre_id': 7,\n",
       " 'genre_label': 'hiphop-rap',\n",
       " 'mood_id': 8,\n",
       " 'mood_label': 'dramatic'}"
      ]
     },
     "execution_count": 77,
     "metadata": {},
     "output_type": "execute_result"
    }
   ],
   "source": [
    "full_meta['Hang Ups Want You - Otis McDonald (No Copyright Music)']"
   ]
  },
  {
   "cell_type": "code",
   "execution_count": null,
   "metadata": {},
   "outputs": [],
   "source": []
  }
 ],
 "metadata": {
  "kernelspec": {
   "display_name": "Python 3",
   "language": "python",
   "name": "python3"
  },
  "language_info": {
   "codemirror_mode": {
    "name": "ipython",
    "version": 3
   },
   "file_extension": ".py",
   "mimetype": "text/x-python",
   "name": "python",
   "nbconvert_exporter": "python",
   "pygments_lexer": "ipython3",
   "version": "3.5.5"
  }
 },
 "nbformat": 4,
 "nbformat_minor": 2
}
