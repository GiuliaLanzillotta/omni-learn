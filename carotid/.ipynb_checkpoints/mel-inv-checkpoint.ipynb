{
 "cells": [
  {
   "cell_type": "code",
   "execution_count": 1,
   "metadata": {},
   "outputs": [
    {
     "name": "stderr",
     "output_type": "stream",
     "text": [
      "/home/fleeb/anaconda3/lib/python3.6/site-packages/h5py/__init__.py:36: FutureWarning: Conversion of the second argument of issubdtype from `float` to `np.floating` is deprecated. In future, it will be treated as `np.float64 == np.dtype(float).type`.\n",
      "  from ._conv import register_converters as _register_converters\n"
     ]
    }
   ],
   "source": [
    "import sys, os\n",
    "import numpy as np\n",
    "%matplotlib tk\n",
    "import matplotlib.pyplot as plt\n",
    "#plt.switch_backend('TkAgg')\n",
    "%load_ext autoreload\n",
    "%autoreload 2\n",
    "import pydub\n",
    "import torch\n",
    "import torchaudio\n",
    "from torchaudio import transforms\n",
    "from torchaudio.transforms import MEL2\n",
    "import foundation as fd\n",
    "from datasets import *\n",
    "import foundation.util as util\n",
    "import h5py as hf\n",
    "from mel_spectrograms import *\n",
    "\n",
    "root = '/home/fleeb/workspace/ml_datasets/audio/yt'"
   ]
  },
  {
   "cell_type": "code",
   "execution_count": null,
   "metadata": {},
   "outputs": [],
   "source": []
  },
  {
   "cell_type": "code",
   "execution_count": 2,
   "metadata": {},
   "outputs": [
    {
     "data": {
      "text/plain": [
       "(1288,\n",
       " '/home/fleeb/workspace/ml_datasets/audio/yt/clean/The Dope Steppa - MK2 (No Copyright Music).mp3')"
      ]
     },
     "execution_count": 2,
     "metadata": {},
     "output_type": "execute_result"
    }
   ],
   "source": [
    "songs = util.crawl(os.path.join(root, 'clean'), cond=lambda x: '.mp3' in x)\n",
    "song = np.random.choice(songs, 1)[0]\n",
    "len(songs), song"
   ]
  },
  {
   "cell_type": "code",
   "execution_count": 3,
   "metadata": {},
   "outputs": [],
   "source": [
    "#tracks = util.crawl(os.path.join(root, 'processed'), cond=lambda x: '.h5' in x)\n",
    "#len(tracks)"
   ]
  },
  {
   "cell_type": "code",
   "execution_count": null,
   "metadata": {},
   "outputs": [],
   "source": []
  },
  {
   "cell_type": "code",
   "execution_count": 4,
   "metadata": {},
   "outputs": [
    {
     "data": {
      "text/plain": [
       "(torch.Size([1, 8263875]), 44100, 187.38945578231292)"
      ]
     },
     "execution_count": 4,
     "metadata": {},
     "output_type": "execute_result"
    }
   ],
   "source": [
    "full, fs = load_mp3(song, normalize=False, cut_zeros=True)\n",
    "full = torch.from_numpy(full).float().unsqueeze(0)\n",
    "assert fs == 44100\n",
    "full.size(), fs, full.size(1)/fs"
   ]
  },
  {
   "cell_type": "code",
   "execution_count": 5,
   "metadata": {},
   "outputs": [
    {
     "data": {
      "text/plain": [
       "(2205, 441)"
      ]
     },
     "execution_count": 5,
     "metadata": {},
     "output_type": "execute_result"
    }
   ],
   "source": [
    "ws = fs//20\n",
    "hop = fs//100\n",
    "n_mels = 150\n",
    "ws, hop"
   ]
  },
  {
   "cell_type": "code",
   "execution_count": 6,
   "metadata": {},
   "outputs": [],
   "source": [
    "#stft = STFT(ws, hop)\n",
    "spec = MEL_Spectrogram(ws=ws, hop=hop, n_mels=n_mels, fs=fs)"
   ]
  },
  {
   "cell_type": "code",
   "execution_count": 15,
   "metadata": {},
   "outputs": [],
   "source": [
    "ospec = MEL_SPEC(sr=fs, ws=ws, hop=hop, n_mels=n_mels)"
   ]
  },
  {
   "cell_type": "code",
   "execution_count": 7,
   "metadata": {},
   "outputs": [],
   "source": [
    "\n",
    "#spec = torchaudio.transforms.MEL2(fs, ws=ws, hop=hop, n_mels=n_mels)\n",
    "#spec = MEL_SPEC(sr=fs, ws=ws, hop=hop, n_mels=n_mels)\n",
    "#ws, hop, n_mels"
   ]
  },
  {
   "cell_type": "code",
   "execution_count": 8,
   "metadata": {},
   "outputs": [],
   "source": [
    "#plt.figure()\n",
    "#plt.plot(spec.window.numpy())"
   ]
  },
  {
   "cell_type": "code",
   "execution_count": 9,
   "metadata": {},
   "outputs": [],
   "source": [
    "t_i = 3\n",
    "width = 10*fs"
   ]
  },
  {
   "cell_type": "code",
   "execution_count": 10,
   "metadata": {},
   "outputs": [
    {
     "name": "stdout",
     "output_type": "stream",
     "text": [
      "3\n"
     ]
    },
    {
     "data": {
      "text/plain": [
       "torch.Size([1, 441000])"
      ]
     },
     "execution_count": 10,
     "metadata": {},
     "output_type": "execute_result"
    }
   ],
   "source": [
    "t = full[:, t_i*width:(t_i+1)*width]\n",
    "print(t_i)\n",
    "t_i += 1\n",
    "t.size()"
   ]
  },
  {
   "cell_type": "code",
   "execution_count": 11,
   "metadata": {},
   "outputs": [
    {
     "data": {
      "text/plain": [
       "10.0"
      ]
     },
     "execution_count": 11,
     "metadata": {},
     "output_type": "execute_result"
    }
   ],
   "source": [
    "N=  t.size(1)\n",
    "t.size(1)/fs"
   ]
  },
  {
   "cell_type": "code",
   "execution_count": 22,
   "metadata": {},
   "outputs": [
    {
     "data": {
      "text/plain": [
       "(torch.Size([1, 441000]),\n",
       " torch.Size([1, 150, 1004]),\n",
       " torch.Size([1, 150, 1004]),\n",
       " tensor(-7.2553),\n",
       " tensor(6.2935))"
      ]
     },
     "execution_count": 22,
     "metadata": {},
     "output_type": "execute_result"
    }
   ],
   "source": [
    "s, phase = spec(t, ret_phase=True)\n",
    "t.size(), s.size(), phase.size(), s.min(), s.max()"
   ]
  },
  {
   "cell_type": "code",
   "execution_count": null,
   "metadata": {},
   "outputs": [],
   "source": [
    "plt.figure()\n",
    "plt.imshow(s[0].numpy())"
   ]
  },
  {
   "cell_type": "code",
   "execution_count": 18,
   "metadata": {},
   "outputs": [
    {
     "data": {
      "text/plain": [
       "(torch.Size([1, 441000]),\n",
       " torch.Size([1, 150, 1004]),\n",
       " tensor(-7.2553),\n",
       " tensor(6.2935))"
      ]
     },
     "execution_count": 18,
     "metadata": {},
     "output_type": "execute_result"
    }
   ],
   "source": [
    "s2 = ospec(t).permute(0, 2,1)\n",
    "t.size(), s.size(), s.min(), s.max()"
   ]
  },
  {
   "cell_type": "code",
   "execution_count": 19,
   "metadata": {},
   "outputs": [
    {
     "data": {
      "text/plain": [
       "<matplotlib.image.AxesImage at 0x7f9f451dec50>"
      ]
     },
     "execution_count": 19,
     "metadata": {},
     "output_type": "execute_result"
    }
   ],
   "source": [
    "plt.figure()\n",
    "plt.imshow(s2[0].numpy())"
   ]
  },
  {
   "cell_type": "code",
   "execution_count": 23,
   "metadata": {},
   "outputs": [
    {
     "data": {
      "text/plain": [
       "torch.Size([1, 1, 441000])"
      ]
     },
     "execution_count": 23,
     "metadata": {},
     "output_type": "execute_result"
    }
   ],
   "source": [
    "rec = spec.inverse(s, phase)\n",
    "rec.size()"
   ]
  },
  {
   "cell_type": "code",
   "execution_count": 24,
   "metadata": {},
   "outputs": [
    {
     "data": {
      "text/plain": [
       "[<matplotlib.lines.Line2D at 0x7f9f44fd2ac8>]"
      ]
     },
     "execution_count": 24,
     "metadata": {},
     "output_type": "execute_result"
    }
   ],
   "source": [
    "plt.figure()\n",
    "plt.plot(t[0].numpy())"
   ]
  },
  {
   "cell_type": "code",
   "execution_count": 25,
   "metadata": {},
   "outputs": [
    {
     "data": {
      "text/plain": [
       "[<matplotlib.lines.Line2D at 0x7f9f44f26828>]"
      ]
     },
     "execution_count": 25,
     "metadata": {},
     "output_type": "execute_result"
    }
   ],
   "source": [
    "plt.figure()\n",
    "plt.plot(rec[0,0].numpy())"
   ]
  },
  {
   "cell_type": "code",
   "execution_count": 26,
   "metadata": {},
   "outputs": [
    {
     "name": "stdout",
     "output_type": "stream",
     "text": [
      "Audio segment (len=1e+01) saved to test-orig2.mp3\n",
      "Audio segment (len=1e+01) saved to test-rec2.mp3\n"
     ]
    },
    {
     "data": {
      "text/html": [
       "\n",
       "                    <audio controls>\n",
       "                        <source src=\"data:audio/mpeg;base64,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\" type=\"audio/mpeg\"/>\n",
       "                        Your browser does not support the audio element.\n",
       "                    </audio>\n",
       "                  "
      ],
      "text/plain": [
       "<pydub.audio_segment.AudioSegment at 0x7f9f45085eb8>"
      ]
     },
     "execution_count": 26,
     "metadata": {},
     "output_type": "execute_result"
    }
   ],
   "source": [
    "samples2audio(t[0].numpy(), path='test-orig2.mp3')\n",
    "samples2audio(rec[0,0].numpy(), path='test-rec2.mp3')\n",
    "pass"
   ]
  },
  {
   "cell_type": "code",
   "execution_count": null,
   "metadata": {},
   "outputs": [],
   "source": []
  },
  {
   "cell_type": "code",
   "execution_count": 13,
   "metadata": {},
   "outputs": [
    {
     "data": {
      "text/plain": [
       "tensor(1.8802e-15)"
      ]
     },
     "execution_count": 13,
     "metadata": {},
     "output_type": "execute_result"
    }
   ],
   "source": [
    "(t-s[0]).pow(2).mean()"
   ]
  },
  {
   "cell_type": "code",
   "execution_count": 13,
   "metadata": {},
   "outputs": [
    {
     "data": {
      "text/plain": [
       "(torch.Size([1, 1103, 1006]), torch.Size([1, 1103, 1006]))"
      ]
     },
     "execution_count": 13,
     "metadata": {},
     "output_type": "execute_result"
    }
   ],
   "source": [
    "mag = stft.magnitude.clone()\n",
    "pha = stft.phase.clone()\n",
    "\n",
    "mag.size(), pha.size()"
   ]
  },
  {
   "cell_type": "code",
   "execution_count": 14,
   "metadata": {},
   "outputs": [],
   "source": [
    "plt.figure()\n",
    "plt.imshow(mag[0].numpy())\n",
    "plt.title('mag')\n",
    "plt.axis('off')\n",
    "plt.tight_layout()\n",
    "\n",
    "plt.figure()\n",
    "plt.imshow(torch.sin(pha[0]).numpy())\n",
    "plt.title('sin phase')\n",
    "plt.axis('off')\n",
    "plt.tight_layout()\n",
    "\n",
    "plt.figure()\n",
    "plt.imshow(torch.cos(pha[0]).numpy())\n",
    "plt.title('cos phase')\n",
    "plt.axis('off')\n",
    "plt.tight_layout()"
   ]
  },
  {
   "cell_type": "code",
   "execution_count": 15,
   "metadata": {},
   "outputs": [
    {
     "data": {
      "text/plain": [
       "(tensor(0.), tensor(638.7664), tensor(1.8452), tensor(10.9811))"
      ]
     },
     "execution_count": 15,
     "metadata": {},
     "output_type": "execute_result"
    }
   ],
   "source": [
    "mag.min(), mag.max(), mag.mean(), mag.std()"
   ]
  },
  {
   "cell_type": "code",
   "execution_count": 16,
   "metadata": {},
   "outputs": [
    {
     "data": {
      "text/plain": [
       "(tensor(-3.1416), tensor(3.1416), tensor(0.6941), tensor(1.7340))"
      ]
     },
     "execution_count": 16,
     "metadata": {},
     "output_type": "execute_result"
    }
   ],
   "source": [
    "pha.min(), pha.max(), pha.mean(), pha.std()"
   ]
  },
  {
   "cell_type": "code",
   "execution_count": 93,
   "metadata": {},
   "outputs": [
    {
     "data": {
      "text/plain": [
       "torch.Size([150, 1103])"
      ]
     },
     "execution_count": 93,
     "metadata": {},
     "output_type": "execute_result"
    }
   ],
   "source": [
    "ftro = spec.fb.clone().t()\n",
    "ftro.size()"
   ]
  },
  {
   "cell_type": "code",
   "execution_count": 52,
   "metadata": {},
   "outputs": [],
   "source": [
    "n_fft = ftr.size(-1)"
   ]
  },
  {
   "cell_type": "code",
   "execution_count": 18,
   "metadata": {},
   "outputs": [
    {
     "data": {
      "text/plain": [
       "torch.Size([1, 150, 1006])"
      ]
     },
     "execution_count": 18,
     "metadata": {},
     "output_type": "execute_result"
    }
   ],
   "source": []
  },
  {
   "cell_type": "code",
   "execution_count": 27,
   "metadata": {},
   "outputs": [
    {
     "data": {
      "text/plain": [
       "<matplotlib.image.AxesImage at 0x7f51a5dbd978>"
      ]
     },
     "execution_count": 27,
     "metadata": {},
     "output_type": "execute_result"
    }
   ],
   "source": [
    "plt.figure()\n",
    "plt.imshow(ftr)"
   ]
  },
  {
   "cell_type": "code",
   "execution_count": 57,
   "metadata": {},
   "outputs": [
    {
     "data": {
      "text/plain": [
       "tensor([   0,    1,    2,    3,    4,    5,    6,    7,    8,    9,   10,   11,\n",
       "          12,   13,   14,   15,   16,   17,   19,   20,   21,   23,   24,   25,\n",
       "          27,   28,   30,   31,   33,   34,   36,   38,   39,   41,   43,   45,\n",
       "          47,   49,   50,   52,   55,   57,   59,   61,   63,   66,   68,   70,\n",
       "          73,   75,   78,   81,   83,   86,   89,   92,   95,   98,  101,  104,\n",
       "         107,  111,  114,  118,  121,  125,  128,  132,  136,  140,  144,  148,\n",
       "         153,  157,  162,  166,  171,  176,  181,  186,  191,  196,  202,  207,\n",
       "         213,  219,  225,  231,  237,  243,  250,  256,  263,  270,  277,  284,\n",
       "         292,  300,  307,  315,  324,  332,  340,  349,  358,  367,  377,  386,\n",
       "         396,  406,  417,  427,  438,  449,  460,  472,  484,  496,  508,  521,\n",
       "         534,  547,  561,  575,  589,  603,  618,  634,  649,  665,  681,  698,\n",
       "         715,  733,  751,  769,  788,  807,  827,  847,  867,  888,  910,  932,\n",
       "         955,  978, 1001, 1026, 1050, 1076])"
      ]
     },
     "execution_count": 57,
     "metadata": {},
     "output_type": "execute_result"
    }
   ],
   "source": [
    "m_min = 0.\n",
    "m_max = 2595 * np.log10(1. + (44100 // 2 / 700))\n",
    "m_pts = torch.linspace(m_min, m_max, n_mels + 2)\n",
    "f_pts = (700 * (10 ** (m_pts / 2595) - 1))\n",
    "bins = torch.floor(((n_fft - 1) * 2) * f_pts / 44100).long()\n",
    "#plt.figure()\n",
    "#plt.plot(bins.numpy())\n",
    "bins[1:-1]"
   ]
  },
  {
   "cell_type": "code",
   "execution_count": 129,
   "metadata": {},
   "outputs": [],
   "source": [
    "kT = 0.2\n",
    "n_mels = 150\n",
    "n_fft = 1103"
   ]
  },
  {
   "cell_type": "code",
   "execution_count": 143,
   "metadata": {},
   "outputs": [
    {
     "data": {
      "text/plain": [
       "(torch.Size([150, 1103]), torch.Size([150, 1103]))"
      ]
     },
     "execution_count": 143,
     "metadata": {},
     "output_type": "execute_result"
    }
   ],
   "source": [
    "ftr = torch.zeros(n_mels, n_fft)\n",
    "fill = torch.zeros_like(ftr)\n",
    "idx = 0\n",
    "for i, (mn, m, mp) in enumerate(zip(bins, bins[1:], bins[2:])):\n",
    "    width = mp -  mn - 1\n",
    "    \n",
    "    \n",
    "    if kT > 0 and width > 1:\n",
    "        \n",
    "        center = m.float()#(mp+mn).float()/2\n",
    "        \n",
    "        pos = torch.linspace(mn,mp,width+2).long()[1:-1]\n",
    "        \n",
    "        val = torch.exp(-(pos.float()-center).abs()/kT)\n",
    "        \n",
    "        val = val / val.sum()\n",
    "        \n",
    "        ftr[i, pos] = val\n",
    "        \n",
    "        #print(mn, m, mp)\n",
    "        \n",
    "        #print(val)\n",
    "    else:\n",
    "        ftr[i, m] = 1.\n",
    "        \n",
    "    fill[i, m:mp] = 1\n",
    "ftr.size(), fill.size()"
   ]
  },
  {
   "cell_type": "code",
   "execution_count": 144,
   "metadata": {},
   "outputs": [
    {
     "data": {
      "text/plain": [
       "<matplotlib.image.AxesImage at 0x7f51a5477cc0>"
      ]
     },
     "execution_count": 144,
     "metadata": {},
     "output_type": "execute_result"
    }
   ],
   "source": [
    "#plt.figure()\n",
    "#plt.imshow(fill)"
   ]
  },
  {
   "cell_type": "code",
   "execution_count": 132,
   "metadata": {},
   "outputs": [
    {
     "data": {
      "text/plain": [
       "<matplotlib.image.AxesImage at 0x7f51a5563e10>"
      ]
     },
     "execution_count": 132,
     "metadata": {},
     "output_type": "execute_result"
    }
   ],
   "source": [
    "#plt.figure()\n",
    "#plt.imshow(ftr)"
   ]
  },
  {
   "cell_type": "code",
   "execution_count": 133,
   "metadata": {},
   "outputs": [
    {
     "data": {
      "text/plain": [
       "torch.Size([1, 150, 1006])"
      ]
     },
     "execution_count": 133,
     "metadata": {},
     "output_type": "execute_result"
    }
   ],
   "source": [
    "mel = ftr @ mag\n",
    "mel.size()"
   ]
  },
  {
   "cell_type": "code",
   "execution_count": 134,
   "metadata": {},
   "outputs": [
    {
     "data": {
      "text/plain": [
       "torch.Size([1, 150, 1006])"
      ]
     },
     "execution_count": 134,
     "metadata": {},
     "output_type": "execute_result"
    }
   ],
   "source": [
    "hard = ftro @ mag\n",
    "hard.size()"
   ]
  },
  {
   "cell_type": "code",
   "execution_count": 135,
   "metadata": {},
   "outputs": [
    {
     "data": {
      "text/plain": [
       "torch.Size([1, 1103, 1006])"
      ]
     },
     "execution_count": 135,
     "metadata": {},
     "output_type": "execute_result"
    }
   ],
   "source": [
    "rec = ftr.t() @ ftr @ mag\n",
    "rec.size()"
   ]
  },
  {
   "cell_type": "code",
   "execution_count": 136,
   "metadata": {},
   "outputs": [
    {
     "data": {
      "text/plain": [
       "torch.Size([1, 1103, 1006])"
      ]
     },
     "execution_count": 136,
     "metadata": {},
     "output_type": "execute_result"
    }
   ],
   "source": [
    "rechard = ftro.t() @ ftro @ mag\n",
    "rechard.size()"
   ]
  },
  {
   "cell_type": "code",
   "execution_count": 137,
   "metadata": {},
   "outputs": [
    {
     "data": {
      "text/plain": [
       "[<matplotlib.lines.Line2D at 0x7f51a5543eb8>]"
      ]
     },
     "execution_count": 137,
     "metadata": {},
     "output_type": "execute_result"
    }
   ],
   "source": [
    "plt.figure()\n",
    "plt.plot(mag[0,:,341].numpy())\n",
    "plt.plot(rec[0,:,341].numpy())\n",
    "plt.plot(rechard[0,:,341].numpy())"
   ]
  },
  {
   "cell_type": "code",
   "execution_count": 138,
   "metadata": {},
   "outputs": [
    {
     "data": {
      "text/plain": [
       "(tensor(116.5859), tensor(116.9347))"
      ]
     },
     "execution_count": 138,
     "metadata": {},
     "output_type": "execute_result"
    }
   ],
   "source": [
    "rec.pow(2).mean(), rechard.pow(2).mean()"
   ]
  },
  {
   "cell_type": "code",
   "execution_count": 139,
   "metadata": {},
   "outputs": [
    {
     "data": {
      "text/plain": [
       "tensor(123.9897)"
      ]
     },
     "execution_count": 139,
     "metadata": {},
     "output_type": "execute_result"
    }
   ],
   "source": [
    "mag.pow(2).mean()"
   ]
  },
  {
   "cell_type": "code",
   "execution_count": 140,
   "metadata": {},
   "outputs": [],
   "source": [
    "plt.figure()\n",
    "plt.imshow(mel[0].add(1e-20).log().numpy())\n",
    "plt.title('mel')\n",
    "plt.axis('off')\n",
    "plt.tight_layout()"
   ]
  },
  {
   "cell_type": "code",
   "execution_count": 103,
   "metadata": {},
   "outputs": [],
   "source": [
    "plt.figure()\n",
    "plt.imshow(hard[0].add(1e-20).log().numpy())\n",
    "plt.title('hard mel')\n",
    "plt.axis('off')\n",
    "plt.tight_layout()"
   ]
  },
  {
   "cell_type": "code",
   "execution_count": 99,
   "metadata": {},
   "outputs": [
    {
     "data": {
      "text/plain": [
       "(tensor(0.), tensor(638.7664), tensor(0.), tensor(638.7664))"
      ]
     },
     "execution_count": 99,
     "metadata": {},
     "output_type": "execute_result"
    }
   ],
   "source": [
    "mel.min(), mel.max(), hard.min(), hard.max()"
   ]
  },
  {
   "cell_type": "code",
   "execution_count": 20,
   "metadata": {},
   "outputs": [
    {
     "data": {
      "text/plain": [
       "[<matplotlib.lines.Line2D at 0x7f894d201b38>]"
      ]
     },
     "execution_count": 20,
     "metadata": {},
     "output_type": "execute_result"
    }
   ],
   "source": [
    "plt.figure()\n",
    "plt.plot(t[0].numpy())"
   ]
  },
  {
   "cell_type": "code",
   "execution_count": 21,
   "metadata": {},
   "outputs": [
    {
     "data": {
      "text/plain": [
       "[<matplotlib.lines.Line2D at 0x7f89390aa278>]"
      ]
     },
     "execution_count": 21,
     "metadata": {},
     "output_type": "execute_result"
    }
   ],
   "source": [
    "plt.figure()\n",
    "plt.plot(s[0,0].numpy())"
   ]
  },
  {
   "cell_type": "code",
   "execution_count": 151,
   "metadata": {},
   "outputs": [],
   "source": [
    "recphase = fill.t() @ ftr @ pha"
   ]
  },
  {
   "cell_type": "code",
   "execution_count": 152,
   "metadata": {},
   "outputs": [
    {
     "data": {
      "text/plain": [
       "<matplotlib.image.AxesImage at 0x7f51a544a828>"
      ]
     },
     "execution_count": 152,
     "metadata": {},
     "output_type": "execute_result"
    }
   ],
   "source": [
    "plt.figure()\n",
    "plt.imshow(recphase[0].numpy())"
   ]
  },
  {
   "cell_type": "code",
   "execution_count": 161,
   "metadata": {},
   "outputs": [
    {
     "data": {
      "text/plain": [
       "torch.Size([1, 1, 441000])"
      ]
     },
     "execution_count": 161,
     "metadata": {},
     "output_type": "execute_result"
    }
   ],
   "source": [
    "partial = stft.inverse(rechard, recphase*0)\n",
    "partial.size()"
   ]
  },
  {
   "cell_type": "code",
   "execution_count": 162,
   "metadata": {},
   "outputs": [
    {
     "data": {
      "text/plain": [
       "[<matplotlib.lines.Line2D at 0x7f51a5976438>]"
      ]
     },
     "execution_count": 162,
     "metadata": {},
     "output_type": "execute_result"
    }
   ],
   "source": [
    "plt.figure()\n",
    "plt.plot(partial[0,0].numpy())"
   ]
  },
  {
   "cell_type": "code",
   "execution_count": 163,
   "metadata": {},
   "outputs": [
    {
     "data": {
      "text/plain": [
       "[<matplotlib.lines.Line2D at 0x7f51a592de80>]"
      ]
     },
     "execution_count": 163,
     "metadata": {},
     "output_type": "execute_result"
    }
   ],
   "source": [
    "plt.figure()\n",
    "plt.plot(t[0].numpy())"
   ]
  },
  {
   "cell_type": "code",
   "execution_count": 164,
   "metadata": {},
   "outputs": [
    {
     "name": "stdout",
     "output_type": "stream",
     "text": [
      "Audio segment (len=1e+01) saved to test-partial-zero.mp3\n"
     ]
    },
    {
     "data": {
      "text/plain": [
       "10.0"
      ]
     },
     "execution_count": 164,
     "metadata": {},
     "output_type": "execute_result"
    }
   ],
   "source": [
    "#orig = samples2audio(t[0].numpy(), path='test-orig.mp3')\n",
    "#rec = samples2audio(s[0,0].numpy(), path='test-rec.mp3')\n",
    "par = samples2audio(partial[0,0].numpy(), path='test-partial-zero.mp3')\n",
    "par.duration_seconds\n",
    "#orig.duration_seconds, rec.duration_seconds"
   ]
  },
  {
   "cell_type": "code",
   "execution_count": 169,
   "metadata": {},
   "outputs": [
    {
     "data": {
      "text/plain": [
       "(tensor(0.), tensor(638.7664))"
      ]
     },
     "execution_count": 169,
     "metadata": {},
     "output_type": "execute_result"
    }
   ],
   "source": [
    "mag.min(), mag.max()"
   ]
  },
  {
   "cell_type": "code",
   "execution_count": 180,
   "metadata": {},
   "outputs": [
    {
     "data": {
      "text/plain": [
       "(tensor(-10.), tensor(6.4595))"
      ]
     },
     "execution_count": 180,
     "metadata": {},
     "output_type": "execute_result"
    }
   ],
   "source": [
    "vals = mel.add(np.exp(-10)).log()\n",
    "vals.min(), vals.max()"
   ]
  },
  {
   "cell_type": "code",
   "execution_count": 181,
   "metadata": {},
   "outputs": [
    {
     "data": {
      "text/plain": [
       "(array([3.000e+02, 0.000e+00, 0.000e+00, 0.000e+00, 0.000e+00, 0.000e+00,\n",
       "        0.000e+00, 0.000e+00, 0.000e+00, 1.000e+00, 0.000e+00, 0.000e+00,\n",
       "        1.000e+00, 0.000e+00, 0.000e+00, 1.000e+00, 4.000e+00, 5.000e+00,\n",
       "        7.000e+00, 1.200e+01, 1.100e+01, 2.000e+01, 2.900e+01, 3.800e+01,\n",
       "        4.400e+01, 6.000e+01, 9.400e+01, 1.040e+02, 1.480e+02, 1.870e+02,\n",
       "        1.950e+02, 3.020e+02, 3.340e+02, 4.280e+02, 5.010e+02, 5.720e+02,\n",
       "        6.780e+02, 7.700e+02, 9.350e+02, 1.026e+03, 1.283e+03, 1.660e+03,\n",
       "        1.651e+03, 2.046e+03, 2.614e+03, 3.051e+03, 3.546e+03, 4.072e+03,\n",
       "        4.306e+03, 4.601e+03, 4.633e+03, 4.863e+03, 4.926e+03, 4.457e+03,\n",
       "        4.174e+03, 3.855e+03, 3.522e+03, 3.220e+03, 3.038e+03, 2.848e+03,\n",
       "        2.682e+03, 2.766e+03, 2.859e+03, 3.008e+03, 3.248e+03, 3.251e+03,\n",
       "        3.553e+03, 3.550e+03, 3.646e+03, 3.740e+03, 3.585e+03, 3.496e+03,\n",
       "        3.244e+03, 2.984e+03, 2.935e+03, 2.794e+03, 2.639e+03, 2.514e+03,\n",
       "        2.432e+03, 2.300e+03, 2.157e+03, 1.925e+03, 1.707e+03, 1.477e+03,\n",
       "        1.381e+03, 1.220e+03, 1.058e+03, 6.980e+02, 5.490e+02, 5.580e+02,\n",
       "        4.730e+02, 4.080e+02, 2.830e+02, 1.770e+02, 1.230e+02, 1.170e+02,\n",
       "        1.010e+02, 6.400e+01, 1.500e+01, 1.000e+01]),\n",
       " array([-10.        ,  -9.83540461,  -9.67080922,  -9.50621383,\n",
       "         -9.34161844,  -9.17702305,  -9.01242766,  -8.84783227,\n",
       "         -8.68323689,  -8.5186415 ,  -8.35404611,  -8.18945072,\n",
       "         -8.02485533,  -7.86025994,  -7.69566455,  -7.53106916,\n",
       "         -7.36647377,  -7.20187838,  -7.03728299,  -6.8726876 ,\n",
       "         -6.70809221,  -6.54349682,  -6.37890143,  -6.21430604,\n",
       "         -6.04971066,  -5.88511527,  -5.72051988,  -5.55592449,\n",
       "         -5.3913291 ,  -5.22673371,  -5.06213832,  -4.89754293,\n",
       "         -4.73294754,  -4.56835215,  -4.40375676,  -4.23916137,\n",
       "         -4.07456598,  -3.90997059,  -3.7453752 ,  -3.58077981,\n",
       "         -3.41618443,  -3.25158904,  -3.08699365,  -2.92239826,\n",
       "         -2.75780287,  -2.59320748,  -2.42861209,  -2.2640167 ,\n",
       "         -2.09942131,  -1.93482592,  -1.77023053,  -1.60563514,\n",
       "         -1.44103975,  -1.27644436,  -1.11184897,  -0.94725358,\n",
       "         -0.7826582 ,  -0.61806281,  -0.45346742,  -0.28887203,\n",
       "         -0.12427664,   0.04031875,   0.20491414,   0.36950953,\n",
       "          0.53410492,   0.69870031,   0.8632957 ,   1.02789109,\n",
       "          1.19248648,   1.35708187,   1.52167726,   1.68627264,\n",
       "          1.85086803,   2.01546342,   2.18005881,   2.3446542 ,\n",
       "          2.50924959,   2.67384498,   2.83844037,   3.00303576,\n",
       "          3.16763115,   3.33222654,   3.49682193,   3.66141732,\n",
       "          3.82601271,   3.9906081 ,   4.15520349,   4.31979887,\n",
       "          4.48439426,   4.64898965,   4.81358504,   4.97818043,\n",
       "          5.14277582,   5.30737121,   5.4719666 ,   5.63656199,\n",
       "          5.80115738,   5.96575277,   6.13034816,   6.29494355,\n",
       "          6.45953894]),\n",
       " <a list of 100 Patch objects>)"
      ]
     },
     "execution_count": 181,
     "metadata": {},
     "output_type": "execute_result"
    }
   ],
   "source": [
    "plt.figure()\n",
    "plt.hist(vals.view(-1).numpy(), bins=100)"
   ]
  },
  {
   "cell_type": "code",
   "execution_count": 175,
   "metadata": {},
   "outputs": [
    {
     "data": {
      "text/plain": [
       "[<matplotlib.lines.Line2D at 0x7f51a615f8d0>]"
      ]
     },
     "execution_count": 175,
     "metadata": {},
     "output_type": "execute_result"
    }
   ],
   "source": [
    "#plt.figure()\n",
    "#x = np.linspace(-10, 10, 1000)\n",
    "#plt.plot(x, np.tanh(x)*10)"
   ]
  },
  {
   "cell_type": "code",
   "execution_count": null,
   "metadata": {},
   "outputs": [],
   "source": []
  },
  {
   "cell_type": "code",
   "execution_count": 74,
   "metadata": {},
   "outputs": [
    {
     "data": {
      "text/plain": [
       "(0.0, torch.Size([1103, 150]))"
      ]
     },
     "execution_count": 74,
     "metadata": {},
     "output_type": "execute_result"
    }
   ],
   "source": [
    "spec.fb.sum().item() - spec.fb.size(-1), spec.fb.size()"
   ]
  },
  {
   "cell_type": "code",
   "execution_count": 75,
   "metadata": {},
   "outputs": [
    {
     "data": {
      "text/plain": [
       "34244"
      ]
     },
     "execution_count": 75,
     "metadata": {},
     "output_type": "execute_result"
    }
   ],
   "source": [
    "N // hop - (ws // hop) + 1"
   ]
  },
  {
   "cell_type": "code",
   "execution_count": 76,
   "metadata": {},
   "outputs": [],
   "source": [
    "spec.norm_spec = None"
   ]
  },
  {
   "cell_type": "code",
   "execution_count": 77,
   "metadata": {},
   "outputs": [
    {
     "name": "stdout",
     "output_type": "stream",
     "text": [
      "tensor(0.0199) tensor(1.)\n"
     ]
    },
    {
     "data": {
      "text/plain": [
       "torch.Size([1, 34244, 150])"
      ]
     },
     "execution_count": 77,
     "metadata": {},
     "output_type": "execute_result"
    }
   ],
   "source": [
    "s = spec(t)\n",
    "s.size()"
   ]
  },
  {
   "cell_type": "code",
   "execution_count": 78,
   "metadata": {},
   "outputs": [
    {
     "data": {
      "text/plain": [
       "(tensor(0.), tensor(1.))"
      ]
     },
     "execution_count": 78,
     "metadata": {},
     "output_type": "execute_result"
    }
   ],
   "source": [
    "s.min(), s.max()"
   ]
  },
  {
   "cell_type": "code",
   "execution_count": 79,
   "metadata": {},
   "outputs": [
    {
     "data": {
      "text/plain": [
       "(tensor(0.0208), tensor(0.0199))"
      ]
     },
     "execution_count": 79,
     "metadata": {},
     "output_type": "execute_result"
    }
   ],
   "source": [
    "spec.spec_f.max(), spec.spec.max()"
   ]
  },
  {
   "cell_type": "code",
   "execution_count": 80,
   "metadata": {},
   "outputs": [
    {
     "data": {
      "text/plain": [
       "<matplotlib.figure.Figure at 0x7fa1bb3e8d30>"
      ]
     },
     "execution_count": 80,
     "metadata": {},
     "output_type": "execute_result"
    }
   ],
   "source": [
    "img = s\n",
    "plt.figure(figsize=(12,6))"
   ]
  },
  {
   "cell_type": "code",
   "execution_count": 81,
   "metadata": {},
   "outputs": [],
   "source": [
    "#img = spec.spec_f#.size()"
   ]
  },
  {
   "cell_type": "code",
   "execution_count": 82,
   "metadata": {},
   "outputs": [],
   "source": [
    "size = 500\n",
    "step = 1\n",
    "i=0"
   ]
  },
  {
   "cell_type": "code",
   "execution_count": 89,
   "metadata": {},
   "outputs": [],
   "source": [
    "b = i*size\n",
    "i+=1\n",
    "e = i*size\n",
    "plt.cla()\n",
    "plt.axis('off')\n",
    "plt.title('{}:{}:{}'.format(b,e,step))\n",
    "plt.imshow(img[0,b:e:step].numpy().T)\n",
    "plt.tight_layout()"
   ]
  },
  {
   "cell_type": "code",
   "execution_count": null,
   "metadata": {},
   "outputs": [],
   "source": []
  },
  {
   "cell_type": "code",
   "execution_count": null,
   "metadata": {},
   "outputs": [],
   "source": []
  },
  {
   "cell_type": "code",
   "execution_count": null,
   "metadata": {},
   "outputs": [],
   "source": []
  },
  {
   "cell_type": "code",
   "execution_count": 15,
   "metadata": {},
   "outputs": [
    {
     "data": {
      "text/plain": [
       "97"
      ]
     },
     "execution_count": 15,
     "metadata": {},
     "output_type": "execute_result"
    }
   ],
   "source": [
    "tracks = util.crawl(os.path.join(root, 'processed'), lambda x: '.h5' in x)\n",
    "len(tracks)"
   ]
  },
  {
   "cell_type": "code",
   "execution_count": 3,
   "metadata": {},
   "outputs": [],
   "source": [
    "seq_len = 2500\n",
    "hop = 10\n",
    "ws = 50\n",
    "fs = 44100\n",
    "n_mels = 128"
   ]
  },
  {
   "cell_type": "code",
   "execution_count": 4,
   "metadata": {},
   "outputs": [
    {
     "data": {
      "text/plain": [
       "274601"
      ]
     },
     "execution_count": 4,
     "metadata": {},
     "output_type": "execute_result"
    }
   ],
   "source": [
    "dataset = Yt_Dataset(tracks, seq_len=seq_len, hop=10, )\n",
    "len(dataset)"
   ]
  },
  {
   "cell_type": "code",
   "execution_count": 5,
   "metadata": {},
   "outputs": [
    {
     "data": {
      "text/plain": [
       "(1, 241, 128)"
      ]
     },
     "execution_count": 5,
     "metadata": {},
     "output_type": "execute_result"
    }
   ],
   "source": [
    "dataset = MEL_Dataset(dataset, hop=hop, ws=ws, n_mels=n_mels)\n",
    "dataset.output"
   ]
  },
  {
   "cell_type": "code",
   "execution_count": 6,
   "metadata": {},
   "outputs": [
    {
     "data": {
      "text/plain": [
       "68651"
      ]
     },
     "execution_count": 6,
     "metadata": {},
     "output_type": "execute_result"
    }
   ],
   "source": [
    "loader = DataLoader(dataset, batch_size=4)\n",
    "len(loader)"
   ]
  },
  {
   "cell_type": "code",
   "execution_count": 7,
   "metadata": {},
   "outputs": [
    {
     "data": {
      "text/plain": [
       "(torch.Size([4, 1, 241, 128]), torch.Size([4]))"
      ]
     },
     "execution_count": 7,
     "metadata": {},
     "output_type": "execute_result"
    }
   ],
   "source": [
    "for x, y in loader:\n",
    "    break\n",
    "x.size(), y.size()"
   ]
  },
  {
   "cell_type": "code",
   "execution_count": 16,
   "metadata": {},
   "outputs": [],
   "source": [
    "lbl_name = 'gid'"
   ]
  },
  {
   "cell_type": "code",
   "execution_count": 23,
   "metadata": {},
   "outputs": [
    {
     "data": {
      "text/plain": [
       "(97, 97)"
      ]
     },
     "execution_count": 23,
     "metadata": {},
     "output_type": "execute_result"
    }
   ],
   "source": [
    "lens = []\n",
    "lbls = []\n",
    "for rec in tracks:\n",
    "    with hf.File(rec, 'r') as f:\n",
    "        lens.append(f['wav'].shape[0])\n",
    "        lbls.append(f.attrs[lbl_name])\n",
    "        \n",
    "lens = np.array(lens)\n",
    "lbls = np.array(lbls)\n",
    "len(lens), len(lbls)"
   ]
  },
  {
   "cell_type": "code",
   "execution_count": 32,
   "metadata": {},
   "outputs": [
    {
     "data": {
      "text/plain": [
       "[70, 10, 17]"
      ]
     },
     "execution_count": 32,
     "metadata": {},
     "output_type": "execute_result"
    }
   ],
   "source": [
    "trainper, valper = 0.7, 0.1\n",
    "orders = util.split_vals(np.arange(len(lens)), [trainper, valper, 1-trainper-valper])\n",
    "[len(o) for o in orders]"
   ]
  },
  {
   "cell_type": "code",
   "execution_count": 27,
   "metadata": {},
   "outputs": [
    {
     "data": {
      "text/plain": [
       "array([ 5, 11,  5, 23,  1, 10,  1,  9,  1,  7,  5,  9,  8,  2])"
      ]
     },
     "execution_count": 27,
     "metadata": {},
     "output_type": "execute_result"
    }
   ],
   "source": [
    "np.bincount(lbls, minlength=14)"
   ]
  },
  {
   "cell_type": "code",
   "execution_count": 25,
   "metadata": {},
   "outputs": [
    {
     "data": {
      "text/plain": [
       "array([ 28.21382764,   9.60370706,  22.77351418,   3.24001017,\n",
       "       100.38415142,  15.73790961, 162.06546965,  11.42094291,\n",
       "       208.74060713,   7.50470581,  20.69291013,  10.82409832,\n",
       "        19.20510268, 101.78256487])"
      ]
     },
     "execution_count": 25,
     "metadata": {},
     "output_type": "execute_result"
    }
   ],
   "source": [
    "lens.sum() / np.bincount(lbls, lens, minlength=14)"
   ]
  },
  {
   "cell_type": "code",
   "execution_count": null,
   "metadata": {},
   "outputs": [],
   "source": []
  }
 ],
 "metadata": {
  "kernelspec": {
   "display_name": "Python 3",
   "language": "python",
   "name": "python3"
  },
  "language_info": {
   "codemirror_mode": {
    "name": "ipython",
    "version": 3
   },
   "file_extension": ".py",
   "mimetype": "text/x-python",
   "name": "python",
   "nbconvert_exporter": "python",
   "pygments_lexer": "ipython3",
   "version": "3.6.4"
  }
 },
 "nbformat": 4,
 "nbformat_minor": 2
}
