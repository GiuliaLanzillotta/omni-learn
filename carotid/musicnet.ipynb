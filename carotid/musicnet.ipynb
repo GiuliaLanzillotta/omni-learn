{
 "cells": [
  {
   "cell_type": "code",
   "execution_count": 1,
   "metadata": {},
   "outputs": [
    {
     "ename": "ModuleNotFoundError",
     "evalue": "No module named 'pydub'",
     "output_type": "error",
     "traceback": [
      "\u001b[1;31m---------------------------------------------------------------------------\u001b[0m",
      "\u001b[1;31mModuleNotFoundError\u001b[0m                       Traceback (most recent call last)",
      "\u001b[1;32m<ipython-input-1-0e0917ad3a19>\u001b[0m in \u001b[0;36m<module>\u001b[1;34m()\u001b[0m\n\u001b[0;32m      4\u001b[0m \u001b[0mget_ipython\u001b[0m\u001b[1;33m(\u001b[0m\u001b[1;33m)\u001b[0m\u001b[1;33m.\u001b[0m\u001b[0mrun_line_magic\u001b[0m\u001b[1;33m(\u001b[0m\u001b[1;34m'matplotlib'\u001b[0m\u001b[1;33m,\u001b[0m \u001b[1;34m'tk'\u001b[0m\u001b[1;33m)\u001b[0m\u001b[1;33m\u001b[0m\u001b[0m\n\u001b[0;32m      5\u001b[0m \u001b[1;32mimport\u001b[0m \u001b[0mmatplotlib\u001b[0m\u001b[1;33m.\u001b[0m\u001b[0mpyplot\u001b[0m \u001b[1;32mas\u001b[0m \u001b[0mplt\u001b[0m\u001b[1;33m\u001b[0m\u001b[0m\n\u001b[1;32m----> 6\u001b[1;33m \u001b[1;32mimport\u001b[0m \u001b[0mpydub\u001b[0m\u001b[1;33m\u001b[0m\u001b[0m\n\u001b[0m\u001b[0;32m      7\u001b[0m \u001b[1;32mimport\u001b[0m \u001b[0mtorchaudio\u001b[0m\u001b[1;33m\u001b[0m\u001b[0m\n\u001b[0;32m      8\u001b[0m \u001b[1;32mimport\u001b[0m \u001b[0mtorch\u001b[0m\u001b[1;33m\u001b[0m\u001b[0m\n",
      "\u001b[1;31mModuleNotFoundError\u001b[0m: No module named 'pydub'"
     ]
    }
   ],
   "source": [
    "import sys, os\n",
    "import numpy as np\n",
    "#%matplotlib notebook\n",
    "%matplotlib tk\n",
    "import matplotlib.pyplot as plt\n",
    "import pydub\n",
    "import torchaudio\n",
    "import torch\n",
    "import h5py as hf\n",
    "import foundation as fd\n",
    "import foundation.util as util"
   ]
  },
  {
   "cell_type": "code",
   "execution_count": null,
   "metadata": {},
   "outputs": [],
   "source": [
    "#root = '/home/fleeb/workspace/ml_datasets/audio/musicnet/'\n",
    "root = '/mnt/d/Users/anwan/Documents/musicnet'"
   ]
  },
  {
   "cell_type": "code",
   "execution_count": 3,
   "metadata": {},
   "outputs": [
    {
     "data": {
      "text/plain": [
       "['id_1727',\n",
       " 'id_1728',\n",
       " 'id_1729',\n",
       " 'id_1730',\n",
       " 'id_1733',\n",
       " 'id_1734',\n",
       " 'id_1735',\n",
       " 'id_1739',\n",
       " 'id_1742',\n",
       " 'id_1749',\n",
       " 'id_1750',\n",
       " 'id_1751',\n",
       " 'id_1752',\n",
       " 'id_1755',\n",
       " 'id_1756',\n",
       " 'id_1757',\n",
       " 'id_1758',\n",
       " 'id_1759',\n",
       " 'id_1760',\n",
       " 'id_1763',\n",
       " 'id_1764',\n",
       " 'id_1765',\n",
       " 'id_1766',\n",
       " 'id_1768',\n",
       " 'id_1771',\n",
       " 'id_1772',\n",
       " 'id_1773',\n",
       " 'id_1775',\n",
       " 'id_1776',\n",
       " 'id_1777',\n",
       " 'id_1788',\n",
       " 'id_1789',\n",
       " 'id_1790',\n",
       " 'id_1791',\n",
       " 'id_1792',\n",
       " 'id_1793',\n",
       " 'id_1805',\n",
       " 'id_1807',\n",
       " 'id_1811',\n",
       " 'id_1812',\n",
       " 'id_1813',\n",
       " 'id_1817',\n",
       " 'id_1818',\n",
       " 'id_1819',\n",
       " 'id_1822',\n",
       " 'id_1824',\n",
       " 'id_1828',\n",
       " 'id_1829',\n",
       " 'id_1835',\n",
       " 'id_1859',\n",
       " 'id_1872',\n",
       " 'id_1873',\n",
       " 'id_1876',\n",
       " 'id_1893',\n",
       " 'id_1916',\n",
       " 'id_1918',\n",
       " 'id_1919',\n",
       " 'id_1922',\n",
       " 'id_1923',\n",
       " 'id_1931',\n",
       " 'id_1932',\n",
       " 'id_1933',\n",
       " 'id_2075',\n",
       " 'id_2076',\n",
       " 'id_2077',\n",
       " 'id_2078',\n",
       " 'id_2079',\n",
       " 'id_2080',\n",
       " 'id_2081',\n",
       " 'id_2082',\n",
       " 'id_2083',\n",
       " 'id_2104',\n",
       " 'id_2105',\n",
       " 'id_2106',\n",
       " 'id_2112',\n",
       " 'id_2113',\n",
       " 'id_2114',\n",
       " 'id_2116',\n",
       " 'id_2117',\n",
       " 'id_2118',\n",
       " 'id_2119',\n",
       " 'id_2127',\n",
       " 'id_2131',\n",
       " 'id_2138',\n",
       " 'id_2140',\n",
       " 'id_2147',\n",
       " 'id_2148',\n",
       " 'id_2149',\n",
       " 'id_2150',\n",
       " 'id_2151',\n",
       " 'id_2154',\n",
       " 'id_2155',\n",
       " 'id_2156',\n",
       " 'id_2157',\n",
       " 'id_2158',\n",
       " 'id_2159',\n",
       " 'id_2160',\n",
       " 'id_2161',\n",
       " 'id_2166',\n",
       " 'id_2167',\n",
       " 'id_2168',\n",
       " 'id_2169',\n",
       " 'id_2177',\n",
       " 'id_2178',\n",
       " 'id_2179',\n",
       " 'id_2180',\n",
       " 'id_2186',\n",
       " 'id_2191',\n",
       " 'id_2194',\n",
       " 'id_2195',\n",
       " 'id_2196',\n",
       " 'id_2198',\n",
       " 'id_2200',\n",
       " 'id_2201',\n",
       " 'id_2202',\n",
       " 'id_2203',\n",
       " 'id_2204',\n",
       " 'id_2207',\n",
       " 'id_2208',\n",
       " 'id_2209',\n",
       " 'id_2210',\n",
       " 'id_2211',\n",
       " 'id_2212',\n",
       " 'id_2213',\n",
       " 'id_2214',\n",
       " 'id_2215',\n",
       " 'id_2217',\n",
       " 'id_2218',\n",
       " 'id_2219',\n",
       " 'id_2220',\n",
       " 'id_2221',\n",
       " 'id_2222',\n",
       " 'id_2224',\n",
       " 'id_2225',\n",
       " 'id_2227',\n",
       " 'id_2228',\n",
       " 'id_2229',\n",
       " 'id_2230',\n",
       " 'id_2231',\n",
       " 'id_2232',\n",
       " 'id_2234',\n",
       " 'id_2237',\n",
       " 'id_2238',\n",
       " 'id_2239',\n",
       " 'id_2240',\n",
       " 'id_2241',\n",
       " 'id_2242',\n",
       " 'id_2243',\n",
       " 'id_2244',\n",
       " 'id_2247',\n",
       " 'id_2248',\n",
       " 'id_2282',\n",
       " 'id_2283',\n",
       " 'id_2284',\n",
       " 'id_2285',\n",
       " 'id_2288',\n",
       " 'id_2289',\n",
       " 'id_2292',\n",
       " 'id_2293',\n",
       " 'id_2294',\n",
       " 'id_2295',\n",
       " 'id_2296',\n",
       " 'id_2297',\n",
       " 'id_2298',\n",
       " 'id_2300',\n",
       " 'id_2302',\n",
       " 'id_2303',\n",
       " 'id_2304',\n",
       " 'id_2305',\n",
       " 'id_2307',\n",
       " 'id_2308',\n",
       " 'id_2310',\n",
       " 'id_2313',\n",
       " 'id_2314',\n",
       " 'id_2315',\n",
       " 'id_2318',\n",
       " 'id_2319',\n",
       " 'id_2320',\n",
       " 'id_2322',\n",
       " 'id_2325',\n",
       " 'id_2330',\n",
       " 'id_2334',\n",
       " 'id_2335',\n",
       " 'id_2336',\n",
       " 'id_2341',\n",
       " 'id_2342',\n",
       " 'id_2343',\n",
       " 'id_2345',\n",
       " 'id_2346',\n",
       " 'id_2348',\n",
       " 'id_2350',\n",
       " 'id_2357',\n",
       " 'id_2358',\n",
       " 'id_2359',\n",
       " 'id_2364',\n",
       " 'id_2365',\n",
       " 'id_2366',\n",
       " 'id_2368',\n",
       " 'id_2371',\n",
       " 'id_2372',\n",
       " 'id_2373',\n",
       " 'id_2374',\n",
       " 'id_2376',\n",
       " 'id_2377',\n",
       " 'id_2379',\n",
       " 'id_2381',\n",
       " 'id_2382',\n",
       " 'id_2383',\n",
       " 'id_2384',\n",
       " 'id_2388',\n",
       " 'id_2389',\n",
       " 'id_2390',\n",
       " 'id_2391',\n",
       " 'id_2392',\n",
       " 'id_2393',\n",
       " 'id_2397',\n",
       " 'id_2398',\n",
       " 'id_2403',\n",
       " 'id_2404',\n",
       " 'id_2405',\n",
       " 'id_2406',\n",
       " 'id_2410',\n",
       " 'id_2411',\n",
       " 'id_2415',\n",
       " 'id_2416',\n",
       " 'id_2417',\n",
       " 'id_2420',\n",
       " 'id_2422',\n",
       " 'id_2423',\n",
       " 'id_2424',\n",
       " 'id_2431',\n",
       " 'id_2432',\n",
       " 'id_2433',\n",
       " 'id_2436',\n",
       " 'id_2441',\n",
       " 'id_2442',\n",
       " 'id_2443',\n",
       " 'id_2444',\n",
       " 'id_2451',\n",
       " 'id_2462',\n",
       " 'id_2463',\n",
       " 'id_2466',\n",
       " 'id_2471',\n",
       " 'id_2472',\n",
       " 'id_2473',\n",
       " 'id_2476',\n",
       " 'id_2477',\n",
       " 'id_2478',\n",
       " 'id_2480',\n",
       " 'id_2481',\n",
       " 'id_2482',\n",
       " 'id_2483',\n",
       " 'id_2486',\n",
       " 'id_2487',\n",
       " 'id_2488',\n",
       " 'id_2490',\n",
       " 'id_2491',\n",
       " 'id_2492',\n",
       " 'id_2494',\n",
       " 'id_2497',\n",
       " 'id_2501',\n",
       " 'id_2502',\n",
       " 'id_2504',\n",
       " 'id_2505',\n",
       " 'id_2506',\n",
       " 'id_2507',\n",
       " 'id_2509',\n",
       " 'id_2510',\n",
       " 'id_2512',\n",
       " 'id_2514',\n",
       " 'id_2516',\n",
       " 'id_2521',\n",
       " 'id_2522',\n",
       " 'id_2523',\n",
       " 'id_2527',\n",
       " 'id_2528',\n",
       " 'id_2529',\n",
       " 'id_2530',\n",
       " 'id_2531',\n",
       " 'id_2532',\n",
       " 'id_2533',\n",
       " 'id_2537',\n",
       " 'id_2538',\n",
       " 'id_2540',\n",
       " 'id_2542',\n",
       " 'id_2550',\n",
       " 'id_2555',\n",
       " 'id_2556',\n",
       " 'id_2557',\n",
       " 'id_2560',\n",
       " 'id_2562',\n",
       " 'id_2564',\n",
       " 'id_2566',\n",
       " 'id_2567',\n",
       " 'id_2568',\n",
       " 'id_2570',\n",
       " 'id_2571',\n",
       " 'id_2572',\n",
       " 'id_2573',\n",
       " 'id_2575',\n",
       " 'id_2576',\n",
       " 'id_2581',\n",
       " 'id_2582',\n",
       " 'id_2586',\n",
       " 'id_2588',\n",
       " 'id_2590',\n",
       " 'id_2591',\n",
       " 'id_2593',\n",
       " 'id_2594',\n",
       " 'id_2595',\n",
       " 'id_2596',\n",
       " 'id_2603',\n",
       " 'id_2607',\n",
       " 'id_2608',\n",
       " 'id_2611',\n",
       " 'id_2614',\n",
       " 'id_2618',\n",
       " 'id_2619',\n",
       " 'id_2620',\n",
       " 'id_2621',\n",
       " 'id_2622',\n",
       " 'id_2626',\n",
       " 'id_2627',\n",
       " 'id_2628',\n",
       " 'id_2629',\n",
       " 'id_2632',\n",
       " 'id_2633',\n",
       " 'id_2659',\n",
       " 'id_2677',\n",
       " 'id_2678']"
      ]
     },
     "execution_count": 3,
     "metadata": {},
     "output_type": "execute_result"
    }
   ],
   "source": [
    "f = hf.File(os.path.join(root, 'musicnet.h5'), 'r')\n",
    "list(f.keys())"
   ]
  },
  {
   "cell_type": "code",
   "execution_count": 4,
   "metadata": {},
   "outputs": [
    {
     "data": {
      "text/plain": [
       "(22631758,)"
      ]
     },
     "execution_count": 4,
     "metadata": {},
     "output_type": "execute_result"
    }
   ],
   "source": [
    "f['id_1788']['data'].shape"
   ]
  },
  {
   "cell_type": "code",
   "execution_count": 5,
   "metadata": {},
   "outputs": [
    {
     "data": {
      "text/plain": [
       "(22631758,)"
      ]
     },
     "execution_count": 5,
     "metadata": {},
     "output_type": "execute_result"
    }
   ],
   "source": [
    "sample = f['id_1788']['data'].value\n",
    "sample.shape"
   ]
  },
  {
   "cell_type": "code",
   "execution_count": 371,
   "metadata": {},
   "outputs": [],
   "source": [
    "f.close()"
   ]
  },
  {
   "cell_type": "code",
   "execution_count": 6,
   "metadata": {
    "scrolled": true
   },
   "outputs": [
    {
     "data": {
      "text/plain": [
       "513.19179138322"
      ]
     },
     "execution_count": 6,
     "metadata": {},
     "output_type": "execute_result"
    }
   ],
   "source": [
    "sec = sample.size / 44100\n",
    "sec"
   ]
  },
  {
   "cell_type": "code",
   "execution_count": 7,
   "metadata": {},
   "outputs": [
    {
     "data": {
      "text/plain": [
       "(torch.Size([22631758]), tensor(0.7954), tensor(-0.8617))"
      ]
     },
     "execution_count": 7,
     "metadata": {},
     "output_type": "execute_result"
    }
   ],
   "source": [
    "x = torch.tensor(sample).float()\n",
    "x.size(), x.max(), x.min()"
   ]
  },
  {
   "cell_type": "code",
   "execution_count": 151,
   "metadata": {},
   "outputs": [],
   "source": [
    "fs = 44100\n",
    "ms = fs // 1000"
   ]
  },
  {
   "cell_type": "code",
   "execution_count": 137,
   "metadata": {},
   "outputs": [],
   "source": [
    "torchaudio.transforms.MEL2?"
   ]
  },
  {
   "cell_type": "code",
   "execution_count": null,
   "metadata": {},
   "outputs": [],
   "source": []
  },
  {
   "cell_type": "code",
   "execution_count": 322,
   "metadata": {},
   "outputs": [
    {
     "name": "stdout",
     "output_type": "stream",
     "text": [
      "44100 1760 440 100\n"
     ]
    }
   ],
   "source": [
    "ws = 40 * ms\n",
    "hop = 10 * ms\n",
    "n_mels = 100\n",
    "spec = torchaudio.transforms.MEL2(fs, ws=ws, hop=hop, n_mels=n_mels)\n",
    "print(fs, ws, hop, n_mels)"
   ]
  },
  {
   "cell_type": "code",
   "execution_count": 323,
   "metadata": {},
   "outputs": [
    {
     "data": {
      "text/plain": [
       "torch.Size([1, 51432, 100])"
      ]
     },
     "execution_count": 323,
     "metadata": {},
     "output_type": "execute_result"
    }
   ],
   "source": [
    "y = spec(x.unsqueeze(0))\n",
    "y.size()"
   ]
  },
  {
   "cell_type": "code",
   "execution_count": 324,
   "metadata": {},
   "outputs": [
    {
     "data": {
      "text/plain": [
       "100.21984151650967"
      ]
     },
     "execution_count": 324,
     "metadata": {},
     "output_type": "execute_result"
    }
   ],
   "source": [
    "y.size(1) / sec # width of a 1 sec segment"
   ]
  },
  {
   "cell_type": "code",
   "execution_count": 325,
   "metadata": {},
   "outputs": [
    {
     "data": {
      "text/plain": [
       "<matplotlib.figure.Figure at 0x7f8ebac44b00>"
      ]
     },
     "execution_count": 325,
     "metadata": {},
     "output_type": "execute_result"
    }
   ],
   "source": [
    "plt.figure()"
   ]
  },
  {
   "cell_type": "code",
   "execution_count": 326,
   "metadata": {},
   "outputs": [],
   "source": [
    "size = 500\n",
    "step = 1\n",
    "i=0"
   ]
  },
  {
   "cell_type": "code",
   "execution_count": 327,
   "metadata": {},
   "outputs": [],
   "source": [
    "#plt.switch_backend('TkAgg')"
   ]
  },
  {
   "cell_type": "code",
   "execution_count": 353,
   "metadata": {},
   "outputs": [],
   "source": [
    "plt.cla()\n",
    "plt.axis('off')\n",
    "b = i*size\n",
    "i+=1\n",
    "e = i*size\n",
    "plt.title('{}:{}'.format(b,e))\n",
    "plt.imshow(y[0,b:e:step].numpy().T)\n",
    "plt.tight_layout()"
   ]
  },
  {
   "cell_type": "code",
   "execution_count": 3,
   "metadata": {},
   "outputs": [
    {
     "data": {
      "text/plain": [
       "331"
      ]
     },
     "execution_count": 3,
     "metadata": {},
     "output_type": "execute_result"
    }
   ],
   "source": [
    "# meta data\n",
    "with open(os.path.join(root, 'musicnet_metadata.csv'), 'r') as f:\n",
    "    lines = f.readlines()\n",
    "len(lines)"
   ]
  },
  {
   "cell_type": "code",
   "execution_count": 4,
   "metadata": {},
   "outputs": [
    {
     "data": {
      "text/plain": [
       "(330, 330)"
      ]
     },
     "execution_count": 4,
     "metadata": {},
     "output_type": "execute_result"
    }
   ],
   "source": [
    "meta = {}\n",
    "times = {}\n",
    "for line in lines[1:]:\n",
    "    tokens = line.split(',')\n",
    "    ID = int(tokens[0])\n",
    "    meta[ID] = tokens[1][1:-1]\n",
    "    times[ID] = int(tokens[-1])\n",
    "len(meta), len(times)"
   ]
  },
  {
   "cell_type": "code",
   "execution_count": 5,
   "metadata": {},
   "outputs": [
    {
     "data": {
      "text/plain": [
       "{'Bach',\n",
       " 'Beethoven',\n",
       " 'Brahms',\n",
       " 'Cambini',\n",
       " 'Dvorak',\n",
       " 'Faure',\n",
       " 'Haydn',\n",
       " 'Mozart',\n",
       " 'Ravel',\n",
       " 'Schubert'}"
      ]
     },
     "execution_count": 5,
     "metadata": {},
     "output_type": "execute_result"
    }
   ],
   "source": [
    "set(meta.values())"
   ]
  },
  {
   "cell_type": "code",
   "execution_count": 6,
   "metadata": {},
   "outputs": [],
   "source": [
    "cats = ['baroque', 'classical', 'romantic', 'modern']\n",
    "\n",
    "labels = {n:i for i, n in enumerate(cats)}\n",
    "\n",
    "styles = {\n",
    "    'Bach':'baroque',\n",
    "    'Beethoven':'romantic',\n",
    "    'Brahms':'romantic',\n",
    "    'Cambini': 'classical',\n",
    "    'Dvorak': 'romantic',\n",
    "    'Faure': 'modern',\n",
    "    'Ravel': 'modern',\n",
    "    'Haydn': 'classical',\n",
    "    'Mozart': 'classical',\n",
    "    'Schubert': 'romantic',\n",
    "}"
   ]
  },
  {
   "cell_type": "code",
   "execution_count": 7,
   "metadata": {},
   "outputs": [
    {
     "data": {
      "text/plain": [
       "330"
      ]
     },
     "execution_count": 7,
     "metadata": {},
     "output_type": "execute_result"
    }
   ],
   "source": [
    "idlbls = {}\n",
    "for ID, name in meta.items():\n",
    "    idlbls[ID] = labels[styles[name]]\n",
    "len(idlbls)"
   ]
  },
  {
   "cell_type": "code",
   "execution_count": 8,
   "metadata": {},
   "outputs": [
    {
     "name": "stdout",
     "output_type": "stream",
     "text": [
      "1727 2\n"
     ]
    }
   ],
   "source": [
    "for ID, lbl in idlbls.items():\n",
    "    print(ID, lbl)\n",
    "    break"
   ]
  },
  {
   "cell_type": "code",
   "execution_count": 9,
   "metadata": {},
   "outputs": [],
   "source": [
    "s = []\n",
    "w = []\n",
    "for ID in idlbls.keys():\n",
    "    s.append(idlbls[ID])\n",
    "    w.append(times[ID])"
   ]
  },
  {
   "cell_type": "code",
   "execution_count": 10,
   "metadata": {},
   "outputs": [
    {
     "data": {
      "text/plain": [
       "array([11041., 12851., 95211.,  3606.])"
      ]
     },
     "execution_count": 10,
     "metadata": {},
     "output_type": "execute_result"
    }
   ],
   "source": [
    "np.bincount(s, weights=w)"
   ]
  },
  {
   "cell_type": "code",
   "execution_count": 11,
   "metadata": {},
   "outputs": [],
   "source": [
    "fail\n",
    "with hf.File(os.path.join(root, 'musicnet.h5'), 'r+') as f:\n",
    "    for name in f.keys():\n",
    "        ID = int(name[3:])\n",
    "        f[name].attrs['label'] = idlbls[ID]\n",
    "        f[name].attrs['style'] = cats[idlbls[ID]]\n",
    "        f[name].attrs['composer'] = meta[ID]"
   ]
  },
  {
   "cell_type": "code",
   "execution_count": 12,
   "metadata": {},
   "outputs": [
    {
     "name": "stdout",
     "output_type": "stream",
     "text": [
      "romantic Schubert\n",
      "romantic Schubert\n",
      "romantic Schubert\n",
      "romantic Schubert\n",
      "romantic Schubert\n",
      "romantic Schubert\n",
      "romantic Schubert\n",
      "romantic Schubert\n",
      "romantic Schubert\n",
      "romantic Schubert\n",
      "romantic Schubert\n",
      "romantic Schubert\n",
      "romantic Schubert\n",
      "romantic Schubert\n",
      "romantic Schubert\n",
      "romantic Schubert\n",
      "romantic Schubert\n",
      "romantic Schubert\n",
      "romantic Schubert\n",
      "romantic Schubert\n",
      "romantic Schubert\n",
      "romantic Schubert\n",
      "romantic Schubert\n",
      "romantic Schubert\n",
      "romantic Schubert\n",
      "romantic Schubert\n",
      "romantic Schubert\n",
      "romantic Schubert\n",
      "romantic Schubert\n",
      "romantic Schubert\n",
      "classical Mozart\n",
      "classical Mozart\n",
      "classical Mozart\n",
      "classical Mozart\n",
      "classical Mozart\n",
      "classical Mozart\n",
      "classical Mozart\n",
      "classical Mozart\n",
      "classical Mozart\n",
      "classical Mozart\n",
      "classical Mozart\n",
      "classical Mozart\n",
      "classical Mozart\n",
      "classical Mozart\n",
      "classical Mozart\n",
      "classical Mozart\n",
      "classical Mozart\n",
      "classical Mozart\n",
      "classical Mozart\n",
      "classical Mozart\n",
      "classical Mozart\n",
      "classical Mozart\n",
      "classical Mozart\n",
      "classical Mozart\n",
      "romantic Dvorak\n",
      "romantic Dvorak\n",
      "romantic Dvorak\n",
      "romantic Dvorak\n",
      "romantic Dvorak\n",
      "romantic Dvorak\n",
      "romantic Dvorak\n",
      "romantic Dvorak\n",
      "classical Cambini\n",
      "classical Cambini\n",
      "classical Cambini\n",
      "classical Cambini\n",
      "classical Cambini\n",
      "classical Cambini\n",
      "classical Cambini\n",
      "classical Cambini\n",
      "classical Cambini\n",
      "classical Haydn\n",
      "classical Haydn\n",
      "classical Haydn\n",
      "romantic Brahms\n",
      "romantic Brahms\n",
      "romantic Brahms\n",
      "romantic Brahms\n",
      "romantic Brahms\n",
      "romantic Brahms\n",
      "romantic Brahms\n",
      "romantic Brahms\n",
      "romantic Brahms\n",
      "romantic Brahms\n",
      "romantic Brahms\n",
      "romantic Brahms\n",
      "romantic Brahms\n",
      "romantic Brahms\n",
      "romantic Brahms\n",
      "romantic Brahms\n",
      "romantic Brahms\n",
      "romantic Brahms\n",
      "romantic Brahms\n",
      "romantic Brahms\n",
      "romantic Brahms\n",
      "romantic Brahms\n",
      "romantic Brahms\n",
      "romantic Brahms\n",
      "modern Faure\n",
      "modern Faure\n",
      "modern Faure\n",
      "modern Faure\n",
      "modern Ravel\n",
      "modern Ravel\n",
      "modern Ravel\n",
      "modern Ravel\n",
      "baroque Bach\n",
      "baroque Bach\n",
      "baroque Bach\n",
      "baroque Bach\n",
      "baroque Bach\n",
      "baroque Bach\n",
      "baroque Bach\n",
      "baroque Bach\n",
      "baroque Bach\n",
      "baroque Bach\n",
      "baroque Bach\n",
      "baroque Bach\n",
      "baroque Bach\n",
      "baroque Bach\n",
      "baroque Bach\n",
      "baroque Bach\n",
      "baroque Bach\n",
      "baroque Bach\n",
      "baroque Bach\n",
      "baroque Bach\n",
      "baroque Bach\n",
      "baroque Bach\n",
      "baroque Bach\n",
      "baroque Bach\n",
      "baroque Bach\n",
      "baroque Bach\n",
      "baroque Bach\n",
      "baroque Bach\n",
      "baroque Bach\n",
      "baroque Bach\n",
      "baroque Bach\n",
      "baroque Bach\n",
      "baroque Bach\n",
      "baroque Bach\n",
      "baroque Bach\n",
      "baroque Bach\n",
      "baroque Bach\n",
      "baroque Bach\n",
      "baroque Bach\n",
      "baroque Bach\n",
      "baroque Bach\n",
      "baroque Bach\n",
      "baroque Bach\n",
      "baroque Bach\n",
      "baroque Bach\n",
      "baroque Bach\n",
      "baroque Bach\n",
      "baroque Bach\n",
      "baroque Bach\n",
      "baroque Bach\n",
      "baroque Bach\n",
      "baroque Bach\n",
      "baroque Bach\n",
      "baroque Bach\n",
      "baroque Bach\n",
      "baroque Bach\n",
      "baroque Bach\n",
      "baroque Bach\n",
      "baroque Bach\n",
      "baroque Bach\n",
      "baroque Bach\n",
      "baroque Bach\n",
      "baroque Bach\n",
      "baroque Bach\n",
      "baroque Bach\n",
      "baroque Bach\n",
      "romantic Beethoven\n",
      "romantic Beethoven\n",
      "romantic Beethoven\n",
      "romantic Beethoven\n",
      "romantic Beethoven\n",
      "romantic Beethoven\n",
      "romantic Beethoven\n",
      "romantic Beethoven\n",
      "romantic Beethoven\n",
      "romantic Beethoven\n",
      "romantic Beethoven\n",
      "romantic Beethoven\n",
      "romantic Beethoven\n",
      "romantic Beethoven\n",
      "romantic Beethoven\n",
      "romantic Beethoven\n",
      "romantic Beethoven\n",
      "romantic Beethoven\n",
      "romantic Beethoven\n",
      "romantic Beethoven\n",
      "romantic Beethoven\n",
      "romantic Beethoven\n",
      "romantic Beethoven\n",
      "romantic Beethoven\n",
      "romantic Beethoven\n",
      "romantic Beethoven\n",
      "romantic Beethoven\n",
      "romantic Beethoven\n",
      "romantic Beethoven\n",
      "romantic Beethoven\n",
      "romantic Beethoven\n",
      "romantic Beethoven\n",
      "romantic Beethoven\n",
      "romantic Beethoven\n",
      "romantic Beethoven\n",
      "romantic Beethoven\n",
      "romantic Beethoven\n",
      "romantic Beethoven\n",
      "romantic Beethoven\n",
      "romantic Beethoven\n",
      "romantic Beethoven\n",
      "romantic Beethoven\n",
      "romantic Beethoven\n",
      "romantic Beethoven\n",
      "romantic Beethoven\n",
      "romantic Beethoven\n",
      "romantic Beethoven\n",
      "romantic Beethoven\n",
      "romantic Beethoven\n",
      "romantic Beethoven\n",
      "romantic Beethoven\n",
      "romantic Beethoven\n",
      "romantic Beethoven\n",
      "romantic Beethoven\n",
      "romantic Beethoven\n",
      "romantic Beethoven\n",
      "romantic Beethoven\n",
      "romantic Beethoven\n",
      "romantic Beethoven\n",
      "romantic Beethoven\n",
      "romantic Beethoven\n",
      "romantic Beethoven\n",
      "romantic Beethoven\n",
      "romantic Beethoven\n",
      "romantic Beethoven\n",
      "romantic Beethoven\n",
      "romantic Beethoven\n",
      "romantic Beethoven\n",
      "romantic Beethoven\n",
      "romantic Beethoven\n",
      "romantic Beethoven\n",
      "romantic Beethoven\n",
      "romantic Beethoven\n",
      "romantic Beethoven\n",
      "romantic Beethoven\n",
      "romantic Beethoven\n",
      "romantic Beethoven\n",
      "romantic Beethoven\n",
      "romantic Beethoven\n",
      "romantic Beethoven\n",
      "romantic Beethoven\n",
      "romantic Beethoven\n",
      "romantic Beethoven\n",
      "romantic Beethoven\n",
      "romantic Beethoven\n",
      "romantic Beethoven\n",
      "romantic Beethoven\n",
      "romantic Beethoven\n",
      "romantic Beethoven\n",
      "romantic Beethoven\n",
      "romantic Beethoven\n",
      "romantic Beethoven\n",
      "romantic Beethoven\n",
      "romantic Beethoven\n",
      "romantic Beethoven\n",
      "romantic Beethoven\n",
      "romantic Beethoven\n",
      "romantic Beethoven\n",
      "romantic Beethoven\n",
      "romantic Beethoven\n",
      "romantic Beethoven\n",
      "romantic Beethoven\n",
      "romantic Beethoven\n",
      "romantic Beethoven\n",
      "romantic Beethoven\n",
      "romantic Beethoven\n",
      "romantic Beethoven\n",
      "romantic Beethoven\n",
      "romantic Beethoven\n",
      "romantic Beethoven\n",
      "romantic Beethoven\n",
      "romantic Beethoven\n",
      "romantic Beethoven\n",
      "romantic Beethoven\n",
      "romantic Beethoven\n",
      "romantic Beethoven\n",
      "romantic Beethoven\n",
      "romantic Beethoven\n",
      "romantic Beethoven\n",
      "romantic Beethoven\n",
      "romantic Beethoven\n",
      "romantic Beethoven\n",
      "romantic Beethoven\n",
      "romantic Beethoven\n",
      "romantic Beethoven\n",
      "romantic Beethoven\n",
      "romantic Beethoven\n",
      "romantic Beethoven\n",
      "romantic Beethoven\n",
      "romantic Beethoven\n",
      "romantic Beethoven\n",
      "romantic Beethoven\n",
      "romantic Beethoven\n",
      "romantic Beethoven\n",
      "romantic Beethoven\n",
      "romantic Beethoven\n",
      "romantic Beethoven\n",
      "romantic Beethoven\n",
      "romantic Beethoven\n",
      "romantic Beethoven\n",
      "romantic Beethoven\n",
      "romantic Beethoven\n",
      "romantic Beethoven\n",
      "romantic Beethoven\n",
      "romantic Beethoven\n",
      "romantic Beethoven\n",
      "romantic Beethoven\n",
      "romantic Beethoven\n",
      "romantic Beethoven\n",
      "romantic Beethoven\n",
      "romantic Beethoven\n",
      "romantic Beethoven\n",
      "romantic Beethoven\n",
      "romantic Beethoven\n",
      "romantic Beethoven\n",
      "baroque Bach\n",
      "romantic Beethoven\n",
      "romantic Beethoven\n"
     ]
    }
   ],
   "source": [
    "with hf.File(os.path.join(root, 'musicnet.h5'), 'r+') as f:\n",
    "    for name in f.keys():\n",
    "        print(f[name].attrs['style'], f[name].attrs['composer'])"
   ]
  },
  {
   "cell_type": "code",
   "execution_count": null,
   "metadata": {},
   "outputs": [],
   "source": []
  }
 ],
 "metadata": {
  "kernelspec": {
   "display_name": "Python 3",
   "language": "python",
   "name": "python3"
  },
  "language_info": {
   "codemirror_mode": {
    "name": "ipython",
    "version": 3
   },
   "file_extension": ".py",
   "mimetype": "text/x-python",
   "name": "python",
   "nbconvert_exporter": "python",
   "pygments_lexer": "ipython3",
   "version": "3.6.6"
  }
 },
 "nbformat": 4,
 "nbformat_minor": 2
}
