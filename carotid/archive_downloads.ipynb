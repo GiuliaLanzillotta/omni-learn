{
 "cells": [
  {
   "cell_type": "code",
   "execution_count": 2,
   "metadata": {},
   "outputs": [],
   "source": [
    "import sys, os\n",
    "import numpy as np\n",
    "%matplotlib notebook\n",
    "import matplotlib.pyplot as plt\n",
    "import pydub\n",
    "import torch\n",
    "import h5py as hf"
   ]
  },
  {
   "cell_type": "code",
   "execution_count": 3,
   "metadata": {},
   "outputs": [],
   "source": [
    "root = '/home/fleeb/workspace/ml_datasets/audio/archive_samples_only'"
   ]
  },
  {
   "cell_type": "code",
   "execution_count": 14,
   "metadata": {},
   "outputs": [
    {
     "data": {
      "text/plain": [
       "177722"
      ]
     },
     "execution_count": 14,
     "metadata": {},
     "output_type": "execute_result"
    }
   ],
   "source": [
    "with open(os.path.join(root, 'archive_ids.txt'), 'r') as f:\n",
    "    lines = [line[:-1] for line in f.readlines()]\n",
    "len(lines)"
   ]
  },
  {
   "cell_type": "code",
   "execution_count": 15,
   "metadata": {},
   "outputs": [
    {
     "data": {
      "text/plain": [
       "['citytocitysoundr00test', 'beatsoundrecordi00test', 'fifthofbeethoven00test']"
      ]
     },
     "execution_count": 15,
     "metadata": {},
     "output_type": "execute_result"
    }
   ],
   "source": [
    "lines[:3]"
   ]
  },
  {
   "cell_type": "code",
   "execution_count": 16,
   "metadata": {},
   "outputs": [
    {
     "data": {
      "text/plain": [
       "['cd_peace-on-earth_monika-herzig',\n",
       " 'cd_exchange-latin-america_various-artists-awilda-villarini-brad-fust',\n",
       " 'cd_haramand-plane-three-translation-links_jerry-hunt']"
      ]
     },
     "execution_count": 16,
     "metadata": {},
     "output_type": "execute_result"
    }
   ],
   "source": [
    "np.random.seed(10)\n",
    "np.random.shuffle(lines)\n",
    "lines[:3]"
   ]
  },
  {
   "cell_type": "code",
   "execution_count": 17,
   "metadata": {},
   "outputs": [],
   "source": [
    "# split full dataset into batches each of size 1000\n",
    "batch_size = 1000\n",
    "batches = []\n",
    "for i in range(len(lines) // batch_size + 1):\n",
    "    batches.append(lines[i*batch_size:(i+1)*batch_size])"
   ]
  },
  {
   "cell_type": "code",
   "execution_count": 24,
   "metadata": {},
   "outputs": [
    {
     "data": {
      "text/plain": [
       "(178, 3)"
      ]
     },
     "execution_count": 24,
     "metadata": {},
     "output_type": "execute_result"
    }
   ],
   "source": [
    "digits = int(np.log10(len(batches))) + 1\n",
    "len(batches), digits"
   ]
  },
  {
   "cell_type": "code",
   "execution_count": 58,
   "metadata": {},
   "outputs": [
    {
     "ename": "Exception",
     "evalue": "CAUTION: these batches already exist",
     "output_type": "error",
     "traceback": [
      "\u001b[0;31m---------------------------------------------------------------------------\u001b[0m",
      "\u001b[0;31mException\u001b[0m                                 Traceback (most recent call last)",
      "\u001b[0;32m<ipython-input-58-827da0347da4>\u001b[0m in \u001b[0;36m<module>\u001b[0;34m()\u001b[0m\n\u001b[1;32m      1\u001b[0m \u001b[0mfilename\u001b[0m \u001b[0;34m=\u001b[0m \u001b[0mos\u001b[0m\u001b[0;34m.\u001b[0m\u001b[0mpath\u001b[0m\u001b[0;34m.\u001b[0m\u001b[0mjoin\u001b[0m\u001b[0;34m(\u001b[0m\u001b[0mroot\u001b[0m\u001b[0;34m,\u001b[0m \u001b[0;34m'ids_batch_1k.pth.tar'\u001b[0m\u001b[0;34m)\u001b[0m\u001b[0;34m\u001b[0m\u001b[0m\n\u001b[1;32m      2\u001b[0m \u001b[0;32mif\u001b[0m \u001b[0mos\u001b[0m\u001b[0;34m.\u001b[0m\u001b[0mpath\u001b[0m\u001b[0;34m.\u001b[0m\u001b[0mexists\u001b[0m\u001b[0;34m(\u001b[0m\u001b[0mfilename\u001b[0m\u001b[0;34m)\u001b[0m\u001b[0;34m:\u001b[0m\u001b[0;34m\u001b[0m\u001b[0m\n\u001b[0;32m----> 3\u001b[0;31m     \u001b[0;32mraise\u001b[0m \u001b[0mException\u001b[0m\u001b[0;34m(\u001b[0m\u001b[0;34m'CAUTION: these batches already exist'\u001b[0m\u001b[0;34m)\u001b[0m\u001b[0;34m\u001b[0m\u001b[0m\n\u001b[0m\u001b[1;32m      4\u001b[0m \u001b[0mtorch\u001b[0m\u001b[0;34m.\u001b[0m\u001b[0msave\u001b[0m\u001b[0;34m(\u001b[0m\u001b[0mbatches\u001b[0m\u001b[0;34m,\u001b[0m \u001b[0mfilename\u001b[0m\u001b[0;34m)\u001b[0m\u001b[0;34m\u001b[0m\u001b[0m\n",
      "\u001b[0;31mException\u001b[0m: CAUTION: these batches already exist"
     ]
    }
   ],
   "source": [
    "filename = os.path.join(root, 'ids_batch_1k.pth.tar')\n",
    "if os.path.exists(filename):\n",
    "    raise Exception('CAUTION: these batches already exist')\n",
    "torch.save(batches, filename)"
   ]
  },
  {
   "cell_type": "code",
   "execution_count": 93,
   "metadata": {},
   "outputs": [],
   "source": [
    "def gen_download_cmds(batch_id, batch_id_path=None):\n",
    "    if batch_id_path is None:\n",
    "        batch_id_path = os.path.join(root, 'ids_batch_1k.pth.tar')\n",
    "    batch = torch.load(batch_id_path)[batch_id]\n",
    "    \n",
    "    dirname = os.path.join(root, 'raw', 'batch{}'.format(batch_id))\n",
    "    if os.path.exists(dirname):\n",
    "        raise Exception('CAUTION: thjs batch already exist')\n",
    "    os.mkdir(dirname)\n",
    "    #print('Made dir: {}'.format(dirname))\n",
    "    \n",
    "    with open(os.path.join(dirname, 'ids.txt'), 'w+') as f:\n",
    "        f.write('\\n'.join(batch))\n",
    "        f.write('\\n')\n",
    "    \n",
    "    cd_cmd = 'cd {}'.format(dirname)\n",
    "    dl_cmd = \"wget -r -H -nc -np -nH -nd -A .mp3 -e robots=off -l1 -i ./ids.txt -B 'http://archive.org/download/'\"\n",
    "    \n",
    "    return cd_cmd, dl_cmd"
   ]
  },
  {
   "cell_type": "code",
   "execution_count": 85,
   "metadata": {},
   "outputs": [
    {
     "ename": "Exception",
     "evalue": "CAUTION: thjs batch already exist",
     "output_type": "error",
     "traceback": [
      "\u001b[0;31m---------------------------------------------------------------------------\u001b[0m",
      "\u001b[0;31mException\u001b[0m                                 Traceback (most recent call last)",
      "\u001b[0;32m<ipython-input-85-0b3b864284e5>\u001b[0m in \u001b[0;36m<module>\u001b[0;34m()\u001b[0m\n\u001b[0;32m----> 1\u001b[0;31m \u001b[0mprint\u001b[0m\u001b[0;34m(\u001b[0m\u001b[0;34m'\\n'\u001b[0m\u001b[0;34m.\u001b[0m\u001b[0mjoin\u001b[0m\u001b[0;34m(\u001b[0m\u001b[0mgen_download_cmds\u001b[0m\u001b[0;34m(\u001b[0m\u001b[0;36m2\u001b[0m\u001b[0;34m)\u001b[0m\u001b[0;34m)\u001b[0m\u001b[0;34m)\u001b[0m\u001b[0;34m\u001b[0m\u001b[0m\n\u001b[0m",
      "\u001b[0;32m<ipython-input-84-84688c21315d>\u001b[0m in \u001b[0;36mgen_download_cmds\u001b[0;34m(batch_id, batch_id_path)\u001b[0m\n\u001b[1;32m      6\u001b[0m     \u001b[0mdirname\u001b[0m \u001b[0;34m=\u001b[0m \u001b[0mos\u001b[0m\u001b[0;34m.\u001b[0m\u001b[0mpath\u001b[0m\u001b[0;34m.\u001b[0m\u001b[0mjoin\u001b[0m\u001b[0;34m(\u001b[0m\u001b[0mroot\u001b[0m\u001b[0;34m,\u001b[0m \u001b[0;34m'raw'\u001b[0m\u001b[0;34m,\u001b[0m \u001b[0;34m'batch{}'\u001b[0m\u001b[0;34m.\u001b[0m\u001b[0mformat\u001b[0m\u001b[0;34m(\u001b[0m\u001b[0mbatch_id\u001b[0m\u001b[0;34m)\u001b[0m\u001b[0;34m)\u001b[0m\u001b[0;34m\u001b[0m\u001b[0m\n\u001b[1;32m      7\u001b[0m     \u001b[0;32mif\u001b[0m \u001b[0mos\u001b[0m\u001b[0;34m.\u001b[0m\u001b[0mpath\u001b[0m\u001b[0;34m.\u001b[0m\u001b[0mexists\u001b[0m\u001b[0;34m(\u001b[0m\u001b[0mdirname\u001b[0m\u001b[0;34m)\u001b[0m\u001b[0;34m:\u001b[0m\u001b[0;34m\u001b[0m\u001b[0m\n\u001b[0;32m----> 8\u001b[0;31m         \u001b[0;32mraise\u001b[0m \u001b[0mException\u001b[0m\u001b[0;34m(\u001b[0m\u001b[0;34m'CAUTION: thjs batch already exist'\u001b[0m\u001b[0;34m)\u001b[0m\u001b[0;34m\u001b[0m\u001b[0m\n\u001b[0m\u001b[1;32m      9\u001b[0m     \u001b[0mos\u001b[0m\u001b[0;34m.\u001b[0m\u001b[0mmkdir\u001b[0m\u001b[0;34m(\u001b[0m\u001b[0mdirname\u001b[0m\u001b[0;34m)\u001b[0m\u001b[0;34m\u001b[0m\u001b[0m\n\u001b[1;32m     10\u001b[0m     \u001b[0;31m#print('Made dir: {}'.format(dirname))\u001b[0m\u001b[0;34m\u001b[0m\u001b[0;34m\u001b[0m\u001b[0m\n",
      "\u001b[0;31mException\u001b[0m: CAUTION: thjs batch already exist"
     ]
    }
   ],
   "source": [
    "print('\\n'.join(gen_download_cmds(2)))"
   ]
  },
  {
   "cell_type": "code",
   "execution_count": 94,
   "metadata": {},
   "outputs": [
    {
     "name": "stdout",
     "output_type": "stream",
     "text": [
      "cd /home/fleeb/workspace/ml_datasets/audio/archive_samples_only/raw/batch50\n",
      "wget -r -H -nc -np -nH -nd -A .mp3 -e robots=off -l1 -i ./ids.txt -B 'http://archive.org/download/'\n",
      "cd /home/fleeb/workspace/ml_datasets/audio/archive_samples_only/raw/batch51\n",
      "wget -r -H -nc -np -nH -nd -A .mp3 -e robots=off -l1 -i ./ids.txt -B 'http://archive.org/download/'\n",
      "cd /home/fleeb/workspace/ml_datasets/audio/archive_samples_only/raw/batch52\n",
      "wget -r -H -nc -np -nH -nd -A .mp3 -e robots=off -l1 -i ./ids.txt -B 'http://archive.org/download/'\n",
      "cd /home/fleeb/workspace/ml_datasets/audio/archive_samples_only/raw/batch53\n",
      "wget -r -H -nc -np -nH -nd -A .mp3 -e robots=off -l1 -i ./ids.txt -B 'http://archive.org/download/'\n",
      "cd /home/fleeb/workspace/ml_datasets/audio/archive_samples_only/raw/batch54\n",
      "wget -r -H -nc -np -nH -nd -A .mp3 -e robots=off -l1 -i ./ids.txt -B 'http://archive.org/download/'\n",
      "cd /home/fleeb/workspace/ml_datasets/audio/archive_samples_only/raw/batch55\n",
      "wget -r -H -nc -np -nH -nd -A .mp3 -e robots=off -l1 -i ./ids.txt -B 'http://archive.org/download/'\n",
      "cd /home/fleeb/workspace/ml_datasets/audio/archive_samples_only/raw/batch56\n",
      "wget -r -H -nc -np -nH -nd -A .mp3 -e robots=off -l1 -i ./ids.txt -B 'http://archive.org/download/'\n",
      "cd /home/fleeb/workspace/ml_datasets/audio/archive_samples_only/raw/batch57\n",
      "wget -r -H -nc -np -nH -nd -A .mp3 -e robots=off -l1 -i ./ids.txt -B 'http://archive.org/download/'\n",
      "cd /home/fleeb/workspace/ml_datasets/audio/archive_samples_only/raw/batch58\n",
      "wget -r -H -nc -np -nH -nd -A .mp3 -e robots=off -l1 -i ./ids.txt -B 'http://archive.org/download/'\n",
      "cd /home/fleeb/workspace/ml_datasets/audio/archive_samples_only/raw/batch59\n",
      "wget -r -H -nc -np -nH -nd -A .mp3 -e robots=off -l1 -i ./ids.txt -B 'http://archive.org/download/'\n",
      "cd /home/fleeb/workspace/ml_datasets/audio/archive_samples_only/raw/batch60\n",
      "wget -r -H -nc -np -nH -nd -A .mp3 -e robots=off -l1 -i ./ids.txt -B 'http://archive.org/download/'\n",
      "cd /home/fleeb/workspace/ml_datasets/audio/archive_samples_only/raw/batch61\n",
      "wget -r -H -nc -np -nH -nd -A .mp3 -e robots=off -l1 -i ./ids.txt -B 'http://archive.org/download/'\n",
      "cd /home/fleeb/workspace/ml_datasets/audio/archive_samples_only/raw/batch62\n",
      "wget -r -H -nc -np -nH -nd -A .mp3 -e robots=off -l1 -i ./ids.txt -B 'http://archive.org/download/'\n",
      "cd /home/fleeb/workspace/ml_datasets/audio/archive_samples_only/raw/batch63\n",
      "wget -r -H -nc -np -nH -nd -A .mp3 -e robots=off -l1 -i ./ids.txt -B 'http://archive.org/download/'\n",
      "cd /home/fleeb/workspace/ml_datasets/audio/archive_samples_only/raw/batch64\n",
      "wget -r -H -nc -np -nH -nd -A .mp3 -e robots=off -l1 -i ./ids.txt -B 'http://archive.org/download/'\n",
      "cd /home/fleeb/workspace/ml_datasets/audio/archive_samples_only/raw/batch65\n",
      "wget -r -H -nc -np -nH -nd -A .mp3 -e robots=off -l1 -i ./ids.txt -B 'http://archive.org/download/'\n",
      "cd /home/fleeb/workspace/ml_datasets/audio/archive_samples_only/raw/batch66\n",
      "wget -r -H -nc -np -nH -nd -A .mp3 -e robots=off -l1 -i ./ids.txt -B 'http://archive.org/download/'\n",
      "cd /home/fleeb/workspace/ml_datasets/audio/archive_samples_only/raw/batch67\n",
      "wget -r -H -nc -np -nH -nd -A .mp3 -e robots=off -l1 -i ./ids.txt -B 'http://archive.org/download/'\n",
      "cd /home/fleeb/workspace/ml_datasets/audio/archive_samples_only/raw/batch68\n",
      "wget -r -H -nc -np -nH -nd -A .mp3 -e robots=off -l1 -i ./ids.txt -B 'http://archive.org/download/'\n",
      "cd /home/fleeb/workspace/ml_datasets/audio/archive_samples_only/raw/batch69\n",
      "wget -r -H -nc -np -nH -nd -A .mp3 -e robots=off -l1 -i ./ids.txt -B 'http://archive.org/download/'\n"
     ]
    }
   ],
   "source": [
    "with open(os.path.join(root, 'cmds.sh'), 'w') as f:\n",
    "    for i in range(50,70):\n",
    "        cmds = gen_download_cmds(i)\n",
    "        print('\\n'.join(cmds))\n",
    "        f.write('\\n'.join(cmds))\n",
    "        f.write('\\n')"
   ]
  },
  {
   "cell_type": "code",
   "execution_count": null,
   "metadata": {},
   "outputs": [],
   "source": []
  }
 ],
 "metadata": {
  "kernelspec": {
   "display_name": "Python 3",
   "language": "python",
   "name": "python3"
  },
  "language_info": {
   "codemirror_mode": {
    "name": "ipython",
    "version": 3
   },
   "file_extension": ".py",
   "mimetype": "text/x-python",
   "name": "python",
   "nbconvert_exporter": "python",
   "pygments_lexer": "ipython3",
   "version": "3.5.5"
  }
 },
 "nbformat": 4,
 "nbformat_minor": 2
}
