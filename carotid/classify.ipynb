{
 "cells": [
  {
   "cell_type": "code",
   "execution_count": 1,
   "metadata": {},
   "outputs": [
    {
     "name": "stderr",
     "output_type": "stream",
     "text": [
      "/home/fleeb/anaconda3/lib/python3.6/site-packages/h5py/__init__.py:36: FutureWarning: Conversion of the second argument of issubdtype from `float` to `np.floating` is deprecated. In future, it will be treated as `np.float64 == np.dtype(float).type`.\n",
      "  from ._conv import register_converters as _register_converters\n"
     ]
    }
   ],
   "source": [
    "import sys, os\n",
    "import numpy as np\n",
    "%matplotlib notebook\n",
    "import matplotlib.pyplot as plt\n",
    "import pydub\n",
    "import torch\n",
    "import torch.nn as nn\n",
    "from torch.utils.data import DataLoader\n",
    "from datasets import *\n",
    "from models import *\n",
    "import torchaudio\n",
    "from torchaudio import transforms\n",
    "import h5py as hf"
   ]
  },
  {
   "cell_type": "code",
   "execution_count": 2,
   "metadata": {},
   "outputs": [],
   "source": [
    "seq_len = 2000\n",
    "fs = 44100\n",
    "hop = 1000"
   ]
  },
  {
   "cell_type": "code",
   "execution_count": 30,
   "metadata": {},
   "outputs": [],
   "source": [
    "path = '/home/fleeb/workspace/ml_datasets/audio/musicnet/musicnet.h5'"
   ]
  },
  {
   "cell_type": "code",
   "execution_count": 4,
   "metadata": {},
   "outputs": [
    {
     "data": {
      "text/plain": [
       "Wav_Encoder(\n",
       "  (conv): Sequential(\n",
       "    (0): Conv1d(1, 32, kernel_size=(40,), stride=(20,))\n",
       "    (1): BatchNorm1d(32, eps=1e-05, momentum=0.1, affine=True, track_running_stats=True)\n",
       "    (2): PReLU(num_parameters=1)\n",
       "    (3): Conv1d(32, 64, kernel_size=(40,), stride=(20,))\n",
       "    (4): BatchNorm1d(64, eps=1e-05, momentum=0.1, affine=True, track_running_stats=True)\n",
       "    (5): PReLU(num_parameters=1)\n",
       "    (6): Conv1d(64, 128, kernel_size=(40,), stride=(20,))\n",
       "    (7): BatchNorm1d(128, eps=1e-05, momentum=0.1, affine=True, track_running_stats=True)\n",
       "    (8): PReLU(num_parameters=1)\n",
       "  )\n",
       "  (rec): RecNet(\n",
       "    (rec): LSTM(128, 128, batch_first=True)\n",
       "  )\n",
       ")"
      ]
     },
     "execution_count": 4,
     "metadata": {},
     "output_type": "execute_result"
    }
   ],
   "source": [
    "model = Wav_Encoder((1, fs*seq_len//1000), out_dim=4, rec_type='lstm',\n",
    "                    rec_dim=128,)# fc_dims=[64])\n",
    "model"
   ]
  },
  {
   "cell_type": "code",
   "execution_count": 5,
   "metadata": {},
   "outputs": [],
   "source": [
    "with hf.File(, 'r') as f:\n",
    "    ids = np.array(list(f.keys()))\n",
    "    lens = np.array([f[ID]['data'].shape[0] for ID in ids])\n",
    "    lbls = np.array([f[ID].attrs['label'] for ID in ids])"
   ]
  },
  {
   "cell_type": "code",
   "execution_count": 37,
   "metadata": {},
   "outputs": [
    {
     "name": "stdout",
     "output_type": "stream",
     "text": [
      "[229, 39, 62]\n"
     ]
    }
   ],
   "source": [
    "trainper = 0.7\n",
    "valper = 0.1\n",
    "\n",
    "orders = util.split_vals(np.arange(len(ids)), [trainper, valper, 1 - trainper - valper])\n",
    "print([len(o) for o in orders])"
   ]
  },
  {
   "cell_type": "code",
   "execution_count": 38,
   "metadata": {},
   "outputs": [
    {
     "data": {
      "text/plain": [
       "[array([ 46,  25, 153,   5]), array([10,  6, 22,  1]), array([11,  5, 44,  2])]"
      ]
     },
     "execution_count": 38,
     "metadata": {},
     "output_type": "execute_result"
    }
   ],
   "source": [
    "[np.bincount(lbls[o], minlength=4) for o in orders]"
   ]
  },
  {
   "cell_type": "code",
   "execution_count": 39,
   "metadata": {},
   "outputs": [
    {
     "data": {
      "text/plain": [
       "[array([0.20087336, 0.10917031, 0.66812227, 0.02183406]),\n",
       " array([0.25641026, 0.15384615, 0.56410256, 0.02564103]),\n",
       " array([0.17741935, 0.08064516, 0.70967742, 0.03225806])]"
      ]
     },
     "execution_count": 39,
     "metadata": {},
     "output_type": "execute_result"
    }
   ],
   "source": [
    "[1/(x.sum()/x) for x in _]"
   ]
  },
  {
   "cell_type": "code",
   "execution_count": 43,
   "metadata": {},
   "outputs": [
    {
     "name": "stdout",
     "output_type": "stream",
     "text": [
      "[0.693939393939394, 0.11818181818181818, 0.18787878787878787]\n",
      "[0.6690789527140047, 0.1156568446306805, 0.2152642026553148]\n",
      "[array([ 46,  25, 153,   5]), array([10,  6, 22,  1]), array([11,  5, 44,  2])]\n"
     ]
    }
   ],
   "source": [
    "splitIds = [ids[o] for o in orders]\n",
    "splitLens = [lens[o] for o in orders]\n",
    "splitCats = [lbls[o] for o in orders]\n",
    "print([len(s)/330 for s in splitIds])\n",
    "print([l.sum()/lens.sum() for l in splitLens])\n",
    "print([np.bincount(l, minlength=4) for l in splitCats])"
   ]
  },
  {
   "cell_type": "code",
   "execution_count": 44,
   "metadata": {},
   "outputs": [],
   "source": [
    "#torch.save({'ids':splitIds, 'lens': splitLens, 'cats':splitCats }, os.path.join(os.path.dirname(path), 'split.pth.tar'))"
   ]
  },
  {
   "cell_type": "code",
   "execution_count": 28,
   "metadata": {},
   "outputs": [],
   "source": [
    "weights = np.bincount(lbls, weights=lens)"
   ]
  },
  {
   "cell_type": "code",
   "execution_count": 29,
   "metadata": {},
   "outputs": [
    {
     "data": {
      "text/plain": [
       "array([0.09009661, 0.10476058, 0.77576515, 0.02937767])"
      ]
     },
     "execution_count": 29,
     "metadata": {},
     "output_type": "execute_result"
    }
   ],
   "source": [
    "1 / (lens.sum() / weights)"
   ]
  },
  {
   "cell_type": "code",
   "execution_count": null,
   "metadata": {},
   "outputs": [],
   "source": []
  },
  {
   "cell_type": "code",
   "execution_count": 11,
   "metadata": {},
   "outputs": [
    {
     "data": {
      "text/plain": [
       "122049"
      ]
     },
     "execution_count": 11,
     "metadata": {},
     "output_type": "execute_result"
    }
   ],
   "source": [
    "dataset = MusicNet_Dataset('/home/fleeb/workspace/ml_datasets/audio/musicnet/musicnet.h5', \n",
    "                           seq_len=seq_len, hop=hop)\n",
    "len(dataset)"
   ]
  },
  {
   "cell_type": "code",
   "execution_count": 12,
   "metadata": {},
   "outputs": [
    {
     "data": {
      "text/plain": [
       "30513"
      ]
     },
     "execution_count": 12,
     "metadata": {},
     "output_type": "execute_result"
    }
   ],
   "source": [
    "loader = DataLoader(dataset, batch_size=4, shuffle=True)\n",
    "len(loader)"
   ]
  },
  {
   "cell_type": "code",
   "execution_count": 13,
   "metadata": {},
   "outputs": [
    {
     "data": {
      "text/plain": [
       "(torch.Size([4, 88200]), tensor([2, 2, 0, 2]))"
      ]
     },
     "execution_count": 13,
     "metadata": {},
     "output_type": "execute_result"
    }
   ],
   "source": [
    "for x,y in loader:\n",
    "    break\n",
    "x.size(), y"
   ]
  },
  {
   "cell_type": "code",
   "execution_count": 14,
   "metadata": {},
   "outputs": [
    {
     "name": "stdout",
     "output_type": "stream",
     "text": [
      "x torch.Size([4, 1, 88200])\n",
      "y torch.Size([4, 128, 9])\n",
      "yr torch.Size([4, 128])\n",
      "tensor(4.2375, grad_fn=<MeanBackward1>)\n",
      "out torch.Size([4, 4])\n"
     ]
    },
    {
     "data": {
      "text/plain": [
       "torch.Size([4, 4])"
      ]
     },
     "execution_count": 14,
     "metadata": {},
     "output_type": "execute_result"
    }
   ],
   "source": [
    "out = model(x.unsqueeze(1).float())\n",
    "out.size()"
   ]
  },
  {
   "cell_type": "code",
   "execution_count": 8,
   "metadata": {},
   "outputs": [
    {
     "data": {
      "text/plain": [
       "tensor(1.4517, grad_fn=<NllLossBackward>)"
      ]
     },
     "execution_count": 8,
     "metadata": {},
     "output_type": "execute_result"
    }
   ],
   "source": [
    "nn.NLLLoss()(out, y)"
   ]
  },
  {
   "cell_type": "code",
   "execution_count": 2,
   "metadata": {},
   "outputs": [
    {
     "data": {
      "text/plain": [
       "(torch.Size([3186432, 2]), 48000)"
      ]
     },
     "execution_count": 2,
     "metadata": {},
     "output_type": "execute_result"
    }
   ],
   "source": [
    "t, fs = torchaudio.load('example.mp3', normalization=True)\n",
    "t.size(), fs"
   ]
  },
  {
   "cell_type": "code",
   "execution_count": 13,
   "metadata": {},
   "outputs": [],
   "source": [
    "torchaudio.transforms.MEL2?"
   ]
  },
  {
   "cell_type": "code",
   "execution_count": 12,
   "metadata": {},
   "outputs": [
    {
     "ename": "TypeError",
     "evalue": "stft(): argument 'normalized' (position 5) must be bool, not Tensor",
     "output_type": "error",
     "traceback": [
      "\u001b[0;31m---------------------------------------------------------------------------\u001b[0m",
      "\u001b[0;31mTypeError\u001b[0m                                 Traceback (most recent call last)",
      "\u001b[0;32m<ipython-input-12-1315ec30a1ee>\u001b[0m in \u001b[0;36m<module>\u001b[0;34m()\u001b[0m\n\u001b[1;32m      1\u001b[0m \u001b[0mspec\u001b[0m \u001b[0;34m=\u001b[0m \u001b[0mtorchaudio\u001b[0m\u001b[0;34m.\u001b[0m\u001b[0mtransforms\u001b[0m\u001b[0;34m.\u001b[0m\u001b[0mMEL2\u001b[0m\u001b[0;34m(\u001b[0m\u001b[0;34m)\u001b[0m\u001b[0;34m\u001b[0m\u001b[0m\n\u001b[0;32m----> 2\u001b[0;31m \u001b[0mspec\u001b[0m\u001b[0;34m(\u001b[0m\u001b[0mt\u001b[0m\u001b[0;34m)\u001b[0m\u001b[0;34m.\u001b[0m\u001b[0msize\u001b[0m\u001b[0;34m(\u001b[0m\u001b[0;34m)\u001b[0m\u001b[0;34m\u001b[0m\u001b[0m\n\u001b[0m",
      "\u001b[0;32m~/anaconda3/lib/python3.6/site-packages/torchaudio-0.1-py3.6-linux-x86_64.egg/torchaudio/transforms.py\u001b[0m in \u001b[0;36m__call__\u001b[0;34m(self, sig)\u001b[0m\n\u001b[1;32m    360\u001b[0m         ])\n\u001b[1;32m    361\u001b[0m \u001b[0;34m\u001b[0m\u001b[0m\n\u001b[0;32m--> 362\u001b[0;31m         \u001b[0mspec_mel_db\u001b[0m \u001b[0;34m=\u001b[0m \u001b[0mtransforms\u001b[0m\u001b[0;34m(\u001b[0m\u001b[0msig\u001b[0m\u001b[0;34m)\u001b[0m\u001b[0;34m\u001b[0m\u001b[0m\n\u001b[0m\u001b[1;32m    363\u001b[0m \u001b[0;34m\u001b[0m\u001b[0m\n\u001b[1;32m    364\u001b[0m         \u001b[0;32mreturn\u001b[0m \u001b[0mspec_mel_db\u001b[0m \u001b[0;32mif\u001b[0m \u001b[0mis_variable\u001b[0m \u001b[0;32melse\u001b[0m \u001b[0mspec_mel_db\u001b[0m\u001b[0;34m.\u001b[0m\u001b[0mdata\u001b[0m\u001b[0;34m\u001b[0m\u001b[0m\n",
      "\u001b[0;32m~/anaconda3/lib/python3.6/site-packages/torchaudio-0.1-py3.6-linux-x86_64.egg/torchaudio/transforms.py\u001b[0m in \u001b[0;36m__call__\u001b[0;34m(self, audio)\u001b[0m\n\u001b[1;32m     45\u001b[0m     \u001b[0;32mdef\u001b[0m \u001b[0m__call__\u001b[0m\u001b[0;34m(\u001b[0m\u001b[0mself\u001b[0m\u001b[0;34m,\u001b[0m \u001b[0maudio\u001b[0m\u001b[0;34m)\u001b[0m\u001b[0;34m:\u001b[0m\u001b[0;34m\u001b[0m\u001b[0m\n\u001b[1;32m     46\u001b[0m         \u001b[0;32mfor\u001b[0m \u001b[0mt\u001b[0m \u001b[0;32min\u001b[0m \u001b[0mself\u001b[0m\u001b[0;34m.\u001b[0m\u001b[0mtransforms\u001b[0m\u001b[0;34m:\u001b[0m\u001b[0;34m\u001b[0m\u001b[0m\n\u001b[0;32m---> 47\u001b[0;31m             \u001b[0maudio\u001b[0m \u001b[0;34m=\u001b[0m \u001b[0mt\u001b[0m\u001b[0;34m(\u001b[0m\u001b[0maudio\u001b[0m\u001b[0;34m)\u001b[0m\u001b[0;34m\u001b[0m\u001b[0m\n\u001b[0m\u001b[1;32m     48\u001b[0m         \u001b[0;32mreturn\u001b[0m \u001b[0maudio\u001b[0m\u001b[0;34m\u001b[0m\u001b[0m\n\u001b[1;32m     49\u001b[0m \u001b[0;34m\u001b[0m\u001b[0m\n",
      "\u001b[0;32m~/anaconda3/lib/python3.6/site-packages/torchaudio-0.1-py3.6-linux-x86_64.egg/torchaudio/transforms.py\u001b[0m in \u001b[0;36m__call__\u001b[0;34m(self, sig)\u001b[0m\n\u001b[1;32m    225\u001b[0m         spec_f = torch.stft(sig, self.n_fft, self.hop, self.ws,\n\u001b[1;32m    226\u001b[0m                             \u001b[0mself\u001b[0m\u001b[0;34m.\u001b[0m\u001b[0mwindow\u001b[0m\u001b[0;34m,\u001b[0m \u001b[0mcenter\u001b[0m\u001b[0;34m=\u001b[0m\u001b[0;32mFalse\u001b[0m\u001b[0;34m,\u001b[0m\u001b[0;34m\u001b[0m\u001b[0m\n\u001b[0;32m--> 227\u001b[0;31m                             normalized=True, onesided=True).transpose(1, 2)\n\u001b[0m\u001b[1;32m    228\u001b[0m         \u001b[0mspec_f\u001b[0m \u001b[0;34m/=\u001b[0m \u001b[0mself\u001b[0m\u001b[0;34m.\u001b[0m\u001b[0mwindow\u001b[0m\u001b[0;34m.\u001b[0m\u001b[0mpow\u001b[0m\u001b[0;34m(\u001b[0m\u001b[0;36m2\u001b[0m\u001b[0;34m)\u001b[0m\u001b[0;34m.\u001b[0m\u001b[0msum\u001b[0m\u001b[0;34m(\u001b[0m\u001b[0;34m)\u001b[0m\u001b[0;34m.\u001b[0m\u001b[0msqrt\u001b[0m\u001b[0;34m(\u001b[0m\u001b[0;34m)\u001b[0m\u001b[0;34m\u001b[0m\u001b[0m\n\u001b[1;32m    229\u001b[0m         \u001b[0mspec_f\u001b[0m \u001b[0;34m=\u001b[0m \u001b[0mspec_f\u001b[0m\u001b[0;34m.\u001b[0m\u001b[0mpow\u001b[0m\u001b[0;34m(\u001b[0m\u001b[0;36m2\u001b[0m\u001b[0;34m)\u001b[0m\u001b[0;34m.\u001b[0m\u001b[0msum\u001b[0m\u001b[0;34m(\u001b[0m\u001b[0;34m-\u001b[0m\u001b[0;36m1\u001b[0m\u001b[0;34m)\u001b[0m  \u001b[0;31m# get power of \"complex\" tensor (c, l, n_fft)\u001b[0m\u001b[0;34m\u001b[0m\u001b[0m\n",
      "\u001b[0;31mTypeError\u001b[0m: stft(): argument 'normalized' (position 5) must be bool, not Tensor"
     ]
    }
   ],
   "source": [
    "spec = torchaudio.transforms.MEL2()\n",
    "spec(t).size()"
   ]
  },
  {
   "cell_type": "code",
   "execution_count": 16,
   "metadata": {},
   "outputs": [
    {
     "ename": "TypeError",
     "evalue": "stft(): argument 'normalized' (position 5) must be bool, not Tensor",
     "output_type": "error",
     "traceback": [
      "\u001b[0;31m---------------------------------------------------------------------------\u001b[0m",
      "\u001b[0;31mTypeError\u001b[0m                                 Traceback (most recent call last)",
      "\u001b[0;32m<ipython-input-16-9449fa2de5b1>\u001b[0m in \u001b[0;36m<module>\u001b[0;34m()\u001b[0m\n\u001b[1;32m      1\u001b[0m \u001b[0msig\u001b[0m \u001b[0;34m=\u001b[0m \u001b[0mtransforms\u001b[0m\u001b[0;34m.\u001b[0m\u001b[0mLC2CL\u001b[0m\u001b[0;34m(\u001b[0m\u001b[0;34m)\u001b[0m\u001b[0;34m(\u001b[0m\u001b[0mt\u001b[0m\u001b[0;34m)\u001b[0m  \u001b[0;31m# (n, c) -> (c, n)\u001b[0m\u001b[0;34m\u001b[0m\u001b[0m\n\u001b[0;32m----> 2\u001b[0;31m \u001b[0mspec_mel\u001b[0m \u001b[0;34m=\u001b[0m \u001b[0mtransforms\u001b[0m\u001b[0;34m.\u001b[0m\u001b[0mMEL2\u001b[0m\u001b[0;34m(\u001b[0m\u001b[0mfs\u001b[0m\u001b[0;34m)\u001b[0m\u001b[0;34m(\u001b[0m\u001b[0msig\u001b[0m\u001b[0;34m)\u001b[0m  \u001b[0;31m# (c, l, m)\u001b[0m\u001b[0;34m\u001b[0m\u001b[0m\n\u001b[0m",
      "\u001b[0;32m~/anaconda3/lib/python3.6/site-packages/torchaudio-0.1-py3.6-linux-x86_64.egg/torchaudio/transforms.py\u001b[0m in \u001b[0;36m__call__\u001b[0;34m(self, sig)\u001b[0m\n\u001b[1;32m    360\u001b[0m         ])\n\u001b[1;32m    361\u001b[0m \u001b[0;34m\u001b[0m\u001b[0m\n\u001b[0;32m--> 362\u001b[0;31m         \u001b[0mspec_mel_db\u001b[0m \u001b[0;34m=\u001b[0m \u001b[0mtransforms\u001b[0m\u001b[0;34m(\u001b[0m\u001b[0msig\u001b[0m\u001b[0;34m)\u001b[0m\u001b[0;34m\u001b[0m\u001b[0m\n\u001b[0m\u001b[1;32m    363\u001b[0m \u001b[0;34m\u001b[0m\u001b[0m\n\u001b[1;32m    364\u001b[0m         \u001b[0;32mreturn\u001b[0m \u001b[0mspec_mel_db\u001b[0m \u001b[0;32mif\u001b[0m \u001b[0mis_variable\u001b[0m \u001b[0;32melse\u001b[0m \u001b[0mspec_mel_db\u001b[0m\u001b[0;34m.\u001b[0m\u001b[0mdata\u001b[0m\u001b[0;34m\u001b[0m\u001b[0m\n",
      "\u001b[0;32m~/anaconda3/lib/python3.6/site-packages/torchaudio-0.1-py3.6-linux-x86_64.egg/torchaudio/transforms.py\u001b[0m in \u001b[0;36m__call__\u001b[0;34m(self, audio)\u001b[0m\n\u001b[1;32m     45\u001b[0m     \u001b[0;32mdef\u001b[0m \u001b[0m__call__\u001b[0m\u001b[0;34m(\u001b[0m\u001b[0mself\u001b[0m\u001b[0;34m,\u001b[0m \u001b[0maudio\u001b[0m\u001b[0;34m)\u001b[0m\u001b[0;34m:\u001b[0m\u001b[0;34m\u001b[0m\u001b[0m\n\u001b[1;32m     46\u001b[0m         \u001b[0;32mfor\u001b[0m \u001b[0mt\u001b[0m \u001b[0;32min\u001b[0m \u001b[0mself\u001b[0m\u001b[0;34m.\u001b[0m\u001b[0mtransforms\u001b[0m\u001b[0;34m:\u001b[0m\u001b[0;34m\u001b[0m\u001b[0m\n\u001b[0;32m---> 47\u001b[0;31m             \u001b[0maudio\u001b[0m \u001b[0;34m=\u001b[0m \u001b[0mt\u001b[0m\u001b[0;34m(\u001b[0m\u001b[0maudio\u001b[0m\u001b[0;34m)\u001b[0m\u001b[0;34m\u001b[0m\u001b[0m\n\u001b[0m\u001b[1;32m     48\u001b[0m         \u001b[0;32mreturn\u001b[0m \u001b[0maudio\u001b[0m\u001b[0;34m\u001b[0m\u001b[0m\n\u001b[1;32m     49\u001b[0m \u001b[0;34m\u001b[0m\u001b[0m\n",
      "\u001b[0;32m~/anaconda3/lib/python3.6/site-packages/torchaudio-0.1-py3.6-linux-x86_64.egg/torchaudio/transforms.py\u001b[0m in \u001b[0;36m__call__\u001b[0;34m(self, sig)\u001b[0m\n\u001b[1;32m    225\u001b[0m         spec_f = torch.stft(sig, self.n_fft, self.hop, self.ws,\n\u001b[1;32m    226\u001b[0m                             \u001b[0mself\u001b[0m\u001b[0;34m.\u001b[0m\u001b[0mwindow\u001b[0m\u001b[0;34m,\u001b[0m \u001b[0mcenter\u001b[0m\u001b[0;34m=\u001b[0m\u001b[0;32mFalse\u001b[0m\u001b[0;34m,\u001b[0m\u001b[0;34m\u001b[0m\u001b[0m\n\u001b[0;32m--> 227\u001b[0;31m                             normalized=True, onesided=True).transpose(1, 2)\n\u001b[0m\u001b[1;32m    228\u001b[0m         \u001b[0mspec_f\u001b[0m \u001b[0;34m/=\u001b[0m \u001b[0mself\u001b[0m\u001b[0;34m.\u001b[0m\u001b[0mwindow\u001b[0m\u001b[0;34m.\u001b[0m\u001b[0mpow\u001b[0m\u001b[0;34m(\u001b[0m\u001b[0;36m2\u001b[0m\u001b[0;34m)\u001b[0m\u001b[0;34m.\u001b[0m\u001b[0msum\u001b[0m\u001b[0;34m(\u001b[0m\u001b[0;34m)\u001b[0m\u001b[0;34m.\u001b[0m\u001b[0msqrt\u001b[0m\u001b[0;34m(\u001b[0m\u001b[0;34m)\u001b[0m\u001b[0;34m\u001b[0m\u001b[0m\n\u001b[1;32m    229\u001b[0m         \u001b[0mspec_f\u001b[0m \u001b[0;34m=\u001b[0m \u001b[0mspec_f\u001b[0m\u001b[0;34m.\u001b[0m\u001b[0mpow\u001b[0m\u001b[0;34m(\u001b[0m\u001b[0;36m2\u001b[0m\u001b[0;34m)\u001b[0m\u001b[0;34m.\u001b[0m\u001b[0msum\u001b[0m\u001b[0;34m(\u001b[0m\u001b[0;34m-\u001b[0m\u001b[0;36m1\u001b[0m\u001b[0;34m)\u001b[0m  \u001b[0;31m# get power of \"complex\" tensor (c, l, n_fft)\u001b[0m\u001b[0;34m\u001b[0m\u001b[0m\n",
      "\u001b[0;31mTypeError\u001b[0m: stft(): argument 'normalized' (position 5) must be bool, not Tensor"
     ]
    }
   ],
   "source": [
    "sig = transforms.LC2CL()(t)  # (n, c) -> (c, n)\n",
    "spec_mel = transforms.MEL2(fs)(sig)  # (c, l, m)"
   ]
  },
  {
   "cell_type": "code",
   "execution_count": null,
   "metadata": {
    "collapsed": true
   },
   "outputs": [],
   "source": []
  },
  {
   "cell_type": "code",
   "execution_count": 4,
   "metadata": {},
   "outputs": [
    {
     "data": {
      "text/plain": [
       "['wav']"
      ]
     },
     "execution_count": 4,
     "metadata": {},
     "output_type": "execute_result"
    }
   ],
   "source": [
    "f = hf.File('/home/fleeb/workspace/ml_datasets/audio/yt/processed/track0000.h5', 'r')\n",
    "list(f.keys())"
   ]
  },
  {
   "cell_type": "code",
   "execution_count": 5,
   "metadata": {},
   "outputs": [
    {
     "data": {
      "text/plain": [
       "(11726221,)"
      ]
     },
     "execution_count": 5,
     "metadata": {},
     "output_type": "execute_result"
    }
   ],
   "source": [
    "f['wav'].shape"
   ]
  },
  {
   "cell_type": "code",
   "execution_count": 6,
   "metadata": {
    "collapsed": true
   },
   "outputs": [],
   "source": [
    "a = f['wav'].value"
   ]
  },
  {
   "cell_type": "code",
   "execution_count": 7,
   "metadata": {},
   "outputs": [
    {
     "data": {
      "text/plain": [
       "['name', 'gid', 'mid']"
      ]
     },
     "execution_count": 7,
     "metadata": {},
     "output_type": "execute_result"
    }
   ],
   "source": [
    "list(f.attrs.keys())"
   ]
  },
  {
   "cell_type": "code",
   "execution_count": 8,
   "metadata": {},
   "outputs": [
    {
     "data": {
      "text/plain": [
       "(7, 8)"
      ]
     },
     "execution_count": 8,
     "metadata": {},
     "output_type": "execute_result"
    }
   ],
   "source": [
    "f.attrs['gid'], f.attrs['mid']"
   ]
  },
  {
   "cell_type": "code",
   "execution_count": 9,
   "metadata": {},
   "outputs": [
    {
     "data": {
      "text/plain": [
       "'Hang Ups Want You - Otis McDonald (No Copyright Music)'"
      ]
     },
     "execution_count": 9,
     "metadata": {},
     "output_type": "execute_result"
    }
   ],
   "source": [
    "f.attrs['name']"
   ]
  },
  {
   "cell_type": "code",
   "execution_count": 10,
   "metadata": {
    "collapsed": true
   },
   "outputs": [],
   "source": [
    "f.close()"
   ]
  },
  {
   "cell_type": "code",
   "execution_count": 11,
   "metadata": {},
   "outputs": [
    {
     "data": {
      "text/plain": [
       "265.9007029478458"
      ]
     },
     "execution_count": 11,
     "metadata": {},
     "output_type": "execute_result"
    }
   ],
   "source": [
    "a.size / 44100"
   ]
  },
  {
   "cell_type": "code",
   "execution_count": 12,
   "metadata": {},
   "outputs": [
    {
     "data": {
      "application/javascript": [
       "/* Put everything inside the global mpl namespace */\n",
       "window.mpl = {};\n",
       "\n",
       "\n",
       "mpl.get_websocket_type = function() {\n",
       "    if (typeof(WebSocket) !== 'undefined') {\n",
       "        return WebSocket;\n",
       "    } else if (typeof(MozWebSocket) !== 'undefined') {\n",
       "        return MozWebSocket;\n",
       "    } else {\n",
       "        alert('Your browser does not have WebSocket support.' +\n",
       "              'Please try Chrome, Safari or Firefox ≥ 6. ' +\n",
       "              'Firefox 4 and 5 are also supported but you ' +\n",
       "              'have to enable WebSockets in about:config.');\n",
       "    };\n",
       "}\n",
       "\n",
       "mpl.figure = function(figure_id, websocket, ondownload, parent_element) {\n",
       "    this.id = figure_id;\n",
       "\n",
       "    this.ws = websocket;\n",
       "\n",
       "    this.supports_binary = (this.ws.binaryType != undefined);\n",
       "\n",
       "    if (!this.supports_binary) {\n",
       "        var warnings = document.getElementById(\"mpl-warnings\");\n",
       "        if (warnings) {\n",
       "            warnings.style.display = 'block';\n",
       "            warnings.textContent = (\n",
       "                \"This browser does not support binary websocket messages. \" +\n",
       "                    \"Performance may be slow.\");\n",
       "        }\n",
       "    }\n",
       "\n",
       "    this.imageObj = new Image();\n",
       "\n",
       "    this.context = undefined;\n",
       "    this.message = undefined;\n",
       "    this.canvas = undefined;\n",
       "    this.rubberband_canvas = undefined;\n",
       "    this.rubberband_context = undefined;\n",
       "    this.format_dropdown = undefined;\n",
       "\n",
       "    this.image_mode = 'full';\n",
       "\n",
       "    this.root = $('<div/>');\n",
       "    this._root_extra_style(this.root)\n",
       "    this.root.attr('style', 'display: inline-block');\n",
       "\n",
       "    $(parent_element).append(this.root);\n",
       "\n",
       "    this._init_header(this);\n",
       "    this._init_canvas(this);\n",
       "    this._init_toolbar(this);\n",
       "\n",
       "    var fig = this;\n",
       "\n",
       "    this.waiting = false;\n",
       "\n",
       "    this.ws.onopen =  function () {\n",
       "            fig.send_message(\"supports_binary\", {value: fig.supports_binary});\n",
       "            fig.send_message(\"send_image_mode\", {});\n",
       "            if (mpl.ratio != 1) {\n",
       "                fig.send_message(\"set_dpi_ratio\", {'dpi_ratio': mpl.ratio});\n",
       "            }\n",
       "            fig.send_message(\"refresh\", {});\n",
       "        }\n",
       "\n",
       "    this.imageObj.onload = function() {\n",
       "            if (fig.image_mode == 'full') {\n",
       "                // Full images could contain transparency (where diff images\n",
       "                // almost always do), so we need to clear the canvas so that\n",
       "                // there is no ghosting.\n",
       "                fig.context.clearRect(0, 0, fig.canvas.width, fig.canvas.height);\n",
       "            }\n",
       "            fig.context.drawImage(fig.imageObj, 0, 0);\n",
       "        };\n",
       "\n",
       "    this.imageObj.onunload = function() {\n",
       "        fig.ws.close();\n",
       "    }\n",
       "\n",
       "    this.ws.onmessage = this._make_on_message_function(this);\n",
       "\n",
       "    this.ondownload = ondownload;\n",
       "}\n",
       "\n",
       "mpl.figure.prototype._init_header = function() {\n",
       "    var titlebar = $(\n",
       "        '<div class=\"ui-dialog-titlebar ui-widget-header ui-corner-all ' +\n",
       "        'ui-helper-clearfix\"/>');\n",
       "    var titletext = $(\n",
       "        '<div class=\"ui-dialog-title\" style=\"width: 100%; ' +\n",
       "        'text-align: center; padding: 3px;\"/>');\n",
       "    titlebar.append(titletext)\n",
       "    this.root.append(titlebar);\n",
       "    this.header = titletext[0];\n",
       "}\n",
       "\n",
       "\n",
       "\n",
       "mpl.figure.prototype._canvas_extra_style = function(canvas_div) {\n",
       "\n",
       "}\n",
       "\n",
       "\n",
       "mpl.figure.prototype._root_extra_style = function(canvas_div) {\n",
       "\n",
       "}\n",
       "\n",
       "mpl.figure.prototype._init_canvas = function() {\n",
       "    var fig = this;\n",
       "\n",
       "    var canvas_div = $('<div/>');\n",
       "\n",
       "    canvas_div.attr('style', 'position: relative; clear: both; outline: 0');\n",
       "\n",
       "    function canvas_keyboard_event(event) {\n",
       "        return fig.key_event(event, event['data']);\n",
       "    }\n",
       "\n",
       "    canvas_div.keydown('key_press', canvas_keyboard_event);\n",
       "    canvas_div.keyup('key_release', canvas_keyboard_event);\n",
       "    this.canvas_div = canvas_div\n",
       "    this._canvas_extra_style(canvas_div)\n",
       "    this.root.append(canvas_div);\n",
       "\n",
       "    var canvas = $('<canvas/>');\n",
       "    canvas.addClass('mpl-canvas');\n",
       "    canvas.attr('style', \"left: 0; top: 0; z-index: 0; outline: 0\")\n",
       "\n",
       "    this.canvas = canvas[0];\n",
       "    this.context = canvas[0].getContext(\"2d\");\n",
       "\n",
       "    var backingStore = this.context.backingStorePixelRatio ||\n",
       "\tthis.context.webkitBackingStorePixelRatio ||\n",
       "\tthis.context.mozBackingStorePixelRatio ||\n",
       "\tthis.context.msBackingStorePixelRatio ||\n",
       "\tthis.context.oBackingStorePixelRatio ||\n",
       "\tthis.context.backingStorePixelRatio || 1;\n",
       "\n",
       "    mpl.ratio = (window.devicePixelRatio || 1) / backingStore;\n",
       "\n",
       "    var rubberband = $('<canvas/>');\n",
       "    rubberband.attr('style', \"position: absolute; left: 0; top: 0; z-index: 1;\")\n",
       "\n",
       "    var pass_mouse_events = true;\n",
       "\n",
       "    canvas_div.resizable({\n",
       "        start: function(event, ui) {\n",
       "            pass_mouse_events = false;\n",
       "        },\n",
       "        resize: function(event, ui) {\n",
       "            fig.request_resize(ui.size.width, ui.size.height);\n",
       "        },\n",
       "        stop: function(event, ui) {\n",
       "            pass_mouse_events = true;\n",
       "            fig.request_resize(ui.size.width, ui.size.height);\n",
       "        },\n",
       "    });\n",
       "\n",
       "    function mouse_event_fn(event) {\n",
       "        if (pass_mouse_events)\n",
       "            return fig.mouse_event(event, event['data']);\n",
       "    }\n",
       "\n",
       "    rubberband.mousedown('button_press', mouse_event_fn);\n",
       "    rubberband.mouseup('button_release', mouse_event_fn);\n",
       "    // Throttle sequential mouse events to 1 every 20ms.\n",
       "    rubberband.mousemove('motion_notify', mouse_event_fn);\n",
       "\n",
       "    rubberband.mouseenter('figure_enter', mouse_event_fn);\n",
       "    rubberband.mouseleave('figure_leave', mouse_event_fn);\n",
       "\n",
       "    canvas_div.on(\"wheel\", function (event) {\n",
       "        event = event.originalEvent;\n",
       "        event['data'] = 'scroll'\n",
       "        if (event.deltaY < 0) {\n",
       "            event.step = 1;\n",
       "        } else {\n",
       "            event.step = -1;\n",
       "        }\n",
       "        mouse_event_fn(event);\n",
       "    });\n",
       "\n",
       "    canvas_div.append(canvas);\n",
       "    canvas_div.append(rubberband);\n",
       "\n",
       "    this.rubberband = rubberband;\n",
       "    this.rubberband_canvas = rubberband[0];\n",
       "    this.rubberband_context = rubberband[0].getContext(\"2d\");\n",
       "    this.rubberband_context.strokeStyle = \"#000000\";\n",
       "\n",
       "    this._resize_canvas = function(width, height) {\n",
       "        // Keep the size of the canvas, canvas container, and rubber band\n",
       "        // canvas in synch.\n",
       "        canvas_div.css('width', width)\n",
       "        canvas_div.css('height', height)\n",
       "\n",
       "        canvas.attr('width', width * mpl.ratio);\n",
       "        canvas.attr('height', height * mpl.ratio);\n",
       "        canvas.attr('style', 'width: ' + width + 'px; height: ' + height + 'px;');\n",
       "\n",
       "        rubberband.attr('width', width);\n",
       "        rubberband.attr('height', height);\n",
       "    }\n",
       "\n",
       "    // Set the figure to an initial 600x600px, this will subsequently be updated\n",
       "    // upon first draw.\n",
       "    this._resize_canvas(600, 600);\n",
       "\n",
       "    // Disable right mouse context menu.\n",
       "    $(this.rubberband_canvas).bind(\"contextmenu\",function(e){\n",
       "        return false;\n",
       "    });\n",
       "\n",
       "    function set_focus () {\n",
       "        canvas.focus();\n",
       "        canvas_div.focus();\n",
       "    }\n",
       "\n",
       "    window.setTimeout(set_focus, 100);\n",
       "}\n",
       "\n",
       "mpl.figure.prototype._init_toolbar = function() {\n",
       "    var fig = this;\n",
       "\n",
       "    var nav_element = $('<div/>')\n",
       "    nav_element.attr('style', 'width: 100%');\n",
       "    this.root.append(nav_element);\n",
       "\n",
       "    // Define a callback function for later on.\n",
       "    function toolbar_event(event) {\n",
       "        return fig.toolbar_button_onclick(event['data']);\n",
       "    }\n",
       "    function toolbar_mouse_event(event) {\n",
       "        return fig.toolbar_button_onmouseover(event['data']);\n",
       "    }\n",
       "\n",
       "    for(var toolbar_ind in mpl.toolbar_items) {\n",
       "        var name = mpl.toolbar_items[toolbar_ind][0];\n",
       "        var tooltip = mpl.toolbar_items[toolbar_ind][1];\n",
       "        var image = mpl.toolbar_items[toolbar_ind][2];\n",
       "        var method_name = mpl.toolbar_items[toolbar_ind][3];\n",
       "\n",
       "        if (!name) {\n",
       "            // put a spacer in here.\n",
       "            continue;\n",
       "        }\n",
       "        var button = $('<button/>');\n",
       "        button.addClass('ui-button ui-widget ui-state-default ui-corner-all ' +\n",
       "                        'ui-button-icon-only');\n",
       "        button.attr('role', 'button');\n",
       "        button.attr('aria-disabled', 'false');\n",
       "        button.click(method_name, toolbar_event);\n",
       "        button.mouseover(tooltip, toolbar_mouse_event);\n",
       "\n",
       "        var icon_img = $('<span/>');\n",
       "        icon_img.addClass('ui-button-icon-primary ui-icon');\n",
       "        icon_img.addClass(image);\n",
       "        icon_img.addClass('ui-corner-all');\n",
       "\n",
       "        var tooltip_span = $('<span/>');\n",
       "        tooltip_span.addClass('ui-button-text');\n",
       "        tooltip_span.html(tooltip);\n",
       "\n",
       "        button.append(icon_img);\n",
       "        button.append(tooltip_span);\n",
       "\n",
       "        nav_element.append(button);\n",
       "    }\n",
       "\n",
       "    var fmt_picker_span = $('<span/>');\n",
       "\n",
       "    var fmt_picker = $('<select/>');\n",
       "    fmt_picker.addClass('mpl-toolbar-option ui-widget ui-widget-content');\n",
       "    fmt_picker_span.append(fmt_picker);\n",
       "    nav_element.append(fmt_picker_span);\n",
       "    this.format_dropdown = fmt_picker[0];\n",
       "\n",
       "    for (var ind in mpl.extensions) {\n",
       "        var fmt = mpl.extensions[ind];\n",
       "        var option = $(\n",
       "            '<option/>', {selected: fmt === mpl.default_extension}).html(fmt);\n",
       "        fmt_picker.append(option)\n",
       "    }\n",
       "\n",
       "    // Add hover states to the ui-buttons\n",
       "    $( \".ui-button\" ).hover(\n",
       "        function() { $(this).addClass(\"ui-state-hover\");},\n",
       "        function() { $(this).removeClass(\"ui-state-hover\");}\n",
       "    );\n",
       "\n",
       "    var status_bar = $('<span class=\"mpl-message\"/>');\n",
       "    nav_element.append(status_bar);\n",
       "    this.message = status_bar[0];\n",
       "}\n",
       "\n",
       "mpl.figure.prototype.request_resize = function(x_pixels, y_pixels) {\n",
       "    // Request matplotlib to resize the figure. Matplotlib will then trigger a resize in the client,\n",
       "    // which will in turn request a refresh of the image.\n",
       "    this.send_message('resize', {'width': x_pixels, 'height': y_pixels});\n",
       "}\n",
       "\n",
       "mpl.figure.prototype.send_message = function(type, properties) {\n",
       "    properties['type'] = type;\n",
       "    properties['figure_id'] = this.id;\n",
       "    this.ws.send(JSON.stringify(properties));\n",
       "}\n",
       "\n",
       "mpl.figure.prototype.send_draw_message = function() {\n",
       "    if (!this.waiting) {\n",
       "        this.waiting = true;\n",
       "        this.ws.send(JSON.stringify({type: \"draw\", figure_id: this.id}));\n",
       "    }\n",
       "}\n",
       "\n",
       "\n",
       "mpl.figure.prototype.handle_save = function(fig, msg) {\n",
       "    var format_dropdown = fig.format_dropdown;\n",
       "    var format = format_dropdown.options[format_dropdown.selectedIndex].value;\n",
       "    fig.ondownload(fig, format);\n",
       "}\n",
       "\n",
       "\n",
       "mpl.figure.prototype.handle_resize = function(fig, msg) {\n",
       "    var size = msg['size'];\n",
       "    if (size[0] != fig.canvas.width || size[1] != fig.canvas.height) {\n",
       "        fig._resize_canvas(size[0], size[1]);\n",
       "        fig.send_message(\"refresh\", {});\n",
       "    };\n",
       "}\n",
       "\n",
       "mpl.figure.prototype.handle_rubberband = function(fig, msg) {\n",
       "    var x0 = msg['x0'] / mpl.ratio;\n",
       "    var y0 = (fig.canvas.height - msg['y0']) / mpl.ratio;\n",
       "    var x1 = msg['x1'] / mpl.ratio;\n",
       "    var y1 = (fig.canvas.height - msg['y1']) / mpl.ratio;\n",
       "    x0 = Math.floor(x0) + 0.5;\n",
       "    y0 = Math.floor(y0) + 0.5;\n",
       "    x1 = Math.floor(x1) + 0.5;\n",
       "    y1 = Math.floor(y1) + 0.5;\n",
       "    var min_x = Math.min(x0, x1);\n",
       "    var min_y = Math.min(y0, y1);\n",
       "    var width = Math.abs(x1 - x0);\n",
       "    var height = Math.abs(y1 - y0);\n",
       "\n",
       "    fig.rubberband_context.clearRect(\n",
       "        0, 0, fig.canvas.width, fig.canvas.height);\n",
       "\n",
       "    fig.rubberband_context.strokeRect(min_x, min_y, width, height);\n",
       "}\n",
       "\n",
       "mpl.figure.prototype.handle_figure_label = function(fig, msg) {\n",
       "    // Updates the figure title.\n",
       "    fig.header.textContent = msg['label'];\n",
       "}\n",
       "\n",
       "mpl.figure.prototype.handle_cursor = function(fig, msg) {\n",
       "    var cursor = msg['cursor'];\n",
       "    switch(cursor)\n",
       "    {\n",
       "    case 0:\n",
       "        cursor = 'pointer';\n",
       "        break;\n",
       "    case 1:\n",
       "        cursor = 'default';\n",
       "        break;\n",
       "    case 2:\n",
       "        cursor = 'crosshair';\n",
       "        break;\n",
       "    case 3:\n",
       "        cursor = 'move';\n",
       "        break;\n",
       "    }\n",
       "    fig.rubberband_canvas.style.cursor = cursor;\n",
       "}\n",
       "\n",
       "mpl.figure.prototype.handle_message = function(fig, msg) {\n",
       "    fig.message.textContent = msg['message'];\n",
       "}\n",
       "\n",
       "mpl.figure.prototype.handle_draw = function(fig, msg) {\n",
       "    // Request the server to send over a new figure.\n",
       "    fig.send_draw_message();\n",
       "}\n",
       "\n",
       "mpl.figure.prototype.handle_image_mode = function(fig, msg) {\n",
       "    fig.image_mode = msg['mode'];\n",
       "}\n",
       "\n",
       "mpl.figure.prototype.updated_canvas_event = function() {\n",
       "    // Called whenever the canvas gets updated.\n",
       "    this.send_message(\"ack\", {});\n",
       "}\n",
       "\n",
       "// A function to construct a web socket function for onmessage handling.\n",
       "// Called in the figure constructor.\n",
       "mpl.figure.prototype._make_on_message_function = function(fig) {\n",
       "    return function socket_on_message(evt) {\n",
       "        if (evt.data instanceof Blob) {\n",
       "            /* FIXME: We get \"Resource interpreted as Image but\n",
       "             * transferred with MIME type text/plain:\" errors on\n",
       "             * Chrome.  But how to set the MIME type?  It doesn't seem\n",
       "             * to be part of the websocket stream */\n",
       "            evt.data.type = \"image/png\";\n",
       "\n",
       "            /* Free the memory for the previous frames */\n",
       "            if (fig.imageObj.src) {\n",
       "                (window.URL || window.webkitURL).revokeObjectURL(\n",
       "                    fig.imageObj.src);\n",
       "            }\n",
       "\n",
       "            fig.imageObj.src = (window.URL || window.webkitURL).createObjectURL(\n",
       "                evt.data);\n",
       "            fig.updated_canvas_event();\n",
       "            fig.waiting = false;\n",
       "            return;\n",
       "        }\n",
       "        else if (typeof evt.data === 'string' && evt.data.slice(0, 21) == \"data:image/png;base64\") {\n",
       "            fig.imageObj.src = evt.data;\n",
       "            fig.updated_canvas_event();\n",
       "            fig.waiting = false;\n",
       "            return;\n",
       "        }\n",
       "\n",
       "        var msg = JSON.parse(evt.data);\n",
       "        var msg_type = msg['type'];\n",
       "\n",
       "        // Call the  \"handle_{type}\" callback, which takes\n",
       "        // the figure and JSON message as its only arguments.\n",
       "        try {\n",
       "            var callback = fig[\"handle_\" + msg_type];\n",
       "        } catch (e) {\n",
       "            console.log(\"No handler for the '\" + msg_type + \"' message type: \", msg);\n",
       "            return;\n",
       "        }\n",
       "\n",
       "        if (callback) {\n",
       "            try {\n",
       "                // console.log(\"Handling '\" + msg_type + \"' message: \", msg);\n",
       "                callback(fig, msg);\n",
       "            } catch (e) {\n",
       "                console.log(\"Exception inside the 'handler_\" + msg_type + \"' callback:\", e, e.stack, msg);\n",
       "            }\n",
       "        }\n",
       "    };\n",
       "}\n",
       "\n",
       "// from http://stackoverflow.com/questions/1114465/getting-mouse-location-in-canvas\n",
       "mpl.findpos = function(e) {\n",
       "    //this section is from http://www.quirksmode.org/js/events_properties.html\n",
       "    var targ;\n",
       "    if (!e)\n",
       "        e = window.event;\n",
       "    if (e.target)\n",
       "        targ = e.target;\n",
       "    else if (e.srcElement)\n",
       "        targ = e.srcElement;\n",
       "    if (targ.nodeType == 3) // defeat Safari bug\n",
       "        targ = targ.parentNode;\n",
       "\n",
       "    // jQuery normalizes the pageX and pageY\n",
       "    // pageX,Y are the mouse positions relative to the document\n",
       "    // offset() returns the position of the element relative to the document\n",
       "    var x = e.pageX - $(targ).offset().left;\n",
       "    var y = e.pageY - $(targ).offset().top;\n",
       "\n",
       "    return {\"x\": x, \"y\": y};\n",
       "};\n",
       "\n",
       "/*\n",
       " * return a copy of an object with only non-object keys\n",
       " * we need this to avoid circular references\n",
       " * http://stackoverflow.com/a/24161582/3208463\n",
       " */\n",
       "function simpleKeys (original) {\n",
       "  return Object.keys(original).reduce(function (obj, key) {\n",
       "    if (typeof original[key] !== 'object')\n",
       "        obj[key] = original[key]\n",
       "    return obj;\n",
       "  }, {});\n",
       "}\n",
       "\n",
       "mpl.figure.prototype.mouse_event = function(event, name) {\n",
       "    var canvas_pos = mpl.findpos(event)\n",
       "\n",
       "    if (name === 'button_press')\n",
       "    {\n",
       "        this.canvas.focus();\n",
       "        this.canvas_div.focus();\n",
       "    }\n",
       "\n",
       "    var x = canvas_pos.x * mpl.ratio;\n",
       "    var y = canvas_pos.y * mpl.ratio;\n",
       "\n",
       "    this.send_message(name, {x: x, y: y, button: event.button,\n",
       "                             step: event.step,\n",
       "                             guiEvent: simpleKeys(event)});\n",
       "\n",
       "    /* This prevents the web browser from automatically changing to\n",
       "     * the text insertion cursor when the button is pressed.  We want\n",
       "     * to control all of the cursor setting manually through the\n",
       "     * 'cursor' event from matplotlib */\n",
       "    event.preventDefault();\n",
       "    return false;\n",
       "}\n",
       "\n",
       "mpl.figure.prototype._key_event_extra = function(event, name) {\n",
       "    // Handle any extra behaviour associated with a key event\n",
       "}\n",
       "\n",
       "mpl.figure.prototype.key_event = function(event, name) {\n",
       "\n",
       "    // Prevent repeat events\n",
       "    if (name == 'key_press')\n",
       "    {\n",
       "        if (event.which === this._key)\n",
       "            return;\n",
       "        else\n",
       "            this._key = event.which;\n",
       "    }\n",
       "    if (name == 'key_release')\n",
       "        this._key = null;\n",
       "\n",
       "    var value = '';\n",
       "    if (event.ctrlKey && event.which != 17)\n",
       "        value += \"ctrl+\";\n",
       "    if (event.altKey && event.which != 18)\n",
       "        value += \"alt+\";\n",
       "    if (event.shiftKey && event.which != 16)\n",
       "        value += \"shift+\";\n",
       "\n",
       "    value += 'k';\n",
       "    value += event.which.toString();\n",
       "\n",
       "    this._key_event_extra(event, name);\n",
       "\n",
       "    this.send_message(name, {key: value,\n",
       "                             guiEvent: simpleKeys(event)});\n",
       "    return false;\n",
       "}\n",
       "\n",
       "mpl.figure.prototype.toolbar_button_onclick = function(name) {\n",
       "    if (name == 'download') {\n",
       "        this.handle_save(this, null);\n",
       "    } else {\n",
       "        this.send_message(\"toolbar_button\", {name: name});\n",
       "    }\n",
       "};\n",
       "\n",
       "mpl.figure.prototype.toolbar_button_onmouseover = function(tooltip) {\n",
       "    this.message.textContent = tooltip;\n",
       "};\n",
       "mpl.toolbar_items = [[\"Home\", \"Reset original view\", \"fa fa-home icon-home\", \"home\"], [\"Back\", \"Back to  previous view\", \"fa fa-arrow-left icon-arrow-left\", \"back\"], [\"Forward\", \"Forward to next view\", \"fa fa-arrow-right icon-arrow-right\", \"forward\"], [\"\", \"\", \"\", \"\"], [\"Pan\", \"Pan axes with left mouse, zoom with right\", \"fa fa-arrows icon-move\", \"pan\"], [\"Zoom\", \"Zoom to rectangle\", \"fa fa-square-o icon-check-empty\", \"zoom\"], [\"\", \"\", \"\", \"\"], [\"Download\", \"Download plot\", \"fa fa-floppy-o icon-save\", \"download\"]];\n",
       "\n",
       "mpl.extensions = [\"eps\", \"jpeg\", \"pdf\", \"png\", \"ps\", \"raw\", \"svg\", \"tif\"];\n",
       "\n",
       "mpl.default_extension = \"png\";var comm_websocket_adapter = function(comm) {\n",
       "    // Create a \"websocket\"-like object which calls the given IPython comm\n",
       "    // object with the appropriate methods. Currently this is a non binary\n",
       "    // socket, so there is still some room for performance tuning.\n",
       "    var ws = {};\n",
       "\n",
       "    ws.close = function() {\n",
       "        comm.close()\n",
       "    };\n",
       "    ws.send = function(m) {\n",
       "        //console.log('sending', m);\n",
       "        comm.send(m);\n",
       "    };\n",
       "    // Register the callback with on_msg.\n",
       "    comm.on_msg(function(msg) {\n",
       "        //console.log('receiving', msg['content']['data'], msg);\n",
       "        // Pass the mpl event to the overridden (by mpl) onmessage function.\n",
       "        ws.onmessage(msg['content']['data'])\n",
       "    });\n",
       "    return ws;\n",
       "}\n",
       "\n",
       "mpl.mpl_figure_comm = function(comm, msg) {\n",
       "    // This is the function which gets called when the mpl process\n",
       "    // starts-up an IPython Comm through the \"matplotlib\" channel.\n",
       "\n",
       "    var id = msg.content.data.id;\n",
       "    // Get hold of the div created by the display call when the Comm\n",
       "    // socket was opened in Python.\n",
       "    var element = $(\"#\" + id);\n",
       "    var ws_proxy = comm_websocket_adapter(comm)\n",
       "\n",
       "    function ondownload(figure, format) {\n",
       "        window.open(figure.imageObj.src);\n",
       "    }\n",
       "\n",
       "    var fig = new mpl.figure(id, ws_proxy,\n",
       "                           ondownload,\n",
       "                           element.get(0));\n",
       "\n",
       "    // Call onopen now - mpl needs it, as it is assuming we've passed it a real\n",
       "    // web socket which is closed, not our websocket->open comm proxy.\n",
       "    ws_proxy.onopen();\n",
       "\n",
       "    fig.parent_element = element.get(0);\n",
       "    fig.cell_info = mpl.find_output_cell(\"<div id='\" + id + \"'></div>\");\n",
       "    if (!fig.cell_info) {\n",
       "        console.error(\"Failed to find cell for figure\", id, fig);\n",
       "        return;\n",
       "    }\n",
       "\n",
       "    var output_index = fig.cell_info[2]\n",
       "    var cell = fig.cell_info[0];\n",
       "\n",
       "};\n",
       "\n",
       "mpl.figure.prototype.handle_close = function(fig, msg) {\n",
       "    var width = fig.canvas.width/mpl.ratio\n",
       "    fig.root.unbind('remove')\n",
       "\n",
       "    // Update the output cell to use the data from the current canvas.\n",
       "    fig.push_to_output();\n",
       "    var dataURL = fig.canvas.toDataURL();\n",
       "    // Re-enable the keyboard manager in IPython - without this line, in FF,\n",
       "    // the notebook keyboard shortcuts fail.\n",
       "    IPython.keyboard_manager.enable()\n",
       "    $(fig.parent_element).html('<img src=\"' + dataURL + '\" width=\"' + width + '\">');\n",
       "    fig.close_ws(fig, msg);\n",
       "}\n",
       "\n",
       "mpl.figure.prototype.close_ws = function(fig, msg){\n",
       "    fig.send_message('closing', msg);\n",
       "    // fig.ws.close()\n",
       "}\n",
       "\n",
       "mpl.figure.prototype.push_to_output = function(remove_interactive) {\n",
       "    // Turn the data on the canvas into data in the output cell.\n",
       "    var width = this.canvas.width/mpl.ratio\n",
       "    var dataURL = this.canvas.toDataURL();\n",
       "    this.cell_info[1]['text/html'] = '<img src=\"' + dataURL + '\" width=\"' + width + '\">';\n",
       "}\n",
       "\n",
       "mpl.figure.prototype.updated_canvas_event = function() {\n",
       "    // Tell IPython that the notebook contents must change.\n",
       "    IPython.notebook.set_dirty(true);\n",
       "    this.send_message(\"ack\", {});\n",
       "    var fig = this;\n",
       "    // Wait a second, then push the new image to the DOM so\n",
       "    // that it is saved nicely (might be nice to debounce this).\n",
       "    setTimeout(function () { fig.push_to_output() }, 1000);\n",
       "}\n",
       "\n",
       "mpl.figure.prototype._init_toolbar = function() {\n",
       "    var fig = this;\n",
       "\n",
       "    var nav_element = $('<div/>')\n",
       "    nav_element.attr('style', 'width: 100%');\n",
       "    this.root.append(nav_element);\n",
       "\n",
       "    // Define a callback function for later on.\n",
       "    function toolbar_event(event) {\n",
       "        return fig.toolbar_button_onclick(event['data']);\n",
       "    }\n",
       "    function toolbar_mouse_event(event) {\n",
       "        return fig.toolbar_button_onmouseover(event['data']);\n",
       "    }\n",
       "\n",
       "    for(var toolbar_ind in mpl.toolbar_items){\n",
       "        var name = mpl.toolbar_items[toolbar_ind][0];\n",
       "        var tooltip = mpl.toolbar_items[toolbar_ind][1];\n",
       "        var image = mpl.toolbar_items[toolbar_ind][2];\n",
       "        var method_name = mpl.toolbar_items[toolbar_ind][3];\n",
       "\n",
       "        if (!name) { continue; };\n",
       "\n",
       "        var button = $('<button class=\"btn btn-default\" href=\"#\" title=\"' + name + '\"><i class=\"fa ' + image + ' fa-lg\"></i></button>');\n",
       "        button.click(method_name, toolbar_event);\n",
       "        button.mouseover(tooltip, toolbar_mouse_event);\n",
       "        nav_element.append(button);\n",
       "    }\n",
       "\n",
       "    // Add the status bar.\n",
       "    var status_bar = $('<span class=\"mpl-message\" style=\"text-align:right; float: right;\"/>');\n",
       "    nav_element.append(status_bar);\n",
       "    this.message = status_bar[0];\n",
       "\n",
       "    // Add the close button to the window.\n",
       "    var buttongrp = $('<div class=\"btn-group inline pull-right\"></div>');\n",
       "    var button = $('<button class=\"btn btn-mini btn-primary\" href=\"#\" title=\"Stop Interaction\"><i class=\"fa fa-power-off icon-remove icon-large\"></i></button>');\n",
       "    button.click(function (evt) { fig.handle_close(fig, {}); } );\n",
       "    button.mouseover('Stop Interaction', toolbar_mouse_event);\n",
       "    buttongrp.append(button);\n",
       "    var titlebar = this.root.find($('.ui-dialog-titlebar'));\n",
       "    titlebar.prepend(buttongrp);\n",
       "}\n",
       "\n",
       "mpl.figure.prototype._root_extra_style = function(el){\n",
       "    var fig = this\n",
       "    el.on(\"remove\", function(){\n",
       "\tfig.close_ws(fig, {});\n",
       "    });\n",
       "}\n",
       "\n",
       "mpl.figure.prototype._canvas_extra_style = function(el){\n",
       "    // this is important to make the div 'focusable\n",
       "    el.attr('tabindex', 0)\n",
       "    // reach out to IPython and tell the keyboard manager to turn it's self\n",
       "    // off when our div gets focus\n",
       "\n",
       "    // location in version 3\n",
       "    if (IPython.notebook.keyboard_manager) {\n",
       "        IPython.notebook.keyboard_manager.register_events(el);\n",
       "    }\n",
       "    else {\n",
       "        // location in version 2\n",
       "        IPython.keyboard_manager.register_events(el);\n",
       "    }\n",
       "\n",
       "}\n",
       "\n",
       "mpl.figure.prototype._key_event_extra = function(event, name) {\n",
       "    var manager = IPython.notebook.keyboard_manager;\n",
       "    if (!manager)\n",
       "        manager = IPython.keyboard_manager;\n",
       "\n",
       "    // Check for shift+enter\n",
       "    if (event.shiftKey && event.which == 13) {\n",
       "        this.canvas_div.blur();\n",
       "        event.shiftKey = false;\n",
       "        // Send a \"J\" for go to next cell\n",
       "        event.which = 74;\n",
       "        event.keyCode = 74;\n",
       "        manager.command_mode();\n",
       "        manager.handle_keydown(event);\n",
       "    }\n",
       "}\n",
       "\n",
       "mpl.figure.prototype.handle_save = function(fig, msg) {\n",
       "    fig.ondownload(fig, null);\n",
       "}\n",
       "\n",
       "\n",
       "mpl.find_output_cell = function(html_output) {\n",
       "    // Return the cell and output element which can be found *uniquely* in the notebook.\n",
       "    // Note - this is a bit hacky, but it is done because the \"notebook_saving.Notebook\"\n",
       "    // IPython event is triggered only after the cells have been serialised, which for\n",
       "    // our purposes (turning an active figure into a static one), is too late.\n",
       "    var cells = IPython.notebook.get_cells();\n",
       "    var ncells = cells.length;\n",
       "    for (var i=0; i<ncells; i++) {\n",
       "        var cell = cells[i];\n",
       "        if (cell.cell_type === 'code'){\n",
       "            for (var j=0; j<cell.output_area.outputs.length; j++) {\n",
       "                var data = cell.output_area.outputs[j];\n",
       "                if (data.data) {\n",
       "                    // IPython >= 3 moved mimebundle to data attribute of output\n",
       "                    data = data.data;\n",
       "                }\n",
       "                if (data['text/html'] == html_output) {\n",
       "                    return [cell, data, j];\n",
       "                }\n",
       "            }\n",
       "        }\n",
       "    }\n",
       "}\n",
       "\n",
       "// Register the function which deals with the matplotlib target/channel.\n",
       "// The kernel may be null if the page has been refreshed.\n",
       "if (IPython.notebook.kernel != null) {\n",
       "    IPython.notebook.kernel.comm_manager.register_target('matplotlib', mpl.mpl_figure_comm);\n",
       "}\n"
      ],
      "text/plain": [
       "<IPython.core.display.Javascript object>"
      ]
     },
     "metadata": {},
     "output_type": "display_data"
    },
    {
     "data": {
      "text/html": [
       "<img src=\"data:image/png;base64,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\" width=\"640\">"
      ],
      "text/plain": [
       "<IPython.core.display.HTML object>"
      ]
     },
     "metadata": {},
     "output_type": "display_data"
    },
    {
     "data": {
      "text/plain": [
       "[<matplotlib.lines.Line2D at 0x7f00fd83c1d0>]"
      ]
     },
     "execution_count": 12,
     "metadata": {},
     "output_type": "execute_result"
    }
   ],
   "source": [
    "plt.figure()\n",
    "plt.plot(a[::10000])"
   ]
  },
  {
   "cell_type": "code",
   "execution_count": null,
   "metadata": {
    "collapsed": true
   },
   "outputs": [],
   "source": []
  }
 ],
 "metadata": {
  "kernelspec": {
   "display_name": "Python 3",
   "language": "python",
   "name": "python3"
  },
  "language_info": {
   "codemirror_mode": {
    "name": "ipython",
    "version": 3
   },
   "file_extension": ".py",
   "mimetype": "text/x-python",
   "name": "python",
   "nbconvert_exporter": "python",
   "pygments_lexer": "ipython3",
   "version": "3.6.4"
  }
 },
 "nbformat": 4,
 "nbformat_minor": 2
}
