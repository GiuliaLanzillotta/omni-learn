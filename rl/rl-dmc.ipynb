{
 "cells": [
  {
   "cell_type": "code",
   "execution_count": 1,
   "metadata": {},
   "outputs": [],
   "source": [
    "import sys, os\n",
    "import time\n",
    "import numpy as np\n",
    "import gym\n",
    "import torch\n",
    "import torch.nn as nn\n",
    "from torch import Tensor\n",
    "import matplotlib.pyplot as plt\n",
    "import configargparse\n",
    "from tabulate import tabulate\n",
    "import torch.multiprocessing as mp\n",
    "\n",
    "%load_ext autoreload\n",
    "%autoreload 2\n",
    "\n",
    "from dm_control import suite\n",
    "from dm_control import viewer\n",
    "\n",
    "import foundation as fd\n",
    "from foundation import util\n",
    "from foundation import models\n",
    "from foundation import rl\n",
    "from foundation import envs\n",
    "from foundation import train\n",
    "\n",
    "from rlhw_backend import *"
   ]
  },
  {
   "cell_type": "code",
   "execution_count": 2,
   "metadata": {},
   "outputs": [
    {
     "name": "stdout",
     "output_type": "stream",
     "text": [
      "0 acrobot swingup\n",
      "1 acrobot swingup_sparse\n",
      "2 ball_in_cup catch\n",
      "3 cartpole balance\n",
      "4 cartpole balance_sparse\n",
      "5 cartpole swingup\n",
      "6 cartpole swingup_sparse\n",
      "7 cartpole two_poles\n",
      "8 cartpole three_poles\n",
      "9 cheetah run\n",
      "10 finger spin\n",
      "11 finger turn_easy\n",
      "12 finger turn_hard\n",
      "13 fish upright\n",
      "14 fish swim\n",
      "15 hopper stand\n",
      "16 hopper hop\n",
      "17 humanoid stand\n",
      "18 humanoid walk\n",
      "19 humanoid run\n",
      "20 humanoid run_pure_state\n",
      "21 humanoid_CMU stand\n",
      "22 humanoid_CMU run\n",
      "23 lqr lqr_2_1\n",
      "24 lqr lqr_6_2\n",
      "25 manipulator bring_ball\n",
      "26 manipulator bring_peg\n",
      "27 manipulator insert_ball\n",
      "28 manipulator insert_peg\n",
      "29 pendulum swingup\n",
      "30 point_mass easy\n",
      "31 point_mass hard\n",
      "32 reacher easy\n",
      "33 reacher hard\n",
      "34 stacker stack_2\n",
      "35 stacker stack_4\n",
      "36 swimmer swimmer6\n",
      "37 swimmer swimmer15\n",
      "38 walker stand\n",
      "39 walker walk\n",
      "40 walker run\n"
     ]
    }
   ],
   "source": [
    "for i, task in enumerate(suite.ALL_TASKS):\n",
    "    print(i,*task)"
   ]
  },
  {
   "cell_type": "code",
   "execution_count": 3,
   "metadata": {},
   "outputs": [
    {
     "name": "stdout",
     "output_type": "stream",
     "text": [
      "dict_keys(['config', 'name', 'save_root', 'log_date', 'log_tb', 'log_txt', 'save_freq', 'agent', 'clip', 'policy', 'model', 'baseline', 'env', 'device', 'seed', 'budget_steps', 'steps_per_itr', 'tau', 'epochs', 'batch_size', 'norm_adv', 'optim_type', 'lr', 'weight_decay', 'momentum', 'step_size', 'discount', 'subsample', 'gae_lambda', 'nonlin', 'hidden', 'min_log_std', 'b_hidden', 'b_scale_max', 'b_epochs', 'b_batch_size', 'b_nonlin', 'b_optim_type', 'b_lr', 'b_weight_decay', 'b_momentum', 'b_nesterov', 'b_time_order', 'b_obs_order'])\n"
     ]
    }
   ],
   "source": [
    "parser = train.setup_rl_options()\n",
    "args = parser.parse_args(['--config', '../config/ppo.yaml'])\n",
    "print(args.__dict__.keys())"
   ]
  },
  {
   "cell_type": "code",
   "execution_count": 4,
   "metadata": {},
   "outputs": [
    {
     "name": "stdout",
     "output_type": "stream",
     "text": [
      "ppoclip lin norm-mlp\n"
     ]
    }
   ],
   "source": [
    "# manually changing args\n",
    "\n",
    "args.name = 'cp-ppo'\n",
    "\n",
    "args.baseline = 'lin'\n",
    "\n",
    "args.log_tb = True\n",
    "\n",
    "args.env = suite.ALL_TASKS[3]\n",
    "\n",
    "print(args.agent, args.baseline, args.model)"
   ]
  },
  {
   "cell_type": "code",
   "execution_count": 5,
   "metadata": {},
   "outputs": [
    {
     "name": "stdout",
     "output_type": "stream",
     "text": [
      "Save dir: results/cp-ppo\\19-03-09-022204\n",
      "Logging/Saving in results/cp-ppo\\19-03-09-022204 (tb=True,txt=False)\n",
      "Generating random seed: 1215262125\n"
     ]
    }
   ],
   "source": [
    "now = time.strftime(\"%y-%m-%d-%H%M%S\")\n",
    "if args.log_date:\n",
    "    args.name = os.path.join(args.name, now)\n",
    "args.save_dir = os.path.join(args.save_root, args.name)\n",
    "print('Save dir: {}'.format(args.save_dir))\n",
    "if args.log_tb or args.log_txt or args.save_freq is not None:\n",
    "    util.create_dir(args.save_dir)\n",
    "    print('Logging/Saving in {} (tb={},txt={})'.format(args.save_dir, args.log_tb, args.log_txt))\n",
    "logger = util.Logger(args.save_dir, tensorboard=args.log_tb, txt=args.log_txt)\n",
    "\n",
    "if args.seed is None:\n",
    "    args.seed = util.get_random_seed()\n",
    "    print('Generating random seed: {}'.format(args.seed))"
   ]
  },
  {
   "cell_type": "code",
   "execution_count": 6,
   "metadata": {},
   "outputs": [
    {
     "name": "stdout",
     "output_type": "stream",
     "text": [
      "Using cpu\n",
      "Env name=<dm_control.suite.cartpole.Balance object at 0x000001B575312E10> (obs=5, act=1)\n"
     ]
    }
   ],
   "source": [
    "torch.manual_seed(args.seed)\n",
    "print('Using {}'.format(args.device))\n",
    "\n",
    "env = envs.Pytorch_DMC_Env(*args.env, seed=args.seed, device=args.device)\n",
    "\n",
    "args.state_dim, args.action_dim = env.obs_dim, env.act_dim\n",
    "print('Env name={} (obs={}, act={})'.format(env._env.task, args.state_dim, args.action_dim))\n",
    "\n",
    "n_batch = args.budget_steps / args.steps_per_itr"
   ]
  },
  {
   "cell_type": "code",
   "execution_count": 7,
   "metadata": {},
   "outputs": [],
   "source": [
    "if 'mlp' in args.baseline:\n",
    "\n",
    "    baseline_model = NormalizedMLP(args.state_dim, 1, norm='norm' in args.baseline,\n",
    "                                   hidden_dims=args.b_hidden, nonlin=args.b_nonlin)\n",
    "\n",
    "    baseline_model.optim = util.get_optimizer(args.b_optim_type, baseline_model.parameters(), lr=args.b_lr, weight_decay=args.b_weight_decay)\n",
    "    baseline_model.scheduler = torch.optim.lr_scheduler.LambdaLR(\n",
    "                baseline_model.optim, lambda x: (n_batch - x) / n_batch, -1)\n",
    "\n",
    "    # print(baseline_model.optim)\n",
    "    # quit()\n",
    "\n",
    "    #assert args.baseline == 'norm-mlp'\n",
    "    baseline = rl.Deep_Baseline(baseline_model, scale_max=args.b_scale_max,\n",
    "                        batch_size=args.b_batch_size, epochs_per_step=args.b_epochs, )\n",
    "\n",
    "elif args.baseline == 'lin':\n",
    "    baseline = rl.Linear_Baseline(state_dim=args.state_dim, value_dim=1)\n",
    "else:\n",
    "    raise Exception('unknown baseline: {}'.format(args.baseline))"
   ]
  },
  {
   "cell_type": "code",
   "execution_count": 8,
   "metadata": {},
   "outputs": [
    {
     "name": "stdout",
     "output_type": "stream",
     "text": [
      "PPOClip(\n",
      "  (policy): NormalPolicy(\n",
      "    (model): NormalizedMLP(\n",
      "      (criterion): MSELoss()\n",
      "      (norm): RunningNormalization()\n",
      "      (net): Sequential(\n",
      "        (0): Linear(in_features=5, out_features=8, bias=True)\n",
      "        (1): PReLU(num_parameters=1)\n",
      "        (2): Linear(in_features=8, out_features=8, bias=True)\n",
      "        (3): PReLU(num_parameters=1)\n",
      "        (4): Linear(in_features=8, out_features=2, bias=True)\n",
      "      )\n",
      "    )\n",
      "  )\n",
      "  (baseline): Linear_Baseline(\n",
      "    (model): Linear(in_features=5, out_features=1, bias=True)\n",
      "  )\n",
      ")\n",
      "Agent has 146 parameters\n"
     ]
    }
   ],
   "source": [
    "assert args.policy == 'normal'\n",
    "assert args.model == 'norm-mlp'\n",
    "policy_model = NormalizedMLP(args.state_dim, 2 * args.action_dim, hidden_dims=args.hidden, nonlin=args.nonlin)\n",
    "policy = rl.NormalPolicy(policy_model, )\n",
    "\n",
    "assert args.agent == 'ppoclip'\n",
    "\n",
    "agent = rl.PPOClip(policy=policy, baseline=baseline, clip=args.clip, normalize_adv=args.norm_adv,\n",
    "            optim_type=args.optim_type, lr=args.lr, scheduler_lin=n_batch, weight_decay=args.b_weight_decay,\n",
    "            batch_size=args.batch_size, epochs_per_step=args.epochs,\n",
    "            ).to(args.device)\n",
    "\n",
    "print(agent)\n",
    "print('Agent has {} parameters'.format(util.count_parameters(agent)))\n",
    "\n",
    "gen = fd.data.Generator(env, agent, step_limit=args.budget_steps,\n",
    "                step_threshold=args.steps_per_itr, drop_last_state=True)\n",
    "\n",
    "itr = 0\n"
   ]
  },
  {
   "cell_type": "code",
   "execution_count": 16,
   "metadata": {},
   "outputs": [],
   "source": [
    "N = 100"
   ]
  },
  {
   "cell_type": "code",
   "execution_count": 17,
   "metadata": {},
   "outputs": [
    {
     "name": "stderr",
     "output_type": "stream",
     "text": [
      "c:\\users\\anwan\\onedrive - uw\\khan\\airesearch\\foundation\\foundation\\util\\stats.py:288: UserWarning: To copy construct from a tensor, it is recommended to use sourceTensor.clone().detach() or sourceTensor.clone().detach().requires_grad_(True), rather than torch.tensor(sourceTensor).\n",
      "  self.val = torch.tensor(val).float()\n"
     ]
    },
    {
     "name": "stdout",
     "output_type": "stream",
     "text": [
      "[ 03-09-19 02:33:42 ] 312000/1000000 (ep=312) : last=220.489 max=302.431 - 274.885 \n",
      "[ 03-09-19 02:33:47 ] 315000/1000000 (ep=315) : last=287.638 max=314.917 - 281.034 \n",
      "[ 03-09-19 02:33:52 ] 318000/1000000 (ep=318) : last=244.246 max=378.855 - 286.110 \n",
      "[ 03-09-19 02:33:57 ] 321000/1000000 (ep=321) : last=304.672 max=378.855 - 283.651 \n",
      "[ 03-09-19 02:34:02 ] 324000/1000000 (ep=324) : last=307.200 max=378.855 - 285.042 \n",
      "[ 03-09-19 02:34:07 ] 327000/1000000 (ep=327) : last=295.947 max=378.855 - 284.756 \n",
      "[ 03-09-19 02:34:12 ] 330000/1000000 (ep=330) : last=382.759 max=382.759 - 292.779 \n",
      "[ 03-09-19 02:34:17 ] 333000/1000000 (ep=333) : last=293.550 max=382.759 - 294.095 \n",
      "[ 03-09-19 02:34:21 ] 336000/1000000 (ep=336) : last=268.522 max=382.759 - 286.581 \n",
      "[ 03-09-19 02:34:26 ] 339000/1000000 (ep=339) : last=222.179 max=382.759 - 273.367 \n",
      "[ 03-09-19 02:34:31 ] 342000/1000000 (ep=342) : last=283.541 max=396.239 - 292.080 \n",
      "[ 03-09-19 02:34:35 ] 345000/1000000 (ep=345) : last=281.126 max=396.239 - 284.752 \n",
      "[ 03-09-19 02:34:40 ] 348000/1000000 (ep=348) : last=421.538 max=421.538 - 308.410 \n",
      "[ 03-09-19 02:34:44 ] 351000/1000000 (ep=351) : last=292.314 max=421.538 - 312.844 \n",
      "[ 03-09-19 02:34:49 ] 354000/1000000 (ep=354) : last=292.383 max=421.538 - 312.088 \n",
      "[ 03-09-19 02:34:54 ] 357000/1000000 (ep=357) : last=321.404 max=421.538 - 306.656 \n",
      "[ 03-09-19 02:34:59 ] 360000/1000000 (ep=360) : last=367.984 max=421.538 - 315.523 \n",
      "[ 03-09-19 02:35:04 ] 363000/1000000 (ep=363) : last=392.704 max=421.538 - 313.891 \n",
      "[ 03-09-19 02:35:10 ] 366000/1000000 (ep=366) : last=379.630 max=421.538 - 318.563 \n",
      "[ 03-09-19 02:35:16 ] 369000/1000000 (ep=369) : last=287.227 max=421.538 - 307.717 \n",
      "[ 03-09-19 02:35:21 ] 372000/1000000 (ep=372) : last=339.839 max=421.538 - 320.671 \n",
      "[ 03-09-19 02:35:26 ] 375000/1000000 (ep=375) : last=329.400 max=421.538 - 322.974 \n",
      "[ 03-09-19 02:35:31 ] 378000/1000000 (ep=378) : last=274.614 max=421.538 - 312.970 \n",
      "[ 03-09-19 02:35:37 ] 381000/1000000 (ep=381) : last=397.118 max=421.538 - 331.861 \n",
      "[ 03-09-19 02:35:42 ] 384000/1000000 (ep=384) : last=331.293 max=421.538 - 321.813 \n",
      "[ 03-09-19 02:35:47 ] 387000/1000000 (ep=387) : last=390.221 max=421.538 - 335.054 \n",
      "[ 03-09-19 02:35:53 ] 390000/1000000 (ep=390) : last=389.363 max=434.488 - 344.832 \n",
      "[ 03-09-19 02:35:57 ] 393000/1000000 (ep=393) : last=379.040 max=434.488 - 354.571 \n",
      "[ 03-09-19 02:36:02 ] 396000/1000000 (ep=396) : last=263.951 max=434.488 - 346.590 \n",
      "[ 03-09-19 02:36:07 ] 399000/1000000 (ep=399) : last=362.187 max=434.488 - 343.572 \n",
      "[ 03-09-19 02:36:11 ] 402000/1000000 (ep=402) : last=321.302 max=434.488 - 335.373 \n",
      "[ 03-09-19 02:36:17 ] 405000/1000000 (ep=405) : last=359.912 max=434.488 - 333.537 \n",
      "[ 03-09-19 02:36:23 ] 408000/1000000 (ep=408) : last=344.443 max=434.488 - 331.540 \n",
      "[ 03-09-19 02:36:27 ] 411000/1000000 (ep=411) : last=360.660 max=434.488 - 327.730 \n",
      "[ 03-09-19 02:36:32 ] 414000/1000000 (ep=414) : last=359.941 max=434.488 - 327.659 \n",
      "[ 03-09-19 02:36:37 ] 417000/1000000 (ep=417) : last=340.424 max=434.488 - 317.209 \n",
      "[ 03-09-19 02:36:41 ] 420000/1000000 (ep=420) : last=324.219 max=434.488 - 315.034 \n",
      "[ 03-09-19 02:36:46 ] 423000/1000000 (ep=423) : last=358.304 max=434.488 - 319.953 \n",
      "[ 03-09-19 02:36:50 ] 426000/1000000 (ep=426) : last=247.491 max=434.488 - 319.579 \n",
      "[ 03-09-19 02:36:55 ] 429000/1000000 (ep=429) : last=327.838 max=434.488 - 326.785 \n",
      "[ 03-09-19 02:37:00 ] 432000/1000000 (ep=432) : last=240.561 max=434.488 - 325.091 \n",
      "[ 03-09-19 02:37:04 ] 435000/1000000 (ep=435) : last=335.665 max=434.488 - 323.395 \n",
      "[ 03-09-19 02:37:09 ] 438000/1000000 (ep=438) : last=359.058 max=434.488 - 326.179 \n",
      "[ 03-09-19 02:37:14 ] 441000/1000000 (ep=441) : last=225.992 max=434.488 - 318.646 \n",
      "[ 03-09-19 02:37:19 ] 444000/1000000 (ep=444) : last=249.996 max=434.488 - 314.913 \n",
      "[ 03-09-19 02:37:26 ] 447000/1000000 (ep=447) : last=344.732 max=434.488 - 323.476 \n",
      "[ 03-09-19 02:37:31 ] 450000/1000000 (ep=450) : last=284.072 max=434.488 - 317.755 \n",
      "[ 03-09-19 02:37:37 ] 453000/1000000 (ep=453) : last=315.941 max=434.488 - 318.425 \n",
      "[ 03-09-19 02:37:42 ] 456000/1000000 (ep=456) : last=335.249 max=434.488 - 328.097 \n",
      "[ 03-09-19 02:37:47 ] 459000/1000000 (ep=459) : last=245.609 max=434.488 - 312.467 \n",
      "[ 03-09-19 02:37:52 ] 462000/1000000 (ep=462) : last=394.312 max=434.488 - 313.886 \n",
      "[ 03-09-19 02:37:57 ] 465000/1000000 (ep=465) : last=378.262 max=434.488 - 321.843 \n",
      "[ 03-09-19 02:38:01 ] 468000/1000000 (ep=468) : last=276.780 max=434.488 - 321.387 \n",
      "[ 03-09-19 02:38:06 ] 471000/1000000 (ep=471) : last=323.163 max=434.488 - 330.040 \n",
      "[ 03-09-19 02:38:10 ] 474000/1000000 (ep=474) : last=380.386 max=434.488 - 333.501 \n",
      "[ 03-09-19 02:38:15 ] 477000/1000000 (ep=477) : last=347.827 max=434.488 - 332.539 \n",
      "[ 03-09-19 02:38:19 ] 480000/1000000 (ep=480) : last=299.827 max=434.488 - 315.050 \n",
      "[ 03-09-19 02:38:25 ] 483000/1000000 (ep=483) : last=295.861 max=434.488 - 319.433 \n",
      "[ 03-09-19 02:38:30 ] 486000/1000000 (ep=486) : last=375.167 max=434.488 - 327.708 \n",
      "[ 03-09-19 02:38:36 ] 489000/1000000 (ep=489) : last=370.527 max=434.488 - 336.508 \n",
      "[ 03-09-19 02:38:42 ] 492000/1000000 (ep=492) : last=216.410 max=434.488 - 322.499 \n",
      "[ 03-09-19 02:38:47 ] 495000/1000000 (ep=495) : last=249.625 max=434.488 - 315.107 \n",
      "[ 03-09-19 02:38:52 ] 498000/1000000 (ep=498) : last=261.502 max=434.488 - 311.406 \n",
      "[ 03-09-19 02:38:56 ] 501000/1000000 (ep=501) : last=317.142 max=434.488 - 312.216 \n",
      "[ 03-09-19 02:39:01 ] 504000/1000000 (ep=504) : last=348.733 max=434.488 - 317.106 \n",
      "[ 03-09-19 02:39:05 ] 507000/1000000 (ep=507) : last=287.292 max=434.488 - 311.288 \n",
      "[ 03-09-19 02:39:10 ] 510000/1000000 (ep=510) : last=310.557 max=434.488 - 311.826 \n",
      "[ 03-09-19 02:39:15 ] 513000/1000000 (ep=513) : last=295.264 max=450.935 - 322.957 \n",
      "[ 03-09-19 02:39:20 ] 516000/1000000 (ep=516) : last=318.798 max=450.935 - 316.681 \n",
      "[ 03-09-19 02:39:25 ] 519000/1000000 (ep=519) : last=302.114 max=450.935 - 303.398 \n",
      "[ 03-09-19 02:39:31 ] 522000/1000000 (ep=522) : last=325.967 max=450.935 - 299.957 \n",
      "[ 03-09-19 02:39:37 ] 525000/1000000 (ep=525) : last=328.823 max=450.935 - 309.761 \n",
      "[ 03-09-19 02:39:45 ] 528000/1000000 (ep=528) : last=321.273 max=450.935 - 295.503 \n",
      "[ 03-09-19 02:39:51 ] 531000/1000000 (ep=531) : last=340.753 max=450.935 - 317.135 \n",
      "[ 03-09-19 02:39:56 ] 534000/1000000 (ep=534) : last=344.427 max=450.935 - 327.330 \n",
      "[ 03-09-19 02:40:00 ] 537000/1000000 (ep=537) : last=375.147 max=450.935 - 330.569 \n",
      "[ 03-09-19 02:40:05 ] 540000/1000000 (ep=540) : last=379.092 max=450.935 - 332.012 \n",
      "[ 03-09-19 02:40:10 ] 543000/1000000 (ep=543) : last=358.047 max=450.935 - 330.990 \n",
      "[ 03-09-19 02:40:15 ] 546000/1000000 (ep=546) : last=334.365 max=450.935 - 324.195 \n",
      "[ 03-09-19 02:40:20 ] 549000/1000000 (ep=549) : last=292.208 max=450.935 - 315.904 \n",
      "[ 03-09-19 02:40:25 ] 552000/1000000 (ep=552) : last=467.348 max=467.348 - 330.785 \n",
      "[ 03-09-19 02:40:31 ] 555000/1000000 (ep=555) : last=387.510 max=467.348 - 333.394 \n",
      "[ 03-09-19 02:40:35 ] 558000/1000000 (ep=558) : last=409.392 max=467.348 - 337.840 \n",
      "[ 03-09-19 02:40:40 ] 561000/1000000 (ep=561) : last=339.474 max=467.348 - 325.307 \n",
      "[ 03-09-19 02:40:46 ] 564000/1000000 (ep=564) : last=361.335 max=467.348 - 330.539 \n",
      "[ 03-09-19 02:40:52 ] 567000/1000000 (ep=567) : last=342.390 max=467.348 - 319.668 \n",
      "[ 03-09-19 02:40:57 ] 570000/1000000 (ep=570) : last=420.719 max=467.348 - 331.427 \n",
      "[ 03-09-19 02:41:01 ] 573000/1000000 (ep=573) : last=374.487 max=467.348 - 327.969 \n",
      "[ 03-09-19 02:41:06 ] 576000/1000000 (ep=576) : last=321.621 max=467.348 - 331.557 \n",
      "[ 03-09-19 02:41:11 ] 579000/1000000 (ep=579) : last=380.237 max=467.348 - 335.355 \n",
      "[ 03-09-19 02:41:15 ] 582000/1000000 (ep=582) : last=254.676 max=467.348 - 333.172 \n",
      "[ 03-09-19 02:41:21 ] 585000/1000000 (ep=585) : last=379.179 max=467.348 - 342.306 \n",
      "[ 03-09-19 02:41:27 ] 588000/1000000 (ep=588) : last=307.706 max=467.348 - 326.596 \n",
      "[ 03-09-19 02:41:32 ] 591000/1000000 (ep=591) : last=395.133 max=467.348 - 333.326 \n",
      "[ 03-09-19 02:41:37 ] 594000/1000000 (ep=594) : last=347.324 max=467.348 - 333.307 \n",
      "[ 03-09-19 02:41:43 ] 597000/1000000 (ep=597) : last=270.895 max=467.348 - 327.083 \n",
      "[ 03-09-19 02:41:48 ] 600000/1000000 (ep=600) : last=348.500 max=467.348 - 340.305 \n"
     ]
    },
    {
     "name": "stdout",
     "output_type": "stream",
     "text": [
      "[ 03-09-19 02:41:53 ] 603000/1000000 (ep=603) : last=322.368 max=467.348 - 327.894 \n",
      "[ 03-09-19 02:41:59 ] 606000/1000000 (ep=606) : last=294.708 max=467.348 - 329.286 \n",
      "[ 03-09-19 02:42:04 ] 609000/1000000 (ep=609) : last=262.205 max=467.348 - 322.473 \n",
      "[ 03-09-19 02:42:09 ] 612000/1000000 (ep=612) : last=294.495 max=467.348 - 326.387 \n",
      "--- checkpoint saved at: results/cp-ppo\\19-03-09-022204\\checkpoint_100.pth.tar ---\n"
     ]
    }
   ],
   "source": [
    "stats = train.run_rl_training(gen, agent, args=args, logger=logger, save_freq=None, \n",
    "                              num_iter=N, continue_gen_stats=True)\n",
    "path = train.save_checkpoint({\n",
    "            'agent_state_dict': agent.state_dict(),\n",
    "            'stats': stats,\n",
    "            'args': args,\n",
    "            'steps': gen.steps_generated(),\n",
    "            'episodes': gen.episodes_generated(),\n",
    "        }, args.save_dir, epoch=itr)\n",
    "print('--- checkpoint saved at: {} ---'.format(path))\n",
    "itr += N"
   ]
  },
  {
   "cell_type": "code",
   "execution_count": 18,
   "metadata": {},
   "outputs": [],
   "source": [
    "env.view(agent)"
   ]
  },
  {
   "cell_type": "code",
   "execution_count": null,
   "metadata": {},
   "outputs": [],
   "source": []
  }
 ],
 "metadata": {
  "kernelspec": {
   "display_name": "Python 3",
   "language": "python",
   "name": "python3"
  },
  "language_info": {
   "codemirror_mode": {
    "name": "ipython",
    "version": 3
   },
   "file_extension": ".py",
   "mimetype": "text/x-python",
   "name": "python",
   "nbconvert_exporter": "python",
   "pygments_lexer": "ipython3",
   "version": "3.6.6"
  }
 },
 "nbformat": 4,
 "nbformat_minor": 2
}
