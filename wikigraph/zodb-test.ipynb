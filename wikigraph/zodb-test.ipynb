{
 "cells": [
  {
   "cell_type": "code",
   "execution_count": 2,
   "metadata": {},
   "outputs": [],
   "source": [
    "import sys, os, time\n",
    "#%load_ext autoreload\n",
    "#%autoreload 2\n",
    "import foundation as fd\n",
    "import foundation.util as util\n",
    "import numpy as np\n",
    "%matplotlib notebook\n",
    "import matplotlib.pyplot as plt\n",
    "import torch\n",
    "import torch.nn as nn\n",
    "import torch.nn.functional as F\n",
    "import torch.multiprocessing as mp\n",
    "import torchvision\n",
    "import h5py as hf\n",
    "from itertools import product\n",
    "\n",
    "import ZODB, ZODB.FileStorage\n",
    "import ZEO\n",
    "import neo\n",
    "import transaction\n",
    "import persistent\n",
    "from persistent.list import PersistentList\n",
    "from BTrees import OIBTree, IOBTree, IIBTree"
   ]
  },
  {
   "cell_type": "code",
   "execution_count": 222,
   "metadata": {},
   "outputs": [],
   "source": [
    "s = IOBTree.Set()"
   ]
  },
  {
   "cell_type": "code",
   "execution_count": 223,
   "metadata": {},
   "outputs": [
    {
     "data": {
      "text/plain": [
       "1"
      ]
     },
     "execution_count": 223,
     "metadata": {},
     "output_type": "execute_result"
    }
   ],
   "source": [
    "s.add(323)"
   ]
  },
  {
   "cell_type": "code",
   "execution_count": 227,
   "metadata": {},
   "outputs": [
    {
     "data": {
      "text/plain": [
       "[3, 4, 323]"
      ]
     },
     "execution_count": 227,
     "metadata": {},
     "output_type": "execute_result"
    }
   ],
   "source": [
    "list(s.keys())"
   ]
  },
  {
   "cell_type": "code",
   "execution_count": 226,
   "metadata": {},
   "outputs": [
    {
     "data": {
      "text/plain": [
       "2"
      ]
     },
     "execution_count": 226,
     "metadata": {},
     "output_type": "execute_result"
    }
   ],
   "source": [
    "s.update([3,4])"
   ]
  },
  {
   "cell_type": "code",
   "execution_count": 207,
   "metadata": {},
   "outputs": [],
   "source": [
    "def populate(tree, N=10000000):\n",
    "    for i in range(N):\n",
    "        tree[i] = i+1\n",
    "    return tree\n",
    "    "
   ]
  },
  {
   "cell_type": "code",
   "execution_count": 208,
   "metadata": {},
   "outputs": [],
   "source": [
    "d = PersistentMapping()"
   ]
  },
  {
   "cell_type": "code",
   "execution_count": 209,
   "metadata": {},
   "outputs": [
    {
     "data": {
      "text/plain": [
       "(0, [])"
      ]
     },
     "execution_count": 209,
     "metadata": {},
     "output_type": "execute_result"
    }
   ],
   "source": [
    "len(d), list(d.items())"
   ]
  },
  {
   "cell_type": "code",
   "execution_count": 210,
   "metadata": {},
   "outputs": [],
   "source": [
    "s1 = IIBTree.BTree()\n",
    "s2 = PersistentMapping()"
   ]
  },
  {
   "cell_type": "code",
   "execution_count": 211,
   "metadata": {},
   "outputs": [
    {
     "data": {
      "text/plain": [
       "([], [])"
      ]
     },
     "execution_count": 211,
     "metadata": {},
     "output_type": "execute_result"
    }
   ],
   "source": [
    "list(s1.items()), list(s2.items())"
   ]
  },
  {
   "cell_type": "code",
   "execution_count": 212,
   "metadata": {},
   "outputs": [
    {
     "name": "stdout",
     "output_type": "stream",
     "text": [
      "s1: 1.476391077041626\n",
      "s2: 6.2712836265563965\n"
     ]
    }
   ],
   "source": [
    "#t1, t2 = 0, 0\n",
    "\n",
    "start = time.time()\n",
    "populate(s1)\n",
    "print('s1: {}'.format(time.time() - start))\n",
    "\n",
    "start = time.time()\n",
    "populate(s2)\n",
    "print('s2: {}'.format(time.time() - start))"
   ]
  },
  {
   "cell_type": "code",
   "execution_count": null,
   "metadata": {},
   "outputs": [],
   "source": []
  },
  {
   "cell_type": "code",
   "execution_count": 12,
   "metadata": {},
   "outputs": [],
   "source": [
    "t = IIBTree.BTree()"
   ]
  },
  {
   "cell_type": "code",
   "execution_count": 13,
   "metadata": {},
   "outputs": [
    {
     "data": {
      "text/plain": [
       "[]"
      ]
     },
     "execution_count": 13,
     "metadata": {},
     "output_type": "execute_result"
    }
   ],
   "source": [
    "list(t.items())"
   ]
  },
  {
   "cell_type": "code",
   "execution_count": 15,
   "metadata": {},
   "outputs": [],
   "source": [
    "t[3] = 546\n",
    "t[4] = 657"
   ]
  },
  {
   "cell_type": "code",
   "execution_count": 16,
   "metadata": {},
   "outputs": [
    {
     "data": {
      "text/plain": [
       "[(3, 546), (4, 657)]"
      ]
     },
     "execution_count": 16,
     "metadata": {},
     "output_type": "execute_result"
    }
   ],
   "source": [
    "list(t.items())"
   ]
  },
  {
   "cell_type": "code",
   "execution_count": 17,
   "metadata": {},
   "outputs": [
    {
     "data": {
      "text/plain": [
       "2"
      ]
     },
     "execution_count": 17,
     "metadata": {},
     "output_type": "execute_result"
    }
   ],
   "source": [
    "len(t)"
   ]
  },
  {
   "cell_type": "code",
   "execution_count": 5,
   "metadata": {},
   "outputs": [],
   "source": [
    "# top level objects:\n",
    "# - ID table (name -> ID)\n",
    "# - ID list (ID -> name)\n",
    "# - rID table (redir -> rID)\n",
    "# - rID list (rID -> redir)\n",
    "# - num list (ID -> num)\n",
    "# - redirect list (ID -> redirects)\n",
    "# - link list (ID -> links)"
   ]
  },
  {
   "cell_type": "code",
   "execution_count": 4,
   "metadata": {},
   "outputs": [
    {
     "data": {
      "text/plain": [
       "(('127.0.0.1', 37379),\n",
       " <function ZEO._forker.start_zeo_server.<locals>.stop(stop_timeout=99)>)"
      ]
     },
     "execution_count": 4,
     "metadata": {},
     "output_type": "execute_result"
    }
   ],
   "source": [
    "addr, stop = ZEO.server(path='test.zeo')\n",
    "addr, stop"
   ]
  },
  {
   "cell_type": "code",
   "execution_count": null,
   "metadata": {},
   "outputs": [],
   "source": []
  },
  {
   "cell_type": "code",
   "execution_count": 167,
   "metadata": {},
   "outputs": [],
   "source": [
    "db = ZEO.DB(addr)\n",
    "connection = db.open()\n",
    "root = connection.root"
   ]
  },
  {
   "cell_type": "code",
   "execution_count": 168,
   "metadata": {},
   "outputs": [],
   "source": [
    "root.test = OIBTree.BTree()\n",
    "root.test2 = OIBTree.BTree()\n",
    "transaction.commit()"
   ]
  },
  {
   "cell_type": "code",
   "execution_count": 170,
   "metadata": {},
   "outputs": [
    {
     "data": {
      "text/plain": [
       "(<BTrees.OIBTree.OIBTree object at 0x7f5e786efe18 oid 0xd1 in <Connection at 7f5e786ee668>>,\n",
       " <BTrees.OIBTree.OIBTree object at 0x7f5e786efae8 oid 0xd0 in <Connection at 7f5e786ee668>>)"
      ]
     },
     "execution_count": 170,
     "metadata": {},
     "output_type": "execute_result"
    }
   ],
   "source": [
    "root.test, root.test2"
   ]
  },
  {
   "cell_type": "code",
   "execution_count": 71,
   "metadata": {},
   "outputs": [],
   "source": [
    "#transaction.abort()"
   ]
  },
  {
   "cell_type": "code",
   "execution_count": 127,
   "metadata": {},
   "outputs": [],
   "source": [
    "def g(n,x, addr):\n",
    "    print(n, x, addr)\n",
    "    return 3"
   ]
  },
  {
   "cell_type": "code",
   "execution_count": 182,
   "metadata": {},
   "outputs": [],
   "source": [
    "def f(ID, args):\n",
    "    x, n, addr = args\n",
    "    try:\n",
    "        db = ZEO.DB(addr)\n",
    "        #conn = db.open()\n",
    "        \n",
    "#         for attempt in transaction.manager.attempts():\n",
    "#             with attempt:\n",
    "        \n",
    "        \n",
    "    \n",
    "        with db.transaction() as conn:\n",
    "            \n",
    "            if x:\n",
    "                d, l = conn.root.test, 'test'\n",
    "            else:\n",
    "                d, l = conn.root.test2, 'test2'\n",
    "\n",
    "            print('{} before: {}'.format(ID, l), d.get(n, '** no {}'.format(n)))\n",
    "            \n",
    "            if n not in d:\n",
    "                d[n] = -1\n",
    "            \n",
    "            d[n] += 1\n",
    "\n",
    "            time.sleep(0.02)\n",
    "            print('{} after: {}'.format(ID, l), d.get(n, '** no {}'.format(n)))\n",
    "\n",
    "\n",
    "            #transaction.commit()\n",
    "        \n",
    "        print('done')\n",
    "        \n",
    "    except Exception as e:\n",
    "        return e"
   ]
  },
  {
   "cell_type": "code",
   "execution_count": 183,
   "metadata": {},
   "outputs": [
    {
     "name": "stdout",
     "output_type": "stream",
     "text": [
      "0 before: test2 0\n",
      "5 before: test 1\n",
      "2 before: test2 0\n",
      "1 before: test2 0\n",
      "4 before: test 0\n",
      "3 before: test 1\n",
      "6 before: test 1\n",
      "8 before: test 1\n",
      "7 before: test 0\n",
      "5 after: test 2\n",
      "0 after: test2 1\n",
      "2 after: test2 1\n",
      "1 after: test2 1\n",
      "3 after: test 2\n",
      "4 after: test 1\n",
      "6 after: test 2\n",
      "8 after: test 2\n",
      "7 after: test 1\n",
      "done\n",
      "done\n",
      "done\n",
      "done\n",
      "done\n",
      "done\n",
      "0 before: test2 1\n",
      "3 before: test 2\n",
      "2 before: test2 1\n",
      "4 before: test 1\n",
      "1 before: test2 1\n",
      "5 before: test 2\n",
      "0 after: test2 2\n",
      "3 after: test 3\n",
      "2 after: test2 2\n",
      "4 after: test 2\n",
      "1 after: test2 2\n",
      "5 after: test 3\n",
      "done\n",
      "done\n",
      "done\n",
      "done\n",
      "done\n",
      "done\n"
     ]
    }
   ],
   "source": [
    "pool = mp.Pool(9)"
   ]
  },
  {
   "cell_type": "code",
   "execution_count": 187,
   "metadata": {},
   "outputs": [
    {
     "data": {
      "text/plain": [
       "<enumerate at 0x7f5e786af318>"
      ]
     },
     "execution_count": 187,
     "metadata": {},
     "output_type": "execute_result"
    }
   ],
   "source": [
    "N = 5\n",
    "jobs = enumerate(product(range(2), ['a', 'b', 'c'], [addr]))\n",
    "jobs"
   ]
  },
  {
   "cell_type": "code",
   "execution_count": 188,
   "metadata": {},
   "outputs": [],
   "source": [
    "#f(*jobs[0])"
   ]
  },
  {
   "cell_type": "code",
   "execution_count": 189,
   "metadata": {},
   "outputs": [
    {
     "data": {
      "text/plain": [
       "[None, None, None, None, None, None]"
      ]
     },
     "execution_count": 189,
     "metadata": {},
     "output_type": "execute_result"
    }
   ],
   "source": [
    "pool.starmap(f, jobs)"
   ]
  },
  {
   "cell_type": "code",
   "execution_count": 58,
   "metadata": {},
   "outputs": [
    {
     "data": {
      "text/plain": [
       "('0', '1', '1')"
      ]
     },
     "execution_count": 58,
     "metadata": {},
     "output_type": "execute_result"
    }
   ],
   "source": [
    "root.a, root.b, root.c"
   ]
  },
  {
   "cell_type": "code",
   "execution_count": 57,
   "metadata": {},
   "outputs": [
    {
     "data": {
      "text/plain": [
       "<root: ID_table a article_list b c link_list num_list rID_list ...>"
      ]
     },
     "execution_count": 57,
     "metadata": {},
     "output_type": "execute_result"
    }
   ],
   "source": [
    "root"
   ]
  },
  {
   "cell_type": "code",
   "execution_count": 171,
   "metadata": {},
   "outputs": [],
   "source": [
    "db.close()\n",
    "#stop()"
   ]
  },
  {
   "cell_type": "code",
   "execution_count": 22,
   "metadata": {},
   "outputs": [
    {
     "data": {
      "text/plain": [
       "<root: >"
      ]
     },
     "execution_count": 22,
     "metadata": {},
     "output_type": "execute_result"
    }
   ],
   "source": [
    "root"
   ]
  },
  {
   "cell_type": "code",
   "execution_count": 41,
   "metadata": {},
   "outputs": [],
   "source": [
    "root.ID_table = PersistentMapping()\n",
    "root.rID_table = PersistentMapping()\n",
    "root.link_list = PersistentList()\n",
    "root.redir_list = PersistentList()\n",
    "root.num_list = PersistentList()\n",
    "root.article_list = PersistentList()\n",
    "root.rID_list = PersistentList()"
   ]
  },
  {
   "cell_type": "code",
   "execution_count": 42,
   "metadata": {},
   "outputs": [],
   "source": [
    "for i in range(10000):\n",
    "    root.rID_list.append(i)"
   ]
  },
  {
   "cell_type": "code",
   "execution_count": 53,
   "metadata": {},
   "outputs": [
    {
     "data": {
      "text/plain": [
       "10000"
      ]
     },
     "execution_count": 53,
     "metadata": {},
     "output_type": "execute_result"
    }
   ],
   "source": [
    "len(root.rID_list)"
   ]
  },
  {
   "cell_type": "code",
   "execution_count": 44,
   "metadata": {},
   "outputs": [],
   "source": [
    "transaction.commit()"
   ]
  },
  {
   "cell_type": "code",
   "execution_count": 20,
   "metadata": {},
   "outputs": [],
   "source": [
    "db.close()"
   ]
  },
  {
   "cell_type": "code",
   "execution_count": null,
   "metadata": {},
   "outputs": [],
   "source": [
    "class WikiGraph_DB(object):\n",
    "    def __init__(self, db_path=None, db=None):\n",
    "        \n",
    "        if db is None:\n",
    "            db  = ZODB.DB(db_path)\n",
    "        self.db = db\n",
    "        self.conn = self.db.open()\n",
    "        self.root = self.conn.root\n",
    "        \n",
    "    def add_node(*names):\n",
    "        pass\n",
    "    \n",
    "    def add_redir(*redir):\n",
    "        pass\n",
    "        \n",
    "    def add(name, links, redirs):\n",
    "        \n",
    "        ID = self.add_node(name)\n",
    "        \n",
    "        links = self.add_node(links)\n",
    "        \n",
    "        transaction.commit()\n",
    "        \n",
    "    \n",
    "    def increment(*IDs):\n",
    "        pass\n",
    "    \n",
    "    def get_ID(*names):\n",
    "        pass\n",
    "    \n",
    "    def get_name(*IDs):\n",
    "        pass\n",
    "    \n",
    "    def get_num(*IDs):\n",
    "        pass"
   ]
  },
  {
   "cell_type": "code",
   "execution_count": null,
   "metadata": {},
   "outputs": [],
   "source": []
  },
  {
   "cell_type": "code",
   "execution_count": 2,
   "metadata": {},
   "outputs": [],
   "source": [
    "class Article(persistent.Persistent):\n",
    "    def __init__(self, name, links=None, redirs=None):\n",
    "        self.name = name\n",
    "        self.num = 1\n",
    "        self.links = links\n",
    "        self.redirs = redirs\n",
    "        \n",
    "    def inc(self):\n",
    "        self.num += 1\n",
    "        \n",
    "class Article_Graph(persistent.Persistent):\n",
    "    \n",
    "    def __init__(self):\n",
    "        self.articles = [] # ID -> article\n",
    "        self.IDs = OIBTree.BTree() # name -> ID\n",
    "        self.next_ID = 0\n",
    "    \n",
    "    def items(self):\n",
    "        return iter(self.articles)\n",
    "    \n",
    "    def __getitem__(self, x):\n",
    "        return self.articles[x] # TODO: should fail if x is a string, then use try except\n",
    "    \n",
    "    def __len__(self):\n",
    "        return len(self.articles)\n",
    "    \n",
    "    def add_article(self, name, links, redirs):\n",
    "        ID = self.IDs.get(name, None)\n",
    "        \n",
    "        if ID is None:\n",
    "            self.IDs[article.name] = self.next_ID\n",
    "            self.next_ID += 1\n",
    "            \n",
    "            links = self.get_ID(links)\n",
    "            redirs = self.get_ID()\n",
    "            \n",
    "            article = Article(name, )\n",
    "            \n",
    "            self.articles.append()\n",
    "    \n",
    "    def add_articles(self, articles):\n",
    "        \n",
    "        for article in articles:\n",
    "            ID = self.IDs.get(article.name, None)\n",
    "            \n",
    "            if ID is None:\n",
    "                self.IDs[article.name] = self.next_ID\n",
    "                self.next_ID += 1\n",
    "                \n",
    "                \n",
    "                \n",
    "    \n",
    "    def get_ID(self, *names):\n",
    "        \n",
    "        for name in names:\n",
    "            ID = self.IDs.get(name, None)\n",
    "            \n",
    "    \n",
    "    def items(self):\n",
    "        self.cursor.execute('''SELECT * FROM articles''')\n",
    "        return iter(self.cursor)\n",
    "        \n",
    "    def add(self, *names):\n",
    "        if self.lock is not None:\n",
    "            self.lock.acquire()\n",
    "        for name in names:\n",
    "            try:\n",
    "                #print(_insert_temp, name)\n",
    "                self.cursor.execute(_insert_temp, (name,))\n",
    "            except sqlite3.IntegrityError:\n",
    "                pass\n",
    "        #self.cursor.executemany(_insert_temp, [(n,) for n in names])\n",
    "        self.conn.commit()\n",
    "        if self.lock is not None:\n",
    "            self.lock.release()\n",
    "        \n",
    "    def increment(self, *names):\n",
    "        if self.lock is not None:\n",
    "            self.lock.acquire()\n",
    "        self.cursor.execute(_inc_temp.format(', '.join('?'*len(names))), names)\n",
    "        self.conn.commit()\n",
    "        if self.lock is not None:\n",
    "            self.lock.release()\n",
    "        \n",
    "    def __len__(self):\n",
    "        self.cursor.execute('''SELECT COUNT(*) FROM articles''')\n",
    "        return self.cursor.fetchall()[0][0]\n",
    "        \n",
    "    def get_id(self, *names):\n",
    "        self.cursor.execute(_sel_id_temp.format(', '.join('?'*len(names))), names)\n",
    "        return self.cursor.fetchall()\n",
    "        \n",
    "    def get_name(self, *IDs):\n",
    "        self.cursor.execute(_sel_name_temp.format(', '.join('?'*len(IDs))), IDs)\n",
    "        return self.cursor.fetchall()\n",
    "    \n",
    "    def get_full_from_names(self, *names):\n",
    "        self.cursor.execute(_sel_full_name_temp.format(', '.join('?'*len(names))), names)\n",
    "        return self.cursor.fetchall()\n",
    "    \n",
    "    def get_full_from_ids(self, *IDs):\n",
    "        self.cursor.execute(_sel_full_id_temp.format(', '.join('?'*len(IDs))), IDs)\n",
    "        return self.cursor.fetchall()\n",
    "    \n",
    "    def __del__(self):\n",
    "        self.conn.close()"
   ]
  },
  {
   "cell_type": "code",
   "execution_count": 3,
   "metadata": {},
   "outputs": [],
   "source": [
    "# storage = ZODB.FileStorage.FileStorage('mydata.fs')\n",
    "# db = ZODB.DB(storage)\n",
    "# connection = db.open()\n",
    "# root = connection.root"
   ]
  },
  {
   "cell_type": "code",
   "execution_count": 4,
   "metadata": {},
   "outputs": [],
   "source": []
  },
  {
   "cell_type": "code",
   "execution_count": null,
   "metadata": {},
   "outputs": [],
   "source": []
  }
 ],
 "metadata": {
  "kernelspec": {
   "display_name": "Python 3",
   "language": "python",
   "name": "python3"
  },
  "language_info": {
   "codemirror_mode": {
    "name": "ipython",
    "version": 3
   },
   "file_extension": ".py",
   "mimetype": "text/x-python",
   "name": "python",
   "nbconvert_exporter": "python",
   "pygments_lexer": "ipython3",
   "version": "3.5.5"
  }
 },
 "nbformat": 4,
 "nbformat_minor": 2
}
