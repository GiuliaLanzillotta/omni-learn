{
 "cells": [
  {
   "cell_type": "code",
   "execution_count": 2,
   "metadata": {},
   "outputs": [],
   "source": [
    "import sys, os, time\n",
    "#%load_ext autoreload\n",
    "#%autoreload 2\n",
    "import foundation as fd\n",
    "import foundation.util as util\n",
    "import numpy as np\n",
    "%matplotlib notebook\n",
    "import matplotlib.pyplot as plt\n",
    "import torch\n",
    "import torch.nn as nn\n",
    "import torch.nn.functional as F\n",
    "import torch.multiprocessing as mp\n",
    "import torchvision\n",
    "import h5py as hf\n",
    "import hashlib\n",
    "from html.parser import HTMLParser\n",
    "import urllib\n",
    "import urllib.request\n",
    "from urllib.error import URLError, HTTPError\n",
    "import requests\n",
    "from extraction import *\n",
    "import redis"
   ]
  },
  {
   "cell_type": "code",
   "execution_count": 3,
   "metadata": {},
   "outputs": [],
   "source": [
    "URL = \"https://en.wikipedia.org/w/api.php\"\n",
    "\n",
    "PARAMS = {\n",
    "    \"action\": \"query\",\n",
    "    \"format\": \"json\",\n",
    "    #\"list\": \"allpages\",\n",
    "    'allimit': 'max',\n",
    "    #'titles': 'Exclamation mark',\n",
    "    'titles': 'Double_factorial|Artificial_intelligence|AI ethics',\n",
    "    'prop': \"redirects\",\n",
    "    #\"apfrom\": \"jungle\", # continue\n",
    "}\n",
    "\n",
    "R = requests.get(url=URL, params=PARAMS)\n",
    "DATA = R.json()\n",
    "\n",
    "#print(DATA)"
   ]
  },
  {
   "cell_type": "code",
   "execution_count": 202,
   "metadata": {},
   "outputs": [
    {
     "data": {
      "text/plain": [
       "dict_keys(['query', 'continue'])"
      ]
     },
     "execution_count": 202,
     "metadata": {},
     "output_type": "execute_result"
    }
   ],
   "source": [
    "DATA.keys()"
   ]
  },
  {
   "cell_type": "code",
   "execution_count": 203,
   "metadata": {},
   "outputs": [
    {
     "ename": "KeyError",
     "evalue": "'allpages'",
     "output_type": "error",
     "traceback": [
      "\u001b[0;31m---------------------------------------------------------------------\u001b[0m",
      "\u001b[0;31mKeyError\u001b[0m                            Traceback (most recent call last)",
      "\u001b[0;32m<ipython-input-203-786f2ee2f5f5>\u001b[0m in \u001b[0;36m<module>\u001b[0;34m()\u001b[0m\n\u001b[0;32m----> 1\u001b[0;31m \u001b[0mlen\u001b[0m\u001b[0;34m(\u001b[0m\u001b[0mDATA\u001b[0m\u001b[0;34m[\u001b[0m\u001b[0;34m'query'\u001b[0m\u001b[0;34m]\u001b[0m\u001b[0;34m[\u001b[0m\u001b[0;34m'allpages'\u001b[0m\u001b[0;34m]\u001b[0m\u001b[0;34m)\u001b[0m\u001b[0;34m\u001b[0m\u001b[0m\n\u001b[0m",
      "\u001b[0;31mKeyError\u001b[0m: 'allpages'"
     ]
    }
   ],
   "source": [
    "len(DATA['query']['allpages'])"
   ]
  },
  {
   "cell_type": "code",
   "execution_count": 205,
   "metadata": {},
   "outputs": [
    {
     "data": {
      "text/plain": [
       "3"
      ]
     },
     "execution_count": 205,
     "metadata": {},
     "output_type": "execute_result"
    }
   ],
   "source": [
    "len(DATA['query']['pages'])"
   ]
  },
  {
   "cell_type": "code",
   "execution_count": 204,
   "metadata": {},
   "outputs": [
    {
     "ename": "KeyError",
     "evalue": "'allpages'",
     "output_type": "error",
     "traceback": [
      "\u001b[0;31m---------------------------------------------------------------------\u001b[0m",
      "\u001b[0;31mKeyError\u001b[0m                            Traceback (most recent call last)",
      "\u001b[0;32m<ipython-input-204-360aa5420b96>\u001b[0m in \u001b[0;36m<module>\u001b[0;34m()\u001b[0m\n\u001b[0;32m----> 1\u001b[0;31m \u001b[0mDATA\u001b[0m\u001b[0;34m[\u001b[0m\u001b[0;34m'query'\u001b[0m\u001b[0;34m]\u001b[0m\u001b[0;34m[\u001b[0m\u001b[0;34m'allpages'\u001b[0m\u001b[0;34m]\u001b[0m\u001b[0;34m\u001b[0m\u001b[0m\n\u001b[0m",
      "\u001b[0;31mKeyError\u001b[0m: 'allpages'"
     ]
    }
   ],
   "source": [
    "DATA['query']['allpages']"
   ]
  },
  {
   "cell_type": "code",
   "execution_count": 206,
   "metadata": {},
   "outputs": [
    {
     "data": {
      "text/plain": [
       "{'1164': {'ns': 0,\n",
       "  'pageid': 1164,\n",
       "  'redirects': [{'ns': 0, 'pageid': 1268, 'title': 'AI'},\n",
       "   {'ns': 0, 'pageid': 83979, 'title': 'Machine intelligence'},\n",
       "   {'ns': 0, 'pageid': 87949, 'title': 'AI ethics'},\n",
       "   {'ns': 0, 'pageid': 87959, 'title': 'AI implications'},\n",
       "   {'ns': 0, 'pageid': 246362, 'title': 'Artificially intelligent'},\n",
       "   {'ns': 0, 'pageid': 524509, 'title': 'Artificial Intelligence'},\n",
       "   {'ns': 0, 'pageid': 638220, 'title': 'The Artificial Intelligence'},\n",
       "   {'ns': 0, 'pageid': 640610, 'title': 'Artificial intelligence (AI)'},\n",
       "   {'ns': 0, 'pageid': 644536, 'title': 'Artificial Intelligence (AI)'},\n",
       "   {'ns': 0, 'pageid': 886891, 'title': 'Machine understanding'}],\n",
       "  'title': 'Artificial intelligence'},\n",
       " '507208': {'ns': 0, 'pageid': 507208, 'title': 'Double factorial'},\n",
       " '87949': {'ns': 0, 'pageid': 87949, 'title': 'AI ethics'}}"
      ]
     },
     "execution_count": 206,
     "metadata": {},
     "output_type": "execute_result"
    }
   ],
   "source": [
    "DATA['query']['pages']"
   ]
  },
  {
   "cell_type": "code",
   "execution_count": 87,
   "metadata": {},
   "outputs": [],
   "source": [
    "root = b'https://en.wikipedia.org/wiki/'"
   ]
  },
  {
   "cell_type": "code",
   "execution_count": 65,
   "metadata": {},
   "outputs": [],
   "source": [
    "db = redis.Redis(port=6380)"
   ]
  },
  {
   "cell_type": "code",
   "execution_count": 69,
   "metadata": {},
   "outputs": [
    {
     "data": {
      "text/plain": [
       "5202136"
      ]
     },
     "execution_count": 69,
     "metadata": {},
     "output_type": "execute_result"
    }
   ],
   "source": [
    "all_inserted = db.smembers('articles')\n",
    "len(all_inserted)"
   ]
  },
  {
   "cell_type": "code",
   "execution_count": 70,
   "metadata": {},
   "outputs": [
    {
     "data": {
      "text/plain": [
       "3063158"
      ]
     },
     "execution_count": 70,
     "metadata": {},
     "output_type": "execute_result"
    }
   ],
   "source": [
    "all_redirs = db.smembers('redirs')\n",
    "len(all_redirs)"
   ]
  },
  {
   "cell_type": "code",
   "execution_count": 68,
   "metadata": {},
   "outputs": [
    {
     "data": {
      "text/plain": [
       "5756"
      ]
     },
     "execution_count": 68,
     "metadata": {},
     "output_type": "execute_result"
    }
   ],
   "source": [
    "all_fails = db.smembers('failed')\n",
    "len(all_fails)"
   ]
  },
  {
   "cell_type": "code",
   "execution_count": 76,
   "metadata": {},
   "outputs": [],
   "source": [
    "#fails = list(all_fails)\n",
    "redirs = list(all_redirs)"
   ]
  },
  {
   "cell_type": "code",
   "execution_count": 94,
   "metadata": {},
   "outputs": [
    {
     "data": {
      "text/plain": [
       "b'Shannon%27s_entropy'"
      ]
     },
     "execution_count": 94,
     "metadata": {},
     "output_type": "execute_result"
    }
   ],
   "source": [
    "name = redirs[2]\n",
    "name"
   ]
  },
  {
   "cell_type": "code",
   "execution_count": 95,
   "metadata": {},
   "outputs": [
    {
     "data": {
      "text/plain": [
       "b'https://en.wikipedia.org/wiki/Shannon%27s_entropy'"
      ]
     },
     "execution_count": 95,
     "metadata": {},
     "output_type": "execute_result"
    }
   ],
   "source": [
    "url = root + name\n",
    "url"
   ]
  },
  {
   "cell_type": "code",
   "execution_count": 106,
   "metadata": {},
   "outputs": [
    {
     "data": {
      "text/plain": [
       "'https://en.wikipedia.org/wiki/Shannon%27s_entropy'"
      ]
     },
     "execution_count": 106,
     "metadata": {},
     "output_type": "execute_result"
    }
   ],
   "source": [
    "r = urllib.request.urlopen(url.decode())\n",
    "r.geturl()"
   ]
  },
  {
   "cell_type": "code",
   "execution_count": 112,
   "metadata": {},
   "outputs": [],
   "source": [
    "#r.read()"
   ]
  },
  {
   "cell_type": "code",
   "execution_count": 61,
   "metadata": {},
   "outputs": [
    {
     "data": {
      "text/plain": [
       "'FIFA_World_Cup_records'"
      ]
     },
     "execution_count": 61,
     "metadata": {},
     "output_type": "execute_result"
    }
   ],
   "source": [
    "n.split('#')[0]"
   ]
  },
  {
   "cell_type": "code",
   "execution_count": 43,
   "metadata": {},
   "outputs": [],
   "source": [
    "alls = set(all_redirs)"
   ]
  },
  {
   "cell_type": "code",
   "execution_count": 44,
   "metadata": {},
   "outputs": [],
   "source": [
    "full = [name.decode() for name in all_redirs if b'#' in name]"
   ]
  },
  {
   "cell_type": "code",
   "execution_count": 45,
   "metadata": {},
   "outputs": [
    {
     "data": {
      "text/plain": [
       "['FIFA_World_Cup_records#Goalscoring',\n",
       " 'United_States_House_of_Representatives_elections_in_Arizona,_2016#District_8',\n",
       " '2018%E2%80%9319_UEFA_Champions_League_qualifying_phase_and_play-offs#Second_qualifying_round',\n",
       " 'SR-25#Design',\n",
       " 'Grand_Marais_Road#West_Grand_Boulevard',\n",
       " 'Fijian_diplomatic_missions#High_Commissions',\n",
       " 'Star_Trek:_The_Next_Generation_DC_comics#Modala_Imperative.2C_The',\n",
       " '2010_European_Men%27s_Handball_Championship_qualification_-_Group_5#Germany_v_Israel',\n",
       " 'List_of_The_Bill_characters_(Q-Z)#Claire_Stanton',\n",
       " 'White_Lady_(cocktail)#White_Lady']"
      ]
     },
     "execution_count": 45,
     "metadata": {},
     "output_type": "execute_result"
    }
   ],
   "source": [
    "full[:10]"
   ]
  },
  {
   "cell_type": "code",
   "execution_count": 46,
   "metadata": {},
   "outputs": [
    {
     "data": {
      "text/plain": [
       "'FIFA_World_Cup_records'"
      ]
     },
     "execution_count": 46,
     "metadata": {},
     "output_type": "execute_result"
    }
   ],
   "source": [
    "full[0][:full[0].find('#')]"
   ]
  },
  {
   "cell_type": "code",
   "execution_count": 47,
   "metadata": {},
   "outputs": [],
   "source": [
    "cut = [name[:name.find('#')].encode() for name in full]"
   ]
  },
  {
   "cell_type": "code",
   "execution_count": 48,
   "metadata": {},
   "outputs": [
    {
     "data": {
      "text/plain": [
       "9331"
      ]
     },
     "execution_count": 48,
     "metadata": {},
     "output_type": "execute_result"
    }
   ],
   "source": [
    "missing = [n for n in cut if n not in alls]\n",
    "len(missing)"
   ]
  },
  {
   "cell_type": "code",
   "execution_count": 49,
   "metadata": {},
   "outputs": [
    {
     "data": {
      "text/plain": [
       "[b'Minor_characters_from_The_Hitchhiker%27s_Guide_to_the_Galaxy',\n",
       " b'Sports_in_Bangladesh',\n",
       " b'Names_of_European_cities_in_different_languages:_Q%E2%80%93T',\n",
       " b'Glossary_of_terms_in_Hinduism',\n",
       " b'OPJHL_Standings_(1972-1981)',\n",
       " b'Art_Deco_theaters_of_the_Philippines',\n",
       " b'Characters_of_Crash_Bandicoot',\n",
       " b'List_of_minor_Star_Wars_characters',\n",
       " b'1940%E2%80%9349_Pacific_typhoon_seasons',\n",
       " b'Early_March_2012_tornado_outbreak',\n",
       " b'Copa_Libertadores_2009_preliminary_round',\n",
       " b'List_of_Joan_of_Arcadia_episodes',\n",
       " b'List_of_Pok%C3%A9mon_episodes_(seasons_14-current)',\n",
       " b'List_of_recurring_characters_from_The_Mighty_Boosh',\n",
       " b'The_Concert_For_Bangla_Desh',\n",
       " b'List_of_characters_from_The_Sopranos_%E2%80%93_Friends_and_Family',\n",
       " b'List_of_Terminator:_The_Sarah_Connor_Chronicles_minor_characters',\n",
       " b'Mitsubishi_Grunder',\n",
       " b'Uppiliyapuram_(ST)_(State_Assembly_Constituency)',\n",
       " b'Alternative_versions_of_Punisher',\n",
       " b'Citadel_Mall_(Colorado_Springs,_Colorado)',\n",
       " b'Colombian_Marine_Infantry',\n",
       " b'2006_World_Series_of_Poker_Results',\n",
       " b'List_of_torture_methods_and_devices',\n",
       " b'List_of_correctional_facilities_in_New_Zealand',\n",
       " b'Characters_on_Reno_911!',\n",
       " b'History_of_history',\n",
       " b'1982-83_Copa_del_Rey',\n",
       " b'Asian_Cup_2000_squads',\n",
       " b'List_of_characters_from_The_Sopranos_in_the_DiMeo_Crime_Family']"
      ]
     },
     "execution_count": 49,
     "metadata": {},
     "output_type": "execute_result"
    }
   ],
   "source": [
    "missing[-30:]"
   ]
  },
  {
   "cell_type": "code",
   "execution_count": 50,
   "metadata": {},
   "outputs": [
    {
     "data": {
      "text/plain": [
       "1415003"
      ]
     },
     "execution_count": 50,
     "metadata": {},
     "output_type": "execute_result"
    }
   ],
   "source": [
    "len(alls)"
   ]
  },
  {
   "cell_type": "code",
   "execution_count": null,
   "metadata": {},
   "outputs": [],
   "source": []
  },
  {
   "cell_type": "code",
   "execution_count": 4,
   "metadata": {},
   "outputs": [
    {
     "data": {
      "text/plain": [
       "[b'redirs', b'articles', b'failed']"
      ]
     },
     "execution_count": 4,
     "metadata": {},
     "output_type": "execute_result"
    }
   ],
   "source": [
    "db.keys()"
   ]
  },
  {
   "cell_type": "code",
   "execution_count": 5,
   "metadata": {},
   "outputs": [
    {
     "data": {
      "text/plain": [
       "466"
      ]
     },
     "execution_count": 5,
     "metadata": {},
     "output_type": "execute_result"
    }
   ],
   "source": [
    "db.scard('failed')"
   ]
  },
  {
   "cell_type": "code",
   "execution_count": 12,
   "metadata": {},
   "outputs": [
    {
     "data": {
      "text/plain": [
       "466"
      ]
     },
     "execution_count": 12,
     "metadata": {},
     "output_type": "execute_result"
    }
   ],
   "source": [
    "failed = db.smembers('failed')\n",
    "failed = list(failed)\n",
    "len(failed)"
   ]
  },
  {
   "cell_type": "code",
   "execution_count": 15,
   "metadata": {},
   "outputs": [],
   "source": [
    "fails = {}"
   ]
  },
  {
   "cell_type": "code",
   "execution_count": 16,
   "metadata": {},
   "outputs": [
    {
     "name": "stdout",
     "output_type": "stream",
     "text": [
      "1\n",
      "21\n",
      "41\n",
      "61\n",
      "81\n",
      "101\n",
      "121\n",
      "141\n",
      "161\n",
      "181\n",
      "201\n",
      "221\n",
      "241\n",
      "261\n",
      "281\n",
      "301\n",
      "321\n",
      "341\n",
      "361\n",
      "381\n",
      "401\n",
      "421\n",
      "441\n",
      "461\n"
     ]
    },
    {
     "data": {
      "text/plain": [
       "(466, 466)"
      ]
     },
     "execution_count": 16,
     "metadata": {},
     "output_type": "execute_result"
    }
   ],
   "source": [
    "for i, x in enumerate(failed):\n",
    "    if x not in fails:\n",
    "        try:\n",
    "            out = download_article_html_urllib(x)\n",
    "            fails[x] = 0\n",
    "        except URLError as e:\n",
    "            fails[x] = e.code\n",
    "        if i % 20 == 0:\n",
    "            print(i+1)\n",
    "len(failed), len(fails)"
   ]
  },
  {
   "cell_type": "code",
   "execution_count": 17,
   "metadata": {},
   "outputs": [],
   "source": [
    "codes = np.array([fails[k] for k in failed])"
   ]
  },
  {
   "cell_type": "code",
   "execution_count": 25,
   "metadata": {},
   "outputs": [
    {
     "data": {
      "text/plain": [
       "{0, 400, 404}"
      ]
     },
     "execution_count": 25,
     "metadata": {},
     "output_type": "execute_result"
    }
   ],
   "source": [
    "set(codes)"
   ]
  },
  {
   "cell_type": "code",
   "execution_count": 20,
   "metadata": {},
   "outputs": [],
   "source": [
    "cs = {}\n",
    "for x, c in fails.items():\n",
    "    if c not in cs:\n",
    "        cs[c] = []\n",
    "    cs[c].append(x)"
   ]
  },
  {
   "cell_type": "code",
   "execution_count": 23,
   "metadata": {},
   "outputs": [
    {
     "data": {
      "text/plain": [
       "(73, 87)"
      ]
     },
     "execution_count": 23,
     "metadata": {},
     "output_type": "execute_result"
    }
   ],
   "source": [
    "len(cs[400]), len(cs[404])"
   ]
  },
  {
   "cell_type": "code",
   "execution_count": 27,
   "metadata": {},
   "outputs": [],
   "source": [
    "o1, o2 = download_article_html_urllib, download_article_html_requests"
   ]
  },
  {
   "cell_type": "code",
   "execution_count": 28,
   "metadata": {},
   "outputs": [],
   "source": [
    "res400 = [wiki_expand(x, o2) for x in cs[400]]"
   ]
  },
  {
   "cell_type": "code",
   "execution_count": 29,
   "metadata": {},
   "outputs": [],
   "source": [
    "res404 = [wiki_expand(x) for x in cs[404]]"
   ]
  },
  {
   "cell_type": "code",
   "execution_count": 30,
   "metadata": {},
   "outputs": [
    {
     "data": {
      "text/plain": [
       "(73, 87)"
      ]
     },
     "execution_count": 30,
     "metadata": {},
     "output_type": "execute_result"
    }
   ],
   "source": [
    "len(res400), len(res404)"
   ]
  },
  {
   "cell_type": "code",
   "execution_count": 4,
   "metadata": {},
   "outputs": [],
   "source": [
    "cs = {}"
   ]
  },
  {
   "cell_type": "code",
   "execution_count": 5,
   "metadata": {
    "scrolled": true
   },
   "outputs": [],
   "source": [
    "cs[404] = [b'Classification_in_the_Olympic_Games_Road_Race',\n",
    " b'Voivodeship_road_719_(Poland)',\n",
    " b'Department_of_Statistics,_University_of_Oxford',\n",
    " b'Oleksiivska',\n",
    " b'%CE%94%C2%B2_Tau',\n",
    " b'Urab%C3%A1_Basin',\n",
    " b'IF_Svea',\n",
    " b'Louisiana_Route_130',\n",
    " b'Coat_of_arms_of_the_Republic_of_Malawi',\n",
    " b'Dover_Minster',\n",
    " b'Greater_Toronto_Jaguars',\n",
    " b'B473_Lyr',\n",
    " b'Bundesstra%C3%9Fe_40',\n",
    " b'Frataraka_dynasty',\n",
    " b'Snaith_Priory',\n",
    " b'Fotheringhay_Nunnery',\n",
    " b'European_route_E981',\n",
    " b'Bus_Terminal_(Saint_Petersburg)',\n",
    " b'State_road_D330_(Turkey)',\n",
    " b'National_road_72_(Poland)',\n",
    " b'Timiryazevskaya_railway_station',\n",
    " b'Bundesstra%C3%9Fe_100',\n",
    " b'Headley_Priory',\n",
    " b'Bundesstra%C3%9Fe_472',\n",
    " b'First_flag_of_T%C3%A2y_S%C6%A1n_dynasty',\n",
    " b'Voivodeship_road_702_(Poland)',\n",
    " b'A9_Highway_(Kazakhstan)',\n",
    " b'R29_highway_(Azerbaijan)',\n",
    " b'Chester_Cathedral_Priory',\n",
    " b'Bundesstra%C3%9Fe_510',\n",
    " b'Temple_property',\n",
    " b'NS_Pup',\n",
    " b'Guajira_Offshore_Basin',\n",
    " b'15_LMi',\n",
    " b'Newland_Preceptory',\n",
    " b'State_road_D795_(Turkey)',\n",
    " b'Cratoxylum_hornschuchii',\n",
    " b'Port_Klang_International_Passenger_Terminal',\n",
    " b'Sinningthwaite_Priory',\n",
    " b'A17_Highway_(Kazakhstan)',\n",
    " b'Bangladesh_Honda_Private_Limited_(BHL)',\n",
    " b'DN1A',\n",
    " b'Line_5_(Athens_Tram)',\n",
    " b'Bundesstra%C3%9Fe_76',\n",
    " b'St_Anthony%27s_Monastery',\n",
    " b'Flag_of_Kherson_Oblast',\n",
    " b'European_route_E579',\n",
    " b'Coat_of_arms_of_the_Socialist_Republic_of_Croatia',\n",
    " b'Mountains_classification_in_the_Pro_Cycling_Challenge',\n",
    " b'National_road_17_(Poland)',\n",
    " b'Preston_Capes_Priory',\n",
    " b'Canterbury_%E2%80%94_Blackfriars',\n",
    " b'Bundesstra%C3%9Fe_64',\n",
    " b'General_Sarmiento_Railway',\n",
    " b'State_road_D180_(Turkey)',\n",
    " b'Louisiana_Route_150',\n",
    " b'Johanneshofs_IF',\n",
    " b'Kupchino_Railway_Platform',\n",
    " b'Great_Seal_of_the_State',\n",
    " b'Colombia_Deep_Pacific_Basin',\n",
    " b'National_road_92_(Poland)',\n",
    " b'Brantham_Hoard',\n",
    " b'Mordovian_Autonomous_Oblast',\n",
    " b'Leningradskaya_railway_station',\n",
    " b'Standard_of_the_Nguy%E1%BB%85n_dynasty_(1890%E2%80%931920)',\n",
    " b'Bundesstra%C3%9Fe_271',\n",
    " b'Ottringham_Priory',\n",
    " b'Voivodeship_road_138_(Poland)',\n",
    " b'M2_highway_(Kosovo)',\n",
    " b'Arms_of_Malawi',\n",
    " b'Order_of_Stara_Planina_(Bulgaria)',\n",
    " b'Petrovsko-Razumovskoye_railway_station',\n",
    " b'Stanney_Grange_(Cow_Worth_Grange)',\n",
    " b'M9_expressway_(Hungary)',\n",
    " b'Tehran_Metro_Line_6',\n",
    " b'Zambia_men%27s_national_field_hockey_team',\n",
    " b'19_Cep',\n",
    " b'Northampton_Austin_Friars',\n",
    " b'Blackwose_Priory',\n",
    " b'Bundesstra%C3%9Fe_43a',\n",
    " b'Flag_of_Communist_Party_of_Vietnam',\n",
    " b'Voivodeship_road_875_(Poland)',\n",
    " b'%C3%96rebro_BK',\n",
    " b'Rubezhivskyi_railway_station',\n",
    " b'Dover_Preceptory',\n",
    " b'A322_highway_(Russia)',\n",
    " b'Eastern_Cordillera_Basin']"
   ]
  },
  {
   "cell_type": "code",
   "execution_count": 10,
   "metadata": {
    "scrolled": true
   },
   "outputs": [],
   "source": [
    "cs[400] = [b'Frankfort,_Kentucky#Geography#Climate',\n",
    " b'University_of_Maryland,_Baltimore#University_of_Maryland#University_of_Maryland_School_of_Social_Work',\n",
    " b'Edward_Littleton_(died_1610)#Political_career#The_1597_election_scandal',\n",
    " b'Clustered_file_system##Shared-disk',\n",
    " b'Vikings#Culture#Everyday_life#Social_structure',\n",
    " b'List_of_World_Rally_Championship_records#Rallies#Closest_wins',\n",
    " b'Black_Canary_in_other_media#Live_Action#Arrow#Dinah_Drake',\n",
    " b'Chaotix#Members#Game_members#Espio_the_Chameleon',\n",
    " b'John_Bingham,_7th_Earl_of_Lucan#Personal_life##Marriage',\n",
    " b'Nicene_Creed#History#Comparison_between_creed_of_325_and_creed_of_381',\n",
    " b'Enlightenment_(spiritual)#Western_understanding#Experience',\n",
    " b'The_Duke_in_Darkness#Adaptations#1957_Australian_TV_adaptation',\n",
    " b'Jesus_in_Islam#Life##Second_coming',\n",
    " b'Ebisu,_Shibuya#Sightseeing_and_attractions#Yebisu_Garden_Place',\n",
    " b'List_of_Foreign_Ministers_of_Spain#First_Spanish_Republic_(1873-1874)#Ministers_of_State',\n",
    " b'The_Sun_(United_Kingdom)#Other_versions#The_Irish_Sun_and_The_Irish_Sun_on_Sunday',\n",
    " b'Predators_and_Prey#Part_I,_Harmonic_Divergence_(Issue#21)',\n",
    " b'Piala_Indonesia#History#Piala_Liga_(Amateur_Competition)',\n",
    " b'List_of_24_characters#24:_Live_Another_Day#CIA_London#Steve_Navarro',\n",
    " b'Johnston_Atoll#National_nuclear_weapon_test_site_1958-1963#Failures',\n",
    " b'The_Incredible_Hercules#\"Assault_on_New_Olympus\"_(Assault_on_New_Olympus_Prologue,#138-141)',\n",
    " b'2017%E2%80%9318_Basketball_Champions_League#Regular_season#Group_B',\n",
    " b'Minister_for_Home_Affairs_(Australia)#List_of_Ministers_for_Administrative#List_of_ministers_with_responsibilities_for_Australian_territories',\n",
    " b'Black_Fury_(comics)#Black_Fury#2_(Miss_Fury)',\n",
    " b\"Commissar#Variants#People's_CommissarPeople\",\n",
    " b'List_of_Cars_characters#\"Junior\"_#8',\n",
    " b'Education_in_Australia#School#Secondary',\n",
    " b'Global_surveillance_disclosures_(2013%E2%80%93present)#Reactions_of_political_leaders#Germany',\n",
    " b'GM_High_Feature_engine##LF1',\n",
    " b'2016%E2%80%9317_FIBA_Europe_Cup#Second_round#Group_K',\n",
    " b'Murder#Murder#Degrees_of_murder',\n",
    " b'Constitution_of_Estonia#History#First_Constitution_(1920\\\\xe2\\\\x80\\\\x931933)',\n",
    " b'List_of_24_characters#24:_Live_Another_Day#Open_Cell#Derrick_Yates',\n",
    " b'2018%E2%80%9319_UEFA_Champions_League##Group_stage',\n",
    " b'Bundeswehr#History#Cold_War_1955-1990',\n",
    " b'Ferrari_Dino_engine#V8#3.5',\n",
    " b'Military_discharge#United_States#Types_of_discharge#dishonorable',\n",
    " b'2005%E2%80%9306_Copa_del_Rey#Round_of_16#',\n",
    " b'List_of_24_characters#24:_Live_Another_Day#Drone_terrorist_plot#Ian_Al-Harazi',\n",
    " b'Denver_International_Airport_Automated_Guideway_Transit_System##History',\n",
    " b'List_of_24_characters#24:_Live_Another_Day#CIA_London#Erik_Ritter',\n",
    " b'Soul#Religious_views#Christianity',\n",
    " b'List_of_24_characters#24:_Live_Another_Day#Russian_Federation#Anatol_Stolnavich',\n",
    " b'Glenn_Miller_discography#Chesterfield_#2',\n",
    " b'KRIV_(TV)#Personalities#FOX_26_METEOROLOGISTS',\n",
    " b'1984_United_States_presidential_election#Republican_Party_candidates#Primaries',\n",
    " b'List_of_24_characters#24:_Live_Another_Day#CIA_London#Jordan_Reed',\n",
    " b'CITES#Appendices#Appendix_I',\n",
    " b'Second_law_of_thermodynamics#Description#Kelvin_statement',\n",
    " b'Trimix_(breathing_gas)#Mixes#Naming_conventions',\n",
    " b'Arc_lamp#Arc_lamp#History',\n",
    " b'13-Hydroxyoctadecadienoic_acid##Activities_of_13-HODEs',\n",
    " b'2011_Giro_d%27Italia#Stage_1_to_Stage_11#Death_of_Wouter_Weylandt',\n",
    " b'Pontiac_Solstice##GXP_(2007\\\\xe2\\\\x80\\\\x932009)',\n",
    " b'Asbestos_and_the_law#Future_of_civil_litigation#United_Kingdom',\n",
    " b'Turkic_mythology#Legends#Oghuz_legend',\n",
    " b'Android_version_history##v4.x_Ice_Cream_Sandwich',\n",
    " b'2010_Piala_Indonesia#Round_of_16#Group_11',\n",
    " b'List_of_24_characters#24:_Live_Another_Day#CIA_London#Gavin_Leonard',\n",
    " b'Direct3D#Direct3D_10#',\n",
    " b'2014%E2%80%9315_Copa_del_Rey#Round_of_32#First_Leg',\n",
    " b'Angela_Merkel#Early_political_career#Leader_of_the_Opposition',\n",
    " b'Copper_in_architecture#Applications#Wall_cladding',\n",
    " b'Batting_order_(baseball)##2',\n",
    " b'2014%E2%80%9315_Copa_del_Rey#Quarter-finals#Second_Leg',\n",
    " b'Chaotix#Members#Game_members#Vector_the_Crocodile',\n",
    " b'Hershey_Bears#Team_history#Modern_era',\n",
    " b'List_of_24_characters#United_Kingdom_officials,_employees,_and_associates#British_Prime_Minister_Alastair_Davies',\n",
    " b'2008_IAAF_World_Athletics_Final#Women#100_metres',\n",
    " b'Nikos_Karvelas#Personal_Discography#Albums',\n",
    " b'LaBeouf,_R%C3%B6nkk%C3%B6_%26_Turner##INTRODUCTIONS,_2015',\n",
    " b\"List_of_Grey%27s_Anatomy_episodes#Season_5:2008-2009#Here's_to_the_Future\",\n",
    " b'2008_Copa_Libertadores##Quarterfinals']"
   ]
  },
  {
   "cell_type": "code",
   "execution_count": 7,
   "metadata": {},
   "outputs": [
    {
     "data": {
      "text/plain": [
       "'https://en.wikipedia.org/wiki/Classification_in_the_Olympic_Games_Road_Race'"
      ]
     },
     "execution_count": 7,
     "metadata": {},
     "output_type": "execute_result"
    }
   ],
   "source": [
    "url = \"https://en.wikipedia.org/wiki/{}\".format(cs[404][0].decode())\n",
    "url"
   ]
  },
  {
   "cell_type": "code",
   "execution_count": 8,
   "metadata": {},
   "outputs": [
    {
     "data": {
      "text/plain": [
       "'https://en.wikipedia.org/wiki/Frankfort,_Kentucky#Geography#Climate'"
      ]
     },
     "execution_count": 8,
     "metadata": {},
     "output_type": "execute_result"
    }
   ],
   "source": [
    "url = \"https://en.wikipedia.org/wiki/{}\".format(cs[400][0].decode())\n",
    "url"
   ]
  },
  {
   "cell_type": "code",
   "execution_count": 12,
   "metadata": {},
   "outputs": [
    {
     "data": {
      "text/plain": [
       "'https://en.wikipedia.org/wiki/Lourdinha_Bittencourt'"
      ]
     },
     "execution_count": 12,
     "metadata": {},
     "output_type": "execute_result"
    }
   ],
   "source": [
    "url = \"https://en.wikipedia.org/wiki/{}\".format('Lourdinha_Bittencourt')\n",
    "url"
   ]
  },
  {
   "cell_type": "code",
   "execution_count": 15,
   "metadata": {},
   "outputs": [],
   "source": [
    "tests = [cs[404][0], cs[400][0], 'Lourdinha_Bittencourt']"
   ]
  },
  {
   "cell_type": "code",
   "execution_count": 18,
   "metadata": {},
   "outputs": [
    {
     "data": {
      "text/plain": [
       "b'Frankfort,_Kentucky#Geography#Climate'"
      ]
     },
     "execution_count": 18,
     "metadata": {},
     "output_type": "execute_result"
    }
   ],
   "source": [
    "cs[400][0]"
   ]
  },
  {
   "cell_type": "code",
   "execution_count": null,
   "metadata": {},
   "outputs": [],
   "source": []
  },
  {
   "cell_type": "code",
   "execution_count": 17,
   "metadata": {},
   "outputs": [
    {
     "data": {
      "text/plain": [
       "([{'href': '/wiki/Kentucky', 'title': 'Kentucky'},\n",
       "  {'href': '/wiki/Germany', 'title': 'Germany'},\n",
       "  {'href': '/wiki/Frankfurt', 'title': 'Frankfurt'},\n",
       "  {'href': '/wiki/List_of_capitals_in_the_United_States',\n",
       "   'title': 'List of capitals in the United States'},\n",
       "  {'href': '/wiki/List_of_cities_in_Kentucky',\n",
       "   'title': 'List of cities in Kentucky'},\n",
       "  {'href': '/wiki/Kentucky_State_Capitol', 'title': 'Kentucky State Capitol'},\n",
       "  {'href': '/wiki/National_Register_of_Historic_Places_listings_in_Franklin_County,_Kentucky',\n",
       "   'title': 'National Register of Historic Places listings in Franklin County, Kentucky'},\n",
       "  {'href': '/wiki/Geographic_coordinate_system',\n",
       "   'title': 'Geographic coordinate system'},\n",
       "  {'href': '/wiki/U.S._state', 'title': 'U.S. state'},\n",
       "  {'href': '/wiki/Kentucky', 'title': 'Kentucky'},\n",
       "  {'href': '/wiki/List_of_counties_in_Kentucky',\n",
       "   'title': 'List of counties in Kentucky'},\n",
       "  {'href': '/wiki/Franklin_County,_Kentucky',\n",
       "   'title': 'Franklin County, Kentucky'},\n",
       "  {'href': '/wiki/Municipal_corporation', 'title': 'Municipal corporation'},\n",
       "  {'href': '/wiki/Mayor', 'title': 'Mayor'},\n",
       "  {'href': '/wiki/2010_United_States_Census',\n",
       "   'title': '2010 United States Census'},\n",
       "  {'href': '/wiki/Time_zone', 'title': 'Time zone'},\n",
       "  {'href': '/wiki/Eastern_Time_Zone', 'title': 'Eastern Time Zone'},\n",
       "  {'href': '/wiki/Daylight_saving_time', 'title': 'Daylight saving time'},\n",
       "  {'href': '/wiki/ZIP_Code', 'title': 'ZIP Code'},\n",
       "  {'href': '/wiki/Telephone_numbering_plan',\n",
       "   'title': 'Telephone numbering plan'},\n",
       "  {'href': '/wiki/Area_code_502', 'title': 'Area code 502'},\n",
       "  {'href': '/wiki/Geographic_Names_Information_System',\n",
       "   'title': 'Geographic Names Information System'},\n",
       "  {'href': '/wiki/Capital_city', 'title': 'Capital city'},\n",
       "  {'href': '/wiki/Kentucky', 'title': 'Kentucky'},\n",
       "  {'href': '/wiki/County_seat', 'title': 'County seat'},\n",
       "  {'href': '/wiki/Franklin_County,_Kentucky',\n",
       "   'title': 'Franklin County, Kentucky'},\n",
       "  {'href': '/wiki/Kentucky', 'title': 'Kentucky'},\n",
       "  {'href': '/wiki/2010_United_States_Census',\n",
       "   'title': '2010 United States Census'},\n",
       "  {'href': '/wiki/Kentucky_River', 'title': 'Kentucky River'},\n",
       "  {'href': '/wiki/Anderson_County,_Kentucky',\n",
       "   'title': 'Anderson County, Kentucky'},\n",
       "  {'href': '/wiki/Lexington,_Kentucky', 'title': 'Lexington, Kentucky'},\n",
       "  {'href': '/wiki/Kentucky_River', 'title': 'Kentucky River'},\n",
       "  {'href': '/wiki/Elision', 'title': 'Elision'},\n",
       "  {'href': '/wiki/James_Wilkinson', 'title': 'James Wilkinson'},\n",
       "  {'href': '/wiki/Bourbon_County,_Kentucky',\n",
       "   'title': 'Bourbon County, Kentucky'},\n",
       "  {'href': '/wiki/Mason_County,_Kentucky', 'title': 'Mason County, Kentucky'},\n",
       "  {'href': '/wiki/Madison_County,_Kentucky',\n",
       "   'title': 'Madison County, Kentucky'},\n",
       "  {'href': '/wiki/Robert_Todd_(pioneer)', 'title': 'Robert Todd (pioneer)'},\n",
       "  {'href': '/wiki/Fayette_County,_Kentucky',\n",
       "   'title': 'Fayette County, Kentucky'},\n",
       "  {'href': '/wiki/Post_office', 'title': 'Post office'},\n",
       "  {'href': '/wiki/John_Brown_(Kentucky)', 'title': 'John Brown (Kentucky)'},\n",
       "  {'href': '/wiki/Continental_Congress', 'title': 'Continental Congress'},\n",
       "  {'href': '/wiki/Kentucky_General_Assembly',\n",
       "   'title': 'Kentucky General Assembly'},\n",
       "  {'href': '/wiki/Old_Governor%27s_Mansion_(Frankfort,_Kentucky)',\n",
       "   'title': \"Old Governor's Mansion (Frankfort, Kentucky)\"},\n",
       "  {'href': '/wiki/Gideon_Shryock', 'title': 'Gideon Shryock'},\n",
       "  {'href': '/wiki/Old_State_Capitol_(Kentucky)',\n",
       "   'title': 'Old State Capitol (Kentucky)'},\n",
       "  {'href': '/wiki/American_Civil_War', 'title': 'American Civil War'},\n",
       "  {'href': '/wiki/Fort_Hill_(Frankfort,_Kentucky)',\n",
       "   'title': 'Fort Hill (Frankfort, Kentucky)'},\n",
       "  {'href': '/wiki/William_Goebel', 'title': 'William Goebel'},\n",
       "  {'href': '/wiki/Kentucky_State_Capitol', 'title': 'Kentucky State Capitol'},\n",
       "  {'href': '/wiki/Caleb_Powers', 'title': 'Caleb Powers'},\n",
       "  {'href': '/wiki/WKYT-TV', 'title': 'WKYT-TV'},\n",
       "  {'href': '/wiki/Facebook', 'title': 'Facebook'},\n",
       "  {'href': '/wiki/List_of_whisky_brands#Kentucky_bourbons',\n",
       "   'title': 'List of whisky brands'},\n",
       "  {'href': '/wiki/Buffalo_Trace_Distillery',\n",
       "   'title': 'Buffalo Trace Distillery'},\n",
       "  {'href': '/wiki/Ancient_Age_(bourbon)', 'title': 'Ancient Age (bourbon)'},\n",
       "  {'href': '/wiki/Bluegrass_region', 'title': 'Bluegrass region'},\n",
       "  {'href': '/wiki/Kentucky_River', 'title': 'Kentucky River'},\n",
       "  {'href': '/wiki/United_States_Census_Bureau',\n",
       "   'title': 'United States Census Bureau'},\n",
       "  {'href': '/wiki/Blue_Grass_Airport', 'title': 'Blue Grass Airport'},\n",
       "  {'href': '/wiki/Lexington,_Kentucky', 'title': 'Lexington, Kentucky'},\n",
       "  {'href': '/wiki/Cincinnati/Northern_Kentucky_International_Airport',\n",
       "   'title': 'Cincinnati/Northern Kentucky International Airport'},\n",
       "  {'href': '/wiki/Covington,_Kentucky', 'title': 'Covington, Kentucky'},\n",
       "  {'href': '/wiki/Louisville_International_Airport',\n",
       "   'title': 'Louisville International Airport'},\n",
       "  {'href': '/wiki/Louisville,_Kentucky', 'title': 'Louisville, Kentucky'},\n",
       "  {'href': '/wiki/Capital_City_Airport_(Kentucky)',\n",
       "   'title': 'Capital City Airport (Kentucky)'},\n",
       "  {'href': '/wiki/Precipitation', 'title': 'Precipitation'},\n",
       "  {'href': '/wiki/1800_United_States_Census',\n",
       "   'title': '1800 United States Census'},\n",
       "  {'href': '/wiki/1810_United_States_Census',\n",
       "   'title': '1810 United States Census'},\n",
       "  {'href': '/wiki/1820_United_States_Census',\n",
       "   'title': '1820 United States Census'},\n",
       "  {'href': '/wiki/1830_United_States_Census',\n",
       "   'title': '1830 United States Census'},\n",
       "  {'href': '/wiki/1840_United_States_Census',\n",
       "   'title': '1840 United States Census'},\n",
       "  {'href': '/wiki/1850_United_States_Census',\n",
       "   'title': '1850 United States Census'},\n",
       "  {'href': '/wiki/1860_United_States_Census',\n",
       "   'title': '1860 United States Census'},\n",
       "  {'href': '/wiki/1870_United_States_Census',\n",
       "   'title': '1870 United States Census'},\n",
       "  {'href': '/wiki/1880_United_States_Census',\n",
       "   'title': '1880 United States Census'},\n",
       "  {'href': '/wiki/1890_United_States_Census',\n",
       "   'title': '1890 United States Census'},\n",
       "  {'href': '/wiki/1900_United_States_Census',\n",
       "   'title': '1900 United States Census'},\n",
       "  {'href': '/wiki/1910_United_States_Census',\n",
       "   'title': '1910 United States Census'},\n",
       "  {'href': '/wiki/1920_United_States_Census',\n",
       "   'title': '1920 United States Census'},\n",
       "  {'href': '/wiki/1930_United_States_Census',\n",
       "   'title': '1930 United States Census'},\n",
       "  {'href': '/wiki/1940_United_States_Census',\n",
       "   'title': '1940 United States Census'},\n",
       "  {'href': '/wiki/1950_United_States_Census',\n",
       "   'title': '1950 United States Census'},\n",
       "  {'href': '/wiki/1960_United_States_Census',\n",
       "   'title': '1960 United States Census'},\n",
       "  {'href': '/wiki/1970_United_States_Census',\n",
       "   'title': '1970 United States Census'},\n",
       "  {'href': '/wiki/1980_United_States_Census',\n",
       "   'title': '1980 United States Census'},\n",
       "  {'href': '/wiki/1990_United_States_Census',\n",
       "   'title': '1990 United States Census'},\n",
       "  {'href': '/wiki/2000_United_States_Census',\n",
       "   'title': '2000 United States Census'},\n",
       "  {'href': '/wiki/2010_United_States_Census',\n",
       "   'title': '2010 United States Census'},\n",
       "  {'href': '/wiki/2010_United_States_Census',\n",
       "   'title': '2010 United States Census'},\n",
       "  {'href': '/wiki/Population_density', 'title': 'Population density'},\n",
       "  {'href': '/wiki/Native_Americans_in_the_United_States',\n",
       "   'title': 'Native Americans in the United States'},\n",
       "  {'href': '/wiki/Race_and_ethnicity_in_the_United_States_Census#Race',\n",
       "   'title': 'Race and ethnicity in the United States Census'},\n",
       "  {'href': '/wiki/Hispanic_and_Latino_Americans',\n",
       "   'title': 'Hispanic and Latino Americans'},\n",
       "  {'href': '/wiki/Marriage', 'title': 'Marriage'},\n",
       "  {'href': '/wiki/Per_capita_income', 'title': 'Per capita income'},\n",
       "  {'href': '/wiki/Franklin_County,_Kentucky',\n",
       "   'title': 'Franklin County, Kentucky'},\n",
       "  {'href': '/wiki/Lawrenceburg,_Kentucky', 'title': 'Lawrenceburg, Kentucky'},\n",
       "  {'href': '/wiki/Anderson_County,_Kentucky',\n",
       "   'title': 'Anderson County, Kentucky'},\n",
       "  {'href': '/wiki/Combined_statistical_area',\n",
       "   'title': 'Combined statistical area'},\n",
       "  {'href': '/wiki/Richmond,_Kentucky', 'title': 'Richmond, Kentucky'},\n",
       "  {'href': '/wiki/Disc_golf', 'title': 'Disc golf'},\n",
       "  {'href': '/wiki/Kentucky_State_University',\n",
       "   'title': 'Kentucky State University'},\n",
       "  {'href': '/wiki/School_district', 'title': 'School district'},\n",
       "  {'href': '/wiki/Frankfort_High_School_(Kentucky)',\n",
       "   'title': 'Frankfort High School (Kentucky)'},\n",
       "  {'href': '/wiki/Franklin_County_High_School_(Kentucky)',\n",
       "   'title': 'Franklin County High School (Kentucky)'},\n",
       "  {'href': '/wiki/Western_Hills_High_School_(Frankfort,_Kentucky)',\n",
       "   'title': 'Western Hills High School (Frankfort, Kentucky)'},\n",
       "  {'href': '/wiki/William_Wirt_Adams', 'title': 'William Wirt Adams'},\n",
       "  {'href': '/wiki/Thomas_Carlin', 'title': 'Thomas Carlin'},\n",
       "  {'href': '/wiki/Will_Chase', 'title': 'Will Chase'},\n",
       "  {'href': '/wiki/Nashville_(2012_TV_series)',\n",
       "   'title': 'Nashville (2012 TV series)'},\n",
       "  {'href': '/wiki/Elijah_Craig', 'title': 'Elijah Craig'},\n",
       "  {'href': '/wiki/Tim_Farmer', 'title': 'Tim Farmer'},\n",
       "  {'href': '/wiki/Kentucky_Afield', 'title': 'Kentucky Afield'},\n",
       "  {'href': '/wiki/John_Marshall_Harlan', 'title': 'John Marshall Harlan'},\n",
       "  {'href': '/wiki/Miss_Elizabeth', 'title': 'Miss Elizabeth'},\n",
       "  {'href': '/wiki/Grover_Land', 'title': 'Grover Land'},\n",
       "  {'href': '/wiki/Archer_Prewitt', 'title': 'Archer Prewitt'},\n",
       "  {'href': '/wiki/Paul_Sawyier', 'title': 'Paul Sawyier'},\n",
       "  {'href': '/wiki/Landon_Addison_Thomas', 'title': 'Landon Addison Thomas'},\n",
       "  {'href': '/wiki/George_Graham_Vest', 'title': 'George Graham Vest'},\n",
       "  {'href': '/wiki/George_C._Wolfe', 'title': 'George C. Wolfe'},\n",
       "  {'href': '/wiki/Shimamoto,_Osaka', 'title': 'Shimamoto, Osaka'},\n",
       "  {'href': '/wiki/Osaka_Prefecture', 'title': 'Osaka Prefecture'},\n",
       "  {'href': '/wiki/Japan', 'title': 'Japan'},\n",
       "  {'href': '/wiki/Kentucky_Governor%27s_Mansion',\n",
       "   'title': \"Kentucky Governor's Mansion\"},\n",
       "  {'href': '/wiki/Floral_clock_(Frankfort,_Kentucky)',\n",
       "   'title': 'Floral clock (Frankfort, Kentucky)'},\n",
       "  {'href': '/wiki/Daniel_Boone', 'title': 'Daniel Boone'},\n",
       "  {'href': '/wiki/Frankfort_Cemetery', 'title': 'Frankfort Cemetery'},\n",
       "  {'href': '/wiki/Buffalo_Trace_Distillery',\n",
       "   'title': 'Buffalo Trace Distillery'},\n",
       "  {'href': '/wiki/International_Standard_Book_Number',\n",
       "   'title': 'International Standard Book Number'},\n",
       "  {'href': '/wiki/National_Oceanic_and_Atmospheric_Administration',\n",
       "   'title': 'National Oceanic and Atmospheric Administration'},\n",
       "  {'href': '/wiki/United_States_Census_Bureau',\n",
       "   'title': 'United States Census Bureau'},\n",
       "  {'href': '/wiki/Frankfort,_Kentucky#Geography#Climate',\n",
       "   'title': 'Frankfort, Kentucky'},\n",
       "  {'href': '/wiki/Frankfort,_Kentucky#Demographics',\n",
       "   'title': 'Frankfort, Kentucky'},\n",
       "  {'href': '/wiki/Frankfort,_Kentucky#Education',\n",
       "   'title': 'Frankfort, Kentucky'},\n",
       "  {'href': '/wiki/Frankfort,_Kentucky#Geography',\n",
       "   'title': 'Frankfort, Kentucky'},\n",
       "  {'href': '/wiki/Frankfort,_Kentucky#History',\n",
       "   'title': 'Frankfort, Kentucky'},\n",
       "  {'href': '/wiki/Frankfort,_Kentucky#Notable_residents',\n",
       "   'title': 'Frankfort, Kentucky'},\n",
       "  {'href': '/wiki/Frankfort,_Kentucky#Sister_cities',\n",
       "   'title': 'Frankfort, Kentucky'},\n",
       "  {'href': '/wiki/Buffalo_Trace_Distillery',\n",
       "   'title': 'Buffalo Trace Distillery'},\n",
       "  {'href': '/wiki/Floral_clock_(Frankfort,_Kentucky)',\n",
       "   'title': 'Floral clock (Frankfort, Kentucky)'},\n",
       "  {'href': '/wiki/Frankfort_Cemetery', 'title': 'Frankfort Cemetery'},\n",
       "  {'href': '/wiki/Frankfort_Convention_Center',\n",
       "   'title': 'Frankfort Convention Center'},\n",
       "  {'href': '/wiki/Kentucky_Governor%27s_Mansion',\n",
       "   'title': \"Kentucky Governor's Mansion\"},\n",
       "  {'href': '/wiki/Kentucky_State_Capitol', 'title': 'Kentucky State Capitol'},\n",
       "  {'href': '/wiki/Kentucky_State_University',\n",
       "   'title': 'Kentucky State University'},\n",
       "  {'href': '/wiki/Kentucky_Vietnam_Veterans_Memorial',\n",
       "   'title': 'Kentucky Vietnam Veterans Memorial'},\n",
       "  {'href': '/wiki/Liberty_Hall_(Frankfort,_Kentucky)',\n",
       "   'title': 'Liberty Hall (Frankfort, Kentucky)'},\n",
       "  {'href': '/wiki/Georgetown,_Kentucky', 'title': 'Georgetown, Kentucky'},\n",
       "  {'href': '/wiki/Lawrenceburg,_Kentucky', 'title': 'Lawrenceburg, Kentucky'},\n",
       "  {'href': '/wiki/Midway,_Kentucky', 'title': 'Midway, Kentucky'},\n",
       "  {'href': '/wiki/Shelbyville,_Kentucky', 'title': 'Shelbyville, Kentucky'},\n",
       "  {'href': '/wiki/Versailles,_Kentucky', 'title': 'Versailles, Kentucky'},\n",
       "  {'href': '/wiki/Franklin_County,_Kentucky',\n",
       "   'title': 'Franklin County, Kentucky'},\n",
       "  {'href': '/wiki/County_seat', 'title': 'County seat'},\n",
       "  {'href': '/wiki/City', 'title': 'City'},\n",
       "  {'href': '/wiki/Unincorporated_area', 'title': 'Unincorporated area'},\n",
       "  {'href': '/wiki/Big_Eddy,_Kentucky', 'title': 'Big Eddy, Kentucky'},\n",
       "  {'href': '/wiki/Bridgeport,_Kentucky', 'title': 'Bridgeport, Kentucky'},\n",
       "  {'href': '/wiki/Flag_Fork,_Kentucky', 'title': 'Flag Fork, Kentucky'},\n",
       "  {'href': '/wiki/Harvieland,_Kentucky', 'title': 'Harvieland, Kentucky'},\n",
       "  {'href': '/wiki/Honeysuckle,_Kentucky', 'title': 'Honeysuckle, Kentucky'},\n",
       "  {'href': '/wiki/Jett,_Kentucky', 'title': 'Jett, Kentucky'},\n",
       "  {'href': '/wiki/Knights,_Kentucky', 'title': 'Knights, Kentucky'},\n",
       "  {'href': '/wiki/Polsgrove,_Kentucky', 'title': 'Polsgrove, Kentucky'},\n",
       "  {'href': '/wiki/Spaghetti_Junction,_Kentucky',\n",
       "   'title': 'Spaghetti Junction, Kentucky'},\n",
       "  {'href': '/wiki/Swallowfield,_Kentucky', 'title': 'Swallowfield, Kentucky'},\n",
       "  {'href': '/wiki/Switzer,_Kentucky', 'title': 'Switzer, Kentucky'},\n",
       "  {'href': '/wiki/Commonwealth_(U.S._state)',\n",
       "   'title': 'Commonwealth (U.S. state)'},\n",
       "  {'href': '/wiki/Kentucky', 'title': 'Kentucky'},\n",
       "  {'href': '/wiki/Outline_of_Kentucky', 'title': 'Outline of Kentucky'},\n",
       "  {'href': '/wiki/Index_of_Kentucky-related_articles',\n",
       "   'title': 'Index of Kentucky-related articles'},\n",
       "  {'href': '/wiki/Cuisine_of_Kentucky', 'title': 'Cuisine of Kentucky'},\n",
       "  {'href': '/wiki/Kentucky#Geography', 'title': 'Kentucky'},\n",
       "  {'href': '/wiki/History_of_Kentucky', 'title': 'History of Kentucky'},\n",
       "  {'href': '/wiki/Music_of_Kentucky', 'title': 'Music of Kentucky'},\n",
       "  {'href': '/wiki/List_of_newspapers_in_Kentucky',\n",
       "   'title': 'List of newspapers in Kentucky'},\n",
       "  {'href': '/wiki/List_of_radio_stations_in_Kentucky',\n",
       "   'title': 'List of radio stations in Kentucky'},\n",
       "  {'href': '/wiki/List_of_television_stations_in_Kentucky',\n",
       "   'title': 'List of television stations in Kentucky'},\n",
       "  {'href': '/wiki/List_of_people_from_Kentucky',\n",
       "   'title': 'List of people from Kentucky'},\n",
       "  {'href': '/wiki/List_of_Kentucky_state_symbols',\n",
       "   'title': 'List of Kentucky state symbols'},\n",
       "  {'href': '/wiki/Seal_of_Kentucky', 'title': 'Seal of Kentucky'},\n",
       "  {'href': '/wiki/Flag_of_Kentucky', 'title': 'Flag of Kentucky'},\n",
       "  {'href': '/wiki/Transportation_in_Kentucky',\n",
       "   'title': 'Transportation in Kentucky'},\n",
       "  {'href': '/wiki/Index_of_Kentucky-related_articles',\n",
       "   'title': 'Index of Kentucky-related articles'},\n",
       "  {'href': '/wiki/Seal_of_Kentucky', 'title': 'Seal of Kentucky'},\n",
       "  {'href': '/wiki/Culture_of_Kentucky', 'title': 'Culture of Kentucky'},\n",
       "  {'href': '/wiki/Crime_in_Kentucky', 'title': 'Crime in Kentucky'},\n",
       "  {'href': '/wiki/Demographics_of_Kentucky',\n",
       "   'title': 'Demographics of Kentucky'},\n",
       "  {'href': '/wiki/Kentucky#Economy', 'title': 'Kentucky'},\n",
       "  {'href': '/wiki/Education_in_Kentucky', 'title': 'Education in Kentucky'},\n",
       "  {'href': '/wiki/Political_party_strength_in_Kentucky',\n",
       "   'title': 'Political party strength in Kentucky'},\n",
       "  {'href': '/wiki/Sports_in_Kentucky', 'title': 'Sports in Kentucky'},\n",
       "  {'href': '/wiki/List_of_regions_of_the_United_States#Kentucky',\n",
       "   'title': 'List of regions of the United States'},\n",
       "  {'href': '/wiki/Allegheny_Plateau', 'title': 'Allegheny Plateau'},\n",
       "  {'href': '/wiki/Bluegrass_region', 'title': 'Bluegrass region'},\n",
       "  {'href': '/wiki/Cumberland_Mountains', 'title': 'Cumberland Mountains'},\n",
       "  {'href': '/wiki/Cumberland_Plateau', 'title': 'Cumberland Plateau'},\n",
       "  {'href': '/wiki/Eastern_Kentucky_Coalfield',\n",
       "   'title': 'Eastern Kentucky Coalfield'},\n",
       "  {'href': '/wiki/Highland_Rim', 'title': 'Highland Rim'},\n",
       "  {'href': '/wiki/Knobs_region', 'title': 'Knobs region'},\n",
       "  {'href': '/wiki/Mississippi_Alluvial_Plain',\n",
       "   'title': 'Mississippi Alluvial Plain'},\n",
       "  {'href': '/wiki/Northern_Kentucky', 'title': 'Northern Kentucky'},\n",
       "  {'href': '/wiki/Pennyroyal_Plateau', 'title': 'Pennyroyal Plateau'},\n",
       "  {'href': '/wiki/Jackson_Purchase', 'title': 'Jackson Purchase'},\n",
       "  {'href': '/wiki/Ridge-and-Valley_Appalachians',\n",
       "   'title': 'Ridge-and-Valley Appalachians'},\n",
       "  {'href': '/wiki/Tennessee_Valley', 'title': 'Tennessee Valley'},\n",
       "  {'href': '/wiki/List_of_cities_in_Kentucky',\n",
       "   'title': 'List of cities in Kentucky'},\n",
       "  {'href': '/wiki/Louisville,_Kentucky', 'title': 'Louisville, Kentucky'},\n",
       "  {'href': '/wiki/Lexington,_Kentucky', 'title': 'Lexington, Kentucky'},\n",
       "  {'href': '/wiki/Bowling_Green,_Kentucky',\n",
       "   'title': 'Bowling Green, Kentucky'},\n",
       "  {'href': '/wiki/Owensboro,_Kentucky', 'title': 'Owensboro, Kentucky'},\n",
       "  {'href': '/wiki/Covington,_Kentucky', 'title': 'Covington, Kentucky'},\n",
       "  {'href': '/wiki/Richmond,_Kentucky', 'title': 'Richmond, Kentucky'},\n",
       "  {'href': '/wiki/Georgetown,_Kentucky', 'title': 'Georgetown, Kentucky'},\n",
       "  {'href': '/wiki/Florence,_Kentucky', 'title': 'Florence, Kentucky'},\n",
       "  {'href': '/wiki/Hopkinsville,_Kentucky', 'title': 'Hopkinsville, Kentucky'},\n",
       "  {'href': '/wiki/Nicholasville,_Kentucky',\n",
       "   'title': 'Nicholasville, Kentucky'},\n",
       "  {'href': '/wiki/Elizabethtown,_Kentucky',\n",
       "   'title': 'Elizabethtown, Kentucky'},\n",
       "  {'href': '/wiki/Henderson,_Kentucky', 'title': 'Henderson, Kentucky'},\n",
       "  {'href': '/wiki/Independence,_Kentucky', 'title': 'Independence, Kentucky'},\n",
       "  {'href': '/wiki/Jeffersontown,_Kentucky',\n",
       "   'title': 'Jeffersontown, Kentucky'},\n",
       "  {'href': '/wiki/Paducah,_Kentucky', 'title': 'Paducah, Kentucky'},\n",
       "  {'href': '/wiki/Radcliff,_Kentucky', 'title': 'Radcliff, Kentucky'},\n",
       "  {'href': '/wiki/Ashland,_Kentucky', 'title': 'Ashland, Kentucky'},\n",
       "  {'href': '/wiki/Murray,_Kentucky', 'title': 'Murray, Kentucky'},\n",
       "  {'href': '/wiki/Madisonville,_Kentucky', 'title': 'Madisonville, Kentucky'},\n",
       "  {'href': '/wiki/Erlanger,_Kentucky', 'title': 'Erlanger, Kentucky'},\n",
       "  {'href': '/wiki/Winchester,_Kentucky', 'title': 'Winchester, Kentucky'},\n",
       "  {'href': '/wiki/St._Matthews,_Kentucky', 'title': 'St. Matthews, Kentucky'},\n",
       "  {'href': '/wiki/Danville,_Kentucky', 'title': 'Danville, Kentucky'},\n",
       "  {'href': '/wiki/Fort_Thomas,_Kentucky', 'title': 'Fort Thomas, Kentucky'},\n",
       "  {'href': '/wiki/List_of_metropolitan_statistical_areas',\n",
       "   'title': 'List of metropolitan statistical areas'},\n",
       "  {'href': '/wiki/Huntington%E2%80%93Ashland_metropolitan_area',\n",
       "   'title': 'Huntington–Ashland metropolitan area'},\n",
       "  {'href': '/wiki/Clarksville_metropolitan_area',\n",
       "   'title': 'Clarksville metropolitan area'},\n",
       "  {'href': '/wiki/Elizabethtown_metropolitan_area',\n",
       "   'title': 'Elizabethtown metropolitan area'},\n",
       "  {'href': '/wiki/Evansville_metropolitan_area',\n",
       "   'title': 'Evansville metropolitan area'},\n",
       "  {'href': '/wiki/Lexington%E2%80%93Fayette_metropolitan_area',\n",
       "   'title': 'Lexington–Fayette metropolitan area'},\n",
       "  {'href': '/wiki/Louisville_metropolitan_area',\n",
       "   'title': 'Louisville metropolitan area'},\n",
       "  {'href': '/wiki/Cincinnati_metropolitan_area',\n",
       "   'title': 'Cincinnati metropolitan area'},\n",
       "  {'href': '/wiki/List_of_counties_in_Kentucky',\n",
       "   'title': 'List of counties in Kentucky'},\n",
       "  {'href': '/wiki/Adair_County,_Kentucky', 'title': 'Adair County, Kentucky'},\n",
       "  {'href': '/wiki/Allen_County,_Kentucky', 'title': 'Allen County, Kentucky'},\n",
       "  {'href': '/wiki/Anderson_County,_Kentucky',\n",
       "   'title': 'Anderson County, Kentucky'},\n",
       "  {'href': '/wiki/Ballard_County,_Kentucky',\n",
       "   'title': 'Ballard County, Kentucky'},\n",
       "  {'href': '/wiki/Barren_County,_Kentucky',\n",
       "   'title': 'Barren County, Kentucky'},\n",
       "  {'href': '/wiki/Bath_County,_Kentucky', 'title': 'Bath County, Kentucky'},\n",
       "  {'href': '/wiki/Bell_County,_Kentucky', 'title': 'Bell County, Kentucky'},\n",
       "  {'href': '/wiki/Boone_County,_Kentucky', 'title': 'Boone County, Kentucky'},\n",
       "  {'href': '/wiki/Bourbon_County,_Kentucky',\n",
       "   'title': 'Bourbon County, Kentucky'},\n",
       "  {'href': '/wiki/Boyd_County,_Kentucky', 'title': 'Boyd County, Kentucky'},\n",
       "  {'href': '/wiki/Boyle_County,_Kentucky', 'title': 'Boyle County, Kentucky'},\n",
       "  {'href': '/wiki/Bracken_County,_Kentucky',\n",
       "   'title': 'Bracken County, Kentucky'},\n",
       "  {'href': '/wiki/Breathitt_County,_Kentucky',\n",
       "   'title': 'Breathitt County, Kentucky'},\n",
       "  {'href': '/wiki/Breckinridge_County,_Kentucky',\n",
       "   'title': 'Breckinridge County, Kentucky'},\n",
       "  {'href': '/wiki/Bullitt_County,_Kentucky',\n",
       "   'title': 'Bullitt County, Kentucky'},\n",
       "  {'href': '/wiki/Butler_County,_Kentucky',\n",
       "   'title': 'Butler County, Kentucky'},\n",
       "  {'href': '/wiki/Caldwell_County,_Kentucky',\n",
       "   'title': 'Caldwell County, Kentucky'},\n",
       "  {'href': '/wiki/Calloway_County,_Kentucky',\n",
       "   'title': 'Calloway County, Kentucky'},\n",
       "  {'href': '/wiki/Campbell_County,_Kentucky',\n",
       "   'title': 'Campbell County, Kentucky'},\n",
       "  {'href': '/wiki/Carlisle_County,_Kentucky',\n",
       "   'title': 'Carlisle County, Kentucky'},\n",
       "  {'href': '/wiki/Carroll_County,_Kentucky',\n",
       "   'title': 'Carroll County, Kentucky'},\n",
       "  {'href': '/wiki/Carter_County,_Kentucky',\n",
       "   'title': 'Carter County, Kentucky'},\n",
       "  {'href': '/wiki/Casey_County,_Kentucky', 'title': 'Casey County, Kentucky'},\n",
       "  {'href': '/wiki/Christian_County,_Kentucky',\n",
       "   'title': 'Christian County, Kentucky'},\n",
       "  {'href': '/wiki/Clark_County,_Kentucky', 'title': 'Clark County, Kentucky'},\n",
       "  {'href': '/wiki/Clay_County,_Kentucky', 'title': 'Clay County, Kentucky'},\n",
       "  {'href': '/wiki/Clinton_County,_Kentucky',\n",
       "   'title': 'Clinton County, Kentucky'},\n",
       "  {'href': '/wiki/Crittenden_County,_Kentucky',\n",
       "   'title': 'Crittenden County, Kentucky'},\n",
       "  {'href': '/wiki/Cumberland_County,_Kentucky',\n",
       "   'title': 'Cumberland County, Kentucky'},\n",
       "  {'href': '/wiki/Daviess_County,_Kentucky',\n",
       "   'title': 'Daviess County, Kentucky'},\n",
       "  {'href': '/wiki/Edmonson_County,_Kentucky',\n",
       "   'title': 'Edmonson County, Kentucky'},\n",
       "  {'href': '/wiki/Elliott_County,_Kentucky',\n",
       "   'title': 'Elliott County, Kentucky'},\n",
       "  {'href': '/wiki/Estill_County,_Kentucky',\n",
       "   'title': 'Estill County, Kentucky'},\n",
       "  {'href': '/wiki/Fayette_County,_Kentucky',\n",
       "   'title': 'Fayette County, Kentucky'},\n",
       "  {'href': '/wiki/Fleming_County,_Kentucky',\n",
       "   'title': 'Fleming County, Kentucky'},\n",
       "  {'href': '/wiki/Floyd_County,_Kentucky', 'title': 'Floyd County, Kentucky'},\n",
       "  {'href': '/wiki/Franklin_County,_Kentucky',\n",
       "   'title': 'Franklin County, Kentucky'},\n",
       "  {'href': '/wiki/Fulton_County,_Kentucky',\n",
       "   'title': 'Fulton County, Kentucky'},\n",
       "  {'href': '/wiki/Gallatin_County,_Kentucky',\n",
       "   'title': 'Gallatin County, Kentucky'},\n",
       "  {'href': '/wiki/Garrard_County,_Kentucky',\n",
       "   'title': 'Garrard County, Kentucky'},\n",
       "  {'href': '/wiki/Grant_County,_Kentucky', 'title': 'Grant County, Kentucky'},\n",
       "  {'href': '/wiki/Graves_County,_Kentucky',\n",
       "   'title': 'Graves County, Kentucky'},\n",
       "  {'href': '/wiki/Grayson_County,_Kentucky',\n",
       "   'title': 'Grayson County, Kentucky'},\n",
       "  {'href': '/wiki/Green_County,_Kentucky', 'title': 'Green County, Kentucky'},\n",
       "  {'href': '/wiki/Greenup_County,_Kentucky',\n",
       "   'title': 'Greenup County, Kentucky'},\n",
       "  {'href': '/wiki/Hancock_County,_Kentucky',\n",
       "   'title': 'Hancock County, Kentucky'},\n",
       "  {'href': '/wiki/Hardin_County,_Kentucky',\n",
       "   'title': 'Hardin County, Kentucky'},\n",
       "  {'href': '/wiki/Harlan_County,_Kentucky',\n",
       "   'title': 'Harlan County, Kentucky'},\n",
       "  {'href': '/wiki/Harrison_County,_Kentucky',\n",
       "   'title': 'Harrison County, Kentucky'},\n",
       "  {'href': '/wiki/Hart_County,_Kentucky', 'title': 'Hart County, Kentucky'},\n",
       "  {'href': '/wiki/Henderson_County,_Kentucky',\n",
       "   'title': 'Henderson County, Kentucky'},\n",
       "  {'href': '/wiki/Henry_County,_Kentucky', 'title': 'Henry County, Kentucky'},\n",
       "  {'href': '/wiki/Hickman_County,_Kentucky',\n",
       "   'title': 'Hickman County, Kentucky'},\n",
       "  {'href': '/wiki/Hopkins_County,_Kentucky',\n",
       "   'title': 'Hopkins County, Kentucky'},\n",
       "  {'href': '/wiki/Jackson_County,_Kentucky',\n",
       "   'title': 'Jackson County, Kentucky'},\n",
       "  {'href': '/wiki/Jefferson_County,_Kentucky',\n",
       "   'title': 'Jefferson County, Kentucky'},\n",
       "  {'href': '/wiki/Jessamine_County,_Kentucky',\n",
       "   'title': 'Jessamine County, Kentucky'},\n",
       "  {'href': '/wiki/Johnson_County,_Kentucky',\n",
       "   'title': 'Johnson County, Kentucky'},\n",
       "  {'href': '/wiki/Kenton_County,_Kentucky',\n",
       "   'title': 'Kenton County, Kentucky'},\n",
       "  {'href': '/wiki/Knott_County,_Kentucky', 'title': 'Knott County, Kentucky'},\n",
       "  {'href': '/wiki/Knox_County,_Kentucky', 'title': 'Knox County, Kentucky'},\n",
       "  {'href': '/wiki/LaRue_County,_Kentucky', 'title': 'LaRue County, Kentucky'},\n",
       "  {'href': '/wiki/Laurel_County,_Kentucky',\n",
       "   'title': 'Laurel County, Kentucky'},\n",
       "  {'href': '/wiki/Lawrence_County,_Kentucky',\n",
       "   'title': 'Lawrence County, Kentucky'},\n",
       "  {'href': '/wiki/Lee_County,_Kentucky', 'title': 'Lee County, Kentucky'},\n",
       "  {'href': '/wiki/Leslie_County,_Kentucky',\n",
       "   'title': 'Leslie County, Kentucky'},\n",
       "  {'href': '/wiki/Letcher_County,_Kentucky',\n",
       "   'title': 'Letcher County, Kentucky'},\n",
       "  {'href': '/wiki/Lewis_County,_Kentucky', 'title': 'Lewis County, Kentucky'},\n",
       "  {'href': '/wiki/Lincoln_County,_Kentucky',\n",
       "   'title': 'Lincoln County, Kentucky'},\n",
       "  {'href': '/wiki/Livingston_County,_Kentucky',\n",
       "   'title': 'Livingston County, Kentucky'},\n",
       "  {'href': '/wiki/Logan_County,_Kentucky', 'title': 'Logan County, Kentucky'},\n",
       "  {'href': '/wiki/Lyon_County,_Kentucky', 'title': 'Lyon County, Kentucky'},\n",
       "  {'href': '/wiki/Madison_County,_Kentucky',\n",
       "   'title': 'Madison County, Kentucky'},\n",
       "  {'href': '/wiki/Magoffin_County,_Kentucky',\n",
       "   'title': 'Magoffin County, Kentucky'},\n",
       "  {'href': '/wiki/Marion_County,_Kentucky',\n",
       "   'title': 'Marion County, Kentucky'},\n",
       "  {'href': '/wiki/Marshall_County,_Kentucky',\n",
       "   'title': 'Marshall County, Kentucky'},\n",
       "  {'href': '/wiki/Martin_County,_Kentucky',\n",
       "   'title': 'Martin County, Kentucky'},\n",
       "  {'href': '/wiki/Mason_County,_Kentucky', 'title': 'Mason County, Kentucky'},\n",
       "  {'href': '/wiki/McCracken_County,_Kentucky',\n",
       "   'title': 'McCracken County, Kentucky'},\n",
       "  {'href': '/wiki/McCreary_County,_Kentucky',\n",
       "   'title': 'McCreary County, Kentucky'},\n",
       "  {'href': '/wiki/McLean_County,_Kentucky',\n",
       "   'title': 'McLean County, Kentucky'},\n",
       "  {'href': '/wiki/Meade_County,_Kentucky', 'title': 'Meade County, Kentucky'},\n",
       "  {'href': '/wiki/Menifee_County,_Kentucky',\n",
       "   'title': 'Menifee County, Kentucky'},\n",
       "  {'href': '/wiki/Mercer_County,_Kentucky',\n",
       "   'title': 'Mercer County, Kentucky'},\n",
       "  {'href': '/wiki/Metcalfe_County,_Kentucky',\n",
       "   'title': 'Metcalfe County, Kentucky'},\n",
       "  {'href': '/wiki/Monroe_County,_Kentucky',\n",
       "   'title': 'Monroe County, Kentucky'},\n",
       "  {'href': '/wiki/Montgomery_County,_Kentucky',\n",
       "   'title': 'Montgomery County, Kentucky'},\n",
       "  {'href': '/wiki/Morgan_County,_Kentucky',\n",
       "   'title': 'Morgan County, Kentucky'},\n",
       "  {'href': '/wiki/Muhlenberg_County,_Kentucky',\n",
       "   'title': 'Muhlenberg County, Kentucky'},\n",
       "  {'href': '/wiki/Nelson_County,_Kentucky',\n",
       "   'title': 'Nelson County, Kentucky'},\n",
       "  {'href': '/wiki/Nicholas_County,_Kentucky',\n",
       "   'title': 'Nicholas County, Kentucky'},\n",
       "  {'href': '/wiki/Ohio_County,_Kentucky', 'title': 'Ohio County, Kentucky'},\n",
       "  {'href': '/wiki/Oldham_County,_Kentucky',\n",
       "   'title': 'Oldham County, Kentucky'},\n",
       "  {'href': '/wiki/Owen_County,_Kentucky', 'title': 'Owen County, Kentucky'},\n",
       "  {'href': '/wiki/Owsley_County,_Kentucky',\n",
       "   'title': 'Owsley County, Kentucky'},\n",
       "  {'href': '/wiki/Pendleton_County,_Kentucky',\n",
       "   'title': 'Pendleton County, Kentucky'},\n",
       "  {'href': '/wiki/Perry_County,_Kentucky', 'title': 'Perry County, Kentucky'},\n",
       "  {'href': '/wiki/Pike_County,_Kentucky', 'title': 'Pike County, Kentucky'},\n",
       "  {'href': '/wiki/Powell_County,_Kentucky',\n",
       "   'title': 'Powell County, Kentucky'},\n",
       "  {'href': '/wiki/Pulaski_County,_Kentucky',\n",
       "   'title': 'Pulaski County, Kentucky'},\n",
       "  {'href': '/wiki/Robertson_County,_Kentucky',\n",
       "   'title': 'Robertson County, Kentucky'},\n",
       "  {'href': '/wiki/Rockcastle_County,_Kentucky',\n",
       "   'title': 'Rockcastle County, Kentucky'},\n",
       "  {'href': '/wiki/Rowan_County,_Kentucky', 'title': 'Rowan County, Kentucky'},\n",
       "  {'href': '/wiki/Russell_County,_Kentucky',\n",
       "   'title': 'Russell County, Kentucky'},\n",
       "  {'href': '/wiki/Scott_County,_Kentucky', 'title': 'Scott County, Kentucky'},\n",
       "  {'href': '/wiki/Shelby_County,_Kentucky',\n",
       "   'title': 'Shelby County, Kentucky'},\n",
       "  {'href': '/wiki/Simpson_County,_Kentucky',\n",
       "   'title': 'Simpson County, Kentucky'},\n",
       "  {'href': '/wiki/Spencer_County,_Kentucky',\n",
       "   'title': 'Spencer County, Kentucky'},\n",
       "  {'href': '/wiki/Taylor_County,_Kentucky',\n",
       "   'title': 'Taylor County, Kentucky'},\n",
       "  {'href': '/wiki/Todd_County,_Kentucky', 'title': 'Todd County, Kentucky'},\n",
       "  {'href': '/wiki/Trigg_County,_Kentucky', 'title': 'Trigg County, Kentucky'},\n",
       "  {'href': '/wiki/Trimble_County,_Kentucky',\n",
       "   'title': 'Trimble County, Kentucky'},\n",
       "  {'href': '/wiki/Union_County,_Kentucky', 'title': 'Union County, Kentucky'},\n",
       "  {'href': '/wiki/Warren_County,_Kentucky',\n",
       "   'title': 'Warren County, Kentucky'},\n",
       "  {'href': '/wiki/Washington_County,_Kentucky',\n",
       "   'title': 'Washington County, Kentucky'},\n",
       "  {'href': '/wiki/Wayne_County,_Kentucky', 'title': 'Wayne County, Kentucky'},\n",
       "  {'href': '/wiki/Webster_County,_Kentucky',\n",
       "   'title': 'Webster County, Kentucky'},\n",
       "  {'href': '/wiki/Whitley_County,_Kentucky',\n",
       "   'title': 'Whitley County, Kentucky'},\n",
       "  {'href': '/wiki/Wolfe_County,_Kentucky', 'title': 'Wolfe County, Kentucky'},\n",
       "  {'href': '/wiki/Woodford_County,_Kentucky',\n",
       "   'title': 'Woodford County, Kentucky'},\n",
       "  {'href': '/wiki/Kentucky', 'title': 'Kentucky'},\n",
       "  {'href': '/wiki/Albany,_Kentucky', 'title': 'Albany, Kentucky'},\n",
       "  {'href': '/wiki/Alexandria,_Kentucky', 'title': 'Alexandria, Kentucky'},\n",
       "  {'href': '/wiki/Barbourville,_Kentucky', 'title': 'Barbourville, Kentucky'},\n",
       "  {'href': '/wiki/Bardstown,_Kentucky', 'title': 'Bardstown, Kentucky'},\n",
       "  {'href': '/wiki/Bardwell,_Kentucky', 'title': 'Bardwell, Kentucky'},\n",
       "  {'href': '/wiki/Beattyville,_Kentucky', 'title': 'Beattyville, Kentucky'},\n",
       "  {'href': '/wiki/Bedford,_Kentucky', 'title': 'Bedford, Kentucky'},\n",
       "  {'href': '/wiki/Benton,_Kentucky', 'title': 'Benton, Kentucky'},\n",
       "  {'href': '/wiki/Booneville,_Kentucky', 'title': 'Booneville, Kentucky'},\n",
       "  {'href': '/wiki/Bowling_Green,_Kentucky',\n",
       "   'title': 'Bowling Green, Kentucky'},\n",
       "  {'href': '/wiki/Brandenburg,_Kentucky', 'title': 'Brandenburg, Kentucky'},\n",
       "  {'href': '/wiki/Brooksville,_Kentucky', 'title': 'Brooksville, Kentucky'},\n",
       "  {'href': '/wiki/Brownsville,_Kentucky', 'title': 'Brownsville, Kentucky'},\n",
       "  {'href': '/wiki/Burkesville,_Kentucky', 'title': 'Burkesville, Kentucky'},\n",
       "  {'href': '/wiki/Burlington,_Kentucky', 'title': 'Burlington, Kentucky'},\n",
       "  {'href': '/wiki/Cadiz,_Kentucky', 'title': 'Cadiz, Kentucky'},\n",
       "  {'href': '/wiki/Calhoun,_Kentucky', 'title': 'Calhoun, Kentucky'},\n",
       "  {'href': '/wiki/Campbellsville,_Kentucky',\n",
       "   'title': 'Campbellsville, Kentucky'},\n",
       "  {'href': '/wiki/Campton,_Kentucky', 'title': 'Campton, Kentucky'},\n",
       "  {'href': '/wiki/Carlisle,_Kentucky', 'title': 'Carlisle, Kentucky'},\n",
       "  {'href': '/wiki/Carrollton,_Kentucky', 'title': 'Carrollton, Kentucky'},\n",
       "  {'href': '/wiki/Catlettsburg,_Kentucky', 'title': 'Catlettsburg, Kentucky'},\n",
       "  {'href': '/wiki/Clinton,_Kentucky', 'title': 'Clinton, Kentucky'},\n",
       "  {'href': '/wiki/Columbia,_Kentucky', 'title': 'Columbia, Kentucky'},\n",
       "  {'href': '/wiki/Covington,_Kentucky', 'title': 'Covington, Kentucky'},\n",
       "  {'href': '/wiki/Cynthiana,_Kentucky', 'title': 'Cynthiana, Kentucky'},\n",
       "  {'href': '/wiki/Danville,_Kentucky', 'title': 'Danville, Kentucky'},\n",
       "  {'href': '/wiki/Dixon,_Kentucky', 'title': 'Dixon, Kentucky'},\n",
       "  {'href': '/wiki/Eddyville,_Kentucky', 'title': 'Eddyville, Kentucky'},\n",
       "  {'href': '/wiki/Edmonton,_Kentucky', 'title': 'Edmonton, Kentucky'},\n",
       "  {'href': '/wiki/Elizabethtown,_Kentucky',\n",
       "   'title': 'Elizabethtown, Kentucky'},\n",
       "  {'href': '/wiki/Elkton,_Kentucky', 'title': 'Elkton, Kentucky'},\n",
       "  {'href': '/wiki/Falmouth,_Kentucky', 'title': 'Falmouth, Kentucky'},\n",
       "  {'href': '/wiki/Flemingsburg,_Kentucky', 'title': 'Flemingsburg, Kentucky'},\n",
       "  {'href': '/wiki/Franklin,_Kentucky', 'title': 'Franklin, Kentucky'},\n",
       "  {'href': '/wiki/Frenchburg,_Kentucky', 'title': 'Frenchburg, Kentucky'},\n",
       "  {'href': '/wiki/Georgetown,_Kentucky', 'title': 'Georgetown, Kentucky'},\n",
       "  {'href': '/wiki/Glasgow,_Kentucky', 'title': 'Glasgow, Kentucky'},\n",
       "  {'href': '/wiki/Grayson,_Kentucky', 'title': 'Grayson, Kentucky'},\n",
       "  {'href': '/wiki/Greensburg,_Kentucky', 'title': 'Greensburg, Kentucky'},\n",
       "  {'href': '/wiki/Greenup,_Kentucky', 'title': 'Greenup, Kentucky'},\n",
       "  {'href': '/wiki/Greenville,_Kentucky', 'title': 'Greenville, Kentucky'},\n",
       "  {'href': '/wiki/Hardinsburg,_Kentucky', 'title': 'Hardinsburg, Kentucky'},\n",
       "  {'href': '/wiki/Harlan,_Kentucky', 'title': 'Harlan, Kentucky'},\n",
       "  {'href': '/wiki/Harrodsburg,_Kentucky', 'title': 'Harrodsburg, Kentucky'},\n",
       "  {'href': '/wiki/Hartford,_Kentucky', 'title': 'Hartford, Kentucky'},\n",
       "  {'href': '/wiki/Hawesville,_Kentucky', 'title': 'Hawesville, Kentucky'},\n",
       "  {'href': '/wiki/Hazard,_Kentucky', 'title': 'Hazard, Kentucky'},\n",
       "  {'href': '/wiki/Henderson,_Kentucky', 'title': 'Henderson, Kentucky'},\n",
       "  {'href': '/wiki/Hickman,_Kentucky', 'title': 'Hickman, Kentucky'},\n",
       "  {'href': '/wiki/Hindman,_Kentucky', 'title': 'Hindman, Kentucky'},\n",
       "  {'href': '/wiki/Hodgenville,_Kentucky', 'title': 'Hodgenville, Kentucky'},\n",
       "  {'href': '/wiki/Hopkinsville,_Kentucky', 'title': 'Hopkinsville, Kentucky'},\n",
       "  {'href': '/wiki/Hyden,_Kentucky', 'title': 'Hyden, Kentucky'},\n",
       "  {'href': '/wiki/Independence,_Kentucky', 'title': 'Independence, Kentucky'},\n",
       "  {'href': '/wiki/Inez,_Kentucky', 'title': 'Inez, Kentucky'},\n",
       "  {'href': '/wiki/Irvine,_Kentucky', 'title': 'Irvine, Kentucky'},\n",
       "  {'href': '/wiki/Jackson,_Kentucky', 'title': 'Jackson, Kentucky'},\n",
       "  {'href': '/wiki/Jamestown,_Kentucky', 'title': 'Jamestown, Kentucky'},\n",
       "  {'href': '/wiki/La_Grange,_Kentucky', 'title': 'La Grange, Kentucky'},\n",
       "  {'href': '/wiki/Lancaster,_Kentucky', 'title': 'Lancaster, Kentucky'},\n",
       "  {'href': '/wiki/Lawrenceburg,_Kentucky', 'title': 'Lawrenceburg, Kentucky'},\n",
       "  {'href': '/wiki/Lebanon,_Kentucky', 'title': 'Lebanon, Kentucky'},\n",
       "  {'href': '/wiki/Leitchfield,_Kentucky', 'title': 'Leitchfield, Kentucky'},\n",
       "  {'href': '/wiki/Lexington,_Kentucky', 'title': 'Lexington, Kentucky'},\n",
       "  {'href': '/wiki/Liberty,_Kentucky', 'title': 'Liberty, Kentucky'},\n",
       "  {'href': '/wiki/London,_Kentucky', 'title': 'London, Kentucky'},\n",
       "  {'href': '/wiki/Louisa,_Kentucky', 'title': 'Louisa, Kentucky'},\n",
       "  {'href': '/wiki/Louisville,_Kentucky', 'title': 'Louisville, Kentucky'},\n",
       "  {'href': '/wiki/Madisonville,_Kentucky', 'title': 'Madisonville, Kentucky'},\n",
       "  {'href': '/wiki/Manchester,_Kentucky', 'title': 'Manchester, Kentucky'},\n",
       "  {'href': '/wiki/Marion,_Kentucky', 'title': 'Marion, Kentucky'},\n",
       "  {'href': '/wiki/Mayfield,_Kentucky', 'title': 'Mayfield, Kentucky'},\n",
       "  {'href': '/wiki/Maysville,_Kentucky', 'title': 'Maysville, Kentucky'},\n",
       "  {'href': '/wiki/McKee,_Kentucky', 'title': 'McKee, Kentucky'},\n",
       "  {'href': '/wiki/Monticello,_Kentucky', 'title': 'Monticello, Kentucky'},\n",
       "  {'href': '/wiki/Morehead,_Kentucky', 'title': 'Morehead, Kentucky'},\n",
       "  {'href': '/wiki/Morganfield,_Kentucky', 'title': 'Morganfield, Kentucky'},\n",
       "  {'href': '/wiki/Morgantown,_Kentucky', 'title': 'Morgantown, Kentucky'},\n",
       "  {'href': '/wiki/Mount_Olivet,_Kentucky', 'title': 'Mount Olivet, Kentucky'},\n",
       "  {'href': '/wiki/Mount_Sterling,_Kentucky',\n",
       "   'title': 'Mount Sterling, Kentucky'},\n",
       "  {'href': '/wiki/Mount_Vernon,_Kentucky', 'title': 'Mount Vernon, Kentucky'},\n",
       "  {'href': '/wiki/Munfordville,_Kentucky', 'title': 'Munfordville, Kentucky'},\n",
       "  {'href': '/wiki/Murray,_Kentucky', 'title': 'Murray, Kentucky'},\n",
       "  {'href': '/wiki/New_Castle,_Kentucky', 'title': 'New Castle, Kentucky'},\n",
       "  {'href': '/wiki/Newport,_Kentucky', 'title': 'Newport, Kentucky'},\n",
       "  {'href': '/wiki/Nicholasville,_Kentucky',\n",
       "   'title': 'Nicholasville, Kentucky'},\n",
       "  {'href': '/wiki/Owensboro,_Kentucky', 'title': 'Owensboro, Kentucky'},\n",
       "  {'href': '/wiki/Owenton,_Kentucky', 'title': 'Owenton, Kentucky'},\n",
       "  {'href': '/wiki/Owingsville,_Kentucky', 'title': 'Owingsville, Kentucky'},\n",
       "  {'href': '/wiki/Paducah,_Kentucky', 'title': 'Paducah, Kentucky'},\n",
       "  {'href': '/wiki/Paintsville,_Kentucky', 'title': 'Paintsville, Kentucky'},\n",
       "  {'href': '/wiki/Paris,_Kentucky', 'title': 'Paris, Kentucky'},\n",
       "  {'href': '/wiki/Pikeville,_Kentucky', 'title': 'Pikeville, Kentucky'},\n",
       "  {'href': '/wiki/Pineville,_Kentucky', 'title': 'Pineville, Kentucky'},\n",
       "  {'href': '/wiki/Prestonsburg,_Kentucky', 'title': 'Prestonsburg, Kentucky'},\n",
       "  {'href': '/wiki/Princeton,_Kentucky', 'title': 'Princeton, Kentucky'},\n",
       "  {'href': '/wiki/Richmond,_Kentucky', 'title': 'Richmond, Kentucky'},\n",
       "  {'href': '/wiki/Russellville,_Kentucky', 'title': 'Russellville, Kentucky'},\n",
       "  {'href': '/wiki/Salyersville,_Kentucky', 'title': 'Salyersville, Kentucky'},\n",
       "  {'href': '/wiki/Sandy_Hook,_Kentucky', 'title': 'Sandy Hook, Kentucky'},\n",
       "  {'href': '/wiki/Scottsville,_Kentucky', 'title': 'Scottsville, Kentucky'},\n",
       "  {'href': '/wiki/Shelbyville,_Kentucky', 'title': 'Shelbyville, Kentucky'},\n",
       "  {'href': '/wiki/Shepherdsville,_Kentucky',\n",
       "   'title': 'Shepherdsville, Kentucky'},\n",
       "  {'href': '/wiki/Smithland,_Kentucky', 'title': 'Smithland, Kentucky'},\n",
       "  {'href': '/wiki/Somerset,_Kentucky', 'title': 'Somerset, Kentucky'},\n",
       "  {'href': '/wiki/Springfield,_Kentucky', 'title': 'Springfield, Kentucky'},\n",
       "  {'href': '/wiki/Stanford,_Kentucky', 'title': 'Stanford, Kentucky'},\n",
       "  {'href': '/wiki/Stanton,_Kentucky', 'title': 'Stanton, Kentucky'},\n",
       "  {'href': '/wiki/Taylorsville,_Kentucky', 'title': 'Taylorsville, Kentucky'},\n",
       "  {'href': '/wiki/Tompkinsville,_Kentucky',\n",
       "   'title': 'Tompkinsville, Kentucky'},\n",
       "  {'href': '/wiki/Vanceburg,_Kentucky', 'title': 'Vanceburg, Kentucky'},\n",
       "  {'href': '/wiki/Versailles,_Kentucky', 'title': 'Versailles, Kentucky'},\n",
       "  {'href': '/wiki/Warsaw,_Kentucky', 'title': 'Warsaw, Kentucky'},\n",
       "  {'href': '/wiki/West_Liberty,_Kentucky', 'title': 'West Liberty, Kentucky'},\n",
       "  {'href': '/wiki/Whitesburg,_Kentucky', 'title': 'Whitesburg, Kentucky'},\n",
       "  {'href': '/wiki/Whitley_City,_Kentucky', 'title': 'Whitley City, Kentucky'},\n",
       "  {'href': '/wiki/Wickliffe,_Kentucky', 'title': 'Wickliffe, Kentucky'},\n",
       "  {'href': '/wiki/Williamsburg,_Kentucky', 'title': 'Williamsburg, Kentucky'},\n",
       "  {'href': '/wiki/Williamstown,_Kentucky', 'title': 'Williamstown, Kentucky'},\n",
       "  {'href': '/wiki/Winchester,_Kentucky', 'title': 'Winchester, Kentucky'},\n",
       "  {'href': '/wiki/List_of_capitals_in_the_United_States',\n",
       "   'title': 'List of capitals in the United States'},\n",
       "  {'href': '/wiki/United_States', 'title': 'United States'},\n",
       "  {'href': '/wiki/Washington,_D.C.', 'title': 'Washington, D.C.'},\n",
       "  {'href': '/wiki/Alabama', 'title': 'Alabama'},\n",
       "  {'href': '/wiki/Montgomery,_Alabama', 'title': 'Montgomery, Alabama'},\n",
       "  {'href': '/wiki/Alaska', 'title': 'Alaska'},\n",
       "  {'href': '/wiki/Juneau,_Alaska', 'title': 'Juneau, Alaska'},\n",
       "  {'href': '/wiki/Arizona', 'title': 'Arizona'},\n",
       "  {'href': '/wiki/Phoenix,_Arizona', 'title': 'Phoenix, Arizona'},\n",
       "  {'href': '/wiki/Arkansas', 'title': 'Arkansas'},\n",
       "  {'href': '/wiki/Little_Rock,_Arkansas', 'title': 'Little Rock, Arkansas'},\n",
       "  {'href': '/wiki/California', 'title': 'California'},\n",
       "  {'href': '/wiki/Sacramento,_California', 'title': 'Sacramento, California'},\n",
       "  {'href': '/wiki/Colorado', 'title': 'Colorado'},\n",
       "  {'href': '/wiki/Denver', 'title': 'Denver'},\n",
       "  {'href': '/wiki/Connecticut', 'title': 'Connecticut'},\n",
       "  {'href': '/wiki/Hartford,_Connecticut', 'title': 'Hartford, Connecticut'},\n",
       "  {'href': '/wiki/Delaware', 'title': 'Delaware'},\n",
       "  {'href': '/wiki/Dover,_Delaware', 'title': 'Dover, Delaware'},\n",
       "  {'href': '/wiki/Florida', 'title': 'Florida'},\n",
       "  {'href': '/wiki/Tallahassee,_Florida', 'title': 'Tallahassee, Florida'},\n",
       "  {'href': '/wiki/Georgia_(U.S._state)', 'title': 'Georgia (U.S. state)'},\n",
       "  {'href': '/wiki/Atlanta', 'title': 'Atlanta'},\n",
       "  {'href': '/wiki/Hawaii', 'title': 'Hawaii'},\n",
       "  {'href': '/wiki/Honolulu', 'title': 'Honolulu'},\n",
       "  {'href': '/wiki/Idaho', 'title': 'Idaho'},\n",
       "  {'href': '/wiki/Boise,_Idaho', 'title': 'Boise, Idaho'},\n",
       "  {'href': '/wiki/Illinois', 'title': 'Illinois'},\n",
       "  {'href': '/wiki/Springfield,_Illinois', 'title': 'Springfield, Illinois'},\n",
       "  {'href': '/wiki/Indiana', 'title': 'Indiana'},\n",
       "  {'href': '/wiki/Indianapolis', 'title': 'Indianapolis'},\n",
       "  {'href': '/wiki/Iowa', 'title': 'Iowa'},\n",
       "  {'href': '/wiki/Des_Moines,_Iowa', 'title': 'Des Moines, Iowa'},\n",
       "  {'href': '/wiki/Kansas', 'title': 'Kansas'},\n",
       "  {'href': '/wiki/Topeka,_Kansas', 'title': 'Topeka, Kansas'},\n",
       "  {'href': '/wiki/Kentucky', 'title': 'Kentucky'},\n",
       "  {'href': '/wiki/Louisiana', 'title': 'Louisiana'},\n",
       "  {'href': '/wiki/Baton_Rouge,_Louisiana', 'title': 'Baton Rouge, Louisiana'},\n",
       "  {'href': '/wiki/Maine', 'title': 'Maine'},\n",
       "  {'href': '/wiki/Augusta,_Maine', 'title': 'Augusta, Maine'},\n",
       "  {'href': '/wiki/Maryland', 'title': 'Maryland'},\n",
       "  {'href': '/wiki/Annapolis,_Maryland', 'title': 'Annapolis, Maryland'},\n",
       "  {'href': '/wiki/Massachusetts', 'title': 'Massachusetts'},\n",
       "  {'href': '/wiki/Boston', 'title': 'Boston'},\n",
       "  {'href': '/wiki/Michigan', 'title': 'Michigan'},\n",
       "  {'href': '/wiki/Lansing,_Michigan', 'title': 'Lansing, Michigan'},\n",
       "  {'href': '/wiki/Minnesota', 'title': 'Minnesota'},\n",
       "  {'href': '/wiki/Saint_Paul,_Minnesota', 'title': 'Saint Paul, Minnesota'},\n",
       "  {'href': '/wiki/Mississippi', 'title': 'Mississippi'},\n",
       "  {'href': '/wiki/Jackson,_Mississippi', 'title': 'Jackson, Mississippi'},\n",
       "  {'href': '/wiki/Missouri', 'title': 'Missouri'},\n",
       "  {'href': '/wiki/Jefferson_City,_Missouri',\n",
       "   'title': 'Jefferson City, Missouri'},\n",
       "  {'href': '/wiki/Montana', 'title': 'Montana'},\n",
       "  {'href': '/wiki/Helena,_Montana', 'title': 'Helena, Montana'},\n",
       "  {'href': '/wiki/Nebraska', 'title': 'Nebraska'},\n",
       "  {'href': '/wiki/Lincoln,_Nebraska', 'title': 'Lincoln, Nebraska'},\n",
       "  {'href': '/wiki/Nevada', 'title': 'Nevada'},\n",
       "  {'href': '/wiki/Carson_City,_Nevada', 'title': 'Carson City, Nevada'},\n",
       "  {'href': '/wiki/New_Hampshire', 'title': 'New Hampshire'},\n",
       "  {'href': '/wiki/Concord,_New_Hampshire', 'title': 'Concord, New Hampshire'},\n",
       "  {'href': '/wiki/New_Jersey', 'title': 'New Jersey'},\n",
       "  {'href': '/wiki/Trenton,_New_Jersey', 'title': 'Trenton, New Jersey'},\n",
       "  {'href': '/wiki/New_Mexico', 'title': 'New Mexico'},\n",
       "  {'href': '/wiki/Santa_Fe,_New_Mexico', 'title': 'Santa Fe, New Mexico'},\n",
       "  {'href': '/wiki/New_York_(state)', 'title': 'New York (state)'},\n",
       "  {'href': '/wiki/Albany,_New_York', 'title': 'Albany, New York'},\n",
       "  {'href': '/wiki/North_Carolina', 'title': 'North Carolina'},\n",
       "  {'href': '/wiki/Raleigh,_North_Carolina',\n",
       "   'title': 'Raleigh, North Carolina'},\n",
       "  {'href': '/wiki/North_Dakota', 'title': 'North Dakota'},\n",
       "  {'href': '/wiki/Bismarck,_North_Dakota', 'title': 'Bismarck, North Dakota'},\n",
       "  {'href': '/wiki/Ohio', 'title': 'Ohio'},\n",
       "  {'href': '/wiki/Columbus,_Ohio', 'title': 'Columbus, Ohio'},\n",
       "  {'href': '/wiki/Oklahoma', 'title': 'Oklahoma'},\n",
       "  {'href': '/wiki/Oklahoma_City', 'title': 'Oklahoma City'},\n",
       "  {'href': '/wiki/Oregon', 'title': 'Oregon'},\n",
       "  {'href': '/wiki/Salem,_Oregon', 'title': 'Salem, Oregon'},\n",
       "  {'href': '/wiki/Pennsylvania', 'title': 'Pennsylvania'},\n",
       "  {'href': '/wiki/Harrisburg,_Pennsylvania',\n",
       "   'title': 'Harrisburg, Pennsylvania'},\n",
       "  {'href': '/wiki/Rhode_Island', 'title': 'Rhode Island'},\n",
       "  {'href': '/wiki/Providence,_Rhode_Island',\n",
       "   'title': 'Providence, Rhode Island'},\n",
       "  {'href': '/wiki/South_Carolina', 'title': 'South Carolina'},\n",
       "  {'href': '/wiki/Columbia,_South_Carolina',\n",
       "   'title': 'Columbia, South Carolina'},\n",
       "  {'href': '/wiki/South_Dakota', 'title': 'South Dakota'},\n",
       "  {'href': '/wiki/Pierre,_South_Dakota', 'title': 'Pierre, South Dakota'},\n",
       "  {'href': '/wiki/Tennessee', 'title': 'Tennessee'},\n",
       "  {'href': '/wiki/Nashville,_Tennessee', 'title': 'Nashville, Tennessee'},\n",
       "  {'href': '/wiki/Texas', 'title': 'Texas'},\n",
       "  {'href': '/wiki/Austin,_Texas', 'title': 'Austin, Texas'},\n",
       "  {'href': '/wiki/Utah', 'title': 'Utah'},\n",
       "  {'href': '/wiki/Salt_Lake_City', 'title': 'Salt Lake City'},\n",
       "  {'href': '/wiki/Vermont', 'title': 'Vermont'},\n",
       "  {'href': '/wiki/Montpelier,_Vermont', 'title': 'Montpelier, Vermont'},\n",
       "  {'href': '/wiki/Virginia', 'title': 'Virginia'},\n",
       "  {'href': '/wiki/Richmond,_Virginia', 'title': 'Richmond, Virginia'},\n",
       "  {'href': '/wiki/Washington_(state)', 'title': 'Washington (state)'},\n",
       "  {'href': '/wiki/Olympia,_Washington', 'title': 'Olympia, Washington'},\n",
       "  {'href': '/wiki/West_Virginia', 'title': 'West Virginia'},\n",
       "  {'href': '/wiki/Charleston,_West_Virginia',\n",
       "   'title': 'Charleston, West Virginia'},\n",
       "  {'href': '/wiki/Wisconsin', 'title': 'Wisconsin'},\n",
       "  {'href': '/wiki/Madison,_Wisconsin', 'title': 'Madison, Wisconsin'},\n",
       "  {'href': '/wiki/Wyoming', 'title': 'Wyoming'},\n",
       "  {'href': '/wiki/Cheyenne,_Wyoming', 'title': 'Cheyenne, Wyoming'},\n",
       "  {'href': '/wiki/American_Samoa', 'title': 'American Samoa'},\n",
       "  {'href': '/wiki/Pago_Pago', 'title': 'Pago Pago'},\n",
       "  {'href': '/wiki/Guam', 'title': 'Guam'},\n",
       "  {'href': '/wiki/Hag%C3%A5t%C3%B1a,_Guam', 'title': 'Hagåtña, Guam'},\n",
       "  {'href': '/wiki/Northern_Mariana_Islands',\n",
       "   'title': 'Northern Mariana Islands'},\n",
       "  {'href': '/wiki/Saipan', 'title': 'Saipan'},\n",
       "  {'href': '/wiki/Puerto_Rico', 'title': 'Puerto Rico'},\n",
       "  {'href': '/wiki/San_Juan,_Puerto_Rico', 'title': 'San Juan, Puerto Rico'},\n",
       "  {'href': '/wiki/United_States_Virgin_Islands',\n",
       "   'title': 'United States Virgin Islands'},\n",
       "  {'href': '/wiki/Charlotte_Amalie,_U.S._Virgin_Islands',\n",
       "   'title': 'Charlotte Amalie, U.S. Virgin Islands'},\n",
       "  {'href': '/wiki/List_of_cities_in_Kentucky',\n",
       "   'title': 'List of cities in Kentucky'},\n",
       "  {'href': '/wiki/Louisville,_Kentucky', 'title': 'Louisville, Kentucky'},\n",
       "  {'href': '/wiki/Lexington,_Kentucky', 'title': 'Lexington, Kentucky'},\n",
       "  {'href': '/wiki/Bowling_Green,_Kentucky',\n",
       "   'title': 'Bowling Green, Kentucky'},\n",
       "  {'href': '/wiki/Owensboro,_Kentucky', 'title': 'Owensboro, Kentucky'},\n",
       "  {'href': '/wiki/Covington,_Kentucky', 'title': 'Covington, Kentucky'},\n",
       "  {'href': '/wiki/Richmond,_Kentucky', 'title': 'Richmond, Kentucky'},\n",
       "  {'href': '/wiki/Georgetown,_Kentucky', 'title': 'Georgetown, Kentucky'},\n",
       "  {'href': '/wiki/Florence,_Kentucky', 'title': 'Florence, Kentucky'},\n",
       "  {'href': '/wiki/Hopkinsville,_Kentucky', 'title': 'Hopkinsville, Kentucky'},\n",
       "  {'href': '/wiki/Nicholasville,_Kentucky',\n",
       "   'title': 'Nicholasville, Kentucky'},\n",
       "  {'href': '/wiki/Elizabethtown,_Kentucky',\n",
       "   'title': 'Elizabethtown, Kentucky'},\n",
       "  {'href': '/wiki/Henderson,_Kentucky', 'title': 'Henderson, Kentucky'},\n",
       "  {'href': '/wiki/Independence,_Kentucky', 'title': 'Independence, Kentucky'},\n",
       "  {'href': '/wiki/Jeffersontown,_Kentucky',\n",
       "   'title': 'Jeffersontown, Kentucky'},\n",
       "  {'href': '/wiki/Paducah,_Kentucky', 'title': 'Paducah, Kentucky'},\n",
       "  {'href': '/wiki/Radcliff,_Kentucky', 'title': 'Radcliff, Kentucky'},\n",
       "  {'href': '/wiki/Ashland,_Kentucky', 'title': 'Ashland, Kentucky'},\n",
       "  {'href': '/wiki/Murray,_Kentucky', 'title': 'Murray, Kentucky'},\n",
       "  {'href': '/wiki/Madisonville,_Kentucky', 'title': 'Madisonville, Kentucky'},\n",
       "  {'href': '/wiki/Erlanger,_Kentucky', 'title': 'Erlanger, Kentucky'},\n",
       "  {'href': '/wiki/Winchester,_Kentucky', 'title': 'Winchester, Kentucky'},\n",
       "  {'href': '/wiki/St._Matthews,_Kentucky', 'title': 'St. Matthews, Kentucky'},\n",
       "  {'href': '/wiki/Danville,_Kentucky', 'title': 'Danville, Kentucky'},\n",
       "  {'href': '/wiki/Fort_Thomas,_Kentucky', 'title': 'Fort Thomas, Kentucky'},\n",
       "  {'href': '/wiki/Shelbyville,_Kentucky', 'title': 'Shelbyville, Kentucky'},\n",
       "  {'href': '/wiki/Shively,_Kentucky', 'title': 'Shively, Kentucky'},\n",
       "  {'href': '/wiki/Berea,_Kentucky', 'title': 'Berea, Kentucky'},\n",
       "  {'href': '/wiki/Newport,_Kentucky', 'title': 'Newport, Kentucky'},\n",
       "  {'href': '/wiki/Mount_Washington,_Kentucky',\n",
       "   'title': 'Mount Washington, Kentucky'},\n",
       "  {'href': '/wiki/Glasgow,_Kentucky', 'title': 'Glasgow, Kentucky'},\n",
       "  {'href': '/wiki/Bardstown,_Kentucky', 'title': 'Bardstown, Kentucky'},\n",
       "  {'href': '/wiki/Shepherdsville,_Kentucky',\n",
       "   'title': 'Shepherdsville, Kentucky'},\n",
       "  {'href': '/wiki/Lyndon,_Kentucky', 'title': 'Lyndon, Kentucky'},\n",
       "  {'href': '/wiki/Somerset,_Kentucky', 'title': 'Somerset, Kentucky'},\n",
       "  {'href': '/wiki/Campbellsville,_Kentucky',\n",
       "   'title': 'Campbellsville, Kentucky'},\n",
       "  {'href': '/wiki/Lawrenceburg,_Kentucky', 'title': 'Lawrenceburg, Kentucky'},\n",
       "  {'href': '/wiki/Mayfield,_Kentucky', 'title': 'Mayfield, Kentucky'},\n",
       "  {'href': '/wiki/Paris,_Kentucky', 'title': 'Paris, Kentucky'},\n",
       "  {'href': '/wiki/Middlesboro,_Kentucky', 'title': 'Middlesboro, Kentucky'},\n",
       "  {'href': '/wiki/Alexandria,_Kentucky', 'title': 'Alexandria, Kentucky'},\n",
       "  {'href': '/wiki/Versailles,_Kentucky', 'title': 'Versailles, Kentucky'},\n",
       "  {'href': '/wiki/Hillview,_Kentucky', 'title': 'Hillview, Kentucky'},\n",
       "  {'href': '/wiki/La_Grange,_Kentucky', 'title': 'La Grange, Kentucky'},\n",
       "  {'href': '/wiki/Maysville,_Kentucky', 'title': 'Maysville, Kentucky'},\n",
       "  {'href': '/wiki/Franklin,_Kentucky', 'title': 'Franklin, Kentucky'},\n",
       "  {'href': '/wiki/Edgewood,_Kentucky', 'title': 'Edgewood, Kentucky'},\n",
       "  {'href': '/wiki/Elsmere,_Kentucky', 'title': 'Elsmere, Kentucky'},\n",
       "  {'href': '/wiki/Harrodsburg,_Kentucky', 'title': 'Harrodsburg, Kentucky'},\n",
       "  {'href': '/wiki/Fort_Mitchell,_Kentucky',\n",
       "   'title': 'Fort Mitchell, Kentucky'},\n",
       "  {'href': '/wiki/Midwestern_United_States',\n",
       "   'title': 'Midwestern United States'},\n",
       "  {'href': '/wiki/Midwestern_United_States#Culture',\n",
       "   'title': 'Midwestern United States'},\n",
       "  {'href': '/wiki/Midwestern_United_States#Physical_geography',\n",
       "   'title': 'Midwestern United States'},\n",
       "  {'href': '/wiki/Midwestern_United_States#Political_trends',\n",
       "   'title': 'Midwestern United States'},\n",
       "  {'href': '/wiki/Midwestern_United_States#History',\n",
       "   'title': 'Midwestern United States'},\n",
       "  {'href': '/wiki/Ohio', 'title': 'Ohio'},\n",
       "  {'href': '/wiki/Kentucky', 'title': 'Kentucky'},\n",
       "  {'href': '/wiki/Indiana', 'title': 'Indiana'},\n",
       "  {'href': '/wiki/Michigan', 'title': 'Michigan'},\n",
       "  {'href': '/wiki/Illinois', 'title': 'Illinois'},\n",
       "  {'href': '/wiki/Missouri', 'title': 'Missouri'},\n",
       "  {'href': '/wiki/Iowa', 'title': 'Iowa'},\n",
       "  {'href': '/wiki/Wisconsin', 'title': 'Wisconsin'},\n",
       "  {'href': '/wiki/Minnesota', 'title': 'Minnesota'},\n",
       "  {'href': '/wiki/North_Dakota', 'title': 'North Dakota'},\n",
       "  {'href': '/wiki/South_Dakota', 'title': 'South Dakota'},\n",
       "  {'href': '/wiki/Nebraska', 'title': 'Nebraska'},\n",
       "  {'href': '/wiki/Kansas', 'title': 'Kansas'},\n",
       "  {'href': '/wiki/Chicago', 'title': 'Chicago'},\n",
       "  {'href': '/wiki/Detroit', 'title': 'Detroit'},\n",
       "  {'href': '/wiki/Minneapolis', 'title': 'Minneapolis'},\n",
       "  {'href': '/wiki/Saint_Paul,_Minnesota', 'title': 'Saint Paul, Minnesota'},\n",
       "  {'href': '/wiki/St._Louis', 'title': 'St. Louis'},\n",
       "  {'href': '/wiki/Cleveland', 'title': 'Cleveland'},\n",
       "  {'href': '/wiki/Columbus,_Ohio', 'title': 'Columbus, Ohio'},\n",
       "  {'href': '/wiki/Dayton,_Ohio', 'title': 'Dayton, Ohio'},\n",
       "  {'href': '/wiki/Cincinnati', 'title': 'Cincinnati'},\n",
       "  {'href': '/wiki/Louisville,_Kentucky', 'title': 'Louisville, Kentucky'},\n",
       "  {'href': '/wiki/Grand_Rapids,_Michigan', 'title': 'Grand Rapids, Michigan'},\n",
       "  {'href': '/wiki/Fort_Wayne,_Indiana', 'title': 'Fort Wayne, Indiana'},\n",
       "  {'href': '/wiki/Indianapolis', 'title': 'Indianapolis'},\n",
       "  {'href': '/wiki/Milwaukee', 'title': 'Milwaukee'},\n",
       "  {'href': '/wiki/Green_Bay,_Wisconsin', 'title': 'Green Bay, Wisconsin'},\n",
       "  {'href': '/wiki/Madison,_Wisconsin', 'title': 'Madison, Wisconsin'},\n",
       "  {'href': '/wiki/Des_Moines,_Iowa', 'title': 'Des Moines, Iowa'},\n",
       "  {'href': '/wiki/Kansas_City,_Missouri', 'title': 'Kansas City, Missouri'},\n",
       "  {'href': '/wiki/Wichita,_Kansas', 'title': 'Wichita, Kansas'},\n",
       "  {'href': '/wiki/Omaha,_Nebraska', 'title': 'Omaha, Nebraska'},\n",
       "  {'href': '/wiki/Sioux_Falls,_South_Dakota',\n",
       "   'title': 'Sioux Falls, South Dakota'},\n",
       "  {'href': '/wiki/Rapid_City,_South_Dakota',\n",
       "   'title': 'Rapid City, South Dakota'},\n",
       "  {'href': '/wiki/Fargo,_North_Dakota', 'title': 'Fargo, North Dakota'},\n",
       "  {'href': '/wiki/Columbus,_Ohio', 'title': 'Columbus, Ohio'},\n",
       "  {'href': '/wiki/Indianapolis', 'title': 'Indianapolis'},\n",
       "  {'href': '/wiki/Lansing,_Michigan', 'title': 'Lansing, Michigan'},\n",
       "  {'href': '/wiki/Springfield,_Illinois', 'title': 'Springfield, Illinois'},\n",
       "  {'href': '/wiki/Jefferson_City,_Missouri',\n",
       "   'title': 'Jefferson City, Missouri'},\n",
       "  {'href': '/wiki/Des_Moines,_Iowa', 'title': 'Des Moines, Iowa'},\n",
       "  {'href': '/wiki/Madison,_Wisconsin', 'title': 'Madison, Wisconsin'},\n",
       "  {'href': '/wiki/Saint_Paul,_Minnesota', 'title': 'Saint Paul, Minnesota'},\n",
       "  {'href': '/wiki/Bismarck,_North_Dakota', 'title': 'Bismarck, North Dakota'},\n",
       "  {'href': '/wiki/Pierre,_South_Dakota', 'title': 'Pierre, South Dakota'},\n",
       "  {'href': '/wiki/Lincoln,_Nebraska', 'title': 'Lincoln, Nebraska'},\n",
       "  {'href': '/wiki/Topeka,_Kansas', 'title': 'Topeka, Kansas'},\n",
       "  {'href': '/wiki/Integrated_Authority_File',\n",
       "   'title': 'Integrated Authority File'},\n",
       "  {'href': '/wiki/International_Standard_Name_Identifier',\n",
       "   'title': 'International Standard Name Identifier'},\n",
       "  {'href': '/wiki/Library_of_Congress_Control_Number',\n",
       "   'title': 'Library of Congress Control Number'},\n",
       "  {'href': '/wiki/MusicBrainz', 'title': 'MusicBrainz'},\n",
       "  {'href': '/wiki/National_Archives_and_Records_Administration',\n",
       "   'title': 'National Archives and Records Administration'},\n",
       "  {'href': '/wiki/Virtual_International_Authority_File',\n",
       "   'title': 'Virtual International Authority File'},\n",
       "  {'href': '/wiki/Frankfort,_Kentucky'}],\n",
       " [{'class': 'mw-redirect', 'href': '/wiki/UTC%E2%88%925', 'title': 'UTC−5'},\n",
       "  {'class': 'mw-redirect', 'href': '/wiki/UTC%E2%88%924', 'title': 'UTC−4'},\n",
       "  {'class': 'mw-redirect',\n",
       "   'href': '/wiki/Federal_Information_Processing_Standard',\n",
       "   'title': 'Federal Information Processing Standard'},\n",
       "  {'class': 'mw-redirect',\n",
       "   'href': '/wiki/List_of_Kentucky_cities',\n",
       "   'title': 'List of Kentucky cities'},\n",
       "  {'class': 'mw-redirect',\n",
       "   'href': '/wiki/Frankfort,_Kentucky_Micropolitan_Statistical_Area',\n",
       "   'title': 'Frankfort, Kentucky Micropolitan Statistical Area'},\n",
       "  {'class': 'mw-redirect',\n",
       "   'href': '/wiki/List_of_U.S._states',\n",
       "   'title': 'List of U.S. states'},\n",
       "  {'class': 'mw-redirect',\n",
       "   'href': '/wiki/British_Pound',\n",
       "   'title': 'British Pound'},\n",
       "  {'class': 'mw-redirect',\n",
       "   'href': '/wiki/Liberty_Hall_(Kentucky)',\n",
       "   'title': 'Liberty Hall (Kentucky)'},\n",
       "  {'class': 'mw-redirect',\n",
       "   'href': '/wiki/U.S._Congress',\n",
       "   'title': 'U.S. Congress'},\n",
       "  {'class': 'mw-redirect',\n",
       "   'href': '/wiki/List_of_U.S._senators_from_Kentucky',\n",
       "   'title': 'List of U.S. senators from Kentucky'},\n",
       "  {'class': 'mw-redirect',\n",
       "   'href': '/wiki/Greek_Revival',\n",
       "   'title': 'Greek Revival'},\n",
       "  {'class': 'mw-redirect',\n",
       "   'href': '/wiki/Confederate_Army',\n",
       "   'title': 'Confederate Army'},\n",
       "  {'class': 'mw-redirect', 'href': '/wiki/WKYT-DT2', 'title': 'WKYT-DT2'},\n",
       "  {'class': 'mw-redirect',\n",
       "   'href': '/wiki/Distilleries',\n",
       "   'title': 'Distilleries'},\n",
       "  {'class': 'mw-redirect',\n",
       "   'href': '/wiki/White_American',\n",
       "   'title': 'White American'},\n",
       "  {'class': 'mw-redirect',\n",
       "   'href': '/wiki/Non-Hispanic_Whites',\n",
       "   'title': 'Non-Hispanic Whites'},\n",
       "  {'class': 'mw-redirect',\n",
       "   'href': '/wiki/African_American',\n",
       "   'title': 'African American'},\n",
       "  {'class': 'mw-redirect',\n",
       "   'href': '/wiki/Asian_American',\n",
       "   'title': 'Asian American'},\n",
       "  {'class': 'mw-redirect',\n",
       "   'href': '/wiki/Pacific_Islander_American',\n",
       "   'title': 'Pacific Islander American'},\n",
       "  {'class': 'mw-redirect',\n",
       "   'href': '/wiki/Multiracial_American',\n",
       "   'title': 'Multiracial American'},\n",
       "  {'class': 'mw-redirect',\n",
       "   'href': '/wiki/Poverty_line',\n",
       "   'title': 'Poverty line'},\n",
       "  {'class': 'mw-redirect',\n",
       "   'href': '/wiki/United_States_micropolitan_area',\n",
       "   'title': 'United States micropolitan area'},\n",
       "  {'class': 'mw-redirect',\n",
       "   'href': '/wiki/Historically_black_university',\n",
       "   'title': 'Historically black university'},\n",
       "  {'class': 'mw-redirect',\n",
       "   'href': '/wiki/Brigadier_general_(CSA)',\n",
       "   'title': 'Brigadier general (CSA)'},\n",
       "  {'class': 'mw-redirect',\n",
       "   'href': '/wiki/Confederate_Army',\n",
       "   'title': 'Confederate Army'},\n",
       "  {'class': 'mw-redirect', 'href': '/wiki/JT_Riddle', 'title': 'JT Riddle'},\n",
       "  {'class': 'mw-redirect',\n",
       "   'href': '/wiki/Impressionist',\n",
       "   'title': 'Impressionist'},\n",
       "  {'class': 'mw-redirect',\n",
       "   'href': '/wiki/The_American_Cyclop%C3%A6dia',\n",
       "   'title': 'The American Cyclopædia'},\n",
       "  {'class': 'mw-redirect',\n",
       "   'href': '/wiki/Religion_in_Kentucky',\n",
       "   'title': 'Religion in Kentucky'},\n",
       "  {'class': 'mw-redirect',\n",
       "   'href': '/wiki/Theater_in_Kentucky',\n",
       "   'title': 'Theater in Kentucky'},\n",
       "  {'class': 'mw-redirect',\n",
       "   'href': '/wiki/Western_Coal_Fields',\n",
       "   'title': 'Western Coal Fields'},\n",
       "  {'class': 'mw-redirect',\n",
       "   'href': '/wiki/Bowling_Green,_Kentucky_metropolitan_area',\n",
       "   'title': 'Bowling Green, Kentucky metropolitan area'},\n",
       "  {'class': 'mw-redirect',\n",
       "   'href': '/wiki/Owensboro_metropolitan_area',\n",
       "   'title': 'Owensboro metropolitan area'},\n",
       "  {'class': 'mw-redirect',\n",
       "   'href': '/wiki/WorldCat_Identities',\n",
       "   'title': 'WorldCat Identities'}],\n",
       " [{'href': '/wiki/Category:CS1_maint:_Date_and_year',\n",
       "   'title': 'Category:CS1 maint: Date and year'},\n",
       "  {'href': '/wiki/Category:Environment_of_Kentucky',\n",
       "   'title': 'Category:Environment of Kentucky'},\n",
       "  {'href': '/wiki/Category:Kentucky_media',\n",
       "   'title': 'Category:Kentucky media'},\n",
       "  {'href': '/wiki/Category:Tourism_in_Kentucky',\n",
       "   'title': 'Category:Tourism in Kentucky'},\n",
       "  {'href': '/wiki/Category:Tourist_attractions_in_Kentucky',\n",
       "   'title': 'Category:Tourist attractions in Kentucky'},\n",
       "  {'href': '/wiki/Category:Kentucky', 'title': 'Category:Kentucky'},\n",
       "  {'href': '/wiki/Category:Frankfort,_Kentucky',\n",
       "   'title': 'Category:Frankfort, Kentucky'},\n",
       "  {'href': '/wiki/Category:Cities_in_Kentucky',\n",
       "   'title': 'Category:Cities in Kentucky'},\n",
       "  {'href': '/wiki/Category:Cities_in_Franklin_County,_Kentucky',\n",
       "   'title': 'Category:Cities in Franklin County, Kentucky'},\n",
       "  {'href': '/wiki/Category:University_towns_in_the_United_States',\n",
       "   'title': 'Category:University towns in the United States'},\n",
       "  {'href': '/wiki/Category:County_seats_in_Kentucky',\n",
       "   'title': 'Category:County seats in Kentucky'},\n",
       "  {'href': '/wiki/Category:Populated_places_established_in_1786',\n",
       "   'title': 'Category:Populated places established in 1786'},\n",
       "  {'href': '/wiki/Category:Frankfort,_Kentucky_micropolitan_area',\n",
       "   'title': 'Category:Frankfort, Kentucky micropolitan area'},\n",
       "  {'href': '/wiki/Category:1786_establishments_in_Virginia',\n",
       "   'title': 'Category:1786 establishments in Virginia'},\n",
       "  {'href': '/wiki/Category:CS1_maint:_Date_and_year',\n",
       "   'title': 'Category:CS1 maint: Date and year'},\n",
       "  {'href': '/wiki/Category:Use_mdy_dates_from_February_2017',\n",
       "   'title': 'Category:Use mdy dates from February 2017'},\n",
       "  {'href': '/wiki/Category:Articles_with_short_description',\n",
       "   'title': 'Category:Articles with short description'},\n",
       "  {'href': '/wiki/Category:Coordinates_on_Wikidata',\n",
       "   'title': 'Category:Coordinates on Wikidata'},\n",
       "  {'href': '/wiki/Category:Commons_category_link_is_on_Wikidata',\n",
       "   'title': 'Category:Commons category link is on Wikidata'},\n",
       "  {'href': '/wiki/Category:Wikipedia_articles_incorporating_a_citation_from_The_American_Cyclopaedia',\n",
       "   'title': 'Category:Wikipedia articles incorporating a citation from The American Cyclopaedia'},\n",
       "  {'href': '/wiki/Category:Wikipedia_articles_incorporating_a_citation_from_The_American_Cyclopaedia_with_a_Wikisource_reference',\n",
       "   'title': 'Category:Wikipedia articles incorporating a citation from The American Cyclopaedia with a Wikisource reference'},\n",
       "  {'href': '/wiki/Category:Wikipedia_articles_with_GND_identifiers',\n",
       "   'title': 'Category:Wikipedia articles with GND identifiers'},\n",
       "  {'href': '/wiki/Category:Wikipedia_articles_with_ISNI_identifiers',\n",
       "   'title': 'Category:Wikipedia articles with ISNI identifiers'},\n",
       "  {'href': '/wiki/Category:Wikipedia_articles_with_LCCN_identifiers',\n",
       "   'title': 'Category:Wikipedia articles with LCCN identifiers'},\n",
       "  {'href': '/wiki/Category:Wikipedia_articles_with_MusicBrainz_area_identifiers',\n",
       "   'title': 'Category:Wikipedia articles with MusicBrainz area identifiers'},\n",
       "  {'href': '/wiki/Category:Wikipedia_articles_with_NARA_identifiers',\n",
       "   'title': 'Category:Wikipedia articles with NARA identifiers'},\n",
       "  {'href': '/wiki/Category:Wikipedia_articles_with_VIAF_identifiers',\n",
       "   'title': 'Category:Wikipedia articles with VIAF identifiers'},\n",
       "  {'href': '/wiki/Category:Wikipedia_articles_with_WorldCat-VIAF_identifiers',\n",
       "   'title': 'Category:Wikipedia articles with WorldCat-VIAF identifiers'}],\n",
       " 211395)"
      ]
     },
     "execution_count": 17,
     "metadata": {},
     "output_type": "execute_result"
    }
   ],
   "source": [
    "wiki_expand(tests[1], download_article_html_requests)"
   ]
  },
  {
   "cell_type": "code",
   "execution_count": 13,
   "metadata": {},
   "outputs": [],
   "source": [
    "response = requests.get(url)"
   ]
  },
  {
   "cell_type": "code",
   "execution_count": 14,
   "metadata": {},
   "outputs": [
    {
     "data": {
      "text/plain": [
       "{'Server': 'mw1268.eqiad.wmnet', 'Backend-Timing': 'D=523994 t=1545269260261582', 'Content-Encoding': 'gzip', 'X-Client-IP': '2607:4000:200:15:136:a724:89c3:f8b9', 'X-Cache-Status': 'hit-local', 'Cache-Control': 'private, s-maxage=0, max-age=0, must-revalidate', 'Set-Cookie': 'WMF-Last-Access=22-Dec-2018;Path=/;HttpOnly;secure;Expires=Wed, 23 Jan 2019 00:00:00 GMT, WMF-Last-Access-Global=22-Dec-2018;Path=/;Domain=.wikipedia.org;HttpOnly;secure;Expires=Wed, 23 Jan 2019 00:00:00 GMT, GeoIP=US:WA:Seattle:47.66:-122.30:v4; Path=/; secure; Domain=.wikipedia.org', 'Server-Timing': 'cache;desc=\"hit-local\"', 'Age': '3671', 'X-Content-Type-Options': 'nosniff', 'P3P': 'CP=\"This is not a P3P policy! See https://en.wikipedia.org/wiki/Special:CentralAutoLogin/P3P for more info.\"', 'Via': '1.1 varnish (Varnish/5.1), 1.1 varnish (Varnish/5.1), 1.1 varnish (Varnish/5.1), 1.1 varnish (Varnish/5.1)', 'Content-language': 'en', 'Content-Length': '14343', 'Date': 'Sat, 22 Dec 2018 05:43:32 GMT', 'X-Cache': 'cp1079 hit/1, cp2016 pass, cp4030 hit/1, cp4028 miss', 'Connection': 'keep-alive', 'Strict-Transport-Security': 'max-age=106384710; includeSubDomains; preload', 'Last-Modified': 'Tue, 11 Dec 2018 17:59:56 GMT', 'Accept-Ranges': 'bytes', 'Content-Type': 'text/html; charset=UTF-8', 'X-Analytics': 'ns=0;page_id=43118620;https=1;nocookies=1', 'X-Varnish': '855139519 808193301, 939454260, 540718531 497467379, 38163098', 'Vary': 'Accept-Encoding,Cookie,Authorization,X-Seven', 'X-Powered-By': 'HHVM/3.18.6-dev'}"
      ]
     },
     "execution_count": 14,
     "metadata": {},
     "output_type": "execute_result"
    }
   ],
   "source": [
    "response.headers"
   ]
  },
  {
   "cell_type": "code",
   "execution_count": 72,
   "metadata": {},
   "outputs": [],
   "source": [
    "#response.text"
   ]
  },
  {
   "cell_type": "code",
   "execution_count": 73,
   "metadata": {},
   "outputs": [
    {
     "data": {
      "text/plain": [
       "200"
      ]
     },
     "execution_count": 73,
     "metadata": {},
     "output_type": "execute_result"
    }
   ],
   "source": [
    "response.status_code"
   ]
  },
  {
   "cell_type": "code",
   "execution_count": null,
   "metadata": {},
   "outputs": [],
   "source": [
    "res404 = [wiki_expand(x) for x in cs[404]]"
   ]
  }
 ],
 "metadata": {
  "kernelspec": {
   "display_name": "Python 3",
   "language": "python",
   "name": "python3"
  },
  "language_info": {
   "codemirror_mode": {
    "name": "ipython",
    "version": 3
   },
   "file_extension": ".py",
   "mimetype": "text/x-python",
   "name": "python",
   "nbconvert_exporter": "python",
   "pygments_lexer": "ipython3",
   "version": "3.6.7"
  }
 },
 "nbformat": 4,
 "nbformat_minor": 2
}
