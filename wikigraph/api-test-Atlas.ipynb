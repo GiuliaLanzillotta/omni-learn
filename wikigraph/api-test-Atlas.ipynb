{
 "cells": [
  {
   "cell_type": "code",
   "execution_count": 2,
   "metadata": {},
   "outputs": [],
   "source": [
    "import sys, os, time\n",
    "%load_ext autoreload\n",
    "%autoreload 2\n",
    "import foundation as fd\n",
    "import foundation.util as util\n",
    "import numpy as np\n",
    "%matplotlib notebook\n",
    "import matplotlib.pyplot as plt\n",
    "import torch\n",
    "import torch.nn as nn\n",
    "import torch.nn.functional as F\n",
    "import torch.multiprocessing as mp\n",
    "import torchvision\n",
    "import h5py as hf\n",
    "from html.parser import HTMLParser\n",
    "import urllib\n",
    "import urllib.request\n",
    "from urllib.error import URLError, HTTPError\n",
    "import requests\n",
    "from extraction import *\n",
    "import redis\n",
    "import itertools"
   ]
  },
  {
   "cell_type": "code",
   "execution_count": 3,
   "metadata": {
    "collapsed": true
   },
   "outputs": [],
   "source": [
    "root = '/home/fleeb/workspace/ml_datasets/wiki/wikimedia/'\n",
    "root = '/mnt/d/Users/anwan/Documents/wikigraph/wikimedia/'\n",
    "root = '/mnt/c/Users/anwan/Documents/wikigraph/'"
   ]
  },
  {
   "cell_type": "code",
   "execution_count": 4,
   "metadata": {
    "collapsed": true
   },
   "outputs": [],
   "source": [
    "fname = 'enwiki-20181220-all-titles-in-ns0'"
   ]
  },
  {
   "cell_type": "code",
   "execution_count": null,
   "metadata": {},
   "outputs": [],
   "source": [
    "with open(os.path.join(root, fname), 'r') as f:\n",
    "    text = f.readlines()\n",
    "text = text[1:]\n",
    "text = [t[:-1].replace('_', ' ') for t in text]\n",
    "len(text)"
   ]
  },
  {
   "cell_type": "code",
   "execution_count": 6,
   "metadata": {
    "collapsed": true
   },
   "outputs": [],
   "source": [
    "db = redis.Redis(port=6381)\n",
    "rdb = redis.Redis(port=6381, db=3)\n",
    "db.dbsize(), rdb.dbsize()"
   ]
  },
  {
   "cell_type": "code",
   "execution_count": 8,
   "metadata": {},
   "outputs": [
    {
     "data": {
      "text/plain": [
       "(8569359, 5775900)"
      ]
     },
     "execution_count": 8,
     "metadata": {},
     "output_type": "execute_result"
    }
   ],
   "source": [
    "db.scard('redirs'), db.scard('articles')"
   ]
  },
  {
   "cell_type": "code",
   "execution_count": 16,
   "metadata": {},
   "outputs": [
    {
     "data": {
      "text/plain": [
       "(10,\n",
       " [b'Conway Smith',\n",
       "  b'Lawrence Newell',\n",
       "  b'Geetingsville, Indiana',\n",
       "  b'Kozub',\n",
       "  b'Moira railway station (England)',\n",
       "  b'Came glasswork',\n",
       "  b'Bear Creek Ca\\xc3\\xb1on Park',\n",
       "  b'Min Dawlya',\n",
       "  b'Nodicoeloceratinae',\n",
       "  b'Homer Judd'])"
      ]
     },
     "execution_count": 16,
     "metadata": {},
     "output_type": "execute_result"
    }
   ],
   "source": [
    "arts = [db.srandmember('articles') for _ in range(10)]\n",
    "len(arts), arts"
   ]
  },
  {
   "cell_type": "code",
   "execution_count": 34,
   "metadata": {},
   "outputs": [
    {
     "data": {
      "text/plain": [
       "(b'Geetingsville, Indiana', 66)"
      ]
     },
     "execution_count": 34,
     "metadata": {},
     "output_type": "execute_result"
    }
   ],
   "source": [
    "name = arts[2] #b'Artificial intelligence'#arts[0]\n",
    "links = get_links(name)\n",
    "links = [l['title'].encode() for l in links]\n",
    "name, len(links)"
   ]
  },
  {
   "cell_type": "code",
   "execution_count": 35,
   "metadata": {},
   "outputs": [
    {
     "data": {
      "text/plain": [
       "[b'Antioch, Clinton County, Indiana',\n",
       " b'Avery, Indiana',\n",
       " b'Beard, Indiana',\n",
       " b'Boyleston, Indiana',\n",
       " b'Cambria, Indiana',\n",
       " b'Center Township, Clinton County, Indiana',\n",
       " b'City',\n",
       " b'Civil township',\n",
       " b'Clinton County, Indiana',\n",
       " b'Colfax, Indiana',\n",
       " b'Countries of the world',\n",
       " b'County seat',\n",
       " b'Cyclone, Indiana',\n",
       " b'East Park, Indiana',\n",
       " b'Edna Mills, Indiana',\n",
       " b'Federal Information Processing Standard',\n",
       " b'Fickle, Indiana',\n",
       " b'Forest, Indiana',\n",
       " b'Forest Township, Clinton County, Indiana',\n",
       " b'Frankfort, Indiana',\n",
       " b'Geographic Names Information System',\n",
       " b'Geographic coordinate system',\n",
       " b'Hamilton, Clinton County, Indiana',\n",
       " b'Hillisburg, Indiana',\n",
       " b'Incorporated town',\n",
       " b'Indiana',\n",
       " b'International Standard Book Number',\n",
       " b'Jackson Township, Clinton County, Indiana',\n",
       " b'Jefferson, Indiana',\n",
       " b'Johnson Township, Clinton County, Indiana',\n",
       " b'Kilmore, Indiana',\n",
       " b'Kirklin, Indiana',\n",
       " b'Kirklin Township, Clinton County, Indiana',\n",
       " b'List of counties in Indiana',\n",
       " b'List of townships in Indiana',\n",
       " b'Madison Township, Clinton County, Indiana',\n",
       " b'Manson, Indiana',\n",
       " b'Mattix Corner, Indiana',\n",
       " b'Michigan Township, Clinton County, Indiana',\n",
       " b'Michigantown, Indiana',\n",
       " b'Middlefork, Clinton County, Indiana',\n",
       " b'Moran, Indiana',\n",
       " b'Mulberry, Indiana',\n",
       " b'Owen Township, Clinton County, Indiana',\n",
       " b'Perry Township, Clinton County, Indiana',\n",
       " b'Pickard, Indiana',\n",
       " b'Plat',\n",
       " b'Presbyterians',\n",
       " b'Reagan, Indiana',\n",
       " b'Risse, Indiana',\n",
       " b'Ross Township, Clinton County, Indiana',\n",
       " b'Rossville, Indiana',\n",
       " b'Scircleville, Indiana',\n",
       " b'Sedalia, Indiana',\n",
       " b'Sugar Creek Township, Clinton County, Indiana',\n",
       " b'U.S. state',\n",
       " b'Unincorporated area',\n",
       " b'Union Township, Clinton County, Indiana',\n",
       " b'United States',\n",
       " b'United States Census Bureau',\n",
       " b'United States Geological Survey',\n",
       " b'Warren Township, Clinton County, Indiana',\n",
       " b'Washington Township, Clinton County, Indiana',\n",
       " b'Wesley Manor, Indiana',\n",
       " b'Woodside Park, Indiana',\n",
       " b'ZIP code']"
      ]
     },
     "execution_count": 35,
     "metadata": {},
     "output_type": "execute_result"
    }
   ],
   "source": [
    "links"
   ]
  },
  {
   "cell_type": "code",
   "execution_count": 36,
   "metadata": {},
   "outputs": [
    {
     "name": "stdout",
     "output_type": "stream",
     "text": [
      "art b'Antioch, Clinton County, Indiana'\n",
      "art b'Avery, Indiana'\n",
      "art b'Beard, Indiana'\n",
      "art b'Boyleston, Indiana'\n",
      "art b'Cambria, Indiana'\n",
      "art b'Center Township, Clinton County, Indiana'\n",
      "art b'City'\n",
      "art b'Civil township'\n",
      "art b'Clinton County, Indiana'\n",
      "art b'Colfax, Indiana'\n",
      "redir b'Countries of the world'\n",
      "art b'County seat'\n",
      "art b'Cyclone, Indiana'\n",
      "*failed b'East Park, Indiana'\n",
      "art b'Edna Mills, Indiana'\n",
      "redir b'Federal Information Processing Standard'\n",
      "art b'Fickle, Indiana'\n",
      "art b'Forest, Indiana'\n",
      "art b'Forest Township, Clinton County, Indiana'\n",
      "art b'Frankfort, Indiana'\n",
      "art b'Geographic Names Information System'\n",
      "art b'Geographic coordinate system'\n",
      "art b'Hamilton, Clinton County, Indiana'\n",
      "art b'Hillisburg, Indiana'\n",
      "art b'Incorporated town'\n",
      "art b'Indiana'\n",
      "art b'International Standard Book Number'\n",
      "art b'Jackson Township, Clinton County, Indiana'\n",
      "art b'Jefferson, Indiana'\n",
      "art b'Johnson Township, Clinton County, Indiana'\n",
      "art b'Kilmore, Indiana'\n",
      "art b'Kirklin, Indiana'\n",
      "art b'Kirklin Township, Clinton County, Indiana'\n",
      "art b'List of counties in Indiana'\n",
      "redir b'List of townships in Indiana'\n",
      "art b'Madison Township, Clinton County, Indiana'\n",
      "art b'Manson, Indiana'\n",
      "art b'Mattix Corner, Indiana'\n",
      "art b'Michigan Township, Clinton County, Indiana'\n",
      "art b'Michigantown, Indiana'\n",
      "art b'Middlefork, Clinton County, Indiana'\n",
      "art b'Moran, Indiana'\n",
      "art b'Mulberry, Indiana'\n",
      "art b'Owen Township, Clinton County, Indiana'\n",
      "art b'Perry Township, Clinton County, Indiana'\n",
      "art b'Pickard, Indiana'\n",
      "art b'Plat'\n",
      "redir b'Presbyterians'\n",
      "art b'Reagan, Indiana'\n",
      "*failed b'Risse, Indiana'\n",
      "art b'Ross Township, Clinton County, Indiana'\n",
      "art b'Rossville, Indiana'\n",
      "art b'Scircleville, Indiana'\n",
      "art b'Sedalia, Indiana'\n",
      "art b'Sugar Creek Township, Clinton County, Indiana'\n",
      "art b'U.S. state'\n",
      "art b'Unincorporated area'\n",
      "art b'Union Township, Clinton County, Indiana'\n",
      "art b'United States'\n",
      "art b'United States Census Bureau'\n",
      "art b'United States Geological Survey'\n",
      "art b'Warren Township, Clinton County, Indiana'\n",
      "art b'Washington Township, Clinton County, Indiana'\n",
      "*failed b'Wesley Manor, Indiana'\n",
      "*failed b'Woodside Park, Indiana'\n",
      "redir b'ZIP code'\n"
     ]
    }
   ],
   "source": [
    "for i, l in enumerate(links):\n",
    "    if db.sismember('articles', l):\n",
    "        print('art', l)\n",
    "    elif db.sismember('redirs', l):\n",
    "        print('redir', l)\n",
    "    else:\n",
    "        print('*failed', l)"
   ]
  },
  {
   "cell_type": "code",
   "execution_count": 27,
   "metadata": {},
   "outputs": [
    {
     "data": {
      "text/plain": [
       "11583710"
      ]
     },
     "execution_count": 27,
     "metadata": {},
     "output_type": "execute_result"
    }
   ],
   "source": []
  },
  {
   "cell_type": "code",
   "execution_count": 5,
   "metadata": {},
   "outputs": [
    {
     "ename": "NameError",
     "evalue": "name 'db' is not defined",
     "output_type": "error",
     "traceback": [
      "\u001b[0;31m---------------------------------------------------------------------------\u001b[0m",
      "\u001b[0;31mNameError\u001b[0m                                 Traceback (most recent call last)",
      "\u001b[0;32m<ipython-input-5-c8181e1a77fb>\u001b[0m in \u001b[0;36m<module>\u001b[0;34m()\u001b[0m\n\u001b[1;32m      1\u001b[0m \u001b[0;31m#redir = db.smembers('redirs')\u001b[0m\u001b[0;34m\u001b[0m\u001b[0;34m\u001b[0m\u001b[0m\n\u001b[0;32m----> 2\u001b[0;31m \u001b[0mredir\u001b[0m \u001b[0;34m=\u001b[0m \u001b[0;34m[\u001b[0m\u001b[0mdb\u001b[0m\u001b[0;34m.\u001b[0m\u001b[0msrandmember\u001b[0m\u001b[0;34m(\u001b[0m\u001b[0;34m'articles'\u001b[0m\u001b[0;34m)\u001b[0m \u001b[0;32mfor\u001b[0m \u001b[0m_\u001b[0m \u001b[0;32min\u001b[0m \u001b[0mrange\u001b[0m\u001b[0;34m(\u001b[0m\u001b[0;36m70\u001b[0m\u001b[0;34m)\u001b[0m\u001b[0;34m]\u001b[0m \u001b[0;34m+\u001b[0m \u001b[0;34m[\u001b[0m\u001b[0;34mb'Jumping spider'\u001b[0m\u001b[0;34m]\u001b[0m\u001b[0;34m\u001b[0m\u001b[0m\n\u001b[0m\u001b[1;32m      3\u001b[0m \u001b[0mlen\u001b[0m\u001b[0;34m(\u001b[0m\u001b[0mredir\u001b[0m\u001b[0;34m)\u001b[0m\u001b[0;34m\u001b[0m\u001b[0m\n",
      "\u001b[0;32m<ipython-input-5-c8181e1a77fb>\u001b[0m in \u001b[0;36m<listcomp>\u001b[0;34m(.0)\u001b[0m\n\u001b[1;32m      1\u001b[0m \u001b[0;31m#redir = db.smembers('redirs')\u001b[0m\u001b[0;34m\u001b[0m\u001b[0;34m\u001b[0m\u001b[0m\n\u001b[0;32m----> 2\u001b[0;31m \u001b[0mredir\u001b[0m \u001b[0;34m=\u001b[0m \u001b[0;34m[\u001b[0m\u001b[0mdb\u001b[0m\u001b[0;34m.\u001b[0m\u001b[0msrandmember\u001b[0m\u001b[0;34m(\u001b[0m\u001b[0;34m'articles'\u001b[0m\u001b[0;34m)\u001b[0m \u001b[0;32mfor\u001b[0m \u001b[0m_\u001b[0m \u001b[0;32min\u001b[0m \u001b[0mrange\u001b[0m\u001b[0;34m(\u001b[0m\u001b[0;36m70\u001b[0m\u001b[0;34m)\u001b[0m\u001b[0;34m]\u001b[0m \u001b[0;34m+\u001b[0m \u001b[0;34m[\u001b[0m\u001b[0;34mb'Jumping spider'\u001b[0m\u001b[0;34m]\u001b[0m\u001b[0;34m\u001b[0m\u001b[0m\n\u001b[0m\u001b[1;32m      3\u001b[0m \u001b[0mlen\u001b[0m\u001b[0;34m(\u001b[0m\u001b[0mredir\u001b[0m\u001b[0;34m)\u001b[0m\u001b[0;34m\u001b[0m\u001b[0m\n",
      "\u001b[0;31mNameError\u001b[0m: name 'db' is not defined"
     ]
    }
   ],
   "source": [
    "#redir = db.smembers('redirs')\n",
    "redir = [db.srandmember('articles') for _ in range(70)] + [b'Jumping spider']\n",
    "len(redir)"
   ]
  },
  {
   "cell_type": "code",
   "execution_count": 10,
   "metadata": {},
   "outputs": [],
   "source": [
    "ITER = util.batches(arts, 50)"
   ]
  },
  {
   "cell_type": "code",
   "execution_count": 11,
   "metadata": {
    "collapsed": true
   },
   "outputs": [],
   "source": [
    "x = next(ITER)"
   ]
  },
  {
   "cell_type": "code",
   "execution_count": null,
   "metadata": {},
   "outputs": [],
   "source": [
    "x[0]"
   ]
  },
  {
   "cell_type": "code",
   "execution_count": 15,
   "metadata": {},
   "outputs": [],
   "source": [
    "DATA = get_links(x)\n",
    "#DATA = get_all_redirs(b'Grapholitha subcorticana|Fao_festival|Zeiraphera_subcorticana|Salticidae')"
   ]
  },
  {
   "cell_type": "code",
   "execution_count": 16,
   "metadata": {},
   "outputs": [
    {
     "data": {
      "text/plain": [
       "dict_keys(['batchcomplete', 'query'])"
      ]
     },
     "execution_count": 16,
     "metadata": {},
     "output_type": "execute_result"
    }
   ],
   "source": [
    "DATA.keys()"
   ]
  },
  {
   "cell_type": "code",
   "execution_count": 17,
   "metadata": {},
   "outputs": [
    {
     "data": {
      "text/plain": [
       "dict_keys(['redirects', 'pages'])"
      ]
     },
     "execution_count": 17,
     "metadata": {},
     "output_type": "execute_result"
    }
   ],
   "source": [
    "DATA['query'].keys()"
   ]
  },
  {
   "cell_type": "code",
   "execution_count": 24,
   "metadata": {},
   "outputs": [
    {
     "data": {
      "text/plain": [
       "36"
      ]
     },
     "execution_count": 24,
     "metadata": {},
     "output_type": "execute_result"
    }
   ],
   "source": [
    "out = DATA['query']['redirects']\n",
    "len(out)"
   ]
  },
  {
   "cell_type": "code",
   "execution_count": 31,
   "metadata": {},
   "outputs": [
    {
     "data": {
      "text/plain": [
       "11087936"
      ]
     },
     "execution_count": 31,
     "metadata": {},
     "output_type": "execute_result"
    }
   ],
   "source": [
    "#db.rem('test')\n",
    "db.scard('redirs')"
   ]
  },
  {
   "cell_type": "code",
   "execution_count": 27,
   "metadata": {},
   "outputs": [],
   "source": [
    "opts = set(x)\n",
    "for o in out:\n",
    "    assert o['from'].encode() in opts, str(o)"
   ]
  },
  {
   "cell_type": "code",
   "execution_count": 29,
   "metadata": {},
   "outputs": [],
   "source": [
    "def work_fn(db, names, **unused):\n",
    "    \n",
    "    db.sadd('todo', *names)\n",
    "    \n",
    "def init_fn(**unused):\n",
    "    out = {\n",
    "        'db':redis.Redis(port=6381, db=0)\n",
    "    }\n",
    "    return out"
   ]
  },
  {
   "cell_type": "code",
   "execution_count": 30,
   "metadata": {},
   "outputs": [],
   "source": [
    "shared = {}\n",
    "def list_names():\n",
    "    for r in util.batches(arts, n=50):\n",
    "    #for i, n in enumerate(arts)\n",
    "        yield {'names': r}\n",
    "volatile = iter(list_names())"
   ]
  },
  {
   "cell_type": "code",
   "execution_count": 31,
   "metadata": {},
   "outputs": [],
   "source": [
    "creator = util.Farmer(fn=work_fn, init_fn=init_fn, volatile_gen=volatile, num_workers=12, auto_dispatch=False, waiting=0)"
   ]
  },
  {
   "cell_type": "code",
   "execution_count": 32,
   "metadata": {},
   "outputs": [],
   "source": [
    "creator._dispatch(len(arts)//50)"
   ]
  },
  {
   "cell_type": "code",
   "execution_count": 33,
   "metadata": {},
   "outputs": [
    {
     "data": {
      "text/plain": [
       "115518"
      ]
     },
     "execution_count": 33,
     "metadata": {},
     "output_type": "execute_result"
    }
   ],
   "source": [
    "len(arts)//50"
   ]
  },
  {
   "cell_type": "code",
   "execution_count": 34,
   "metadata": {},
   "outputs": [
    {
     "name": "stdout",
     "output_type": "stream",
     "text": [
      "10001\n",
      "20001\n",
      "30001\n",
      "40001\n",
      "50001\n",
      "60001\n",
      "70001\n",
      "80001\n",
      "90001\n",
      "100001\n",
      "110001\n"
     ]
    }
   ],
   "source": [
    "inc = 0\n",
    "for n in creator:\n",
    "    inc += 1\n",
    "    if inc % 10000 == 0:\n",
    "        print(inc+1)"
   ]
  },
  {
   "cell_type": "code",
   "execution_count": 36,
   "metadata": {
    "collapsed": true
   },
   "outputs": [],
   "source": [
    "del creator"
   ]
  },
  {
   "cell_type": "code",
   "execution_count": 35,
   "metadata": {},
   "outputs": [
    {
     "data": {
      "text/plain": [
       "5775900"
      ]
     },
     "execution_count": 35,
     "metadata": {},
     "output_type": "execute_result"
    }
   ],
   "source": [
    "db.scard('todo')"
   ]
  },
  {
   "cell_type": "code",
   "execution_count": 5,
   "metadata": {
    "collapsed": true
   },
   "outputs": [],
   "source": [
    "names = set(text)"
   ]
  },
  {
   "cell_type": "code",
   "execution_count": 6,
   "metadata": {},
   "outputs": [
    {
     "data": {
      "text/plain": [
       "False"
      ]
     },
     "execution_count": 6,
     "metadata": {},
     "output_type": "execute_result"
    }
   ],
   "source": [
    "'Exclamation_mark_(punctuation)' in text"
   ]
  },
  {
   "cell_type": "code",
   "execution_count": 439,
   "metadata": {},
   "outputs": [
    {
     "data": {
      "text/plain": [
       "True"
      ]
     },
     "execution_count": 439,
     "metadata": {},
     "output_type": "execute_result"
    }
   ],
   "source": [
    "'❕' in text"
   ]
  },
  {
   "cell_type": "code",
   "execution_count": 13,
   "metadata": {
    "collapsed": true
   },
   "outputs": [],
   "source": [
    "for name in names:\n",
    "    break"
   ]
  },
  {
   "cell_type": "code",
   "execution_count": 14,
   "metadata": {},
   "outputs": [
    {
     "data": {
      "text/plain": [
       "'Thur_(disambiguation)'"
      ]
     },
     "execution_count": 14,
     "metadata": {},
     "output_type": "execute_result"
    }
   ],
   "source": [
    "name"
   ]
  },
  {
   "cell_type": "code",
   "execution_count": null,
   "metadata": {
    "collapsed": true
   },
   "outputs": [],
   "source": [
    "URL = \"https://en.wikipedia.org/w/api.php\"\n",
    "\n",
    "PARAMS = {\n",
    "    \"action\": \"query\",\n",
    "    \"format\": \"json\",\n",
    "    \"list\": \"allpages\",\n",
    "    #'list': \"alllinks\",\n",
    "    #'allimit': '10',\n",
    "    #'titles': 'Exclamation mark',\n",
    "    #'titles': 'Double_factorial|Artificial_intelligence|AI ethics',\n",
    "    'prop': \"links\",\n",
    "    #'redirects':True,\n",
    "    #'alprop': 'ids|title',\n",
    "    #\"apfrom\": \"jungle\", # continue\n",
    "}\n",
    "\n",
    "PARAMS = { # get links\n",
    "    \"action\": \"query\",\n",
    "    \"format\": \"json\",\n",
    "    \"titles\": \"Wesolowskana_lymphatica\",\n",
    "    #'titles': 'Jumping spider',\n",
    "    \"prop\": \"links\",\n",
    "    'redirects':True,\n",
    "    'pllimit': 'max',\n",
    "    'plnamespace': '0',\n",
    "}\n",
    "\n",
    "# PARAMS = {\n",
    "#     'action': \"query\",\n",
    "#     'format': \"json\",\n",
    "#     'rdnamespace': '0',\n",
    "#     #'titles': \"Salticidae\",\n",
    "#     #'titles': \"Jumping_spider\",\n",
    "#     'titles': 'Exclamation_mark',\n",
    "#     'prop': \"redirects\",\n",
    "#     'rdlimit':'10',\n",
    "# }\n",
    "\n",
    "PARAMS = {\n",
    "    'action': \"query\",\n",
    "    'format': \"json\",\n",
    "    #'rdnamespace': '0',\n",
    "    'titles': 'Zeiraphera_subcorticana',#'Fao_festival',\n",
    "    'titles': 'Grapholitha subcorticana|Fao_festival|Zeiraphera_subcorticana|Salticidae',\n",
    "    #'titles': 'Fao_festival',\n",
    "    'prop': \"redirects\",\n",
    "    #'rdlimit': 'max',\n",
    "    'redirects': True,\n",
    "}\n",
    "\n",
    "PARAMS = {  # get links\n",
    "    \"action\": \"query\",\n",
    "    \"format\": \"json\",\n",
    "    'titles': b'Grapholitha subcorticana',\n",
    "    \"prop\": \"links\",\n",
    "    'redirects': True,\n",
    "    'pllimit': 'max',\n",
    "    'plnamespace': '0',\n",
    "}\n",
    "\n",
    "R = requests.get(url=URL, params=PARAMS)\n",
    "DATA = R.json()"
   ]
  },
  {
   "cell_type": "code",
   "execution_count": null,
   "metadata": {},
   "outputs": [],
   "source": [
    "R.url"
   ]
  },
  {
   "cell_type": "code",
   "execution_count": null,
   "metadata": {},
   "outputs": [],
   "source": [
    "DATA.keys()"
   ]
  },
  {
   "cell_type": "code",
   "execution_count": null,
   "metadata": {},
   "outputs": [],
   "source": [
    "DATA['continue']"
   ]
  },
  {
   "cell_type": "code",
   "execution_count": null,
   "metadata": {},
   "outputs": [],
   "source": [
    "DATA['query'].keys()"
   ]
  },
  {
   "cell_type": "code",
   "execution_count": 73,
   "metadata": {},
   "outputs": [
    {
     "data": {
      "text/plain": [
       "[{'from': 'Salticidae', 'to': 'Jumping spider'},\n",
       " {'from': 'Grapholitha subcorticana', 'to': 'Zeiraphera subcorticana'}]"
      ]
     },
     "execution_count": 73,
     "metadata": {},
     "output_type": "execute_result"
    }
   ],
   "source": [
    "DATA['query']['redirects']"
   ]
  },
  {
   "cell_type": "code",
   "execution_count": 74,
   "metadata": {},
   "outputs": [
    {
     "data": {
      "text/plain": [
       "[{'from': 'Fao_festival', 'to': 'Fao festival'},\n",
       " {'from': 'Zeiraphera_subcorticana', 'to': 'Zeiraphera subcorticana'}]"
      ]
     },
     "execution_count": 74,
     "metadata": {},
     "output_type": "execute_result"
    }
   ],
   "source": [
    "DATA['query']['normalized']"
   ]
  },
  {
   "cell_type": "code",
   "execution_count": 75,
   "metadata": {},
   "outputs": [
    {
     "data": {
      "text/plain": [
       "{'276115': {'ns': 0,\n",
       "  'pageid': 276115,\n",
       "  'redirects': [{'ns': 0, 'pageid': 341051, 'title': 'Salticidae'},\n",
       "   {'ns': 0, 'pageid': 4631934, 'title': 'Jumping spiders'},\n",
       "   {'ns': 0, 'pageid': 6046836, 'title': 'Salticoidea'},\n",
       "   {'ns': 0, 'pageid': 6198198, 'title': 'Attid spider'},\n",
       "   {'ns': 0, 'pageid': 8573939, 'title': 'Jumping-spider'},\n",
       "   {'ns': 0, 'pageid': 8718453, 'title': 'Attidae'},\n",
       "   {'ns': 0, 'pageid': 19494313, 'title': 'Salticid'},\n",
       "   {'ns': 0, 'pageid': 24177055, 'title': 'Jumping Spider'},\n",
       "   {'ns': 0, 'pageid': 28179119, 'title': 'Saltids'}],\n",
       "  'title': 'Jumping spider'},\n",
       " '34200083': {'ns': 0, 'pageid': 34200083, 'title': 'Fao festival'},\n",
       " '43656607': {'ns': 0,\n",
       "  'pageid': 43656607,\n",
       "  'redirects': [{'ns': 0,\n",
       "    'pageid': 43656613,\n",
       "    'title': 'Paedisca subcorticana'}],\n",
       "  'title': 'Zeiraphera subcorticana'}}"
      ]
     },
     "execution_count": 75,
     "metadata": {},
     "output_type": "execute_result"
    }
   ],
   "source": [
    "DATA['query']['pages']"
   ]
  },
  {
   "cell_type": "code",
   "execution_count": 297,
   "metadata": {},
   "outputs": [
    {
     "data": {
      "text/plain": [
       "'https://en.wikipedia.org/wiki/Salticidae'"
      ]
     },
     "execution_count": 297,
     "metadata": {},
     "output_type": "execute_result"
    }
   ],
   "source": [
    "'https://en.wikipedia.org/wiki/Salticidae'"
   ]
  },
  {
   "cell_type": "code",
   "execution_count": 9,
   "metadata": {
    "collapsed": true
   },
   "outputs": [],
   "source": [
    "db = redis.Redis()"
   ]
  },
  {
   "cell_type": "code",
   "execution_count": 10,
   "metadata": {},
   "outputs": [
    {
     "data": {
      "text/plain": [
       "3"
      ]
     },
     "execution_count": 10,
     "metadata": {},
     "output_type": "execute_result"
    }
   ],
   "source": [
    "db.dbsize()"
   ]
  },
  {
   "cell_type": "code",
   "execution_count": 11,
   "metadata": {},
   "outputs": [
    {
     "data": {
      "text/plain": [
       "[b'\\xe2\\x9d\\x95\\xe2\\x9d\\x95\\xe2\\x9d\\x95', b'\\xe2\\x9d\\x95', b'test']"
      ]
     },
     "execution_count": 11,
     "metadata": {},
     "output_type": "execute_result"
    }
   ],
   "source": [
    "db.keys()"
   ]
  },
  {
   "cell_type": "code",
   "execution_count": 12,
   "metadata": {},
   "outputs": [
    {
     "data": {
      "text/plain": [
       "True"
      ]
     },
     "execution_count": 12,
     "metadata": {},
     "output_type": "execute_result"
    }
   ],
   "source": [
    "db.set(10, 12)"
   ]
  },
  {
   "cell_type": "code",
   "execution_count": 13,
   "metadata": {},
   "outputs": [
    {
     "data": {
      "text/plain": [
       "[b'\\xe2\\x9d\\x95\\xe2\\x9d\\x95\\xe2\\x9d\\x95', b'\\xe2\\x9d\\x95', b'10', b'test']"
      ]
     },
     "execution_count": 13,
     "metadata": {},
     "output_type": "execute_result"
    }
   ],
   "source": [
    "db.keys()"
   ]
  },
  {
   "cell_type": "code",
   "execution_count": 14,
   "metadata": {},
   "outputs": [
    {
     "data": {
      "text/plain": [
       "b'12'"
      ]
     },
     "execution_count": 14,
     "metadata": {},
     "output_type": "execute_result"
    }
   ],
   "source": [
    "db.get(10)"
   ]
  },
  {
   "cell_type": "code",
   "execution_count": 18,
   "metadata": {},
   "outputs": [
    {
     "data": {
      "text/plain": [
       "b'10'"
      ]
     },
     "execution_count": 18,
     "metadata": {},
     "output_type": "execute_result"
    }
   ],
   "source": [
    "str(10).encode()"
   ]
  },
  {
   "cell_type": "code",
   "execution_count": 429,
   "metadata": {},
   "outputs": [
    {
     "data": {
      "text/plain": [
       "True"
      ]
     },
     "execution_count": 429,
     "metadata": {},
     "output_type": "execute_result"
    }
   ],
   "source": [
    "db.set('test','1')"
   ]
  },
  {
   "cell_type": "code",
   "execution_count": 427,
   "metadata": {
    "collapsed": true
   },
   "outputs": [],
   "source": [
    "db.shutdown()"
   ]
  },
  {
   "cell_type": "code",
   "execution_count": 430,
   "metadata": {},
   "outputs": [
    {
     "data": {
      "text/plain": [
       "True"
      ]
     },
     "execution_count": 430,
     "metadata": {},
     "output_type": "execute_result"
    }
   ],
   "source": [
    "db.set('❕', '❕❕')"
   ]
  },
  {
   "cell_type": "code",
   "execution_count": 19,
   "metadata": {},
   "outputs": [
    {
     "data": {
      "text/plain": [
       "b'\\xe2\\x9d\\x95'"
      ]
     },
     "execution_count": 19,
     "metadata": {},
     "output_type": "execute_result"
    }
   ],
   "source": [
    "'❕'.encode()"
   ]
  },
  {
   "cell_type": "code",
   "execution_count": 431,
   "metadata": {},
   "outputs": [
    {
     "data": {
      "text/plain": [
       "[b'\\xe2\\x9d\\x95', b'test']"
      ]
     },
     "execution_count": 431,
     "metadata": {},
     "output_type": "execute_result"
    }
   ],
   "source": [
    "db.keys()"
   ]
  },
  {
   "cell_type": "code",
   "execution_count": 432,
   "metadata": {},
   "outputs": [
    {
     "data": {
      "text/plain": [
       "b'\\xe2\\x9d\\x95\\xe2\\x9d\\x95'"
      ]
     },
     "execution_count": 432,
     "metadata": {},
     "output_type": "execute_result"
    }
   ],
   "source": [
    "db.get('❕')"
   ]
  },
  {
   "cell_type": "code",
   "execution_count": 20,
   "metadata": {},
   "outputs": [
    {
     "data": {
      "text/plain": [
       "1"
      ]
     },
     "execution_count": 20,
     "metadata": {},
     "output_type": "execute_result"
    }
   ],
   "source": [
    "db.sadd('x', '10')"
   ]
  },
  {
   "cell_type": "code",
   "execution_count": 21,
   "metadata": {},
   "outputs": [
    {
     "data": {
      "text/plain": [
       "1"
      ]
     },
     "execution_count": 21,
     "metadata": {},
     "output_type": "execute_result"
    }
   ],
   "source": [
    "db.sadd('x', '12')"
   ]
  },
  {
   "cell_type": "code",
   "execution_count": 22,
   "metadata": {},
   "outputs": [
    {
     "data": {
      "text/plain": [
       "{b'10', b'12'}"
      ]
     },
     "execution_count": 22,
     "metadata": {},
     "output_type": "execute_result"
    }
   ],
   "source": [
    "db.smembers('x')"
   ]
  },
  {
   "cell_type": "code",
   "execution_count": 26,
   "metadata": {
    "collapsed": true
   },
   "outputs": [],
   "source": [
    "db.spop('x')"
   ]
  },
  {
   "cell_type": "code",
   "execution_count": 434,
   "metadata": {},
   "outputs": [
    {
     "data": {
      "text/plain": [
       "1"
      ]
     },
     "execution_count": 434,
     "metadata": {},
     "output_type": "execute_result"
    }
   ],
   "source": [
    "db.hset('❕❕❕','❕', '❕❕')"
   ]
  },
  {
   "cell_type": "code",
   "execution_count": 438,
   "metadata": {},
   "outputs": [
    {
     "data": {
      "text/plain": [
       "'❕❕'"
      ]
     },
     "execution_count": 438,
     "metadata": {},
     "output_type": "execute_result"
    }
   ],
   "source": [
    "db.hget('❕❕❕', '❕').decode()"
   ]
  },
  {
   "cell_type": "code",
   "execution_count": 5,
   "metadata": {},
   "outputs": [
    {
     "data": {
      "text/plain": [
       "'Artificial intelligence'"
      ]
     },
     "execution_count": 5,
     "metadata": {},
     "output_type": "execute_result"
    }
   ],
   "source": [
    "name = text[np.random.randint(len(text))]\n",
    "name = 'Artificial intelligence'\n",
    "name"
   ]
  },
  {
   "cell_type": "code",
   "execution_count": 7,
   "metadata": {},
   "outputs": [
    {
     "data": {
      "text/plain": [
       "(1164, 'Artificial intelligence', 56)"
      ]
     },
     "execution_count": 7,
     "metadata": {},
     "output_type": "execute_result"
    }
   ],
   "source": [
    "ID, title, redirs = get_redirs(name)\n",
    "ID, title, len(redirs) if redirs is not None else None"
   ]
  },
  {
   "cell_type": "code",
   "execution_count": 8,
   "metadata": {},
   "outputs": [
    {
     "data": {
      "text/plain": [
       "[{'pageid': 1268, 'ns': 0, 'title': 'AI'},\n",
       " {'pageid': 83979, 'ns': 0, 'title': 'Machine intelligence'},\n",
       " {'pageid': 87949, 'ns': 0, 'title': 'AI ethics'},\n",
       " {'pageid': 87959, 'ns': 0, 'title': 'AI implications'},\n",
       " {'pageid': 246362, 'ns': 0, 'title': 'Artificially intelligent'},\n",
       " {'pageid': 524509, 'ns': 0, 'title': 'Artificial Intelligence'},\n",
       " {'pageid': 638220, 'ns': 0, 'title': 'The Artificial Intelligence'},\n",
       " {'pageid': 640610, 'ns': 0, 'title': 'Artificial intelligence (AI)'},\n",
       " {'pageid': 644536, 'ns': 0, 'title': 'Artificial Intelligence (AI)'},\n",
       " {'pageid': 886891, 'ns': 0, 'title': 'Machine understanding'},\n",
       " {'pageid': 990276, 'ns': 0, 'title': 'Aretificial intelligence'},\n",
       " {'pageid': 1308511, 'ns': 0, 'title': 'Artificial intelligences'},\n",
       " {'pageid': 1780695,\n",
       "  'ns': 0,\n",
       "  'title': 'The Theory of Artificial Intelligence'},\n",
       " {'pageid': 1885131, 'ns': 0, 'title': 'Artificial inteligence'},\n",
       " {'pageid': 2436571, 'ns': 0, 'title': 'Artifical Intelligence'},\n",
       " {'pageid': 2448119, 'ns': 0, 'title': 'Commonsense AI'},\n",
       " {'pageid': 2709154, 'ns': 0, 'title': 'AI Robotics'},\n",
       " {'pageid': 2948424, 'ns': 0, 'title': 'Artificial intellegence'},\n",
       " {'pageid': 2948425, 'ns': 0, 'title': 'Artificial intellect'},\n",
       " {'pageid': 3364342, 'ns': 0, 'title': 'Soft AI'},\n",
       " {'pageid': 5802521, 'ns': 0, 'title': 'AI scripting'},\n",
       " {'pageid': 8116110, 'ns': 0, 'title': 'Semi-AI'},\n",
       " {'pageid': 8116112, 'ns': 0, 'title': 'Semi AI'},\n",
       " {'pageid': 9178900, 'ns': 0, 'title': 'Simulated intelligence'},\n",
       " {'pageid': 12007920, 'ns': 0, 'title': 'Artificial Intelligence, a.i.'},\n",
       " {'pageid': 14518255, 'ns': 0, 'title': 'Artificial Intelligence Program'},\n",
       " {'pageid': 18401650, 'ns': 0, 'title': 'Sub-symbolic'},\n",
       " {'pageid': 18401828, 'ns': 0, 'title': 'Subsymbolic'},\n",
       " {'pageid': 19299786, 'ns': 0, 'title': 'Artificially-intelligent'},\n",
       " {'pageid': 19815006, 'ns': 0, 'title': 'Cognitive system'},\n",
       " {'pageid': 20886072, 'ns': 0, 'title': 'Artificual intelligence'},\n",
       " {'pageid': 21159046, 'ns': 0, 'title': 'Ontology based approach'},\n",
       " {'pageid': 23590261, 'ns': 0, 'title': 'Pseudo intelligence'},\n",
       " {'pageid': 23917550, 'ns': 0, 'title': 'Cognitive simulation'},\n",
       " {'pageid': 24538117, 'ns': 0, 'title': 'Computational Rationality'},\n",
       " {'pageid': 25341220, 'ns': 0, 'title': 'Digital being'},\n",
       " {'pageid': 25418333, 'ns': 0, 'title': 'Digital Being'},\n",
       " {'pageid': 26700201, 'ns': 0, 'title': 'Artificial-intelligence'},\n",
       " {'pageid': 26700932, 'ns': 0, 'title': 'AI-D'},\n",
       " {'pageid': 26701075,\n",
       "  'ns': 0,\n",
       "  'title': 'Artificial intelligence for development'},\n",
       " {'pageid': 26779958, 'ns': 0, 'title': 'Artifical intelligence'},\n",
       " {'pageid': 26940468, 'ns': 0, 'title': 'Computer AI'},\n",
       " {'pageid': 28600738, 'ns': 0, 'title': 'Cognitive systems'},\n",
       " {'pageid': 30243840, 'ns': 0, 'title': 'Intelligent machine'},\n",
       " {'pageid': 31641430, 'ns': 0, 'title': 'A I'},\n",
       " {'pageid': 37814250, 'ns': 0, 'title': 'Artificial Intelligence.'},\n",
       " {'pageid': 39428124, 'ns': 0, 'title': 'Cognitive Systems'},\n",
       " {'pageid': 44125370, 'ns': 0, 'title': 'Intellectronics'},\n",
       " {'pageid': 44196163, 'ns': 0, 'title': 'Machine thought'},\n",
       " {'pageid': 50575693, 'ns': 0, 'title': 'AI-based'},\n",
       " {'pageid': 54244260, 'ns': 0, 'title': 'Search and optimization'},\n",
       " {'pageid': 54415833, 'ns': 0, 'title': 'Dangers of artificial intelligence'},\n",
       " {'pageid': 55274757, 'ns': 0, 'title': 'Artificially intelligent beings'},\n",
       " {'pageid': 55756489, 'ns': 0, 'title': 'Natural intelligence'},\n",
       " {'pageid': 56934693, 'ns': 0, 'title': 'Automotive artificial intelligence'},\n",
       " {'pageid': 57066343, 'ns': 0, 'title': 'AI in businss'}]"
      ]
     },
     "execution_count": 8,
     "metadata": {},
     "output_type": "execute_result"
    }
   ],
   "source": [
    "redirs"
   ]
  },
  {
   "cell_type": "code",
   "execution_count": 36,
   "metadata": {},
   "outputs": [
    {
     "data": {
      "text/plain": [
       "(1164, 'Artificial intelligence', 1593, 56)"
      ]
     },
     "execution_count": 36,
     "metadata": {},
     "output_type": "execute_result"
    }
   ],
   "source": [
    "ID, title, links, redirs = wiki_collect(name)\n",
    "ID, title, len(links) if links is not None else None, len(redirs) if redirs is not None else None"
   ]
  },
  {
   "cell_type": "code",
   "execution_count": 34,
   "metadata": {},
   "outputs": [
    {
     "data": {
      "text/plain": [
       "[{'ns': 0, 'title': 'ARMM Regional Legislative Assembly'},\n",
       " {'ns': 0, 'title': 'Administrative divisions of the Philippines'},\n",
       " {'ns': 0, 'title': 'Alaminos, Pangasinan'},\n",
       " {'ns': 0, 'title': 'Angeles, Pampanga'},\n",
       " {'ns': 0, 'title': 'Antipolo City'},\n",
       " {'ns': 0,\n",
       "  'title': 'Associate Justice of the Supreme Court of the Philippines'},\n",
       " {'ns': 0, 'title': 'Bacolod City'},\n",
       " {'ns': 0, 'title': 'Bacoor'},\n",
       " {'ns': 0, 'title': 'Bago City'},\n",
       " {'ns': 0, 'title': 'Baguio'},\n",
       " {'ns': 0, 'title': 'Bais City'},\n",
       " {'ns': 0, 'title': 'Balanga, Bataan'},\n",
       " {'ns': 0, 'title': 'Barangay'},\n",
       " {'ns': 0, 'title': 'Barangay councils in the Philippines'},\n",
       " {'ns': 0, 'title': 'Batac'},\n",
       " {'ns': 0, 'title': 'Batangas City'},\n",
       " {'ns': 0, 'title': 'Bayawan'},\n",
       " {'ns': 0, 'title': 'Baybay, Leyte'},\n",
       " {'ns': 0, 'title': 'Bayugan, Agusan del Sur'},\n",
       " {'ns': 0, 'title': 'Bislig'},\n",
       " {'ns': 0, 'title': 'Biñan, Laguna'},\n",
       " {'ns': 0, 'title': 'Bogo, Cebu'},\n",
       " {'ns': 0, 'title': 'Borongan'},\n",
       " {'ns': 0, 'title': 'Butuan'},\n",
       " {'ns': 0, 'title': 'Cabadbaran, Agusan del Norte'},\n",
       " {'ns': 0, 'title': 'Cabanatuan'},\n",
       " {'ns': 0, 'title': 'Cabinet of the Philippines'},\n",
       " {'ns': 0, 'title': 'Cabuyao, Laguna'},\n",
       " {'ns': 0, 'title': 'Cadiz, Negros Occidental'},\n",
       " {'ns': 0, 'title': 'Cagayan de Oro'},\n",
       " {'ns': 0, 'title': 'Calamba, Laguna'},\n",
       " {'ns': 0, 'title': 'Calapan'},\n",
       " {'ns': 0, 'title': 'Calbayog'},\n",
       " {'ns': 0, 'title': 'Caloocan'},\n",
       " {'ns': 0, 'title': 'Candon'},\n",
       " {'ns': 0, 'title': 'Canlaon City'},\n",
       " {'ns': 0, 'title': 'Capital of the Philippines'},\n",
       " {'ns': 0, 'title': 'Carcar, Cebu'},\n",
       " {'ns': 0, 'title': 'Catbalogan'},\n",
       " {'ns': 0, 'title': 'Cauayan City'},\n",
       " {'ns': 0, 'title': 'Cavite City'},\n",
       " {'ns': 0, 'title': 'Cebu City'},\n",
       " {'ns': 0, 'title': 'Chairman'},\n",
       " {'ns': 0, 'title': 'Charter'},\n",
       " {'ns': 0, 'title': 'Cities of the Philippines'},\n",
       " {'ns': 0, 'title': 'City council'},\n",
       " {'ns': 0, 'title': 'Civil Service Commission of the Philippines'},\n",
       " {'ns': 0, 'title': 'Commission on Audit of the Philippines'},\n",
       " {'ns': 0, 'title': 'Commission on Elections (Philippines)'},\n",
       " {'ns': 0, 'title': 'Commission on Human Rights (Philippines)'},\n",
       " {'ns': 0, 'title': 'Congress of the Philippines'},\n",
       " {'ns': 0, 'title': 'Constitution of the Philippines'},\n",
       " {'ns': 0, 'title': 'Constitutional reform in the Philippines'},\n",
       " {'ns': 0, 'title': 'Cotabato City'},\n",
       " {'ns': 0, 'title': 'Councilor'},\n",
       " {'ns': 0, 'title': 'Court of Appeals of the Philippines'},\n",
       " {'ns': 0, 'title': 'Court of Tax Appeals of the Philippines'},\n",
       " {'ns': 0, 'title': 'Dagupan'},\n",
       " {'ns': 0, 'title': 'Danao City'},\n",
       " {'ns': 0, 'title': 'Dapitan'},\n",
       " {'ns': 0, 'title': 'Dasmariñas, Cavite'},\n",
       " {'ns': 0, 'title': 'Davao City'},\n",
       " {'ns': 0, 'title': 'Digos'},\n",
       " {'ns': 0, 'title': 'Dipolog'},\n",
       " {'ns': 0, 'title': 'Dumaguete'},\n",
       " {'ns': 0, 'title': 'El Salvador, Misamis Oriental'},\n",
       " {'ns': 0, 'title': 'Elections in the Philippines'},\n",
       " {'ns': 0, 'title': 'Escalante, Negros Occidental'},\n",
       " {'ns': 0, 'title': 'Executive departments of the Philippines'},\n",
       " {'ns': 0, 'title': 'Foreign relations of the Philippines'},\n",
       " {'ns': 0, 'title': 'Gapan City'},\n",
       " {'ns': 0, 'title': 'General Santos'},\n",
       " {'ns': 0, 'title': 'Gingoog'},\n",
       " {'ns': 0, 'title': 'Gloria Macapagal Arroyo'},\n",
       " {'ns': 0, 'title': 'Guihulngan'},\n",
       " {'ns': 0, 'title': 'Himamaylan'},\n",
       " {'ns': 0, 'title': 'House of Representatives of the Philippines'},\n",
       " {'ns': 0, 'title': 'Human rights in the Philippines'},\n",
       " {'ns': 0, 'title': 'Ilagan'},\n",
       " {'ns': 0, 'title': 'Iligan'},\n",
       " {'ns': 0, 'title': 'Iloilo City'},\n",
       " {'ns': 0, 'title': 'Imus'},\n",
       " {'ns': 0, 'title': 'Iriga'},\n",
       " {'ns': 0, 'title': 'Isabela, Basilan'},\n",
       " {'ns': 0, 'title': 'Island Garden City of Samal'},\n",
       " {'ns': 0, 'title': 'Kabankalan'},\n",
       " {'ns': 0, 'title': 'Katarungang Pambarangay'},\n",
       " {'ns': 0, 'title': 'Kidapawan'},\n",
       " {'ns': 0, 'title': 'Koronadal'},\n",
       " {'ns': 0, 'title': 'La Carlota, Negros Occidental'},\n",
       " {'ns': 0, 'title': 'Laban ng Demokratikong Pilipino'},\n",
       " {'ns': 0, 'title': 'Lakas–CMD'},\n",
       " {'ns': 0, 'title': 'Lamitan, Basilan'},\n",
       " {'ns': 0, 'title': 'Laoag'},\n",
       " {'ns': 0, 'title': 'Lapu-Lapu City'},\n",
       " {'ns': 0, 'title': 'Las Piñas'},\n",
       " {'ns': 0, 'title': 'Legazpi, Albay'},\n",
       " {'ns': 0, 'title': 'Legislative'},\n",
       " {'ns': 0, 'title': 'Legislative districts of the Philippines'},\n",
       " {'ns': 0, 'title': 'Legislature'},\n",
       " {'ns': 0, 'title': 'Leni Robredo'},\n",
       " {'ns': 0, 'title': 'Liberal Party (Philippines)'},\n",
       " {'ns': 0, 'title': 'Liga ng mga Barangay'},\n",
       " {'ns': 0, 'title': 'Ligao'},\n",
       " {'ns': 0, 'title': 'Lipa, Batangas'},\n",
       " {'ns': 0, 'title': 'List of Philippine laws'},\n",
       " {'ns': 0, 'title': 'List of Philippines-related topics'},\n",
       " {'ns': 0, 'title': 'List of political parties in the Philippines'},\n",
       " {'ns': 0, 'title': 'Local Government Code of 1991'},\n",
       " {'ns': 0, 'title': 'Local government in the Philippines'},\n",
       " {'ns': 0, 'title': 'Lucena, Philippines'},\n",
       " {'ns': 0, 'title': 'Maasin'},\n",
       " {'ns': 0, 'title': 'Mabalacat'},\n",
       " {'ns': 0, 'title': 'Makati'},\n",
       " {'ns': 0, 'title': 'Malabon'},\n",
       " {'ns': 0, 'title': 'Malaybalay'},\n",
       " {'ns': 0, 'title': 'Malolos'},\n",
       " {'ns': 0, 'title': 'Mandaluyong'},\n",
       " {'ns': 0, 'title': 'Mandaue'},\n",
       " {'ns': 0, 'title': 'Manila'},\n",
       " {'ns': 0, 'title': 'Marawi'},\n",
       " {'ns': 0, 'title': 'Marikina'},\n",
       " {'ns': 0, 'title': 'Masbate City'},\n",
       " {'ns': 0, 'title': 'Mati, Davao Oriental'},\n",
       " {'ns': 0, 'title': 'Meycauayan'},\n",
       " {'ns': 0, 'title': 'Municipalities of the Philippines'},\n",
       " {'ns': 0, 'title': 'Muntinlupa'},\n",
       " {'ns': 0, 'title': 'Muñoz City'},\n",
       " {'ns': 0, 'title': 'Nacionalista Party'},\n",
       " {'ns': 0, 'title': 'Naga, Camarines Sur'},\n",
       " {'ns': 0, 'title': 'Naga, Cebu'},\n",
       " {'ns': 0, 'title': 'National Unity Party (Philippines)'},\n",
       " {'ns': 0, 'title': \"Nationalist People's Coalition\"},\n",
       " {'ns': 0, 'title': 'Navotas'},\n",
       " {'ns': 0, 'title': 'Olongapo'},\n",
       " {'ns': 0, 'title': 'Ombudsman of the Philippines'},\n",
       " {'ns': 0, 'title': 'Ormoc'},\n",
       " {'ns': 0, 'title': 'Oroquieta'},\n",
       " {'ns': 0, 'title': 'Outline of political science'},\n",
       " {'ns': 0, 'title': 'Ozamiz'},\n",
       " {'ns': 0, 'title': 'PDP–Laban'},\n",
       " {'ns': 0, 'title': 'Pagadian'},\n",
       " {'ns': 0, 'title': 'Palayan City'},\n",
       " {'ns': 0, 'title': 'Panabo'},\n",
       " {'ns': 0, 'title': 'Parañaque'},\n",
       " {'ns': 0,\n",
       "  'title': 'Party-list representation in the House of Representatives of the Philippines'},\n",
       " {'ns': 0, 'title': 'Pasay'},\n",
       " {'ns': 0, 'title': 'Pasig City'},\n",
       " {'ns': 0, 'title': 'Passi City'},\n",
       " {'ns': 0, 'title': 'Philippine city'},\n",
       " {'ns': 0, 'title': 'Philippine general election, 2010'},\n",
       " {'ns': 0, 'title': 'Philippine general election, 2013'},\n",
       " {'ns': 0, 'title': 'Philippine general election, 2016'},\n",
       " {'ns': 0, 'title': 'Philippine general election, 2019'},\n",
       " {'ns': 0, 'title': 'Philippine legal codes'},\n",
       " {'ns': 0, 'title': 'Philippine municipality'},\n",
       " {'ns': 0, 'title': 'Philippines'},\n",
       " {'ns': 0, 'title': 'Poblacion'},\n",
       " {'ns': 0, 'title': 'Politics of the Philippines'},\n",
       " {'ns': 0, 'title': 'President of the Philippines'},\n",
       " {'ns': 0, 'title': 'President of the Senate of the Philippines'},\n",
       " {'ns': 0, 'title': 'Provinces of the Philippines'},\n",
       " {'ns': 0, 'title': 'Puerto Princesa'},\n",
       " {'ns': 0, 'title': 'Purok'},\n",
       " {'ns': 0, 'title': 'Pwersa ng Masang Pilipino'},\n",
       " {'ns': 0, 'title': 'Quasi-judicial'},\n",
       " {'ns': 0, 'title': 'Quezon City'},\n",
       " {'ns': 0, 'title': 'Regional Trial Court'},\n",
       " {'ns': 0, 'title': 'Regions of the Philippines'},\n",
       " {'ns': 0, 'title': 'Rodrigo Duterte'},\n",
       " {'ns': 0, 'title': 'Roxas City'},\n",
       " {'ns': 0, 'title': 'Sagay'},\n",
       " {'ns': 0, 'title': 'San Carlos City, Negros Occidental'},\n",
       " {'ns': 0, 'title': 'San Carlos City, Pangasinan'},\n",
       " {'ns': 0, 'title': 'San Fernando City, La Union'},\n",
       " {'ns': 0, 'title': 'San Fernando City, Pampanga'},\n",
       " {'ns': 0, 'title': 'San Jose, Nueva Ecija'},\n",
       " {'ns': 0, 'title': 'San Jose del Monte'},\n",
       " {'ns': 0, 'title': 'San Juan, Metro Manila'},\n",
       " {'ns': 0, 'title': 'San Pablo, Laguna'},\n",
       " {'ns': 0, 'title': 'San Pedro, Laguna'},\n",
       " {'ns': 0, 'title': 'Sandiganbayan'},\n",
       " {'ns': 0, 'title': 'Sangguniang Barangay'},\n",
       " {'ns': 0, 'title': 'Sangguniang Bayan'},\n",
       " {'ns': 0, 'title': 'Sangguniang Kabataan'},\n",
       " {'ns': 0, 'title': 'Sangguniang Panlalawigan'},\n",
       " {'ns': 0, 'title': 'Santa Rosa, Laguna'},\n",
       " {'ns': 0, 'title': 'Santiago (Philippine city)'},\n",
       " {'ns': 0, 'title': 'Senate of the Philippines'},\n",
       " {'ns': 0, 'title': 'Silay'},\n",
       " {'ns': 0, 'title': 'Sipalay'},\n",
       " {'ns': 0, 'title': 'Sitio'},\n",
       " {'ns': 0, 'title': 'Sorsogon City'},\n",
       " {'ns': 0,\n",
       "  'title': 'Speaker of the House of Representatives of the Philippines'},\n",
       " {'ns': 0, 'title': 'Supreme Court of the Philippines'},\n",
       " {'ns': 0, 'title': 'Surigao City'},\n",
       " {'ns': 0, 'title': 'Tabaco City'},\n",
       " {'ns': 0, 'title': 'Tabuk, Kalinga'},\n",
       " {'ns': 0, 'title': 'Tacloban'},\n",
       " {'ns': 0, 'title': 'Tacurong'},\n",
       " {'ns': 0, 'title': 'Tagalog language'},\n",
       " {'ns': 0, 'title': 'Tagaytay'},\n",
       " {'ns': 0, 'title': 'Tagbilaran'},\n",
       " {'ns': 0, 'title': 'Taguig'},\n",
       " {'ns': 0, 'title': 'Tagum'},\n",
       " {'ns': 0, 'title': 'Talisay City, Cebu'},\n",
       " {'ns': 0, 'title': 'Talisay City, Negros Occidental'},\n",
       " {'ns': 0, 'title': 'Tanauan, Batangas'},\n",
       " {'ns': 0, 'title': 'Tandag, Surigao del Sur'},\n",
       " {'ns': 0, 'title': 'Tangub'},\n",
       " {'ns': 0, 'title': 'Tanjay'},\n",
       " {'ns': 0, 'title': 'Tarlac City'},\n",
       " {'ns': 0, 'title': 'Taxation in the Philippines'},\n",
       " {'ns': 0, 'title': 'Tayabas, Quezon'},\n",
       " {'ns': 0, 'title': 'Toledo, Cebu'},\n",
       " {'ns': 0, 'title': 'Trece Martires'},\n",
       " {'ns': 0, 'title': 'Tuguegarao'},\n",
       " {'ns': 0, 'title': 'United Nationalist Alliance'},\n",
       " {'ns': 0, 'title': 'Urdaneta City'},\n",
       " {'ns': 0, 'title': 'Valencia City, Bukidnon'},\n",
       " {'ns': 0, 'title': 'Valenzuela City'},\n",
       " {'ns': 0, 'title': 'Vice President of the Philippines'},\n",
       " {'ns': 0, 'title': 'Vicente Sotto III'},\n",
       " {'ns': 0, 'title': 'Victorias City'},\n",
       " {'ns': 0, 'title': 'Vigan'},\n",
       " {'ns': 0, 'title': 'Wayback Machine'},\n",
       " {'ns': 0, 'title': 'Zamboanga City'}]"
      ]
     },
     "execution_count": 34,
     "metadata": {},
     "output_type": "execute_result"
    }
   ],
   "source": [
    "links"
   ]
  },
  {
   "cell_type": "code",
   "execution_count": 37,
   "metadata": {},
   "outputs": [
    {
     "data": {
      "text/plain": [
       "[{'pageid': 1268, 'ns': 0, 'title': 'AI'},\n",
       " {'pageid': 83979, 'ns': 0, 'title': 'Machine intelligence'},\n",
       " {'pageid': 87949, 'ns': 0, 'title': 'AI ethics'},\n",
       " {'pageid': 87959, 'ns': 0, 'title': 'AI implications'},\n",
       " {'pageid': 246362, 'ns': 0, 'title': 'Artificially intelligent'},\n",
       " {'pageid': 524509, 'ns': 0, 'title': 'Artificial Intelligence'},\n",
       " {'pageid': 638220, 'ns': 0, 'title': 'The Artificial Intelligence'},\n",
       " {'pageid': 640610, 'ns': 0, 'title': 'Artificial intelligence (AI)'},\n",
       " {'pageid': 644536, 'ns': 0, 'title': 'Artificial Intelligence (AI)'},\n",
       " {'pageid': 886891, 'ns': 0, 'title': 'Machine understanding'},\n",
       " {'pageid': 990276, 'ns': 0, 'title': 'Aretificial intelligence'},\n",
       " {'pageid': 1308511, 'ns': 0, 'title': 'Artificial intelligences'},\n",
       " {'pageid': 1780695,\n",
       "  'ns': 0,\n",
       "  'title': 'The Theory of Artificial Intelligence'},\n",
       " {'pageid': 1885131, 'ns': 0, 'title': 'Artificial inteligence'},\n",
       " {'pageid': 2436571, 'ns': 0, 'title': 'Artifical Intelligence'},\n",
       " {'pageid': 2448119, 'ns': 0, 'title': 'Commonsense AI'},\n",
       " {'pageid': 2709154, 'ns': 0, 'title': 'AI Robotics'},\n",
       " {'pageid': 2948424, 'ns': 0, 'title': 'Artificial intellegence'},\n",
       " {'pageid': 2948425, 'ns': 0, 'title': 'Artificial intellect'},\n",
       " {'pageid': 3364342, 'ns': 0, 'title': 'Soft AI'},\n",
       " {'pageid': 5802521, 'ns': 0, 'title': 'AI scripting'},\n",
       " {'pageid': 8116110, 'ns': 0, 'title': 'Semi-AI'},\n",
       " {'pageid': 8116112, 'ns': 0, 'title': 'Semi AI'},\n",
       " {'pageid': 9178900, 'ns': 0, 'title': 'Simulated intelligence'},\n",
       " {'pageid': 12007920, 'ns': 0, 'title': 'Artificial Intelligence, a.i.'},\n",
       " {'pageid': 14518255, 'ns': 0, 'title': 'Artificial Intelligence Program'},\n",
       " {'pageid': 18401650, 'ns': 0, 'title': 'Sub-symbolic'},\n",
       " {'pageid': 18401828, 'ns': 0, 'title': 'Subsymbolic'},\n",
       " {'pageid': 19299786, 'ns': 0, 'title': 'Artificially-intelligent'},\n",
       " {'pageid': 19815006, 'ns': 0, 'title': 'Cognitive system'},\n",
       " {'pageid': 20886072, 'ns': 0, 'title': 'Artificual intelligence'},\n",
       " {'pageid': 21159046, 'ns': 0, 'title': 'Ontology based approach'},\n",
       " {'pageid': 23590261, 'ns': 0, 'title': 'Pseudo intelligence'},\n",
       " {'pageid': 23917550, 'ns': 0, 'title': 'Cognitive simulation'},\n",
       " {'pageid': 24538117, 'ns': 0, 'title': 'Computational Rationality'},\n",
       " {'pageid': 25341220, 'ns': 0, 'title': 'Digital being'},\n",
       " {'pageid': 25418333, 'ns': 0, 'title': 'Digital Being'},\n",
       " {'pageid': 26700201, 'ns': 0, 'title': 'Artificial-intelligence'},\n",
       " {'pageid': 26700932, 'ns': 0, 'title': 'AI-D'},\n",
       " {'pageid': 26701075,\n",
       "  'ns': 0,\n",
       "  'title': 'Artificial intelligence for development'},\n",
       " {'pageid': 26779958, 'ns': 0, 'title': 'Artifical intelligence'},\n",
       " {'pageid': 26940468, 'ns': 0, 'title': 'Computer AI'},\n",
       " {'pageid': 28600738, 'ns': 0, 'title': 'Cognitive systems'},\n",
       " {'pageid': 30243840, 'ns': 0, 'title': 'Intelligent machine'},\n",
       " {'pageid': 31641430, 'ns': 0, 'title': 'A I'},\n",
       " {'pageid': 37814250, 'ns': 0, 'title': 'Artificial Intelligence.'},\n",
       " {'pageid': 39428124, 'ns': 0, 'title': 'Cognitive Systems'},\n",
       " {'pageid': 44125370, 'ns': 0, 'title': 'Intellectronics'},\n",
       " {'pageid': 44196163, 'ns': 0, 'title': 'Machine thought'},\n",
       " {'pageid': 50575693, 'ns': 0, 'title': 'AI-based'},\n",
       " {'pageid': 54244260, 'ns': 0, 'title': 'Search and optimization'},\n",
       " {'pageid': 54415833, 'ns': 0, 'title': 'Dangers of artificial intelligence'},\n",
       " {'pageid': 55274757, 'ns': 0, 'title': 'Artificially intelligent beings'},\n",
       " {'pageid': 55756489, 'ns': 0, 'title': 'Natural intelligence'},\n",
       " {'pageid': 56934693, 'ns': 0, 'title': 'Automotive artificial intelligence'},\n",
       " {'pageid': 57066343, 'ns': 0, 'title': 'AI in businss'}]"
      ]
     },
     "execution_count": 37,
     "metadata": {},
     "output_type": "execute_result"
    }
   ],
   "source": [
    "redirs"
   ]
  },
  {
   "cell_type": "code",
   "execution_count": null,
   "metadata": {
    "collapsed": true
   },
   "outputs": [],
   "source": []
  }
 ],
 "metadata": {
  "kernelspec": {
   "display_name": "Python 3",
   "language": "python",
   "name": "python3"
  }
 },
 "nbformat": 4,
 "nbformat_minor": 2
}
