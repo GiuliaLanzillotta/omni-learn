{
 "cells": [
  {
   "cell_type": "code",
   "execution_count": 1,
   "metadata": {},
   "outputs": [],
   "source": [
    "import sys, os, time\n",
    "#%load_ext autoreload\n",
    "#%autoreload 2\n",
    "import foundation as fd\n",
    "import foundation.util as util\n",
    "import numpy as np\n",
    "%matplotlib notebook\n",
    "import matplotlib.pyplot as plt\n",
    "import torch\n",
    "import torch.nn as nn\n",
    "import torch.nn.functional as F\n",
    "import torch.multiprocessing as mp\n",
    "import torchvision\n",
    "import h5py as hf\n",
    "from itertools import product\n",
    "\n",
    "import ZODB, ZODB.FileStorage\n",
    "import ZEO\n",
    "#import neo\n",
    "import transaction\n",
    "import persistent\n",
    "from persistent.list import PersistentList\n",
    "from persistent.mapping import PersistentMapping\n",
    "from BTrees import OIBTree, IOBTree, IIBTree\n",
    "from html.parser import HTMLParser\n",
    "\n",
    "from zodb_wikigraph import create_database, WikiGraph_DB\n",
    "from extraction import wiki_expand, download_article_html"
   ]
  },
  {
   "cell_type": "code",
   "execution_count": 2,
   "metadata": {},
   "outputs": [],
   "source": [
    "seeds = ['Artificial_intelligence', 'Computational_physics', 'Control_theory', 'Machine_learning', 'Quantum_computing']\n",
    "\n",
    "seed = seeds[0]\n",
    "#seed = 'Zero-knowledge_proof'\n",
    "#seed = 'Cryptography'"
   ]
  },
  {
   "cell_type": "code",
   "execution_count": 40,
   "metadata": {},
   "outputs": [
    {
     "name": "stdout",
     "output_type": "stream",
     "text": [
      "** Bad header might be missing: Catastrophic_interference#The_Sequential_Learning_Problem\n",
      "** Bad header might be missing: Superintelligence\n",
      "** Bad header might be missing: 2001\n",
      "** Bad header might be missing: 2001\n",
      "** Bad header might be missing: 2001\n",
      "** Bad header might be missing: Artificial_Intelligence\n",
      "** Bad header might be missing: Artificial_Intelligence\n",
      "** Bad header might be missing: Artificial_Intelligence\n",
      "** Bad header might be missing: Superintelligence\n"
     ]
    },
    {
     "data": {
      "text/plain": [
       "(1399, 186)"
      ]
     },
     "execution_count": 40,
     "metadata": {},
     "output_type": "execute_result"
    }
   ],
   "source": [
    "links, redirs, _ = wiki_expand(seed)\n",
    "links, redirs = [[link['href'][6:] for link in group] for group in [links, redirs]]\n",
    "links, redirs = map(list, map(set, [links, redirs]))\n",
    "if seed in links:\n",
    "    links.remove(seed)\n",
    "len(links), len(redirs)"
   ]
  },
  {
   "cell_type": "code",
   "execution_count": 31,
   "metadata": {},
   "outputs": [],
   "source": [
    "# html = download_article_html(seed)\n",
    "# len(html)"
   ]
  },
  {
   "cell_type": "code",
   "execution_count": 32,
   "metadata": {},
   "outputs": [],
   "source": [
    "# for link in links:\n",
    "#     if 'Cryptography' in link:\n",
    "#         print(link)"
   ]
  },
  {
   "cell_type": "code",
   "execution_count": 3,
   "metadata": {},
   "outputs": [],
   "source": []
  },
  {
   "cell_type": "code",
   "execution_count": 4,
   "metadata": {},
   "outputs": [],
   "source": []
  },
  {
   "cell_type": "code",
   "execution_count": 8,
   "metadata": {},
   "outputs": [
    {
     "data": {
      "text/plain": [
       "(('127.0.0.1', 64399),\n",
       " <function ZEO._forker.start_zeo_server.<locals>.stop(stop_timeout=99)>)"
      ]
     },
     "execution_count": 8,
     "metadata": {},
     "output_type": "execute_result"
    }
   ],
   "source": [
    "addr, stop = ZEO.server(path=db_path)\n",
    "addr, stop"
   ]
  },
  {
   "cell_type": "code",
   "execution_count": 9,
   "metadata": {},
   "outputs": [],
   "source": [
    "wiki = WikiGraph_DB(addr)"
   ]
  },
  {
   "cell_type": "code",
   "execution_count": 24,
   "metadata": {},
   "outputs": [
    {
     "data": {
      "text/plain": [
       "<root: ID_table article_list rID_table redir_list>"
      ]
     },
     "execution_count": 24,
     "metadata": {},
     "output_type": "execute_result"
    }
   ],
   "source": [
    "wiki.root"
   ]
  },
  {
   "cell_type": "code",
   "execution_count": 41,
   "metadata": {},
   "outputs": [],
   "source": [
    "wiki.add(seed, links, redirs)"
   ]
  },
  {
   "cell_type": "code",
   "execution_count": 45,
   "metadata": {},
   "outputs": [
    {
     "data": {
      "text/plain": [
       "(2111, 2111)"
      ]
     },
     "execution_count": 45,
     "metadata": {},
     "output_type": "execute_result"
    }
   ],
   "source": [
    "len(wiki.root.article_list), len(wiki.root.ID_table)"
   ]
  },
  {
   "cell_type": "code",
   "execution_count": 43,
   "metadata": {},
   "outputs": [
    {
     "data": {
      "text/plain": [
       "[Article[2106](Decision_network, n=1, l=[]),\n",
       " Article[2107](Glossary_of_botany, n=1, l=[]),\n",
       " Article[2108](Knowledge_representation, n=1, l=[]),\n",
       " Article[2109](Closed_world_assumption, n=1, l=[]),\n",
       " Article[2110](Intractably, n=1, l=[])]"
      ]
     },
     "execution_count": 43,
     "metadata": {},
     "output_type": "execute_result"
    }
   ],
   "source": [
    "wiki.root.article_list[-5:]"
   ]
  },
  {
   "cell_type": "code",
   "execution_count": 46,
   "metadata": {},
   "outputs": [],
   "source": [
    "#print([article.num for article in wiki.root.article_list])"
   ]
  },
  {
   "cell_type": "code",
   "execution_count": 22,
   "metadata": {},
   "outputs": [],
   "source": [
    "q = mp.Queue()"
   ]
  },
  {
   "cell_type": "code",
   "execution_count": 24,
   "metadata": {},
   "outputs": [],
   "source": [
    "q.put(2)"
   ]
  },
  {
   "cell_type": "code",
   "execution_count": 25,
   "metadata": {},
   "outputs": [
    {
     "ename": "TypeError",
     "evalue": "object of type 'Queue' has no len()",
     "output_type": "error",
     "traceback": [
      "\u001b[0;31m---------------------------------------------------------------------\u001b[0m",
      "\u001b[0;31mTypeError\u001b[0m                           Traceback (most recent call last)",
      "\u001b[0;32m<ipython-input-25-cefc24a8c104>\u001b[0m in \u001b[0;36m<module>\u001b[0;34m()\u001b[0m\n\u001b[0;32m----> 1\u001b[0;31m \u001b[0mlen\u001b[0m\u001b[0;34m(\u001b[0m\u001b[0mq\u001b[0m\u001b[0;34m)\u001b[0m\u001b[0;34m\u001b[0m\u001b[0m\n\u001b[0m",
      "\u001b[0;31mTypeError\u001b[0m: object of type 'Queue' has no len()"
     ]
    }
   ],
   "source": [
    "len(q)"
   ]
  },
  {
   "cell_type": "code",
   "execution_count": 32,
   "metadata": {},
   "outputs": [],
   "source": [
    "ZEO.client?"
   ]
  },
  {
   "cell_type": "code",
   "execution_count": 34,
   "metadata": {},
   "outputs": [],
   "source": [
    "client = ZEO.client(addr, read_only=True)"
   ]
  },
  {
   "cell_type": "code",
   "execution_count": 44,
   "metadata": {},
   "outputs": [],
   "source": [
    "client.blob_dir"
   ]
  },
  {
   "cell_type": "code",
   "execution_count": 45,
   "metadata": {},
   "outputs": [],
   "source": [
    "from ZEO import ClientStorage"
   ]
  },
  {
   "cell_type": "code",
   "execution_count": null,
   "metadata": {},
   "outputs": [],
   "source": [
    "storage = ClientStorage.ClientStorage(addr, read_only=True)\n",
    "db = ZODB.DB(storage)\n",
    "conn = db.open()\n",
    "root = conn.root"
   ]
  },
  {
   "cell_type": "code",
   "execution_count": null,
   "metadata": {},
   "outputs": [],
   "source": []
  },
  {
   "cell_type": "code",
   "execution_count": 3,
   "metadata": {},
   "outputs": [],
   "source": [
    "db_path = 'beta.test'"
   ]
  },
  {
   "cell_type": "code",
   "execution_count": 4,
   "metadata": {},
   "outputs": [],
   "source": [
    "create_database(db_path)"
   ]
  },
  {
   "cell_type": "code",
   "execution_count": 5,
   "metadata": {},
   "outputs": [],
   "source": [
    "def init_worker(**other_args):\n",
    "    \n",
    "#     out = {\n",
    "#         #'is_new_article' : lambda x: x not in todo and x not in completed,\n",
    "#     }\n",
    "    \n",
    "    return out\n",
    "\n",
    "def worker_expand(todo, completed, update_lock):\n",
    "    \n",
    "    if len(todo) == 0:\n",
    "        return None\n",
    "    \n",
    "    print(len(todo))\n",
    "    #print(todo['Artificial_intelligence'])\n",
    "    \n",
    "    update_lock.acquire()\n",
    "    article_name = next(iter(todo.keys()))\n",
    "    completed[article_name] = 1\n",
    "    del todo[article_name]\n",
    "    update_lock.release()\n",
    "    \n",
    "    print(article_name)\n",
    "    \n",
    "    links, redirs, _ = wiki_expand(article_name)\n",
    "    groups = [[link['href'][6:] for link in group] for group in [links, redirs]]\n",
    "    links, redirs = map(list, map(set, groups))\n",
    "    if seed in links:\n",
    "        links.remove(seed)\n",
    "        \n",
    "    todo.update({link:1 for link in links if (link not in todo and link not in completed)})\n",
    "    \n",
    "    return article_name, links, redirs\n",
    "        \n",
    "    #len(links), len(redirs)"
   ]
  },
  {
   "cell_type": "code",
   "execution_count": 6,
   "metadata": {},
   "outputs": [
    {
     "data": {
      "text/plain": [
       "(('127.0.0.1', 49793),\n",
       " <function ZEO._forker.start_zeo_server.<locals>.stop(stop_timeout=99)>)"
      ]
     },
     "execution_count": 6,
     "metadata": {},
     "output_type": "execute_result"
    }
   ],
   "source": [
    "addr, stop = ZEO.server(path=db_path)\n",
    "addr, stop"
   ]
  },
  {
   "cell_type": "code",
   "execution_count": 7,
   "metadata": {},
   "outputs": [],
   "source": [
    "num_workers = 4"
   ]
  },
  {
   "cell_type": "code",
   "execution_count": 8,
   "metadata": {},
   "outputs": [],
   "source": [
    "wiki = WikiGraph_DB(addr)"
   ]
  },
  {
   "cell_type": "code",
   "execution_count": 9,
   "metadata": {},
   "outputs": [],
   "source": [
    "manager = mp.Manager()\n",
    "todo = manager.dict()\n",
    "completed = manager.dict()"
   ]
  },
  {
   "cell_type": "code",
   "execution_count": 10,
   "metadata": {},
   "outputs": [],
   "source": [
    "shared_args = {}\n",
    "private_args = {\n",
    "    'todo': todo,\n",
    "    'completed': completed,\n",
    "    'update_lock': mp.Lock(),\n",
    "}"
   ]
  },
  {
   "cell_type": "code",
   "execution_count": 11,
   "metadata": {},
   "outputs": [
    {
     "data": {
      "text/plain": [
       "(5,\n",
       " ['Artificial_intelligence',\n",
       "  'Computational_physics',\n",
       "  'Control_theory',\n",
       "  'Machine_learning',\n",
       "  'Quantum_computing'])"
      ]
     },
     "execution_count": 11,
     "metadata": {},
     "output_type": "execute_result"
    }
   ],
   "source": [
    "todo.update({name:1 for name in seeds})\n",
    "len(todo), list(todo.keys())"
   ]
  },
  {
   "cell_type": "code",
   "execution_count": 12,
   "metadata": {},
   "outputs": [
    {
     "name": "stdout",
     "output_type": "stream",
     "text": [
      "5\n",
      "5\n",
      "5\n",
      "Artificial_intelligence\n",
      "Computational_physics\n",
      "Control_theory\n",
      "2\n",
      "Machine_learning\n",
      "299\n",
      "Quantum_computing\n",
      "** Bad header might be missing: Artificial_Intelligence\n",
      "** Bad header might be missing: Artificial_Intelligence\n",
      "597\n",
      "Computational_complexity_theory\n",
      "973\n",
      "Yukawa_potential\n",
      "** Bad header might be missing: Catastrophic_interference#The_Sequential_Learning_Problem\n",
      "** Bad header might be missing: Superintelligence\n",
      "** Bad header might be missing: 2001\n",
      "** Bad header might be missing: 2001\n",
      "** Bad header might be missing: 2001\n",
      "** Bad header might be missing: Artificial_Intelligence\n",
      "** Bad header might be missing: Artificial_Intelligence\n",
      "** Bad header might be missing: Artificial_Intelligence\n",
      "** Bad header might be missing: Superintelligence\n",
      "993\n",
      "Stark_effect\n",
      "1161\n",
      "Mathematical_physics\n",
      "1847\n",
      "Heliophysics\n",
      "2894\n",
      "Parallel_computing\n",
      "2893\n",
      "Chaos_theory\n",
      "3163\n",
      "Ordinary_differential_equation\n",
      "** Bad header might be missing: Chaos\n",
      "** Bad header might be missing: Chaos\n",
      "** Bad header might be missing: Chaos\n",
      "3427\n",
      "Lattice_gauge_theory\n",
      "3539\n",
      "Cambridge_University_Press\n",
      "3626\n",
      "Particle_physics\n",
      "4130\n",
      "Cloud_physics\n",
      "4129\n",
      "Neurophysics\n",
      "4390\n",
      "Multithreading_(computer_architecture)\n",
      "4559\n",
      "Software_repository\n",
      "4607\n",
      "Decision_support_system\n",
      "4703\n",
      "Finite_element_method\n",
      "4702\n",
      "Edward_Norton_Lorenz\n",
      "4926\n",
      "Electronic_design_automation\n",
      "5076\n",
      "Programming_language\n",
      "** Bad header might be missing: Programming_Languages\n",
      "5075\n",
      "Compartmental_models_in_epidemiology#SIR_Model\n",
      "5324\n",
      "System_on_a_chip\n",
      "5374\n",
      "Theoretical_physics\n",
      "5666\n",
      "Theory_of_computation\n",
      "** Bad header might be missing: Alan_Turing\n",
      "5782\n",
      "Networking_hardware\n",
      "5816\n",
      "Model_of_computation\n",
      "5827\n",
      "Data_mining\n"
     ]
    }
   ],
   "source": [
    "creator = util.Farmer(fn=worker_expand, private_args=private_args, init_fn=None, \n",
    "                      num_workers=num_workers, waiting=10, auto_dispatch=True)"
   ]
  },
  {
   "cell_type": "code",
   "execution_count": 14,
   "metadata": {},
   "outputs": [
    {
     "name": "stdout",
     "output_type": "stream",
     "text": [
      "Itr 1K: todo=4702, completed=22, db=3864\n",
      "Itr 1K: todo=4926, completed=23, db=4015\n",
      "Itr 1K: todo=5076, completed=24, db=4348\n",
      "Itr 1K: todo=5075, completed=25, db=4671\n",
      "Itr 1K: todo=5324, completed=26, db=4909\n",
      "Itr 1K: todo=5374, completed=27, db=5105\n",
      "Itr 1K: todo=5666, completed=28, db=5201\n",
      "Itr 1K: todo=5782, completed=29, db=5393\n",
      "Itr 1K: todo=5816, completed=30, db=5458\n",
      "Itr 1K: todo=5827, completed=31, db=5583\n",
      "Itr 1K: todo=5950, completed=32, db=5668\n"
     ]
    }
   ],
   "source": [
    "itr = 0\n",
    "print_freq = 1\n",
    "for out in creator:\n",
    "    if out is None:\n",
    "        continue\n",
    "    \n",
    "    #print('Out {}'.format(out[0]))\n",
    "    \n",
    "    wiki.add(*out)\n",
    "    \n",
    "    if itr % print_freq == 0:\n",
    "        print('Itr {}K: todo={}, completed={}, db={}'.format(itr//1000 + 1, len(todo), len(completed), len(wiki)))\n",
    "    \n",
    "    if itr == 10:\n",
    "        break\n",
    "    \n",
    "    itr += 1"
   ]
  },
  {
   "cell_type": "code",
   "execution_count": 16,
   "metadata": {},
   "outputs": [
    {
     "data": {
      "text/plain": [
       "4"
      ]
     },
     "execution_count": 16,
     "metadata": {},
     "output_type": "execute_result"
    }
   ],
   "source": [
    "a = wiki.get_article(1,2,3,4)\n",
    "len(a)"
   ]
  },
  {
   "cell_type": "code",
   "execution_count": 15,
   "metadata": {},
   "outputs": [],
   "source": [
    "a = set()"
   ]
  },
  {
   "cell_type": "code",
   "execution_count": 19,
   "metadata": {},
   "outputs": [
    {
     "data": {
      "text/plain": [
       "4"
      ]
     },
     "execution_count": 19,
     "metadata": {},
     "output_type": "execute_result"
    }
   ],
   "source": [
    "wiki.get_ID('Spin_model')"
   ]
  },
  {
   "cell_type": "code",
   "execution_count": 16,
   "metadata": {},
   "outputs": [],
   "source": [
    "a.add(1)"
   ]
  },
  {
   "cell_type": "code",
   "execution_count": 17,
   "metadata": {},
   "outputs": [
    {
     "data": {
      "text/plain": [
       "{1}"
      ]
     },
     "execution_count": 17,
     "metadata": {},
     "output_type": "execute_result"
    }
   ],
   "source": [
    "a"
   ]
  },
  {
   "cell_type": "code",
   "execution_count": null,
   "metadata": {},
   "outputs": [],
   "source": []
  }
 ],
 "metadata": {
  "kernelspec": {
   "display_name": "Python 3",
   "language": "python",
   "name": "python3"
  },
  "language_info": {
   "codemirror_mode": {
    "name": "ipython",
    "version": 3
   },
   "file_extension": ".py",
   "mimetype": "text/x-python",
   "name": "python",
   "nbconvert_exporter": "python",
   "pygments_lexer": "ipython3",
   "version": "3.6.7"
  }
 },
 "nbformat": 4,
 "nbformat_minor": 2
}
