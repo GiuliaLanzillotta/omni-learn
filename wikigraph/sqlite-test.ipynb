{
 "cells": [
  {
   "cell_type": "code",
   "execution_count": 1,
   "metadata": {},
   "outputs": [],
   "source": [
    "import sys, os, time\n",
    "import sqlite3\n",
    "import pickle\n",
    "import numpy as np\n"
   ]
  },
  {
   "cell_type": "code",
   "execution_count": 2,
   "metadata": {},
   "outputs": [],
   "source": [
    "root = '/home/fleeb/workspace/ml_datasets/wiki/'"
   ]
  },
  {
   "cell_type": "code",
   "execution_count": 3,
   "metadata": {},
   "outputs": [],
   "source": [
    "#conn = sqlite3.connect(os.path.join(root, 'wiki_links.db'))\n",
    "conn = sqlite3.connect('example.db')"
   ]
  },
  {
   "cell_type": "code",
   "execution_count": 4,
   "metadata": {},
   "outputs": [],
   "source": [
    "c = conn.cursor()"
   ]
  },
  {
   "cell_type": "code",
   "execution_count": 41,
   "metadata": {},
   "outputs": [
    {
     "data": {
      "text/plain": [
       "<sqlite3.Cursor at 0x7f5dfba60dc0>"
      ]
     },
     "execution_count": 41,
     "metadata": {},
     "output_type": "execute_result"
    }
   ],
   "source": [
    "c.execute('''CREATE TABLE articles (\n",
    "name TEXT PRIMARY KEY,\n",
    "num INT)''')"
   ]
  },
  {
   "cell_type": "code",
   "execution_count": 5,
   "metadata": {},
   "outputs": [
    {
     "name": "stdout",
     "output_type": "stream",
     "text": [
      "[(0, 'name', 'TEXT', 0, None, 1), (1, 'num', 'INT', 0, None, 0)]\n"
     ]
    }
   ],
   "source": [
    "c.execute('''PRAGMA table_info([articles]);''')\n",
    "print(c.fetchall())"
   ]
  },
  {
   "cell_type": "code",
   "execution_count": 16,
   "metadata": {},
   "outputs": [],
   "source": []
  },
  {
   "cell_type": "code",
   "execution_count": 6,
   "metadata": {},
   "outputs": [],
   "source": [
    "ts = [['k1'], ['k3'], ['k4']]"
   ]
  },
  {
   "cell_type": "code",
   "execution_count": 9,
   "metadata": {},
   "outputs": [
    {
     "data": {
      "text/plain": [
       "<sqlite3.Cursor at 0x7fb248093c70>"
      ]
     },
     "execution_count": 9,
     "metadata": {},
     "output_type": "execute_result"
    }
   ],
   "source": [
    "c.executemany(_insert_temp, ts)"
   ]
  },
  {
   "cell_type": "code",
   "execution_count": 10,
   "metadata": {},
   "outputs": [
    {
     "name": "stdout",
     "output_type": "stream",
     "text": [
      "[('t1', 6), ('t2', 4), ('t3', 1), ('k1', 1), ('k3', 1), ('k4', 1)]\n"
     ]
    }
   ],
   "source": [
    "c.execute('''SELECT * FROM articles;''')\n",
    "print(c.fetchall())"
   ]
  },
  {
   "cell_type": "code",
   "execution_count": 38,
   "metadata": {},
   "outputs": [],
   "source": [
    "conn.commit()"
   ]
  },
  {
   "cell_type": "code",
   "execution_count": null,
   "metadata": {},
   "outputs": [],
   "source": [
    "conn.close()"
   ]
  },
  {
   "cell_type": "code",
   "execution_count": 17,
   "metadata": {},
   "outputs": [],
   "source": [
    "\n",
    "_inc_temp = '''UPDATE articles SET num = num + 1 WHERE name IN ({})'''\n",
    "_insert_temp = '''INSERT INTO articles VALUES (?,1);'''\n",
    "_sel_id_temp = '''SELECT rowid FROM articles WHERE name IN ({})'''\n",
    "_sel_name_temp = '''SELECT name FROM articles WHERE rowid IN ({})'''\n",
    "_sel_full_id_temp = '''SELECT * FROM articles WHERE rowid IN ({})'''\n",
    "_sel_full_name_temp = '''SELECT * FROM articles WHERE name IN ({})'''\n",
    "\n",
    "class Articles(object):\n",
    "    def __init__(self, db_path, lock=None):\n",
    "        self.conn = sqlite3.connect(db_path)\n",
    "        self.cursor = self.conn.cursor()\n",
    "        self.lock = None\n",
    "        \n",
    "    def names(self):\n",
    "        self.cursor.execute('''SELECT name FROM articles''')\n",
    "        return iter(self.cursor)\n",
    "    \n",
    "    def nums(self):\n",
    "        self.cursor.execute('''SELECT name FROM articles''')\n",
    "        return iter(self.cursor)\n",
    "    \n",
    "    def items(self):\n",
    "        self.cursor.execute('''SELECT * FROM articles''')\n",
    "        return iter(self.cursor)\n",
    "        \n",
    "    def add(self, *names):\n",
    "        if self.lock is not None:\n",
    "            self.lock.acquire()\n",
    "        for name in names:\n",
    "            try:\n",
    "                #print(_insert_temp, name)\n",
    "                self.cursor.execute(_insert_temp, (name,))\n",
    "            except sqlite3.IntegrityError:\n",
    "                pass\n",
    "        #self.cursor.executemany(_insert_temp, [(n,) for n in names])\n",
    "        self.conn.commit()\n",
    "        if self.lock is not None:\n",
    "            self.lock.release()\n",
    "        \n",
    "    def increment(self, *names):\n",
    "        if self.lock is not None:\n",
    "            self.lock.acquire()\n",
    "        self.cursor.execute(_inc_temp.format(', '.join('?'*len(names))), names)\n",
    "        self.conn.commit()\n",
    "        if self.lock is not None:\n",
    "            self.lock.release()\n",
    "        \n",
    "    def __len__(self):\n",
    "        self.cursor.execute('''SELECT COUNT(*) FROM articles''')\n",
    "        return self.cursor.fetchall()[0][0]\n",
    "        \n",
    "    def get_id(self, *names):\n",
    "        self.cursor.execute(_sel_id_temp.format(', '.join('?'*len(names))), names)\n",
    "        return self.cursor.fetchall()\n",
    "        \n",
    "    def get_name(self, *IDs):\n",
    "        self.cursor.execute(_sel_name_temp.format(', '.join('?'*len(IDs))), IDs)\n",
    "        return self.cursor.fetchall()\n",
    "    \n",
    "    def get_full_from_names(self, *names):\n",
    "        self.cursor.execute(_sel_full_name_temp.format(', '.join('?'*len(names))), names)\n",
    "        return self.cursor.fetchall()\n",
    "    \n",
    "    def get_full_from_ids(self, *IDs):\n",
    "        self.cursor.execute(_sel_full_id_temp.format(', '.join('?'*len(IDs))), IDs)\n",
    "        return self.cursor.fetchall()\n",
    "    \n",
    "    def __del__(self):\n",
    "        self.conn.close()"
   ]
  },
  {
   "cell_type": "code",
   "execution_count": 18,
   "metadata": {},
   "outputs": [],
   "source": [
    "db = Articles('example.db')"
   ]
  },
  {
   "cell_type": "code",
   "execution_count": 19,
   "metadata": {},
   "outputs": [
    {
     "data": {
      "text/plain": [
       "[('t1', 6), ('t2', 4), ('t3', 1)]"
      ]
     },
     "execution_count": 19,
     "metadata": {},
     "output_type": "execute_result"
    }
   ],
   "source": [
    "list(db.items())"
   ]
  },
  {
   "cell_type": "code",
   "execution_count": 20,
   "metadata": {},
   "outputs": [
    {
     "data": {
      "text/plain": [
       "3"
      ]
     },
     "execution_count": 20,
     "metadata": {},
     "output_type": "execute_result"
    }
   ],
   "source": [
    "len(db)"
   ]
  },
  {
   "cell_type": "code",
   "execution_count": 21,
   "metadata": {},
   "outputs": [],
   "source": [
    "db.add('t1', 't3')"
   ]
  },
  {
   "cell_type": "code",
   "execution_count": 22,
   "metadata": {},
   "outputs": [
    {
     "data": {
      "text/plain": [
       "3"
      ]
     },
     "execution_count": 22,
     "metadata": {},
     "output_type": "execute_result"
    }
   ],
   "source": [
    "len(db)"
   ]
  },
  {
   "cell_type": "code",
   "execution_count": 23,
   "metadata": {},
   "outputs": [],
   "source": [
    "db.increment('t2')"
   ]
  },
  {
   "cell_type": "code",
   "execution_count": 24,
   "metadata": {},
   "outputs": [
    {
     "data": {
      "text/plain": [
       "[('t1', 6), ('t2', 5), ('t3', 1)]"
      ]
     },
     "execution_count": 24,
     "metadata": {},
     "output_type": "execute_result"
    }
   ],
   "source": [
    "list(db.items())"
   ]
  },
  {
   "cell_type": "code",
   "execution_count": null,
   "metadata": {},
   "outputs": [],
   "source": []
  }
 ],
 "metadata": {
  "kernelspec": {
   "display_name": "Python 3",
   "language": "python",
   "name": "python3"
  },
  "language_info": {
   "codemirror_mode": {
    "name": "ipython",
    "version": 3
   },
   "file_extension": ".py",
   "mimetype": "text/x-python",
   "name": "python",
   "nbconvert_exporter": "python",
   "pygments_lexer": "ipython3",
   "version": "3.5.5"
  }
 },
 "nbformat": 4,
 "nbformat_minor": 2
}
