{
 "cells": [
  {
   "cell_type": "code",
   "execution_count": 121,
   "metadata": {},
   "outputs": [],
   "source": [
    "import sys, os, time\n",
    "import redis\n",
    "import pickle\n",
    "import numpy as np\n",
    "import random\n",
    "import foundation.util as util"
   ]
  },
  {
   "cell_type": "code",
   "execution_count": 2,
   "metadata": {},
   "outputs": [],
   "source": [
    "root = '/home/fleeb/workspace/ml_datasets/wiki/'"
   ]
  },
  {
   "cell_type": "code",
   "execution_count": 87,
   "metadata": {},
   "outputs": [],
   "source": [
    "def random_str(N):\n",
    "    return np.random.randint(256, size=N, dtype=np.uint8).tobytes()"
   ]
  },
  {
   "cell_type": "code",
   "execution_count": 155,
   "metadata": {},
   "outputs": [],
   "source": [
    "db = redis.Redis(db=0)"
   ]
  },
  {
   "cell_type": "code",
   "execution_count": 158,
   "metadata": {},
   "outputs": [
    {
     "data": {
      "text/plain": [
       "[]"
      ]
     },
     "execution_count": 158,
     "metadata": {},
     "output_type": "execute_result"
    }
   ],
   "source": [
    "db.keys()"
   ]
  },
  {
   "cell_type": "code",
   "execution_count": 147,
   "metadata": {},
   "outputs": [],
   "source": [
    "data = db.hgetall('test')"
   ]
  },
  {
   "cell_type": "code",
   "execution_count": 157,
   "metadata": {},
   "outputs": [
    {
     "data": {
      "text/plain": [
       "100"
      ]
     },
     "execution_count": 157,
     "metadata": {},
     "output_type": "execute_result"
    }
   ],
   "source": [
    "len(data)"
   ]
  },
  {
   "cell_type": "code",
   "execution_count": 152,
   "metadata": {},
   "outputs": [],
   "source": [
    "IDs = set()"
   ]
  },
  {
   "cell_type": "code",
   "execution_count": 154,
   "metadata": {},
   "outputs": [
    {
     "data": {
      "text/plain": [
       "110080"
      ]
     },
     "execution_count": 154,
     "metadata": {},
     "output_type": "execute_result"
    }
   ],
   "source": [
    "db.memory_usage('test')"
   ]
  },
  {
   "cell_type": "code",
   "execution_count": 10,
   "metadata": {},
   "outputs": [
    {
     "data": {
      "text/plain": [
       "b'4,5,6'"
      ]
     },
     "execution_count": 10,
     "metadata": {},
     "output_type": "execute_result"
    }
   ],
   "source": [
    "db.get('q')"
   ]
  },
  {
   "cell_type": "code",
   "execution_count": 5,
   "metadata": {},
   "outputs": [],
   "source": [
    "host, port = b'localhost', 6379"
   ]
  },
  {
   "cell_type": "code",
   "execution_count": 162,
   "metadata": {},
   "outputs": [],
   "source": [
    "def init_worker(host, port, db_num=0, **other_args):\n",
    "    out = {\n",
    "        'db': redis.Redis(host=host, port=port, db=db_num),\n",
    "        'IDdb': redis.Redis(host=host, port=port, db=0),\n",
    "    }\n",
    "    return out\n",
    "\n",
    "def work(pid, key, value, db, **other_args):\n",
    "    \n",
    "    return db.sadd(key, value)\n",
    "\n",
    "def work2(pid, key, value, db, IDdb, **other_args):\n",
    "    \n",
    "    pi = IDdb\n",
    "    db.sadd(ID, value)\n",
    "    \n",
    "    \n",
    "    return \n"
   ]
  },
  {
   "cell_type": "code",
   "execution_count": 163,
   "metadata": {},
   "outputs": [],
   "source": [
    "N = 100\n",
    "num_workers = 4"
   ]
  },
  {
   "cell_type": "code",
   "execution_count": null,
   "metadata": {},
   "outputs": [],
   "source": []
  },
  {
   "cell_type": "code",
   "execution_count": 198,
   "metadata": {},
   "outputs": [],
   "source": [
    "keys = [\n",
    "    random_str(50) for _ in range(100)\n",
    "]\n",
    "values = [\n",
    "    random_str(1000) for _ in range(1000)\n",
    "]\n",
    "\n",
    "def get_next():\n",
    "    while True:\n",
    "        yield {'key':random_str(1000), 'value':random_str(1000)}"
   ]
  },
  {
   "cell_type": "code",
   "execution_count": 211,
   "metadata": {},
   "outputs": [
    {
     "data": {
      "text/plain": [
       "{'maxmemory_human': '0B',\n",
       " 'total_system_memory_human': '11.68G',\n",
       " 'used_memory_human': '217.05M',\n",
       " 'used_memory_lua_human': '37.00K',\n",
       " 'used_memory_peak_human': '217.11M',\n",
       " 'used_memory_rss_human': '227.36M'}"
      ]
     },
     "execution_count": 211,
     "metadata": {},
     "output_type": "execute_result"
    }
   ],
   "source": [
    "{k:v for k,v in db.info('memory').items() if 'human' in k}"
   ]
  },
  {
   "cell_type": "code",
   "execution_count": 200,
   "metadata": {},
   "outputs": [],
   "source": [
    "private_args = {\n",
    "    'host':host,\n",
    "    'port':port,\n",
    "    'db_num':1,\n",
    "}\n",
    "\n",
    "shared_args = {\n",
    "    \n",
    "}\n",
    "\n",
    "unique_args = [{'pid':i} for i in range(num_workers)]\n",
    "\n",
    "volatile_args = iter(get_next())"
   ]
  },
  {
   "cell_type": "code",
   "execution_count": 207,
   "metadata": {},
   "outputs": [],
   "source": [
    "start = time.time()\n",
    "creator = util.Farmer(fn=work, init_fn=init_worker, auto_dispatch=False,\n",
    "                      unique_worker_args=unique_args, volatile_gen=volatile_args,\n",
    "                      private_args=private_args, shared_args=shared_args,\n",
    "                      num_workers=num_workers,\n",
    "        )\n",
    "creator._dispatch(100000)\n",
    "\n",
    "for _ in creator:\n",
    "    pass\n",
    "total = time.time() - start"
   ]
  },
  {
   "cell_type": "code",
   "execution_count": 209,
   "metadata": {
    "scrolled": true
   },
   "outputs": [
    {
     "name": "stdout",
     "output_type": "stream",
     "text": [
      "6.430676221847534\n",
      "217.03M 100000\n"
     ]
    }
   ],
   "source": [
    "print(total)\n",
    "print(db.info('memory')['used_memory_human'], db.info('keyspace')['db1']['keys'])"
   ]
  },
  {
   "cell_type": "code",
   "execution_count": 210,
   "metadata": {},
   "outputs": [
    {
     "name": "stdout",
     "output_type": "stream",
     "text": [
      "6.430676221847534\n",
      "217.03M 100000\n"
     ]
    }
   ],
   "source": [
    "print(total)\n",
    "print(db.info('memory')['used_memory_human'], db.info('keyspace')['db1']['keys'])"
   ]
  },
  {
   "cell_type": "code",
   "execution_count": null,
   "metadata": {},
   "outputs": [],
   "source": []
  },
  {
   "cell_type": "code",
   "execution_count": 17,
   "metadata": {},
   "outputs": [],
   "source": [
    "\n",
    "_inc_temp = '''UPDATE articles SET num = num + 1 WHERE name IN ({})'''\n",
    "_insert_temp = '''INSERT INTO articles VALUES (?,1);'''\n",
    "_sel_id_temp = '''SELECT rowid FROM articles WHERE name IN ({})'''\n",
    "_sel_name_temp = '''SELECT name FROM articles WHERE rowid IN ({})'''\n",
    "_sel_full_id_temp = '''SELECT * FROM articles WHERE rowid IN ({})'''\n",
    "_sel_full_name_temp = '''SELECT * FROM articles WHERE name IN ({})'''\n",
    "\n",
    "class Articles(object):\n",
    "    def __init__(self, db_path, lock=None):\n",
    "        self.conn = sqlite3.connect(db_path)\n",
    "        self.cursor = self.conn.cursor()\n",
    "        self.lock = None\n",
    "        \n",
    "    def names(self):\n",
    "        self.cursor.execute('''SELECT name FROM articles''')\n",
    "        return iter(self.cursor)\n",
    "    \n",
    "    def nums(self):\n",
    "        self.cursor.execute('''SELECT name FROM articles''')\n",
    "        return iter(self.cursor)\n",
    "    \n",
    "    def items(self):\n",
    "        self.cursor.execute('''SELECT * FROM articles''')\n",
    "        return iter(self.cursor)\n",
    "        \n",
    "    def add(self, *names):\n",
    "        if self.lock is not None:\n",
    "            self.lock.acquire()\n",
    "        for name in names:\n",
    "            try:\n",
    "                #print(_insert_temp, name)\n",
    "                self.cursor.execute(_insert_temp, (name,))\n",
    "            except sqlite3.IntegrityError:\n",
    "                pass\n",
    "        #self.cursor.executemany(_insert_temp, [(n,) for n in names])\n",
    "        self.conn.commit()\n",
    "        if self.lock is not None:\n",
    "            self.lock.release()\n",
    "        \n",
    "    def increment(self, *names):\n",
    "        if self.lock is not None:\n",
    "            self.lock.acquire()\n",
    "        self.cursor.execute(_inc_temp.format(', '.join('?'*len(names))), names)\n",
    "        self.conn.commit()\n",
    "        if self.lock is not None:\n",
    "            self.lock.release()\n",
    "        \n",
    "    def __len__(self):\n",
    "        self.cursor.execute('''SELECT COUNT(*) FROM articles''')\n",
    "        return self.cursor.fetchall()[0][0]\n",
    "        \n",
    "    def get_id(self, *names):\n",
    "        self.cursor.execute(_sel_id_temp.format(', '.join('?'*len(names))), names)\n",
    "        return self.cursor.fetchall()\n",
    "        \n",
    "    def get_name(self, *IDs):\n",
    "        self.cursor.execute(_sel_name_temp.format(', '.join('?'*len(IDs))), IDs)\n",
    "        return self.cursor.fetchall()\n",
    "    \n",
    "    def get_full_from_names(self, *names):\n",
    "        self.cursor.execute(_sel_full_name_temp.format(', '.join('?'*len(names))), names)\n",
    "        return self.cursor.fetchall()\n",
    "    \n",
    "    def get_full_from_ids(self, *IDs):\n",
    "        self.cursor.execute(_sel_full_id_temp.format(', '.join('?'*len(IDs))), IDs)\n",
    "        return self.cursor.fetchall()\n",
    "    \n",
    "    def __del__(self):\n",
    "        self.conn.close()"
   ]
  },
  {
   "cell_type": "code",
   "execution_count": 18,
   "metadata": {},
   "outputs": [],
   "source": [
    "db = Articles('example.db')"
   ]
  },
  {
   "cell_type": "code",
   "execution_count": 19,
   "metadata": {},
   "outputs": [
    {
     "data": {
      "text/plain": [
       "[('t1', 6), ('t2', 4), ('t3', 1)]"
      ]
     },
     "execution_count": 19,
     "metadata": {},
     "output_type": "execute_result"
    }
   ],
   "source": [
    "list(db.items())"
   ]
  },
  {
   "cell_type": "code",
   "execution_count": 20,
   "metadata": {},
   "outputs": [
    {
     "data": {
      "text/plain": [
       "3"
      ]
     },
     "execution_count": 20,
     "metadata": {},
     "output_type": "execute_result"
    }
   ],
   "source": [
    "len(db)"
   ]
  },
  {
   "cell_type": "code",
   "execution_count": 21,
   "metadata": {},
   "outputs": [],
   "source": [
    "db.add('t1', 't3')"
   ]
  },
  {
   "cell_type": "code",
   "execution_count": 22,
   "metadata": {},
   "outputs": [
    {
     "data": {
      "text/plain": [
       "3"
      ]
     },
     "execution_count": 22,
     "metadata": {},
     "output_type": "execute_result"
    }
   ],
   "source": [
    "len(db)"
   ]
  },
  {
   "cell_type": "code",
   "execution_count": 23,
   "metadata": {},
   "outputs": [],
   "source": [
    "db.increment('t2')"
   ]
  },
  {
   "cell_type": "code",
   "execution_count": 24,
   "metadata": {},
   "outputs": [
    {
     "data": {
      "text/plain": [
       "[('t1', 6), ('t2', 5), ('t3', 1)]"
      ]
     },
     "execution_count": 24,
     "metadata": {},
     "output_type": "execute_result"
    }
   ],
   "source": [
    "list(db.items())"
   ]
  },
  {
   "cell_type": "code",
   "execution_count": null,
   "metadata": {},
   "outputs": [],
   "source": []
  }
 ],
 "metadata": {
  "kernelspec": {
   "display_name": "Python 3",
   "language": "python",
   "name": "python3"
  },
  "language_info": {
   "codemirror_mode": {
    "name": "ipython",
    "version": 3
   },
   "file_extension": ".py",
   "mimetype": "text/x-python",
   "name": "python",
   "nbconvert_exporter": "python",
   "pygments_lexer": "ipython3",
   "version": "3.6.7"
  }
 },
 "nbformat": 4,
 "nbformat_minor": 2
}
