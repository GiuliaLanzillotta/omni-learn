{
 "cells": [
  {
   "cell_type": "code",
   "execution_count": 2,
   "metadata": {},
   "outputs": [],
   "source": [
    "import sys, os, time\n",
    "#%load_ext autoreload\n",
    "#%autoreload 2\n",
    "import foundation as fd\n",
    "import foundation.util as util\n",
    "import numpy as np\n",
    "%matplotlib notebook\n",
    "import matplotlib.pyplot as plt\n",
    "import torch\n",
    "import torch.nn as nn\n",
    "import torch.nn.functional as F\n",
    "import torch.multiprocessing as mp\n",
    "import torchvision\n",
    "import h5py as hf\n",
    "import hashlib\n",
    "from html.parser import HTMLParser\n",
    "import urllib\n",
    "import urllib.request\n",
    "import requests\n",
    "from extraction import *"
   ]
  },
  {
   "cell_type": "code",
   "execution_count": 19,
   "metadata": {},
   "outputs": [],
   "source": [
    "seed = b'Artificial_intelligence'\n",
    "seed = b'Greater_Toronto_Jaguars'"
   ]
  },
  {
   "cell_type": "code",
   "execution_count": 9,
   "metadata": {},
   "outputs": [
    {
     "data": {
      "text/plain": [
       "(1, 0, 26790)"
      ]
     },
     "execution_count": 9,
     "metadata": {},
     "output_type": "execute_result"
    }
   ],
   "source": [
    "links, redirects, cats, bts = wiki_expand(seed)\n",
    "len(links), len(redirects), bts"
   ]
  },
  {
   "cell_type": "code",
   "execution_count": 20,
   "metadata": {},
   "outputs": [
    {
     "data": {
      "text/plain": [
       "'<!DOCTYPE html>\\n<html class=\"client-nojs\" lang=\"en\" dir=\"ltr\">\\n<head>\\n<meta charset=\"UTF-8\"/>\\n<title>Greater Toronto Jaguars - Wikipedia</title>\\n<script>document.documentElement.className = document.documentElement.className.replace( /(^|\\\\s)client-nojs(\\\\s|$)/, \"$1client-js$2\" );</script>\\n<script>(window.RLQ=window.RLQ||[]).push(function(){mw.config.set({\"wgCanonicalNamespace\":\"\",\"wgCanonicalSpecialPageName\":false,\"wgNamespaceNumber\":0,\"wgPageName\":\"Greater_Toronto_Jaguars\",\"wgTitle\":\"Greater Toronto Jaguars\",\"wgCurRevisionId\":0,\"wgRevisionId\":0,\"wgArticleId\":0,\"wgIsArticle\":true,\"wgIsRedirect\":false,\"wgAction\":\"view\",\"wgUserName\":null,\"wgUserGroups\":[\"*\"],\"wgCategories\":[],\"wgBreakFrames\":false,\"wgPageContentLanguage\":\"en\",\"wgPageContentModel\":\"wikitext\",\"wgSeparatorTransformTable\":[\"\",\"\"],\"wgDigitTransformTable\":[\"\",\"\"],\"wgDefaultDateFormat\":\"dmy\",\"wgMonthNames\":[\"\",\"January\",\"February\",\"March\",\"April\",\"May\",\"June\",\"July\",\"August\",\"September\",\"October\",\"November\",\"December\"],\"wgMonthNamesShort\":[\"\",\"Jan\",\"Feb\",\"Mar\",\"Apr\",\"May\",\"Jun\",\"Jul\",\"Aug\",\"Sep\",\"Oct\",\"Nov\",\"Dec\"],\"wgRelevantPageName\":\"Greater_Toronto_Jaguars\",\"wgRelevantArticleId\":0,\"wgRequestId\":\"XB3CTwpAICEAAI3VPhQAAAAO\",\"wgCSPNonce\":false,\"wgIsProbablyEditable\":false,\"wgRelevantPageIsProbablyEditable\":false,\"wgRestrictionCreate\":[],\"wgFlaggedRevsParams\":{\"tags\":{}},\"wgStableRevisionId\":null,\"wgCategoryTreePageCategoryOptions\":\"{\\\\\"mode\\\\\":0,\\\\\"hideprefix\\\\\":20,\\\\\"showcount\\\\\":true,\\\\\"namespaces\\\\\":false}\",\"wgWikiEditorEnabledModules\":[],\"wgBetaFeaturesFeatures\":[],\"wgMediaViewerOnClick\":true,\"wgMediaViewerEnabledByDefault\":true,\"wgPopupsShouldSendModuleToUser\":true,\"wgPopupsConflictsWithNavPopupGadget\":false,\"wgVisualEditor\":{\"pageLanguageCode\":\"en\",\"pageLanguageDir\":\"ltr\",\"pageVariantFallbacks\":\"en\",\"usePageImages\":true,\"usePageDescriptions\":true},\"wgMFExpandAllSectionsUserOption\":true,\"wgMFEnableFontChanger\":true,\"wgMFDisplayWikibaseDescriptions\":{\"search\":true,\"nearby\":true,\"watchlist\":true,\"tagline\":false},\"wgRelatedArticles\":null,\"wgRelatedArticlesUseCirrusSearch\":true,\"wgRelatedArticlesOnlyUseCirrusSearch\":false,\"wgWMESchemaEditAttemptStepOversample\":false,\"wgULSCurrentAutonym\":\"English\",\"wgNoticeProject\":\"wikipedia\",\"wgCentralNoticeCookiesToDelete\":[],\"wgCentralNoticeCategoriesUsingLegacy\":[\"Fundraising\",\"fundraising\"],\"wgScoreNoteLanguages\":{\"arabic\":\"العربية\",\"catalan\":\"català\",\"deutsch\":\"Deutsch\",\"english\":\"English\",\"espanol\":\"español\",\"italiano\":\"italiano\",\"nederlands\":\"Nederlands\",\"norsk\":\"norsk\",\"portugues\":\"português\",\"suomi\":\"suomi\",\"svenska\":\"svenska\",\"vlaams\":\"West-Vlams\"},\"wgScoreDefaultNoteLanguage\":\"nederlands\",\"wgCentralAuthMobileDomain\":false,\"wgCodeMirrorEnabled\":true,\"wgVisualEditorToolbarScrollOffset\":0,\"wgVisualEditorUnsupportedEditParams\":[\"undo\",\"undoafter\",\"veswitched\"],\"wgEditSubmitButtonLabelPublish\":true});mw.loader.state({\"ext.gadget.charinsert-styles\":\"ready\",\"ext.globalCssJs.user.styles\":\"ready\",\"ext.globalCssJs.site.styles\":\"ready\",\"site.styles\":\"ready\",\"noscript\":\"ready\",\"user.styles\":\"ready\",\"ext.globalCssJs.user\":\"ready\",\"ext.globalCssJs.site\":\"ready\",\"user\":\"ready\",\"user.options\":\"ready\",\"user.tokens\":\"loading\",\"mediawiki.legacy.shared\":\"ready\",\"mediawiki.legacy.commonPrint\":\"ready\",\"ext.visualEditor.desktopArticleTarget.noscript\":\"ready\",\"ext.uls.interlanguage\":\"ready\",\"ext.wikimediaBadges\":\"ready\",\"ext.3d.styles\":\"ready\",\"mediawiki.skinning.interface\":\"ready\",\"skins.vector.styles\":\"ready\"});mw.loader.implement(\"user.tokens@0tffind\",function($,jQuery,require,module){/*@nomin*/mw.user.tokens.set({\"editToken\":\"+\\\\\\\\\",\"patrolToken\":\"+\\\\\\\\\",\"watchToken\":\"+\\\\\\\\\",\"csrfToken\":\"+\\\\\\\\\"});\\n});RLPAGEMODULES=[\"site\",\"mediawiki.page.startup\",\"mediawiki.page.ready\",\"mediawiki.searchSuggest\",\"ext.gadget.teahouse\",\"ext.gadget.ReferenceTooltips\",\"ext.gadget.watchlist-notice\",\"ext.gadget.DRN-wizard\",\"ext.gadget.charinsert\",\"ext.gadget.refToolbar\",\"ext.gadget.extra-toolbar-buttons\",\"ext.gadget.switcher\",\"ext.centralauth.centralautologin\",\"mmv.head\",\"mmv.bootstrap.autostart\",\"ext.popups\",\"ext.visualEditor.desktopArticleTarget.init\",\"ext.visualEditor.targetLoader\",\"ext.eventLogging\",\"ext.wikimediaEvents\",\"ext.navigationTiming\",\"ext.uls.eventlogger\",\"ext.uls.init\",\"ext.uls.compactlinks\",\"ext.uls.interface\",\"ext.centralNotice.geoIP\",\"ext.centralNotice.startUp\",\"skins.vector.js\"];mw.loader.load(RLPAGEMODULES);});</script>\\n<link rel=\"stylesheet\" href=\"/w/load.php?debug=false&amp;lang=en&amp;modules=ext.3d.styles%7Cext.uls.interlanguage%7Cext.visualEditor.desktopArticleTarget.noscript%7Cext.wikimediaBadges%7Cmediawiki.legacy.commonPrint%2Cshared%7Cmediawiki.skinning.interface%7Cskins.vector.styles&amp;only=styles&amp;skin=vector\"/>\\n<script async=\"\" src=\"/w/load.php?debug=false&amp;lang=en&amp;modules=startup&amp;only=scripts&amp;skin=vector\"></script>\\n<meta name=\"ResourceLoaderDynamicStyles\" content=\"\"/>\\n<link rel=\"stylesheet\" href=\"/w/load.php?debug=false&amp;lang=en&amp;modules=ext.gadget.charinsert-styles&amp;only=styles&amp;skin=vector\"/>\\n<link rel=\"stylesheet\" href=\"/w/load.php?debug=false&amp;lang=en&amp;modules=site.styles&amp;only=styles&amp;skin=vector\"/>\\n<meta name=\"generator\" content=\"MediaWiki 1.33.0-wmf.9\"/>\\n<meta name=\"referrer\" content=\"origin\"/>\\n<meta name=\"referrer\" content=\"origin-when-crossorigin\"/>\\n<meta name=\"referrer\" content=\"origin-when-cross-origin\"/>\\n<meta name=\"robots\" content=\"noindex,nofollow\"/>\\n<link rel=\"alternate\" href=\"android-app://org.wikipedia/http/en.m.wikipedia.org/wiki/Greater_Toronto_Jaguars\"/>\\n<link rel=\"apple-touch-icon\" href=\"/static/apple-touch/wikipedia.png\"/>\\n<link rel=\"shortcut icon\" href=\"/static/favicon/wikipedia.ico\"/>\\n<link rel=\"search\" type=\"application/opensearchdescription+xml\" href=\"/w/opensearch_desc.php\" title=\"Wikipedia (en)\"/>\\n<link rel=\"EditURI\" type=\"application/rsd+xml\" href=\"//en.wikipedia.org/w/api.php?action=rsd\"/>\\n<link rel=\"license\" href=\"//creativecommons.org/licenses/by-sa/3.0/\"/>\\n<link rel=\"canonical\" href=\"https://en.wikipedia.org/wiki/Greater_Toronto_Jaguars\"/>\\n<link rel=\"dns-prefetch\" href=\"//login.wikimedia.org\"/>\\n<link rel=\"dns-prefetch\" href=\"//meta.wikimedia.org\" />\\n<!--[if lt IE 9]><script src=\"/w/load.php?debug=false&amp;lang=en&amp;modules=html5shiv&amp;only=scripts&amp;skin=vector&amp;sync=1\"></script><![endif]-->\\n</head>\\n<body class=\"mediawiki ltr sitedir-ltr mw-hide-empty-elt ns-0 ns-subject mw-editable page-Greater_Toronto_Jaguars rootpage-Greater_Toronto_Jaguars skin-vector action-view\">\\t\\t<div id=\"mw-page-base\" class=\"noprint\"></div>\\n\\t\\t<div id=\"mw-head-base\" class=\"noprint\"></div>\\n\\t\\t<div id=\"content\" class=\"mw-body\" role=\"main\">\\n\\t\\t\\t<a id=\"top\"></a>\\n\\t\\t\\t<div id=\"siteNotice\" class=\"mw-body-content\"><!-- CentralNotice --></div><div class=\"mw-indicators mw-body-content\">\\n</div>\\n<h1 id=\"firstHeading\" class=\"firstHeading\" lang=\"en\">Greater Toronto Jaguars</h1>\\t\\t\\t<div id=\"bodyContent\" class=\"mw-body-content\">\\n\\t\\t\\t\\t<div id=\"siteSub\" class=\"noprint\">From Wikipedia, the free encyclopedia</div>\\t\\t\\t\\t<div id=\"contentSub\"></div>\\n\\t\\t\\t\\t<div id=\"jump-to-nav\"></div>\\t\\t\\t\\t<a class=\"mw-jump-link\" href=\"#mw-head\">Jump to navigation</a>\\n\\t\\t\\t\\t<a class=\"mw-jump-link\" href=\"#p-search\">Jump to search</a>\\n\\t\\t\\t\\t<div id=\"mw-content-text\" lang=\"en\" dir=\"ltr\" class=\"mw-content-ltr\"><div class=\"noarticletext mw-content-ltr\" dir=\"ltr\" lang=\"en\">\\n <table id=\"noarticletext\" class=\"plainlinks fmbox fmbox-system\" role=\"presentation\"><tbody><tr><td class=\"mbox-text\" style=\"padding: 0.6em 0.9em;\"><div class=\"infobox\" id=\"sisterproject\" style=\"width: 20em; font-size: 90%; float: right; padding: 0.5em;\">Look for <b>Greater Toronto Jaguars</b> on one of Wikipedia\\'s <a href=\"/wiki/Special:SiteMatrix\" title=\"Special:SiteMatrix\">sister projects</a>:\\n<table style=\"background: none; margin: auto;\" cellpadding=\"1\" cellspacing=\"0\">\\n <tbody><tr style=\"height: 30px;\">\\n  <td style=\"text-align: center; vertical-align: middle;\"><a href=\"/wiki/File:Wiktionary-logo-v2.svg\" class=\"image\"><img alt=\"Wiktionary-logo-v2.svg\" src=\"//upload.wikimedia.org/wikipedia/en/thumb/0/06/Wiktionary-logo-v2.svg/30px-Wiktionary-logo-v2.svg.png\" width=\"30\" height=\"30\" srcset=\"//upload.wikimedia.org/wikipedia/en/thumb/0/06/Wiktionary-logo-v2.svg/45px-Wiktionary-logo-v2.svg.png 1.5x, //upload.wikimedia.org/wikipedia/en/thumb/0/06/Wiktionary-logo-v2.svg/60px-Wiktionary-logo-v2.svg.png 2x\" data-file-width=\"391\" data-file-height=\"391\" /></a></td>\\n  <td style=\"vertical-align: middle;\"><a href=\"https://en.wiktionary.org/wiki/Special:Search/Greater_Toronto_Jaguars\" class=\"extiw\" title=\"wiktionary:Special:Search/Greater Toronto Jaguars\">Wiktionary</a> (free dictionary)</td>\\n </tr>\\n <tr style=\"height: 30px;\">\\n  <td style=\"text-align: center; vertical-align: middle;\"><a href=\"/wiki/File:Wikibooks-logo.svg\" class=\"image\"><img alt=\"Wikibooks-logo.svg\" src=\"//upload.wikimedia.org/wikipedia/commons/thumb/f/fa/Wikibooks-logo.svg/30px-Wikibooks-logo.svg.png\" width=\"30\" height=\"30\" srcset=\"//upload.wikimedia.org/wikipedia/commons/thumb/f/fa/Wikibooks-logo.svg/45px-Wikibooks-logo.svg.png 1.5x, //upload.wikimedia.org/wikipedia/commons/thumb/f/fa/Wikibooks-logo.svg/60px-Wikibooks-logo.svg.png 2x\" data-file-width=\"300\" data-file-height=\"300\" /></a></td>\\n  <td style=\"vertical-align: middle;\"><a href=\"https://en.wikibooks.org/wiki/Special:Search/Greater_Toronto_Jaguars\" class=\"extiw\" title=\"wikibooks:Special:Search/Greater Toronto Jaguars\">Wikibooks</a> (free textbooks)</td>\\n </tr>\\n <tr style=\"height: 30px;\">\\n  <td style=\"text-align: center; vertical-align: middle;\"><a href=\"/wiki/File:Wikiquote-logo.svg\" class=\"image\"><img alt=\"Wikiquote-logo.svg\" src=\"//upload.wikimedia.org/wikipedia/commons/thumb/f/fa/Wikiquote-logo.svg/25px-Wikiquote-logo.svg.png\" width=\"25\" height=\"30\" srcset=\"//upload.wikimedia.org/wikipedia/commons/thumb/f/fa/Wikiquote-logo.svg/38px-Wikiquote-logo.svg.png 1.5x, //upload.wikimedia.org/wikipedia/commons/thumb/f/fa/Wikiquote-logo.svg/51px-Wikiquote-logo.svg.png 2x\" data-file-width=\"300\" data-file-height=\"355\" /></a></td>\\n  <td style=\"vertical-align: middle;\"><a href=\"https://en.wikiquote.org/wiki/Special:Search/Greater_Toronto_Jaguars\" class=\"extiw\" title=\"wikiquote:Special:Search/Greater Toronto Jaguars\">Wikiquote</a> (quotations)</td>\\n </tr>\\n <tr style=\"height: 30px;\">\\n  <td style=\"text-align: center; vertical-align: middle;\"><a href=\"/wiki/File:Wikisource-logo.svg\" class=\"image\"><img alt=\"Wikisource-logo.svg\" src=\"//upload.wikimedia.org/wikipedia/commons/thumb/4/4c/Wikisource-logo.svg/29px-Wikisource-logo.svg.png\" width=\"29\" height=\"30\" srcset=\"//upload.wikimedia.org/wikipedia/commons/thumb/4/4c/Wikisource-logo.svg/43px-Wikisource-logo.svg.png 1.5x, //upload.wikimedia.org/wikipedia/commons/thumb/4/4c/Wikisource-logo.svg/57px-Wikisource-logo.svg.png 2x\" data-file-width=\"410\" data-file-height=\"430\" /></a></td>\\n  <td style=\"vertical-align: middle;\"><a href=\"https://en.wikisource.org/wiki/Special:Search/Greater_Toronto_Jaguars\" class=\"extiw\" title=\"wikisource:Special:Search/Greater Toronto Jaguars\">Wikisource</a> (free library)</td>\\n </tr>\\n <tr style=\"height: 30px;\">\\n  <td style=\"text-align: center; vertical-align: middle;\"><a href=\"/wiki/File:Wikiversity-logo.svg\" class=\"image\"><img alt=\"Wikiversity-logo.svg\" src=\"//upload.wikimedia.org/wikipedia/commons/thumb/9/91/Wikiversity-logo.svg/30px-Wikiversity-logo.svg.png\" width=\"30\" height=\"24\" srcset=\"//upload.wikimedia.org/wikipedia/commons/thumb/9/91/Wikiversity-logo.svg/45px-Wikiversity-logo.svg.png 1.5x, //upload.wikimedia.org/wikipedia/commons/thumb/9/91/Wikiversity-logo.svg/60px-Wikiversity-logo.svg.png 2x\" data-file-width=\"1000\" data-file-height=\"800\" /></a></td>\\n  <td style=\"vertical-align: middle;\"><a href=\"https://en.wikiversity.org/wiki/Special:Search/Greater_Toronto_Jaguars\" class=\"extiw\" title=\"wikiversity:Special:Search/Greater Toronto Jaguars\">Wikiversity</a> (free learning resources)</td>\\n </tr>\\n <tr style=\"height: 30px;\">\\n  <td style=\"text-align: center; vertical-align: middle;\"><a href=\"/wiki/File:Commons-logo.svg\" class=\"image\"><img alt=\"Commons-logo.svg\" src=\"//upload.wikimedia.org/wikipedia/en/thumb/4/4a/Commons-logo.svg/22px-Commons-logo.svg.png\" width=\"22\" height=\"30\" srcset=\"//upload.wikimedia.org/wikipedia/en/thumb/4/4a/Commons-logo.svg/33px-Commons-logo.svg.png 1.5x, //upload.wikimedia.org/wikipedia/en/thumb/4/4a/Commons-logo.svg/45px-Commons-logo.svg.png 2x\" data-file-width=\"1024\" data-file-height=\"1376\" /></a></td>\\n  <td style=\"vertical-align: middle;\"><a href=\"https://commons.wikimedia.org/wiki/Special:Search/Greater_Toronto_Jaguars\" class=\"extiw\" title=\"commons:Special:Search/Greater Toronto Jaguars\">Commons</a> (images and media)</td>\\n </tr>\\n <tr style=\"height: 30px;\">\\n  <td style=\"text-align: center; vertical-align: middle;\"><a href=\"/wiki/File:Wikivoyage-Logo-v3-icon.svg\" class=\"image\"><img alt=\"Wikivoyage-Logo-v3-icon.svg\" src=\"//upload.wikimedia.org/wikipedia/commons/thumb/d/dd/Wikivoyage-Logo-v3-icon.svg/30px-Wikivoyage-Logo-v3-icon.svg.png\" width=\"30\" height=\"30\" srcset=\"//upload.wikimedia.org/wikipedia/commons/thumb/d/dd/Wikivoyage-Logo-v3-icon.svg/45px-Wikivoyage-Logo-v3-icon.svg.png 1.5x, //upload.wikimedia.org/wikipedia/commons/thumb/d/dd/Wikivoyage-Logo-v3-icon.svg/60px-Wikivoyage-Logo-v3-icon.svg.png 2x\" data-file-width=\"193\" data-file-height=\"193\" /></a></td>\\n  <td style=\"vertical-align: middle;\"><a href=\"https://en.wikivoyage.org/wiki/Special:Search/Greater_Toronto_Jaguars\" class=\"extiw\" title=\"wikivoyage:Special:Search/Greater Toronto Jaguars\">Wikivoyage</a> (free travel guide)</td>\\n </tr>\\n <tr style=\"height: 30px;\">\\n  <td style=\"text-align: center; vertical-align: middle;\"><a href=\"/wiki/File:Wikinews-logo.svg\" class=\"image\"><img alt=\"Wikinews-logo.svg\" src=\"//upload.wikimedia.org/wikipedia/commons/thumb/2/24/Wikinews-logo.svg/30px-Wikinews-logo.svg.png\" width=\"30\" height=\"16\" srcset=\"//upload.wikimedia.org/wikipedia/commons/thumb/2/24/Wikinews-logo.svg/45px-Wikinews-logo.svg.png 1.5x, //upload.wikimedia.org/wikipedia/commons/thumb/2/24/Wikinews-logo.svg/60px-Wikinews-logo.svg.png 2x\" data-file-width=\"759\" data-file-height=\"415\" /></a></td>\\n  <td style=\"vertical-align: middle;\"><a href=\"https://en.wikinews.org/wiki/Special:Search/Greater_Toronto_Jaguars\" class=\"extiw\" title=\"wikinews:Special:Search/Greater Toronto Jaguars\">Wikinews</a> (free news source)</td>\\n </tr>\\n <tr style=\"height: 30px;\">\\n  <td style=\"text-align: center; vertical-align: middle;\"><a href=\"/wiki/File:Wikidata-logo.svg\" class=\"image\"><img alt=\"Wikidata-logo.svg\" src=\"//upload.wikimedia.org/wikipedia/commons/thumb/f/ff/Wikidata-logo.svg/30px-Wikidata-logo.svg.png\" width=\"30\" height=\"17\" srcset=\"//upload.wikimedia.org/wikipedia/commons/thumb/f/ff/Wikidata-logo.svg/45px-Wikidata-logo.svg.png 1.5x, //upload.wikimedia.org/wikipedia/commons/thumb/f/ff/Wikidata-logo.svg/60px-Wikidata-logo.svg.png 2x\" data-file-width=\"1050\" data-file-height=\"590\" /></a></td>\\n  <td style=\"vertical-align: middle;\"><a href=\"https://www.wikidata.org/wiki/Special:Search/Greater_Toronto_Jaguars\" class=\"extiw\" title=\"wikidata:Special:Search/Greater Toronto Jaguars\">Wikidata</a> (free linked database)</td>\\n </tr>\\n</tbody></table></div><b>Wikipedia does not have an article with this exact name.</b> Please <span class=\"plainlinks\"><a class=\"external text\" href=\"//en.wikipedia.org/w/index.php?search=Greater+Toronto+Jaguars&amp;title=Special%3ASearch&amp;fulltext=1\">search for <i>Greater Toronto Jaguars</i> in Wikipedia</a></span> to check for alternative titles or spellings.\\n<ul><li><a class=\"external text\" href=\"//en.wikipedia.org/w/index.php?title=Special:UserLogin&amp;returnto=Greater+Toronto+Jaguars\">Log in or create an account</a> to start the <i><b>Greater Toronto Jaguars</b></i> article, alternatively use the <a href=\"/wiki/Wikipedia:Article_wizard\" title=\"Wikipedia:Article wizard\">Article Wizard</a>, or <a href=\"/wiki/Wikipedia:Requested_articles\" title=\"Wikipedia:Requested articles\">add a request for it</a>.</li>\\n<li><span class=\"plainlinks\"><a class=\"external text\" href=\"//en.wikipedia.org/w/index.php?search=Greater+Toronto+Jaguars&amp;title=Special%3ASearch&amp;fulltext=1&amp;ns0=1\">Search for \"<i>Greater Toronto Jaguars</i>\"</a></span> in existing articles.</li>\\n<li><a href=\"/wiki/Special:WhatLinksHere/Greater_Toronto_Jaguars\" title=\"Special:WhatLinksHere/Greater Toronto Jaguars\">Look for pages within Wikipedia that link to this title</a>.</li></ul>\\n<div id=\"noarticletext_technical\">\\n<hr />\\n<p><b>Other reasons this message may be displayed:</b>\\n</p>\\n<ul><li>If a page was recently created here, it may not be visible yet because of a delay in updating the database; wait a few minutes or <a class=\"external text\" href=\"//en.wikipedia.org/w/index.php?title=Greater_Toronto_Jaguars&amp;action=purge\">try the purge function</a>.</li>\\n<li>Titles on Wikipedia are <b><a href=\"/wiki/Case_sensitivity\" title=\"Case sensitivity\">case sensitive</a></b> except for the first character; please <span class=\"plainlinks\"><a class=\"external text\" href=\"//en.wikipedia.org/w/index.php?search=Greater+Toronto+Jaguars&amp;title=Special%3ASearch&amp;fulltext=1\">check alternative capitalizations</a></span> and consider adding a <a href=\"/wiki/Wikipedia:Redirect\" title=\"Wikipedia:Redirect\">redirect</a> here to the correct title.</li>\\n<li>If the page has been deleted, <a class=\"external text\" href=\"//en.wikipedia.org/w/index.php?title=Special:Log/delete&amp;page=Greater_Toronto_Jaguars\">check the <b>deletion log</b></a>, and see <a href=\"/wiki/Wikipedia:Why_was_the_page_I_created_deleted%3F\" title=\"Wikipedia:Why was the page I created deleted?\">Why was the page I created deleted?</a>.</li></ul>\\n</div></td></tr></tbody></table>\\n</div>\\n<noscript><img src=\"//en.wikipedia.org/wiki/Special:CentralAutoLogin/start?type=1x1\" alt=\"\" title=\"\" width=\"1\" height=\"1\" style=\"border: none; position: absolute;\" /></noscript></div>\\t\\t\\t\\t\\t<div class=\"printfooter\">\\n\\t\\t\\t\\t\\t\\tRetrieved from \"<a dir=\"ltr\" href=\"https://en.wikipedia.org/wiki/Greater_Toronto_Jaguars\">https://en.wikipedia.org/wiki/Greater_Toronto_Jaguars</a>\"\\t\\t\\t\\t\\t</div>\\n\\t\\t\\t\\t<div id=\"catlinks\" class=\"catlinks catlinks-allhidden\" data-mw=\"interface\"></div>\\t\\t\\t\\t<div class=\"visualClear\"></div>\\n\\t\\t\\t\\t\\t\\t\\t</div>\\n\\t\\t</div>\\n\\t\\t<div id=\"mw-navigation\">\\n\\t\\t\\t<h2>Navigation menu</h2>\\n\\t\\t\\t<div id=\"mw-head\">\\n\\t\\t\\t\\t\\t\\t\\t\\t\\t<div id=\"p-personal\" role=\"navigation\" class=\"\" aria-labelledby=\"p-personal-label\">\\n\\t\\t\\t\\t\\t\\t<h3 id=\"p-personal-label\">Personal tools</h3>\\n\\t\\t\\t\\t\\t\\t<ul>\\n\\t\\t\\t\\t\\t\\t\\t<li id=\"pt-anonuserpage\">Not logged in</li><li id=\"pt-anontalk\"><a href=\"/wiki/Special:MyTalk\" title=\"Discussion about edits from this IP address [n]\" accesskey=\"n\">Talk</a></li><li id=\"pt-anoncontribs\"><a href=\"/wiki/Special:MyContributions\" title=\"A list of edits made from this IP address [y]\" accesskey=\"y\">Contributions</a></li><li id=\"pt-createaccount\"><a href=\"/w/index.php?title=Special:CreateAccount&amp;returnto=Greater+Toronto+Jaguars\" title=\"You are encouraged to create an account and log in; however, it is not mandatory\">Create account</a></li><li id=\"pt-login\"><a href=\"/w/index.php?title=Special:UserLogin&amp;returnto=Greater+Toronto+Jaguars\" title=\"You&#039;re encouraged to log in; however, it&#039;s not mandatory. [o]\" accesskey=\"o\">Log in</a></li>\\t\\t\\t\\t\\t\\t</ul>\\n\\t\\t\\t\\t\\t</div>\\n\\t\\t\\t\\t\\t\\t\\t\\t\\t<div id=\"left-navigation\">\\n\\t\\t\\t\\t\\t\\t\\t\\t\\t\\t<div id=\"p-namespaces\" role=\"navigation\" class=\"vectorTabs\" aria-labelledby=\"p-namespaces-label\">\\n\\t\\t\\t\\t\\t\\t<h3 id=\"p-namespaces-label\">Namespaces</h3>\\n\\t\\t\\t\\t\\t\\t<ul>\\n\\t\\t\\t\\t\\t\\t\\t<li id=\"ca-nstab-main\" class=\"selected new\"><span><a href=\"/w/index.php?title=Greater_Toronto_Jaguars&amp;action=edit&amp;redlink=1\" title=\"View the content page (page does not exist) [c]\" accesskey=\"c\">Article</a></span></li><li id=\"ca-talk\" class=\"new\"><span><a href=\"/w/index.php?title=Talk:Greater_Toronto_Jaguars&amp;action=edit&amp;redlink=1\" rel=\"discussion\" title=\"Discussion about the content page (page does not exist) [t]\" accesskey=\"t\">Talk</a></span></li>\\t\\t\\t\\t\\t\\t</ul>\\n\\t\\t\\t\\t\\t</div>\\n\\t\\t\\t\\t\\t\\t\\t\\t\\t\\t<div id=\"p-variants\" role=\"navigation\" class=\"vectorMenu emptyPortlet\" aria-labelledby=\"p-variants-label\">\\n\\t\\t\\t\\t\\t\\t\\t\\t\\t\\t\\t\\t<input type=\"checkbox\" class=\"vectorMenuCheckbox\" aria-labelledby=\"p-variants-label\" />\\n\\t\\t\\t\\t\\t\\t<h3 id=\"p-variants-label\">\\n\\t\\t\\t\\t\\t\\t\\t<span>Variants</span>\\n\\t\\t\\t\\t\\t\\t</h3>\\n\\t\\t\\t\\t\\t\\t<ul class=\"menu\">\\n\\t\\t\\t\\t\\t\\t\\t\\t\\t\\t\\t\\t\\t</ul>\\n\\t\\t\\t\\t\\t</div>\\n\\t\\t\\t\\t\\t\\t\\t\\t\\t</div>\\n\\t\\t\\t\\t<div id=\"right-navigation\">\\n\\t\\t\\t\\t\\t\\t\\t\\t\\t\\t<div id=\"p-views\" role=\"navigation\" class=\"vectorTabs emptyPortlet\" aria-labelledby=\"p-views-label\">\\n\\t\\t\\t\\t\\t\\t<h3 id=\"p-views-label\">Views</h3>\\n\\t\\t\\t\\t\\t\\t<ul>\\n\\t\\t\\t\\t\\t\\t\\t\\t\\t\\t\\t\\t\\t</ul>\\n\\t\\t\\t\\t\\t</div>\\n\\t\\t\\t\\t\\t\\t\\t\\t\\t\\t<div id=\"p-cactions\" role=\"navigation\" class=\"vectorMenu emptyPortlet\" aria-labelledby=\"p-cactions-label\">\\n\\t\\t\\t\\t\\t\\t<input type=\"checkbox\" class=\"vectorMenuCheckbox\" aria-labelledby=\"p-cactions-label\" />\\n\\t\\t\\t\\t\\t\\t<h3 id=\"p-cactions-label\"><span>More</span></h3>\\n\\t\\t\\t\\t\\t\\t<ul class=\"menu\">\\n\\t\\t\\t\\t\\t\\t\\t\\t\\t\\t\\t\\t\\t</ul>\\n\\t\\t\\t\\t\\t</div>\\n\\t\\t\\t\\t\\t\\t\\t\\t\\t\\t<div id=\"p-search\" role=\"search\">\\n\\t\\t\\t\\t\\t\\t<h3>\\n\\t\\t\\t\\t\\t\\t\\t<label for=\"searchInput\">Search</label>\\n\\t\\t\\t\\t\\t\\t</h3>\\n\\t\\t\\t\\t\\t\\t<form action=\"/w/index.php\" id=\"searchform\">\\n\\t\\t\\t\\t\\t\\t\\t<div id=\"simpleSearch\">\\n\\t\\t\\t\\t\\t\\t\\t\\t<input type=\"search\" name=\"search\" placeholder=\"Search Wikipedia\" title=\"Search Wikipedia [f]\" accesskey=\"f\" id=\"searchInput\"/><input type=\"hidden\" value=\"Special:Search\" name=\"title\"/><input type=\"submit\" name=\"fulltext\" value=\"Search\" title=\"Search Wikipedia for this text\" id=\"mw-searchButton\" class=\"searchButton mw-fallbackSearchButton\"/><input type=\"submit\" name=\"go\" value=\"Go\" title=\"Go to a page with this exact name if it exists\" id=\"searchButton\" class=\"searchButton\"/>\\t\\t\\t\\t\\t\\t\\t</div>\\n\\t\\t\\t\\t\\t\\t</form>\\n\\t\\t\\t\\t\\t</div>\\n\\t\\t\\t\\t\\t\\t\\t\\t\\t</div>\\n\\t\\t\\t</div>\\n\\t\\t\\t<div id=\"mw-panel\">\\n\\t\\t\\t\\t<div id=\"p-logo\" role=\"banner\"><a class=\"mw-wiki-logo\" href=\"/wiki/Main_Page\"  title=\"Visit the main page\"></a></div>\\n\\t\\t\\t\\t\\t\\t<div class=\"portal\" role=\"navigation\" id=\"p-navigation\" aria-labelledby=\"p-navigation-label\">\\n\\t\\t\\t<h3 id=\"p-navigation-label\">Navigation</h3>\\n\\t\\t\\t<div class=\"body\">\\n\\t\\t\\t\\t\\t\\t\\t\\t<ul>\\n\\t\\t\\t\\t\\t<li id=\"n-mainpage-description\"><a href=\"/wiki/Main_Page\" title=\"Visit the main page [z]\" accesskey=\"z\">Main page</a></li><li id=\"n-contents\"><a href=\"/wiki/Portal:Contents\" title=\"Guides to browsing Wikipedia\">Contents</a></li><li id=\"n-featuredcontent\"><a href=\"/wiki/Portal:Featured_content\" title=\"Featured content – the best of Wikipedia\">Featured content</a></li><li id=\"n-currentevents\"><a href=\"/wiki/Portal:Current_events\" title=\"Find background information on current events\">Current events</a></li><li id=\"n-randompage\"><a href=\"/wiki/Special:Random\" title=\"Load a random article [x]\" accesskey=\"x\">Random article</a></li><li id=\"n-sitesupport\"><a href=\"https://donate.wikimedia.org/wiki/Special:FundraiserRedirector?utm_source=donate&amp;utm_medium=sidebar&amp;utm_campaign=C13_en.wikipedia.org&amp;uselang=en\" title=\"Support us\">Donate to Wikipedia</a></li><li id=\"n-shoplink\"><a href=\"//shop.wikimedia.org\" title=\"Visit the Wikipedia store\">Wikipedia store</a></li>\\t\\t\\t\\t</ul>\\n\\t\\t\\t\\t\\t\\t\\t</div>\\n\\t\\t</div>\\n\\t\\t\\t<div class=\"portal\" role=\"navigation\" id=\"p-interaction\" aria-labelledby=\"p-interaction-label\">\\n\\t\\t\\t<h3 id=\"p-interaction-label\">Interaction</h3>\\n\\t\\t\\t<div class=\"body\">\\n\\t\\t\\t\\t\\t\\t\\t\\t<ul>\\n\\t\\t\\t\\t\\t<li id=\"n-help\"><a href=\"/wiki/Help:Contents\" title=\"Guidance on how to use and edit Wikipedia\">Help</a></li><li id=\"n-aboutsite\"><a href=\"/wiki/Wikipedia:About\" title=\"Find out about Wikipedia\">About Wikipedia</a></li><li id=\"n-portal\"><a href=\"/wiki/Wikipedia:Community_portal\" title=\"About the project, what you can do, where to find things\">Community portal</a></li><li id=\"n-recentchanges\"><a href=\"/wiki/Special:RecentChanges\" title=\"A list of recent changes in the wiki [r]\" accesskey=\"r\">Recent changes</a></li><li id=\"n-contactpage\"><a href=\"//en.wikipedia.org/wiki/Wikipedia:Contact_us\" title=\"How to contact Wikipedia\">Contact page</a></li>\\t\\t\\t\\t</ul>\\n\\t\\t\\t\\t\\t\\t\\t</div>\\n\\t\\t</div>\\n\\t\\t\\t<div class=\"portal\" role=\"navigation\" id=\"p-tb\" aria-labelledby=\"p-tb-label\">\\n\\t\\t\\t<h3 id=\"p-tb-label\">Tools</h3>\\n\\t\\t\\t<div class=\"body\">\\n\\t\\t\\t\\t\\t\\t\\t\\t<ul>\\n\\t\\t\\t\\t\\t<li id=\"t-whatlinkshere\"><a href=\"/wiki/Special:WhatLinksHere/Greater_Toronto_Jaguars\" title=\"List of all English Wikipedia pages containing links to this page [j]\" accesskey=\"j\">What links here</a></li><li id=\"t-upload\"><a href=\"/wiki/Wikipedia:File_Upload_Wizard\" title=\"Upload files [u]\" accesskey=\"u\">Upload file</a></li><li id=\"t-specialpages\"><a href=\"/wiki/Special:SpecialPages\" title=\"A list of all special pages [q]\" accesskey=\"q\">Special pages</a></li><li id=\"t-info\"><a href=\"/w/index.php?title=Greater_Toronto_Jaguars&amp;action=info\" title=\"More information about this page\">Page information</a></li>\\t\\t\\t\\t</ul>\\n\\t\\t\\t\\t\\t\\t\\t</div>\\n\\t\\t</div>\\n\\t\\t\\t<div class=\"portal\" role=\"navigation\" id=\"p-lang\" aria-labelledby=\"p-lang-label\">\\n\\t\\t\\t<h3 id=\"p-lang-label\">Languages</h3>\\n\\t\\t\\t<div class=\"body\">\\n\\t\\t\\t\\t\\t\\t\\t\\t<ul>\\n\\t\\t\\t\\t\\t\\t\\t\\t\\t</ul>\\n\\t\\t\\t\\t\\t\\t\\t</div>\\n\\t\\t</div>\\n\\t\\t\\t\\t</div>\\n\\t\\t</div>\\n\\t\\t\\t\\t<div id=\"footer\" role=\"contentinfo\">\\n\\t\\t\\t\\t\\t\\t<ul id=\"footer-places\">\\n\\t\\t\\t\\t\\t\\t\\t\\t<li id=\"footer-places-privacy\"><a href=\"https://foundation.wikimedia.org/wiki/Privacy_policy\" class=\"extiw\" title=\"wmf:Privacy policy\">Privacy policy</a></li>\\n\\t\\t\\t\\t\\t\\t\\t\\t<li id=\"footer-places-about\"><a href=\"/wiki/Wikipedia:About\" title=\"Wikipedia:About\">About Wikipedia</a></li>\\n\\t\\t\\t\\t\\t\\t\\t\\t<li id=\"footer-places-disclaimer\"><a href=\"/wiki/Wikipedia:General_disclaimer\" title=\"Wikipedia:General disclaimer\">Disclaimers</a></li>\\n\\t\\t\\t\\t\\t\\t\\t\\t<li id=\"footer-places-contact\"><a href=\"//en.wikipedia.org/wiki/Wikipedia:Contact_us\">Contact Wikipedia</a></li>\\n\\t\\t\\t\\t\\t\\t\\t\\t<li id=\"footer-places-developers\"><a href=\"https://www.mediawiki.org/wiki/Special:MyLanguage/How_to_contribute\">Developers</a></li>\\n\\t\\t\\t\\t\\t\\t\\t\\t<li id=\"footer-places-cookiestatement\"><a href=\"https://foundation.wikimedia.org/wiki/Cookie_statement\">Cookie statement</a></li>\\n\\t\\t\\t\\t\\t\\t\\t\\t<li id=\"footer-places-mobileview\"><a href=\"//en.m.wikipedia.org/w/index.php?title=Greater_Toronto_Jaguars&amp;mobileaction=toggle_view_mobile\" class=\"noprint stopMobileRedirectToggle\">Mobile view</a></li>\\n\\t\\t\\t\\t\\t\\t\\t</ul>\\n\\t\\t\\t\\t\\t\\t\\t\\t\\t\\t<ul id=\"footer-icons\" class=\"noprint\">\\n\\t\\t\\t\\t\\t\\t\\t\\t\\t\\t<li id=\"footer-copyrightico\">\\n\\t\\t\\t\\t\\t\\t<a href=\"https://wikimediafoundation.org/\"><img src=\"/static/images/wikimedia-button.png\" srcset=\"/static/images/wikimedia-button-1.5x.png 1.5x, /static/images/wikimedia-button-2x.png 2x\" width=\"88\" height=\"31\" alt=\"Wikimedia Foundation\"/></a>\\t\\t\\t\\t\\t</li>\\n\\t\\t\\t\\t\\t\\t\\t\\t\\t\\t<li id=\"footer-poweredbyico\">\\n\\t\\t\\t\\t\\t\\t<a href=\"//www.mediawiki.org/\"><img src=\"/static/images/poweredby_mediawiki_88x31.png\" alt=\"Powered by MediaWiki\" srcset=\"/static/images/poweredby_mediawiki_132x47.png 1.5x, /static/images/poweredby_mediawiki_176x62.png 2x\" width=\"88\" height=\"31\"/></a>\\t\\t\\t\\t\\t</li>\\n\\t\\t\\t\\t\\t\\t\\t\\t\\t</ul>\\n\\t\\t\\t\\t\\t\\t<div style=\"clear: both;\"></div>\\n\\t\\t</div>\\n\\t\\t\\n<script>(window.RLQ=window.RLQ||[]).push(function(){mw.config.set({\"wgBackendResponseTime\":270,\"wgHostname\":\"mw1331\"});});</script>\\n\\t</body>\\n</html>\\n'"
      ]
     },
     "execution_count": 20,
     "metadata": {},
     "output_type": "execute_result"
    }
   ],
   "source": [
    "o2(seed)"
   ]
  },
  {
   "cell_type": "code",
   "execution_count": null,
   "metadata": {},
   "outputs": [],
   "source": []
  },
  {
   "cell_type": "code",
   "execution_count": 13,
   "metadata": {},
   "outputs": [],
   "source": [
    "#links"
   ]
  },
  {
   "cell_type": "code",
   "execution_count": 10,
   "metadata": {},
   "outputs": [],
   "source": [
    "o1, o2 = download_article_html_urllib, download_article_html_requests"
   ]
  },
  {
   "cell_type": "code",
   "execution_count": 11,
   "metadata": {},
   "outputs": [
    {
     "ename": "HTTPError",
     "evalue": "HTTP Error 404: Not Found",
     "output_type": "error",
     "traceback": [
      "\u001b[0;31m---------------------------------------------------------------------\u001b[0m",
      "\u001b[0;31mHTTPError\u001b[0m                           Traceback (most recent call last)",
      "\u001b[0;32m<ipython-input-11-5f028d5bedc8>\u001b[0m in \u001b[0;36m<module>\u001b[0;34m()\u001b[0m\n\u001b[0;32m----> 1\u001b[0;31m \u001b[0mlinks\u001b[0m\u001b[0;34m,\u001b[0m \u001b[0mredirects\u001b[0m\u001b[0;34m,\u001b[0m \u001b[0mcats\u001b[0m\u001b[0;34m,\u001b[0m \u001b[0mbts\u001b[0m \u001b[0;34m=\u001b[0m \u001b[0mwiki_expand\u001b[0m\u001b[0;34m(\u001b[0m\u001b[0mseed\u001b[0m\u001b[0;34m,\u001b[0m \u001b[0mo1\u001b[0m\u001b[0;34m)\u001b[0m\u001b[0;34m\u001b[0m\u001b[0m\n\u001b[0m\u001b[1;32m      2\u001b[0m \u001b[0mlen\u001b[0m\u001b[0;34m(\u001b[0m\u001b[0mlinks\u001b[0m\u001b[0;34m)\u001b[0m\u001b[0;34m,\u001b[0m \u001b[0mlen\u001b[0m\u001b[0;34m(\u001b[0m\u001b[0mredirects\u001b[0m\u001b[0;34m)\u001b[0m\u001b[0;34m,\u001b[0m \u001b[0mbts\u001b[0m\u001b[0;34m\u001b[0m\u001b[0m\n",
      "\u001b[0;32m~/workspace/marl/foundation/wikigraph/extraction.py\u001b[0m in \u001b[0;36mwiki_expand\u001b[0;34m(article_name, download_fn)\u001b[0m\n\u001b[1;32m    111\u001b[0m                 \u001b[0mdownload_fn\u001b[0m \u001b[0;34m=\u001b[0m \u001b[0mdownload_article_html_requests\u001b[0m\u001b[0;34m\u001b[0m\u001b[0m\n\u001b[1;32m    112\u001b[0m \u001b[0;34m\u001b[0m\u001b[0m\n\u001b[0;32m--> 113\u001b[0;31m         \u001b[0mcontent\u001b[0m \u001b[0;34m=\u001b[0m \u001b[0mdownload_fn\u001b[0m\u001b[0;34m(\u001b[0m\u001b[0marticle_name\u001b[0m\u001b[0;34m)\u001b[0m\u001b[0;34m\u001b[0m\u001b[0m\n\u001b[0m\u001b[1;32m    114\u001b[0m \u001b[0;34m\u001b[0m\u001b[0m\n\u001b[1;32m    115\u001b[0m         \u001b[0mparser\u001b[0m \u001b[0;34m=\u001b[0m \u001b[0mWikiParser\u001b[0m\u001b[0;34m(\u001b[0m\u001b[0;34m)\u001b[0m\u001b[0;34m\u001b[0m\u001b[0m\n",
      "\u001b[0;32m~/workspace/marl/foundation/wikigraph/extraction.py\u001b[0m in \u001b[0;36mdownload_article_html_urllib\u001b[0;34m(article_name)\u001b[0m\n\u001b[1;32m     92\u001b[0m         \u001b[0;31m#       article_name.decode() if isinstance(article_name, bytes) else article_name)\u001b[0m\u001b[0;34m\u001b[0m\u001b[0;34m\u001b[0m\u001b[0m\n\u001b[1;32m     93\u001b[0m \u001b[0;34m\u001b[0m\u001b[0m\n\u001b[0;32m---> 94\u001b[0;31m         \u001b[0mcontent\u001b[0m \u001b[0;34m=\u001b[0m \u001b[0murllib\u001b[0m\u001b[0;34m.\u001b[0m\u001b[0mrequest\u001b[0m\u001b[0;34m.\u001b[0m\u001b[0murlopen\u001b[0m\u001b[0;34m(\u001b[0m\u001b[0murl\u001b[0m\u001b[0;34m)\u001b[0m\u001b[0;34m.\u001b[0m\u001b[0mread\u001b[0m\u001b[0;34m(\u001b[0m\u001b[0;34m)\u001b[0m\u001b[0;34m\u001b[0m\u001b[0m\n\u001b[0m\u001b[1;32m     95\u001b[0m         \u001b[0;32mreturn\u001b[0m \u001b[0mcontent\u001b[0m\u001b[0;34m\u001b[0m\u001b[0m\n\u001b[1;32m     96\u001b[0m \u001b[0;34m\u001b[0m\u001b[0m\n",
      "\u001b[0;32m~/anaconda3/lib/python3.5/urllib/request.py\u001b[0m in \u001b[0;36murlopen\u001b[0;34m(url, data, timeout, cafile, capath, cadefault, context)\u001b[0m\n\u001b[1;32m    161\u001b[0m     \u001b[0;32melse\u001b[0m\u001b[0;34m:\u001b[0m\u001b[0;34m\u001b[0m\u001b[0m\n\u001b[1;32m    162\u001b[0m         \u001b[0mopener\u001b[0m \u001b[0;34m=\u001b[0m \u001b[0m_opener\u001b[0m\u001b[0;34m\u001b[0m\u001b[0m\n\u001b[0;32m--> 163\u001b[0;31m     \u001b[0;32mreturn\u001b[0m \u001b[0mopener\u001b[0m\u001b[0;34m.\u001b[0m\u001b[0mopen\u001b[0m\u001b[0;34m(\u001b[0m\u001b[0murl\u001b[0m\u001b[0;34m,\u001b[0m \u001b[0mdata\u001b[0m\u001b[0;34m,\u001b[0m \u001b[0mtimeout\u001b[0m\u001b[0;34m)\u001b[0m\u001b[0;34m\u001b[0m\u001b[0m\n\u001b[0m\u001b[1;32m    164\u001b[0m \u001b[0;34m\u001b[0m\u001b[0m\n\u001b[1;32m    165\u001b[0m \u001b[0;32mdef\u001b[0m \u001b[0minstall_opener\u001b[0m\u001b[0;34m(\u001b[0m\u001b[0mopener\u001b[0m\u001b[0;34m)\u001b[0m\u001b[0;34m:\u001b[0m\u001b[0;34m\u001b[0m\u001b[0m\n",
      "\u001b[0;32m~/anaconda3/lib/python3.5/urllib/request.py\u001b[0m in \u001b[0;36mopen\u001b[0;34m(self, fullurl, data, timeout)\u001b[0m\n\u001b[1;32m    470\u001b[0m         \u001b[0;32mfor\u001b[0m \u001b[0mprocessor\u001b[0m \u001b[0;32min\u001b[0m \u001b[0mself\u001b[0m\u001b[0;34m.\u001b[0m\u001b[0mprocess_response\u001b[0m\u001b[0;34m.\u001b[0m\u001b[0mget\u001b[0m\u001b[0;34m(\u001b[0m\u001b[0mprotocol\u001b[0m\u001b[0;34m,\u001b[0m \u001b[0;34m[\u001b[0m\u001b[0;34m]\u001b[0m\u001b[0;34m)\u001b[0m\u001b[0;34m:\u001b[0m\u001b[0;34m\u001b[0m\u001b[0m\n\u001b[1;32m    471\u001b[0m             \u001b[0mmeth\u001b[0m \u001b[0;34m=\u001b[0m \u001b[0mgetattr\u001b[0m\u001b[0;34m(\u001b[0m\u001b[0mprocessor\u001b[0m\u001b[0;34m,\u001b[0m \u001b[0mmeth_name\u001b[0m\u001b[0;34m)\u001b[0m\u001b[0;34m\u001b[0m\u001b[0m\n\u001b[0;32m--> 472\u001b[0;31m             \u001b[0mresponse\u001b[0m \u001b[0;34m=\u001b[0m \u001b[0mmeth\u001b[0m\u001b[0;34m(\u001b[0m\u001b[0mreq\u001b[0m\u001b[0;34m,\u001b[0m \u001b[0mresponse\u001b[0m\u001b[0;34m)\u001b[0m\u001b[0;34m\u001b[0m\u001b[0m\n\u001b[0m\u001b[1;32m    473\u001b[0m \u001b[0;34m\u001b[0m\u001b[0m\n\u001b[1;32m    474\u001b[0m         \u001b[0;32mreturn\u001b[0m \u001b[0mresponse\u001b[0m\u001b[0;34m\u001b[0m\u001b[0m\n",
      "\u001b[0;32m~/anaconda3/lib/python3.5/urllib/request.py\u001b[0m in \u001b[0;36mhttp_response\u001b[0;34m(self, request, response)\u001b[0m\n\u001b[1;32m    580\u001b[0m         \u001b[0;32mif\u001b[0m \u001b[0;32mnot\u001b[0m \u001b[0;34m(\u001b[0m\u001b[0;36m200\u001b[0m \u001b[0;34m<=\u001b[0m \u001b[0mcode\u001b[0m \u001b[0;34m<\u001b[0m \u001b[0;36m300\u001b[0m\u001b[0;34m)\u001b[0m\u001b[0;34m:\u001b[0m\u001b[0;34m\u001b[0m\u001b[0m\n\u001b[1;32m    581\u001b[0m             response = self.parent.error(\n\u001b[0;32m--> 582\u001b[0;31m                 'http', request, response, code, msg, hdrs)\n\u001b[0m\u001b[1;32m    583\u001b[0m \u001b[0;34m\u001b[0m\u001b[0m\n\u001b[1;32m    584\u001b[0m         \u001b[0;32mreturn\u001b[0m \u001b[0mresponse\u001b[0m\u001b[0;34m\u001b[0m\u001b[0m\n",
      "\u001b[0;32m~/anaconda3/lib/python3.5/urllib/request.py\u001b[0m in \u001b[0;36merror\u001b[0;34m(self, proto, *args)\u001b[0m\n\u001b[1;32m    508\u001b[0m         \u001b[0;32mif\u001b[0m \u001b[0mhttp_err\u001b[0m\u001b[0;34m:\u001b[0m\u001b[0;34m\u001b[0m\u001b[0m\n\u001b[1;32m    509\u001b[0m             \u001b[0margs\u001b[0m \u001b[0;34m=\u001b[0m \u001b[0;34m(\u001b[0m\u001b[0mdict\u001b[0m\u001b[0;34m,\u001b[0m \u001b[0;34m'default'\u001b[0m\u001b[0;34m,\u001b[0m \u001b[0;34m'http_error_default'\u001b[0m\u001b[0;34m)\u001b[0m \u001b[0;34m+\u001b[0m \u001b[0morig_args\u001b[0m\u001b[0;34m\u001b[0m\u001b[0m\n\u001b[0;32m--> 510\u001b[0;31m             \u001b[0;32mreturn\u001b[0m \u001b[0mself\u001b[0m\u001b[0;34m.\u001b[0m\u001b[0m_call_chain\u001b[0m\u001b[0;34m(\u001b[0m\u001b[0;34m*\u001b[0m\u001b[0margs\u001b[0m\u001b[0;34m)\u001b[0m\u001b[0;34m\u001b[0m\u001b[0m\n\u001b[0m\u001b[1;32m    511\u001b[0m \u001b[0;34m\u001b[0m\u001b[0m\n\u001b[1;32m    512\u001b[0m \u001b[0;31m# XXX probably also want an abstract factory that knows when it makes\u001b[0m\u001b[0;34m\u001b[0m\u001b[0;34m\u001b[0m\u001b[0m\n",
      "\u001b[0;32m~/anaconda3/lib/python3.5/urllib/request.py\u001b[0m in \u001b[0;36m_call_chain\u001b[0;34m(self, chain, kind, meth_name, *args)\u001b[0m\n\u001b[1;32m    442\u001b[0m         \u001b[0;32mfor\u001b[0m \u001b[0mhandler\u001b[0m \u001b[0;32min\u001b[0m \u001b[0mhandlers\u001b[0m\u001b[0;34m:\u001b[0m\u001b[0;34m\u001b[0m\u001b[0m\n\u001b[1;32m    443\u001b[0m             \u001b[0mfunc\u001b[0m \u001b[0;34m=\u001b[0m \u001b[0mgetattr\u001b[0m\u001b[0;34m(\u001b[0m\u001b[0mhandler\u001b[0m\u001b[0;34m,\u001b[0m \u001b[0mmeth_name\u001b[0m\u001b[0;34m)\u001b[0m\u001b[0;34m\u001b[0m\u001b[0m\n\u001b[0;32m--> 444\u001b[0;31m             \u001b[0mresult\u001b[0m \u001b[0;34m=\u001b[0m \u001b[0mfunc\u001b[0m\u001b[0;34m(\u001b[0m\u001b[0;34m*\u001b[0m\u001b[0margs\u001b[0m\u001b[0;34m)\u001b[0m\u001b[0;34m\u001b[0m\u001b[0m\n\u001b[0m\u001b[1;32m    445\u001b[0m             \u001b[0;32mif\u001b[0m \u001b[0mresult\u001b[0m \u001b[0;32mis\u001b[0m \u001b[0;32mnot\u001b[0m \u001b[0;32mNone\u001b[0m\u001b[0;34m:\u001b[0m\u001b[0;34m\u001b[0m\u001b[0m\n\u001b[1;32m    446\u001b[0m                 \u001b[0;32mreturn\u001b[0m \u001b[0mresult\u001b[0m\u001b[0;34m\u001b[0m\u001b[0m\n",
      "\u001b[0;32m~/anaconda3/lib/python3.5/urllib/request.py\u001b[0m in \u001b[0;36mhttp_error_default\u001b[0;34m(self, req, fp, code, msg, hdrs)\u001b[0m\n\u001b[1;32m    588\u001b[0m \u001b[0;32mclass\u001b[0m \u001b[0mHTTPDefaultErrorHandler\u001b[0m\u001b[0;34m(\u001b[0m\u001b[0mBaseHandler\u001b[0m\u001b[0;34m)\u001b[0m\u001b[0;34m:\u001b[0m\u001b[0;34m\u001b[0m\u001b[0m\n\u001b[1;32m    589\u001b[0m     \u001b[0;32mdef\u001b[0m \u001b[0mhttp_error_default\u001b[0m\u001b[0;34m(\u001b[0m\u001b[0mself\u001b[0m\u001b[0;34m,\u001b[0m \u001b[0mreq\u001b[0m\u001b[0;34m,\u001b[0m \u001b[0mfp\u001b[0m\u001b[0;34m,\u001b[0m \u001b[0mcode\u001b[0m\u001b[0;34m,\u001b[0m \u001b[0mmsg\u001b[0m\u001b[0;34m,\u001b[0m \u001b[0mhdrs\u001b[0m\u001b[0;34m)\u001b[0m\u001b[0;34m:\u001b[0m\u001b[0;34m\u001b[0m\u001b[0m\n\u001b[0;32m--> 590\u001b[0;31m         \u001b[0;32mraise\u001b[0m \u001b[0mHTTPError\u001b[0m\u001b[0;34m(\u001b[0m\u001b[0mreq\u001b[0m\u001b[0;34m.\u001b[0m\u001b[0mfull_url\u001b[0m\u001b[0;34m,\u001b[0m \u001b[0mcode\u001b[0m\u001b[0;34m,\u001b[0m \u001b[0mmsg\u001b[0m\u001b[0;34m,\u001b[0m \u001b[0mhdrs\u001b[0m\u001b[0;34m,\u001b[0m \u001b[0mfp\u001b[0m\u001b[0;34m)\u001b[0m\u001b[0;34m\u001b[0m\u001b[0m\n\u001b[0m\u001b[1;32m    591\u001b[0m \u001b[0;34m\u001b[0m\u001b[0m\n\u001b[1;32m    592\u001b[0m \u001b[0;32mclass\u001b[0m \u001b[0mHTTPRedirectHandler\u001b[0m\u001b[0;34m(\u001b[0m\u001b[0mBaseHandler\u001b[0m\u001b[0;34m)\u001b[0m\u001b[0;34m:\u001b[0m\u001b[0;34m\u001b[0m\u001b[0m\n",
      "\u001b[0;31mHTTPError\u001b[0m: HTTP Error 404: Not Found"
     ]
    }
   ],
   "source": [
    "links, redirects, cats, bts = wiki_expand(seed, o1)\n",
    "len(links), len(redirects), bts"
   ]
  },
  {
   "cell_type": "code",
   "execution_count": 14,
   "metadata": {},
   "outputs": [
    {
     "data": {
      "text/plain": [
       "(1, 0, 26790)"
      ]
     },
     "execution_count": 14,
     "metadata": {},
     "output_type": "execute_result"
    }
   ],
   "source": [
    "links, redirects, cats, bts = wiki_expand(seed, o2)\n",
    "len(links), len(redirects), bts"
   ]
  },
  {
   "cell_type": "code",
   "execution_count": 21,
   "metadata": {},
   "outputs": [
    {
     "data": {
      "text/plain": [
       "[{'href': '/wiki/Case_sensitivity', 'title': 'Case sensitivity'}]"
      ]
     },
     "execution_count": 21,
     "metadata": {},
     "output_type": "execute_result"
    }
   ],
   "source": [
    "links"
   ]
  },
  {
   "cell_type": "code",
   "execution_count": 15,
   "metadata": {},
   "outputs": [],
   "source": [
    "raw = b'<!DOCTYPE html>\\n<html lang=en>\\n<meta charset=utf-8>\\n<title>Wikimedia Error</title>\\n<style>\\n* { margin: 0; padding: 0; }\\nbody { background: #fff; font: 15px/1.6 sans-serif; color: #333; }\\n.content { margin: 7% auto 0; padding: 2em 1em 1em; max-width: 640px; }\\n.footer { clear: both; margin-top: 14%; border-top: 1px solid #e5e5e5; background: #f9f9f9; padding: 2em 0; font-size: 0.8em; text-align: center; }\\nimg { float: left; margin: 0 2em 2em 0; }\\na img { border: 0; }\\nh1 { margin-top: 1em; font-size: 1.2em; }\\n.content-text { overflow: hidden; overflow-wrap: break-word; word-wrap: break-word; -webkit-hyphens: auto; -moz-hyphens: auto; -ms-hyphens: auto; hyphens: auto; }\\np { margin: 0.7em 0 1em 0; }\\na { color: #0645AD; text-decoration: none; }\\na:hover { text-decoration: underline; }\\ncode { font-family: sans-serif; }\\n.text-muted { color: #777; }\\n</style>\\n<div class=\"content\" role=\"main\">\\n<a href=\"https://www.wikimedia.org\"><img src=\"https://www.wikimedia.org/static/images/wmf-logo.png\" srcset=\"https://www.wikimedia.org/static/images/wmf-logo-2x.png 2x\" alt=\"Wikimedia\" width=\"135\" height=\"101\">\\n</a>\\n<h1>Error</h1>\\n<div class=\"content-text\"><p>Our servers are currently under maintenance or experiencing a technical problem.\\n\\nPlease <a href=\"\" title=\"Reload this page\" onclick=\"window.location.reload(false); return false\">try again</a> in a few&nbsp;minutes.</p>\\n\\n<p>See the error message at the bottom of this page for more&nbsp;information.</p>\\n</div>\\n</div>\\n<div class=\"footer\"><p>If you report this error to the Wikimedia System Administrators, please include the details below.</p><p class=\"text-muted\"><code>Request from 2607:4000:200:15:f1c4:ef5:99e9:4ab8 via cp4032 frontend, Varnish XID 123219745<br>Upstream caches: cp4032 int<br>Error: 429, Too Many Requests at Sat, 22 Dec 2018 04:27:03 GMT</code></p>\\n</div>\\n</html>\\n'.decode()"
   ]
  },
  {
   "cell_type": "code",
   "execution_count": 18,
   "metadata": {},
   "outputs": [
    {
     "data": {
      "text/plain": [
       "'<!DOCTYPE html>\\n<html lang=en>\\n<meta charset=utf-8>\\n<title>Wikimedia Error</title>\\n<style>\\n* { margin: 0; padding: 0; }\\nbody { background: #fff; font: 15px/1.6 sans-serif; color: #333; }\\n.content { margin: 7% auto 0; padding: 2em 1em 1em; max-width: 640px; }\\n.footer { clear: both; margin-top: 14%; border-top: 1px solid #e5e5e5; background: #f9f9f9; padding: 2em 0; font-size: 0.8em; text-align: center; }\\nimg { float: left; margin: 0 2em 2em 0; }\\na img { border: 0; }\\nh1 { margin-top: 1em; font-size: 1.2em; }\\n.content-text { overflow: hidden; overflow-wrap: break-word; word-wrap: break-word; -webkit-hyphens: auto; -moz-hyphens: auto; -ms-hyphens: auto; hyphens: auto; }\\np { margin: 0.7em 0 1em 0; }\\na { color: #0645AD; text-decoration: none; }\\na:hover { text-decoration: underline; }\\ncode { font-family: sans-serif; }\\n.text-muted { color: #777; }\\n</style>\\n<div class=\"content\" role=\"main\">\\n<a href=\"https://www.wikimedia.org\"><img src=\"https://www.wikimedia.org/static/images/wmf-logo.png\" srcset=\"https://www.wikimedia.org/static/images/wmf-logo-2x.png 2x\" alt=\"Wikimedia\" width=\"135\" height=\"101\">\\n</a>\\n<h1>Error</h1>\\n<div class=\"content-text\"><p>Our servers are currently under maintenance or experiencing a technical problem.\\n\\nPlease <a href=\"\" title=\"Reload this page\" onclick=\"window.location.reload(false); return false\">try again</a> in a few&nbsp;minutes.</p>\\n\\n<p>See the error message at the bottom of this page for more&nbsp;information.</p>\\n</div>\\n</div>\\n<div class=\"footer\"><p>If you report this error to the Wikimedia System Administrators, please include the details below.</p><p class=\"text-muted\"><code>Request from 2607:4000:200:15:f1c4:ef5:99e9:4ab8 via cp4032 frontend, Varnish XID 123219745<br>Upstream caches: cp4032 int<br>Error: 429, Too Many Requests at Sat, 22 Dec 2018 04:27:03 GMT</code></p>\\n</div>\\n</html>\\n'"
      ]
     },
     "execution_count": 18,
     "metadata": {},
     "output_type": "execute_result"
    }
   ],
   "source": [
    "raw"
   ]
  },
  {
   "cell_type": "code",
   "execution_count": null,
   "metadata": {},
   "outputs": [],
   "source": []
  },
  {
   "cell_type": "code",
   "execution_count": 1,
   "metadata": {},
   "outputs": [],
   "source": [
    "import urllib\n",
    "import urllib.request"
   ]
  },
  {
   "cell_type": "code",
   "execution_count": 2,
   "metadata": {},
   "outputs": [
    {
     "data": {
      "text/plain": [
       "urllib.error.URLError"
      ]
     },
     "execution_count": 2,
     "metadata": {},
     "output_type": "execute_result"
    }
   ],
   "source": [
    "urllib.error.URLError"
   ]
  },
  {
   "cell_type": "code",
   "execution_count": 5,
   "metadata": {},
   "outputs": [],
   "source": [
    "url = \"https://en.wikipedia.org/wiki/%C5%BDemai%C4%8Di%C5%B3_Naumiestis\""
   ]
  },
  {
   "cell_type": "code",
   "execution_count": 4,
   "metadata": {},
   "outputs": [
    {
     "name": "stderr",
     "output_type": "stream",
     "text": [
      "/home/fleeb/anaconda3/lib/python3.5/site-packages/ipykernel_launcher.py:1: DeprecationWarning: FancyURLopener style of invoking requests is deprecated. Use newer urlopen functions/methods\n",
      "  \"\"\"Entry point for launching an IPython kernel.\n"
     ]
    },
    {
     "data": {
      "text/plain": [
       "77194"
      ]
     },
     "execution_count": 4,
     "metadata": {},
     "output_type": "execute_result"
    }
   ],
   "source": [
    "opener = urllib.request.FancyURLopener({})\n",
    "\n",
    "f = opener.open(url)\n",
    "content = f.read()\n",
    "len(content)"
   ]
  },
  {
   "cell_type": "code",
   "execution_count": null,
   "metadata": {},
   "outputs": [],
   "source": []
  },
  {
   "cell_type": "code",
   "execution_count": 6,
   "metadata": {},
   "outputs": [
    {
     "data": {
      "text/plain": [
       "76687"
      ]
     },
     "execution_count": 6,
     "metadata": {},
     "output_type": "execute_result"
    }
   ],
   "source": [
    "r = requests.get(url, auth=('user', 'pass'))\n",
    "content = r.text\n",
    "len(content)"
   ]
  },
  {
   "cell_type": "code",
   "execution_count": null,
   "metadata": {},
   "outputs": [],
   "source": []
  },
  {
   "cell_type": "code",
   "execution_count": null,
   "metadata": {},
   "outputs": [],
   "source": []
  },
  {
   "cell_type": "code",
   "execution_count": 5,
   "metadata": {},
   "outputs": [],
   "source": [
    "titles_path = '/home/fleeb/workspace/ml_datasets/wiki/enwiki-latest-all-titles-in-ns0'\n",
    "titles = []\n",
    "with open(titles_path, 'r') as f:\n",
    "    titles = f.readlines()\n",
    "print(len(titles))"
   ]
  },
  {
   "cell_type": "code",
   "execution_count": 2,
   "metadata": {},
   "outputs": [],
   "source": [
    "url_root = 'https://en.wikipedia.org/wiki/'"
   ]
  },
  {
   "cell_type": "code",
   "execution_count": 9,
   "metadata": {},
   "outputs": [],
   "source": [
    "class WikiParser(HTMLParser):\n",
    "    def __init__(self):\n",
    "        super(WikiParser, self).__init__()\n",
    "        \n",
    "        self.tab_count = 0\n",
    "        \n",
    "        self.links = []\n",
    "    \n",
    "    def handle_starttag(self, tag, attrs):\n",
    "        \n",
    "        if tag == 'a':\n",
    "            info = dict(attrs)\n",
    "            #if 'class' not in info or info['class'] !=\n",
    "            self.links.append(info)\n",
    "            self.printer('***T: {} {}'.format(tag, str(info)))\n",
    "        else:\n",
    "            self.printer('T: {}'.format(tag))\n",
    "        self.tab_count += 1\n",
    "    \n",
    "    def handle_endtag(self, tag):\n",
    "        self.printer('E: {}'.format(tag))\n",
    "        self.tab_count -= 1\n",
    "    \n",
    "    def handle_data(self, data):\n",
    "        self.printer(data)\n",
    "    \n",
    "    def printer(self, s):\n",
    "        #print('{}{}'.format('  '*self.tab_count,s))\n",
    "        pass"
   ]
  },
  {
   "cell_type": "code",
   "execution_count": 16,
   "metadata": {},
   "outputs": [
    {
     "name": "stderr",
     "output_type": "stream",
     "text": [
      "/home/fleeb/anaconda3/lib/python3.5/site-packages/ipykernel_launcher.py:1: DeprecationWarning: FancyURLopener style of invoking requests is deprecated. Use newer urlopen functions/methods\n",
      "  \"\"\"Entry point for launching an IPython kernel.\n"
     ]
    },
    {
     "data": {
      "text/plain": [
       "77200"
      ]
     },
     "execution_count": 16,
     "metadata": {},
     "output_type": "execute_result"
    }
   ],
   "source": [
    "opener = urllib.request.FancyURLopener({})\n",
    "url = \"https://en.wikipedia.org/wiki/%C5%BDemai%C4%8Di%C5%B3_Naumiestis\"\n",
    "f = opener.open(url)\n",
    "content = f.read()\n",
    "len(content)"
   ]
  },
  {
   "cell_type": "code",
   "execution_count": 12,
   "metadata": {},
   "outputs": [
    {
     "data": {
      "text/plain": [
       "'Žemaičių_Naumiestis'"
      ]
     },
     "execution_count": 12,
     "metadata": {},
     "output_type": "execute_result"
    }
   ],
   "source": [
    "urllib.parse.unquote('%C5%BDemai%C4%8Di%C5%B3_Naumiestis') # and quote"
   ]
  },
  {
   "cell_type": "code",
   "execution_count": 10,
   "metadata": {},
   "outputs": [],
   "source": [
    "parser = WikiParser()"
   ]
  },
  {
   "cell_type": "code",
   "execution_count": 11,
   "metadata": {
    "scrolled": true
   },
   "outputs": [],
   "source": [
    "parser.feed(str(content))"
   ]
  },
  {
   "cell_type": "code",
   "execution_count": 12,
   "metadata": {},
   "outputs": [
    {
     "data": {
      "text/plain": [
       "272"
      ]
     },
     "execution_count": 12,
     "metadata": {},
     "output_type": "execute_result"
    }
   ],
   "source": [
    "links = parser.links\n",
    "len(links)"
   ]
  },
  {
   "cell_type": "code",
   "execution_count": 46,
   "metadata": {},
   "outputs": [],
   "source": [
    "classes = set()\n",
    "attrs = set()\n",
    "\n",
    "for link in links:\n",
    "    attrs.update(link.keys())\n",
    "    if 'class' in link:\n",
    "        classes.add(link['class'])"
   ]
  },
  {
   "cell_type": "code",
   "execution_count": 47,
   "metadata": {},
   "outputs": [
    {
     "data": {
      "text/plain": [
       "{'external autonumber',\n",
       " 'external text',\n",
       " 'extiw',\n",
       " 'image',\n",
       " 'interlanguage-link-target',\n",
       " 'internal',\n",
       " 'mw-jump-link',\n",
       " 'mw-redirect',\n",
       " 'mw-selflink selflink',\n",
       " 'mw-wiki-logo',\n",
       " 'new',\n",
       " 'noprint stopMobileRedirectToggle',\n",
       " 'wbc-editpage'}"
      ]
     },
     "execution_count": 47,
     "metadata": {},
     "output_type": "execute_result"
    }
   ],
   "source": [
    "classes"
   ]
  },
  {
   "cell_type": "code",
   "execution_count": 69,
   "metadata": {},
   "outputs": [
    {
     "name": "stdout",
     "output_type": "stream",
     "text": [
      "{'class': 'wbc-editpage', 'href': 'https://www.wikidata.org/wiki/Special:EntityPage/Q393828#sitelinks-wikipedia', 'title': 'Edit interlanguage links'}\n"
     ]
    }
   ],
   "source": [
    "for link in links:\n",
    "    if 'class' in link and link['class'] == 'wbc-editpage':\n",
    "        print(link)"
   ]
  },
  {
   "cell_type": "code",
   "execution_count": 48,
   "metadata": {},
   "outputs": [
    {
     "data": {
      "text/plain": [
       "{'accesskey',\n",
       " 'class',\n",
       " 'dir',\n",
       " 'href',\n",
       " 'hreflang',\n",
       " 'id',\n",
       " 'lang',\n",
       " 'rel',\n",
       " 'style',\n",
       " 'title'}"
      ]
     },
     "execution_count": 48,
     "metadata": {},
     "output_type": "execute_result"
    }
   ],
   "source": [
    "attrs"
   ]
  },
  {
   "cell_type": "code",
   "execution_count": 89,
   "metadata": {},
   "outputs": [
    {
     "name": "stdout",
     "output_type": "stream",
     "text": [
      "** {'id': 'top'}\n",
      "This article is semi-protected. : /wiki/Wikipedia:Protection_policy#semi\n",
      "Star-Spangled Banner (flag) : /wiki/Star-Spangled_Banner_(flag)\n",
      "Flag of the United States : /wiki/Flag_of_the_United_States\n",
      "Die Stem van Suid-Afrika : /wiki/Die_Stem_van_Suid-Afrika\n",
      "United States : /wiki/United_States\n",
      "Francis Scott Key : /wiki/Francis_Scott_Key\n",
      "John Stafford Smith : /wiki/John_Stafford_Smith\n",
      "** {'href': '#cite_note-adopted-1'}\n",
      "File:The Star-Spangled Banner - U.S. Army 1st Armored Division Band.ogg : /wiki/File:The_Star-Spangled_Banner_-_U.S._Army_1st_Armored_Division_Band.ogg\n",
      "Template:Infobox anthem : /wiki/Template:Infobox_anthem\n",
      "Template talk:Infobox anthem : /wiki/Template_talk:Infobox_anthem\n",
      "National anthem : /wiki/National_anthem\n",
      "United States : /wiki/United_States\n",
      "** {'href': '#cite_note-2'}\n",
      "Francis Scott Key : /wiki/Francis_Scott_Key\n",
      "Fort McHenry : /wiki/Fort_McHenry\n",
      "Royal Navy : /wiki/Royal_Navy\n",
      "Battle of Baltimore : /wiki/Battle_of_Baltimore\n",
      "War of 1812 : /wiki/War_of_1812\n",
      "Star-Spangled Banner (flag) : /wiki/Star-Spangled_Banner_(flag)\n",
      "John Stafford Smith : /wiki/John_Stafford_Smith\n",
      "Anacreontic Society : /wiki/Anacreontic_Society\n",
      "To Anacreon in Heaven : /wiki/To_Anacreon_in_Heaven\n",
      "Range (music) : /wiki/Range_(music)\n",
      "Stanza : /wiki/Stanza\n",
      "United States Navy : /wiki/United_States_Navy\n",
      "Woodrow Wilson : /wiki/Woodrow_Wilson\n",
      "United States Congress : /wiki/United_States_Congress\n",
      "Resolution (law) : /wiki/Resolution_(law)\n",
      "Title 36 of the United States Code : /wiki/Title_36_of_the_United_States_Code\n",
      "Herbert Hoover : /wiki/Herbert_Hoover\n",
      "Hail, Columbia : /wiki/Hail,_Columbia\n",
      "My Country, 'Tis of Thee : /wiki/My_Country,_%27Tis_of_Thee\n",
      "God Save the Queen : /wiki/God_Save_the_Queen\n",
      "** {'href': '#cite_note-3'}\n",
      "** {'href': '#cite_note-4'}\n",
      "America the Beautiful : /wiki/America_the_Beautiful\n",
      "** {'href': '#cite_note-5'}\n",
      "** {'href': '#Early_history'}\n",
      "** {'href': \"#Francis_Scott_Key's_lyrics\"}\n",
      "** {'href': \"#John_Stafford_Smith's_music\"}\n",
      "** {'href': '#National_anthem'}\n",
      "** {'href': '#Modern_history'}\n",
      "** {'href': '#Performances'}\n",
      "** {'href': '#200th_anniversary_celebrations'}\n",
      "** {'href': '#Adaptations'}\n",
      "** {'href': '#Lyrics'}\n",
      "** {'href': '#Additional_Civil_War_period_lyrics'}\n",
      "** {'href': '#Alternative_lyrics'}\n",
      "** {'href': '#References_in_film,_television,_literature'}\n",
      "** {'href': '#Customs_and_federal_law'}\n",
      "** {'href': '#Protests'}\n",
      "** {'href': '#1968_Olympics_Black_Power_salute'}\n",
      "** {'href': '#2016_protests'}\n",
      "** {'href': '#NAACP_call_to_remove_the_national_anthem'}\n",
      "** {'href': '#Translations'}\n",
      "** {'href': '#Media'}\n",
      "** {'href': '#See_also'}\n",
      "** {'href': '#References'}\n",
      "** {'href': '#Further_reading'}\n",
      "** {'href': '#External_links'}\n",
      "** {'href': '#Historical_audio'}\n",
      "Francis Scott Key : /wiki/Francis_Scott_Key\n",
      "Maryland Historical Society : /wiki/Maryland_Historical_Society\n",
      "Burning of Washington : /wiki/Burning_of_Washington\n",
      "Raid on Alexandria : /wiki/Raid_on_Alexandria\n",
      "John Stuart Skinner : /wiki/John_Stuart_Skinner\n",
      "Baltimore : /wiki/Baltimore\n",
      "White flag : /wiki/White_flag\n",
      "James Madison : /wiki/James_Madison\n",
      "William Beanes : /wiki/William_Beanes\n",
      "Upper Marlboro, Maryland : /wiki/Upper_Marlboro,_Maryland\n",
      "Flagship : /wiki/Flagship\n",
      "HMS Tonnant : /wiki/HMS_Tonnant\n",
      "Alexander Cochrane : /wiki/Alexander_Cochrane\n",
      "Battle of Baltimore : /wiki/Battle_of_Baltimore\n",
      "HMS Surprise (1812) : /wiki/HMS_Surprise_(1812)\n",
      "Fort McHenry : /wiki/Fort_McHenry\n",
      "Congreve rocket : /wiki/Congreve_rocket\n",
      "** {'href': '#cite_note-6'}\n",
      "HMS Terror (1813) : /wiki/HMS_Terror_(1813)\n",
      "HMS Starr (1805) : /wiki/HMS_Starr_(1805)\n",
      "Star-Spangled Banner (flag) : /wiki/Star-Spangled_Banner_(flag)\n",
      "Flag of the United States : /wiki/Flag_of_the_United_States\n",
      "Star-Spangled Banner (flag) : /wiki/Star-Spangled_Banner_(flag)\n",
      "National Museum of American History : /wiki/National_Museum_of_American_History\n",
      "Smithsonian Institution : /wiki/Smithsonian_Institution\n",
      "Amelia Fowler : /wiki/Amelia_Fowler\n",
      "Analectic Magazine : /wiki/Analectic_Magazine\n",
      "** {'href': '#cite_note-7'}\n",
      "** {'href': '#cite_note-8'}\n",
      "** {'href': '#cite_note-9'}\n",
      "Stephen Decatur : /wiki/Stephen_Decatur\n",
      "Charles Stewart (1778\\xe2\\x80\\x931869) : /wiki/Charles_Stewart_(1778%E2%80%931869)\n",
      "First Barbary War : /wiki/First_Barbary_War\n",
      "Robin Blackburn : /wiki/Robin_Blackburn\n",
      "** {'href': '#cite_note-10'}\n",
      "Musicology : /wiki/Musicology\n",
      "University of Michigan : /wiki/University_of_Michigan\n",
      "** {'href': '#cite_note-Clague-11'}\n",
      "** {'href': '#cite_note-Clague-11'}\n",
      "Sheet music : /wiki/Sheet_music\n",
      "** {'href': '#cite_note-Clague-11'}\n",
      "The Intercept : /wiki/The_Intercept\n",
      "** {'href': '#cite_note-12'}\n",
      "** {'href': '#cite_note-13'}\n",
      "Impressment : /wiki/Impressment\n",
      "** {'href': '#cite_note-14'}\n",
      "About this sound : /wiki/File:2_Star_Spangled_Banner.mid\n",
      "File:2 Star Spangled Banner.mid : /wiki/File:2_Star_Spangled_Banner.mid\n",
      "John Stafford Smith : /wiki/John_Stafford_Smith\n",
      "Gloucester Cathedral : /wiki/Gloucester_Cathedral\n",
      "Gloucester : /wiki/Gloucester\n",
      "John Stafford Smith : /wiki/John_Stafford_Smith\n",
      "Anacreontic Society : /wiki/Anacreontic_Society\n",
      "** {'href': '#cite_note-15'}\n",
      "Ferdinand Durang : /wiki/Ferdinand_Durang\n",
      "Tavern : /wiki/Tavern\n",
      "Washington Irving : /wiki/Washington_Irving\n",
      "Analectic Magazine : /wiki/Analectic_Magazine\n",
      "Walter Damrosch : /wiki/Walter_Damrosch\n",
      "Will Earhart : /wiki/Will_Earhart\n",
      "Oscar Sonneck : /wiki/Oscar_Sonneck\n",
      "John Philip Sousa : /wiki/John_Philip_Sousa\n",
      "Carnegie Hall : /wiki/Carnegie_Hall\n",
      "Edward Elgar : /wiki/Edward_Elgar\n",
      "Gabriel Piern\\xc3\\xa9 : /wiki/Gabriel_Piern%C3%A9\n",
      "Oratorio Society of New York : /wiki/Oratorio_Society_of_New_York\n",
      "** {'href': '#cite_note-16'}\n",
      "** {'href': '#cite_note-17'}\n",
      "Commemorative plaque : /wiki/Commemorative_plaque\n",
      "Independence Day (United States) : /wiki/Independence_Day_(United_States)\n",
      "** {'href': '#cite_note-18'}\n",
      "** {'href': '#cite_note-gdn-19'}\n",
      "Woodrow Wilson : /wiki/Woodrow_Wilson\n",
      "** {'href': '#cite_note-gdn-19'}\n",
      "Seventh-inning stretch : /wiki/Seventh-inning_stretch\n",
      "1918 World Series : /wiki/1918_World_Series\n",
      "** {'href': '#cite_note-20'}\n",
      "Philadelphia : /wiki/Philadelphia\n",
      "Polo Grounds : /wiki/Polo_Grounds\n",
      "World War II : /wiki/World_War_II\n",
      "** {'href': '#cite_note-21'}\n",
      "John Charles Linthicum : /wiki/John_Charles_Linthicum\n",
      "** {'href': '#cite_note-linthicum-22'}\n",
      "** {'href': '#cite_note-linthicum-22'}\n",
      "** {'href': '#cite_note-linthicum-22'}\n",
      "Robert Ripley : /wiki/Robert_Ripley\n",
      "** {'href': '#cite_note-23'}\n",
      "Veterans of Foreign Wars : /wiki/Veterans_of_Foreign_Wars\n",
      "** {'href': '#cite_note-vfw-24'}\n",
      "** {'href': '#cite_note-vfw-24'}\n",
      "United States House Committee on the Judiciary : /wiki/United_States_House_Committee_on_the_Judiciary\n",
      "** {'href': '#cite_note-25'}\n",
      "** {'href': '#cite_note-26'}\n",
      "** {'href': '#cite_note-27'}\n",
      "United States House of Representatives : /wiki/United_States_House_of_Representatives\n",
      "** {'href': '#cite_note-voted-28'}\n",
      "United States Senate : /wiki/United_States_Senate\n",
      "** {'href': '#cite_note-voted-28'}\n",
      "Herbert Hoover : /wiki/Herbert_Hoover\n",
      "** {'href': '#cite_note-adopted-1'}\n",
      "United States Code : /wiki/United_States_Code\n",
      "** {'href': '#cite_note-29'}\n",
      "Performances and adaptations of The Star-Spangled Banner : /wiki/Performances_and_adaptations_of_The_Star-Spangled_Banner\n",
      "Wikipedia:What Wikipedia is not : /wiki/Wikipedia:What_Wikipedia_is_not#Wikipedia_is_not_an_indiscriminate_collection_of_information\n",
      "Wikipedia:Example cruft : /wiki/Wikipedia:Example_cruft\n",
      "Wikipedia:Writing better articles : /wiki/Wikipedia:Writing_better_articles\n",
      "Coors Field : /wiki/Coors_Field\n",
      "Interval (music) : /wiki/Interval_(music)\n",
      "Sic : /wiki/Sic\n",
      "Wikipedia:Citation needed : /wiki/Wikipedia:Citation_needed\n",
      "Fenway Park : /wiki/Fenway_Park\n",
      "** {'href': '#cite_note-30'}\n",
      "Elmer Layden : /wiki/Elmer_Layden\n",
      "** {'href': '#cite_note-31'}\n",
      "National Hockey League : /wiki/National_Hockey_League\n",
      "Major League Soccer : /wiki/Major_League_Soccer\n",
      "O Canada : /wiki/O_Canada\n",
      "** {'href': '#cite_note-NHL-Anthems-32'}\n",
      "Major League Baseball : /wiki/Major_League_Baseball\n",
      "National Basketball Association : /wiki/National_Basketball_Association\n",
      "Toronto Blue Jays : /wiki/Toronto_Blue_Jays\n",
      "Toronto Raptors : /wiki/Toronto_Raptors\n",
      "Buffalo Sabres : /wiki/Buffalo_Sabres\n",
      "Canada\\xe2\\x80\\x93United States border : /wiki/Canada%E2%80%93United_States_border\n",
      "** {'href': '#cite_note-33'}\n",
      "September 11 attacks : /wiki/September_11_attacks\n",
      "Elizabeth II : /wiki/Elizabeth_II\n",
      "Band of the Coldstream Guards : /wiki/Band_of_the_Coldstream_Guards\n",
      "Buckingham Palace : /wiki/Buckingham_Palace\n",
      "** {'href': '#cite_note-34'}\n",
      "** {'href': '#cite_note-35'}\n",
      "Defenders Day : /wiki/Defenders_Day\n",
      "** {'href': '#cite_note-36'}\n",
      "** {'href': '#cite_note-37'}\n",
      "The Star Spangled Banner (Whitney Houston recording) : /wiki/The_Star_Spangled_Banner_(Whitney_Houston_recording)\n",
      "United States Army Air Forces : /wiki/United_States_Army_Air_Forces\n",
      "Popular music : /wiki/Popular_music\n",
      "Puerto Rico : /wiki/Puerto_Rico\n",
      "Jos\\xc3\\xa9 Feliciano : /wiki/Jos%C3%A9_Feliciano\n",
      "Blues : /wiki/Blues\n",
      "** {'href': '#cite_note-pc52-38'}\n",
      "Tiger Stadium (Detroit) : /wiki/Tiger_Stadium_(Detroit)\n",
      "1968 World Series : /wiki/1968_World_Series\n",
      "Detroit Tigers : /wiki/Detroit_Tigers\n",
      "St. Louis Cardinals : /wiki/St._Louis_Cardinals\n",
      "** {'href': '#cite_note-39'}\n",
      "Vietnam War : /wiki/Vietnam_War\n",
      "** {'href': '#cite_note-40'}\n",
      "Tommie Smith : /wiki/Tommie_Smith\n",
      "John Carlos : /wiki/John_Carlos\n",
      "1968 Olympics Black Power salute : /wiki/1968_Olympics_Black_Power_salute\n",
      "Marvin Gaye : /wiki/Marvin_Gaye\n",
      "Soul music : /wiki/Soul_music\n",
      "1983 NBA All-Star Game : /wiki/1983_NBA_All-Star_Game\n",
      "Whitney Houston : /wiki/Whitney_Houston\n",
      "Super Bowl XXV : /wiki/Super_Bowl_XXV\n",
      "Jos\\xc3\\xa9 Feliciano : /wiki/Jos%C3%A9_Feliciano\n",
      "Billboard Hot 100 : /wiki/Billboard_Hot_100\n",
      "Jimi Hendrix : /wiki/Jimi_Hendrix\n",
      "Woodstock : /wiki/Woodstock\n",
      "Reverberation : /wiki/Reverberation\n",
      "Roseanne Barr : /wiki/Roseanne_Barr\n",
      "San Diego Padres : /wiki/San_Diego_Padres\n",
      "George H. W. Bush : /wiki/George_H._W._Bush\n",
      "** {'href': '#cite_note-41'}\n",
      "Sufjan Stevens : /wiki/Sufjan_Stevens\n",
      "David Lee Roth : /wiki/David_Lee_Roth\n",
      "Yankee Rose (song) : /wiki/Yankee_Rose_(song)\n",
      "Eat 'Em and Smile : /wiki/Eat_%27Em_and_Smile\n",
      "Steven Tyler : /wiki/Steven_Tyler\n",
      "Indianapolis 500 : /wiki/Indianapolis_500\n",
      "AFC Championship Game : /wiki/AFC_Championship_Game\n",
      "A cappella : /wiki/A_cappella\n",
      "** {'href': '#cite_note-42'}\n",
      "Aretha Franklin : /wiki/Aretha_Franklin\n",
      "Lions\\xe2\\x80\\x93Vikings rivalry : /wiki/Lions%E2%80%93Vikings_rivalry\n",
      "** {'href': '#cite_note-43'}\n",
      "Fergie (singer) : /wiki/Fergie_(singer)\n",
      "Marilyn Monroe : /wiki/Marilyn_Monroe\n",
      "Happy Birthday, Mr. President : /wiki/Happy_Birthday,_Mr._President\n",
      "** {'href': '#cite_note-44'}\n",
      "Aerosmith : /wiki/Aerosmith\n",
      "Joe Perry (musician) : /wiki/Joe_Perry_(musician)\n",
      "Brad Whitford : /wiki/Brad_Whitford\n",
      "Train Kept A-Rollin' : /wiki/Train_Kept_A-Rollin%27\n",
      "Rockin' the Joint : /wiki/Rockin%27_the_Joint\n",
      "Boston (band) : /wiki/Boston_(band)\n",
      "Greatest Hits (Boston album) : /wiki/Greatest_Hits_(Boston_album)\n",
      "National Anthem Project : /wiki/National_Anthem_Project\n",
      "Harris Insights & Analytics : /wiki/Harris_Insights_%26_Analytics\n",
      "** {'href': '#cite_note-45'}\n",
      "** {'href': '#cite_note-46'}\n",
      "American Civil War : /wiki/American_Civil_War\n",
      "** {'href': '#cite_note-47'}\n",
      "** {'href': '#cite_note-48'}\n",
      "** {'href': '#cite_note-49'}\n",
      "Liberty Weekend : /wiki/Liberty_Weekend\n",
      "Sandi Patty : /wiki/Sandi_Patty\n",
      "** {'href': '#cite_note-50'}\n",
      "** {'href': '#cite_note-51'}\n",
      "** {'href': '#cite_note-52'}\n",
      "By Dawn's Early Light : /wiki/By_Dawn%27s_Early_Light\n",
      "** {'href': '#cite_note-53'}\n",
      "** {'href': '#cite_note-54'}\n",
      "So Proudly We Hail! : /wiki/So_Proudly_We_Hail!\n",
      "** {'href': '#cite_note-55'}\n",
      "** {'href': '#cite_note-56'}\n",
      "Twilight's Last Gleaming : /wiki/Twilight%27s_Last_Gleaming\n",
      "** {'href': '#cite_note-57'}\n",
      "Short film : /wiki/Short_film\n",
      "** {'href': '#cite_note-58'}\n",
      "Home of the Brave (1949 film) : /wiki/Home_of_the_Brave_(1949_film)\n",
      "** {'href': '#cite_note-59'}\n",
      "Home of the Brave (1986 film) : /wiki/Home_of_the_Brave_(1986_film)\n",
      "** {'href': '#cite_note-60'}\n",
      "Home of the Brave (2004 film) : /wiki/Home_of_the_Brave_(2004_film)\n",
      "** {'href': '#cite_note-61'}\n",
      "Home of the Brave (2006 film) : /wiki/Home_of_the_Brave_(2006_film)\n",
      "** {'href': '#cite_note-62'}\n",
      "** {'href': '#cite_note-63'}\n",
      "** {'href': '#cite_note-64'}\n",
      "** {'href': '#cite_note-65'}\n",
      "** {'href': '#cite_note-66'}\n",
      "Title 36 of the United States Code : /wiki/Title_36_of_the_United_States_Code\n",
      "** {'href': '#cite_note-67'}\n",
      "** {'href': '#cite_note-68'}\n",
      "Title 36 of the United States Code : /wiki/Title_36_of_the_United_States_Code\n",
      "First Amendment to the United States Constitution : /wiki/First_Amendment_to_the_United_States_Constitution\n",
      "** {'href': '#cite_note-69'}\n",
      "Jehovah's Witnesses : /wiki/Jehovah%27s_Witnesses\n",
      "** {'href': '#cite_note-70'}\n",
      "** {'href': '#cite_note-71'}\n",
      "** {'href': '#cite_note-72'}\n",
      "U.S. national anthem protests : /wiki/U.S._national_anthem_protests\n",
      "1968 Olympics Black Power salute : /wiki/1968_Olympics_Black_Power_salute\n",
      "Tommie Smith : /wiki/Tommie_Smith\n",
      "John Carlos : /wiki/John_Carlos\n",
      "1968 Summer Olympics : /wiki/1968_Summer_Olympics\n",
      "Estadio Ol\\xc3\\xadmpico Universitario : /wiki/Estadio_Ol%C3%ADmpico_Universitario\n",
      "Mexico City : /wiki/Mexico_City\n",
      "200 metres at the Olympics : /wiki/200_metres_at_the_Olympics\n",
      "Raised fist : /wiki/Raised_fist\n",
      "Peter Norman : /wiki/Peter_Norman\n",
      "Black Power : /wiki/Black_Power\n",
      "Olympic Games : /wiki/Olympic_Games\n",
      "** {'href': '#cite_note-73'}\n",
      "U.S. national anthem protests (2016\\xe2\\x80\\x93present) : /wiki/U.S._national_anthem_protests_(2016%E2%80%93present)\n",
      "National Football League : /wiki/National_Football_League\n",
      "San Francisco 49ers : /wiki/San_Francisco_49ers\n",
      "Quarterback : /wiki/Quarterback\n",
      "Colin Kaepernick : /wiki/Colin_Kaepernick\n",
      "2016 NFL season : /wiki/2016_NFL_season\n",
      "** {'href': '#cite_note-SB-74'}\n",
      "NAACP : /wiki/NAACP\n",
      "** {'href': '#cite_note-75'}\n",
      "** {'href': '#slave'}\n",
      "** {'href': '#cite_note-76'}\n",
      "** {'href': '#cite_note-77'}\n",
      "Hebrew language : /wiki/Hebrew_language\n",
      "** {'href': '#cite_note-78'}\n",
      "** {'href': '#cite_note-79'}\n",
      "Nuestro Himno : /wiki/Nuestro_Himno\n",
      "2006 United States immigration reform protests : /wiki/2006_United_States_immigration_reform_protests\n",
      "** {'href': '#cite_note-80'}\n",
      "** {'href': '#cite_note-81'}\n",
      "Samoan language : /wiki/Samoan_language\n",
      "** {'href': '#cite_note-82'}\n",
      "** {'href': '#cite_note-83'}\n",
      "Latin : /wiki/Latin\n",
      "** {'href': '#cite_note-84'}\n",
      "** {'href': '#cite_note-85'}\n",
      "** {'href': '#cite_note-86'}\n",
      "** {'href': '#cite_note-87'}\n",
      "** {'href': '#cite_note-88'}\n",
      "File:MargaretWoodrowWilson-TheStarSpangledBanner.ogg : /wiki/File:MargaretWoodrowWilson-TheStarSpangledBanner.ogg\n",
      "Margaret Woodrow Wilson : /wiki/Margaret_Woodrow_Wilson\n",
      "Woodrow Wilson : /wiki/Woodrow_Wilson\n",
      "File:Star-spangled banner.ogg : /wiki/File:Star-spangled_banner.ogg\n",
      "Fred Waring : /wiki/Fred_Waring\n",
      "File:Star-spangled banner 002.ogg : /wiki/File:Star-spangled_banner_002.ogg\n",
      "United States Marine Corps : /wiki/United_States_Marine_Corps\n",
      "File:Star Spangled Banner instrumental.ogg : /wiki/File:Star_Spangled_Banner_instrumental.ogg\n",
      "Help:Media : /wiki/Help:Media\n",
      "Play media : //upload.wikimedia.org/wikipedia/commons/e/ef/StarSpan1940.ogv\n",
      "Play media : //upload.wikimedia.org/wikipedia/commons/e/ef/Movieton1944.ogv\n",
      "Portal:Music : /wiki/Portal:Music\n",
      "Portal:United States : /wiki/Portal:United_States\n",
      "In God We Trust : /wiki/In_God_We_Trust\n",
      "Sign-on and sign-off : /wiki/Sign-on_and_sign-off\n",
      "** {'href': '#cite_ref-adopted_1-0'}\n",
      "** {'href': '#cite_ref-adopted_1-1'}\n",
      "The Washington Post : /wiki/The_Washington_Post\n",
      "** {'href': '#cite_ref-2'}\n",
      "** {'href': '#cite_ref-3'}\n",
      "** {'href': '#cite_ref-4'}\n",
      "Louis Leo Snyder : /wiki/Louis_Leo_Snyder\n",
      "International Standard Book Number : /wiki/International_Standard_Book_Number\n",
      "Special:BookSources/1-55778-167-2 : /wiki/Special:BookSources/1-55778-167-2\n",
      "** {'href': '#cite_ref-5'}\n",
      "** {'href': '#cite_ref-6'}\n",
      "Wayback Machine : /wiki/Wayback_Machine\n",
      "** {'href': '#cite_ref-7'}\n",
      "** {'href': '#cite_ref-8'}\n",
      "** {'href': '#cite_ref-9'}\n",
      "** {'href': '#cite_ref-10'}\n",
      "** {'href': '#cite_ref-Clague_11-0'}\n",
      "** {'href': '#cite_ref-Clague_11-1'}\n",
      "** {'href': '#cite_ref-Clague_11-2'}\n",
      "** {'href': '#cite_ref-12'}\n",
      "** {'href': '#cite_ref-13'}\n",
      "The New York Times : /wiki/The_New_York_Times\n",
      "Category:CS1 maint: BOT: original-url status unknown : /wiki/Category:CS1_maint:_BOT:_original-url_status_unknown\n",
      "** {'href': '#cite_ref-14'}\n",
      "** {'href': '#cite_ref-15'}\n",
      "** {'href': '#cite_ref-16'}\n",
      "** {'href': '#cite_ref-17'}\n",
      "PBS : /wiki/PBS\n",
      "** {'href': '#cite_ref-18'}\n",
      "** {'href': '#cite_ref-gdn_19-0'}\n",
      "** {'href': '#cite_ref-gdn_19-1'}\n",
      "** {'href': '#cite_ref-20'}\n",
      "** {'href': '#cite_ref-21'}\n",
      "Category:CS1 maint: Archived copy as title : /wiki/Category:CS1_maint:_Archived_copy_as_title\n",
      "** {'href': '#cite_ref-linthicum_22-0'}\n",
      "** {'href': '#cite_ref-linthicum_22-1'}\n",
      "** {'href': '#cite_ref-linthicum_22-2'}\n",
      "** {'href': '#cite_ref-23'}\n",
      "** {'href': '#cite_ref-vfw_24-0'}\n",
      "** {'href': '#cite_ref-vfw_24-1'}\n",
      "The New York Times : /wiki/The_New_York_Times\n",
      "** {'href': '#cite_ref-25'}\n",
      "The Washington Post : /wiki/The_Washington_Post\n",
      "** {'href': '#cite_ref-26'}\n",
      "** {'href': '#cite_ref-27'}\n",
      "The New York Times : /wiki/The_New_York_Times\n",
      "** {'href': '#cite_ref-voted_28-0'}\n",
      "** {'href': '#cite_ref-voted_28-1'}\n",
      "The New York Times : /wiki/The_New_York_Times\n",
      "** {'href': '#cite_ref-29'}\n",
      "Title 36 of the United States Code : /wiki/Title_36_of_the_United_States_Code\n",
      "** {'href': '#cite_ref-30'}\n",
      "** {'href': '#cite_ref-31'}\n",
      "** {'href': '#cite_ref-NHL-Anthems_32-0'}\n",
      "USA Today : /wiki/USA_Today\n",
      "** {'href': '#cite_ref-33'}\n",
      "** {'href': '#cite_ref-34'}\n",
      "** {'href': '#cite_ref-35'}\n",
      "** {'href': '#cite_ref-36'}\n",
      "** {'href': '#cite_ref-37'}\n",
      "Wayback Machine : /wiki/Wayback_Machine\n",
      "** {'href': '#cite_ref-pc52_38-0'}\n",
      "John Gilliland : /wiki/John_Gilliland\n",
      "Pop Chronicles : /wiki/Pop_Chronicles\n",
      "University of North Texas Libraries : /wiki/University_of_North_Texas_Libraries\n",
      "** {'href': '#cite_ref-39'}\n",
      "** {'href': '#cite_ref-40'}\n",
      "Wayback Machine : /wiki/Wayback_Machine\n",
      "** {'href': '#cite_ref-41'}\n",
      "** {'href': '#cite_ref-42'}\n",
      "** {'href': '#cite_ref-43'}\n",
      "** {'href': '#cite_ref-44'}\n",
      "** {'href': '#cite_ref-45'}\n",
      "** {'href': '#cite_ref-46'}\n",
      "National Anthem Project : /wiki/National_Anthem_Project\n",
      "Wayback Machine : /wiki/Wayback_Machine\n",
      "** {'href': '#cite_ref-47'}\n",
      "** {'href': '#cite_ref-48'}\n",
      "** {'href': '#cite_ref-49'}\n",
      "** {'href': '#cite_ref-50'}\n",
      "** {'href': '#cite_ref-51'}\n",
      "IMDb : /wiki/IMDb\n",
      "** {'href': '#cite_ref-52'}\n",
      "IMDb : /wiki/IMDb\n",
      "** {'href': '#cite_ref-53'}\n",
      "IMDb : /wiki/IMDb\n",
      "** {'href': '#cite_ref-54'}\n",
      "IMDb : /wiki/IMDb\n",
      "** {'href': '#cite_ref-55'}\n",
      "IMDb : /wiki/IMDb\n",
      "** {'href': '#cite_ref-56'}\n",
      "IMDb : /wiki/IMDb\n",
      "** {'href': '#cite_ref-57'}\n",
      "IMDb : /wiki/IMDb\n",
      "** {'href': '#cite_ref-58'}\n",
      "IMDb : /wiki/IMDb\n",
      "** {'href': '#cite_ref-59'}\n",
      "IMDb : /wiki/IMDb\n",
      "** {'href': '#cite_ref-60'}\n",
      "IMDb : /wiki/IMDb\n",
      "** {'href': '#cite_ref-61'}\n",
      "IMDb : /wiki/IMDb\n",
      "** {'href': '#cite_ref-62'}\n",
      "IMDb : /wiki/IMDb\n",
      "** {'href': '#cite_ref-63'}\n",
      "** {'href': '#cite_ref-64'}\n",
      "** {'href': '#cite_ref-65'}\n",
      "** {'href': '#cite_ref-66'}\n",
      "** {'href': '#cite_ref-67'}\n",
      "** {'href': '#cite_ref-68'}\n",
      "** {'href': '#cite_ref-69'}\n",
      "** {'href': '#cite_ref-70'}\n",
      "** {'href': '#cite_ref-71'}\n",
      "Gary Botting : /wiki/Gary_Botting\n",
      "International Standard Book Number : /wiki/International_Standard_Book_Number\n",
      "Special:BookSources/978-1-895176-06-3 : /wiki/Special:BookSources/978-1-895176-06-3\n",
      "** {'href': '#cite_ref-72'}\n",
      "International Standard Book Number : /wiki/International_Standard_Book_Number\n",
      "Special:BookSources/978-0-8108-6074-2 : /wiki/Special:BookSources/978-0-8108-6074-2\n",
      "** {'href': '#cite_ref-73'}\n",
      "** {'href': '#cite_ref-SB_74-0'}\n",
      "** {'href': '#cite_ref-75'}\n",
      "** {'href': '#cite_ref-76'}\n",
      "** {'href': '#cite_ref-77'}\n",
      "** {'href': '#cite_ref-78'}\n",
      "** {'href': '#cite_ref-79'}\n",
      "McGill University : /wiki/McGill_University\n",
      "** {'href': '#cite_ref-80'}\n",
      "** {'href': '#cite_ref-81'}\n",
      "Wayback Machine : /wiki/Wayback_Machine\n",
      "** {'href': '#cite_ref-82'}\n",
      "** {'href': '#cite_ref-83'}\n",
      "** {'href': '#cite_ref-84'}\n",
      "** {'href': '#cite_ref-85'}\n",
      "** {'href': '#cite_ref-86'}\n",
      "Wikipedia:Link rot : /wiki/Wikipedia:Link_rot\n",
      "** {'href': '#cite_ref-87'}\n",
      "** {'href': '#cite_ref-88'}\n",
      "International Standard Book Number : /wiki/International_Standard_Book_Number\n",
      "Special:BookSources/9781421415185 : /wiki/Special:BookSources/9781421415185\n",
      "OCLC : /wiki/OCLC\n",
      "International Standard Book Number : /wiki/International_Standard_Book_Number\n",
      "Special:BookSources/9781137278289 : /wiki/Special:BookSources/9781137278289\n",
      "OCLC : /wiki/OCLC\n",
      "Wikisource : /wiki/Wikisource\n",
      "Template:National anthems of North America : /wiki/Template:National_anthems_of_North_America\n",
      "Template talk:National anthems of North America : /wiki/Template_talk:National_anthems_of_North_America\n",
      "National anthem : /wiki/National_anthem\n",
      "Fair Antigua, We Salute Thee : /wiki/Fair_Antigua,_We_Salute_Thee\n",
      "March On, Bahamaland : /wiki/March_On,_Bahamaland\n",
      "In Plenty and In Time of Need : /wiki/In_Plenty_and_In_Time_of_Need\n",
      "Land of the Free (anthem) : /wiki/Land_of_the_Free_(anthem)\n",
      "O Canada : /wiki/O_Canada\n",
      "Noble patria, tu hermosa bandera : /wiki/Noble_patria,_tu_hermosa_bandera\n",
      "La Bayamesa : /wiki/La_Bayamesa\n",
      "Isle of Beauty, Isle of Splendour : /wiki/Isle_of_Beauty,_Isle_of_Splendour\n",
      "National Anthem of the Dominican Republic : /wiki/National_Anthem_of_the_Dominican_Republic\n",
      "National Anthem of El Salvador : /wiki/National_Anthem_of_El_Salvador\n",
      "Hail Grenada : /wiki/Hail_Grenada\n",
      "National anthem of Guatemala : /wiki/National_anthem_of_Guatemala\n",
      "La Dessalinienne : /wiki/La_Dessalinienne\n",
      "National Anthem of Honduras : /wiki/National_Anthem_of_Honduras\n",
      "Jamaica, Land We Love : /wiki/Jamaica,_Land_We_Love\n",
      "Himno Nacional Mexicano : /wiki/Himno_Nacional_Mexicano\n",
      "Salve a ti, Nicaragua : /wiki/Salve_a_ti,_Nicaragua\n",
      "Himno Istme\\xc3\\xb1o : /wiki/Himno_Istme%C3%B1o\n",
      "O Land of Beauty! : /wiki/O_Land_of_Beauty!\n",
      "Sons and Daughters of Saint Lucia : /wiki/Sons_and_Daughters_of_Saint_Lucia\n",
      "Saint Vincent, Land So beautiful : /wiki/Saint_Vincent,_Land_So_beautiful\n",
      "Forged from the Love of Liberty : /wiki/Forged_from_the_Love_of_Liberty\n",
      "American West Indies : /wiki/American_West_Indies\n",
      "La Borinque\\xc3\\xb1a : /wiki/La_Borinque%C3%B1a\n",
      "Virgin Islands March : /wiki/Virgin_Islands_March\n",
      "British West Indies : /wiki/British_West_Indies\n",
      "God Bless Anguilla : /wiki/God_Bless_Anguilla\n",
      "Hail to Bermuda : /wiki/Hail_to_Bermuda\n",
      "Oh, Beautiful Virgin Islands : /wiki/Oh,_Beautiful_Virgin_Islands\n",
      "Beloved Isle Cayman : /wiki/Beloved_Isle_Cayman\n",
      "National Song (Montserrat) : /wiki/National_Song_(Montserrat)\n",
      "This Land of Ours : /wiki/This_Land_of_Ours\n",
      "Dutch Caribbean : /wiki/Dutch_Caribbean\n",
      "Aruba Dushi Tera : /wiki/Aruba_Dushi_Tera\n",
      "Tera di Solo y suave biento : /wiki/Tera_di_Solo_y_suave_biento\n",
      "Himno di K\\xc3\\xb2rsou : /wiki/Himno_di_K%C3%B2rsou\n",
      "Saba you rise from the ocean : /wiki/Saba_you_rise_from_the_ocean\n",
      "Sint Eustatius : /wiki/Sint_Eustatius#Local_Anthem\n",
      "O Sweet Saint Martin's Land : /wiki/O_Sweet_Saint_Martin%27s_Land\n",
      "French West Indies : /wiki/French_West_Indies\n",
      "La Marseillaise : /wiki/La_Marseillaise\n",
      "La Marseillaise : /wiki/La_Marseillaise\n",
      "La Marseillaise : /wiki/La_Marseillaise\n",
      "O Sweet Saint Martin's Land : /wiki/O_Sweet_Saint_Martin%27s_Land\n",
      "La Marseillaise : /wiki/La_Marseillaise\n",
      "Denmark : /wiki/Denmark\n",
      "Nunarput utoqqarsuanngoravit : /wiki/Nunarput_utoqqarsuanngoravit\n",
      "Template:National anthems of Oceania and the Pacific Islands : /wiki/Template:National_anthems_of_Oceania_and_the_Pacific_Islands\n",
      "Template talk:National anthems of Oceania and the Pacific Islands : /wiki/Template_talk:National_anthems_of_Oceania_and_the_Pacific_Islands\n",
      "National anthem : /wiki/National_anthem\n",
      "Advance Australia Fair : /wiki/Advance_Australia_Fair\n",
      "God Bless Fiji : /wiki/God_Bless_Fiji\n",
      "Teirake Kaini Kiribati : /wiki/Teirake_Kaini_Kiribati\n",
      "Forever Marshall Islands : /wiki/Forever_Marshall_Islands\n",
      "Patriots of Micronesia : /wiki/Patriots_of_Micronesia\n",
      "Nauru Bwiema : /wiki/Nauru_Bwiema\n",
      "God Defend New Zealand : /wiki/God_Defend_New_Zealand\n",
      "Belau rekid : /wiki/Belau_rekid\n",
      "O Arise, All You Sons : /wiki/O_Arise,_All_You_Sons\n",
      "The Banner of Freedom : /wiki/The_Banner_of_Freedom\n",
      "God Save Our Solomon Islands : /wiki/God_Save_Our_Solomon_Islands\n",
      "Ko e fasi 'o e tu'i 'o e 'Otu Tonga : /wiki/Ko_e_fasi_%27o_e_tu%27i_%27o_e_%27Otu_Tonga\n",
      "Tuvalu mo te Atua : /wiki/Tuvalu_mo_te_Atua\n",
      "Yumi, Yumi, Yumi : /wiki/Yumi,_Yumi,_Yumi\n",
      "Amerika Samoa : /wiki/Amerika_Samoa\n",
      "Te Atua Mou E : /wiki/Te_Atua_Mou_E\n",
      "National Anthem of Chile : /wiki/National_Anthem_of_Chile\n",
      "La Marseillaise : /wiki/La_Marseillaise\n",
      "Stand Ye Guamanians : /wiki/Stand_Ye_Guamanians\n",
      "Hawai\\xca\\xbbi Pono\\xca\\xbb\\xc4\\xab : /wiki/Hawai%CA%BBi_Pono%CA%BB%C4%AB\n",
      "La Marseillaise : /wiki/La_Marseillaise\n",
      "Ko e Iki he Lagi : /wiki/Ko_e_Iki_he_Lagi\n",
      "Gi Talo Gi Halom Tasi : /wiki/Gi_Talo_Gi_Halom_Tasi\n",
      "Come Ye Blessed : /wiki/Come_Ye_Blessed\n",
      "Te Atua o Tokelau : /wiki/Te_Atua_o_Tokelau\n",
      "La Marseillaise : /wiki/La_Marseillaise\n",
      "Ij Io\\xcc\\xa7kwe \\xc4\\xbbo\\xcc\\xa7k Ael\\xc5\\x8dn\\xcc\\x84 Eo A\\xc5\\x8d : /wiki/Ij_Io%CC%A7kwe_%C4%BBo%CC%A7k_Ael%C5%8Dn%CC%84_Eo_A%C5%8D\n",
      "Preamble (anthem) : /wiki/Preamble_(anthem)\n",
      "Template:War of 1812 : /wiki/Template:War_of_1812\n",
      "Template talk:War of 1812 : /wiki/Template_talk:War_of_1812\n",
      "War of 1812 : /wiki/War_of_1812\n",
      "War of 1812 Campaigns : /wiki/War_of_1812_Campaigns\n",
      "Origins of the War of 1812 : /wiki/Origins_of_the_War_of_1812\n",
      "Timeline of the War of 1812 : /wiki/Timeline_of_the_War_of_1812\n",
      "Results of the War of 1812 : /wiki/Results_of_the_War_of_1812\n",
      "Isaac Brock : /wiki/Isaac_Brock\n",
      "Andrew Jackson : /wiki/Andrew_Jackson\n",
      "Francis Scott Key : /wiki/Francis_Scott_Key\n",
      "James Madison : /wiki/James_Madison\n",
      "Laura Secord : /wiki/Laura_Secord\n",
      "Tecumseh : /wiki/Tecumseh\n",
      "Fort Shelby (Michigan) : /wiki/Fort_Shelby_(Michigan)\n",
      "Illinois Territory in the War of 1812 : /wiki/Illinois_Territory_in_the_War_of_1812\n",
      "Indiana in the War of 1812 : /wiki/Indiana_in_the_War_of_1812\n",
      "Kentucky in the War of 1812 : /wiki/Kentucky_in_the_War_of_1812\n",
      "Battle of Baltimore : /wiki/Battle_of_Baltimore\n",
      "Battle of Beaver Dams : /wiki/Battle_of_Beaver_Dams\n",
      "Battle of the Chateauguay : /wiki/Battle_of_the_Chateauguay\n",
      "Battle of Crysler's Farm : /wiki/Battle_of_Crysler%27s_Farm\n",
      "Battle of Frenchtown : /wiki/Battle_of_Frenchtown\n",
      "Battle of Lundy's Lane : /wiki/Battle_of_Lundy%27s_Lane\n",
      "Battle of New Orleans : /wiki/Battle_of_New_Orleans\n",
      "Battle of Queenston Heights : /wiki/Battle_of_Queenston_Heights\n",
      "Battle of Wild Cat Creek : /wiki/Battle_of_Wild_Cat_Creek\n",
      "Battle of the Thames : /wiki/Battle_of_the_Thames\n",
      "Burning of Washington : /wiki/Burning_of_Washington\n",
      "The Bold Canadian : /wiki/The_Bold_Canadian\n",
      "The Hunters of Kentucky : /wiki/The_Hunters_of_Kentucky\n",
      "Opposition to the War of 1812 in the United States : /wiki/Opposition_to_the_War_of_1812_in_the_United_States\n",
      "Tecumseh's War : /wiki/Tecumseh%27s_War\n",
      "Creek War : /wiki/Creek_War\n",
      "Category:War of 1812 : /wiki/Category:War_of_1812\n",
      "Portal:War of 1812 : /wiki/Portal:War_of_1812\n",
      "Template:List of official United States national symbols : /wiki/Template:List_of_official_United_States_national_symbols\n",
      "Template talk:List of official United States national symbols : /wiki/Template_talk:List_of_official_United_States_national_symbols\n",
      "National symbols of the United States : /wiki/National_symbols_of_the_United_States\n",
      "Flag of the United States : /wiki/Flag_of_the_United_States\n",
      "Great Seal of the United States : /wiki/Great_Seal_of_the_United_States\n",
      "Bald eagle : /wiki/Bald_eagle\n",
      "Uncle Sam : /wiki/Uncle_Sam\n",
      "Columbia (name) : /wiki/Columbia_(name)\n",
      "Phrygian cap : /wiki/Phrygian_cap\n",
      "General Grant (tree) : /wiki/General_Grant_(tree)\n",
      "Rose : /wiki/Rose\n",
      "Oak : /wiki/Oak\n",
      "American bison : /wiki/American_bison\n",
      "Dixie (song) : /wiki/Dixie_(song)\n",
      "America the Beautiful : /wiki/America_the_Beautiful\n",
      "The Stars and Stripes Forever : /wiki/The_Stars_and_Stripes_Forever\n",
      "Hail to the Chief : /wiki/Hail_to_the_Chief\n",
      "Hail, Columbia : /wiki/Hail,_Columbia\n",
      "My Country, 'Tis of Thee : /wiki/My_Country,_%27Tis_of_Thee\n",
      "God Bless America : /wiki/God_Bless_America\n",
      "Lift Every Voice and Sing : /wiki/Lift_Every_Voice_and_Sing\n",
      "The Army Goes Rolling Along : /wiki/The_Army_Goes_Rolling_Along\n",
      "Anchors Aweigh : /wiki/Anchors_Aweigh\n",
      "Marines' Hymn : /wiki/Marines%27_Hymn\n",
      "Semper Fidelis (march) : /wiki/Semper_Fidelis_(march)\n",
      "The U.S. Air Force (song) : /wiki/The_U.S._Air_Force_(song)\n",
      "Semper Paratus (march) : /wiki/Semper_Paratus_(march)\n",
      "National Emblem : /wiki/National_Emblem\n",
      "The Washington Post (march) : /wiki/The_Washington_Post_(march)\n",
      "Battle Hymn of the Republic : /wiki/Battle_Hymn_of_the_Republic\n",
      "Yankee Doodle : /wiki/Yankee_Doodle\n",
      "You're a Grand Old Flag : /wiki/You%27re_a_Grand_Old_Flag\n",
      "When Johnny Comes Marching Home : /wiki/When_Johnny_Comes_Marching_Home\n",
      "This Land Is Your Land : /wiki/This_Land_Is_Your_Land\n",
      "In God We Trust : /wiki/In_God_We_Trust\n",
      "E pluribus unum : /wiki/E_pluribus_unum\n",
      "Novus ordo seclorum : /wiki/Novus_ordo_seclorum\n",
      "Annuit c\\xc5\\x93ptis : /wiki/Annuit_c%C5%93ptis\n",
      "Statue of Liberty : /wiki/Statue_of_Liberty\n",
      "Liberty Bell : /wiki/Liberty_Bell\n",
      "Mount Rushmore : /wiki/Mount_Rushmore\n",
      "National Mall : /wiki/National_Mall\n",
      "West Potomac Park : /wiki/West_Potomac_Park\n",
      "Help:Authority control : /wiki/Help:Authority_control\n",
      "Edit this at Wikidata : https://www.wikidata.org/wiki/Q44696\n",
      "Integrated Authority File : /wiki/Integrated_Authority_File\n",
      "Library of Congress Control Number : /wiki/Library_of_Congress_Control_Number\n",
      "MusicBrainz : /wiki/MusicBrainz\n",
      "National Archives and Records Administration : /wiki/National_Archives_and_Records_Administration\n",
      "Virtual International Authority File : /wiki/Virtual_International_Authority_File\n",
      "** {'href': 'https://en.wikipedia.org/w/index.php?title=The_Star-Spangled_Banner&oldid=869219458', 'dir': 'ltr'}\n",
      "Help:Category : /wiki/Help:Category\n",
      "Category:1814 compositions : /wiki/Category:1814_compositions\n",
      "Category:1814 in the United States : /wiki/Category:1814_in_the_United_States\n",
      "Category:American patriotic songs : /wiki/Category:American_patriotic_songs\n",
      "Category:History of Baltimore : /wiki/Category:History_of_Baltimore\n",
      "Category:Maryland in the War of 1812 : /wiki/Category:Maryland_in_the_War_of_1812\n",
      "Category:National anthems : /wiki/Category:National_anthems\n",
      "Category:National symbols of the United States : /wiki/Category:National_symbols_of_the_United_States\n",
      "Category:Jimi Hendrix songs : /wiki/Category:Jimi_Hendrix_songs\n",
      "Category:Jos\\xc3\\xa9 Feliciano songs : /wiki/Category:Jos%C3%A9_Feliciano_songs\n",
      "Category:Marvin Gaye songs : /wiki/Category:Marvin_Gaye_songs\n",
      "Category:North American anthems : /wiki/Category:North_American_anthems\n",
      "Category:Oceanian anthems : /wiki/Category:Oceanian_anthems\n",
      "Category:1814 poems : /wiki/Category:1814_poems\n",
      "Category:The Star-Spangled Banner : /wiki/Category:The_Star-Spangled_Banner\n",
      "Category:Songs based on American history : /wiki/Category:Songs_based_on_American_history\n",
      "Category:Songs based on poems : /wiki/Category:Songs_based_on_poems\n",
      "Category:Compositions in B-flat major : /wiki/Category:Compositions_in_B-flat_major\n",
      "Category:Webarchive template wayback links : /wiki/Category:Webarchive_template_wayback_links\n",
      "Category:CS1 maint: BOT: original-url status unknown : /wiki/Category:CS1_maint:_BOT:_original-url_status_unknown\n",
      "Category:CS1 maint: Archived copy as title : /wiki/Category:CS1_maint:_Archived_copy_as_title\n",
      "Category:All articles with dead external links : /wiki/Category:All_articles_with_dead_external_links\n",
      "Category:Articles with dead external links from June 2016 : /wiki/Category:Articles_with_dead_external_links_from_June_2016\n",
      "Category:Wikipedia indefinitely semi-protected pages : /wiki/Category:Wikipedia_indefinitely_semi-protected_pages\n",
      "Category:Articles with hAudio microformats : /wiki/Category:Articles_with_hAudio_microformats\n",
      "Category:Articles with too many examples : /wiki/Category:Articles_with_too_many_examples\n",
      "Category:Wikipedia articles with style issues from November 2012 : /wiki/Category:Wikipedia_articles_with_style_issues_from_November_2012\n",
      "Category:All articles with unsourced statements : /wiki/Category:All_articles_with_unsourced_statements\n",
      "Category:Articles with unsourced statements from January 2009 : /wiki/Category:Articles_with_unsourced_statements_from_January_2009\n",
      "Category:All articles lacking reliable references : /wiki/Category:All_articles_lacking_reliable_references\n",
      "Category:Articles lacking reliable references from October 2012 : /wiki/Category:Articles_lacking_reliable_references_from_October_2012\n",
      "Category:Wikipedia articles with GND identifiers : /wiki/Category:Wikipedia_articles_with_GND_identifiers\n",
      "Category:Wikipedia articles with LCCN identifiers : /wiki/Category:Wikipedia_articles_with_LCCN_identifiers\n",
      "Category:Wikipedia articles with MusicBrainz work identifiers : /wiki/Category:Wikipedia_articles_with_MusicBrainz_work_identifiers\n",
      "Category:Wikipedia articles with NARA identifiers : /wiki/Category:Wikipedia_articles_with_NARA_identifiers\n",
      "Category:Wikipedia articles with VIAF identifiers : /wiki/Category:Wikipedia_articles_with_VIAF_identifiers\n",
      "Category:Wikipedia articles with WorldCat-VIAF identifiers : /wiki/Category:Wikipedia_articles_with_WorldCat-VIAF_identifiers\n",
      "Category:Articles containing video clips : /wiki/Category:Articles_containing_video_clips\n",
      "Discussion about edits from this IP address [n] : /wiki/Special:MyTalk\n",
      "A list of edits made from this IP address [y] : /wiki/Special:MyContributions\n",
      "You are encouraged to create an account and log in; however, it is not mandatory : /w/index.php?title=Special:CreateAccount&returnto=The+Star-Spangled+Banner\n",
      "You're encouraged to log in; however, it's not mandatory. [o] : /w/index.php?title=Special:UserLogin&returnto=The+Star-Spangled+Banner\n",
      "View the content page [c] : /wiki/The_Star-Spangled_Banner\n",
      "Discussion about the content page [t] : /wiki/Talk:The_Star-Spangled_Banner\n",
      "** {'href': '/wiki/The_Star-Spangled_Banner'}\n",
      "This page is protected.\n",
      "You can view its source [e] : /w/index.php?title=The_Star-Spangled_Banner&action=edit\n",
      "Past revisions of this page [h] : /w/index.php?title=The_Star-Spangled_Banner&action=history\n",
      "Visit the main page [z] : /wiki/Main_Page\n",
      "Guides to browsing Wikipedia : /wiki/Portal:Contents\n",
      "Featured content \\xe2\\x80\\x93 the best of Wikipedia : /wiki/Portal:Featured_content\n",
      "Find background information on current events : /wiki/Portal:Current_events\n",
      "Load a random article [x] : /wiki/Special:Random\n",
      "Support us : https://donate.wikimedia.org/wiki/Special:FundraiserRedirector?utm_source=donate&utm_medium=sidebar&utm_campaign=C13_en.wikipedia.org&uselang=en\n",
      "Visit the Wikipedia store : //shop.wikimedia.org\n",
      "Guidance on how to use and edit Wikipedia : /wiki/Help:Contents\n",
      "Find out about Wikipedia : /wiki/Wikipedia:About\n",
      "About the project, what you can do, where to find things : /wiki/Wikipedia:Community_portal\n",
      "A list of recent changes in the wiki [r] : /wiki/Special:RecentChanges\n",
      "How to contact Wikipedia : //en.wikipedia.org/wiki/Wikipedia:Contact_us\n",
      "List of all English Wikipedia pages containing links to this page [j] : /wiki/Special:WhatLinksHere/The_Star-Spangled_Banner\n",
      "Recent changes in pages linked from this page [k] : /wiki/Special:RecentChangesLinked/The_Star-Spangled_Banner\n",
      "Upload files [u] : /wiki/Wikipedia:File_Upload_Wizard\n",
      "A list of all special pages [q] : /wiki/Special:SpecialPages\n",
      "Permanent link to this revision of the page : /w/index.php?title=The_Star-Spangled_Banner&oldid=869219458\n",
      "More information about this page : /w/index.php?title=The_Star-Spangled_Banner&action=info\n",
      "Link to connected data repository item [g] : https://www.wikidata.org/wiki/Special:EntityPage/Q44696\n",
      "Information on how to cite this page : /w/index.php?title=Special:CiteThisPage&page=The_Star-Spangled_Banner&id=869219458\n",
      "** {'href': '/w/index.php?title=Special:Book&bookcmd=book_creator&referer=The+Star-Spangled+Banner'}\n",
      "** {'href': '/w/index.php?title=Special:ElectronPdf&page=The+Star-Spangled+Banner&action=show-download-screen'}\n",
      "Printable version of this page [p] : /w/index.php?title=The_Star-Spangled_Banner&printable=yes\n",
      "** {'hreflang': 'en', 'href': 'https://commons.wikimedia.org/wiki/Category:The_Star-Spangled_Banner'}\n",
      "** {'hreflang': 'en', 'href': 'https://en.wikisource.org/wiki/The_Star-Spangled_Banner'}\n",
      "** {'href': '//en.wikipedia.org/wiki/Wikipedia:Text_of_Creative_Commons_Attribution-ShareAlike_3.0_Unported_License', 'rel': 'license'}\n",
      "** {'style': 'display:none;', 'href': '//creativecommons.org/licenses/by-sa/3.0/', 'rel': 'license'}\n",
      "** {'href': '//foundation.wikimedia.org/wiki/Terms_of_Use'}\n",
      "** {'href': '//foundation.wikimedia.org/wiki/Privacy_policy'}\n",
      "** {'href': '//www.wikimediafoundation.org/'}\n",
      "Wikipedia:About : /wiki/Wikipedia:About\n",
      "Wikipedia:General disclaimer : /wiki/Wikipedia:General_disclaimer\n",
      "** {'href': '//en.wikipedia.org/wiki/Wikipedia:Contact_us'}\n",
      "** {'href': 'https://www.mediawiki.org/wiki/Special:MyLanguage/How_to_contribute'}\n",
      "** {'href': 'https://foundation.wikimedia.org/wiki/Cookie_statement'}\n",
      "** {'href': 'https://wikimediafoundation.org/'}\n",
      "** {'href': '//www.mediawiki.org/'}\n"
     ]
    }
   ],
   "source": [
    "for link in links:\n",
    "    attrs.update(link.keys())\n",
    "    if 'title' in link and 'class' in link:\n",
    "        print('c {} ({}) : {}'.format(link['title'], link['class'], link['href']))\n",
    "    elif 'title' in link:\n",
    "        print('{} : {}'.format(link['title'], link['href']))\n",
    "    \n",
    "    else:\n",
    "        print('** {}'.format(link))"
   ]
  },
  {
   "cell_type": "code",
   "execution_count": 71,
   "metadata": {},
   "outputs": [],
   "source": [
    "# redirects: mw-redirect"
   ]
  },
  {
   "cell_type": "code",
   "execution_count": null,
   "metadata": {},
   "outputs": [],
   "source": []
  },
  {
   "cell_type": "code",
   "execution_count": null,
   "metadata": {},
   "outputs": [],
   "source": [
    "#urllib.request.urlopen"
   ]
  },
  {
   "cell_type": "code",
   "execution_count": 225,
   "metadata": {},
   "outputs": [
    {
     "data": {
      "text/plain": [
       "78975"
      ]
     },
     "execution_count": 225,
     "metadata": {},
     "output_type": "execute_result"
    }
   ],
   "source": [
    "#opener = urllib.request.FancyURLopener({})\n",
    "url = \"https://en.wikipedia.org/wiki/Vineyard_Landscape_of_Piedmont:_Langhe-Roero_and_Monferrato\"\n",
    "f = urllib.request.urlopen(url)\n",
    "content = f.read()\n",
    "len(content)"
   ]
  },
  {
   "cell_type": "code",
   "execution_count": 227,
   "metadata": {},
   "outputs": [],
   "source": [
    "\n",
    "    \n",
    "bad_headers = {'File', 'Wikipedia', 'Template', 'Template_talk', 'Help', 'Talk', 'Category', 'Special', 'Portal'}\n",
    "\n",
    "def link_cond(link):\n",
    "    if 'class' in link:\n",
    "        return False\n",
    "    if 'href' not in link:\n",
    "        return False\n",
    "    if 'accesskey' in link:\n",
    "        return False\n",
    "    if link['href'][:6] != '/wiki/':\n",
    "        return False\n",
    "    \n",
    "    if ':' in link['href']:\n",
    "        idx = link['href'].find(':')\n",
    "        header = link['href'][6:idx]\n",
    "        \n",
    "        if header in bad_headers:\n",
    "            return False\n",
    "        else:\n",
    "            print('** Bad header might be missing: {}'.format(header))\n",
    "    \n",
    "    return True\n",
    "\n",
    "def category_cond(link):\n",
    "    if 'href' not in link:\n",
    "        return False\n",
    "    if link['href'][:15] != '/wiki/Category:':\n",
    "        return False\n",
    "    return True\n",
    "\n",
    "def redirect_cond(link):\n",
    "    if 'class' not in link:\n",
    "        return False\n",
    "    if 'accesskey' in link:\n",
    "        return False\n",
    "    if link['class'] != 'mw-redirect':\n",
    "        return False\n",
    "    if ':' in link['href']:\n",
    "        idx = link['href'].find(':')\n",
    "        header = link['href'][:idx]\n",
    "        if header in bad_headers:\n",
    "            return False\n",
    "    return True\n",
    "\n",
    "def wiki_expand(article_name):\n",
    "    \n",
    "    url = \"https://en.wikipedia.org/wiki/{}\".format(article_name)\n",
    "    content = urllib.request.urlopen(url).read()\n",
    "    \n",
    "    parser = WikiParser()\n",
    "    parser.feed(str(content))\n",
    "    links = [link for link in parser.links if link_cond(link)]\n",
    "    redirects = [redir for redir in parser.links if redirect_cond(redir)]\n",
    "    cats = [cat for cat in parser.links if category_cond(cat)]\n",
    "    #len(links), len(redirects), len(cats)\n",
    "    \n",
    "    return links, redirects, cats"
   ]
  },
  {
   "cell_type": "code",
   "execution_count": 245,
   "metadata": {},
   "outputs": [
    {
     "data": {
      "text/plain": [
       "(129, 26, 10)"
      ]
     },
     "execution_count": 245,
     "metadata": {},
     "output_type": "execute_result"
    }
   ],
   "source": [
    "links, redirs, cats = wiki_expand('List_of_painters_of_Saint_Petersburg_Union_of_Artists')\n",
    "links, redirs = [[link['href'][6:] for link in group] for group in [links, redirs]]\n",
    "links, redirs = map(list, map(set, [links, redirs]))\n",
    "len(links), len(redirs), len(cats)"
   ]
  },
  {
   "cell_type": "code",
   "execution_count": 246,
   "metadata": {},
   "outputs": [
    {
     "data": {
      "text/plain": [
       "['Piotr_Buchkin',\n",
       " 'Nikolai_Baskakov_(painter)',\n",
       " 'Portrait_of_Contemporary_(Leningrad,_1976)',\n",
       " 'Regional_Art_exhibition_(Leningrad,_1980)',\n",
       " 'Spring_exhibition_(Leningrad,_1955)',\n",
       " 'Exhibition_of_Leningrad_artists_(1951)',\n",
       " 'Yuri_Khukhrov',\n",
       " 'Samuil_Nevelshtein',\n",
       " 'Evgenia_Antipova',\n",
       " 'Nikolai_Kostrov',\n",
       " 'Annual_Exhibition_of_Leningrad_artists_(1960)',\n",
       " 'Irina_Baldina',\n",
       " 'Leonid_Tkachenko_(artist)',\n",
       " 'Galina_Smirnova',\n",
       " 'Maya_Kopitseva',\n",
       " 'Cafe_Gurzuf',\n",
       " 'In_the_Sun_(painting)',\n",
       " 'Boris_Korneev',\n",
       " 'Lenin_in_Kremlin_(painting)',\n",
       " 'Lev_Russov',\n",
       " 'Cornflowers_(painting)',\n",
       " 'Valentina_Monakhova',\n",
       " 'In_memory_of_Teacher_(Saint_Petersburg,_1997)',\n",
       " 'Irina_Getmanskaya',\n",
       " 'Fine_Art_of_Leningrad',\n",
       " 'Vladimir_Chekalov',\n",
       " 'Spring_exhibition_(Leningrad,_1969)',\n",
       " 'Leningrad_painting_of_1950-1980s_(Saint_Petersburg,_1994)',\n",
       " 'Marina_Kozlovskaya',\n",
       " 'Autumn_exhibition_(Leningrad,_1968)',\n",
       " 'Alexander_Pushnin',\n",
       " 'List_of_painters_of_Saint_Petersburg_Union_of_Artists',\n",
       " 'Ilya_Repin',\n",
       " 'Piotr_Vasiliev',\n",
       " 'Mikhail_Kozell',\n",
       " 'Piotr_Belousov',\n",
       " 'Autumn_exhibition_(Leningrad,_1956)',\n",
       " 'Soviet_Russia_(exhibition,_1965)',\n",
       " 'Alexei_Eriomin',\n",
       " 'List_of_Russian_artists',\n",
       " 'Vitaly_Tulenev',\n",
       " 'Cherry_(Moiseyenko_painting)',\n",
       " 'Mikhail_Trufanov',\n",
       " 'Kuzma_Petrov-Vodkin',\n",
       " 'Exhibition_of_Eleven_(Leningrad,_1972)',\n",
       " 'Soviet_Union',\n",
       " 'Nadezhda_Shteinmiller',\n",
       " 'Alexander_Naumov',\n",
       " 'Rostislav_Vovkushevsky',\n",
       " 'Alexander_Ivanovich_Sokolov',\n",
       " 'Evgenia_Baykova',\n",
       " 'Exhibition_of_Leningrad_artists_(1970)',\n",
       " 'Taisia_Afonina',\n",
       " 'List_of_20th-century_Russian_painters',\n",
       " 'Elena_Gorokhova',\n",
       " 'Mikhail_Natarevich',\n",
       " 'Nina_Veselova',\n",
       " 'Maria_Rudnitskaya',\n",
       " 'Spring_exhibition_(Leningrad,_1954)',\n",
       " 'Leningrad_School_of_Painting',\n",
       " 'Tatiana_Gorb',\n",
       " 'Lev_Orekhov',\n",
       " 'Anniversary_Art_Exhibition_(Leningrad,_1957)',\n",
       " 'Yuri_Shablikin',\n",
       " 'Artist',\n",
       " 'Exhibition_of_Leningrad_artists_(1961)',\n",
       " 'Saint_Petersburg_Union_of_Artists',\n",
       " 'Nikolai_Mukho',\n",
       " 'German_Tatarinov',\n",
       " 'Anatoli_Vasiliev',\n",
       " 'Gevork_Kotiantz',\n",
       " 'Autumn_exhibition_(Leningrad,_1958)',\n",
       " 'Alexander_Stolbov',\n",
       " 'Victor_Teterin',\n",
       " 'Horsewoman_(painting)',\n",
       " 'Nikolai_Pozdneev',\n",
       " 'International_Standard_Book_Number',\n",
       " 'Piotr_Alberti',\n",
       " 'Alexander_Tatarenko',\n",
       " 'Vsevolod_Bazhenov',\n",
       " 'Elena_Kostenko',\n",
       " 'Zlata_Bizova',\n",
       " 'Tavricheskaya_Art_School',\n",
       " 'Portrait_of_Yevgeny_Mravinsky',\n",
       " 'Kapitolina_Rumiantseva',\n",
       " 'Malaya_Sadovaya_(painting)',\n",
       " 'Pavel_Filonov',\n",
       " 'All-Union_art_exhibition_(Moscow,_1957)',\n",
       " 'Spring_is_on_the_way_(painting)',\n",
       " 'Nikolai_Timkov',\n",
       " 'Vasily_Golubev_(painter)',\n",
       " 'Boris_Shamanov',\n",
       " 'Lyrical_motifs_in_postwar_Leningrad_painting_(Saint_Petersburg,_1995)',\n",
       " 'Russian_culture',\n",
       " 'Isaak_Brodsky',\n",
       " 'Russia',\n",
       " 'Mothers,_Sisters',\n",
       " 'Midday_(painting)',\n",
       " 'Vladimir_Gorb',\n",
       " 'Nikolai_Galakhov',\n",
       " 'Veniamin_Borisov',\n",
       " 'Anatoli_Nenartovich',\n",
       " 'Autumn_exhibition_(Leningrad,_1962)',\n",
       " 'Autumn_Exhibition_(Leningrad,_1978)',\n",
       " 'Sergei_Yefimovich_Zakharov',\n",
       " 'Russian_Empire',\n",
       " 'Alexander_Koroviakov',\n",
       " 'Galina_Rumiantseva',\n",
       " 'Saint_Petersburg',\n",
       " 'Exhibition_of_Leningrad_artists_(Russian_Museum,_1960)',\n",
       " 'Georgy_Kovenchuk',\n",
       " 'Dmitry_Maevsky',\n",
       " 'Piotr_Litvinsky',\n",
       " 'Spring_exhibition_(Leningrad,_1965)',\n",
       " 'Engels_Kozlov',\n",
       " 'Quince_and_Teapot_(painting)',\n",
       " 'Evgeny_Pozdniakov',\n",
       " 'Mikhail_Kaneev',\n",
       " 'Dmitry_Oboznenko',\n",
       " 'Spring_Day_(painting)',\n",
       " 'Evgeny_Chuprun',\n",
       " 'Elena_Skuin',\n",
       " 'Gleb_Savinov',\n",
       " 'Nevsky_Prospekt_(painting)',\n",
       " 'Exhibition_of_Leningrad_artists_(1950)',\n",
       " 'Arseny_Semionov',\n",
       " 'Ivan_Godlevsky',\n",
       " 'Portrait_of_Catherine_Balebina',\n",
       " 'Soviet_Russia_(exhibition,_1960)']"
      ]
     },
     "execution_count": 246,
     "metadata": {},
     "output_type": "execute_result"
    }
   ],
   "source": [
    "#[(link['href'][6:], list(link.keys())) for link in links[-100:]]\n",
    "links"
   ]
  },
  {
   "cell_type": "code",
   "execution_count": 247,
   "metadata": {},
   "outputs": [
    {
     "data": {
      "text/plain": [
       "['Casimir_Malevich',\n",
       " 'House_of_creativity_%C2%ABStaraya_Ladoga%C2%BB',\n",
       " 'Art_belongs_to_the_people_(Leningrad,_1977)',\n",
       " 'Painting_of_1940-1990s._The_Leningrad_School_(Saint_Petersburg,_1996)',\n",
       " 'Alexander_Mikhailovich_Semionov',\n",
       " 'Samokhvalov_Alexander',\n",
       " 'Secondary_Art_School',\n",
       " 'Soviet_Russia_(exhibition,_1967)',\n",
       " 'Leningrad',\n",
       " 'Fine_Arts_of_Leningrad_(Moscow,_1976)',\n",
       " '%22Our_Contemporary%22_regional_art_exhibition_(Leningrad,1975)',\n",
       " 'Still_life_with_Pussy-Willows_(painting)',\n",
       " '1957_in_Fine_Arts_of_the_Soviet_Union',\n",
       " '%22Leningrad%22_zonal_art_exhibition_(1964)',\n",
       " 'Etude_in_Leningrad_painting_of_1940-1980s_(Saint_Petersburg,_1994)',\n",
       " 'Vera_Mukhina_Institute',\n",
       " 'Petrograd',\n",
       " 'Still_life_of_1950-1990s._The_Leningrad_School_(Saint_Petersburg,_1997)',\n",
       " 'Vladimir_Ivanovich_Ovchinnikov',\n",
       " 'House_with_Arch_(painting)',\n",
       " 'Our_Contemporary_(Leningrad,_1971)',\n",
       " 'Repin_Institute_of_Arts',\n",
       " 'Russian_Winter._Hoarfrost_(painting)',\n",
       " 'Our_Contemporary_(Leningrad,_1972)',\n",
       " 'Sergei_Ivanovich_Osipov',\n",
       " 'By_native_country_(Leningrad,_1972)']"
      ]
     },
     "execution_count": 247,
     "metadata": {},
     "output_type": "execute_result"
    }
   ],
   "source": [
    "redirs"
   ]
  },
  {
   "cell_type": "code",
   "execution_count": 238,
   "metadata": {},
   "outputs": [
    {
     "data": {
      "text/plain": [
       "['1927_births',\n",
       " '2005_deaths',\n",
       " '20th-century_Russian_painters',\n",
       " 'Russian_male_painters',\n",
       " '21st-century_Russian_painters',\n",
       " 'Soviet_painters',\n",
       " 'Socialist_realism',\n",
       " 'People_from_Saint_Petersburg',\n",
       " 'Socialist_realism_artists',\n",
       " 'Painters_from_Saint_Petersburg',\n",
       " 'Leningrad_School_artists',\n",
       " 'Members_of_the_Leningrad_Union_of_Artists',\n",
       " 'Pages_to_import_images_to_Wikidata',\n",
       " 'Articles_with_hCards',\n",
       " 'Pages_using_infobox_artist_with_unknown_parameters',\n",
       " 'Articles_containing_Russian-language_text',\n",
       " 'Commons_category_link_from_Wikidata']"
      ]
     },
     "execution_count": 238,
     "metadata": {},
     "output_type": "execute_result"
    }
   ],
   "source": [
    "[link['href'][15:] for link in cats]"
   ]
  },
  {
   "cell_type": "code",
   "execution_count": 248,
   "metadata": {},
   "outputs": [
    {
     "data": {
      "text/plain": [
       "1616"
      ]
     },
     "execution_count": 248,
     "metadata": {},
     "output_type": "execute_result"
    }
   ],
   "source": [
    "sys.getsizeof(links) + sys.getsizeof(redirs)# + sys.getsizeof(cats)"
   ]
  },
  {
   "cell_type": "code",
   "execution_count": 223,
   "metadata": {},
   "outputs": [],
   "source": [
    "f = hf.File('test_raw_links', 'w')"
   ]
  },
  {
   "cell_type": "code",
   "execution_count": 249,
   "metadata": {},
   "outputs": [
    {
     "ename": "TypeError",
     "evalue": "'HTTPResponse' object does not support item assignment",
     "output_type": "error",
     "traceback": [
      "\u001b[0;31m---------------------------------------------------------------------------\u001b[0m",
      "\u001b[0;31mTypeError\u001b[0m                                 Traceback (most recent call last)",
      "\u001b[0;32m<ipython-input-249-950d971aecb7>\u001b[0m in \u001b[0;36m<module>\u001b[0;34m()\u001b[0m\n\u001b[0;32m----> 1\u001b[0;31m \u001b[0mf\u001b[0m\u001b[0;34m[\u001b[0m\u001b[0;34m'test'\u001b[0m\u001b[0;34m]\u001b[0m \u001b[0;34m=\u001b[0m \u001b[0;36m0\u001b[0m\u001b[0;34m\u001b[0m\u001b[0m\n\u001b[0m",
      "\u001b[0;31mTypeError\u001b[0m: 'HTTPResponse' object does not support item assignment"
     ]
    }
   ],
   "source": [
    "f['test'] = 0"
   ]
  },
  {
   "cell_type": "code",
   "execution_count": null,
   "metadata": {},
   "outputs": [],
   "source": []
  }
 ],
 "metadata": {
  "kernelspec": {
   "display_name": "Python 3",
   "language": "python",
   "name": "python3"
  },
  "language_info": {
   "codemirror_mode": {
    "name": "ipython",
    "version": 3
   },
   "file_extension": ".py",
   "mimetype": "text/x-python",
   "name": "python",
   "nbconvert_exporter": "python",
   "pygments_lexer": "ipython3",
   "version": "3.5.5"
  }
 },
 "nbformat": 4,
 "nbformat_minor": 2
}
