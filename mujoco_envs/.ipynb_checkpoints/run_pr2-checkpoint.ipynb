{
 "cells": [
  {
   "cell_type": "code",
   "execution_count": 1,
   "metadata": {},
   "outputs": [],
   "source": [
    "from mujoco_py import load_model_from_path, MjSim, MjViewer\n",
    "import sys, os\n",
    "import numpy as np"
   ]
  },
  {
   "cell_type": "code",
   "execution_count": 37,
   "metadata": {},
   "outputs": [
    {
     "name": "stdout",
     "output_type": "stream",
     "text": [
      "[(3, 'ant.xml'), (12, 'ant_target.xml'), (38, 'arm3d_disc.xml'), (1, 'arm3d_disc_position_control.xml'), (33, 'arm3d_key.xml'), (29, 'arm3d_key_real_reduced.xml'), (41, 'arm3d_key_tight.xml'), (36, 'arm3d_peg.xml'), (13, 'block_insertion_1.xml'), (32, 'block_insertion_2.xml'), (20, 'block_insertion_3.xml'), (34, 'block_insertion_4.xml'), (16, 'block_insertion_5.xml'), (24, 'diff_drive.xml'), (18, 'disk_generate_states.xml'), (0, 'green_ball.xml'), (25, 'half_cheetah.xml'), (19, 'hopper.xml'), (5, 'humanoid.xml'), (9, 'inverted_double_pendulum.xml'), (27, 'inverted_double_pendulum.xml.mako'), (6, 'meshes'), (23, 'multi_modal_point.xml'), (11, 'multi_modal_reacher.xml'), (7, 'point.xml'), (21, 'point2.xml'), (14, 'pr2_disk.xml'), (2, 'pr2_disk_w_joints.xml'), (39, 'pr2_key.xml'), (40, 'pr2_key_w_joints.xml'), (4, 'pr2_reach.xml'), (10, 'pr2_wide_key.xml'), (31, 'pr2_wide_key_w_joints.xml'), (35, 'reacher.xml'), (22, 'reacher2d.xml'), (17, 'red_ball.xml'), (8, 'simple_humanoid.xml'), (26, 'snake.xml'), (37, 'snake2.xml'), (15, 'swimmer.xml'), (30, 'utils.mako'), (28, 'walker2d.xml')]\n"
     ]
    }
   ],
   "source": [
    "root = '/home/fleeb/workspace/rllab-curriculum/vendor/mujoco_models'\n",
    "envnames = os.listdir(root)\n",
    "print(list(sorted(enumerate(envnames), key=lambda x: x[1])))"
   ]
  },
  {
   "cell_type": "code",
   "execution_count": 44,
   "metadata": {},
   "outputs": [
    {
     "name": "stdout",
     "output_type": "stream",
     "text": [
      "simple_humanoid.xml\n"
     ]
    }
   ],
   "source": [
    "name = envnames[8]\n",
    "path = os.path.join(root, name)\n",
    "print(name)"
   ]
  },
  {
   "cell_type": "code",
   "execution_count": 45,
   "metadata": {},
   "outputs": [],
   "source": [
    "model = load_model_from_path(path)\n",
    "sim = MjSim(model)"
   ]
  },
  {
   "cell_type": "code",
   "execution_count": 46,
   "metadata": {},
   "outputs": [
    {
     "name": "stdout",
     "output_type": "stream",
     "text": [
      "MjSimState(time=0.0, qpos=array([0. , 0. , 1.4, 1. , 0. , 0. , 0. , 0. , 0. , 0. , 0. , 0. , 0. ,\n",
      "       0. , 0. , 0. , 0. ]), qvel=array([0., 0., 0., 0., 0., 0., 0., 0., 0., 0., 0., 0., 0., 0., 0., 0.]), act=None, udd_state={})\n"
     ]
    }
   ],
   "source": [
    "state = sim.get_state()\n",
    "print(state)"
   ]
  },
  {
   "cell_type": "code",
   "execution_count": 47,
   "metadata": {},
   "outputs": [],
   "source": [
    "state.qpos[:] += 1"
   ]
  },
  {
   "cell_type": "code",
   "execution_count": 48,
   "metadata": {},
   "outputs": [
    {
     "data": {
      "text/plain": [
       "array([0, 1, 1, 1, 1, 1, 1, 1, 1, 1, 1], dtype=uint8)"
      ]
     },
     "execution_count": 48,
     "metadata": {},
     "output_type": "execute_result"
    }
   ],
   "source": [
    "sim.model.jnt_limited"
   ]
  },
  {
   "cell_type": "code",
   "execution_count": 49,
   "metadata": {},
   "outputs": [
    {
     "data": {
      "text/plain": [
       "array([ 0,  7,  8,  9, 10, 11, 12, 13, 14, 15, 16], dtype=int32)"
      ]
     },
     "execution_count": 49,
     "metadata": {},
     "output_type": "execute_result"
    }
   ],
   "source": [
    "sim.model.jnt_qposadr"
   ]
  },
  {
   "cell_type": "code",
   "execution_count": 32,
   "metadata": {},
   "outputs": [],
   "source": [
    "np.random.uniform?"
   ]
  },
  {
   "cell_type": "code",
   "execution_count": 34,
   "metadata": {},
   "outputs": [
    {
     "data": {
      "text/plain": [
       "array([[ 0.        ,  0.        ,  0.        , -1.74532925, -1.74532925],\n",
       "       [ 0.        ,  0.        ,  0.        ,  1.74532925,  1.74532925]])"
      ]
     },
     "execution_count": 34,
     "metadata": {},
     "output_type": "execute_result"
    }
   ],
   "source": [
    "sim.model.jnt_range.T"
   ]
  },
  {
   "cell_type": "code",
   "execution_count": 24,
   "metadata": {},
   "outputs": [
    {
     "data": {
      "text/plain": [
       "array([0., 0.])"
      ]
     },
     "execution_count": 24,
     "metadata": {},
     "output_type": "execute_result"
    }
   ],
   "source": [
    "sim.data."
   ]
  },
  {
   "cell_type": "code",
   "execution_count": 7,
   "metadata": {},
   "outputs": [],
   "source": [
    "cls = [(247, 21, 12), (75, 11, 214), (0, 226, 237), (87,214,11), (247, 178, 18)]\n",
    "cls = [(233,218,193), (0,163,215), (167,39,39), (102,145,61), (101,74,140), (237,210,33)]\n",
    "cls = [np.array(c)/255 for c in cls]"
   ]
  },
  {
   "cell_type": "code",
   "execution_count": 8,
   "metadata": {},
   "outputs": [
    {
     "name": "stdout",
     "output_type": "stream",
     "text": [
      "0.91 0.85 0.76 1\n",
      "0.00 0.64 0.84 1\n",
      "0.65 0.15 0.15 1\n",
      "0.40 0.57 0.24 1\n",
      "0.40 0.29 0.55 1\n",
      "0.93 0.82 0.13 1\n"
     ]
    }
   ],
   "source": [
    "for c in cls:\n",
    "    print('{:.2f} {:.2f} {:.2f} 1'.format(*c))"
   ]
  },
  {
   "cell_type": "code",
   "execution_count": 6,
   "metadata": {},
   "outputs": [],
   "source": [
    "np.searchsorted?"
   ]
  },
  {
   "cell_type": "code",
   "execution_count": null,
   "metadata": {},
   "outputs": [],
   "source": []
  }
 ],
 "metadata": {
  "kernelspec": {
   "display_name": "Python 3",
   "language": "python",
   "name": "python3"
  },
  "language_info": {
   "codemirror_mode": {
    "name": "ipython",
    "version": 3
   },
   "file_extension": ".py",
   "mimetype": "text/x-python",
   "name": "python",
   "nbconvert_exporter": "python",
   "pygments_lexer": "ipython3",
   "version": "3.5.5"
  }
 },
 "nbformat": 4,
 "nbformat_minor": 2
}
