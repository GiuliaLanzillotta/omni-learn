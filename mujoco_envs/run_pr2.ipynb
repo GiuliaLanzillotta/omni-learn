{
 "cells": [
  {
   "cell_type": "code",
   "execution_count": 1,
   "metadata": {},
   "outputs": [],
   "source": [
    "from mujoco_py import load_model_from_path, MjSim, MjViewer\n",
    "import sys, os\n",
    "import numpy as np"
   ]
  },
  {
   "cell_type": "code",
   "execution_count": 2,
   "metadata": {},
   "outputs": [
    {
     "name": "stdout",
     "output_type": "stream",
     "text": [
      "[(8, 'assets'), (5, 'catcher.xml'), (11, 'claw.xml'), (6, 'door.xml'), (3, 'fetch'), (12, 'juggler.xml'), (4, 'key.xml'), (9, 'plinko.xml'), (0, 'plinko_catcher.xml'), (7, 'pr2_batting.xml'), (1, 'shelf.xml'), (10, 'slider.xml'), (2, 'tosser.xml')]\n"
     ]
    }
   ],
   "source": [
    "root = '/home/fleeb/workspace/marl/foundation/mujoco_envs/xmls/'\n",
    "envnames = os.listdir(root)\n",
    "print(list(sorted(enumerate(envnames), key=lambda x: x[1])))"
   ]
  },
  {
   "cell_type": "code",
   "execution_count": 40,
   "metadata": {},
   "outputs": [
    {
     "name": "stdout",
     "output_type": "stream",
     "text": [
      "pr2_batting.xml\n"
     ]
    }
   ],
   "source": [
    "name = 'pr2_batting.xml'\n",
    "path = os.path.join(root, name)\n",
    "print(name)"
   ]
  },
  {
   "cell_type": "code",
   "execution_count": 43,
   "metadata": {},
   "outputs": [],
   "source": [
    "model = load_model_from_path(path)\n",
    "sim = MjSim(model)"
   ]
  },
  {
   "cell_type": "code",
   "execution_count": 44,
   "metadata": {},
   "outputs": [
    {
     "name": "stdout",
     "output_type": "stream",
     "text": [
      "MjSimState(time=0.0, qpos=array([0., 0., 0., 0., 0., 0., 0., 0., 0., 0., 1., 0., 0., 0.]), qvel=array([0., 0., 0., 0., 0., 0., 0., 0., 0., 0., 0., 0., 0.]), act=None, udd_state={})\n"
     ]
    }
   ],
   "source": [
    "state = sim.get_state()\n",
    "print(state)"
   ]
  },
  {
   "cell_type": "code",
   "execution_count": 45,
   "metadata": {},
   "outputs": [
    {
     "ename": "SyntaxError",
     "evalue": "invalid syntax (<ipython-input-45-5ecfe182600d>, line 1)",
     "output_type": "error",
     "traceback": [
      "\u001b[0;36m  File \u001b[0;32m\"<ipython-input-45-5ecfe182600d>\"\u001b[0;36m, line \u001b[0;32m1\u001b[0m\n\u001b[0;31m    sim.\u001b[0m\n\u001b[0m        ^\u001b[0m\n\u001b[0;31mSyntaxError\u001b[0m\u001b[0;31m:\u001b[0m invalid syntax\n"
     ]
    }
   ],
   "source": [
    "sim."
   ]
  },
  {
   "cell_type": "code",
   "execution_count": 46,
   "metadata": {},
   "outputs": [
    {
     "data": {
      "text/plain": [
       "array([ 0.927482, -0.087656,  0.07406 , -0.355821])"
      ]
     },
     "execution_count": 46,
     "metadata": {},
     "output_type": "execute_result"
    }
   ],
   "source": [
    "quat = np.array([0.927482, -0.087656, 0.074060, -0.355821])\n",
    "quat"
   ]
  },
  {
   "cell_type": "code",
   "execution_count": 47,
   "metadata": {},
   "outputs": [
    {
     "data": {
      "text/plain": [
       "('gnd',\n",
       " 'base',\n",
       " 'geom15',\n",
       " 'target',\n",
       " 'geom50',\n",
       " 'geom51',\n",
       " 'geom53',\n",
       " 'geom54',\n",
       " 'l_forearm',\n",
       " 'geom57',\n",
       " 'geom59',\n",
       " 'sensor',\n",
       " 'geom60',\n",
       " 'bat',\n",
       " 'geom61',\n",
       " 'l_gripper_l_finger_tip',\n",
       " 'geom63',\n",
       " 'l_gripper_r_finger_tip',\n",
       " 'geom32',\n",
       " 'geom33',\n",
       " 'geom35',\n",
       " 'geom36',\n",
       " 'r_forearm',\n",
       " 'geom39',\n",
       " 'geom41',\n",
       " 'geom43',\n",
       " 'r_gripper_l_finger_tip',\n",
       " 'geom45',\n",
       " 'r_gripper_r_finger_tip',\n",
       " 'ball')"
      ]
     },
     "execution_count": 47,
     "metadata": {},
     "output_type": "execute_result"
    }
   ],
   "source": [
    "sim.model.geom_names"
   ]
  },
  {
   "cell_type": "code",
   "execution_count": 56,
   "metadata": {},
   "outputs": [
    {
     "data": {
      "text/plain": [
       "array([[0., 0., 0.],\n",
       "       [0., 0., 0.],\n",
       "       [0., 0., 0.],\n",
       "       [0., 0., 0.],\n",
       "       [0., 0., 0.],\n",
       "       [0., 0., 0.],\n",
       "       [0., 0., 0.],\n",
       "       [0., 0., 0.],\n",
       "       [0., 0., 0.],\n",
       "       [0., 0., 0.],\n",
       "       [0., 0., 0.],\n",
       "       [0., 0., 0.],\n",
       "       [0., 0., 0.],\n",
       "       [0., 0., 0.],\n",
       "       [0., 0., 0.],\n",
       "       [0., 0., 0.],\n",
       "       [0., 0., 0.],\n",
       "       [0., 0., 0.],\n",
       "       [0., 0., 0.],\n",
       "       [0., 0., 0.],\n",
       "       [0., 0., 0.],\n",
       "       [0., 0., 0.],\n",
       "       [0., 0., 0.],\n",
       "       [0., 0., 0.],\n",
       "       [0., 0., 0.],\n",
       "       [0., 0., 0.],\n",
       "       [0., 0., 0.],\n",
       "       [0., 0., 0.],\n",
       "       [0., 0., 0.],\n",
       "       [0., 0., 0.]])"
      ]
     },
     "execution_count": 56,
     "metadata": {},
     "output_type": "execute_result"
    }
   ],
   "source": [
    "sim.data.geom_xpos"
   ]
  },
  {
   "cell_type": "code",
   "execution_count": 38,
   "metadata": {},
   "outputs": [
    {
     "data": {
      "text/plain": [
       "(2, 12, 28)"
      ]
     },
     "execution_count": 38,
     "metadata": {},
     "output_type": "execute_result"
    }
   ],
   "source": [
    "sim.model.geom_name2id('geom15'), sim.model.geom_name2id('wc1'), sim.model.geom_name2id('ball')"
   ]
  },
  {
   "cell_type": "code",
   "execution_count": 31,
   "metadata": {},
   "outputs": [
    {
     "data": {
      "text/plain": [
       "array([1, 1, 1, 1, 0, 1, 0, 0], dtype=uint8)"
      ]
     },
     "execution_count": 31,
     "metadata": {},
     "output_type": "execute_result"
    }
   ],
   "source": [
    "sim.model.jnt_limited"
   ]
  },
  {
   "cell_type": "code",
   "execution_count": 19,
   "metadata": {},
   "outputs": [
    {
     "data": {
      "text/plain": [
       "array([[-0.714602,  2.285398],\n",
       "       [-0.5236  ,  1.3963  ],\n",
       "       [-0.8     ,  3.9     ],\n",
       "       [-2.3213  ,  0.      ],\n",
       "       [ 0.      ,  0.      ],\n",
       "       [-2.094   ,  0.      ],\n",
       "       [ 0.      ,  0.      ],\n",
       "       [ 0.      ,  0.      ]])"
      ]
     },
     "execution_count": 19,
     "metadata": {},
     "output_type": "execute_result"
    }
   ],
   "source": [
    "sim.model.jnt_range"
   ]
  },
  {
   "cell_type": "code",
   "execution_count": 27,
   "metadata": {},
   "outputs": [
    {
     "data": {
      "text/plain": [
       "(0, 0)"
      ]
     },
     "execution_count": 27,
     "metadata": {},
     "output_type": "execute_result"
    }
   ],
   "source": [
    "idx = 10\n",
    "sim.data.contact[idx].geom1, sim.data.contact[idx].geom2"
   ]
  },
  {
   "cell_type": "code",
   "execution_count": 47,
   "metadata": {},
   "outputs": [],
   "source": [
    "state.qpos[:] += 1"
   ]
  },
  {
   "cell_type": "code",
   "execution_count": 48,
   "metadata": {},
   "outputs": [
    {
     "data": {
      "text/plain": [
       "array([0, 1, 1, 1, 1, 1, 1, 1, 1, 1, 1], dtype=uint8)"
      ]
     },
     "execution_count": 48,
     "metadata": {},
     "output_type": "execute_result"
    }
   ],
   "source": [
    "sim.model.jnt_limited"
   ]
  },
  {
   "cell_type": "code",
   "execution_count": 49,
   "metadata": {},
   "outputs": [
    {
     "data": {
      "text/plain": [
       "array([ 0,  7,  8,  9, 10, 11, 12, 13, 14, 15, 16], dtype=int32)"
      ]
     },
     "execution_count": 49,
     "metadata": {},
     "output_type": "execute_result"
    }
   ],
   "source": [
    "sim.model.jnt_qposadr"
   ]
  },
  {
   "cell_type": "code",
   "execution_count": 32,
   "metadata": {},
   "outputs": [],
   "source": [
    "np.random.uniform?"
   ]
  },
  {
   "cell_type": "code",
   "execution_count": 34,
   "metadata": {},
   "outputs": [
    {
     "data": {
      "text/plain": [
       "array([[ 0.        ,  0.        ,  0.        , -1.74532925, -1.74532925],\n",
       "       [ 0.        ,  0.        ,  0.        ,  1.74532925,  1.74532925]])"
      ]
     },
     "execution_count": 34,
     "metadata": {},
     "output_type": "execute_result"
    }
   ],
   "source": [
    "sim.model.jnt_range.T"
   ]
  },
  {
   "cell_type": "code",
   "execution_count": 24,
   "metadata": {},
   "outputs": [
    {
     "data": {
      "text/plain": [
       "array([0., 0.])"
      ]
     },
     "execution_count": 24,
     "metadata": {},
     "output_type": "execute_result"
    }
   ],
   "source": [
    "sim.data."
   ]
  },
  {
   "cell_type": "code",
   "execution_count": 7,
   "metadata": {},
   "outputs": [],
   "source": [
    "cls = [(247, 21, 12), (75, 11, 214), (0, 226, 237), (87,214,11), (247, 178, 18)]\n",
    "cls = [(233,218,193), (0,163,215), (167,39,39), (102,145,61), (101,74,140), (237,210,33)]\n",
    "cls = [np.array(c)/255 for c in cls]"
   ]
  },
  {
   "cell_type": "code",
   "execution_count": 8,
   "metadata": {},
   "outputs": [
    {
     "name": "stdout",
     "output_type": "stream",
     "text": [
      "0.91 0.85 0.76 1\n",
      "0.00 0.64 0.84 1\n",
      "0.65 0.15 0.15 1\n",
      "0.40 0.57 0.24 1\n",
      "0.40 0.29 0.55 1\n",
      "0.93 0.82 0.13 1\n"
     ]
    }
   ],
   "source": [
    "for c in cls:\n",
    "    print('{:.2f} {:.2f} {:.2f} 1'.format(*c))"
   ]
  },
  {
   "cell_type": "code",
   "execution_count": 6,
   "metadata": {},
   "outputs": [],
   "source": [
    "np.searchsorted?"
   ]
  },
  {
   "cell_type": "code",
   "execution_count": null,
   "metadata": {},
   "outputs": [],
   "source": []
  }
 ],
 "metadata": {
  "kernelspec": {
   "display_name": "Python 3",
   "language": "python",
   "name": "python3"
  },
  "language_info": {
   "codemirror_mode": {
    "name": "ipython",
    "version": 3
   },
   "file_extension": ".py",
   "mimetype": "text/x-python",
   "name": "python",
   "nbconvert_exporter": "python",
   "pygments_lexer": "ipython3",
   "version": "3.5.5"
  }
 },
 "nbformat": 4,
 "nbformat_minor": 2
}
