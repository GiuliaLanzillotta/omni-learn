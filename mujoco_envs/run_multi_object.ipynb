{
 "cells": [
  {
   "cell_type": "code",
   "execution_count": 1,
   "metadata": {},
   "outputs": [
    {
     "name": "stderr",
     "output_type": "stream",
     "text": [
      "/home/fleeb/anaconda3/lib/python3.6/site-packages/h5py/__init__.py:34: FutureWarning: Conversion of the second argument of issubdtype from `float` to `np.floating` is deprecated. In future, it will be treated as `np.float64 == np.dtype(float).type`.\n",
      "  from ._conv import register_converters as _register_converters\n"
     ]
    },
    {
     "name": "stdout",
     "output_type": "stream",
     "text": [
      "Failed to import dm_control\n"
     ]
    }
   ],
   "source": [
    "%load_ext autoreload\n",
    "%autoreload 2\n",
    "from mujoco_py import load_model_from_path, MjSim, MjViewer\n",
    "import sys, os\n",
    "import numpy as np\n",
    "import foundation as fd\n",
    "from foundation.envs.multi_object_env import Multi_Object\n",
    "from foundation.envs.multi_object_table import Multi_Object_Table"
   ]
  },
  {
   "cell_type": "code",
   "execution_count": null,
   "metadata": {
    "collapsed": true
   },
   "outputs": [],
   "source": []
  },
  {
   "cell_type": "code",
   "execution_count": 2,
   "metadata": {},
   "outputs": [
    {
     "name": "stdout",
     "output_type": "stream",
     "text": [
      "files 0 0\n"
     ]
    },
    {
     "ename": "ValueError",
     "evalue": "a must be non-empty",
     "output_type": "error",
     "traceback": [
      "\u001b[0;31m---------------------------------------------------------------------\u001b[0m",
      "\u001b[0;31mValueError\u001b[0m                          Traceback (most recent call last)",
      "\u001b[0;32m<ipython-input-2-743f21e1e453>\u001b[0m in \u001b[0;36m<module>\u001b[0;34m()\u001b[0m\n\u001b[1;32m      3\u001b[0m env = Multi_Object_Table(num_obj=num_obj, xtrans=True, ytrans=True, ztrans=True, xrot=True, yrot=True, zrot=True,\n\u001b[1;32m      4\u001b[0m                                    \u001b[0mbg_path\u001b[0m\u001b[0;34m=\u001b[0m\u001b[0;34m'/home/fleeb/workspace/ml_datasets/places365/validation'\u001b[0m\u001b[0;34m,\u001b[0m\u001b[0;34m\u001b[0m\u001b[0m\n\u001b[0;32m----> 5\u001b[0;31m \t\t\t\t   tex_path='/home/fleeb/workspace/ml_datasets/dtd')\n\u001b[0m\u001b[1;32m      6\u001b[0m \u001b[0;34m\u001b[0m\u001b[0m\n\u001b[1;32m      7\u001b[0m \u001b[0mprint\u001b[0m\u001b[0;34m(\u001b[0m\u001b[0mtype\u001b[0m\u001b[0;34m(\u001b[0m\u001b[0menv\u001b[0m\u001b[0;34m)\u001b[0m\u001b[0;34m)\u001b[0m\u001b[0;34m\u001b[0m\u001b[0m\n",
      "\u001b[0;32m~/workspace/marl/foundation/foundation/envs/multi_object_table.py\u001b[0m in \u001b[0;36m__init__\u001b[0;34m(self, model_path, epsilon, xtrans, ytrans, ztrans, xrot, yrot, zrot, num_obj, rand_on_reset, num_prim, mod_textures, mod_shape, mod_size, use_simple, bg_path, tex_path)\u001b[0m\n\u001b[1;32m     58\u001b[0m \u001b[0;34m\u001b[0m\u001b[0m\n\u001b[1;32m     59\u001b[0m                 \u001b[0mself\u001b[0m\u001b[0;34m.\u001b[0m\u001b[0mmodel\u001b[0m \u001b[0;34m=\u001b[0m \u001b[0mmjp\u001b[0m\u001b[0;34m.\u001b[0m\u001b[0mload_model_from_xml\u001b[0m\u001b[0;34m(\u001b[0m\u001b[0mself\u001b[0m\u001b[0;34m.\u001b[0m\u001b[0mmodel_str\u001b[0m\u001b[0;34m)\u001b[0m\u001b[0;34m\u001b[0m\u001b[0m\n\u001b[0;32m---> 60\u001b[0;31m                 \u001b[0mself\u001b[0m\u001b[0;34m.\u001b[0m\u001b[0mrandomize_env\u001b[0m\u001b[0;34m(\u001b[0m\u001b[0;34m)\u001b[0m\u001b[0;34m\u001b[0m\u001b[0m\n\u001b[0m\u001b[1;32m     61\u001b[0m                 \u001b[0;31m# self.sim = mjp.MjSim(self.model)\u001b[0m\u001b[0;34m\u001b[0m\u001b[0;34m\u001b[0m\u001b[0m\n\u001b[1;32m     62\u001b[0m \u001b[0;34m\u001b[0m\u001b[0m\n",
      "\u001b[0;32m~/workspace/marl/foundation/foundation/envs/multi_object_table.py\u001b[0m in \u001b[0;36mrandomize_env\u001b[0;34m(self)\u001b[0m\n\u001b[1;32m     99\u001b[0m \u001b[0;34m\u001b[0m\u001b[0m\n\u001b[1;32m    100\u001b[0m                 \u001b[0;32mif\u001b[0m \u001b[0mself\u001b[0m\u001b[0;34m.\u001b[0m\u001b[0mmod_textures\u001b[0m\u001b[0;34m:\u001b[0m\u001b[0;34m\u001b[0m\u001b[0m\n\u001b[0;32m--> 101\u001b[0;31m                         \u001b[0mmjutil\u001b[0m\u001b[0;34m.\u001b[0m\u001b[0mmod_textures\u001b[0m\u001b[0;34m(\u001b[0m\u001b[0mself\u001b[0m\u001b[0;34m.\u001b[0m\u001b[0msim\u001b[0m\u001b[0;34m,\u001b[0m \u001b[0mself\u001b[0m\u001b[0;34m.\u001b[0m\u001b[0mtex_files\u001b[0m\u001b[0;34m,\u001b[0m \u001b[0mself\u001b[0m\u001b[0;34m.\u001b[0m\u001b[0mbg_files\u001b[0m\u001b[0;34m,\u001b[0m \u001b[0mbg_idx\u001b[0m\u001b[0;34m=\u001b[0m\u001b[0;36m0\u001b[0m\u001b[0;34m,\u001b[0m \u001b[0muse_floor\u001b[0m\u001b[0;34m=\u001b[0m\u001b[0mself\u001b[0m\u001b[0;34m.\u001b[0m\u001b[0muse_floor\u001b[0m\u001b[0;34m)\u001b[0m\u001b[0;34m\u001b[0m\u001b[0m\n\u001b[0m\u001b[1;32m    102\u001b[0m                         \u001b[0;31m# tex = mjutil.pick_textures(self.sim, self.tex_files, self.bg_files, bg_idx=0)\u001b[0m\u001b[0;34m\u001b[0m\u001b[0;34m\u001b[0m\u001b[0m\n\u001b[1;32m    103\u001b[0m                         \u001b[0;31m# mjutil.texture_geoms(self.sim, tex)\u001b[0m\u001b[0;34m\u001b[0m\u001b[0;34m\u001b[0m\u001b[0m\n",
      "\u001b[0;32m~/workspace/marl/foundation/foundation/sim/mujoco/domain_randomization_mujoco.py\u001b[0m in \u001b[0;36mmod_textures\u001b[0;34m(sim, texture_paths, bg_paths, bg_idx, use_floor)\u001b[0m\n\u001b[1;32m    438\u001b[0m                                 \u001b[0mbox\u001b[0m \u001b[0;34m=\u001b[0m \u001b[0mnp\u001b[0m\u001b[0;34m.\u001b[0m\u001b[0mzeros\u001b[0m\u001b[0;34m(\u001b[0m\u001b[0;34m(\u001b[0m\u001b[0;36m6\u001b[0m\u001b[0;34m,\u001b[0m\u001b[0mh\u001b[0m\u001b[0;34m//\u001b[0m\u001b[0;36m6\u001b[0m\u001b[0;34m,\u001b[0m\u001b[0mw\u001b[0m\u001b[0;34m,\u001b[0m\u001b[0;36m3\u001b[0m\u001b[0;34m)\u001b[0m\u001b[0;34m)\u001b[0m\u001b[0;34m\u001b[0m\u001b[0m\n\u001b[1;32m    439\u001b[0m                                 \u001b[0mmh\u001b[0m\u001b[0;34m,\u001b[0m \u001b[0mmw\u001b[0m \u001b[0;34m=\u001b[0m \u001b[0mbox\u001b[0m\u001b[0;34m.\u001b[0m\u001b[0mshape\u001b[0m\u001b[0;34m[\u001b[0m\u001b[0;36m1\u001b[0m\u001b[0;34m:\u001b[0m\u001b[0;36m3\u001b[0m\u001b[0;34m]\u001b[0m\u001b[0;34m\u001b[0m\u001b[0m\n\u001b[0;32m--> 440\u001b[0;31m                                 \u001b[0mbox\u001b[0m\u001b[0;34m[\u001b[0m\u001b[0;34m:\u001b[0m\u001b[0;34m]\u001b[0m \u001b[0;34m=\u001b[0m \u001b[0mutil\u001b[0m\u001b[0;34m.\u001b[0m\u001b[0mget_img\u001b[0m\u001b[0;34m(\u001b[0m\u001b[0mnp\u001b[0m\u001b[0;34m.\u001b[0m\u001b[0mrandom\u001b[0m\u001b[0;34m.\u001b[0m\u001b[0mchoice\u001b[0m\u001b[0;34m(\u001b[0m\u001b[0mbg_paths\u001b[0m\u001b[0;34m)\u001b[0m\u001b[0;34m,\u001b[0m \u001b[0mmh\u001b[0m\u001b[0;34m,\u001b[0m \u001b[0mmw\u001b[0m\u001b[0;34m)\u001b[0m\u001b[0;34m.\u001b[0m\u001b[0mreshape\u001b[0m\u001b[0;34m(\u001b[0m\u001b[0;36m1\u001b[0m\u001b[0;34m,\u001b[0m\u001b[0mmh\u001b[0m\u001b[0;34m,\u001b[0m\u001b[0mmw\u001b[0m\u001b[0;34m,\u001b[0m\u001b[0;36m3\u001b[0m\u001b[0;34m)\u001b[0m\u001b[0;34m\u001b[0m\u001b[0m\n\u001b[0m\u001b[1;32m    441\u001b[0m                                 \u001b[0mbox\u001b[0m\u001b[0;34m[\u001b[0m\u001b[0;34m:\u001b[0m\u001b[0;36m2\u001b[0m\u001b[0;34m]\u001b[0m \u001b[0;34m=\u001b[0m \u001b[0mbox\u001b[0m\u001b[0;34m[\u001b[0m\u001b[0;36m0\u001b[0m\u001b[0;34m,\u001b[0m \u001b[0;34m:\u001b[0m\u001b[0;34m,\u001b[0m \u001b[0;34m:\u001b[0m\u001b[0;34m:\u001b[0m\u001b[0;34m-\u001b[0m\u001b[0;36m1\u001b[0m\u001b[0;34m]\u001b[0m\u001b[0;34m\u001b[0m\u001b[0m\n\u001b[1;32m    442\u001b[0m                                 \u001b[0;31m# box[1] = box[1, :, ::-1]\u001b[0m\u001b[0;34m\u001b[0m\u001b[0;34m\u001b[0m\u001b[0m\n",
      "\u001b[0;32mmtrand.pyx\u001b[0m in \u001b[0;36mmtrand.RandomState.choice\u001b[0;34m()\u001b[0m\n",
      "\u001b[0;31mValueError\u001b[0m: a must be non-empty"
     ]
    }
   ],
   "source": [
    "num_obj = 3\n",
    "\n",
    "env = Multi_Object_Table(num_obj=num_obj, xtrans=True, ytrans=True, ztrans=True, xrot=True, yrot=True, zrot=True,\n",
    "\t\t\t\t   bg_path='/home/fleeb/workspace/ml_datasets/places365/validation',\n",
    "\t\t\t\t   tex_path='/home/fleeb/workspace/ml_datasets/dtd')\n",
    "\n",
    "print(type(env))\n",
    "print(env.reset())\n",
    "print(env.sim.model.body_names)"
   ]
  },
  {
   "cell_type": "code",
   "execution_count": 3,
   "metadata": {},
   "outputs": [
    {
     "data": {
      "text/plain": [
       "(3810888,)"
      ]
     },
     "execution_count": 3,
     "metadata": {},
     "output_type": "execute_result"
    }
   ],
   "source": [
    "env.sim.model.tex_rgb.shape"
   ]
  },
  {
   "cell_type": "code",
   "execution_count": 4,
   "metadata": {},
   "outputs": [
    {
     "data": {
      "text/plain": [
       "(array([450,  32,  32,  32,  32,  32,  32,  32,  32,  32], dtype=int32),\n",
       " array([2700,  192,  192,  192,  192,  192,  192,  192,  192,  192],\n",
       "       dtype=int32))"
      ]
     },
     "execution_count": 4,
     "metadata": {},
     "output_type": "execute_result"
    }
   ],
   "source": [
    "env.sim.model.tex_width, env.sim.model.tex_height"
   ]
  },
  {
   "cell_type": "code",
   "execution_count": null,
   "metadata": {
    "collapsed": true
   },
   "outputs": [],
   "source": []
  },
  {
   "cell_type": "code",
   "execution_count": null,
   "metadata": {
    "collapsed": true
   },
   "outputs": [],
   "source": []
  },
  {
   "cell_type": "code",
   "execution_count": 2,
   "metadata": {},
   "outputs": [
    {
     "name": "stdout",
     "output_type": "stream",
     "text": [
      "[(0, 'ant.xml'), (1, 'catcher-black.xml'), (5, 'catcher.xml'), (8, 'free_mass.xml'), (3, 'free_mass_dof.xml'), (4, 'half_cheetah.xml'), (9, 'inverted_pendulum_rgb_limited.xml'), (6, 'inverted_pendulum_rgb_unlimited.xml'), (7, 'multi_object_template.xml'), (10, 'point_mass.xml'), (2, 'swimmer.xml')]\n"
     ]
    }
   ],
   "source": [
    "root = '/home/fleeb/workspace/marl/foundation/mujoco_envs/xmls/'\n",
    "root = '/home/fleeb/workspace/marl/foundation/foundation/envs/assets/'\n",
    "envnames = os.listdir(root)\n",
    "print(list(sorted(enumerate(envnames), key=lambda x: x[1])))"
   ]
  },
  {
   "cell_type": "code",
   "execution_count": 3,
   "metadata": {},
   "outputs": [
    {
     "name": "stdout",
     "output_type": "stream",
     "text": [
      "multi_object_template.xml\n"
     ]
    }
   ],
   "source": [
    "name = 'multi_object_template.xml'\n",
    "path = os.path.join(root, name)\n",
    "print(name)"
   ]
  },
  {
   "cell_type": "code",
   "execution_count": 16,
   "metadata": {
    "collapsed": true
   },
   "outputs": [],
   "source": [
    "_types = ['sphere', 'capsule', 'ellipsoid', 'cylinder', 'box']\n",
    "_size_dim = [1, 2, 3, 2, 3,]"
   ]
  },
  {
   "cell_type": "code",
   "execution_count": 23,
   "metadata": {
    "collapsed": true
   },
   "outputs": [],
   "source": [
    "def xml_format(name, attrs):\n",
    "    attrs = [k + '=\"' + str(v) + '\"' for k, v in attrs.items()]\n",
    "    return '<{} {}/>'.format(name, ' '.join(attrs))\n",
    "    \n",
    "def gen_object(num=3):\n",
    "    idx = np.random.randint(0, 5, num)\n",
    "    geoms = []\n",
    "    textures = []\n",
    "    materials = []\n",
    "    for n, i in enumerate(idx):\n",
    "        geom = {}\n",
    "        geom['type'] = _types[i]\n",
    "        sizes = np.random.rand(_size_dim[i])*0.1 + 0.05\n",
    "        pos = np.random.randn(3)\n",
    "        pos *= 0.07 * np.linalg.norm(pos)\n",
    "        euler = np.random.rand(3)*np.pi*2\n",
    "        geom['size'] = ' '.join(['{:.4f}'.format(s) for s in sizes])\n",
    "        geom['name'] = 'geom{}'.format(n)\n",
    "        geom['pos'] = ' '.join(['{:.4f}'.format(s) for s in pos])\n",
    "        geom['euler'] = ' '.join(['{:.4f}'.format(s) for s in euler])\n",
    "        geom['material'] = 'material{}'.format(n)\n",
    "        geoms.append(format_geom(geom))\n",
    "        \n",
    "        mat = {}\n",
    "        mat['name'] = 'material{}'.format(n)\n",
    "        mat['specular'] = '{:.4f}'.format(np.random.rand())\n",
    "        mat['shininess'] = '{:.4f}'.format(np.random.rand())\n",
    "        mat['reflectance'] = '{:.4f}'.format(np.random.rand())\n",
    "        mat['emission'] = '{:.4f}'.format(np.random.rand())\n",
    "        mat['texture'] = 'texture{}'.format(n)\n",
    "        materials.append(mat)\n",
    "        \n",
    "        tex = {}\n",
    "        tex['name'] = 'texture{}'.format(n)\n",
    "        tex['builtin'] = 'flat'\n",
    "        tex['height'] = '32'\n",
    "        tex['width'] = '32'\n",
    "        rgb = np.random.rand(3)*0.7 + 0.3\n",
    "        tex['rgb1'] = '{:.3f} {:.3f} {:.3f} 1'.format(*rgb)\n",
    "        tex['type'] = 'cube'\n",
    "        textures.append(textures)\n",
    "        \n",
    "    return geoms, materials, textures"
   ]
  },
  {
   "cell_type": "code",
   "execution_count": 26,
   "metadata": {},
   "outputs": [
    {
     "name": "stdout",
     "output_type": "stream",
     "text": [
      "<geom pos=\"-0.0449 -0.0822 -0.0211\" name=\"geom0\" size=\"0.1221 0.1411 0.1287\" type=\"ellipsoid\" rgba=\"1 1 1 1\" euler=\"4.8157 5.1725 5.6393\"/>\n",
      "<geom pos=\"0.0849 0.0062 -0.0873\" name=\"geom1\" size=\"0.0748 0.0953 0.0981\" type=\"box\" rgba=\"1 1 1 1\" euler=\"2.8729 1.9427 5.6495\"/>\n",
      "<geom pos=\"0.1116 -0.1016 -0.0998\" name=\"geom2\" size=\"0.1280 0.0553\" type=\"capsule\" rgba=\"1 1 1 1\" euler=\"1.8344 4.1589 1.1273\"/>\n"
     ]
    }
   ],
   "source": [
    "print('\\n'.join(gen_object()))"
   ]
  },
  {
   "cell_type": "code",
   "execution_count": 8,
   "metadata": {
    "collapsed": true
   },
   "outputs": [],
   "source": [
    "geom = {'size':'0.05 0.13', 'type':'capsule', 'material':'material3'}"
   ]
  },
  {
   "cell_type": "code",
   "execution_count": 9,
   "metadata": {},
   "outputs": [
    {
     "data": {
      "text/plain": [
       "'<geom type=\"capsule\" material=\"material3\" size=\"0.05 0.13\"/>'"
      ]
     },
     "execution_count": 9,
     "metadata": {},
     "output_type": "execute_result"
    }
   ],
   "source": []
  },
  {
   "cell_type": "code",
   "execution_count": 5,
   "metadata": {
    "collapsed": true
   },
   "outputs": [],
   "source": [
    "with open(path, 'r') as f:\n",
    "    tmp = f.read()"
   ]
  },
  {
   "cell_type": "code",
   "execution_count": 1,
   "metadata": {
    "collapsed": true
   },
   "outputs": [],
   "source": [
    "from mujoco_py import load_model_from_path, MjSim, MjViewer\n",
    "import sys, os\n",
    "import numpy as np\n",
    "import foundation as fd\n",
    "from foundation.envs.multi_object_env import Multi_Object\n",
    "from foundation.envs.free_mass_env import Free_Mass"
   ]
  },
  {
   "cell_type": "code",
   "execution_count": 2,
   "metadata": {},
   "outputs": [
    {
     "data": {
      "text/plain": [
       "array([-0.22487846,  0.46493769,  0.39500278,  4.41059443,  4.45990687,\n",
       "        3.82533367, -0.16281454,  0.10561823, -0.57296496, -2.43687821,\n",
       "       -1.13271903, -0.09756641])"
      ]
     },
     "execution_count": 2,
     "metadata": {},
     "output_type": "execute_result"
    }
   ],
   "source": [
    "env = Free_Mass()\n",
    "env.reset()"
   ]
  },
  {
   "cell_type": "code",
   "execution_count": 3,
   "metadata": {},
   "outputs": [
    {
     "ename": "TypeError",
     "evalue": "_sum() got an unexpected keyword argument 'keepdim'",
     "output_type": "error",
     "traceback": [
      "\u001b[0;31m---------------------------------------------------------------------\u001b[0m",
      "\u001b[0;31mTypeError\u001b[0m                           Traceback (most recent call last)",
      "\u001b[0;32m<ipython-input-3-d1c7d0eb7d34>\u001b[0m in \u001b[0;36m<module>\u001b[0;34m()\u001b[0m\n\u001b[0;32m----> 1\u001b[0;31m \u001b[0menv\u001b[0m \u001b[0;34m=\u001b[0m \u001b[0mMulti_Object\u001b[0m\u001b[0;34m(\u001b[0m\u001b[0mmod_textures\u001b[0m\u001b[0;34m=\u001b[0m\u001b[0;32mFalse\u001b[0m\u001b[0;34m,\u001b[0m \u001b[0mcreate_on_reset\u001b[0m\u001b[0;34m=\u001b[0m\u001b[0;32mFalse\u001b[0m\u001b[0;34m)\u001b[0m\u001b[0;34m\u001b[0m\u001b[0m\n\u001b[0m",
      "\u001b[0;32m~/workspace/marl/foundation/foundation/envs/multi_object_env.py\u001b[0m in \u001b[0;36m__init__\u001b[0;34m(self, model_path, neutral_pos, epsilon, xtrans, ytrans, ztrans, xrot, yrot, zrot, create_on_reset, mod_textures, num_prim)\u001b[0m\n\u001b[1;32m    169\u001b[0m                 \u001b[0mself\u001b[0m\u001b[0;34m.\u001b[0m\u001b[0mmod_textures\u001b[0m \u001b[0;34m=\u001b[0m \u001b[0mmod_textures\u001b[0m\u001b[0;34m\u001b[0m\u001b[0m\n\u001b[1;32m    170\u001b[0m \u001b[0;34m\u001b[0m\u001b[0m\n\u001b[0;32m--> 171\u001b[0;31m                 \u001b[0mself\u001b[0m\u001b[0;34m.\u001b[0m\u001b[0mcreate_new_oject\u001b[0m\u001b[0;34m(\u001b[0m\u001b[0;34m)\u001b[0m\u001b[0;34m\u001b[0m\u001b[0m\n\u001b[0m\u001b[1;32m    172\u001b[0m \u001b[0;34m\u001b[0m\u001b[0m\n\u001b[1;32m    173\u001b[0m                 \u001b[0mself\u001b[0m\u001b[0;34m.\u001b[0m\u001b[0mobs_dim\u001b[0m \u001b[0;34m=\u001b[0m \u001b[0mlen\u001b[0m\u001b[0;34m(\u001b[0m\u001b[0mself\u001b[0m\u001b[0;34m.\u001b[0m\u001b[0msim\u001b[0m\u001b[0;34m.\u001b[0m\u001b[0mdata\u001b[0m\u001b[0;34m.\u001b[0m\u001b[0mqpos\u001b[0m\u001b[0;34m)\u001b[0m \u001b[0;34m+\u001b[0m \u001b[0mlen\u001b[0m\u001b[0;34m(\u001b[0m\u001b[0mself\u001b[0m\u001b[0;34m.\u001b[0m\u001b[0msim\u001b[0m\u001b[0;34m.\u001b[0m\u001b[0mdata\u001b[0m\u001b[0;34m.\u001b[0m\u001b[0mqvel\u001b[0m\u001b[0;34m)\u001b[0m\u001b[0;34m\u001b[0m\u001b[0m\n",
      "\u001b[0;32m~/workspace/marl/foundation/foundation/envs/multi_object_env.py\u001b[0m in \u001b[0;36mcreate_new_oject\u001b[0;34m(self)\u001b[0m\n\u001b[1;32m    178\u001b[0m \u001b[0;34m\u001b[0m\u001b[0m\n\u001b[1;32m    179\u001b[0m         \u001b[0;32mdef\u001b[0m \u001b[0mcreate_new_oject\u001b[0m\u001b[0;34m(\u001b[0m\u001b[0mself\u001b[0m\u001b[0;34m)\u001b[0m\u001b[0;34m:\u001b[0m\u001b[0;34m\u001b[0m\u001b[0m\n\u001b[0;32m--> 180\u001b[0;31m                 \u001b[0mattrs\u001b[0m \u001b[0;34m=\u001b[0m \u001b[0mgen_object\u001b[0m\u001b[0;34m(\u001b[0m\u001b[0mself\u001b[0m\u001b[0;34m.\u001b[0m\u001b[0mnum_prim\u001b[0m\u001b[0;34m)\u001b[0m\u001b[0;34m\u001b[0m\u001b[0m\n\u001b[0m\u001b[1;32m    181\u001b[0m                 \u001b[0mnames\u001b[0m \u001b[0;34m=\u001b[0m \u001b[0;34m[\u001b[0m\u001b[0;34m'geom'\u001b[0m\u001b[0;34m,\u001b[0m \u001b[0;34m'material'\u001b[0m\u001b[0;34m,\u001b[0m \u001b[0;34m'texture'\u001b[0m\u001b[0;34m]\u001b[0m\u001b[0;34m\u001b[0m\u001b[0m\n\u001b[1;32m    182\u001b[0m \u001b[0;34m\u001b[0m\u001b[0m\n",
      "\u001b[0;32m~/workspace/marl/foundation/foundation/envs/multi_object_env.py\u001b[0m in \u001b[0;36mgen_object\u001b[0;34m(num)\u001b[0m\n\u001b[1;32m    108\u001b[0m \u001b[0;34m\u001b[0m\u001b[0m\n\u001b[1;32m    109\u001b[0m         \u001b[0mpos\u001b[0m \u001b[0;34m=\u001b[0m \u001b[0mnp\u001b[0m\u001b[0;34m.\u001b[0m\u001b[0mrandom\u001b[0m\u001b[0;34m.\u001b[0m\u001b[0mrandn\u001b[0m\u001b[0;34m(\u001b[0m\u001b[0mnum\u001b[0m\u001b[0;34m,\u001b[0m \u001b[0;36m3\u001b[0m\u001b[0;34m)\u001b[0m\u001b[0;34m\u001b[0m\u001b[0m\n\u001b[0;32m--> 110\u001b[0;31m         \u001b[0mpos\u001b[0m \u001b[0;34m*=\u001b[0m \u001b[0;36m0.05\u001b[0m \u001b[0;34m/\u001b[0m \u001b[0mnp\u001b[0m\u001b[0;34m.\u001b[0m\u001b[0msqrt\u001b[0m\u001b[0;34m(\u001b[0m\u001b[0;34m(\u001b[0m\u001b[0mpos\u001b[0m\u001b[0;34m**\u001b[0m\u001b[0;36m2\u001b[0m\u001b[0;34m)\u001b[0m\u001b[0;34m.\u001b[0m\u001b[0msum\u001b[0m\u001b[0;34m(\u001b[0m\u001b[0;34m-\u001b[0m\u001b[0;36m1\u001b[0m\u001b[0;34m,\u001b[0m\u001b[0mkeepdim\u001b[0m\u001b[0;34m=\u001b[0m\u001b[0;32mTrue\u001b[0m\u001b[0;34m)\u001b[0m\u001b[0;34m)\u001b[0m\u001b[0;34m\u001b[0m\u001b[0m\n\u001b[0m\u001b[1;32m    111\u001b[0m         \u001b[0mpos\u001b[0m \u001b[0;34m-=\u001b[0m \u001b[0mpos\u001b[0m\u001b[0;34m.\u001b[0m\u001b[0msum\u001b[0m\u001b[0;34m(\u001b[0m\u001b[0;36m0\u001b[0m\u001b[0;34m,\u001b[0m \u001b[0mkeepdim\u001b[0m\u001b[0;34m=\u001b[0m\u001b[0;32mTrue\u001b[0m\u001b[0;34m)\u001b[0m\u001b[0;34m\u001b[0m\u001b[0m\n\u001b[1;32m    112\u001b[0m \u001b[0;34m\u001b[0m\u001b[0m\n",
      "\u001b[0;31mTypeError\u001b[0m: _sum() got an unexpected keyword argument 'keepdim'"
     ]
    }
   ],
   "source": [
    "env = Multi_Object(mod_textures=False, create_on_reset=False)"
   ]
  },
  {
   "cell_type": "code",
   "execution_count": 3,
   "metadata": {},
   "outputs": [
    {
     "data": {
      "text/plain": [
       "array([-0.2036713 , -0.03400609,  0.33354101,  1.81999029,  0.24686241,\n",
       "        3.94912713, -0.16592767, -0.42673141,  0.12291111,  3.29956063,\n",
       "       -0.63158645,  0.04973475])"
      ]
     },
     "execution_count": 3,
     "metadata": {},
     "output_type": "execute_result"
    }
   ],
   "source": [
    "env.reset()"
   ]
  },
  {
   "cell_type": "code",
   "execution_count": null,
   "metadata": {
    "collapsed": true
   },
   "outputs": [],
   "source": [
    "#rgb, depth, lbl = env.render(160, 120, show_depth=True, show_label=True)\n",
    "rgb = env.render(160, 120)"
   ]
  },
  {
   "cell_type": "code",
   "execution_count": null,
   "metadata": {
    "collapsed": true
   },
   "outputs": [],
   "source": []
  },
  {
   "cell_type": "code",
   "execution_count": 43,
   "metadata": {
    "collapsed": true
   },
   "outputs": [],
   "source": [
    "model = load_model_from_path(path)\n",
    "sim = MjSim(model)"
   ]
  },
  {
   "cell_type": "code",
   "execution_count": 44,
   "metadata": {},
   "outputs": [
    {
     "name": "stdout",
     "output_type": "stream",
     "text": [
      "MjSimState(time=0.0, qpos=array([0., 0., 0., 0., 0., 0., 0., 0., 0., 0., 1., 0., 0., 0.]), qvel=array([0., 0., 0., 0., 0., 0., 0., 0., 0., 0., 0., 0., 0.]), act=None, udd_state={})\n"
     ]
    }
   ],
   "source": [
    "state = sim.get_state()\n",
    "print(state)"
   ]
  },
  {
   "cell_type": "code",
   "execution_count": 45,
   "metadata": {},
   "outputs": [
    {
     "ename": "SyntaxError",
     "evalue": "invalid syntax (<ipython-input-45-5ecfe182600d>, line 1)",
     "output_type": "error",
     "traceback": [
      "\u001b[0;36m  File \u001b[0;32m\"<ipython-input-45-5ecfe182600d>\"\u001b[0;36m, line \u001b[0;32m1\u001b[0m\n\u001b[0;31m    sim.\u001b[0m\n\u001b[0m        ^\u001b[0m\n\u001b[0;31mSyntaxError\u001b[0m\u001b[0;31m:\u001b[0m invalid syntax\n"
     ]
    }
   ],
   "source": [
    "sim."
   ]
  },
  {
   "cell_type": "code",
   "execution_count": 46,
   "metadata": {},
   "outputs": [
    {
     "data": {
      "text/plain": [
       "array([ 0.927482, -0.087656,  0.07406 , -0.355821])"
      ]
     },
     "execution_count": 46,
     "metadata": {},
     "output_type": "execute_result"
    }
   ],
   "source": [
    "quat = np.array([0.927482, -0.087656, 0.074060, -0.355821])\n",
    "quat"
   ]
  },
  {
   "cell_type": "code",
   "execution_count": 47,
   "metadata": {},
   "outputs": [
    {
     "data": {
      "text/plain": [
       "('gnd',\n",
       " 'base',\n",
       " 'geom15',\n",
       " 'target',\n",
       " 'geom50',\n",
       " 'geom51',\n",
       " 'geom53',\n",
       " 'geom54',\n",
       " 'l_forearm',\n",
       " 'geom57',\n",
       " 'geom59',\n",
       " 'sensor',\n",
       " 'geom60',\n",
       " 'bat',\n",
       " 'geom61',\n",
       " 'l_gripper_l_finger_tip',\n",
       " 'geom63',\n",
       " 'l_gripper_r_finger_tip',\n",
       " 'geom32',\n",
       " 'geom33',\n",
       " 'geom35',\n",
       " 'geom36',\n",
       " 'r_forearm',\n",
       " 'geom39',\n",
       " 'geom41',\n",
       " 'geom43',\n",
       " 'r_gripper_l_finger_tip',\n",
       " 'geom45',\n",
       " 'r_gripper_r_finger_tip',\n",
       " 'ball')"
      ]
     },
     "execution_count": 47,
     "metadata": {},
     "output_type": "execute_result"
    }
   ],
   "source": [
    "sim.model.geom_names"
   ]
  },
  {
   "cell_type": "code",
   "execution_count": 56,
   "metadata": {},
   "outputs": [
    {
     "data": {
      "text/plain": [
       "array([[0., 0., 0.],\n",
       "       [0., 0., 0.],\n",
       "       [0., 0., 0.],\n",
       "       [0., 0., 0.],\n",
       "       [0., 0., 0.],\n",
       "       [0., 0., 0.],\n",
       "       [0., 0., 0.],\n",
       "       [0., 0., 0.],\n",
       "       [0., 0., 0.],\n",
       "       [0., 0., 0.],\n",
       "       [0., 0., 0.],\n",
       "       [0., 0., 0.],\n",
       "       [0., 0., 0.],\n",
       "       [0., 0., 0.],\n",
       "       [0., 0., 0.],\n",
       "       [0., 0., 0.],\n",
       "       [0., 0., 0.],\n",
       "       [0., 0., 0.],\n",
       "       [0., 0., 0.],\n",
       "       [0., 0., 0.],\n",
       "       [0., 0., 0.],\n",
       "       [0., 0., 0.],\n",
       "       [0., 0., 0.],\n",
       "       [0., 0., 0.],\n",
       "       [0., 0., 0.],\n",
       "       [0., 0., 0.],\n",
       "       [0., 0., 0.],\n",
       "       [0., 0., 0.],\n",
       "       [0., 0., 0.],\n",
       "       [0., 0., 0.]])"
      ]
     },
     "execution_count": 56,
     "metadata": {},
     "output_type": "execute_result"
    }
   ],
   "source": [
    "sim.data.geom_xpos"
   ]
  },
  {
   "cell_type": "code",
   "execution_count": 38,
   "metadata": {},
   "outputs": [
    {
     "data": {
      "text/plain": [
       "(2, 12, 28)"
      ]
     },
     "execution_count": 38,
     "metadata": {},
     "output_type": "execute_result"
    }
   ],
   "source": [
    "sim.model.geom_name2id('geom15'), sim.model.geom_name2id('wc1'), sim.model.geom_name2id('ball')"
   ]
  },
  {
   "cell_type": "code",
   "execution_count": 31,
   "metadata": {},
   "outputs": [
    {
     "data": {
      "text/plain": [
       "array([1, 1, 1, 1, 0, 1, 0, 0], dtype=uint8)"
      ]
     },
     "execution_count": 31,
     "metadata": {},
     "output_type": "execute_result"
    }
   ],
   "source": [
    "sim.model.jnt_limited"
   ]
  },
  {
   "cell_type": "code",
   "execution_count": 19,
   "metadata": {},
   "outputs": [
    {
     "data": {
      "text/plain": [
       "array([[-0.714602,  2.285398],\n",
       "       [-0.5236  ,  1.3963  ],\n",
       "       [-0.8     ,  3.9     ],\n",
       "       [-2.3213  ,  0.      ],\n",
       "       [ 0.      ,  0.      ],\n",
       "       [-2.094   ,  0.      ],\n",
       "       [ 0.      ,  0.      ],\n",
       "       [ 0.      ,  0.      ]])"
      ]
     },
     "execution_count": 19,
     "metadata": {},
     "output_type": "execute_result"
    }
   ],
   "source": [
    "sim.model.jnt_range"
   ]
  },
  {
   "cell_type": "code",
   "execution_count": 27,
   "metadata": {},
   "outputs": [
    {
     "data": {
      "text/plain": [
       "(0, 0)"
      ]
     },
     "execution_count": 27,
     "metadata": {},
     "output_type": "execute_result"
    }
   ],
   "source": [
    "idx = 10\n",
    "sim.data.contact[idx].geom1, sim.data.contact[idx].geom2"
   ]
  },
  {
   "cell_type": "code",
   "execution_count": 47,
   "metadata": {
    "collapsed": true
   },
   "outputs": [],
   "source": [
    "state.qpos[:] += 1"
   ]
  },
  {
   "cell_type": "code",
   "execution_count": 48,
   "metadata": {},
   "outputs": [
    {
     "data": {
      "text/plain": [
       "array([0, 1, 1, 1, 1, 1, 1, 1, 1, 1, 1], dtype=uint8)"
      ]
     },
     "execution_count": 48,
     "metadata": {},
     "output_type": "execute_result"
    }
   ],
   "source": [
    "sim.model.jnt_limited"
   ]
  },
  {
   "cell_type": "code",
   "execution_count": 49,
   "metadata": {},
   "outputs": [
    {
     "data": {
      "text/plain": [
       "array([ 0,  7,  8,  9, 10, 11, 12, 13, 14, 15, 16], dtype=int32)"
      ]
     },
     "execution_count": 49,
     "metadata": {},
     "output_type": "execute_result"
    }
   ],
   "source": [
    "sim.model.jnt_qposadr"
   ]
  },
  {
   "cell_type": "code",
   "execution_count": 32,
   "metadata": {
    "collapsed": true
   },
   "outputs": [],
   "source": [
    "np.random.uniform?"
   ]
  },
  {
   "cell_type": "code",
   "execution_count": 34,
   "metadata": {},
   "outputs": [
    {
     "data": {
      "text/plain": [
       "array([[ 0.        ,  0.        ,  0.        , -1.74532925, -1.74532925],\n",
       "       [ 0.        ,  0.        ,  0.        ,  1.74532925,  1.74532925]])"
      ]
     },
     "execution_count": 34,
     "metadata": {},
     "output_type": "execute_result"
    }
   ],
   "source": [
    "sim.model.jnt_range.T"
   ]
  },
  {
   "cell_type": "code",
   "execution_count": 24,
   "metadata": {},
   "outputs": [
    {
     "data": {
      "text/plain": [
       "array([0., 0.])"
      ]
     },
     "execution_count": 24,
     "metadata": {},
     "output_type": "execute_result"
    }
   ],
   "source": [
    "sim.data."
   ]
  },
  {
   "cell_type": "code",
   "execution_count": 7,
   "metadata": {
    "collapsed": true
   },
   "outputs": [],
   "source": [
    "cls = [(247, 21, 12), (75, 11, 214), (0, 226, 237), (87,214,11), (247, 178, 18)]\n",
    "cls = [(233,218,193), (0,163,215), (167,39,39), (102,145,61), (101,74,140), (237,210,33)]\n",
    "cls = [np.array(c)/255 for c in cls]"
   ]
  },
  {
   "cell_type": "code",
   "execution_count": 8,
   "metadata": {},
   "outputs": [
    {
     "name": "stdout",
     "output_type": "stream",
     "text": [
      "0.91 0.85 0.76 1\n",
      "0.00 0.64 0.84 1\n",
      "0.65 0.15 0.15 1\n",
      "0.40 0.57 0.24 1\n",
      "0.40 0.29 0.55 1\n",
      "0.93 0.82 0.13 1\n"
     ]
    }
   ],
   "source": [
    "for c in cls:\n",
    "    print('{:.2f} {:.2f} {:.2f} 1'.format(*c))"
   ]
  },
  {
   "cell_type": "code",
   "execution_count": 6,
   "metadata": {
    "collapsed": true
   },
   "outputs": [],
   "source": [
    "np.searchsorted?"
   ]
  },
  {
   "cell_type": "code",
   "execution_count": null,
   "metadata": {
    "collapsed": true
   },
   "outputs": [],
   "source": []
  }
 ],
 "metadata": {
  "kernelspec": {
   "display_name": "Python 3",
   "language": "python",
   "name": "python3"
  },
  "language_info": {
   "codemirror_mode": {
    "name": "ipython",
    "version": 3
   },
   "file_extension": ".py",
   "mimetype": "text/x-python",
   "name": "python",
   "nbconvert_exporter": "python",
   "pygments_lexer": "ipython3",
   "version": "3.6.3"
  }
 },
 "nbformat": 4,
 "nbformat_minor": 2
}
