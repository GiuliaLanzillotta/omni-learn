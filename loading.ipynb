{
 "cells": [
  {
   "cell_type": "code",
   "execution_count": 1,
   "metadata": {},
   "outputs": [
    {
     "name": "stdout",
     "output_type": "stream",
     "text": [
      "WARNING: failed to import Ranger optimizer\n"
     ]
    },
    {
     "name": "stderr",
     "output_type": "stream",
     "text": [
      "WARNING:omnifig.organization: A modifier blurred has already been registered in None, now overwriting\n",
      "WARNING:omnifig.organization: A component nonlin has already been registered in None, now overwriting\n",
      "WARNING:omnifig.organization: A component normalization has already been registered in None, now overwriting\n"
     ]
    },
    {
     "name": "stdout",
     "output_type": "stream",
     "text": [
      "WARNING: failed to import legacy models\n"
     ]
    }
   ],
   "source": [
    "import sys, os\n",
    "import yaml, json, io\n",
    "import omnifig as fig\n",
    "\n",
    "from datetime import datetime\n",
    "\n",
    "import torch\n",
    "from foundation import util\n",
    "\n",
    "import numpy as np\n",
    "from scipy.spatial.distance import pdist, squareform\n",
    "\n",
    "torch.set_printoptions(linewidth=120)\n",
    "\n",
    "fig.initialize('foundation', 'mnist')"
   ]
  },
  {
   "cell_type": "code",
   "execution_count": 2,
   "metadata": {
    "scrolled": true
   },
   "outputs": [
    {
     "name": "stdout",
     "output_type": "stream",
     "text": [
      "| [Pushed] run._type: 'run'\n",
      "| CREATING run (type=run)\n",
      "|  > silent: False (by default)\n",
      "|  > invisible: False (by default)\n",
      "|  > path: 'test-pycharm_210101-205647'\n",
      "|  > [Pushed] novel: False\n",
      "|  > override: {} (by default)\n",
      "|  > saveroot --> root: 'C:\\\\Users\\\\anwan\\\\Documents\\\\workspace\\\\trained_nets' (by default)\n",
      "Loading Config: C:\\Users\\anwan\\Documents\\workspace\\trained_nets\\test-pycharm_210101-205647\\config.yaml\n",
      "|  > ckpt-num: None (by default)\n",
      "|  > best: False (by default)\n",
      "|  > last: True (by default)\n",
      "|  > [Pushed] dataset._load-ckpt: 'C:\\\\Users\\\\anwan\\\\Documents\\\\workspace\\\\trained_nets\\\\test-pycharm_210101-205647\\\\ckpt2000'\n",
      "|  > [Pushed] model._load-ckpt: 'C:\\\\Users\\\\anwan\\\\Documents\\\\workspace\\\\trained_nets\\\\test-pycharm_210101-205647\\\\ckpt2000'\n",
      "|  > [Pushed] records._load-ckpt: 'C:\\\\Users\\\\anwan\\\\Documents\\\\workspace\\\\trained_nets\\\\test-pycharm_210101-205647\\\\ckpt2000'\n",
      "|  > CREATING clock (type=clock)\n",
      "|  >  > CREATING .stats (type=stats-manager)\n",
      "|  >  >  > stat-collection-fmts: {} (by default)\n",
      "|  >  >  > reset-modes [list with 2 item/s]\n",
      "|  >  >  >  > (0): 'val'\n",
      "|  >  >  >  > (1): 'test'\n",
      "|  >  >  > mode: 'train' (by default)\n",
      "|  >  >  > meter-info: [<class 'omnifig.config.ConfigDict'>]\n",
      "|  >  > stats-fmt: None (by default)\n",
      "|  >  > smooth-tau --> tau: 1\n",
      "|  >  > limit: None (by default)\n",
      "|  >  > timed-fmt: 'time-{}' (by default)\n",
      "|  > CREATING records (type=records)\n",
      "|  >  > include_zero: False (by default)\n",
      "|  >  > freq: 100\n",
      "|  >  > mode: 'train' (by default)\n",
      "|  >  > .seed: 0\n",
      "|  >  > _history: None (by default)\n",
      "|  >  > REUSING .stats (type=stats-manager): id=0x16a54694438\n",
      "|  >  > CREATING .logger (type=logger)\n",
      "|  >  >  > log_dir --> .path: 'C:\\\\Users\\\\anwan\\\\Documents\\\\workspace\\\\trained_nets\\\\test-pycharm_210101-205647'\n",
      "|  >  >  > tensorboard: True\n",
      "|  >  >  > txt: False (by default)\n",
      "|  >  >  > logfile: None (by default)\n",
      "|  >  >  > kwargs: {} (by default)\n",
      "|  >  > use_log_fmts: True (by default)\n",
      "|  >  > stats_format: 'json' (by default)\n",
      "|  >  > info_format: 'yaml' (by default)\n",
      "|  >  > log-smooth: True (by default)\n"
     ]
    },
    {
     "data": {
      "text/plain": [
       "RUN:test-pycharm_210101-205647"
      ]
     },
     "execution_count": 2,
     "metadata": {},
     "output_type": "execute_result"
    }
   ],
   "source": [
    "name = 'test-pycharm_210101-205647'\n",
    "# name = 'test-cmd_200816-180714'\n",
    "\n",
    "\n",
    "run = fig.quick_run('load-run', path=name)\n",
    "run"
   ]
  },
  {
   "cell_type": "code",
   "execution_count": 3,
   "metadata": {},
   "outputs": [
    {
     "name": "stdout",
     "output_type": "stream",
     "text": [
      "| CREATING .model (type=model)\n",
      "|  > _model_mod: [] (by default)\n",
      "|  > .seed: 0\n",
      "|  > CREATING . (type=simple)\n",
      "|  >  > CREATING net (type=multilayer)\n",
      "|  >  >  > final_din --> ..din [list with 3 item/s]\n",
      "|  >  >  >  > (0): 1\n",
      "|  >  >  >  > (1): 32\n",
      "|  >  >  >  > (2): 32\n",
      "|  >  >  > final_dout --> ..dout: 10\n",
      "|  >  >  > in_order: True (by default)\n",
      "|  >  >  > force_iter: True (by default)\n",
      "|  >  >  > ITERATOR layers [list with 4 item/s]\n",
      "|  >  >  > CREATING 0 (type=conv-layer)\n",
      "|  >  >  >  > in_shape --> din: (1, 32, 32)\n",
      "|  >  >  >  > ..channels: 32\n",
      "|  >  >  >  > out_shape --> dout: None\n",
      "|  >  >  >  > ..down: 2\n",
      "|  >  >  >  > pool: None (by default)\n",
      "|  >  >  >  > kernel_size --> kernel: (3, 3) (by default)\n",
      "|  >  >  >  > padding: 1 (by default)\n",
      "|  >  >  >  > dilation: (1, 1) (by default)\n",
      "|  >  >  >  > stride: (2, 2) (by default)\n",
      "|  >  >  >  > ...norm: None\n",
      "|  >  >  >  > ..nonlin: 'elu'\n",
      "|  >  >  >  > conv_kwargs: {} (by default)\n",
      "|  >  >  >  > residual: False (by default)\n",
      "|  >  >  >  > force_res: False (by default)\n",
      "|  >  >  >  > print_dims: False (by default)\n",
      "|  >  >  > CREATING .1 (type=conv-layer)\n",
      "|  >  >  >  > in_shape --> din: (32, 16, 16)\n",
      "|  >  >  >  > ..channels: 32\n",
      "|  >  >  >  > out_shape --> dout: None\n",
      "|  >  >  >  > ..down: 2\n",
      "|  >  >  >  > pool: None (by default)\n",
      "|  >  >  >  > kernel_size --> kernel: (3, 3) (by default)\n",
      "|  >  >  >  > padding: 1 (by default)\n",
      "|  >  >  >  > dilation: (1, 1) (by default)\n",
      "|  >  >  >  > stride: (2, 2) (by default)\n",
      "|  >  >  >  > ...norm: None\n",
      "|  >  >  >  > ..nonlin: 'elu'\n",
      "|  >  >  >  > conv_kwargs: {} (by default)\n",
      "|  >  >  >  > residual: False (by default)\n",
      "|  >  >  >  > force_res: False (by default)\n",
      "|  >  >  >  > print_dims: False (by default)\n",
      "|  >  >  > CREATING .2 (type=conv-layer)\n",
      "|  >  >  >  > in_shape --> din: (32, 8, 8)\n",
      "|  >  >  >  > ..channels: 32\n",
      "|  >  >  >  > out_shape --> dout: None\n",
      "|  >  >  >  > ..down: 2\n",
      "|  >  >  >  > pool: None (by default)\n",
      "|  >  >  >  > kernel_size --> kernel: (3, 3) (by default)\n",
      "|  >  >  >  > padding: 1 (by default)\n",
      "|  >  >  >  > dilation: (1, 1) (by default)\n",
      "|  >  >  >  > stride: (2, 2) (by default)\n",
      "|  >  >  >  > ...norm: None\n",
      "|  >  >  >  > ..nonlin: 'elu'\n",
      "|  >  >  >  > conv_kwargs: {} (by default)\n",
      "|  >  >  >  > residual: False (by default)\n",
      "|  >  >  >  > force_res: False (by default)\n",
      "|  >  >  >  > print_dims: False (by default)\n",
      "|  >  >  > CREATING .3 (type=conv-layer)\n",
      "|  >  >  >  > in_shape --> din: (32, 4, 4)\n",
      "|  >  >  >  > ..channels: 32\n",
      "|  >  >  >  > out_shape --> dout: None\n",
      "|  >  >  >  > ..down: 2\n",
      "|  >  >  >  > pool: None (by default)\n",
      "|  >  >  >  > kernel_size --> kernel: (3, 3) (by default)\n",
      "|  >  >  >  > padding: 1 (by default)\n",
      "|  >  >  >  > dilation: (1, 1) (by default)\n",
      "|  >  >  >  > stride: (2, 2) (by default)\n",
      "|  >  >  >  > ...norm: None\n",
      "|  >  >  >  > ..nonlin: 'elu'\n",
      "|  >  >  >  > conv_kwargs: {} (by default)\n",
      "|  >  >  >  > residual: False (by default)\n",
      "|  >  >  >  > force_res: False (by default)\n",
      "|  >  >  >  > print_dims: False (by default)\n",
      "|  >  >  > CREATING last (type=mlp)\n",
      "|  >  >  >  > input_dim --> din: (32, 2, 2)\n",
      "|  >  >  >  > output_dim --> dout: 10\n",
      "|  >  >  >  > hidden_dims --> hidden_fc --> hidden [list with 2 item/s]\n",
      "|  >  >  >  >  > (0): 64\n",
      "|  >  >  >  >  > (1): 32\n",
      "|  >  >  >  > .nonlin: 'elu'\n",
      "|  >  >  >  > output_nonlin --> out_nonlin: None (by default)\n",
      "|  >  >  >  > logify: False (by default)\n",
      "|  >  >  >  > unlogify: False (by default)\n",
      "|  >  >  >  > bias: True (by default)\n",
      "|  >  >  >  > output_bias --> out_bias: None (by default)\n",
      "|  >  > criterion: 'cross-entropy' (by default)\n",
      "|  >  > .seed: 0\n",
      "|  >  > strict_load_state: True (by default)\n",
      "|  >  > optim-metric: 'loss' (by default)\n",
      "|  >  > REUSING .stats (type=stats-manager): id=0x16a54694438\n",
      "|  >  > stats-fmt: None (by default)\n",
      "|  >  > smooth-tau --> tau: None (by default)\n",
      "|  >  > mode: 'train' (by default)\n",
      "|  >  > .din [list with 3 item/s]\n",
      "|  >  >  > (0): 1\n",
      "|  >  >  > (1): 32\n",
      "|  >  >  > (2): 32\n",
      "|  >  > .dout: 10\n",
      "|  >  > .device: 'cuda'\n",
      "|  > CREATING optim (type=adam)\n",
      "|  >  > CREATING lr (type=scheduler/cos)\n",
      "|  >  >  > trig: 'cos' (by default)\n",
      "|  >  >  > half-periods: 1 (by default)\n",
      "|  >  >  > value: 0.01\n",
      "|  >  >  > as-int: False (by default)\n",
      "|  >  >  > _ident --> __origin_key: 'lr'\n",
      "|  >  >  > include_zero: False\n",
      "|  >  >  > freq: 100\n",
      "|  >  >  > REUSING ...clock (type=clock): id=0x16a5468cbc8\n",
      "|  >  >  > start: 0 (by default)\n",
      "|  >  >  > stop: None (by default)\n",
      "|  >  >  > end_val --> end: 0.0001\n",
      "|  >  >  > limit --> ...budget: 2000\n",
      "|  >  >  > skew: 0.5\n",
      "|  >  >  > constrain-progress: False (by default)\n",
      "|  >  > beta1: 0.9 (by default)\n",
      "|  >  > beta2: 0.999 (by default)\n",
      "|  >  > eps: 1e-08 (by default)\n",
      "|  >  > weight_decay: 0.0001\n",
      "|  >  > amsgrad: False (by default)\n",
      "Simple_Model(\n",
      "  (net): MultiLayer(\n",
      "    (layers): ModuleList(\n",
      "      (0): ConvLayer(\n",
      "        residual=False\n",
      "        (conv): Conv2d(1, 32, kernel_size=(3, 3), stride=(2, 2), padding=(1, 1))\n",
      "        (nonlin): ELU(alpha=1.0, inplace=True)\n",
      "      )\n",
      "      (1): ConvLayer(\n",
      "        residual=False\n",
      "        (conv): Conv2d(32, 32, kernel_size=(3, 3), stride=(2, 2), padding=(1, 1))\n",
      "        (nonlin): ELU(alpha=1.0, inplace=True)\n",
      "      )\n",
      "      (2): ConvLayer(\n",
      "        residual=False\n",
      "        (conv): Conv2d(32, 32, kernel_size=(3, 3), stride=(2, 2), padding=(1, 1))\n",
      "        (nonlin): ELU(alpha=1.0, inplace=True)\n",
      "      )\n",
      "      (3): ConvLayer(\n",
      "        residual=False\n",
      "        (conv): Conv2d(32, 32, kernel_size=(3, 3), stride=(2, 2), padding=(1, 1))\n",
      "        (nonlin): ELU(alpha=1.0, inplace=True)\n",
      "      )\n",
      "      (4): MLP(\n",
      "        (0): Flatten(start_dim=1, end_dim=-1)\n",
      "        (1): Linear(in_features=128, out_features=64, bias=True)\n",
      "        (2): ELU(alpha=1.0, inplace=True)\n",
      "        (3): Linear(in_features=64, out_features=32, bias=True)\n",
      "        (4): ELU(alpha=1.0, inplace=True)\n",
      "        (5): Linear(in_features=32, out_features=10, bias=True)\n",
      "      )\n",
      "    )\n",
      "  )\n",
      "  (criterion): CrossEntropyLoss()\n",
      ")\n",
      "Adam (\n",
      "Parameter Group 0\n",
      "    amsgrad: False\n",
      "    betas: (0.9, 0.999)\n",
      "    eps: 1e-08\n",
      "    lr: 0.01\n",
      "    weight_decay: 0.0001\n",
      ")\n",
      "|  > _load-ckpt: 'C:\\\\Users\\\\anwan\\\\Documents\\\\workspace\\\\trained_nets\\\\test-pycharm_210101-205647\\\\ckpt2000'\n",
      "Loaded parameters from C:\\Users\\anwan\\Documents\\workspace\\trained_nets\\test-pycharm_210101-205647\\ckpt2000\n"
     ]
    },
    {
     "data": {
      "text/plain": [
       "Simple_Model(\n",
       "  (net): MultiLayer(\n",
       "    (layers): ModuleList(\n",
       "      (0): ConvLayer(\n",
       "        residual=False\n",
       "        (conv): Conv2d(1, 32, kernel_size=(3, 3), stride=(2, 2), padding=(1, 1))\n",
       "        (nonlin): ELU(alpha=1.0, inplace=True)\n",
       "      )\n",
       "      (1): ConvLayer(\n",
       "        residual=False\n",
       "        (conv): Conv2d(32, 32, kernel_size=(3, 3), stride=(2, 2), padding=(1, 1))\n",
       "        (nonlin): ELU(alpha=1.0, inplace=True)\n",
       "      )\n",
       "      (2): ConvLayer(\n",
       "        residual=False\n",
       "        (conv): Conv2d(32, 32, kernel_size=(3, 3), stride=(2, 2), padding=(1, 1))\n",
       "        (nonlin): ELU(alpha=1.0, inplace=True)\n",
       "      )\n",
       "      (3): ConvLayer(\n",
       "        residual=False\n",
       "        (conv): Conv2d(32, 32, kernel_size=(3, 3), stride=(2, 2), padding=(1, 1))\n",
       "        (nonlin): ELU(alpha=1.0, inplace=True)\n",
       "      )\n",
       "      (4): MLP(\n",
       "        (0): Flatten(start_dim=1, end_dim=-1)\n",
       "        (1): Linear(in_features=128, out_features=64, bias=True)\n",
       "        (2): ELU(alpha=1.0, inplace=True)\n",
       "        (3): Linear(in_features=64, out_features=32, bias=True)\n",
       "        (4): ELU(alpha=1.0, inplace=True)\n",
       "        (5): Linear(in_features=32, out_features=10, bias=True)\n",
       "      )\n",
       "    )\n",
       "  )\n",
       "  (criterion): CrossEntropyLoss()\n",
       ")"
      ]
     },
     "execution_count": 3,
     "metadata": {},
     "output_type": "execute_result"
    }
   ],
   "source": [
    "model = run.get_model()\n",
    "model"
   ]
  },
  {
   "cell_type": "code",
   "execution_count": 4,
   "metadata": {
    "scrolled": true
   },
   "outputs": [
    {
     "name": "stdout",
     "output_type": "stream",
     "text": [
      "| CREATING ...dataset (type=dataset)\n",
      "|  > [Pushed] dataroot: 'C:\\\\Users\\\\anwan\\\\Documents\\\\workspace\\\\local_data'\n",
      "|  > .num_workers: 0\n",
      "|  > batch_size: 128\n",
      "|  > shuffle: True\n",
      "|  > drop_last: False\n",
      "|  > .step_device --> .device: 'cuda'\n",
      "|  > infinite: False (by default)\n",
      "|  > extractor: None (by default)\n",
      "|  > allow_batched: True (by default)\n",
      "|  > split [dict with 1 item/s]\n",
      "|  >  > (val): 0.1666666\n",
      "|  > shuffle-split: True (by default)\n",
      "|  > split-src: 'train' (by default)\n",
      "|  > _dataset_type --> ident --> name: 'mnist'\n",
      "|  > _dataset_mod: [] (by default)\n",
      "|  > default_mode --> mode: 'train' (by default)\n",
      "|  > .seed: 0\n",
      "|  > .din [list with 3 item/s]\n",
      "|  >  > (0): 1\n",
      "|  >  > (1): 32\n",
      "|  >  > (2): 32\n",
      "|  > .dout: 10\n",
      "|  > mode: 'train'\n",
      "|  > device: 'cpu'\n",
      "|  > pin_memory: True (by default)\n",
      "|  > epoch_seed --> .seed: 0\n",
      "|  > skip_load: False (by default)\n",
      "|  > CREATING . (type=dataset/mnist)\n",
      "|  >  > dataroot: 'C:\\\\Users\\\\anwan\\\\Documents\\\\workspace\\\\local_data'\n",
      "|  >  > download: False\n",
      "|  >  > mode: 'train'\n",
      "|  >  > train: True (by default)\n",
      "|  >  > labeled: True\n",
      "|  >  > resize: True (by default)\n",
      "|  >  > device: 'cpu'\n",
      "|  >  > dataroot: 'C:\\\\Users\\\\anwan\\\\Documents\\\\workspace\\\\local_data'\n",
      "|  >  > .din [list with 3 item/s]\n",
      "|  >  >  > (0): 1\n",
      "|  >  >  > (1): 32\n",
      "|  >  >  > (2): 32\n",
      "|  >  > .dout: 10\n"
     ]
    },
    {
     "name": "stderr",
     "output_type": "stream",
     "text": [
      "C:\\Users\\anwan\\anaconda3\\lib\\site-packages\\torch\\nn\\functional.py:3063: UserWarning: Default upsampling behavior when mode=bilinear is changed to align_corners=False since 0.4.0. Please specify align_corners=True if the old behavior is desired. See the documentation of nn.Upsample for details.\n",
      "  \"See the documentation of nn.Upsample for details.\".format(mode))\n"
     ]
    }
   ],
   "source": [
    "dataset = run.get_dataset()\n",
    "dataset.switch_to('val')"
   ]
  },
  {
   "cell_type": "code",
   "execution_count": 5,
   "metadata": {},
   "outputs": [
    {
     "data": {
      "text/plain": [
       "10000"
      ]
     },
     "execution_count": 5,
     "metadata": {},
     "output_type": "execute_result"
    }
   ],
   "source": [
    "len(dataset)"
   ]
  },
  {
   "cell_type": "code",
   "execution_count": 8,
   "metadata": {},
   "outputs": [
    {
     "data": {
      "text/plain": [
       "'cuda'"
      ]
     },
     "execution_count": 8,
     "metadata": {},
     "output_type": "execute_result"
    }
   ],
   "source": [
    "batch = dataset.get_batch(device='cuda', batch_size=16)\n",
    "batch.device"
   ]
  },
  {
   "cell_type": "code",
   "execution_count": 9,
   "metadata": {},
   "outputs": [
    {
     "data": {
      "text/plain": [
       "(torch.Size([16, 1, 32, 32]), torch.Size([16]))"
      ]
     },
     "execution_count": 9,
     "metadata": {},
     "output_type": "execute_result"
    }
   ],
   "source": [
    "x,y = batch\n",
    "# x, y = dataset[:16]\n",
    "x.shape,y.shape"
   ]
  },
  {
   "cell_type": "code",
   "execution_count": 10,
   "metadata": {},
   "outputs": [
    {
     "data": {
      "image/png": "[encoded data removed]",
      "text/plain": [
       "<Figure size 288x288 with 16 Axes>"
      ]
     },
     "metadata": {
      "needs_background": "light"
     },
     "output_type": "display_data"
    }
   ],
   "source": [
    "util.show_imgs(x)\n",
    "pass"
   ]
  },
  {
   "cell_type": "code",
   "execution_count": 11,
   "metadata": {},
   "outputs": [
    {
     "data": {
      "text/plain": [
       "tensor([[ -1.5337,  14.5919,  -0.8643,  -2.2334,   2.3280,  -1.1418,  -0.8762,  -0.0673,   0.0700,  -0.0286],\n",
       "        [  3.0704,   1.9342,  -7.3945,  -5.7670,   0.5566,   3.7781,  15.4643,  -6.8459,  -0.9463,  -6.0409],\n",
       "        [ -1.1086,  -1.5420,  -0.0260,   1.9066,  -0.2900,   0.2199,  -1.5803,  -2.4479,  11.0436,   0.0834],\n",
       "        [ -1.1137,  -1.6419,   2.7132,   1.0800,  -0.6695,  -2.6145,  -5.7460,   7.2278,  -1.5436,  -0.2688],\n",
       "        [ -1.4902,  10.8545,  -0.7298,  -1.0958,   2.6491,  -1.0535,  -2.6165,   1.9898,  -0.0337,   1.2376],\n",
       "        [ -7.9291,  -1.2377,  -2.2548,  -3.3297,  14.8150,  -2.7614,  -0.9944,  -1.8165,   1.2048,   0.4605],\n",
       "        [ -0.8785,  -2.2396,  12.8958,   2.6297,  -0.3582,  -2.0306,  -4.1083,   4.1778,   1.0328,  -2.8605],\n",
       "        [ -3.0447,  -3.1920,  -0.4444,  -2.5937,   7.0884,  -1.0311,  -0.6881,  -1.6629,  -1.8014,   1.6009],\n",
       "        [-11.6971,  -1.1610,  -3.3830,  17.8660, -10.9078,   4.3356, -15.1093,   0.0547,  -5.8431,  -1.4804],\n",
       "        [  1.2297,   1.3221,  -6.3590,  -5.4349,   0.2330,   3.7613,  13.4202,  -6.5964,   1.1059,  -6.1045],\n",
       "        [ -5.8383,  -6.8603,  -5.5987,   1.0268,   0.4485,  -2.2802, -10.7207,  -1.0735,  -1.5648,  11.2754],\n",
       "        [ -3.0765,  -0.5638,  -1.9559,   4.5281,  -0.8522,  -6.2703, -14.5695,  18.6836,  -5.0245,   4.6887],\n",
       "        [ -6.1803,  -8.2251,  -6.8716,   1.3612,  -0.5377,  -1.8427, -11.8750,  -1.3682,  -3.0126,  12.4998],\n",
       "        [ -2.0561,  -0.5018,  -2.1254,   3.3219,  -0.2965,  -4.9548, -11.8655,  15.0695,  -4.7489,   3.5328],\n",
       "        [ -5.5049,  -7.3718,  -5.1350,   0.9287,   0.4724,  -1.9749, -10.3345,  -1.7609,  -1.6993,  10.6204],\n",
       "        [  7.4182,  -6.9639,  -1.1469,  -0.5727,  -0.6096,   0.2203,   1.6822,  -4.3689,   1.0260,   0.8948]],\n",
       "       device='cuda:0')"
      ]
     },
     "execution_count": 11,
     "metadata": {},
     "output_type": "execute_result"
    }
   ],
   "source": [
    "with torch.no_grad():\n",
    "    pred = model(x)\n",
    "pred"
   ]
  },
  {
   "cell_type": "code",
   "execution_count": 13,
   "metadata": {},
   "outputs": [
    {
     "data": {
      "text/plain": [
       "tensor([1, 6, 8, 7, 1, 4, 2, 4, 3, 6, 9, 7, 9, 7, 9, 0], device='cuda:0')"
      ]
     },
     "execution_count": 13,
     "metadata": {},
     "output_type": "execute_result"
    }
   ],
   "source": [
    "pred.max(-1)[1]"
   ]
  },
  {
   "cell_type": "code",
   "execution_count": null,
   "metadata": {},
   "outputs": [],
   "source": []
  },
  {
   "cell_type": "code",
   "execution_count": null,
   "metadata": {},
   "outputs": [],
   "source": []
  },
  {
   "cell_type": "code",
   "execution_count": null,
   "metadata": {},
   "outputs": [],
   "source": []
  },
  {
   "cell_type": "code",
   "execution_count": null,
   "metadata": {},
   "outputs": [],
   "source": []
  }
 ],
 "metadata": {
  "kernelspec": {
   "display_name": "Python 3",
   "language": "python",
   "name": "python3"
  },
  "language_info": {
   "codemirror_mode": {
    "name": "ipython",
    "version": 3
   },
   "file_extension": ".py",
   "mimetype": "text/x-python",
   "name": "python",
   "nbconvert_exporter": "python",
   "pygments_lexer": "ipython3",
   "version": "3.7.6"
  }
 },
 "nbformat": 4,
 "nbformat_minor": 4
}
