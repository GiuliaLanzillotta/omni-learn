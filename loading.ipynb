{
 "cells": [
  {
   "cell_type": "code",
   "execution_count": 3,
   "metadata": {},
   "outputs": [
    {
     "name": "stderr",
     "output_type": "stream",
     "text": [
      "WARNING:omnifig.external: A config with name debug has already been registered, now overwriting\n"
     ]
    },
    {
     "name": "stdout",
     "output_type": "stream",
     "text": [
      "WARNING: failed to import legacy models\n"
     ]
    }
   ],
   "source": [
    "import sys, os\n",
    "import yaml, json, io\n",
    "import omnifig as fig\n",
    "\n",
    "from datetime import datetime\n",
    "\n",
    "import torch\n",
    "from foundation import util\n",
    "\n",
    "import numpy as np\n",
    "from scipy.spatial.distance import pdist, squareform\n",
    "\n",
    "torch.set_printoptions(linewidth=120)\n",
    "\n",
    "fig.initialize('foundation', 'mnist')"
   ]
  },
  {
   "cell_type": "code",
   "execution_count": 4,
   "metadata": {},
   "outputs": [
    {
     "name": "stdout",
     "output_type": "stream",
     "text": [
      "| records [dict with 0 item/s]\n",
      "| silent: False (by default)\n",
      "| skip_run_load: False (by default)\n",
      "| last: False (by default)\n",
      "| load: None (by default)\n",
      "| resume --> path: 'test-cmd_200816-180714'\n",
      "| [Pushed] novel: False\n",
      "| override [dict with 0 item/s]\n",
      "| extend: None (by default)\n",
      "Loading Config: test-cmd_200816-180714\n",
      "| [Pushed] model._load_params: 'C:\\\\Users\\\\anwan\\\\Documents\\\\workspace\\\\trained_nets\\\\test-cmd_200816-180714\\\\ckpt-model_3910.pth.tar'\n",
      "| .name: 'test-cmd'\n",
      "| invisible: False (by default)\n",
      "| output.logdate: True\n",
      "| [Pushed] output.save_dir: 'test-cmd_200816-180714'\n",
      "| saveroot: 'C:\\\\Users\\\\anwan\\\\Documents\\\\workspace\\\\trained_nets' (by default)\n"
     ]
    },
    {
     "data": {
      "text/plain": [
       "Run(test-cmd_200816-180714)"
      ]
     },
     "execution_count": 4,
     "metadata": {},
     "output_type": "execute_result"
    }
   ],
   "source": [
    "name = 'test-pycharm_200815-231453'\n",
    "name = 'test-cmd_200816-180714'\n",
    "\n",
    "\n",
    "run = fig.quick_run('load_run', path=name)\n",
    "run"
   ]
  },
  {
   "cell_type": "code",
   "execution_count": 5,
   "metadata": {},
   "outputs": [
    {
     "name": "stdout",
     "output_type": "stream",
     "text": [
      "| .seed: 0\n",
      "| CREATING model (type=simple)\n",
      "|  > CREATING net (type=conv)\n",
      "|  >  > in_shape --> ..din [list with 3 item/s]\n",
      "|  >  >  > (0): 1\n",
      "|  >  >  > (1): 32\n",
      "|  >  >  > (2): 32\n",
      "|  >  > latent_dim --> ..dout: 10\n",
      "|  >  > feature_dim: None (by default)\n",
      "|  >  > .nonlin: 'elu'\n",
      "|  >  > output_nonlin: None (by default)\n",
      "|  >  > residual: False (by default)\n",
      "|  >  > channels [list with 4 item/s]\n",
      "|  >  >  > (0): 32\n",
      "|  >  >  > (1): 32\n",
      "|  >  >  > (2): 32\n",
      "|  >  >  > (3): 32\n",
      "|  >  > kernels: 3 (by default)\n",
      "|  >  > strides: 1\n",
      "|  >  > factors: 2 (by default)\n",
      "|  >  > down: 'max' (by default)\n",
      "|  >  > .norm: None\n",
      "|  >  > output_norm: None (by default)\n",
      "|  >  > fc_hidden [list with 2 item/s]\n",
      "|  >  >  > (0): 64\n",
      "|  >  >  > (1): 32\n",
      "|  > criterion: 'cross-entropy' (by default)\n",
      "| optim_type: 'adam'\n",
      "| lr: 0.001\n",
      "| weight_decay: 0.0001\n",
      "| momentum: 0\n",
      "| beta1: 0.9\n",
      "| beta2: 0.999\n",
      "| .device: 'cuda'\n",
      "| _load_params: 'C:\\\\Users\\\\anwan\\\\Documents\\\\workspace\\\\trained_nets\\\\test-cmd_200816-180714\\\\ckpt-model_3910.pth.tar'\n",
      "| load_optim_params: True (by default)\n",
      "| strict_load_state: True (by default)\n",
      "Loaded parameters from C:\\Users\\anwan\\Documents\\workspace\\trained_nets\\test-cmd_200816-180714\\ckpt-model_3910.pth.tar\n",
      "| store_keys [list with 0 item/s]\n"
     ]
    },
    {
     "data": {
      "text/plain": [
       "Simple_Model(\n",
       "  (net): Auto_Conv_Encoder(\n",
       "    (conv): Sequential(\n",
       "      (0): ConvLayer(\n",
       "        residual=False\n",
       "        (conv): Conv2d(1, 32, kernel_size=(3, 3), stride=(1, 1), padding=(1, 1))\n",
       "        (pool): MaxPool2d(kernel_size=(2, 2), stride=(2, 2), padding=0, dilation=1, ceil_mode=False)\n",
       "        (nonlin): ELU(alpha=1.0, inplace=True)\n",
       "      )\n",
       "      (1): ConvLayer(\n",
       "        residual=False\n",
       "        (conv): Conv2d(32, 32, kernel_size=(3, 3), stride=(1, 1), padding=(1, 1))\n",
       "        (pool): MaxPool2d(kernel_size=(2, 2), stride=(2, 2), padding=0, dilation=1, ceil_mode=False)\n",
       "        (nonlin): ELU(alpha=1.0, inplace=True)\n",
       "      )\n",
       "      (2): ConvLayer(\n",
       "        residual=False\n",
       "        (conv): Conv2d(32, 32, kernel_size=(3, 3), stride=(1, 1), padding=(1, 1))\n",
       "        (pool): MaxPool2d(kernel_size=(2, 2), stride=(2, 2), padding=0, dilation=1, ceil_mode=False)\n",
       "        (nonlin): ELU(alpha=1.0, inplace=True)\n",
       "      )\n",
       "      (3): ConvLayer(\n",
       "        residual=False\n",
       "        (conv): Conv2d(32, 32, kernel_size=(3, 3), stride=(1, 1), padding=(1, 1))\n",
       "        (pool): MaxPool2d(kernel_size=(2, 2), stride=(2, 2), padding=0, dilation=1, ceil_mode=False)\n",
       "        (nonlin): ELU(alpha=1.0, inplace=True)\n",
       "      )\n",
       "    )\n",
       "    (fc): Sequential(\n",
       "      (0): Flatten()\n",
       "      (1): Linear(in_features=128, out_features=64, bias=True)\n",
       "      (2): ELU(alpha=1.0, inplace=True)\n",
       "      (3): Linear(in_features=64, out_features=32, bias=True)\n",
       "      (4): ELU(alpha=1.0, inplace=True)\n",
       "      (5): Linear(in_features=32, out_features=10, bias=True)\n",
       "    )\n",
       "  )\n",
       "  (criterion): CrossEntropyLoss()\n",
       ")"
      ]
     },
     "execution_count": 5,
     "metadata": {},
     "output_type": "execute_result"
    }
   ],
   "source": [
    "model = run.get_model()\n",
    "model"
   ]
  },
  {
   "cell_type": "code",
   "execution_count": 6,
   "metadata": {},
   "outputs": [
    {
     "name": "stdout",
     "output_type": "stream",
     "text": [
      "| [Pushed] .dataset.mode: 'val'\n",
      "| .dataset.name: 'kmnist'\n",
      "| [Pushed] .dataset._type: 'dataset/kmnist'\n",
      "| .dataset.use_default_dataroot: True (by default)\n",
      "| [Pushed] .dataset.dataroot: 'C:\\\\Users\\\\anwan\\\\Documents\\\\workspace\\\\local_data'\n",
      "| [Pushed] .dataset.train: False\n",
      "| ..seed: 0\n",
      "| CREATING .dataset (type=dataset/kmnist)\n",
      "|  > dataroot: 'C:\\\\Users\\\\anwan\\\\Documents\\\\workspace\\\\local_data'\n",
      "|  > download: False\n",
      "|  > train: False\n",
      "|  > labeled: True\n",
      "|  > resize: True (by default)\n",
      "| .device: 'cuda'\n",
      "Dataset moved to cuda\n",
      "| [Pushed] din: (1, 32, 32)\n",
      "| [Pushed] dout: 10\n",
      "| store_keys [list with 2 item/s]\n",
      "|  > (0): 'din'\n",
      "|  > (1): 'dout'\n"
     ]
    },
    {
     "name": "stderr",
     "output_type": "stream",
     "text": [
      "C:\\Users\\anwan\\Anaconda3\\lib\\site-packages\\torch\\nn\\functional.py:2973: UserWarning: Default upsampling behavior when mode=bilinear is changed to align_corners=False since 0.4.0. Please specify align_corners=True if the old behavior is desired. See the documentation of nn.Upsample for details.\n",
      "  \"See the documentation of nn.Upsample for details.\".format(mode))\n"
     ]
    },
    {
     "data": {
      "text/plain": [
       "10000"
      ]
     },
     "execution_count": 6,
     "metadata": {},
     "output_type": "execute_result"
    }
   ],
   "source": [
    "dataset = run.get_datasets('val')\n",
    "len(dataset)"
   ]
  },
  {
   "cell_type": "code",
   "execution_count": 7,
   "metadata": {},
   "outputs": [
    {
     "data": {
      "text/plain": [
       "(torch.Size([16, 1, 32, 32]), torch.Size([16]))"
      ]
     },
     "execution_count": 7,
     "metadata": {},
     "output_type": "execute_result"
    }
   ],
   "source": [
    "x, y = dataset[:16]\n",
    "x.shape,y.shape"
   ]
  },
  {
   "cell_type": "code",
   "execution_count": 8,
   "metadata": {},
   "outputs": [
    {
     "data": {
      "image/png": "[encoded data removed]",
      "text/plain": [
       "<Figure size 432x432 with 16 Axes>"
      ]
     },
     "metadata": {
      "needs_background": "light"
     },
     "output_type": "display_data"
    }
   ],
   "source": [
    "util.show_imgs(x)\n",
    "pass"
   ]
  },
  {
   "cell_type": "code",
   "execution_count": 9,
   "metadata": {},
   "outputs": [
    {
     "data": {
      "text/plain": [
       "tensor([[ -2.5766,  -2.7925,   2.2846,   1.7349,   1.1957,  -0.2563,  -4.2616,   1.7441,  -1.0854,   2.2306],\n",
       "        [ -0.5861,  -1.4711,  -3.0746,  -3.7451,   3.1004,  -1.4446,  -6.6697,  -0.1951,  -6.5335,  10.6756],\n",
       "        [ -4.3772,  -4.6213,  -1.2127,  17.8128,   3.6766,   0.7443,  -1.2228,  -4.9710,  -0.4974,  -6.1887],\n",
       "        [ -3.0280,  -4.0744,   0.8554,  -0.0905,  -0.9569,  -0.4674,  -0.9485,  -4.4238,   9.5038,  -6.4720],\n",
       "        [ -2.1105, -12.1973,  -7.8462,  16.1361,  -1.1765,   1.5532,  -1.8022,  -1.4526,  -0.8510,  -6.7446],\n",
       "        [ -6.5187,  -6.5875,  -3.3810,  16.5665,   4.6124,  -1.2272,  -1.4919,  -4.3104,   2.7163,  -2.9622],\n",
       "        [ -2.5398,  -4.4363,  -4.1926,  -2.2749,   3.3603,  -5.0010,  -9.9681,  -4.5977,  18.4952,  -6.9992],\n",
       "        [ -4.5486,  -1.8424,  -3.9699,   8.1636,  -2.9609,   4.1486,  -1.4026,   0.4824,  -2.9133,  -0.4827],\n",
       "        [ -1.8243,   1.2205,   1.5693,   5.0328,  -2.4011,   2.3253,  -0.4907,  -4.1365,  -2.4633,  -0.9027],\n",
       "        [ -3.6084,  -1.0904,   0.4615,   4.2912,  -1.9867,   8.9215,  -1.2430,  -1.7026,  -3.3233,  -3.0375],\n",
       "        [  1.2895,   6.0981,   0.4259,  -8.1418,   0.0669,  -6.5624,  13.0741,  -1.5221,  -3.7388,  -5.5355],\n",
       "        [ -6.5085, -15.1760,  -3.5287,  17.5386,  -0.3726,   2.2155,  -1.3234,  -0.2123,  -3.2542, -10.9927],\n",
       "        [ -1.2020, -10.2417,  -5.7706,  12.8467,   1.5348,   5.4059,   3.9396,  -6.3236,   0.8188,  -9.5349],\n",
       "        [ -2.7423,  -3.6686,  -3.4132,  10.2673,  -2.6999,   2.0181,  -0.1339,  -3.5536,   0.5226,  -3.0130],\n",
       "        [ -4.8511,  12.8246,   1.9301,  -7.6331,  -1.6031,  -3.8202,  -8.7119,  -0.4833,   5.7086,   1.7463],\n",
       "        [ -3.6711,  -0.4013,   0.0671,   0.6685,  -1.7146,   7.8001,  -1.8051,  -3.0733,  -0.9425,  -0.3631]],\n",
       "       device='cuda:0')"
      ]
     },
     "execution_count": 9,
     "metadata": {},
     "output_type": "execute_result"
    }
   ],
   "source": [
    "with torch.no_grad():\n",
    "    pred = model(x)\n",
    "pred"
   ]
  },
  {
   "cell_type": "code",
   "execution_count": null,
   "metadata": {},
   "outputs": [],
   "source": []
  },
  {
   "cell_type": "code",
   "execution_count": null,
   "metadata": {},
   "outputs": [],
   "source": []
  },
  {
   "cell_type": "code",
   "execution_count": null,
   "metadata": {},
   "outputs": [],
   "source": []
  },
  {
   "cell_type": "code",
   "execution_count": null,
   "metadata": {},
   "outputs": [],
   "source": []
  },
  {
   "cell_type": "code",
   "execution_count": null,
   "metadata": {},
   "outputs": [],
   "source": []
  }
 ],
 "metadata": {
  "kernelspec": {
   "display_name": "Python 3",
   "language": "python",
   "name": "python3"
  },
  "language_info": {
   "codemirror_mode": {
    "name": "ipython",
    "version": 3
   },
   "file_extension": ".py",
   "mimetype": "text/x-python",
   "name": "python",
   "nbconvert_exporter": "python",
   "pygments_lexer": "ipython3",
   "version": "3.7.6"
  }
 },
 "nbformat": 4,
 "nbformat_minor": 4
}
