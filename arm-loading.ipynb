{
 "cells": [
  {
   "cell_type": "code",
   "execution_count": 3,
   "metadata": {},
   "outputs": [
    {
     "name": "stderr",
     "output_type": "stream",
     "text": [
      "/home/fleeb/anaconda3/lib/python3.6/importlib/_bootstrap.py:219: RuntimeWarning: numpy.dtype size changed, may indicate binary incompatibility. Expected 96, got 88\n",
      "  return f(*args, **kwds)\n",
      "/home/fleeb/anaconda3/lib/python3.6/site-packages/h5py/__init__.py:36: FutureWarning: Conversion of the second argument of issubdtype from `float` to `np.floating` is deprecated. In future, it will be treated as `np.float64 == np.dtype(float).type`.\n",
      "  from ._conv import register_converters as _register_converters\n",
      "/home/fleeb/anaconda3/lib/python3.6/importlib/_bootstrap.py:219: RuntimeWarning: numpy.dtype size changed, may indicate binary incompatibility. Expected 96, got 88\n",
      "  return f(*args, **kwds)\n",
      "/home/fleeb/anaconda3/lib/python3.6/importlib/_bootstrap.py:219: RuntimeWarning: numpy.dtype size changed, may indicate binary incompatibility. Expected 96, got 88\n",
      "  return f(*args, **kwds)\n"
     ]
    }
   ],
   "source": [
    "import sys, os\n",
    "%load_ext autoreload\n",
    "%autoreload 2\n",
    "import torch\n",
    "import torch.nn.functional as F\n",
    "from torch.autograd import grad\n",
    "import torch.distributions as distrib\n",
    "import torch.nn as nn\n",
    "import torch.utils.data as td\n",
    "from torch.utils.data import Dataset, DataLoader, TensorDataset\n",
    "import gym\n",
    "import numpy as np\n",
    "#%matplotlib notebook\n",
    "%matplotlib tk\n",
    "\n",
    "import matplotlib.pyplot as plt\n",
    "#plt.switch_backend('Qt5Agg') #('Qt5Agg')\n",
    "from scipy.sparse import coo_matrix\n",
    "#from envs import Discrete_Pos_Trap, Gym_Env, Print_Env\n",
    "from torch.distributions.utils import lazy_property\n",
    "import foundation as fd\n",
    "from foundation import util\n",
    "import torch.multiprocessing as mp\n",
    "import h5py as hf\n",
    "import time"
   ]
  },
  {
   "cell_type": "code",
   "execution_count": 4,
   "metadata": {},
   "outputs": [],
   "source": [
    "arm = fd.envs.Arm()\n",
    "\n",
    "root = 'data/'\n",
    "dirs = ['test_0.h5']"
   ]
  },
  {
   "cell_type": "code",
   "execution_count": 5,
   "metadata": {},
   "outputs": [],
   "source": [
    "data = hf.File(os.path.join(root, dirs[0]))"
   ]
  },
  {
   "cell_type": "code",
   "execution_count": 6,
   "metadata": {},
   "outputs": [
    {
     "name": "stdout",
     "output_type": "stream",
     "text": [
      "controls (4, 5, 2)\n",
      "labels (4, 6)\n",
      "lengths (2,)\n",
      "masses (2,)\n",
      "rgbs (4, 6)\n",
      "states (4, 6, 4)\n"
     ]
    }
   ],
   "source": [
    "for k in data.keys():\n",
    "    print(k, data[k].shape)"
   ]
  },
  {
   "cell_type": "code",
   "execution_count": 7,
   "metadata": {},
   "outputs": [
    {
     "data": {
      "text/plain": [
       "<matplotlib.image.AxesImage at 0x7f67cdb66240>"
      ]
     },
     "execution_count": 7,
     "metadata": {},
     "output_type": "execute_result"
    }
   ],
   "source": [
    "plt.figure()\n",
    "plt.imshow(util.str_to_byte_img(data['labels'][1,0]))"
   ]
  },
  {
   "cell_type": "code",
   "execution_count": 20,
   "metadata": {},
   "outputs": [
    {
     "data": {
      "text/plain": [
       "(128, 128, 3)"
      ]
     },
     "execution_count": 20,
     "metadata": {},
     "output_type": "execute_result"
    }
   ],
   "source": [
    "rgbs = [util.str_to_rgb(data['rgbs'][1,i]) for i in range(6)]\n",
    "rgb.shape"
   ]
  },
  {
   "cell_type": "code",
   "execution_count": 21,
   "metadata": {},
   "outputs": [],
   "source": [
    "fig, axes = plt.subplots(6)\n",
    "for rgb, ax in zip(rgbs, axes):\n",
    "    ax.imshow(rgb)"
   ]
  },
  {
   "cell_type": "code",
   "execution_count": 17,
   "metadata": {},
   "outputs": [
    {
     "data": {
      "text/plain": [
       "array([[[-0.38515437,  0.26815736],\n",
       "        [-0.01981318,  0.7928895 ],\n",
       "        [-0.08874404,  0.26461256],\n",
       "        [-0.30221307, -0.19656539],\n",
       "        [-0.9553485 , -0.6622821 ]],\n",
       "\n",
       "       [[-0.05677128, -0.8797674 ],\n",
       "        [ 0.5437317 ,  0.48739874],\n",
       "        [ 0.18884242,  0.7757133 ],\n",
       "        [-0.09793735,  0.59898126],\n",
       "        [-0.7003182 , -0.19706237]],\n",
       "\n",
       "       [[ 0.42718768,  0.23807275],\n",
       "        [-0.11493468, -0.80846274],\n",
       "        [ 0.2283144 , -0.8853446 ],\n",
       "        [ 0.131428  ,  0.06645787],\n",
       "        [-0.21989834,  0.8176969 ]],\n",
       "\n",
       "       [[-0.9414369 ,  0.59971726],\n",
       "        [-0.20572531,  0.5087439 ],\n",
       "        [ 0.13901699, -0.12244415],\n",
       "        [ 0.27736092,  0.04933178],\n",
       "        [ 0.36522818, -0.389701  ]],\n",
       "\n",
       "       [[-0.6779411 , -0.43546283],\n",
       "        [ 0.36321712,  0.83038795],\n",
       "        [-0.20580018,  0.74831176],\n",
       "        [-0.16118336,  0.1058141 ],\n",
       "        [ 0.9054762 , -0.92767036]],\n",
       "\n",
       "       [[ 0.6946373 ,  0.74971247],\n",
       "        [ 0.29662085, -0.5704845 ],\n",
       "        [ 0.89861   , -0.97578263],\n",
       "        [-0.6382456 , -0.62456965],\n",
       "        [-0.4145106 ,  0.19939733]],\n",
       "\n",
       "       [[-0.38443446,  0.9617181 ],\n",
       "        [-0.9794774 , -0.0679183 ],\n",
       "        [-0.07924974,  0.70930946],\n",
       "        [-0.09506953,  0.26331782],\n",
       "        [-0.04800367, -0.5599468 ]],\n",
       "\n",
       "       [[ 0.8741667 ,  0.31119013],\n",
       "        [-0.37240624, -0.60396135],\n",
       "        [-0.16761565, -0.4313407 ],\n",
       "        [-0.32044852,  0.0478816 ],\n",
       "        [ 0.59612775,  0.54353666]],\n",
       "\n",
       "       [[-0.7212758 , -0.89689624],\n",
       "        [-0.8667084 , -0.49208522],\n",
       "        [-0.26274812, -0.9913511 ],\n",
       "        [-0.46818757,  0.01923764],\n",
       "        [ 0.16484416, -0.14335895]],\n",
       "\n",
       "       [[-0.64817965, -0.46033287],\n",
       "        [-0.69864047, -0.936561  ],\n",
       "        [-0.5837405 ,  0.85959804],\n",
       "        [ 0.44621837,  0.48467255],\n",
       "        [ 0.05259156, -0.5126835 ]]], dtype=float32)"
      ]
     },
     "execution_count": 17,
     "metadata": {},
     "output_type": "execute_result"
    }
   ],
   "source": [
    "data['controls'][:]"
   ]
  },
  {
   "cell_type": "code",
   "execution_count": 3,
   "metadata": {},
   "outputs": [
    {
     "name": "stdout",
     "output_type": "stream",
     "text": [
      "found 1 data files in data/strong_arm_seq50\n",
      "found 1 data files in data/strong_arm_seq50_1\n",
      "found 1 data files in data/strong_arm_seq50_2\n",
      "found 1 data files in data/strong_arm_seq50_3\n",
      "actions : torch.Size([4000, 50, 2])\n",
      "states : torch.Size([4000, 51, 8])\n",
      "lengths : torch.Size([2])\n",
      "masses : torch.Size([2])\n"
     ]
    }
   ],
   "source": [
    "ds = []\n",
    "for d in dirs:\n",
    "    d = os.path.join(root, d)\n",
    "    if not os.path.exists(d):\n",
    "        print('{} does not exist'.format(d))\n",
    "    \n",
    "    fs = [f for f in os.listdir(d) if '.pth.tar' in f][:1]\n",
    "    \n",
    "    print('found {} data files in {}'.format(len(fs), d))\n",
    "    \n",
    "    ds.extend([torch.load(os.path.join(d, f)) for f in fs])\n",
    "\n",
    "excluded_keys = {'masses', 'lengths'}\n",
    "raw_data = {}\n",
    "for k in ds[0].keys():\n",
    "    if k not in excluded_keys:\n",
    "        raw_data[k] = torch.cat([d[k] for d in ds])\n",
    "    else:\n",
    "        raw_data[k] = ds[0][k]\n",
    "    print('{} : {}'.format(k, raw_data[k].size()))\n",
    "del ds"
   ]
  },
  {
   "cell_type": "code",
   "execution_count": 4,
   "metadata": {},
   "outputs": [],
   "source": [
    "seq_len = 10\n",
    "tdata = TensorDataset(raw_data['states'][:,:seq_len+1], raw_data['actions'][:,:seq_len])"
   ]
  },
  {
   "cell_type": "code",
   "execution_count": 14,
   "metadata": {},
   "outputs": [],
   "source": [
    "def arm_render(x, y, gx, gy, ht, wd, arm_args={}, base_args={}, hand_args={}, goal_args={}):\n",
    "    plt.switch_backend('Agg') # offscreen rendering\n",
    "    \n",
    "    fig, ax = plt.subplots(figsize=(ht/100, wd/100))\n",
    "    ax.set_xlim(-1.05,1.05)\n",
    "    ax.set_ylim(-1.05,1.05)\n",
    "\n",
    "    ax.plot([gx], [gy], **goal_args)\n",
    "\n",
    "    ax.plot(x, y, **arm_args)\n",
    "    ax.plot([0], [0], **base_args)\n",
    "    ax.plot(x[-1:], y[-1:], **hand_args)\n",
    "    ax.add_artist(plt.Circle((0, 0), 1, color='r', lw=2, fill=False)) # boundary\n",
    "\n",
    "    fig.subplots_adjust(bottom=0., left=0., right=1., top=1.) # full sized image\n",
    "    rgb = util.fig_to_rgba(fig)[:,:,:-1]\n",
    "\n",
    "    plt.close(fig)\n",
    "    del fig\n",
    "    del ax\n",
    "    \n",
    "    lbl_color = lambda n: '#{}'.format(\"{0:#0{1}x}\".format(n,8)[2:])\n",
    "    n = 0\n",
    "\n",
    "    colors = [(0,0,0), (1,0,0), (0,1,0), (0,0,1)]\n",
    "    lbl_color = lambda n: colors[n]\n",
    "\n",
    "    fig, ax = plt.subplots(figsize=(ht/100, wd/100))\n",
    "    ax.set_xlim(-1.05, 1.05)\n",
    "    ax.set_ylim(-1.05, 1.05)\n",
    "\n",
    "    bg = lbl_color(n)  # 0\n",
    "    n += 1\n",
    "    ax.add_artist(plt.Circle((0, 0), 2, color=bg, fill=True))  # boundary\n",
    "\n",
    "    goal_lbl_args = goal_args.copy()\n",
    "    goal_lbl_args['color'] = lbl_color(n)\n",
    "    n+=1\n",
    "\n",
    "    ax.plot([gx], [gy], **goal_lbl_args)\n",
    "\n",
    "    link_colors = [lbl_color(i) for i in range(n,n+2)]\n",
    "    n += 2\n",
    "\n",
    "    arm_lbl_args = arm_args.copy()\n",
    "    mk = arm_lbl_args['marker']\n",
    "    arm_lbl_args['marker'] = ''\n",
    "\n",
    "    for i, (ex, ey, sx, sy, c) in enumerate(zip(x,y,x[1:], y[1:], link_colors)):\n",
    "        arm_lbl_args['color'] = c\n",
    "        ax.plot([sx,ex], [sy,ey], **arm_lbl_args)\n",
    "        if i == 0:\n",
    "            base_lbl_args = base_args.copy()\n",
    "            base_lbl_args['color'] = bg\n",
    "            ax.plot([0], [0], **base_lbl_args)\n",
    "\n",
    "    arm_lbl_args['ls'] = ''\n",
    "    arm_lbl_args['marker'] = mk\n",
    "\n",
    "    for sx, sy, c in zip(x[1:], y[1:], link_colors):\n",
    "        arm_lbl_args['color'] = c\n",
    "        ax.plot([sx], [sy], **arm_lbl_args)\n",
    "\n",
    "    hand_lbl_args = hand_args.copy()\n",
    "    hand_lbl_args['color'] = arm_lbl_args['color'] # color of last\n",
    "    ax.plot(x[-1:], y[-1:], **hand_lbl_args)\n",
    "\n",
    "    fig.subplots_adjust(bottom=0., left=0., right=1., top=1.)  # full sized image\n",
    "    lbl = util.fig_to_rgba(fig)[:,:,:-1]\n",
    "    bg = lbl.sum(2) == 0\n",
    "    lbl = lbl.argmax(2) + 1\n",
    "    lbl[bg] = 0\n",
    "\n",
    "    plt.close(fig)\n",
    "    del fig\n",
    "    del ax\n",
    "    \n",
    "    return rgb, lbl\n",
    "\n",
    "def format_arm(states, actions, step_len=1, seq_len=None, n_links=2, lengths=None, moving_target=True, \n",
    "               imgs=True, img_ht=200, img_wd=200, xy_grid=None, render_args={}): # (seq-len, (n-links+2)*2)\n",
    "    \n",
    "    states = states[::step_len]\n",
    "    actions = actions[::step_len]\n",
    "    \n",
    "    if seq_len is not None:\n",
    "        states = states[:seq_len+1]\n",
    "        actions = actions[:seq_len]\n",
    "    else:\n",
    "        seq_len = actions.size(0)\n",
    "        \n",
    "    if lengths is None:\n",
    "        lengths = torch.ones(n_links)\n",
    "        lengths /= lengths.sum()\n",
    "    lengths = lengths.unsqueeze(0)\n",
    "    \n",
    "    sample = {\n",
    "        'states': states,\n",
    "        'actions': actions,    \n",
    "    }\n",
    "    \n",
    "    x, y = torch.cos(states[:, :n_links]).mul(lengths).cumsum(-1), torch.sin(states[:, :n_links]).mul(lengths).cumsum(-1)\n",
    "    x, y = torch.cat([torch.zeros(seq_len+1,1), x], -1), torch.cat([torch.zeros(seq_len+1,1), y], -1)\n",
    "    \n",
    "    gx, gy = states[:,n_links] * torch.cos(states[:,n_links+1]), \\\n",
    "            states[:,n_links] * torch.sin(states[:,n_links+1])\n",
    "    \n",
    "    poses = torch.zeros(seq_len+1, n_links+1, 3) # [goal, link1, link2]\n",
    "    poses[:, 0, 0], poses[:, 0, 1] = gx, gy\n",
    "    poses[:, 1:, 0], poses[:, 1:, 1] = x[:, :-1], y[:, :-1]\n",
    "    poses[:, 1:, 2] = states[:, :n_links]\n",
    "    poses[:,:,2] %= 2 * np.pi\n",
    "    sample['gtposes'] = poses\n",
    "    \n",
    "    if not imgs:\n",
    "        return sample\n",
    "    \n",
    "    rgbs, labels = [], []\n",
    "    for pos in zip(x.numpy(), y.numpy(), gx.numpy(), gy.numpy()):\n",
    "        rgb, label = arm_render(*pos, ht=img_ht, wd=img_wd, **render_args)\n",
    "        rgbs.append(torch.from_numpy(rgb))\n",
    "        labels.append(torch.from_numpy(label))\n",
    "    \n",
    "    sample['rgbs'] = torch.stack(rgbs).permute(0,3,1,2)\n",
    "    sample['labels'] = torch.stack(labels)\n",
    "    \n",
    "    num_masks = sample['labels'][0].max() + 1\n",
    "    sample['gtmasks'] = torch.zeros(seq_len+1, num_masks, img_ht, img_wd)\n",
    "    \n",
    "    for m in range(num_masks):\n",
    "        sample['gtmasks'][:,m] = sample['labels'] == m\n",
    "    \n",
    "    \n",
    "    \n",
    "    return sample"
   ]
  },
  {
   "cell_type": "code",
   "execution_count": 15,
   "metadata": {},
   "outputs": [],
   "source": [
    "img_wd, img_ht = 128, 128\n",
    "data = fd.data.Format_Dataset(tdata, format_arm, format_args={\n",
    "    'seq_len': 10,\n",
    "    'img_wd': img_wd,\n",
    "    'img_ht': img_ht,\n",
    "    'render_args': {\n",
    "        'base_args':{'color':'k', 'marker':'o', 'ms':7},\n",
    "        'arm_args':{'color':'k', 'ls':'-', 'lw':2.5, 'marker':'o', 'ms':4},\n",
    "        'goal_args':{'color':'#2ca02c', 'marker':'o', 'ms':6},\n",
    "        'hand_args':{'color': '#1f77b4', 'marker':'o', 'ms':6}\n",
    "    }\n",
    "})\n",
    "data.xy_grid = torch.stack([torch.linspace(-1,1,img_wd).view(1, -1).expand(img_ht, img_wd),\n",
    "                           torch.linspace(-1,1,img_ht).view(-1, 1).expand(img_ht, img_wd)]).unsqueeze(0)"
   ]
  },
  {
   "cell_type": "code",
   "execution_count": 16,
   "metadata": {},
   "outputs": [],
   "source": [
    "data_loader = DataLoader(data, batch_size=3, shuffle=False, num_workers=4)\n",
    "samples = iter(data_loader)"
   ]
  },
  {
   "cell_type": "code",
   "execution_count": 17,
   "metadata": {},
   "outputs": [
    {
     "name": "stdout",
     "output_type": "stream",
     "text": [
      "states       : torch.Size([3, 11, 8])\n",
      "actions      : torch.Size([3, 10, 2])\n",
      "gtposes      : torch.Size([3, 11, 3, 3])\n",
      "rgbs         : torch.Size([3, 11, 3, 128, 128])\n",
      "labels       : torch.Size([3, 11, 128, 128])\n",
      "gtmasks      : torch.Size([3, 11, 4, 128, 128])\n"
     ]
    }
   ],
   "source": [
    "sample = next(samples)\n",
    "\n",
    "for k in sample.keys():\n",
    "    print('{:<12} : {}'.format(k, sample[k].size()))"
   ]
  },
  {
   "cell_type": "code",
   "execution_count": 18,
   "metadata": {},
   "outputs": [
    {
     "data": {
      "text/plain": [
       "tensor([[ 0.3449,  0.4849,  0.0000],\n",
       "        [ 0.0000,  0.0000,  2.6169],\n",
       "        [-0.4327,  0.2505,  3.3186]])"
      ]
     },
     "execution_count": 18,
     "metadata": {},
     "output_type": "execute_result"
    }
   ],
   "source": [
    "sample['gtposes'][0,0]"
   ]
  },
  {
   "cell_type": "code",
   "execution_count": 19,
   "metadata": {},
   "outputs": [],
   "source": [
    "plt.switch_backend('TkAgg')\n",
    "plt.ion()\n",
    "plt.figure()\n",
    "plt.imshow(sample['rgbs'][0,0].permute(1,2,0).numpy())\n",
    "plt.figure()\n",
    "plt.imshow(sample['labels'][0,0].numpy())\n",
    "fig, axes = plt.subplots(2,2)\n",
    "axes = axes.flat\n",
    "for m, ax in zip(sample['gtmasks'][0,0].numpy(), axes):\n",
    "    ax.imshow(m)"
   ]
  },
  {
   "cell_type": "code",
   "execution_count": null,
   "metadata": {},
   "outputs": [],
   "source": [
    "plt.close('all')"
   ]
  },
  {
   "cell_type": "code",
   "execution_count": null,
   "metadata": {},
   "outputs": [],
   "source": []
  }
 ],
 "metadata": {
  "kernelspec": {
   "display_name": "Python 3",
   "language": "python",
   "name": "python3"
  },
  "language_info": {
   "codemirror_mode": {
    "name": "ipython",
    "version": 3
   },
   "file_extension": ".py",
   "mimetype": "text/x-python",
   "name": "python",
   "nbconvert_exporter": "python",
   "pygments_lexer": "ipython3",
   "version": "3.6.5"
  }
 },
 "nbformat": 4,
 "nbformat_minor": 2
}
